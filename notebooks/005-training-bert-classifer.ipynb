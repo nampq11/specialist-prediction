{
 "cells": [
  {
   "cell_type": "markdown",
   "id": "2fc0db21-bd49-4b62-ba79-a44a60fc9e81",
   "metadata": {},
   "source": [
    "### Set up"
   ]
  },
  {
   "cell_type": "code",
   "execution_count": 1,
   "id": "a82768dc-e54c-4405-b9da-250f5ad0a0c5",
   "metadata": {},
   "outputs": [],
   "source": [
    "%load_ext autoreload\n",
    "%autoreload 2"
   ]
  },
  {
   "cell_type": "code",
   "execution_count": 2,
   "id": "614cf939-a92a-4c34-8fa9-fc85db9b9443",
   "metadata": {},
   "outputs": [],
   "source": [
    "import sys\n",
    "\n",
    "sys.path.insert(0, '..')"
   ]
  },
  {
   "cell_type": "code",
   "execution_count": 3,
   "id": "2e3feb0d-9132-4998-8ab3-fc36cba5cec0",
   "metadata": {},
   "outputs": [],
   "source": [
    "import re\n",
    "import torch\n",
    "import pandas as pd\n",
    "from tqdm import tqdm\n",
    "from underthesea import word_tokenize\n",
    "from torch.utils.data import DataLoader\n",
    "from transformers import AutoTokenizer, AutoModel\n",
    "from sklearn.preprocessing import LabelEncoder\n",
    "from sklearn.model_selection import train_test_split\n",
    "from src.model.utils import load_file, save_file\n",
    "from src.model.data import TextDataset\n",
    "from src.model.model import BertClassifier\n",
    "from src.model.train import train, test, plot_learning_curve"
   ]
  },
  {
   "cell_type": "markdown",
   "id": "7fe45049-1ba1-40cb-b745-05297e650d44",
   "metadata": {},
   "source": [
    "### Preparing dataset"
   ]
  },
  {
   "cell_type": "code",
   "execution_count": 4,
   "id": "faaf0506-277a-4bd1-bbbf-3612db9e1098",
   "metadata": {},
   "outputs": [],
   "source": [
    "df = pd.read_csv('../data/dataset.csv')"
   ]
  },
  {
   "cell_type": "code",
   "execution_count": 5,
   "id": "fcc88bea-c6a2-44fe-a91e-065e9b91c571",
   "metadata": {},
   "outputs": [
    {
     "data": {
      "text/html": [
       "<div>\n",
       "<style scoped>\n",
       "    .dataframe tbody tr th:only-of-type {\n",
       "        vertical-align: middle;\n",
       "    }\n",
       "\n",
       "    .dataframe tbody tr th {\n",
       "        vertical-align: top;\n",
       "    }\n",
       "\n",
       "    .dataframe thead th {\n",
       "        text-align: right;\n",
       "    }\n",
       "</style>\n",
       "<table border=\"1\" class=\"dataframe\">\n",
       "  <thead>\n",
       "    <tr style=\"text-align: right;\">\n",
       "      <th></th>\n",
       "      <th>Unnamed: 0</th>\n",
       "      <th>partner_id</th>\n",
       "      <th>specialist_id</th>\n",
       "      <th>status</th>\n",
       "      <th>gender</th>\n",
       "      <th>province_id</th>\n",
       "      <th>age</th>\n",
       "      <th>reason_combind</th>\n",
       "      <th>specialist_name</th>\n",
       "    </tr>\n",
       "  </thead>\n",
       "  <tbody>\n",
       "    <tr>\n",
       "      <th>0</th>\n",
       "      <td>0</td>\n",
       "      <td>2</td>\n",
       "      <td>22</td>\n",
       "      <td>2</td>\n",
       "      <td>NaN</td>\n",
       "      <td>1</td>\n",
       "      <td>38</td>\n",
       "      <td>khám tiêu hóa</td>\n",
       "      <td>tiêu hoá</td>\n",
       "    </tr>\n",
       "    <tr>\n",
       "      <th>1</th>\n",
       "      <td>1</td>\n",
       "      <td>2</td>\n",
       "      <td>1</td>\n",
       "      <td>2</td>\n",
       "      <td>NaN</td>\n",
       "      <td>1</td>\n",
       "      <td>29</td>\n",
       "      <td>đau lưng nhiều,ngồi lâu cứng lưng</td>\n",
       "      <td>cơ xương khớp</td>\n",
       "    </tr>\n",
       "    <tr>\n",
       "      <th>2</th>\n",
       "      <td>2</td>\n",
       "      <td>4</td>\n",
       "      <td>3</td>\n",
       "      <td>2</td>\n",
       "      <td>NaN</td>\n",
       "      <td>40</td>\n",
       "      <td>29</td>\n",
       "      <td>hở van tim 3 lá,ngoại tâm thu</td>\n",
       "      <td>tim mạch</td>\n",
       "    </tr>\n",
       "    <tr>\n",
       "      <th>3</th>\n",
       "      <td>3</td>\n",
       "      <td>17</td>\n",
       "      <td>3</td>\n",
       "      <td>2</td>\n",
       "      <td>NaN</td>\n",
       "      <td>10</td>\n",
       "      <td>40</td>\n",
       "      <td>đau tức ngực bên trái,cảm giác hồi hộp</td>\n",
       "      <td>tim mạch</td>\n",
       "    </tr>\n",
       "    <tr>\n",
       "      <th>4</th>\n",
       "      <td>4</td>\n",
       "      <td>17</td>\n",
       "      <td>3</td>\n",
       "      <td>2</td>\n",
       "      <td>NaN</td>\n",
       "      <td>-1</td>\n",
       "      <td>70</td>\n",
       "      <td>cao huyết áp</td>\n",
       "      <td>tim mạch</td>\n",
       "    </tr>\n",
       "  </tbody>\n",
       "</table>\n",
       "</div>"
      ],
      "text/plain": [
       "   Unnamed: 0  partner_id  specialist_id  status  gender  province_id  age  \\\n",
       "0           0           2             22       2     NaN            1   38   \n",
       "1           1           2              1       2     NaN            1   29   \n",
       "2           2           4              3       2     NaN           40   29   \n",
       "3           3          17              3       2     NaN           10   40   \n",
       "4           4          17              3       2     NaN           -1   70   \n",
       "\n",
       "                                  reason_combind specialist_name  \n",
       "0                                khám tiêu hóa        tiêu hoá  \n",
       "1           đau lưng nhiều,ngồi lâu cứng lưng   cơ xương khớp  \n",
       "2               hở van tim 3 lá,ngoại tâm thu        tim mạch  \n",
       "3  đau tức ngực bên trái,cảm giác hồi hộp        tim mạch  \n",
       "4                                 cao huyết áp        tim mạch  "
      ]
     },
     "execution_count": 5,
     "metadata": {},
     "output_type": "execute_result"
    }
   ],
   "source": [
    "df.head()"
   ]
  },
  {
   "cell_type": "code",
   "execution_count": 6,
   "id": "aa0b6549-0cea-477e-af3d-e3967e91838d",
   "metadata": {},
   "outputs": [
    {
     "data": {
      "text/plain": [
       "array(['tiêu hoá', 'cơ xương khớp', 'tim mạch', 'thần kinh',\n",
       "       'tai mũi họng', 'nhi khoa', 'sản phụ khoa', 'nội khoa', 'ung bướu',\n",
       "       'nam học', 'da liễu', 'sức khỏe tâm thần', 'bệnh viêm gan',\n",
       "       'chuyên khoa mắt', 'thận - tiết niệu', 'tiểu đường - nội tiết',\n",
       "       'hô hấp - phổi', 'vô sinh - hiếm muộn'], dtype=object)"
      ]
     },
     "execution_count": 6,
     "metadata": {},
     "output_type": "execute_result"
    }
   ],
   "source": [
    "df.specialist_name.unique()"
   ]
  },
  {
   "cell_type": "code",
   "execution_count": 7,
   "id": "b3e0f2bb-7fc5-4fe9-9e0a-c603a08b6260",
   "metadata": {},
   "outputs": [
    {
     "name": "stdout",
     "output_type": "stream",
     "text": [
      "Updated specialist names:\n",
      "['tiêu hoá' 'cơ xương khớp' 'tim mạch' 'thần kinh' 'tai mũi họng'\n",
      " 'nhi khoa' 'sản phụ khoa' 'nội khoa' 'ung bướu' 'nam học' 'da liễu'\n",
      " 'sức khỏe tâm thần' 'bệnh viêm gan' 'chuyên khoa mắt' 'thận - tiết niệu'\n",
      " 'tiểu đường - nội tiết' 'hô hấp - phổi' 'vô sinh - hiếm muộn']\n"
     ]
    }
   ],
   "source": [
    "# Merge 'chuyên khoa cột sống' to 'cơ xương khớp'\n",
    "df['specialist_name'] = df['specialist_name'].replace('cột sống', 'cơ xương khớp')\n",
    "\n",
    "# Verify the changes\n",
    "print(\"Updated specialist names:\")\n",
    "print(df.specialist_name.unique())"
   ]
  },
  {
   "cell_type": "code",
   "execution_count": 8,
   "id": "303e8de8-7337-4771-a2a3-4cd5942fcd8f",
   "metadata": {},
   "outputs": [
    {
     "name": "stdout",
     "output_type": "stream",
     "text": [
      "Updated specialist names after merging 'khám tổng quát' to 'nội khoa':\n",
      "['tiêu hoá' 'cơ xương khớp' 'tim mạch' 'thần kinh' 'tai mũi họng'\n",
      " 'nhi khoa' 'sản phụ khoa' 'nội khoa' 'ung bướu' 'nam học' 'da liễu'\n",
      " 'sức khỏe tâm thần' 'bệnh viêm gan' 'chuyên khoa mắt' 'thận - tiết niệu'\n",
      " 'tiểu đường - nội tiết' 'hô hấp - phổi' 'vô sinh - hiếm muộn']\n"
     ]
    }
   ],
   "source": [
    "# Merge 'khám tổng quát' to 'nội khoa'\n",
    "df['specialist_name'] = df['specialist_name'].replace('khám tổng quát', 'nội khoa')\n",
    "\n",
    "# Verify the changes\n",
    "print(\"Updated specialist names after merging 'khám tổng quát' to 'nội khoa':\")\n",
    "print(df.specialist_name.unique())"
   ]
  },
  {
   "cell_type": "code",
   "execution_count": 9,
   "id": "a3c70014-7859-4356-a3ad-39a402d79c81",
   "metadata": {},
   "outputs": [
    {
     "name": "stdout",
     "output_type": "stream",
     "text": [
      "Dataset shape after dropping NaN values: (45790, 9)\n",
      "Number of NaN values remaining: 0\n"
     ]
    }
   ],
   "source": [
    "# Drop rows with NaN values\n",
    "df = df.dropna().reset_index(drop=True)\n",
    "\n",
    "# Verify the result\n",
    "print(f\"Dataset shape after dropping NaN values: {df.shape}\")\n",
    "print(f\"Number of NaN values remaining: {df.isna().sum().sum()}\")"
   ]
  },
  {
   "cell_type": "code",
   "execution_count": 10,
   "id": "cd53fc97-fa28-497c-a35b-05cb152bfd89",
   "metadata": {},
   "outputs": [
    {
     "data": {
      "text/html": [
       "<div>\n",
       "<style scoped>\n",
       "    .dataframe tbody tr th:only-of-type {\n",
       "        vertical-align: middle;\n",
       "    }\n",
       "\n",
       "    .dataframe tbody tr th {\n",
       "        vertical-align: top;\n",
       "    }\n",
       "\n",
       "    .dataframe thead th {\n",
       "        text-align: right;\n",
       "    }\n",
       "</style>\n",
       "<table border=\"1\" class=\"dataframe\">\n",
       "  <thead>\n",
       "    <tr style=\"text-align: right;\">\n",
       "      <th></th>\n",
       "      <th>Unnamed: 0</th>\n",
       "      <th>partner_id</th>\n",
       "      <th>specialist_id</th>\n",
       "      <th>status</th>\n",
       "      <th>gender</th>\n",
       "      <th>province_id</th>\n",
       "      <th>age</th>\n",
       "      <th>reason_combind</th>\n",
       "      <th>specialist_name</th>\n",
       "    </tr>\n",
       "  </thead>\n",
       "  <tbody>\n",
       "    <tr>\n",
       "      <th>0</th>\n",
       "      <td>147</td>\n",
       "      <td>2</td>\n",
       "      <td>1</td>\n",
       "      <td>2</td>\n",
       "      <td>1.0</td>\n",
       "      <td>1</td>\n",
       "      <td>33</td>\n",
       "      <td>đau tay phải</td>\n",
       "      <td>cơ xương khớp</td>\n",
       "    </tr>\n",
       "    <tr>\n",
       "      <th>1</th>\n",
       "      <td>925</td>\n",
       "      <td>8</td>\n",
       "      <td>22</td>\n",
       "      <td>2</td>\n",
       "      <td>0.0</td>\n",
       "      <td>34</td>\n",
       "      <td>32</td>\n",
       "      <td>có kl viêm đại trực tràng, viêm hang vị</td>\n",
       "      <td>tiêu hoá</td>\n",
       "    </tr>\n",
       "    <tr>\n",
       "      <th>2</th>\n",
       "      <td>952</td>\n",
       "      <td>3</td>\n",
       "      <td>18</td>\n",
       "      <td>2</td>\n",
       "      <td>0.0</td>\n",
       "      <td>31</td>\n",
       "      <td>47</td>\n",
       "      <td>tê bì một bên môi và dưới cằm</td>\n",
       "      <td>thần kinh</td>\n",
       "    </tr>\n",
       "    <tr>\n",
       "      <th>3</th>\n",
       "      <td>1072</td>\n",
       "      <td>4</td>\n",
       "      <td>18</td>\n",
       "      <td>2</td>\n",
       "      <td>1.0</td>\n",
       "      <td>1</td>\n",
       "      <td>59</td>\n",
       "      <td>có cảm giác kim châm dưới da</td>\n",
       "      <td>thần kinh</td>\n",
       "    </tr>\n",
       "    <tr>\n",
       "      <th>4</th>\n",
       "      <td>1111</td>\n",
       "      <td>8</td>\n",
       "      <td>22</td>\n",
       "      <td>2</td>\n",
       "      <td>0.0</td>\n",
       "      <td>25</td>\n",
       "      <td>29</td>\n",
       "      <td>đau quặn bụng quanh rốn, đau tức hậu môn, đi p...</td>\n",
       "      <td>tiêu hoá</td>\n",
       "    </tr>\n",
       "    <tr>\n",
       "      <th>...</th>\n",
       "      <td>...</td>\n",
       "      <td>...</td>\n",
       "      <td>...</td>\n",
       "      <td>...</td>\n",
       "      <td>...</td>\n",
       "      <td>...</td>\n",
       "      <td>...</td>\n",
       "      <td>...</td>\n",
       "      <td>...</td>\n",
       "    </tr>\n",
       "    <tr>\n",
       "      <th>45785</th>\n",
       "      <td>50162</td>\n",
       "      <td>111</td>\n",
       "      <td>17</td>\n",
       "      <td>2</td>\n",
       "      <td>0.0</td>\n",
       "      <td>74</td>\n",
       "      <td>0</td>\n",
       "      <td>bệnh nhiều thứ . nên đi làm tổng quát</td>\n",
       "      <td>nội khoa</td>\n",
       "    </tr>\n",
       "    <tr>\n",
       "      <th>45786</th>\n",
       "      <td>50163</td>\n",
       "      <td>125</td>\n",
       "      <td>1</td>\n",
       "      <td>2</td>\n",
       "      <td>0.0</td>\n",
       "      <td>74</td>\n",
       "      <td>0</td>\n",
       "      <td>đau khớp vai, cử động tay phải nghe lụp cụp</td>\n",
       "      <td>cơ xương khớp</td>\n",
       "    </tr>\n",
       "    <tr>\n",
       "      <th>45787</th>\n",
       "      <td>50164</td>\n",
       "      <td>410</td>\n",
       "      <td>26</td>\n",
       "      <td>2</td>\n",
       "      <td>0.0</td>\n",
       "      <td>82</td>\n",
       "      <td>0</td>\n",
       "      <td>bìu có nỗi mụt</td>\n",
       "      <td>nam học</td>\n",
       "    </tr>\n",
       "    <tr>\n",
       "      <th>45788</th>\n",
       "      <td>50165</td>\n",
       "      <td>414</td>\n",
       "      <td>1</td>\n",
       "      <td>2</td>\n",
       "      <td>1.0</td>\n",
       "      <td>1</td>\n",
       "      <td>0</td>\n",
       "      <td>trượt chân, ngã ngồi đau khu xương cụt</td>\n",
       "      <td>cơ xương khớp</td>\n",
       "    </tr>\n",
       "    <tr>\n",
       "      <th>45789</th>\n",
       "      <td>50166</td>\n",
       "      <td>8</td>\n",
       "      <td>19</td>\n",
       "      <td>2</td>\n",
       "      <td>1.0</td>\n",
       "      <td>1</td>\n",
       "      <td>0</td>\n",
       "      <td>cấy que tranh thai</td>\n",
       "      <td>sản phụ khoa</td>\n",
       "    </tr>\n",
       "  </tbody>\n",
       "</table>\n",
       "<p>45790 rows × 9 columns</p>\n",
       "</div>"
      ],
      "text/plain": [
       "       Unnamed: 0  partner_id  specialist_id  status  gender  province_id  \\\n",
       "0             147           2              1       2     1.0            1   \n",
       "1             925           8             22       2     0.0           34   \n",
       "2             952           3             18       2     0.0           31   \n",
       "3            1072           4             18       2     1.0            1   \n",
       "4            1111           8             22       2     0.0           25   \n",
       "...           ...         ...            ...     ...     ...          ...   \n",
       "45785       50162         111             17       2     0.0           74   \n",
       "45786       50163         125              1       2     0.0           74   \n",
       "45787       50164         410             26       2     0.0           82   \n",
       "45788       50165         414              1       2     1.0            1   \n",
       "45789       50166           8             19       2     1.0            1   \n",
       "\n",
       "       age                                     reason_combind specialist_name  \n",
       "0       33                                      đau tay phải   cơ xương khớp  \n",
       "1       32            có kl viêm đại trực tràng, viêm hang vị        tiêu hoá  \n",
       "2       47                      tê bì một bên môi và dưới cằm       thần kinh  \n",
       "3       59                       có cảm giác kim châm dưới da       thần kinh  \n",
       "4       29  đau quặn bụng quanh rốn, đau tức hậu môn, đi p...        tiêu hoá  \n",
       "...    ...                                                ...             ...  \n",
       "45785    0              bệnh nhiều thứ . nên đi làm tổng quát        nội khoa  \n",
       "45786    0        đau khớp vai, cử động tay phải nghe lụp cụp   cơ xương khớp  \n",
       "45787    0                                     bìu có nỗi mụt         nam học  \n",
       "45788    0             trượt chân, ngã ngồi đau khu xương cụt   cơ xương khớp  \n",
       "45789    0                                 cấy que tranh thai    sản phụ khoa  \n",
       "\n",
       "[45790 rows x 9 columns]"
      ]
     },
     "execution_count": 10,
     "metadata": {},
     "output_type": "execute_result"
    }
   ],
   "source": [
    "df"
   ]
  },
  {
   "cell_type": "code",
   "execution_count": 11,
   "id": "0d3a0d2b-9eeb-4906-be42-f583468fbe7c",
   "metadata": {},
   "outputs": [],
   "source": [
    "label_encoder = LabelEncoder()\n",
    "label_encoder.fit(df['specialist_name'])\n",
    "labels = label_encoder.transform(df['specialist_name'])"
   ]
  },
  {
   "cell_type": "code",
   "execution_count": 12,
   "id": "7bc8ac18-ec52-4a84-a7fd-e5a0d705c654",
   "metadata": {},
   "outputs": [],
   "source": [
    "save_file('../models/bert/labels.pkl', labels)\n",
    "save_file('../models/bert/label_encoder.pkl', label_encoder)"
   ]
  },
  {
   "cell_type": "code",
   "execution_count": 13,
   "id": "082f6c3d-80c2-4f15-bf1a-0e9e5a5fa49d",
   "metadata": {},
   "outputs": [],
   "source": [
    "input_text = df['reason_combind']"
   ]
  },
  {
   "cell_type": "code",
   "execution_count": 14,
   "id": "7c548b0e-a21b-43fb-98ff-dce0b409f64e",
   "metadata": {},
   "outputs": [
    {
     "name": "stdout",
     "output_type": "stream",
     "text": [
      "Text cleaned of punctuation except apostrophes and Vietnamese diacritical marks\n",
      "đau tay phải\n"
     ]
    }
   ],
   "source": [
    "# Function to remove punctuation except apostrophe and Vietnamese diacritical marks\n",
    "def clean_text(text):\n",
    "    if isinstance(text, str):\n",
    "        # Keep Vietnamese characters, letters, numbers, spaces, apostrophes\n",
    "        # Don't remove diacritical marks like: à, á, â, ã, è, é, ê, ì, í, ò, ó, ô, õ, ù, ú, ý, ă, đ, ĩ, ũ, ơ, ư, ạ, ả, ấ, ầ, ẩ, ẫ, ậ, ắ, ằ, ẳ, ẵ, ặ, ẹ, ẻ, ẽ, ế, ề, ể, ễ, ệ, ỉ, ị, ọ, ỏ, ố, ồ, ổ, ỗ, ộ, ớ, ờ, ở, ỡ, ợ, ụ, ủ, ứ, ừ, ử, ữ, ự, ỳ, ỵ, ỷ, ỹ\n",
    "        # Remove other punctuation like: !\"#$%&()*+,-./:;<=>?@[\\]^_`{|}~\n",
    "        text = re.sub(r'[^\\w\\s\\'\\u00C0-\\u1EF9]', ' ', text)\n",
    "        # Replace multiple spaces with a single space\n",
    "        text = re.sub(r'\\s+', ' ', text).strip()\n",
    "        return text\n",
    "    return \"\"\n",
    "\n",
    "# Apply the cleaning function to the input text\n",
    "input_text = input_text.apply(clean_text)\n",
    "print(\"Text cleaned of punctuation except apostrophes and Vietnamese diacritical marks\")\n",
    "print(input_text.iloc[0])"
   ]
  },
  {
   "cell_type": "code",
   "execution_count": 15,
   "id": "433517d7-a3f8-4790-9aa7-8cae4f53ac0e",
   "metadata": {},
   "outputs": [
    {
     "data": {
      "text/plain": [
       "0                                            đau tay phải\n",
       "1                   có kl viêm đại trực tràng viêm hang vị\n",
       "2                            tê bì một bên môi và dưới cằm\n",
       "3                             có cảm giác kim châm dưới da\n",
       "4        đau quặn bụng quanh rốn đau tức hậu môn đi phâ...\n",
       "                               ...                        \n",
       "45785                  bệnh nhiều thứ nên đi làm tổng quát\n",
       "45786           đau khớp vai cử động tay phải nghe lụp cụp\n",
       "45787                                       bìu có nỗi mụt\n",
       "45788                trượt chân ngã ngồi đau khu xương cụt\n",
       "45789                                   cấy que tranh thai\n",
       "Name: reason_combind, Length: 45790, dtype: object"
      ]
     },
     "execution_count": 15,
     "metadata": {},
     "output_type": "execute_result"
    }
   ],
   "source": [
    "input_text"
   ]
  },
  {
   "cell_type": "code",
   "execution_count": 16,
   "id": "0d527472-f262-45d2-97fd-19927c170eef",
   "metadata": {},
   "outputs": [
    {
     "name": "stdout",
     "output_type": "stream",
     "text": [
      "Text with consecutive 'x' characters removed:\n",
      "đau tay phải\n"
     ]
    }
   ],
   "source": [
    "# Remove more than one consecutive instance of the letter 'x'\n",
    "def remove_consecutive_x(text):\n",
    "    if isinstance(text, str):\n",
    "        # Replace multiple consecutive 'x' or 'X' with a single 'x' or 'X'\n",
    "        text = re.sub(r'[xX]{2,}', lambda m: m.group(0)[0], text)\n",
    "        return text\n",
    "    return \"\"\n",
    "\n",
    "# Apply the function to the input text\n",
    "input_text = input_text.apply(remove_consecutive_x)\n",
    "print(\"Text with consecutive 'x' characters removed:\")\n",
    "print(input_text.iloc[0])"
   ]
  },
  {
   "cell_type": "code",
   "execution_count": 17,
   "id": "2dbbc31e-3c68-4862-83cd-dbeeb8dc03d7",
   "metadata": {},
   "outputs": [
    {
     "name": "stdout",
     "output_type": "stream",
     "text": [
      "Text with multiple spaces cleaned:\n",
      "đau tay phải\n"
     ]
    }
   ],
   "source": [
    "# Replace multiple spaces with a single space\n",
    "def clean_spaces(text):\n",
    "    if isinstance(text, str):\n",
    "        # Replace multiple spaces with a single space\n",
    "        text = re.sub(r'\\s+', ' ', text).strip()\n",
    "        return text\n",
    "    return \"\"\n",
    "\n",
    "# Apply the cleaning function to the input text\n",
    "input_text = input_text.apply(clean_spaces)\n",
    "print(\"Text with multiple spaces cleaned:\")\n",
    "print(input_text.iloc[0])"
   ]
  },
  {
   "cell_type": "code",
   "execution_count": 18,
   "id": "a9aae177-aba6-4965-a125-e21031d4f2a0",
   "metadata": {},
   "outputs": [
    {
     "name": "stdout",
     "output_type": "stream",
     "text": [
      "Text after word tokenization:\n",
      "đau tay_phải\n"
     ]
    }
   ],
   "source": [
    "# Apply word tokenization to each text in the dataset\n",
    "def tokenize_text(text):\n",
    "    if isinstance(text, str):\n",
    "        # Apply underthesea word tokenization with format=\"text\"\n",
    "        # Example output: 'Chàng_trai 9X Quảng_Trị khởi_nghiệp từ nấm sò'\n",
    "        tokenized = word_tokenize(text, format=\"text\")\n",
    "        return tokenized\n",
    "    return \"\"\n",
    "\n",
    "# Apply the tokenization function to the input text\n",
    "input_text = input_text.apply(tokenize_text)\n",
    "print(\"Text after word tokenization:\")\n",
    "print(input_text.iloc[0])"
   ]
  },
  {
   "cell_type": "code",
   "execution_count": 19,
   "id": "fa213545-a853-4c72-b1e5-785eb1ddff68",
   "metadata": {},
   "outputs": [
    {
     "data": {
      "text/plain": [
       "45790"
      ]
     },
     "execution_count": 19,
     "metadata": {},
     "output_type": "execute_result"
    }
   ],
   "source": [
    "len(input_text)"
   ]
  },
  {
   "cell_type": "code",
   "execution_count": 20,
   "id": "b9742ea1-f302-4cfa-8a65-3da31887b3c1",
   "metadata": {},
   "outputs": [],
   "source": [
    "tokenizer = AutoTokenizer.from_pretrained(\"../models/bert\")"
   ]
  },
  {
   "cell_type": "code",
   "execution_count": 21,
   "id": "6ea492d6-2fc5-499f-92d7-b3eb37f931cf",
   "metadata": {},
   "outputs": [
    {
     "name": "stderr",
     "output_type": "stream",
     "text": [
      "100%|████████████████████████████████████████████████████████████████████████████████████████████████████████████████████████████████████████████| 45790/45790 [00:17<00:00, 2569.91it/s]\n"
     ]
    }
   ],
   "source": [
    "tokens = [\n",
    "    tokenizer(\n",
    "        i, padding='max_length', max_length=256,\n",
    "        truncation=True, return_tensors=\"pt\"\n",
    "    )\n",
    "    for i in tqdm(input_text)\n",
    "]"
   ]
  },
  {
   "cell_type": "code",
   "execution_count": 22,
   "id": "35438b4f-ea4e-448d-8904-c926c1d4cf0c",
   "metadata": {},
   "outputs": [],
   "source": [
    "save_file('../data/training/tokens.pkl', tokens)"
   ]
  },
  {
   "cell_type": "markdown",
   "id": "57d97168-d5d7-4ff5-ab94-6b969bd19d1e",
   "metadata": {},
   "source": [
    "### Training"
   ]
  },
  {
   "cell_type": "code",
   "execution_count": 23,
   "id": "1ab44815-0417-4860-b271-5d68a8c1a30c",
   "metadata": {},
   "outputs": [],
   "source": [
    "tokens = load_file('../data/training/tokens.pkl')\n",
    "labels = load_file('../models/bert/labels.pkl')"
   ]
  },
  {
   "cell_type": "code",
   "execution_count": 24,
   "id": "047cbf2d-bd61-4cd9-837e-46950ba458e9",
   "metadata": {},
   "outputs": [],
   "source": [
    "label_encoder = load_file('../models/bert/label_encoder.pkl')\n",
    "num_classes = len(label_encoder.classes_)"
   ]
  },
  {
   "cell_type": "code",
   "execution_count": 25,
   "id": "f0188bf4-98fc-4640-95d9-7e95fd00a11a",
   "metadata": {},
   "outputs": [
    {
     "data": {
      "text/plain": [
       "18"
      ]
     },
     "execution_count": 25,
     "metadata": {},
     "output_type": "execute_result"
    }
   ],
   "source": [
    "num_classes"
   ]
  },
  {
   "cell_type": "code",
   "execution_count": 26,
   "id": "7d4cf964-4a99-4c31-83c2-db7dd5332777",
   "metadata": {},
   "outputs": [],
   "source": [
    "X_train, X_test, y_train, y_test = train_test_split(\n",
    "    tokens, labels, test_size=0.2, random_state=42, stratify=labels\n",
    ")\n",
    "X_train, X_valid, y_train, y_valid = train_test_split(\n",
    "    X_train, y_train, test_size=0.25, random_state=42, stratify=y_train\n",
    ")"
   ]
  },
  {
   "cell_type": "code",
   "execution_count": 27,
   "id": "244ce1d4-850b-406c-976a-c3f89d64228e",
   "metadata": {},
   "outputs": [],
   "source": [
    "train_dataset = TextDataset(X_train, y_train)\n",
    "valid_dataset = TextDataset(X_valid, y_valid)\n",
    "test_dataset = TextDataset(X_test, y_test)"
   ]
  },
  {
   "cell_type": "code",
   "execution_count": 28,
   "id": "da5e3b96-2ef9-4a64-ada4-df65b997ee45",
   "metadata": {},
   "outputs": [],
   "source": [
    "device = torch.device(\"cuda:0\" if torch.cuda.is_available() else \"cpu\")"
   ]
  },
  {
   "cell_type": "code",
   "execution_count": 29,
   "id": "0f2fc433-7835-4ef8-a963-4ded9253b3c6",
   "metadata": {},
   "outputs": [
    {
     "data": {
      "text/plain": [
       "device(type='cuda', index=0)"
      ]
     },
     "execution_count": 29,
     "metadata": {},
     "output_type": "execute_result"
    }
   ],
   "source": [
    "device"
   ]
  },
  {
   "cell_type": "code",
   "execution_count": 30,
   "id": "216f748b-b5ce-4685-bde7-0ec4228de2b8",
   "metadata": {},
   "outputs": [],
   "source": [
    "train_loader = DataLoader(train_dataset, batch_size=32, shuffle=True, drop_last=True)\n",
    "valid_loader = DataLoader(valid_dataset, batch_size=32)\n",
    "test_loader = DataLoader(test_dataset, batch_size=32)"
   ]
  },
  {
   "cell_type": "code",
   "execution_count": 31,
   "id": "ebd68141-068f-4875-a7b5-2221056b6b39",
   "metadata": {},
   "outputs": [],
   "source": [
    "model = BertClassifier(\n",
    "    model_name='../models/bert',\n",
    "    dropout=0.3,\n",
    "    num_classes=num_classes\n",
    ")"
   ]
  },
  {
   "cell_type": "code",
   "execution_count": 32,
   "id": "44d32bff-d4b7-48da-be9e-d906bade808c",
   "metadata": {},
   "outputs": [
    {
     "data": {
      "text/plain": [
       "BertClassifier(\n",
       "  (bert): RobertaModel(\n",
       "    (embeddings): RobertaEmbeddings(\n",
       "      (word_embeddings): Embedding(64001, 768, padding_idx=1)\n",
       "      (position_embeddings): Embedding(258, 768, padding_idx=1)\n",
       "      (token_type_embeddings): Embedding(1, 768)\n",
       "      (LayerNorm): LayerNorm((768,), eps=1e-05, elementwise_affine=True)\n",
       "      (dropout): Dropout(p=0.1, inplace=False)\n",
       "    )\n",
       "    (encoder): RobertaEncoder(\n",
       "      (layer): ModuleList(\n",
       "        (0-11): 12 x RobertaLayer(\n",
       "          (attention): RobertaAttention(\n",
       "            (self): RobertaSdpaSelfAttention(\n",
       "              (query): Linear(in_features=768, out_features=768, bias=True)\n",
       "              (key): Linear(in_features=768, out_features=768, bias=True)\n",
       "              (value): Linear(in_features=768, out_features=768, bias=True)\n",
       "              (dropout): Dropout(p=0.1, inplace=False)\n",
       "            )\n",
       "            (output): RobertaSelfOutput(\n",
       "              (dense): Linear(in_features=768, out_features=768, bias=True)\n",
       "              (LayerNorm): LayerNorm((768,), eps=1e-05, elementwise_affine=True)\n",
       "              (dropout): Dropout(p=0.1, inplace=False)\n",
       "            )\n",
       "          )\n",
       "          (intermediate): RobertaIntermediate(\n",
       "            (dense): Linear(in_features=768, out_features=3072, bias=True)\n",
       "            (intermediate_act_fn): GELUActivation()\n",
       "          )\n",
       "          (output): RobertaOutput(\n",
       "            (dense): Linear(in_features=3072, out_features=768, bias=True)\n",
       "            (LayerNorm): LayerNorm((768,), eps=1e-05, elementwise_affine=True)\n",
       "            (dropout): Dropout(p=0.1, inplace=False)\n",
       "          )\n",
       "        )\n",
       "      )\n",
       "    )\n",
       "    (pooler): RobertaPooler(\n",
       "      (dense): Linear(in_features=768, out_features=768, bias=True)\n",
       "      (activation): Tanh()\n",
       "    )\n",
       "  )\n",
       "  (dropout): Dropout(p=0.3, inplace=False)\n",
       "  (relu): ReLU()\n",
       "  (fc_classifier): Sequential(\n",
       "    (0): Linear(in_features=768, out_features=512, bias=True)\n",
       "    (1): ReLU()\n",
       "    (2): Linear(in_features=512, out_features=18, bias=True)\n",
       "  )\n",
       ")"
      ]
     },
     "execution_count": 32,
     "metadata": {},
     "output_type": "execute_result"
    }
   ],
   "source": [
    "model"
   ]
  },
  {
   "cell_type": "code",
   "execution_count": 33,
   "id": "aba856d4-4dd1-450a-a836-e318faf54d64",
   "metadata": {},
   "outputs": [
    {
     "name": "stdout",
     "output_type": "stream",
     "text": [
      "Total parameters: 135,401,234\n",
      "Trainable parameters: 402,962\n",
      "Non-trainable parameters: 134,998,272\n",
      "Percentage of trainable parameters: 0.30%\n"
     ]
    }
   ],
   "source": [
    "# Calculate and display model parameters\n",
    "total_params = sum(p.numel() for p in model.parameters())\n",
    "trainable_params = sum(p.numel() for p in model.parameters() if p.requires_grad)\n",
    "\n",
    "print(f\"Total parameters: {total_params:,}\")\n",
    "print(f\"Trainable parameters: {trainable_params:,}\")\n",
    "print(f\"Non-trainable parameters: {total_params - trainable_params:,}\")\n",
    "print(f\"Percentage of trainable parameters: {100 * trainable_params / total_params:.2f}%\")"
   ]
  },
  {
   "cell_type": "code",
   "execution_count": 34,
   "id": "2ce5e677-c9c8-49a9-8220-7a6d8cf84178",
   "metadata": {},
   "outputs": [],
   "source": [
    "criterion = torch.nn.CrossEntropyLoss()\n",
    "optimizer = torch.optim.Adam(model.parameters(), lr=5e-2)\n",
    "\n",
    "if torch.cuda.is_available():\n",
    "    model = model.to(device)\n",
    "    criterion = criterion.to(device)"
   ]
  },
  {
   "cell_type": "code",
   "execution_count": 35,
   "id": "5a4e030b-2592-4da5-b119-48e3ac27b657",
   "metadata": {
    "scrolled": true
   },
   "outputs": [
    {
     "name": "stdout",
     "output_type": "stream",
     "text": [
      "Epoch 1 of 2\n"
     ]
    },
    {
     "name": "stderr",
     "output_type": "stream",
     "text": [
      "100%|██████████████████████████████████████████████████████████████████████████████████████████████████████████████████████████████████████████████████| 858/858 [23:52<00:00,  1.67s/it]\n",
      "100%|██████████████████████████████████████████████████████████████████████████████████████████████████████████████████████████████████████████████████| 287/287 [07:32<00:00,  1.58s/it]\n"
     ]
    },
    {
     "name": "stdout",
     "output_type": "stream",
     "text": [
      "Train loss: 2.384920155668592, Validation Loss: 2.204160102568437\n",
      "Best Validation Loss: 2.204160102568437\n",
      "Epoch 2 of 2\n"
     ]
    },
    {
     "name": "stderr",
     "output_type": "stream",
     "text": [
      "100%|██████████████████████████████████████████████████████████████████████████████████████████████████████████████████████████████████████████████████| 858/858 [23:52<00:00,  1.67s/it]\n",
      "100%|██████████████████████████████████████████████████████████████████████████████████████████████████████████████████████████████████████████████████| 287/287 [07:33<00:00,  1.58s/it]"
     ]
    },
    {
     "name": "stdout",
     "output_type": "stream",
     "text": [
      "Train loss: 2.3051232357958815, Validation Loss: 2.230566592166648\n",
      "Best Validation Loss: 2.204160102568437\n"
     ]
    },
    {
     "name": "stderr",
     "output_type": "stream",
     "text": [
      "\n"
     ]
    }
   ],
   "source": [
    "train_losses, valid_losses = train(\n",
    "    train_loader,\n",
    "    valid_loader,\n",
    "    model,\n",
    "    criterion,\n",
    "    optimizer,\n",
    "    device,\n",
    "    num_epochs=2,\n",
    "    model_path='../models/trained/trained.pth'\n",
    ")"
   ]
  },
  {
   "cell_type": "code",
   "execution_count": 36,
   "id": "bd10ef66-ffbd-4ba1-8f95-2277f92e1616",
   "metadata": {},
   "outputs": [
    {
     "data": {
      "image/png": "[encoded data removed]",
      "text/plain": [
       "<Figure size 1000x600 with 1 Axes>"
      ]
     },
     "metadata": {},
     "output_type": "display_data"
    }
   ],
   "source": [
    "plot_learning_curve(\n",
    "    train_losses,\n",
    "    valid_losses,\n",
    ")"
   ]
  },
  {
   "cell_type": "code",
   "execution_count": 37,
   "id": "22988cc4-ca10-4a20-881b-ab0469d813e1",
   "metadata": {},
   "outputs": [
    {
     "name": "stderr",
     "output_type": "stream",
     "text": [
      "100%|██████████████████████████████████████████████████████████████████████████████████████████████████████████████████████████████████████████████████| 287/287 [07:33<00:00,  1.58s/it]"
     ]
    },
    {
     "name": "stdout",
     "output_type": "stream",
     "text": [
      "Test Loss: 2.2362137006965663, Test Accuracy: 0.31765389082462253\n"
     ]
    },
    {
     "name": "stderr",
     "output_type": "stream",
     "text": [
      "\n"
     ]
    }
   ],
   "source": [
    "test(\n",
    "    test_loader,\n",
    "    model,\n",
    "    criterion,\n",
    "    device\n",
    ")"
   ]
  },
  {
   "cell_type": "code",
   "execution_count": 38,
   "id": "d5a7ba5b-c109-4a8c-a12b-f98d28f922b9",
   "metadata": {},
   "outputs": [
    {
     "name": "stderr",
     "output_type": "stream",
     "text": [
      "100%|██████████████████████████████████████████████████████████████████████████████████████████████████████████████████████████████████████████████████| 287/287 [07:33<00:00,  1.58s/it]"
     ]
    },
    {
     "name": "stdout",
     "output_type": "stream",
     "text": [
      "Test Loss: 2.230566592166648, Test Accuracy: 0.3164561556329849\n"
     ]
    },
    {
     "name": "stderr",
     "output_type": "stream",
     "text": [
      "\n"
     ]
    }
   ],
   "source": [
    "test(\n",
    "    valid_loader,\n",
    "    model, \n",
    "    criterion,\n",
    "    device\n",
    ")"
   ]
  },
  {
   "cell_type": "code",
   "execution_count": null,
   "id": "a78f7198-c9cf-4df0-90f6-107ef0fe8fb9",
   "metadata": {},
   "outputs": [],
   "source": []
  },
  {
   "cell_type": "code",
   "execution_count": null,
   "id": "2d16b24e-76b5-4eaf-b069-dec88e0be22e",
   "metadata": {},
   "outputs": [],
   "source": []
  }
 ],
 "metadata": {
  "kernelspec": {
   "display_name": "Python 3 (ipykernel)",
   "language": "python",
   "name": "python3"
  },
  "language_info": {
   "codemirror_mode": {
    "name": "ipython",
    "version": 3
   },
   "file_extension": ".py",
   "mimetype": "text/x-python",
   "name": "python",
   "nbconvert_exporter": "python",
   "pygments_lexer": "ipython3",
   "version": "3.10.15"
  }
 },
 "nbformat": 4,
 "nbformat_minor": 5
}
