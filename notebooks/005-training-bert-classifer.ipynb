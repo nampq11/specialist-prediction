{
 "cells": [
  {
   "cell_type": "markdown",
   "id": "2fc0db21-bd49-4b62-ba79-a44a60fc9e81",
   "metadata": {},
   "source": [
    "### Set up"
   ]
  },
  {
   "cell_type": "code",
   "execution_count": 1,
   "id": "a82768dc-e54c-4405-b9da-250f5ad0a0c5",
   "metadata": {},
   "outputs": [],
   "source": [
    "%load_ext autoreload\n",
    "%autoreload 2"
   ]
  },
  {
   "cell_type": "code",
   "execution_count": 2,
   "id": "614cf939-a92a-4c34-8fa9-fc85db9b9443",
   "metadata": {},
   "outputs": [],
   "source": [
    "import sys\n",
    "\n",
    "sys.path.insert(0, '..')"
   ]
  },
  {
   "cell_type": "code",
   "execution_count": 3,
   "id": "2e3feb0d-9132-4998-8ab3-fc36cba5cec0",
   "metadata": {},
   "outputs": [],
   "source": [
    "import re\n",
    "import torch\n",
    "import pandas as pd\n",
    "from tqdm import tqdm\n",
    "from underthesea import word_tokenize\n",
    "from torch.utils.data import DataLoader\n",
    "from transformers import AutoTokenizer, AutoModel\n",
    "from sklearn.preprocessing import LabelEncoder\n",
    "from sklearn.model_selection import train_test_split\n",
    "from src.model.utils import load_file, save_file\n",
    "from src.model.data import TextDataset\n",
    "from src.model.model import BertClassifier\n",
    "from src.model.train import train, test, plot_learning_curve"
   ]
  },
  {
   "cell_type": "markdown",
   "id": "7fe45049-1ba1-40cb-b745-05297e650d44",
   "metadata": {},
   "source": [
    "### Preparing dataset"
   ]
  },
  {
   "cell_type": "code",
   "execution_count": 4,
   "id": "faaf0506-277a-4bd1-bbbf-3612db9e1098",
   "metadata": {},
   "outputs": [],
   "source": [
    "df = pd.read_csv('../data/data_version1/combined_data.csv')"
   ]
  },
  {
   "cell_type": "code",
   "execution_count": 5,
   "id": "fcc88bea-c6a2-44fe-a91e-065e9b91c571",
   "metadata": {},
   "outputs": [
    {
     "data": {
      "text/html": [
       "<div>\n",
       "<style scoped>\n",
       "    .dataframe tbody tr th:only-of-type {\n",
       "        vertical-align: middle;\n",
       "    }\n",
       "\n",
       "    .dataframe tbody tr th {\n",
       "        vertical-align: top;\n",
       "    }\n",
       "\n",
       "    .dataframe thead th {\n",
       "        text-align: right;\n",
       "    }\n",
       "</style>\n",
       "<table border=\"1\" class=\"dataframe\">\n",
       "  <thead>\n",
       "    <tr style=\"text-align: right;\">\n",
       "      <th></th>\n",
       "      <th>reason_combind</th>\n",
       "      <th>specialist_name</th>\n",
       "      <th>source_file</th>\n",
       "    </tr>\n",
       "  </thead>\n",
       "  <tbody>\n",
       "    <tr>\n",
       "      <th>0</th>\n",
       "      <td>mất ngủ</td>\n",
       "      <td>thần kinh</td>\n",
       "      <td>reason_specialist - thần kinh.csv</td>\n",
       "    </tr>\n",
       "    <tr>\n",
       "      <th>1</th>\n",
       "      <td>rối loạn thần kinh thực vật</td>\n",
       "      <td>thần kinh</td>\n",
       "      <td>reason_specialist - thần kinh.csv</td>\n",
       "    </tr>\n",
       "    <tr>\n",
       "      <th>2</th>\n",
       "      <td>đau đầu</td>\n",
       "      <td>thần kinh</td>\n",
       "      <td>reason_specialist - thần kinh.csv</td>\n",
       "    </tr>\n",
       "    <tr>\n",
       "      <th>3</th>\n",
       "      <td>đau đầu,đau sau ngực gần phổi</td>\n",
       "      <td>thần kinh</td>\n",
       "      <td>reason_specialist - thần kinh.csv</td>\n",
       "    </tr>\n",
       "    <tr>\n",
       "      <th>4</th>\n",
       "      <td>co giật 3 lần</td>\n",
       "      <td>thần kinh</td>\n",
       "      <td>reason_specialist - thần kinh.csv</td>\n",
       "    </tr>\n",
       "  </tbody>\n",
       "</table>\n",
       "</div>"
      ],
      "text/plain": [
       "                      reason_combind specialist_name  \\\n",
       "0                          mất ngủ       thần kinh   \n",
       "1   rối loạn thần kinh thực vật       thần kinh   \n",
       "2                           đau đầu       thần kinh   \n",
       "3  đau đầu,đau sau ngực gần phổi       thần kinh   \n",
       "4                    co giật 3 lần       thần kinh   \n",
       "\n",
       "                         source_file  \n",
       "0  reason_specialist - thần kinh.csv  \n",
       "1  reason_specialist - thần kinh.csv  \n",
       "2  reason_specialist - thần kinh.csv  \n",
       "3  reason_specialist - thần kinh.csv  \n",
       "4  reason_specialist - thần kinh.csv  "
      ]
     },
     "execution_count": 5,
     "metadata": {},
     "output_type": "execute_result"
    }
   ],
   "source": [
    "df.head()"
   ]
  },
  {
   "cell_type": "code",
   "execution_count": 6,
   "id": "aa0b6549-0cea-477e-af3d-e3967e91838d",
   "metadata": {},
   "outputs": [
    {
     "data": {
      "text/plain": [
       "(array(['thần kinh', 'vô sinh - hiếm muộn', 'nhi khoa', 'thận - tiết niệu',\n",
       "        'ung bướu', 'hô hấp - phổi', 'chuyên khoa mắt', 'cơ xương khớp',\n",
       "        'tim mạch', 'tiêu hoá', 'sức khỏe tâm thần', 'nội khoa',\n",
       "        'tiểu đường - nội tiết', 'tai mũi họng', 'nam học', 'da liễu',\n",
       "        'sản phụ khoa'], dtype=object),\n",
       " 17)"
      ]
     },
     "execution_count": 6,
     "metadata": {},
     "output_type": "execute_result"
    }
   ],
   "source": [
    "df.specialist_name.unique(), len(df.specialist_name.unique())"
   ]
  },
  {
   "cell_type": "code",
   "execution_count": 7,
   "id": "b3e0f2bb-7fc5-4fe9-9e0a-c603a08b6260",
   "metadata": {},
   "outputs": [
    {
     "name": "stdout",
     "output_type": "stream",
     "text": [
      "Updated specialist names:\n",
      "['thần kinh' 'vô sinh - hiếm muộn' 'nhi khoa' 'thận - tiết niệu'\n",
      " 'ung bướu' 'hô hấp - phổi' 'chuyên khoa mắt' 'cơ xương khớp' 'tim mạch'\n",
      " 'tiêu hoá' 'sức khỏe tâm thần' 'nội khoa' 'tiểu đường - nội tiết'\n",
      " 'tai mũi họng' 'nam học' 'da liễu' 'sản phụ khoa']\n"
     ]
    }
   ],
   "source": [
    "# Merge 'chuyên khoa cột sống' to 'cơ xương khớp'\n",
    "df['specialist_name'] = df['specialist_name'].replace('cột sống', 'cơ xương khớp')\n",
    "\n",
    "# Verify the changes\n",
    "print(\"Updated specialist names:\")\n",
    "print(df.specialist_name.unique())"
   ]
  },
  {
   "cell_type": "code",
   "execution_count": 8,
   "id": "303e8de8-7337-4771-a2a3-4cd5942fcd8f",
   "metadata": {},
   "outputs": [
    {
     "name": "stdout",
     "output_type": "stream",
     "text": [
      "Updated specialist names after merging 'khám tổng quát' to 'nội khoa':\n",
      "['thần kinh' 'vô sinh - hiếm muộn' 'nhi khoa' 'thận - tiết niệu'\n",
      " 'ung bướu' 'hô hấp - phổi' 'chuyên khoa mắt' 'cơ xương khớp' 'tim mạch'\n",
      " 'tiêu hoá' 'sức khỏe tâm thần' 'nội khoa' 'tiểu đường - nội tiết'\n",
      " 'tai mũi họng' 'nam học' 'da liễu' 'sản phụ khoa']\n"
     ]
    }
   ],
   "source": [
    "# Merge 'khám tổng quát' to 'nội khoa'\n",
    "df['specialist_name'] = df['specialist_name'].replace('khám tổng quát', 'nội khoa')\n",
    "\n",
    "# Verify the changes\n",
    "print(\"Updated specialist names after merging 'khám tổng quát' to 'nội khoa':\")\n",
    "print(df.specialist_name.unique())"
   ]
  },
  {
   "cell_type": "code",
   "execution_count": 9,
   "id": "a3c70014-7859-4356-a3ad-39a402d79c81",
   "metadata": {},
   "outputs": [
    {
     "name": "stdout",
     "output_type": "stream",
     "text": [
      "Dataset shape after dropping NaN values: (53309, 3)\n",
      "Number of NaN values remaining: 0\n"
     ]
    }
   ],
   "source": [
    "# Drop rows with NaN values\n",
    "df = df.dropna().reset_index(drop=True)\n",
    "\n",
    "# Verify the result\n",
    "print(f\"Dataset shape after dropping NaN values: {df.shape}\")\n",
    "print(f\"Number of NaN values remaining: {df.isna().sum().sum()}\")"
   ]
  },
  {
   "cell_type": "code",
   "execution_count": 10,
   "id": "cd53fc97-fa28-497c-a35b-05cb152bfd89",
   "metadata": {},
   "outputs": [
    {
     "data": {
      "text/html": [
       "<div>\n",
       "<style scoped>\n",
       "    .dataframe tbody tr th:only-of-type {\n",
       "        vertical-align: middle;\n",
       "    }\n",
       "\n",
       "    .dataframe tbody tr th {\n",
       "        vertical-align: top;\n",
       "    }\n",
       "\n",
       "    .dataframe thead th {\n",
       "        text-align: right;\n",
       "    }\n",
       "</style>\n",
       "<table border=\"1\" class=\"dataframe\">\n",
       "  <thead>\n",
       "    <tr style=\"text-align: right;\">\n",
       "      <th></th>\n",
       "      <th>reason_combind</th>\n",
       "      <th>specialist_name</th>\n",
       "      <th>source_file</th>\n",
       "    </tr>\n",
       "  </thead>\n",
       "  <tbody>\n",
       "    <tr>\n",
       "      <th>0</th>\n",
       "      <td>mất ngủ</td>\n",
       "      <td>thần kinh</td>\n",
       "      <td>reason_specialist - thần kinh.csv</td>\n",
       "    </tr>\n",
       "    <tr>\n",
       "      <th>1</th>\n",
       "      <td>rối loạn thần kinh thực vật</td>\n",
       "      <td>thần kinh</td>\n",
       "      <td>reason_specialist - thần kinh.csv</td>\n",
       "    </tr>\n",
       "    <tr>\n",
       "      <th>2</th>\n",
       "      <td>đau đầu</td>\n",
       "      <td>thần kinh</td>\n",
       "      <td>reason_specialist - thần kinh.csv</td>\n",
       "    </tr>\n",
       "    <tr>\n",
       "      <th>3</th>\n",
       "      <td>đau đầu,đau sau ngực gần phổi</td>\n",
       "      <td>thần kinh</td>\n",
       "      <td>reason_specialist - thần kinh.csv</td>\n",
       "    </tr>\n",
       "    <tr>\n",
       "      <th>4</th>\n",
       "      <td>co giật 3 lần</td>\n",
       "      <td>thần kinh</td>\n",
       "      <td>reason_specialist - thần kinh.csv</td>\n",
       "    </tr>\n",
       "    <tr>\n",
       "      <th>...</th>\n",
       "      <td>...</td>\n",
       "      <td>...</td>\n",
       "      <td>...</td>\n",
       "    </tr>\n",
       "    <tr>\n",
       "      <th>53304</th>\n",
       "      <td>kiểm tra tử cung và buồng trứng</td>\n",
       "      <td>sản phụ khoa</td>\n",
       "      <td>reason_specialist - sản phụ khoa.csv</td>\n",
       "    </tr>\n",
       "    <tr>\n",
       "      <th>53305</th>\n",
       "      <td>vài tháng có kinh 1 lần</td>\n",
       "      <td>sản phụ khoa</td>\n",
       "      <td>reason_specialist - sản phụ khoa.csv</td>\n",
       "    </tr>\n",
       "    <tr>\n",
       "      <th>53306</th>\n",
       "      <td>tôi đi khám sức khoẻ định kỳ bị viêm lộ tuyến</td>\n",
       "      <td>sản phụ khoa</td>\n",
       "      <td>reason_specialist - sản phụ khoa.csv</td>\n",
       "    </tr>\n",
       "    <tr>\n",
       "      <th>53307</th>\n",
       "      <td>em bị ngứa rát âm đạo, châm chích khó chịu, mu...</td>\n",
       "      <td>sản phụ khoa</td>\n",
       "      <td>reason_specialist - sản phụ khoa.csv</td>\n",
       "    </tr>\n",
       "    <tr>\n",
       "      <th>53308</th>\n",
       "      <td>cấy que tranh thai</td>\n",
       "      <td>sản phụ khoa</td>\n",
       "      <td>reason_specialist - sản phụ khoa.csv</td>\n",
       "    </tr>\n",
       "  </tbody>\n",
       "</table>\n",
       "<p>53309 rows × 3 columns</p>\n",
       "</div>"
      ],
      "text/plain": [
       "                                          reason_combind specialist_name  \\\n",
       "0                                              mất ngủ       thần kinh   \n",
       "1                       rối loạn thần kinh thực vật       thần kinh   \n",
       "2                                               đau đầu       thần kinh   \n",
       "3                      đau đầu,đau sau ngực gần phổi       thần kinh   \n",
       "4                                        co giật 3 lần       thần kinh   \n",
       "...                                                  ...             ...   \n",
       "53304                    kiểm tra tử cung và buồng trứng    sản phụ khoa   \n",
       "53305                            vài tháng có kinh 1 lần    sản phụ khoa   \n",
       "53306      tôi đi khám sức khoẻ định kỳ bị viêm lộ tuyến    sản phụ khoa   \n",
       "53307  em bị ngứa rát âm đạo, châm chích khó chịu, mu...    sản phụ khoa   \n",
       "53308                                 cấy que tranh thai    sản phụ khoa   \n",
       "\n",
       "                                source_file  \n",
       "0         reason_specialist - thần kinh.csv  \n",
       "1         reason_specialist - thần kinh.csv  \n",
       "2         reason_specialist - thần kinh.csv  \n",
       "3         reason_specialist - thần kinh.csv  \n",
       "4         reason_specialist - thần kinh.csv  \n",
       "...                                     ...  \n",
       "53304  reason_specialist - sản phụ khoa.csv  \n",
       "53305  reason_specialist - sản phụ khoa.csv  \n",
       "53306  reason_specialist - sản phụ khoa.csv  \n",
       "53307  reason_specialist - sản phụ khoa.csv  \n",
       "53308  reason_specialist - sản phụ khoa.csv  \n",
       "\n",
       "[53309 rows x 3 columns]"
      ]
     },
     "execution_count": 10,
     "metadata": {},
     "output_type": "execute_result"
    }
   ],
   "source": [
    "df"
   ]
  },
  {
   "cell_type": "code",
   "execution_count": 11,
   "id": "0d3a0d2b-9eeb-4906-be42-f583468fbe7c",
   "metadata": {},
   "outputs": [],
   "source": [
    "label_encoder = LabelEncoder()\n",
    "label_encoder.fit(df['specialist_name'])\n",
    "labels = label_encoder.transform(df['specialist_name'])"
   ]
  },
  {
   "cell_type": "code",
   "execution_count": 12,
   "id": "7bc8ac18-ec52-4a84-a7fd-e5a0d705c654",
   "metadata": {},
   "outputs": [],
   "source": [
    "save_file('../models/bert/labels.pkl', labels)\n",
    "save_file('../models/bert/label_encoder.pkl', label_encoder)"
   ]
  },
  {
   "cell_type": "code",
   "execution_count": 13,
   "id": "082f6c3d-80c2-4f15-bf1a-0e9e5a5fa49d",
   "metadata": {},
   "outputs": [],
   "source": [
    "input_text = df['reason_combind']"
   ]
  },
  {
   "cell_type": "code",
   "execution_count": 14,
   "id": "7c548b0e-a21b-43fb-98ff-dce0b409f64e",
   "metadata": {},
   "outputs": [
    {
     "name": "stdout",
     "output_type": "stream",
     "text": [
      "Text cleaned of punctuation except apostrophes and Vietnamese diacritical marks\n",
      "mất ngủ\n"
     ]
    }
   ],
   "source": [
    "# Function to remove punctuation except apostrophe and Vietnamese diacritical marks\n",
    "def clean_text(text):\n",
    "    if isinstance(text, str):\n",
    "        # Keep Vietnamese characters, letters, numbers, spaces, apostrophes\n",
    "        # Don't remove diacritical marks like: à, á, â, ã, è, é, ê, ì, í, ò, ó, ô, õ, ù, ú, ý, ă, đ, ĩ, ũ, ơ, ư, ạ, ả, ấ, ầ, ẩ, ẫ, ậ, ắ, ằ, ẳ, ẵ, ặ, ẹ, ẻ, ẽ, ế, ề, ể, ễ, ệ, ỉ, ị, ọ, ỏ, ố, ồ, ổ, ỗ, ộ, ớ, ờ, ở, ỡ, ợ, ụ, ủ, ứ, ừ, ử, ữ, ự, ỳ, ỵ, ỷ, ỹ\n",
    "        # Remove other punctuation like: !\"#$%&()*+,-./:;<=>?@[\\]^_`{|}~\n",
    "        text = re.sub(r'[^\\w\\s\\'\\u00C0-\\u1EF9]', ' ', text)\n",
    "        # Replace multiple spaces with a single space\n",
    "        text = re.sub(r'\\s+', ' ', text).strip()\n",
    "        return text\n",
    "    return \"\"\n",
    "\n",
    "# Apply the cleaning function to the input text\n",
    "input_text = input_text.apply(clean_text)\n",
    "print(\"Text cleaned of punctuation except apostrophes and Vietnamese diacritical marks\")\n",
    "print(input_text.iloc[0])"
   ]
  },
  {
   "cell_type": "code",
   "execution_count": 15,
   "id": "433517d7-a3f8-4790-9aa7-8cae4f53ac0e",
   "metadata": {},
   "outputs": [
    {
     "data": {
      "text/plain": [
       "0                                                mất ngủ\n",
       "1                         rối loạn thần kinh thực vật\n",
       "2                                                 đau đầu\n",
       "3                        đau đầu đau sau ngực gần phổi\n",
       "4                                          co giật 3 lần\n",
       "                               ...                        \n",
       "53304                      kiểm tra tử cung và buồng trứng\n",
       "53305                              vài tháng có kinh 1 lần\n",
       "53306        tôi đi khám sức khoẻ định kỳ bị viêm lộ tuyến\n",
       "53307    em bị ngứa rát âm đạo châm chích khó chịu muốn...\n",
       "53308                                   cấy que tranh thai\n",
       "Name: reason_combind, Length: 53309, dtype: object"
      ]
     },
     "execution_count": 15,
     "metadata": {},
     "output_type": "execute_result"
    }
   ],
   "source": [
    "input_text"
   ]
  },
  {
   "cell_type": "code",
   "execution_count": 16,
   "id": "0d527472-f262-45d2-97fd-19927c170eef",
   "metadata": {},
   "outputs": [
    {
     "name": "stdout",
     "output_type": "stream",
     "text": [
      "Text with consecutive 'x' characters removed:\n",
      "mất ngủ\n"
     ]
    }
   ],
   "source": [
    "# Remove more than one consecutive instance of the letter 'x'\n",
    "def remove_consecutive_x(text):\n",
    "    if isinstance(text, str):\n",
    "        # Replace multiple consecutive 'x' or 'X' with a single 'x' or 'X'\n",
    "        text = re.sub(r'[xX]{2,}', lambda m: m.group(0)[0], text)\n",
    "        return text\n",
    "    return \"\"\n",
    "\n",
    "# Apply the function to the input text\n",
    "input_text = input_text.apply(remove_consecutive_x)\n",
    "print(\"Text with consecutive 'x' characters removed:\")\n",
    "print(input_text.iloc[0])"
   ]
  },
  {
   "cell_type": "code",
   "execution_count": 17,
   "id": "2dbbc31e-3c68-4862-83cd-dbeeb8dc03d7",
   "metadata": {},
   "outputs": [
    {
     "name": "stdout",
     "output_type": "stream",
     "text": [
      "Text with multiple spaces cleaned:\n",
      "mất ngủ\n"
     ]
    }
   ],
   "source": [
    "# Replace multiple spaces with a single space\n",
    "def clean_spaces(text):\n",
    "    if isinstance(text, str):\n",
    "        # Replace multiple spaces with a single space\n",
    "        text = re.sub(r'\\s+', ' ', text).strip()\n",
    "        return text\n",
    "    return \"\"\n",
    "\n",
    "# Apply the cleaning function to the input text\n",
    "input_text = input_text.apply(clean_spaces)\n",
    "print(\"Text with multiple spaces cleaned:\")\n",
    "print(input_text.iloc[0])"
   ]
  },
  {
   "cell_type": "code",
   "execution_count": null,
   "id": "a9aae177-aba6-4965-a125-e21031d4f2a0",
   "metadata": {},
   "outputs": [],
   "source": [
    "# Apply word tokenization to each text in the dataset\n",
    "def tokenize_text(text):\n",
    "    if isinstance(text, str):\n",
    "        # Apply underthesea word tokenization with format=\"text\"\n",
    "        # Example output: 'Chàng_trai 9X Quảng_Trị khởi_nghiệp từ nấm sò'\n",
    "        tokenized = word_tokenize(text, format=\"text\")\n",
    "        return tokenized\n",
    "    return \"\"\n",
    "\n",
    "# Apply the tokenization function to the input text\n",
    "input_text = input_text.apply(tokenize_text)\n",
    "print(\"Text after word tokenization:\")\n",
    "print(input_text.iloc[0])"
   ]
  },
  {
   "cell_type": "code",
   "execution_count": 18,
   "id": "fa213545-a853-4c72-b1e5-785eb1ddff68",
   "metadata": {},
   "outputs": [
    {
     "data": {
      "text/plain": [
       "53309"
      ]
     },
     "execution_count": 18,
     "metadata": {},
     "output_type": "execute_result"
    }
   ],
   "source": [
    "len(input_text)"
   ]
  },
  {
   "cell_type": "code",
   "execution_count": 19,
   "id": "b9742ea1-f302-4cfa-8a65-3da31887b3c1",
   "metadata": {},
   "outputs": [],
   "source": [
    "tokenizer = AutoTokenizer.from_pretrained(\"../models/gte\")"
   ]
  },
  {
   "cell_type": "code",
   "execution_count": 20,
   "id": "6ea492d6-2fc5-499f-92d7-b3eb37f931cf",
   "metadata": {},
   "outputs": [
    {
     "name": "stderr",
     "output_type": "stream",
     "text": [
      "100%|███████████████████████████████████| 53309/53309 [00:14<00:00, 3719.43it/s]\n"
     ]
    }
   ],
   "source": [
    "tokens = [\n",
    "    tokenizer(\n",
    "        i, padding='max_length', max_length=256,\n",
    "        truncation=True, return_tensors=\"pt\"\n",
    "    )\n",
    "    for i in tqdm(input_text)\n",
    "]"
   ]
  },
  {
   "cell_type": "code",
   "execution_count": 21,
   "id": "35438b4f-ea4e-448d-8904-c926c1d4cf0c",
   "metadata": {},
   "outputs": [],
   "source": [
    "save_file('../data/training/tokens.pkl', tokens)"
   ]
  },
  {
   "cell_type": "markdown",
   "id": "57d97168-d5d7-4ff5-ab94-6b969bd19d1e",
   "metadata": {},
   "source": [
    "### Training"
   ]
  },
  {
   "cell_type": "code",
   "execution_count": 22,
   "id": "1ab44815-0417-4860-b271-5d68a8c1a30c",
   "metadata": {},
   "outputs": [],
   "source": [
    "tokens = load_file('../data/training/tokens.pkl')\n",
    "labels = load_file('../models/bert/labels.pkl')"
   ]
  },
  {
   "cell_type": "code",
   "execution_count": 23,
   "id": "047cbf2d-bd61-4cd9-837e-46950ba458e9",
   "metadata": {},
   "outputs": [],
   "source": [
    "label_encoder = load_file('../models/bert/label_encoder.pkl')\n",
    "num_classes = len(label_encoder.classes_)"
   ]
  },
  {
   "cell_type": "code",
   "execution_count": 24,
   "id": "f0188bf4-98fc-4640-95d9-7e95fd00a11a",
   "metadata": {},
   "outputs": [
    {
     "data": {
      "text/plain": [
       "17"
      ]
     },
     "execution_count": 24,
     "metadata": {},
     "output_type": "execute_result"
    }
   ],
   "source": [
    "num_classes"
   ]
  },
  {
   "cell_type": "code",
   "execution_count": 25,
   "id": "7d4cf964-4a99-4c31-83c2-db7dd5332777",
   "metadata": {},
   "outputs": [],
   "source": [
    "X_train, X_test, y_train, y_test = train_test_split(\n",
    "    tokens, labels, test_size=0.2, random_state=42, stratify=labels\n",
    ")\n",
    "X_train, X_valid, y_train, y_valid = train_test_split(\n",
    "    X_train, y_train, test_size=0.25, random_state=42, stratify=y_train\n",
    ")"
   ]
  },
  {
   "cell_type": "code",
   "execution_count": 26,
   "id": "e12e36db-c4f5-4676-af0e-58254fd73153",
   "metadata": {},
   "outputs": [
    {
     "data": {
      "text/plain": [
       "{'input_ids': tensor([[     0,   4310,   1451,    352,    524,   8529,   6248,   3809,    352,\n",
       "           6542,   2467,  40532, 125576,      2,      1,      1,      1,      1,\n",
       "              1,      1,      1,      1,      1,      1,      1,      1,      1,\n",
       "              1,      1,      1,      1,      1,      1,      1,      1,      1,\n",
       "              1,      1,      1,      1,      1,      1,      1,      1,      1,\n",
       "              1,      1,      1,      1,      1,      1,      1,      1,      1,\n",
       "              1,      1,      1,      1,      1,      1,      1,      1,      1,\n",
       "              1,      1,      1,      1,      1,      1,      1,      1,      1,\n",
       "              1,      1,      1,      1,      1,      1,      1,      1,      1,\n",
       "              1,      1,      1,      1,      1,      1,      1,      1,      1,\n",
       "              1,      1,      1,      1,      1,      1,      1,      1,      1,\n",
       "              1,      1,      1,      1,      1,      1,      1,      1,      1,\n",
       "              1,      1,      1,      1,      1,      1,      1,      1,      1,\n",
       "              1,      1,      1,      1,      1,      1,      1,      1,      1,\n",
       "              1,      1,      1,      1,      1,      1,      1,      1,      1,\n",
       "              1,      1,      1,      1,      1,      1,      1,      1,      1,\n",
       "              1,      1,      1,      1,      1,      1,      1,      1,      1,\n",
       "              1,      1,      1,      1,      1,      1,      1,      1,      1,\n",
       "              1,      1,      1,      1,      1,      1,      1,      1,      1,\n",
       "              1,      1,      1,      1,      1,      1,      1,      1,      1,\n",
       "              1,      1,      1,      1,      1,      1,      1,      1,      1,\n",
       "              1,      1,      1,      1,      1,      1,      1,      1,      1,\n",
       "              1,      1,      1,      1,      1,      1,      1,      1,      1,\n",
       "              1,      1,      1,      1,      1,      1,      1,      1,      1,\n",
       "              1,      1,      1,      1,      1,      1,      1,      1,      1,\n",
       "              1,      1,      1,      1,      1,      1,      1,      1,      1,\n",
       "              1,      1,      1,      1,      1,      1,      1,      1,      1,\n",
       "              1,      1,      1,      1,      1,      1,      1,      1,      1,\n",
       "              1,      1,      1,      1]]), 'attention_mask': tensor([[1, 1, 1, 1, 1, 1, 1, 1, 1, 1, 1, 1, 1, 1, 0, 0, 0, 0, 0, 0, 0, 0, 0, 0,\n",
       "         0, 0, 0, 0, 0, 0, 0, 0, 0, 0, 0, 0, 0, 0, 0, 0, 0, 0, 0, 0, 0, 0, 0, 0,\n",
       "         0, 0, 0, 0, 0, 0, 0, 0, 0, 0, 0, 0, 0, 0, 0, 0, 0, 0, 0, 0, 0, 0, 0, 0,\n",
       "         0, 0, 0, 0, 0, 0, 0, 0, 0, 0, 0, 0, 0, 0, 0, 0, 0, 0, 0, 0, 0, 0, 0, 0,\n",
       "         0, 0, 0, 0, 0, 0, 0, 0, 0, 0, 0, 0, 0, 0, 0, 0, 0, 0, 0, 0, 0, 0, 0, 0,\n",
       "         0, 0, 0, 0, 0, 0, 0, 0, 0, 0, 0, 0, 0, 0, 0, 0, 0, 0, 0, 0, 0, 0, 0, 0,\n",
       "         0, 0, 0, 0, 0, 0, 0, 0, 0, 0, 0, 0, 0, 0, 0, 0, 0, 0, 0, 0, 0, 0, 0, 0,\n",
       "         0, 0, 0, 0, 0, 0, 0, 0, 0, 0, 0, 0, 0, 0, 0, 0, 0, 0, 0, 0, 0, 0, 0, 0,\n",
       "         0, 0, 0, 0, 0, 0, 0, 0, 0, 0, 0, 0, 0, 0, 0, 0, 0, 0, 0, 0, 0, 0, 0, 0,\n",
       "         0, 0, 0, 0, 0, 0, 0, 0, 0, 0, 0, 0, 0, 0, 0, 0, 0, 0, 0, 0, 0, 0, 0, 0,\n",
       "         0, 0, 0, 0, 0, 0, 0, 0, 0, 0, 0, 0, 0, 0, 0, 0]])}"
      ]
     },
     "execution_count": 26,
     "metadata": {},
     "output_type": "execute_result"
    }
   ],
   "source": [
    "X_train[0]"
   ]
  },
  {
   "cell_type": "code",
   "execution_count": 27,
   "id": "244ce1d4-850b-406c-976a-c3f89d64228e",
   "metadata": {},
   "outputs": [],
   "source": [
    "train_dataset = TextDataset(X_train, y_train)\n",
    "valid_dataset = TextDataset(X_valid, y_valid)\n",
    "test_dataset = TextDataset(X_test, y_test)"
   ]
  },
  {
   "cell_type": "code",
   "execution_count": 28,
   "id": "da5e3b96-2ef9-4a64-ada4-df65b997ee45",
   "metadata": {},
   "outputs": [],
   "source": [
    "device = torch.device(\"cuda:0\" if torch.cuda.is_available() else \"cpu\")"
   ]
  },
  {
   "cell_type": "code",
   "execution_count": 29,
   "id": "0f2fc433-7835-4ef8-a963-4ded9253b3c6",
   "metadata": {},
   "outputs": [
    {
     "data": {
      "text/plain": [
       "device(type='cuda', index=0)"
      ]
     },
     "execution_count": 29,
     "metadata": {},
     "output_type": "execute_result"
    }
   ],
   "source": [
    "device"
   ]
  },
  {
   "cell_type": "code",
   "execution_count": 30,
   "id": "216f748b-b5ce-4685-bde7-0ec4228de2b8",
   "metadata": {},
   "outputs": [],
   "source": [
    "train_loader = DataLoader(train_dataset, batch_size=32, shuffle=True, drop_last=True)\n",
    "valid_loader = DataLoader(valid_dataset, batch_size=32)\n",
    "test_loader = DataLoader(test_dataset, batch_size=32)"
   ]
  },
  {
   "cell_type": "code",
   "execution_count": 31,
   "id": "ebd68141-068f-4875-a7b5-2221056b6b39",
   "metadata": {},
   "outputs": [],
   "source": [
    "model = BertClassifier(\n",
    "    model_name='../models/gte',\n",
    "    dropout=0.2,\n",
    "    num_classes=num_classes\n",
    ")"
   ]
  },
  {
   "cell_type": "code",
   "execution_count": 32,
   "id": "44d32bff-d4b7-48da-be9e-d906bade808c",
   "metadata": {},
   "outputs": [
    {
     "data": {
      "text/plain": [
       "BertClassifier(\n",
       "  (bert): NewModel(\n",
       "    (embeddings): NewEmbeddings(\n",
       "      (word_embeddings): Embedding(250048, 768, padding_idx=1)\n",
       "      (rotary_emb): NTKScalingRotaryEmbedding()\n",
       "      (token_type_embeddings): Embedding(1, 768)\n",
       "      (LayerNorm): LayerNorm((768,), eps=1e-12, elementwise_affine=True)\n",
       "      (dropout): Dropout(p=0.1, inplace=False)\n",
       "    )\n",
       "    (encoder): NewEncoder(\n",
       "      (layer): ModuleList(\n",
       "        (0-11): 12 x NewLayer(\n",
       "          (attention): NewSdpaAttention(\n",
       "            (qkv_proj): Linear(in_features=768, out_features=2304, bias=True)\n",
       "            (dropout): Dropout(p=0.0, inplace=False)\n",
       "            (o_proj): Linear(in_features=768, out_features=768, bias=True)\n",
       "          )\n",
       "          (mlp): NewGatedMLP(\n",
       "            (up_gate_proj): Linear(in_features=768, out_features=6144, bias=False)\n",
       "            (down_proj): Linear(in_features=3072, out_features=768, bias=True)\n",
       "            (act_fn): GELUActivation()\n",
       "            (hidden_dropout): Dropout(p=0.1, inplace=False)\n",
       "          )\n",
       "          (attn_ln): LayerNorm((768,), eps=1e-12, elementwise_affine=True)\n",
       "          (mlp_ln): LayerNorm((768,), eps=1e-12, elementwise_affine=True)\n",
       "          (hidden_dropout): Dropout(p=0.1, inplace=False)\n",
       "        )\n",
       "      )\n",
       "    )\n",
       "  )\n",
       "  (dropout): Dropout(p=0.2, inplace=False)\n",
       "  (relu): ReLU()\n",
       "  (fc_classifier): Sequential(\n",
       "    (0): Linear(in_features=768, out_features=512, bias=True)\n",
       "    (1): ReLU()\n",
       "    (2): Linear(in_features=512, out_features=17, bias=True)\n",
       "  )\n",
       ")"
      ]
     },
     "execution_count": 32,
     "metadata": {},
     "output_type": "execute_result"
    }
   ],
   "source": [
    "model"
   ]
  },
  {
   "cell_type": "code",
   "execution_count": 33,
   "id": "aba856d4-4dd1-450a-a836-e318faf54d64",
   "metadata": {},
   "outputs": [
    {
     "name": "stdout",
     "output_type": "stream",
     "text": [
      "Total parameters: 305,770,769\n",
      "Trainable parameters: 402,449\n",
      "Non-trainable parameters: 305,368,320\n",
      "Percentage of trainable parameters: 0.13%\n"
     ]
    }
   ],
   "source": [
    "# Calculate and display model parameters\n",
    "total_params = sum(p.numel() for p in model.parameters())\n",
    "trainable_params = sum(p.numel() for p in model.parameters() if p.requires_grad)\n",
    "\n",
    "print(f\"Total parameters: {total_params:,}\")\n",
    "print(f\"Trainable parameters: {trainable_params:,}\")\n",
    "print(f\"Non-trainable parameters: {total_params - trainable_params:,}\")\n",
    "print(f\"Percentage of trainable parameters: {100 * trainable_params / total_params:.2f}%\")"
   ]
  },
  {
   "cell_type": "code",
   "execution_count": 34,
   "id": "2ce5e677-c9c8-49a9-8220-7a6d8cf84178",
   "metadata": {},
   "outputs": [],
   "source": [
    "criterion = torch.nn.CrossEntropyLoss()\n",
    "optimizer = torch.optim.Adam(model.parameters(), lr=0.001)\n",
    "\n",
    "if torch.cuda.is_available():\n",
    "    model = model.to(device)\n",
    "    criterion = criterion.to(device)"
   ]
  },
  {
   "cell_type": "code",
   "execution_count": 35,
   "id": "5a4e030b-2592-4da5-b119-48e3ac27b657",
   "metadata": {
    "scrolled": true
   },
   "outputs": [
    {
     "name": "stdout",
     "output_type": "stream",
     "text": [
      "Epoch 1 of 1\n"
     ]
    },
    {
     "name": "stderr",
     "output_type": "stream",
     "text": [
      "  6%|██▎                                       | 55/999 [01:36<27:44,  1.76s/it]\n"
     ]
    },
    {
     "ename": "KeyboardInterrupt",
     "evalue": "",
     "output_type": "error",
     "traceback": [
      "\u001b[0;31m---------------------------------------------------------------------------\u001b[0m",
      "\u001b[0;31mKeyboardInterrupt\u001b[0m                         Traceback (most recent call last)",
      "Cell \u001b[0;32mIn[35], line 1\u001b[0m\n\u001b[0;32m----> 1\u001b[0m train_losses, valid_losses \u001b[38;5;241m=\u001b[39m \u001b[43mtrain\u001b[49m\u001b[43m(\u001b[49m\n\u001b[1;32m      2\u001b[0m \u001b[43m    \u001b[49m\u001b[43mtrain_loader\u001b[49m\u001b[43m,\u001b[49m\n\u001b[1;32m      3\u001b[0m \u001b[43m    \u001b[49m\u001b[43mvalid_loader\u001b[49m\u001b[43m,\u001b[49m\n\u001b[1;32m      4\u001b[0m \u001b[43m    \u001b[49m\u001b[43mmodel\u001b[49m\u001b[43m,\u001b[49m\n\u001b[1;32m      5\u001b[0m \u001b[43m    \u001b[49m\u001b[43mcriterion\u001b[49m\u001b[43m,\u001b[49m\n\u001b[1;32m      6\u001b[0m \u001b[43m    \u001b[49m\u001b[43moptimizer\u001b[49m\u001b[43m,\u001b[49m\n\u001b[1;32m      7\u001b[0m \u001b[43m    \u001b[49m\u001b[43mdevice\u001b[49m\u001b[43m,\u001b[49m\n\u001b[1;32m      8\u001b[0m \u001b[43m    \u001b[49m\u001b[43mnum_epochs\u001b[49m\u001b[38;5;241;43m=\u001b[39;49m\u001b[38;5;241;43m1\u001b[39;49m\u001b[43m,\u001b[49m\n\u001b[1;32m      9\u001b[0m \u001b[43m    \u001b[49m\u001b[43mmodel_path\u001b[49m\u001b[38;5;241;43m=\u001b[39;49m\u001b[38;5;124;43m'\u001b[39;49m\u001b[38;5;124;43m../models/trained/trained.pth\u001b[39;49m\u001b[38;5;124;43m'\u001b[39;49m\n\u001b[1;32m     10\u001b[0m \u001b[43m)\u001b[49m\n",
      "File \u001b[0;32m~/projects/specialist-prediction/notebooks/../src/model/train.py:32\u001b[0m, in \u001b[0;36mtrain\u001b[0;34m(train_loader, valid_loader, model, criterion, optimizer, device, num_epochs, model_path)\u001b[0m\n\u001b[1;32m     29\u001b[0m batch_output \u001b[38;5;241m=\u001b[39m torch\u001b[38;5;241m.\u001b[39msqueeze(batch_output, \u001b[38;5;241m1\u001b[39m)\n\u001b[1;32m     31\u001b[0m loss \u001b[38;5;241m=\u001b[39m criterion(batch_output, batch_labels)\n\u001b[0;32m---> 32\u001b[0m train_loss\u001b[38;5;241m.\u001b[39mappend(\u001b[43mloss\u001b[49m\u001b[38;5;241;43m.\u001b[39;49m\u001b[43mitem\u001b[49m\u001b[43m(\u001b[49m\u001b[43m)\u001b[49m)\n\u001b[1;32m     33\u001b[0m optimizer\u001b[38;5;241m.\u001b[39mzero_grad()\n\u001b[1;32m     34\u001b[0m loss\u001b[38;5;241m.\u001b[39mbackward()\n",
      "\u001b[0;31mKeyboardInterrupt\u001b[0m: "
     ]
    }
   ],
   "source": [
    "train_losses, valid_losses = train(\n",
    "    train_loader,\n",
    "    valid_loader,\n",
    "    model,\n",
    "    criterion,\n",
    "    optimizer,\n",
    "    device,\n",
    "    num_epochs=1,\n",
    "    model_path='../models/trained/trained.pth'\n",
    ")"
   ]
  },
  {
   "cell_type": "code",
   "execution_count": 18,
   "id": "bd10ef66-ffbd-4ba1-8f95-2277f92e1616",
   "metadata": {},
   "outputs": [
    {
     "data": {
      "image/png": "[encoded data removed]",
      "text/plain": [
       "<Figure size 1000x600 with 1 Axes>"
      ]
     },
     "metadata": {},
     "output_type": "display_data"
    }
   ],
   "source": [
    "plot_learning_curve(\n",
    "    train_losses,\n",
    "    valid_losses,\n",
    ")"
   ]
  },
  {
   "cell_type": "code",
   "execution_count": 19,
   "id": "22988cc4-ca10-4a20-881b-ab0469d813e1",
   "metadata": {},
   "outputs": [
    {
     "name": "stderr",
     "output_type": "stream",
     "text": [
      "100%|█████████████████████████████████████████| 334/334 [36:21<00:00,  6.53s/it]"
     ]
    },
    {
     "name": "stdout",
     "output_type": "stream",
     "text": [
      "Test Loss: 0.96201650664478, Test Accuracy: 0.7085516467065869\n"
     ]
    },
    {
     "name": "stderr",
     "output_type": "stream",
     "text": [
      "\n"
     ]
    }
   ],
   "source": [
    "test(\n",
    "    test_loader,\n",
    "    model,\n",
    "    criterion,\n",
    "    device\n",
    ")"
   ]
  },
  {
   "cell_type": "code",
   "execution_count": 20,
   "id": "d5a7ba5b-c109-4a8c-a12b-f98d28f922b9",
   "metadata": {},
   "outputs": [
    {
     "name": "stderr",
     "output_type": "stream",
     "text": [
      "100%|█████████████████████████████████████████| 334/334 [36:18<00:00,  6.52s/it]"
     ]
    },
    {
     "name": "stdout",
     "output_type": "stream",
     "text": [
      "Test Loss: 0.9585873541717758, Test Accuracy: 0.7088635229540918\n"
     ]
    },
    {
     "name": "stderr",
     "output_type": "stream",
     "text": [
      "\n"
     ]
    }
   ],
   "source": [
    "test(\n",
    "    valid_loader,\n",
    "    model, \n",
    "    criterion,\n",
    "    device\n",
    ")"
   ]
  },
  {
   "cell_type": "code",
   "execution_count": 25,
   "id": "a78f7198-c9cf-4df0-90f6-107ef0fe8fb9",
   "metadata": {},
   "outputs": [],
   "source": [
    "# Import nn module from torch\n",
    "import torch.nn as nn\n",
    "\n",
    "# Example of target with class indices\n",
    "loss = nn.CrossEntropyLoss()\n",
    "input = torch.randn(3, 5, requires_grad=True)\n",
    "target = torch.empty(3, dtype=torch.long).random_(5)\n",
    "output = loss(input, target)\n",
    "output.backward()\n",
    "# # Example of target with class probabilities\n",
    "# input = torch.randn(3, 5, requires_grad=True)\n",
    "# target = torch.randn(3, 5).softmax(dim=1)\n",
    "# output = loss(input, target)\n",
    "# output.backward()"
   ]
  },
  {
   "cell_type": "code",
   "execution_count": 26,
   "id": "2d16b24e-76b5-4eaf-b069-dec88e0be22e",
   "metadata": {},
   "outputs": [
    {
     "data": {
      "text/plain": [
       "torch.Size([3, 5])"
      ]
     },
     "execution_count": 26,
     "metadata": {},
     "output_type": "execute_result"
    }
   ],
   "source": [
    "input.shape"
   ]
  },
  {
   "cell_type": "code",
   "execution_count": 27,
   "id": "9966f9e1-bea9-48bb-9a38-8369e766b6cd",
   "metadata": {},
   "outputs": [
    {
     "data": {
      "text/plain": [
       "torch.Size([3])"
      ]
     },
     "execution_count": 27,
     "metadata": {},
     "output_type": "execute_result"
    }
   ],
   "source": [
    "target.shape"
   ]
  },
  {
   "cell_type": "code",
   "execution_count": null,
   "id": "32695e2f-3ede-499d-b9d0-bdda8597b178",
   "metadata": {},
   "outputs": [],
   "source": []
  }
 ],
 "metadata": {
  "kernelspec": {
   "display_name": "Python 3 (ipykernel)",
   "language": "python",
   "name": "python3"
  },
  "language_info": {
   "codemirror_mode": {
    "name": "ipython",
    "version": 3
   },
   "file_extension": ".py",
   "mimetype": "text/x-python",
   "name": "python",
   "nbconvert_exporter": "python",
   "pygments_lexer": "ipython3",
   "version": "3.10.15"
  }
 },
 "nbformat": 4,
 "nbformat_minor": 5
}
