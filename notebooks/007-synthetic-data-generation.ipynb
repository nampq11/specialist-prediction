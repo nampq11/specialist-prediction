{
 "cells": [
  {
   "cell_type": "markdown",
   "id": "fc933fe0-8982-48be-8e17-b54b6ad098b0",
   "metadata": {},
   "source": [
    "## Set up"
   ]
  },
  {
   "cell_type": "code",
   "execution_count": 1,
   "id": "fa2dbfcc-70ac-4329-b0df-1f82cf74f6b5",
   "metadata": {},
   "outputs": [],
   "source": [
    "%load_ext autoreload\n",
    "%autoreload 2"
   ]
  },
  {
   "cell_type": "code",
   "execution_count": 2,
   "id": "91ca46ac-ea01-40b5-940e-6451ce93d4b7",
   "metadata": {},
   "outputs": [],
   "source": [
    "import sys\n",
    "\n",
    "sys.path.insert(0, '..')"
   ]
  },
  {
   "cell_type": "code",
   "execution_count": 3,
   "id": "5d5eb860-59dd-4929-a57a-77eb16da6164",
   "metadata": {},
   "outputs": [],
   "source": [
    "import pandas as pd\n",
    "from tqdm.notebook import tqdm\n",
    "from typing import Optional\n",
    "from tenacity import retry, stop_after_attempt, wait_random_exponential"
   ]
  },
  {
   "cell_type": "code",
   "execution_count": 4,
   "id": "d6d01f57-ee7d-4dde-a9cf-7d02c9c65fc9",
   "metadata": {},
   "outputs": [],
   "source": [
    "from openai import OpenAI\n",
    "from together import Together\n",
    "\n",
    "client = Together(\n",
    "    api_key=\"95981b63ee8bc37a47e013a2946aecab679285179eb3a3c24e1179e38e75c434\"\n",
    ")"
   ]
  },
  {
   "cell_type": "code",
   "execution_count": 5,
   "id": "b2c3d42c-448a-484d-acf6-f71c581de47d",
   "metadata": {},
   "outputs": [
    {
     "name": "stdout",
     "output_type": "stream",
     "text": [
      "The meaning of life is a question that has puzzled philosophers, theologians, scientists, and many others for centuries. It's a complex and subjective topic that can be approached from various perspectives. Here are some possible interpretations:\n",
      "\n",
      "1. **Biological perspective**: From a biological standpoint, the meaning of life could be to survive and reproduce, ensuring the continuation of one's genes and species.\n",
      "2. **Philosophical perspective**: Philosophers have offered various answers, such as:\n",
      "\t* **Hedonism**: The pursuit of pleasure and happiness.\n",
      "\t* **Eudaimonia**: Living a virtuous and fulfilling life, as advocated by Aristotle.\n",
      "\t* **Existentialism**: Creating one's own meaning and purpose in life, as proposed by Jean-Paul Sartre and Martin Heidegger.\n",
      "3. **Religious perspective**: Many religions offer a sense of purpose and meaning, such as:\n",
      "\t* **Christianity**: Living a life of faith, love, and service to others, with the ultimate goal of reunification with God.\n",
      "\t* **Buddhism**: Achieving enlightenment and liberation from suffering through the practice of mindfulness and compassion.\n",
      "\t* **Islam**: Submitting to the will of Allah and living a life of righteousness, with the goal of attaining paradise.\n",
      "4. **Psychological perspective**: Psychologists have identified factors that contribute to a sense of meaning and fulfillment, such as:\n",
      "\t* **Positive relationships**: Building strong connections with others.\n",
      "\t* **Personal growth**: Pursuing self-improvement and self-actualization.\n",
      "\t* **Purposeful work**: Engaging in activities that provide a sense of accomplishment and contribution.\n",
      "5. **Modern perspective**: In recent times, some people have suggested that the meaning of life is:\n",
      "\t* **To find happiness and fulfillment**: Pursuing activities and relationships that bring joy and satisfaction.\n",
      "\t* **To make a positive impact**: Contributing to the greater good and leaving a lasting legacy.\n",
      "\t* **To explore and discover**: Embracing the unknown and pursuing knowledge, wisdom, and personal growth.\n",
      "\n",
      "Ultimately, the meaning of life is a deeply personal and subjective question that each individual must answer for themselves. It may involve a combination of these perspectives or something entirely unique. What gives your life meaning and purpose?\n"
     ]
    }
   ],
   "source": [
    "\n",
    "completion = client.chat.completions.create(\n",
    "  extra_body={},\n",
    "  model=\"meta-llama/Llama-3.3-70B-Instruct-Turbo-Free\",\n",
    "  messages=[\n",
    "    {\n",
    "      \"role\": \"user\",\n",
    "      \"content\": \"What is the meaning of life?\"\n",
    "    }\n",
    "  ],\n",
    "  stream=True,\n",
    ")\n",
    "for chunk in completion:\n",
    "    if chunk.choices[0].delta.content:\n",
    "        print(chunk.choices[0].delta.content, end=\"\", flush=True)\n",
    "print()"
   ]
  },
  {
   "cell_type": "markdown",
   "id": "fcb2f183-72c3-49d3-a2b2-7a9da6b42d04",
   "metadata": {},
   "source": [
    "## Load dataset"
   ]
  },
  {
   "cell_type": "code",
   "execution_count": 7,
   "id": "0cbcb45a-a96c-4785-9599-1dc9b9370aa6",
   "metadata": {},
   "outputs": [
    {
     "data": {
      "text/html": [
       "<div>\n",
       "<style scoped>\n",
       "    .dataframe tbody tr th:only-of-type {\n",
       "        vertical-align: middle;\n",
       "    }\n",
       "\n",
       "    .dataframe tbody tr th {\n",
       "        vertical-align: top;\n",
       "    }\n",
       "\n",
       "    .dataframe thead th {\n",
       "        text-align: right;\n",
       "    }\n",
       "</style>\n",
       "<table border=\"1\" class=\"dataframe\">\n",
       "  <thead>\n",
       "    <tr style=\"text-align: right;\">\n",
       "      <th></th>\n",
       "      <th>partner_id</th>\n",
       "      <th>specialist_id</th>\n",
       "      <th>status</th>\n",
       "      <th>gender</th>\n",
       "      <th>province_id</th>\n",
       "      <th>age</th>\n",
       "      <th>reason_combind</th>\n",
       "      <th>specialist_name</th>\n",
       "      <th>correct_prediction</th>\n",
       "    </tr>\n",
       "  </thead>\n",
       "  <tbody>\n",
       "    <tr>\n",
       "      <th>1480</th>\n",
       "      <td>259</td>\n",
       "      <td>5</td>\n",
       "      <td>2</td>\n",
       "      <td>0.0</td>\n",
       "      <td>56</td>\n",
       "      <td>0</td>\n",
       "      <td>nóng người chảy máu cam</td>\n",
       "      <td>nhi khoa</td>\n",
       "      <td>1</td>\n",
       "    </tr>\n",
       "    <tr>\n",
       "      <th>0</th>\n",
       "      <td>9</td>\n",
       "      <td>5</td>\n",
       "      <td>2</td>\n",
       "      <td>NaN</td>\n",
       "      <td>10</td>\n",
       "      <td>8</td>\n",
       "      <td>viêm a mãn tính</td>\n",
       "      <td>nhi khoa</td>\n",
       "      <td>1</td>\n",
       "    </tr>\n",
       "    <tr>\n",
       "      <th>1478</th>\n",
       "      <td>459</td>\n",
       "      <td>5</td>\n",
       "      <td>2</td>\n",
       "      <td>0.0</td>\n",
       "      <td>79</td>\n",
       "      <td>0</td>\n",
       "      <td>đau bụng vào buổi sáng</td>\n",
       "      <td>nhi khoa</td>\n",
       "      <td>1</td>\n",
       "    </tr>\n",
       "    <tr>\n",
       "      <th>2</th>\n",
       "      <td>9</td>\n",
       "      <td>5</td>\n",
       "      <td>2</td>\n",
       "      <td>NaN</td>\n",
       "      <td>-1</td>\n",
       "      <td>6</td>\n",
       "      <td>đi khám kl bị đau dạ dày</td>\n",
       "      <td>nhi khoa</td>\n",
       "      <td>1</td>\n",
       "    </tr>\n",
       "    <tr>\n",
       "      <th>1476</th>\n",
       "      <td>8</td>\n",
       "      <td>5</td>\n",
       "      <td>2</td>\n",
       "      <td>0.0</td>\n",
       "      <td>1</td>\n",
       "      <td>0</td>\n",
       "      <td>con bị khó ngủ, chậm tăng cân, đổ nhiều mồ hôi...</td>\n",
       "      <td>nhi khoa</td>\n",
       "      <td>1</td>\n",
       "    </tr>\n",
       "  </tbody>\n",
       "</table>\n",
       "</div>"
      ],
      "text/plain": [
       "      partner_id  specialist_id  status  gender  province_id  age  \\\n",
       "1480         259              5       2     0.0           56    0   \n",
       "0              9              5       2     NaN           10    8   \n",
       "1478         459              5       2     0.0           79    0   \n",
       "2              9              5       2     NaN           -1    6   \n",
       "1476           8              5       2     0.0            1    0   \n",
       "\n",
       "                                         reason_combind specialist_name  \\\n",
       "1480                            nóng người chảy máu cam        nhi khoa   \n",
       "0                                     viêm a mãn tính        nhi khoa   \n",
       "1478                             đau bụng vào buổi sáng        nhi khoa   \n",
       "2                          đi khám kl bị đau dạ dày        nhi khoa   \n",
       "1476  con bị khó ngủ, chậm tăng cân, đổ nhiều mồ hôi...        nhi khoa   \n",
       "\n",
       "      correct_prediction  \n",
       "1480                   1  \n",
       "0                      1  \n",
       "1478                   1  \n",
       "2                      1  \n",
       "1476                   1  "
      ]
     },
     "execution_count": 7,
     "metadata": {},
     "output_type": "execute_result"
    }
   ],
   "source": [
    "df = pd.read_csv('../data/data_version1/reason_specialist - nhi khoa.csv', index_col=0)\n",
    "df.head()"
   ]
  },
  {
   "cell_type": "code",
   "execution_count": 59,
   "id": "5ab02d8d-4489-4b86-935b-72e00b944ff3",
   "metadata": {},
   "outputs": [],
   "source": [
    "template = \"\"\"You are a medical text transformation system that converts examination reasons into user questions ONLY if they contain actual symptoms or diseases.\n",
    "\n",
    "# Rules:\n",
    "1. Convert examination reasons to questions about which specialty to visit ONLY if they contain actual symptoms or diseases\n",
    "2. CORRECT ANY SPELLING ERRORS OR TYPOS in the symptoms/diseases before using them in questions\n",
    "3. Subject handling:\n",
    "   - If input contains \"cháu\" → keep \"Cháu bị [symptoms]\" in the output\n",
    "   - If specialist is \"nhi khoa\" but no subject is mentioned → use \"Con tôi bị [symptoms]\"\n",
    "   - For all other cases → use \"Tôi bị [symptoms]\"\n",
    "4. Format: \"[Subject] bị [corrected symptoms/disease] thì nên đi khám khoa nào?\"\n",
    "5. Return null for ANY of these cases:\n",
    "   - No symptoms (e.g., routine checkup, administrative procedures)\n",
    "   - Past surgical procedures without symptoms (e.g., \"đã mổ...\")\n",
    "   - Medical history without current symptoms\n",
    "   - Any non-symptom or non-disease information\n",
    "6. Keep all actual symptoms/diseases from the original reason (but with corrected spelling)\n",
    "7. NEVER mention the specialty name in the question\n",
    "\n",
    "# Types of text to return null for:\n",
    "- Surgical history without symptoms\n",
    "- Routine checkups\n",
    "- Follow-up appointments\n",
    "- Administrative requests\n",
    "- Past medical procedures without current symptoms\n",
    "- Medical record requests\n",
    "- Test results without symptoms\n",
    "\n",
    "# Examples:\n",
    "\n",
    "## Example 1 (Valid - pediatric case):\n",
    "Reason: nóng người chảy máu cam\n",
    "Specialist: nhi khoa\n",
    "Output: {\"user_question\": \"Con tôi bị nóng người chảy máu cam thì nên đi khám khoa nào?\"}\n",
    "\n",
    "## Example 2 (Valid - adult case):\n",
    "Reason: đau đầu, chóng mặt, buồn nôn\n",
    "Specialist: thần kinh\n",
    "Output: {\"user_question\": \"Tôi bị đau đầu, chóng mặt, buồn nôn thì nên đi khám khoa nào?\"}\n",
    "\n",
    "## Example 3 (Invalid - no symptoms):\n",
    "Reason: khám sức khỏe định kỳ\n",
    "Specialist: khoa khám bệnh\n",
    "Output: {\"user_question\": null}\n",
    "\n",
    "## Example 4 (Valid - specific subject \"cháu\"):\n",
    "Reason: cháu mới có biểu hiện nháy mắt\n",
    "Specialist: nhi khoa\n",
    "Output: {\"user_question\": \"Cháu bị nháy mắt thì nên đi khám khoa nào?\"}\n",
    "\n",
    "## Example 5 (Invalid - past procedure):\n",
    "Reason: đã mổ hẹp khúc nối bể thận\n",
    "Specialist: nhi khoa\n",
    "Output: {\"user_question\": null}\n",
    "\n",
    "## Example 6 (Valid - with spelling error):\n",
    "Reason: đau dat dày, ợ chua\n",
    "Specialist: tiêu hóa\n",
    "Output: {\"user_question\": \"Tôi bị đau dạ dày, ợ chua thì nên đi khám khoa nào?\"}\n",
    "\n",
    "## Example 7 (Valid - with typo):\n",
    "Reason: sôt cao, đao họng\n",
    "Specialist: tai mũi họng\n",
    "Output: {\"user_question\": \"Tôi bị sốt cao, đau họng thì nên đi khám khoa nào?\"}\n",
    "\n",
    "# Response Format:\n",
    "Respond in JSON format with a single field:\n",
    "{\n",
    "    \"user_question\": \"The question or null if no symptoms/diseases are present\"\n",
    "}\"\"\""
   ]
  },
  {
   "cell_type": "code",
   "execution_count": 60,
   "id": "15f417b9-92d4-4d69-8e70-ba65d3238b0e",
   "metadata": {},
   "outputs": [],
   "source": [
    "import json\n",
    "\n",
    "@retry(stop=stop_after_attempt(3), wait=wait_random_exponential(min=1, max=60))\n",
    "def generate_question(reason: str, specialist: str) -> Optional[str]:\n",
    "    user_prompt = f\"Reason: {reason}\\nSpecialist: {specialist}\"\n",
    "    try:\n",
    "        response = client.chat.completions.create(\n",
    "            model=\"meta-llama/Llama-3.3-70B-Instruct-Turbo-Free\",\n",
    "            messages=[\n",
    "                {\"role\": \"system\", \"content\": template},\n",
    "                {\"role\": \"user\", \"content\": user_prompt}\n",
    "            ],\n",
    "            response_format={\"type\": \"json_object\"}\n",
    "        )\n",
    "        result = json.loads(response.choices[0].message.content)\n",
    "        print('result after generate: ', result)\n",
    "        return result.get('user_question')\n",
    "        \n",
    "    except Exception as e:\n",
    "        print(f\"Error generating question: {e}\")\n",
    "        return None\n"
   ]
  },
  {
   "cell_type": "code",
   "execution_count": 61,
   "id": "42f1b3c0-830c-4097-bf71-49aef957a271",
   "metadata": {},
   "outputs": [
    {
     "name": "stdout",
     "output_type": "stream",
     "text": [
      "result after generate:  {'user_question': 'Tôi bị đau đầu, chóng mặt, buồn nôn thì nên đi khám khoa nào?'}\n"
     ]
    }
   ],
   "source": [
    "test = generate_question(\n",
    "    reason=\"đau đầu, chóng mặt, buồn nôn\",\n",
    "    specialist=\"thần kinh\"\n",
    ")"
   ]
  },
  {
   "cell_type": "code",
   "execution_count": 62,
   "id": "d3f0860a-a2b7-4d34-9880-9345acd57b96",
   "metadata": {},
   "outputs": [
    {
     "data": {
      "text/plain": [
       "'Tôi bị đau đầu, chóng mặt, buồn nôn thì nên đi khám khoa nào?'"
      ]
     },
     "execution_count": 62,
     "metadata": {},
     "output_type": "execute_result"
    }
   ],
   "source": [
    "test"
   ]
  },
  {
   "cell_type": "code",
   "execution_count": 1,
   "id": "8f6fb480-e97d-4c14-8527-d733d437317e",
   "metadata": {
    "scrolled": true
   },
   "outputs": [
    {
     "ename": "NameError",
     "evalue": "name 'df' is not defined",
     "output_type": "error",
     "traceback": [
      "\u001b[0;31m---------------------------------------------------------------------------\u001b[0m",
      "\u001b[0;31mNameError\u001b[0m                                 Traceback (most recent call last)",
      "Cell \u001b[0;32mIn[1], line 4\u001b[0m\n\u001b[1;32m      1\u001b[0m \u001b[38;5;66;03m# Process first 1000 rows from the dataset\u001b[39;00m\n\u001b[1;32m      2\u001b[0m \u001b[38;5;28;01mfrom\u001b[39;00m\u001b[38;5;250m \u001b[39m\u001b[38;5;21;01mtqdm\u001b[39;00m\u001b[38;5;250m \u001b[39m\u001b[38;5;28;01mimport\u001b[39;00m tqdm\n\u001b[0;32m----> 4\u001b[0m sample_df \u001b[38;5;241m=\u001b[39m \u001b[43mdf\u001b[49m\u001b[38;5;241m.\u001b[39mhead(\u001b[38;5;241m1000\u001b[39m)\u001b[38;5;241m.\u001b[39mcopy()\n\u001b[1;32m      5\u001b[0m sample_df[\u001b[38;5;124m'\u001b[39m\u001b[38;5;124muser_question\u001b[39m\u001b[38;5;124m'\u001b[39m] \u001b[38;5;241m=\u001b[39m \u001b[38;5;28;01mNone\u001b[39;00m\n\u001b[1;32m      7\u001b[0m \u001b[38;5;66;03m# Apply the generate_question function to each row using a for loop with tqdm\u001b[39;00m\n",
      "\u001b[0;31mNameError\u001b[0m: name 'df' is not defined"
     ]
    }
   ],
   "source": [
    "# Process first 1000 rows from the dataset\n",
    "from tqdm import tqdm\n",
    "\n",
    "sample_df = df.head(1000).copy()\n",
    "sample_df['user_question'] = None\n",
    "\n",
    "# Apply the generate_question function to each row using a for loop with tqdm\n",
    "for idx in tqdm(sample_df.index, desc=\"Generating questions\"):\n",
    "    reason = sample_df.loc[idx, 'reason_combind']\n",
    "    specialist = sample_df.loc[idx, 'specialist_name']\n",
    "    question = generate_question(reason=reason, specialist=specialist)\n",
    "    sample_df.loc[idx, 'user_question'] = question\n",
    "    # Print the generated question for visibility\n",
    "    if question:\n",
    "        print(f\"Input: {reason} | Output: {question}\")\n",
    "\n",
    "# Display the results\n",
    "print(f\"Generated questions for {sample_df['user_question'].notna().sum()} out of 1000 rows\")\n",
    "print(f\"Number of null questions: {sample_df['user_question'].isna().sum()}\")\n",
    "\n",
    "# Save the processed data\n",
    "sample_df.to_csv('../data/processed_questions_sample.csv', index=True)\n",
    "sample_df.head()"
   ]
  },
  {
   "cell_type": "markdown",
   "id": "43c123ab-0db4-446a-970d-ccb06e448357",
   "metadata": {},
   "source": [
    "## enhance reason scheduler"
   ]
  },
  {
   "cell_type": "code",
   "execution_count": 6,
   "id": "b24cc848-fcde-428e-9f81-107f582e4737",
   "metadata": {},
   "outputs": [],
   "source": [
    "system_prompt = \"\"\"You are a medical text transformation system that converts examination reasons into symptoms and diseases ONLY when they contain actual symptoms or diseases.\n",
    "\n",
    "# Rules:\n",
    "1. Convert examination reasons to symptoms and diseases ONLY if they contain actual medical conditions\n",
    "2. Correct any spelling errors or typos in the symptoms/diseases before formatting\n",
    "3. Format output as: \"symptom1, symptom2, disease1, disease2\" with all items separated by commas\n",
    "4. Return null for ANY of these cases:\n",
    "   - If symptoms/diseases don't relate to the specialist name\n",
    "   - No symptoms present (e.g., routine checkup, administrative procedures) EXCEPT for \"nội khoa\" specialist\n",
    "   - Past surgical procedures without current symptoms (e.g., \"đã mổ...\")\n",
    "   - Medical history without current symptoms\n",
    "   - Any non-symptom or non-disease information\n",
    "5. Special case: For \"nội khoa\" (internal medicine) specialist, accept examination reasons like \"khám tổng quát\" (general checkup) and return them as is\n",
    "\n",
    "# Types of text to return null for:\n",
    "- Surgical history without symptoms\n",
    "- Routine checkups (except for \"nội khoa\" specialist)\n",
    "- Follow-up appointments\n",
    "- Administrative requests\n",
    "- Past medical procedures without current symptoms\n",
    "- Medical record requests\n",
    "- Test results without symptoms\n",
    "\n",
    "# Response Format:\n",
    "Respond in JSON format with a single field:\n",
    "{\n",
    "    \"result\": \"The symptoms/diseases processed or null if no symptoms/diseases are present\"\n",
    "}\n",
    "\"\"\""
   ]
  },
  {
   "cell_type": "code",
   "execution_count": 7,
   "id": "3508252f-fb5d-4e18-b2cc-015b273261e0",
   "metadata": {},
   "outputs": [],
   "source": [
    "reason = \"khám tổng quát\"\n",
    "specialist = \"nội khoa\""
   ]
  },
  {
   "cell_type": "code",
   "execution_count": 8,
   "id": "b6b7c84a-a4a7-45ce-890d-2822f4605e01",
   "metadata": {},
   "outputs": [
    {
     "name": "stdout",
     "output_type": "stream",
     "text": [
      "{\n",
      "    \"result\": \"khám tổng quát\"\n",
      "}\n"
     ]
    }
   ],
   "source": [
    "user_prompt = f\"Reason: {reason}\\nSpecialist: {specialist}\"\n",
    "\n",
    "completion = client.chat.completions.create(\n",
    "  extra_body={},\n",
    "  model=\"meta-llama/Llama-3.3-70B-Instruct-Turbo-Free\",\n",
    "  messages=[\n",
    "    {\n",
    "        \"role\": \"system\",\n",
    "        \"content\": system_prompt\n",
    "    },\n",
    "    {\n",
    "      \"role\": \"user\",\n",
    "      \"content\": user_prompt\n",
    "    }\n",
    "  ],\n",
    "  stream=True,\n",
    ")\n",
    "for chunk in completion:\n",
    "    if chunk.choices[0].delta.content:\n",
    "        print(chunk.choices[0].delta.content, end=\"\", flush=True)\n",
    "print()"
   ]
  },
  {
   "cell_type": "code",
   "execution_count": 9,
   "id": "5b5ade8c-7d2a-4c39-a8e4-729905919bcc",
   "metadata": {},
   "outputs": [],
   "source": [
    "import json\n",
    "\n",
    "@retry(stop=stop_after_attempt(3), wait=wait_random_exponential(min=1, max=60))\n",
    "def reason_handle(client, reason: str, specialist: str) -> Optional[str]:\n",
    "    user_prompt = f\"Reason: {reason}\\nSpecialist: {specialist}\"\n",
    "    try:\n",
    "        response = client.chat.completions.create(\n",
    "            model=\"meta-llama/Llama-3.3-70B-Instruct-Turbo-Free\",\n",
    "            messages=[\n",
    "                {\"role\": \"system\", \"content\": system_prompt},\n",
    "                {\"role\": \"user\", \"content\": user_prompt}\n",
    "            ],\n",
    "            response_format={\"type\": \"json_object\"}\n",
    "        )\n",
    "        result = json.loads(response.choices[0].message.content)\n",
    "        print('result after generate: ', result)\n",
    "        return result.get('result')\n",
    "        \n",
    "    except Exception as e:\n",
    "        print(f\"Error generating question: {e}\")\n",
    "        return None"
   ]
  },
  {
   "cell_type": "code",
   "execution_count": 11,
   "id": "78ad213e-11fb-4ee0-add9-a1774036c756",
   "metadata": {},
   "outputs": [],
   "source": [
    "# Function to apply generate_question to the entire DataFrame\n",
    "def process_dataframe(client, df, start_idx=0, end_idx=None, output_path='../data/processed_questions.csv'):\n",
    "    \"\"\"\n",
    "    Process the dataframe by applying generate_question function to each row\n",
    "    \n",
    "    Args:\n",
    "        client: API client instance\n",
    "        df (DataFrame): Input dataframe\n",
    "        start_idx (int): Starting index to process from\n",
    "        end_idx (int): Ending index (exclusive), if None process until the end\n",
    "        output_path (str): Path to save the processed dataframe\n",
    "    \n",
    "    Returns:\n",
    "        DataFrame: The processed dataframe with user_question column\n",
    "    \"\"\"\n",
    "    # Make a copy of the dataframe or slice it if needed\n",
    "    if end_idx is None:\n",
    "        processed_df = df.iloc[start_idx:].copy()\n",
    "    else:\n",
    "        processed_df = df.iloc[start_idx:end_idx].copy()\n",
    "    \n",
    "    # Initialize symptoms/diseases column if it doesn't exist\n",
    "    if 'symptoms/diseases' not in processed_df.columns:\n",
    "        processed_df['symptoms/diseases'] = None\n",
    "    \n",
    "    # Apply the generate_question function to each row using a for loop with tqdm\n",
    "    for idx in tqdm(processed_df.index, desc=\"Handle reason combind\"):\n",
    "        reason = processed_df.loc[idx, 'reason_combind']\n",
    "        specialist = processed_df.loc[idx, 'specialist_name']\n",
    "        result = reason_handle(client, reason=reason, specialist=specialist)\n",
    "        processed_df.loc[idx, 'symptoms/diseases'] = result\n",
    "        # Print the generated question for visibility\n",
    "        if result:\n",
    "            print(f\"Input: {reason} | {specialist} | Output: {result}\")\n",
    "        \n",
    "        # Save after every 500 records\n",
    "        if (idx - processed_df.index[0] + 1) % 500 == 0:\n",
    "            interim_path = output_path.replace('.csv', f'_interim_{idx}.csv')\n",
    "            processed_df.to_csv(interim_path, index=True)\n",
    "            print(f\"Saved interim results at index {idx} to {interim_path}\")\n",
    "    \n",
    "    # Display the results\n",
    "    print(f\"Generated questions for {processed_df['symptoms/diseases'].notna().sum()} out of {len(processed_df)} rows\")\n",
    "    print(f\"Number of null questions: {processed_df['symptoms/diseases'].isna().sum()}\")\n",
    "    \n",
    "    # Save the final processed data\n",
    "    processed_df.to_csv(output_path, index=True)\n",
    "    \n",
    "    return processed_df\n"
   ]
  },
  {
   "cell_type": "code",
   "execution_count": 12,
   "id": "04731b9c-df80-45e2-8db0-d85d78850a5f",
   "metadata": {},
   "outputs": [],
   "source": [
    "nhi_khoa_df = pd.read_csv('../data/data_version1/reason_specialist - nhi khoa.csv', index_col=0)"
   ]
  },
  {
   "cell_type": "code",
   "execution_count": 29,
   "id": "bd05276a-7a60-4167-8067-16e39aecfb17",
   "metadata": {},
   "outputs": [
    {
     "data": {
      "text/html": [
       "<div>\n",
       "<style scoped>\n",
       "    .dataframe tbody tr th:only-of-type {\n",
       "        vertical-align: middle;\n",
       "    }\n",
       "\n",
       "    .dataframe tbody tr th {\n",
       "        vertical-align: top;\n",
       "    }\n",
       "\n",
       "    .dataframe thead th {\n",
       "        text-align: right;\n",
       "    }\n",
       "</style>\n",
       "<table border=\"1\" class=\"dataframe\">\n",
       "  <thead>\n",
       "    <tr style=\"text-align: right;\">\n",
       "      <th></th>\n",
       "      <th>partner_id</th>\n",
       "      <th>specialist_id</th>\n",
       "      <th>status</th>\n",
       "      <th>gender</th>\n",
       "      <th>province_id</th>\n",
       "      <th>age</th>\n",
       "      <th>reason_combind</th>\n",
       "      <th>specialist_name</th>\n",
       "      <th>correct_prediction</th>\n",
       "    </tr>\n",
       "  </thead>\n",
       "  <tbody>\n",
       "    <tr>\n",
       "      <th>1480</th>\n",
       "      <td>259</td>\n",
       "      <td>5</td>\n",
       "      <td>2</td>\n",
       "      <td>0.0</td>\n",
       "      <td>56</td>\n",
       "      <td>0</td>\n",
       "      <td>nóng người chảy máu cam</td>\n",
       "      <td>nhi khoa</td>\n",
       "      <td>1</td>\n",
       "    </tr>\n",
       "    <tr>\n",
       "      <th>0</th>\n",
       "      <td>9</td>\n",
       "      <td>5</td>\n",
       "      <td>2</td>\n",
       "      <td>NaN</td>\n",
       "      <td>10</td>\n",
       "      <td>8</td>\n",
       "      <td>viêm a mãn tính</td>\n",
       "      <td>nhi khoa</td>\n",
       "      <td>1</td>\n",
       "    </tr>\n",
       "    <tr>\n",
       "      <th>1478</th>\n",
       "      <td>459</td>\n",
       "      <td>5</td>\n",
       "      <td>2</td>\n",
       "      <td>0.0</td>\n",
       "      <td>79</td>\n",
       "      <td>0</td>\n",
       "      <td>đau bụng vào buổi sáng</td>\n",
       "      <td>nhi khoa</td>\n",
       "      <td>1</td>\n",
       "    </tr>\n",
       "    <tr>\n",
       "      <th>2</th>\n",
       "      <td>9</td>\n",
       "      <td>5</td>\n",
       "      <td>2</td>\n",
       "      <td>NaN</td>\n",
       "      <td>-1</td>\n",
       "      <td>6</td>\n",
       "      <td>đi khám kl bị đau dạ dày</td>\n",
       "      <td>nhi khoa</td>\n",
       "      <td>1</td>\n",
       "    </tr>\n",
       "    <tr>\n",
       "      <th>1476</th>\n",
       "      <td>8</td>\n",
       "      <td>5</td>\n",
       "      <td>2</td>\n",
       "      <td>0.0</td>\n",
       "      <td>1</td>\n",
       "      <td>0</td>\n",
       "      <td>con bị khó ngủ, chậm tăng cân, đổ nhiều mồ hôi...</td>\n",
       "      <td>nhi khoa</td>\n",
       "      <td>1</td>\n",
       "    </tr>\n",
       "  </tbody>\n",
       "</table>\n",
       "</div>"
      ],
      "text/plain": [
       "      partner_id  specialist_id  status  gender  province_id  age  \\\n",
       "1480         259              5       2     0.0           56    0   \n",
       "0              9              5       2     NaN           10    8   \n",
       "1478         459              5       2     0.0           79    0   \n",
       "2              9              5       2     NaN           -1    6   \n",
       "1476           8              5       2     0.0            1    0   \n",
       "\n",
       "                                         reason_combind specialist_name  \\\n",
       "1480                            nóng người chảy máu cam        nhi khoa   \n",
       "0                                     viêm a mãn tính        nhi khoa   \n",
       "1478                             đau bụng vào buổi sáng        nhi khoa   \n",
       "2                          đi khám kl bị đau dạ dày        nhi khoa   \n",
       "1476  con bị khó ngủ, chậm tăng cân, đổ nhiều mồ hôi...        nhi khoa   \n",
       "\n",
       "      correct_prediction  \n",
       "1480                   1  \n",
       "0                      1  \n",
       "1478                   1  \n",
       "2                      1  \n",
       "1476                   1  "
      ]
     },
     "execution_count": 29,
     "metadata": {},
     "output_type": "execute_result"
    }
   ],
   "source": [
    "nhi_khoa_df.head()"
   ]
  },
  {
   "cell_type": "code",
   "execution_count": null,
   "id": "9b5a4fd6-5ca5-41ca-9ea9-fdc458bcb332",
   "metadata": {},
   "outputs": [],
   "source": [
    "nhi_khoa_df = process_dataframe(nhi_khoa_df, output_path='../data/data_version2/nhi_khoa.csv')"
   ]
  },
  {
   "cell_type": "code",
   "execution_count": 34,
   "id": "1e35ab3a-d827-4a22-98a6-6a62e9ff4d64",
   "metadata": {},
   "outputs": [],
   "source": [
    "san_phu_khoa = pd.read_csv('../data/data_version1/reason_specialist - sản phụ khoa.csv', index_col=0)"
   ]
  },
  {
   "cell_type": "code",
   "execution_count": 35,
   "id": "97a23367-7e45-4914-935a-4031cf13be28",
   "metadata": {},
   "outputs": [
    {
     "data": {
      "text/plain": [
       "(1603, 8)"
      ]
     },
     "execution_count": 35,
     "metadata": {},
     "output_type": "execute_result"
    }
   ],
   "source": [
    "san_phu_khoa.shape"
   ]
  },
  {
   "cell_type": "code",
   "execution_count": null,
   "id": "3617a5b1-b5bb-45ae-9111-d34a1944b4fd",
   "metadata": {},
   "outputs": [
    {
     "name": "stderr",
     "output_type": "stream",
     "text": [
      "Handle reason combind:   0%|                                                                                                                            | 1/1603 [00:01<47:33,  1.78s/it]"
     ]
    },
    {
     "name": "stdout",
     "output_type": "stream",
     "text": [
      "result after generate:  {'result': None}\n"
     ]
    },
    {
     "name": "stderr",
     "output_type": "stream",
     "text": [
      "Handle reason combind:   0%|▏                                                                                                                         | 2/1603 [00:10<2:32:38,  5.72s/it]"
     ]
    },
    {
     "name": "stdout",
     "output_type": "stream",
     "text": [
      "result after generate:  {'result': 'null'}\n",
      "Input: khám phụ khoa | sản phụ khoa | Output: null\n"
     ]
    },
    {
     "name": "stderr",
     "output_type": "stream",
     "text": [
      "Handle reason combind:   0%|▏                                                                                                                         | 3/1603 [00:14<2:13:43,  5.01s/it]"
     ]
    },
    {
     "name": "stdout",
     "output_type": "stream",
     "text": [
      "result after generate:  {'result': 'chậm kinh'}\n",
      "Input: chậm kinh | sản phụ khoa | Output: chậm kinh\n"
     ]
    },
    {
     "name": "stderr",
     "output_type": "stream",
     "text": [
      "Handle reason combind:   0%|▎                                                                                                                         | 4/1603 [00:30<4:15:03,  9.57s/it]"
     ]
    },
    {
     "name": "stdout",
     "output_type": "stream",
     "text": [
      "result after generate:  {'result': None}\n"
     ]
    },
    {
     "name": "stderr",
     "output_type": "stream",
     "text": [
      "Handle reason combind:   0%|▍                                                                                                                         | 5/1603 [00:34<3:15:53,  7.35s/it]"
     ]
    },
    {
     "name": "stdout",
     "output_type": "stream",
     "text": [
      "result after generate:  {'result': 'khám sản'}\n",
      "Input: khám sản | sản phụ khoa | Output: khám sản\n"
     ]
    },
    {
     "name": "stderr",
     "output_type": "stream",
     "text": [
      "Handle reason combind:   0%|▍                                                                                                                         | 6/1603 [00:43<3:33:06,  8.01s/it]"
     ]
    },
    {
     "name": "stdout",
     "output_type": "stream",
     "text": [
      "result after generate:  {'result': None}\n"
     ]
    },
    {
     "name": "stderr",
     "output_type": "stream",
     "text": [
      "Handle reason combind:   0%|▌                                                                                                                         | 7/1603 [01:01<4:58:55, 11.24s/it]"
     ]
    },
    {
     "name": "stdout",
     "output_type": "stream",
     "text": [
      "result after generate:  {'result': None}\n"
     ]
    },
    {
     "name": "stderr",
     "output_type": "stream",
     "text": [
      "Handle reason combind:   0%|▌                                                                                                                         | 8/1603 [01:02<3:34:20,  8.06s/it]"
     ]
    },
    {
     "name": "stdout",
     "output_type": "stream",
     "text": [
      "result after generate:  {'result': None}\n"
     ]
    },
    {
     "name": "stderr",
     "output_type": "stream",
     "text": [
      "Handle reason combind:   1%|▋                                                                                                                         | 9/1603 [01:11<3:38:57,  8.24s/it]"
     ]
    },
    {
     "name": "stdout",
     "output_type": "stream",
     "text": [
      "result after generate:  {'result': 'rối loạn kinh nguyệt'}\n",
      "Input: rối loạn kinh nguyệt | sản phụ khoa | Output: rối loạn kinh nguyệt\n"
     ]
    },
    {
     "name": "stderr",
     "output_type": "stream",
     "text": [
      "Handle reason combind:   1%|▊                                                                                                                        | 10/1603 [01:16<3:10:10,  7.16s/it]"
     ]
    },
    {
     "name": "stdout",
     "output_type": "stream",
     "text": [
      "result after generate:  {'result': None}\n"
     ]
    },
    {
     "name": "stderr",
     "output_type": "stream",
     "text": [
      "Handle reason combind:   1%|▊                                                                                                                        | 11/1603 [01:24<3:20:01,  7.54s/it]"
     ]
    },
    {
     "name": "stdout",
     "output_type": "stream",
     "text": [
      "result after generate:  {'result': 'khám tiền sinh con'}\n",
      "Input: khám tiền sinh con | sản phụ khoa | Output: khám tiền sinh con\n"
     ]
    },
    {
     "name": "stderr",
     "output_type": "stream",
     "text": [
      "Handle reason combind:   1%|▉                                                                                                                        | 12/1603 [01:40<4:25:29, 10.01s/it]"
     ]
    },
    {
     "name": "stdout",
     "output_type": "stream",
     "text": [
      "result after generate:  {'result': 'nốt ruồi trong cổ'}\n",
      "Input: có nốt ruồi trong cổ tự cung | sản phụ khoa | Output: nốt ruồi trong cổ\n"
     ]
    },
    {
     "name": "stderr",
     "output_type": "stream",
     "text": [
      "Handle reason combind:   1%|▉                                                                                                                        | 13/1603 [01:44<3:38:47,  8.26s/it]"
     ]
    },
    {
     "name": "stdout",
     "output_type": "stream",
     "text": [
      "result after generate:  {'result': 'đau bụng kinh'}\n",
      "Input: đau bụng kinh | sản phụ khoa | Output: đau bụng kinh\n"
     ]
    },
    {
     "name": "stderr",
     "output_type": "stream",
     "text": [
      "Handle reason combind:   1%|█                                                                                                                        | 14/1603 [01:59<4:29:49, 10.19s/it]"
     ]
    },
    {
     "name": "stdout",
     "output_type": "stream",
     "text": [
      "result after generate:  {'result': 'trứng lép, đa nang buồng trứng'}\n",
      "Input: trứng lép,đa nang buồng trứng | sản phụ khoa | Output: trứng lép, đa nang buồng trứng\n"
     ]
    },
    {
     "name": "stderr",
     "output_type": "stream",
     "text": [
      "Handle reason combind:   1%|█▏                                                                                                                       | 15/1603 [02:02<3:38:18,  8.25s/it]"
     ]
    },
    {
     "name": "stdout",
     "output_type": "stream",
     "text": [
      "result after generate:  {'result': None}\n"
     ]
    },
    {
     "name": "stderr",
     "output_type": "stream",
     "text": [
      "Handle reason combind:   1%|█▏                                                                                                                       | 16/1603 [02:11<3:41:12,  8.36s/it]"
     ]
    },
    {
     "name": "stdout",
     "output_type": "stream",
     "text": [
      "result after generate:  {'result': 'rong kinh'}\n",
      "Input: rong kinh kéo dài | sản phụ khoa | Output: rong kinh\n"
     ]
    },
    {
     "name": "stderr",
     "output_type": "stream",
     "text": [
      "Handle reason combind:   1%|█▎                                                                                                                       | 17/1603 [02:17<3:25:27,  7.77s/it]"
     ]
    },
    {
     "name": "stdout",
     "output_type": "stream",
     "text": [
      "result after generate:  {'result': 'hiếm muộn'}\n",
      "Input: khám hiếm muộn | sản phụ khoa | Output: hiếm muộn\n"
     ]
    },
    {
     "name": "stderr",
     "output_type": "stream",
     "text": [
      "Handle reason combind:   1%|█▎                                                                                                                       | 18/1603 [02:27<3:37:09,  8.22s/it]"
     ]
    },
    {
     "name": "stdout",
     "output_type": "stream",
     "text": [
      "result after generate:  {'result': 'tắc hai với trứng'}\n",
      "Input: tắc hai vòi trứng | sản phụ khoa | Output: tắc hai với trứng\n"
     ]
    },
    {
     "name": "stderr",
     "output_type": "stream",
     "text": [
      "Handle reason combind:   1%|█▍                                                                                                                       | 19/1603 [02:36<3:42:09,  8.42s/it]"
     ]
    },
    {
     "name": "stdout",
     "output_type": "stream",
     "text": [
      "result after generate:  {'result': None}\n"
     ]
    },
    {
     "name": "stderr",
     "output_type": "stream",
     "text": [
      "Handle reason combind:   1%|█▌                                                                                                                       | 20/1603 [02:57<5:22:47, 12.23s/it]"
     ]
    },
    {
     "name": "stdout",
     "output_type": "stream",
     "text": [
      "result after generate:  {'result': 'kiểm tra sản'}\n",
      "Input: kiêm tra sản | sản phụ khoa | Output: kiểm tra sản\n"
     ]
    },
    {
     "name": "stderr",
     "output_type": "stream",
     "text": [
      "Handle reason combind:   1%|█▌                                                                                                                       | 21/1603 [03:01<4:23:36, 10.00s/it]"
     ]
    },
    {
     "name": "stdout",
     "output_type": "stream",
     "text": [
      "result after generate:  {'result': None}\n"
     ]
    },
    {
     "name": "stderr",
     "output_type": "stream",
     "text": [
      "Handle reason combind:   1%|█▋                                                                                                                       | 22/1603 [03:11<4:21:32,  9.93s/it]"
     ]
    },
    {
     "name": "stdout",
     "output_type": "stream",
     "text": [
      "result after generate:  {'result': 'mang thai'}\n",
      "Input: siêu âm tuần thứ 7, tư vấn về uống thuốc xổ giun và tiêm mũi 30n1 khi mang thai | sản phụ khoa | Output: mang thai\n"
     ]
    },
    {
     "name": "stderr",
     "output_type": "stream",
     "text": [
      "Handle reason combind:   1%|█▋                                                                                                                       | 23/1603 [03:12<3:11:37,  7.28s/it]"
     ]
    },
    {
     "name": "stdout",
     "output_type": "stream",
     "text": [
      "result after generate:  {'result': 'thai mốc 12'}\n",
      "Input: khám thai mốc 12 | sản phụ khoa | Output: thai mốc 12\n"
     ]
    },
    {
     "name": "stderr",
     "output_type": "stream",
     "text": [
      "Handle reason combind:   1%|█▊                                                                                                                       | 24/1603 [03:28<4:17:00,  9.77s/it]"
     ]
    },
    {
     "name": "stdout",
     "output_type": "stream",
     "text": [
      "result after generate:  {'result': None}\n"
     ]
    },
    {
     "name": "stderr",
     "output_type": "stream",
     "text": [
      "Handle reason combind:   2%|█▉                                                                                                                       | 25/1603 [03:29<3:07:57,  7.15s/it]"
     ]
    },
    {
     "name": "stdout",
     "output_type": "stream",
     "text": [
      "result after generate:  {'result': 'u xơ tử cung'}\n",
      "Input: u xơ tử cung | sản phụ khoa | Output: u xơ tử cung\n"
     ]
    },
    {
     "name": "stderr",
     "output_type": "stream",
     "text": [
      "Handle reason combind:   2%|█▉                                                                                                                       | 26/1603 [03:47<4:32:14, 10.36s/it]"
     ]
    },
    {
     "name": "stdout",
     "output_type": "stream",
     "text": [
      "result after generate:  {'result': 'chụp vòi trứng, khám sản'}\n",
      "Input: chụp vòi trứng, khám sản | sản phụ khoa | Output: chụp vòi trứng, khám sản\n"
     ]
    },
    {
     "name": "stderr",
     "output_type": "stream",
     "text": [
      "Handle reason combind:   2%|██                                                                                                                       | 27/1603 [03:50<3:38:32,  8.32s/it]"
     ]
    },
    {
     "name": "stdout",
     "output_type": "stream",
     "text": [
      "result after generate:  {'result': 'viêm lộ tuyến'}\n",
      "Input: viêm lộ tuyến | sản phụ khoa | Output: viêm lộ tuyến\n"
     ]
    },
    {
     "name": "stderr",
     "output_type": "stream",
     "text": [
      "Handle reason combind:   2%|██                                                                                                                       | 28/1603 [03:59<3:40:58,  8.42s/it]"
     ]
    },
    {
     "name": "stdout",
     "output_type": "stream",
     "text": [
      "result after generate:  {'result': 'rong kinh'}\n",
      "Input: rong kinh | sản phụ khoa | Output: rong kinh\n"
     ]
    },
    {
     "name": "stderr",
     "output_type": "stream",
     "text": [
      "Handle reason combind:   2%|██▏                                                                                                                      | 29/1603 [04:01<2:53:46,  6.62s/it]"
     ]
    },
    {
     "name": "stdout",
     "output_type": "stream",
     "text": [
      "result after generate:  {'result': None}\n"
     ]
    },
    {
     "name": "stderr",
     "output_type": "stream",
     "text": [
      "Handle reason combind:   2%|██▎                                                                                                                      | 30/1603 [04:20<4:24:27, 10.09s/it]"
     ]
    },
    {
     "name": "stdout",
     "output_type": "stream",
     "text": [
      "result after generate:  {'result': 'theo dõi thai'}\n",
      "Input: theo dõi thai | sản phụ khoa | Output: theo dõi thai\n"
     ]
    },
    {
     "name": "stderr",
     "output_type": "stream",
     "text": [
      "Handle reason combind:   2%|██▎                                                                                                                      | 31/1603 [04:21<3:13:20,  7.38s/it]"
     ]
    },
    {
     "name": "stdout",
     "output_type": "stream",
     "text": [
      "result after generate:  {'result': None}\n"
     ]
    },
    {
     "name": "stderr",
     "output_type": "stream",
     "text": [
      "Handle reason combind:   2%|██▍                                                                                                                      | 32/1603 [04:38<4:32:40, 10.41s/it]"
     ]
    },
    {
     "name": "stdout",
     "output_type": "stream",
     "text": [
      "result after generate:  {'result': None}\n"
     ]
    },
    {
     "name": "stderr",
     "output_type": "stream",
     "text": [
      "Handle reason combind:   2%|██▍                                                                                                                      | 33/1603 [04:55<5:23:33, 12.37s/it]"
     ]
    },
    {
     "name": "stdout",
     "output_type": "stream",
     "text": [
      "result after generate:  {'result': 'tiền hôn nhâ, khí hử ra nhiều'}\n",
      "Input: kiểm tra tiền hôn nhâ, khí hử ra nhiều | sản phụ khoa | Output: tiền hôn nhâ, khí hử ra nhiều\n"
     ]
    },
    {
     "name": "stderr",
     "output_type": "stream",
     "text": [
      "Handle reason combind:   2%|██▌                                                                                                                      | 34/1603 [04:56<3:51:39,  8.86s/it]"
     ]
    },
    {
     "name": "stdout",
     "output_type": "stream",
     "text": [
      "result after generate:  {'result': None}\n"
     ]
    },
    {
     "name": "stderr",
     "output_type": "stream",
     "text": [
      "Handle reason combind:   2%|██▋                                                                                                                      | 35/1603 [05:04<3:49:46,  8.79s/it]"
     ]
    },
    {
     "name": "stdout",
     "output_type": "stream",
     "text": [
      "result after generate:  {'result': 'u xơ tử cung, bọc dịch vòi trứng'}\n",
      "Input: bị u xơ tử cung, bọc dịch vòi trứng | sản phụ khoa | Output: u xơ tử cung, bọc dịch vòi trứng\n"
     ]
    },
    {
     "name": "stderr",
     "output_type": "stream",
     "text": [
      "Handle reason combind:   2%|██▋                                                                                                                      | 36/1603 [05:07<3:00:01,  6.89s/it]"
     ]
    },
    {
     "name": "stdout",
     "output_type": "stream",
     "text": [
      "result after generate:  {'result': 'khám thai'}\n",
      "Input: khám thai tuần 39 | sản phụ khoa | Output: khám thai\n"
     ]
    },
    {
     "name": "stderr",
     "output_type": "stream",
     "text": [
      "Handle reason combind:   2%|██▊                                                                                                                      | 37/1603 [05:16<3:14:05,  7.44s/it]"
     ]
    },
    {
     "name": "stdout",
     "output_type": "stream",
     "text": [
      "result after generate:  {'result': 'xơ tử cung'}\n",
      "Input: u  xơ tử cung | sản phụ khoa | Output: xơ tử cung\n"
     ]
    },
    {
     "name": "stderr",
     "output_type": "stream",
     "text": [
      "Handle reason combind:   2%|██▊                                                                                                                      | 38/1603 [05:19<2:42:12,  6.22s/it]"
     ]
    },
    {
     "name": "stdout",
     "output_type": "stream",
     "text": [
      "result after generate:  {'result': 'viêm lộ tuyến độ 3'}\n",
      "Input: kl viêm lộ tuyến độ 3 | sản phụ khoa | Output: viêm lộ tuyến độ 3\n"
     ]
    },
    {
     "name": "stderr",
     "output_type": "stream",
     "text": [
      "Handle reason combind:   2%|██▉                                                                                                                      | 39/1603 [05:28<3:05:05,  7.10s/it]"
     ]
    },
    {
     "name": "stdout",
     "output_type": "stream",
     "text": [
      "result after generate:  {'result': 'khô âm đạo'}\n",
      "Input: khám phu khoa, khô âm đảo | sản phụ khoa | Output: khô âm đạo\n"
     ]
    },
    {
     "name": "stderr",
     "output_type": "stream",
     "text": [
      "Handle reason combind:   2%|███                                                                                                                      | 40/1603 [05:45<4:18:32,  9.93s/it]"
     ]
    },
    {
     "name": "stdout",
     "output_type": "stream",
     "text": [
      "result after generate:  {'result': 'chậm kinh'}\n",
      "Input: chậm kinh | sản phụ khoa | Output: chậm kinh\n"
     ]
    },
    {
     "name": "stderr",
     "output_type": "stream",
     "text": [
      "Handle reason combind:   3%|███                                                                                                                      | 41/1603 [06:05<5:42:32, 13.16s/it]"
     ]
    },
    {
     "name": "stdout",
     "output_type": "stream",
     "text": [
      "result after generate:  {'result': 'viêm quanh âm đạo'}\n",
      "Input: viêm quanh âm đạo | sản phụ khoa | Output: viêm quanh âm đạo\n"
     ]
    },
    {
     "name": "stderr",
     "output_type": "stream",
     "text": [
      "Handle reason combind:   3%|███▏                                                                                                                     | 42/1603 [06:07<4:11:42,  9.67s/it]"
     ]
    },
    {
     "name": "stdout",
     "output_type": "stream",
     "text": [
      "result after generate:  {'result': 'lạc nội mạc tử cung'}\n",
      "Input: lạc nội mạc tự cung | sản phụ khoa | Output: lạc nội mạc tử cung\n"
     ]
    },
    {
     "name": "stderr",
     "output_type": "stream",
     "text": [
      "Handle reason combind:   3%|███▏                                                                                                                     | 43/1603 [06:23<5:02:25, 11.63s/it]"
     ]
    },
    {
     "name": "stdout",
     "output_type": "stream",
     "text": [
      "result after generate:  {'result': 'hiếm muộn'}\n",
      "Input: sản phụ khoa khám hiếm muộn | sản phụ khoa | Output: hiếm muộn\n"
     ]
    },
    {
     "name": "stderr",
     "output_type": "stream",
     "text": [
      "Handle reason combind:   3%|███▎                                                                                                                     | 44/1603 [06:28<4:09:28,  9.60s/it]"
     ]
    },
    {
     "name": "stdout",
     "output_type": "stream",
     "text": [
      "result after generate:  {'result': None}\n"
     ]
    },
    {
     "name": "stderr",
     "output_type": "stream",
     "text": [
      "Handle reason combind:   3%|███▍                                                                                                                     | 45/1603 [06:37<4:05:40,  9.46s/it]"
     ]
    },
    {
     "name": "stdout",
     "output_type": "stream",
     "text": [
      "result after generate:  {'result': None}\n"
     ]
    },
    {
     "name": "stderr",
     "output_type": "stream",
     "text": [
      "Handle reason combind:   3%|███▍                                                                                                                     | 46/1603 [06:56<5:16:50, 12.21s/it]"
     ]
    },
    {
     "name": "stdout",
     "output_type": "stream",
     "text": [
      "result after generate:  {'result': 'tiền sử lưu thai, máu nâu ở những ngày kinh cuối'}\n",
      "Input: có tiền sự lưu thai, có hiện tưởng máu nâu ở những ngày kinh cuối | sản phụ khoa | Output: tiền sử lưu thai, máu nâu ở những ngày kinh cuối\n"
     ]
    },
    {
     "name": "stderr",
     "output_type": "stream",
     "text": [
      "Handle reason combind:   3%|███▌                                                                                                                     | 47/1603 [07:02<4:30:26, 10.43s/it]"
     ]
    },
    {
     "name": "stdout",
     "output_type": "stream",
     "text": [
      "result after generate:  {'result': 'kinh nguyệt thưa, kinh nguyệt ít'}\n",
      "Input: khám phụ khoa kinh nguyệt thưa và ít | sản phụ khoa | Output: kinh nguyệt thưa, kinh nguyệt ít\n"
     ]
    },
    {
     "name": "stderr",
     "output_type": "stream",
     "text": [
      "Handle reason combind:   3%|███▌                                                                                                                     | 48/1603 [07:08<3:55:22,  9.08s/it]"
     ]
    },
    {
     "name": "stdout",
     "output_type": "stream",
     "text": [
      "result after generate:  {'result': 'viêm lộ tuyến'}\n",
      "Input: viêm lộ tuyến | sản phụ khoa | Output: viêm lộ tuyến\n"
     ]
    },
    {
     "name": "stderr",
     "output_type": "stream",
     "text": [
      "Handle reason combind:   3%|███▋                                                                                                                     | 49/1603 [07:13<3:22:50,  7.83s/it]"
     ]
    },
    {
     "name": "stdout",
     "output_type": "stream",
     "text": [
      "result after generate:  {'result': 'viêm lộ tuyến'}\n",
      "Input: viêm lộ tuyển | sản phụ khoa | Output: viêm lộ tuyến\n"
     ]
    },
    {
     "name": "stderr",
     "output_type": "stream",
     "text": [
      "Handle reason combind:   3%|███▊                                                                                                                     | 50/1603 [07:24<3:47:46,  8.80s/it]"
     ]
    },
    {
     "name": "stdout",
     "output_type": "stream",
     "text": [
      "result after generate:  {'result': None}\n"
     ]
    },
    {
     "name": "stderr",
     "output_type": "stream",
     "text": [
      "Handle reason combind:   3%|███▊                                                                                                                     | 51/1603 [07:40<4:44:19, 10.99s/it]"
     ]
    },
    {
     "name": "stdout",
     "output_type": "stream",
     "text": [
      "result after generate:  {'result': None}\n"
     ]
    },
    {
     "name": "stderr",
     "output_type": "stream",
     "text": [
      "Handle reason combind:   3%|███▉                                                                                                                     | 52/1603 [07:46<4:07:38,  9.58s/it]"
     ]
    },
    {
     "name": "stdout",
     "output_type": "stream",
     "text": [
      "result after generate:  {'result': 'kinh nguyệt thất thường, vô sinh'}\n",
      "Input: kinh nguyệt thất thường, 3 năm chưa có con | sản phụ khoa | Output: kinh nguyệt thất thường, vô sinh\n"
     ]
    },
    {
     "name": "stderr",
     "output_type": "stream",
     "text": [
      "Handle reason combind:   3%|████                                                                                                                     | 53/1603 [07:50<3:23:37,  7.88s/it]"
     ]
    },
    {
     "name": "stdout",
     "output_type": "stream",
     "text": [
      "result after generate:  {'result': None}\n"
     ]
    },
    {
     "name": "stderr",
     "output_type": "stream",
     "text": [
      "Handle reason combind:   3%|████                                                                                                                     | 54/1603 [08:07<4:33:22, 10.59s/it]"
     ]
    },
    {
     "name": "stdout",
     "output_type": "stream",
     "text": [
      "result after generate:  {'result': None}\n"
     ]
    },
    {
     "name": "stderr",
     "output_type": "stream",
     "text": [
      "Handle reason combind:   3%|████▏                                                                                                                    | 55/1603 [08:23<5:13:16, 12.14s/it]"
     ]
    },
    {
     "name": "stdout",
     "output_type": "stream",
     "text": [
      "result after generate:  {'result': 'có thai, tác dụng phụ của thuốc tránh thai'}\n",
      "Input: có thai nhưng uống thuốc tranh thai | sản phụ khoa | Output: có thai, tác dụng phụ của thuốc tránh thai\n"
     ]
    },
    {
     "name": "stderr",
     "output_type": "stream",
     "text": [
      "Handle reason combind:   3%|████▏                                                                                                                    | 56/1603 [08:28<4:19:42, 10.07s/it]"
     ]
    },
    {
     "name": "stdout",
     "output_type": "stream",
     "text": [
      "result after generate:  {'result': None}\n"
     ]
    },
    {
     "name": "stderr",
     "output_type": "stream",
     "text": [
      "Handle reason combind:   4%|████▎                                                                                                                    | 57/1603 [08:33<3:40:16,  8.55s/it]"
     ]
    },
    {
     "name": "stdout",
     "output_type": "stream",
     "text": [
      "result after generate:  {'result': 'hiểm muộn'}\n",
      "Input: hiểm muộn | sản phụ khoa | Output: hiểm muộn\n"
     ]
    },
    {
     "name": "stderr",
     "output_type": "stream",
     "text": [
      "Handle reason combind:   4%|████▍                                                                                                                    | 58/1603 [08:55<5:21:25, 12.48s/it]"
     ]
    },
    {
     "name": "stdout",
     "output_type": "stream",
     "text": [
      "result after generate:  {'result': None}\n"
     ]
    },
    {
     "name": "stderr",
     "output_type": "stream",
     "text": [
      "Handle reason combind:   4%|████▍                                                                                                                    | 59/1603 [08:59<4:20:38, 10.13s/it]"
     ]
    },
    {
     "name": "stdout",
     "output_type": "stream",
     "text": [
      "result after generate:  {'result': None}\n"
     ]
    },
    {
     "name": "stderr",
     "output_type": "stream",
     "text": [
      "Handle reason combind:   4%|████▌                                                                                                                    | 60/1603 [09:02<3:18:44,  7.73s/it]"
     ]
    },
    {
     "name": "stdout",
     "output_type": "stream",
     "text": [
      "result after generate:  {'result': 'ra máu'}\n",
      "Input: siêu âm tim thai 6 tuần, bị ra một ít máu nhỏ | sản phụ khoa | Output: ra máu\n"
     ]
    },
    {
     "name": "stderr",
     "output_type": "stream",
     "text": [
      "Handle reason combind:   4%|████▌                                                                                                                    | 61/1603 [09:16<4:14:14,  9.89s/it]"
     ]
    },
    {
     "name": "stdout",
     "output_type": "stream",
     "text": [
      "result after generate:  {'result': None}\n"
     ]
    },
    {
     "name": "stderr",
     "output_type": "stream",
     "text": [
      "Handle reason combind:   4%|████▋                                                                                                                    | 62/1603 [09:21<3:29:03,  8.14s/it]"
     ]
    },
    {
     "name": "stdout",
     "output_type": "stream",
     "text": [
      "result after generate:  {'result': 'tiền mãn kinh'}\n",
      "Input: kiểm tra tiền mãn kinh | sản phụ khoa | Output: tiền mãn kinh\n"
     ]
    },
    {
     "name": "stderr",
     "output_type": "stream",
     "text": [
      "Handle reason combind:   4%|████▊                                                                                                                    | 63/1603 [09:30<3:43:02,  8.69s/it]"
     ]
    },
    {
     "name": "stdout",
     "output_type": "stream",
     "text": [
      "result after generate:  {'result': 'khám thai'}\n",
      "Input: khám thai | sản phụ khoa | Output: khám thai\n"
     ]
    },
    {
     "name": "stderr",
     "output_type": "stream",
     "text": [
      "Handle reason combind:   4%|████▊                                                                                                                    | 64/1603 [09:34<3:00:59,  7.06s/it]"
     ]
    },
    {
     "name": "stdout",
     "output_type": "stream",
     "text": [
      "result after generate:  {'result': 'thai kỳ'}\n",
      "Input: khám thai kỳ | sản phụ khoa | Output: thai kỳ\n"
     ]
    },
    {
     "name": "stderr",
     "output_type": "stream",
     "text": [
      "Handle reason combind:   4%|████▉                                                                                                                    | 65/1603 [09:50<4:14:06,  9.91s/it]"
     ]
    },
    {
     "name": "stdout",
     "output_type": "stream",
     "text": [
      "result after generate:  {'result': 'vô sinh'}\n",
      "Input: khám vô sinh | sản phụ khoa | Output: vô sinh\n"
     ]
    },
    {
     "name": "stderr",
     "output_type": "stream",
     "text": [
      "Handle reason combind:   4%|████▉                                                                                                                    | 66/1603 [10:03<4:33:43, 10.69s/it]"
     ]
    },
    {
     "name": "stdout",
     "output_type": "stream",
     "text": [
      "result after generate:  {'result': 'hiếm muộn'}\n",
      "Input: khám hiếm muộn (đã có đầy đủ giấy xét nghiệm hiếm muộn của 2 vợ chồng) | sản phụ khoa | Output: hiếm muộn\n"
     ]
    },
    {
     "name": "stderr",
     "output_type": "stream",
     "text": [
      "Handle reason combind:   4%|█████                                                                                                                    | 67/1603 [10:09<3:55:51,  9.21s/it]"
     ]
    },
    {
     "name": "stdout",
     "output_type": "stream",
     "text": [
      "result after generate:  {'result': None}\n"
     ]
    },
    {
     "name": "stderr",
     "output_type": "stream",
     "text": [
      "Handle reason combind:   4%|█████▏                                                                                                                   | 68/1603 [10:18<3:56:41,  9.25s/it]"
     ]
    },
    {
     "name": "stdout",
     "output_type": "stream",
     "text": [
      "result after generate:  {'result': 'đau âm い bụng dưới'}\n",
      "Input: đau âm ỉ bụng dưới | sản phụ khoa | Output: đau âm い bụng dưới\n"
     ]
    },
    {
     "name": "stderr",
     "output_type": "stream",
     "text": [
      "Handle reason combind:   4%|█████▏                                                                                                                   | 69/1603 [10:26<3:46:00,  8.84s/it]"
     ]
    },
    {
     "name": "stdout",
     "output_type": "stream",
     "text": [
      "result after generate:  {'result': 'thai 36 tuần'}\n",
      "Input: thai 36 tuần | sản phụ khoa | Output: thai 36 tuần\n"
     ]
    },
    {
     "name": "stderr",
     "output_type": "stream",
     "text": [
      "Handle reason combind:   4%|█████▎                                                                                                                   | 70/1603 [10:30<3:06:40,  7.31s/it]"
     ]
    },
    {
     "name": "stdout",
     "output_type": "stream",
     "text": [
      "result after generate:  {'result': 'thai'}\n",
      "Input: khám phụ sản,thai | sản phụ khoa | Output: thai\n"
     ]
    },
    {
     "name": "stderr",
     "output_type": "stream",
     "text": [
      "Handle reason combind:   4%|█████▎                                                                                                                   | 71/1603 [10:38<3:16:28,  7.70s/it]"
     ]
    },
    {
     "name": "stdout",
     "output_type": "stream",
     "text": [
      "result after generate:  {'result': 'cổ tự cung'}\n",
      "Input: kiểm tra cổ tự cung | sản phụ khoa | Output: cổ tự cung\n"
     ]
    },
    {
     "name": "stderr",
     "output_type": "stream",
     "text": [
      "Handle reason combind:   4%|█████▍                                                                                                                   | 72/1603 [10:41<2:37:49,  6.19s/it]"
     ]
    },
    {
     "name": "stdout",
     "output_type": "stream",
     "text": [
      "result after generate:  {'result': 'ra dịch bất thường ở tử cung, buốt phần bụng dưới'}\n",
      "Input: ra dịch bất thường ở tử cung, buốt phần bụng dưới | sản phụ khoa | Output: ra dịch bất thường ở tử cung, buốt phần bụng dưới\n"
     ]
    },
    {
     "name": "stderr",
     "output_type": "stream",
     "text": [
      "Handle reason combind:   5%|█████▌                                                                                                                   | 73/1603 [10:51<3:10:18,  7.46s/it]"
     ]
    },
    {
     "name": "stdout",
     "output_type": "stream",
     "text": [
      "result after generate:  {'result': 'ngứa âm đạo'}\n",
      "Input: bị ngứa âm đạo | sản phụ khoa | Output: ngứa âm đạo\n"
     ]
    },
    {
     "name": "stderr",
     "output_type": "stream",
     "text": [
      "Handle reason combind:   5%|█████▌                                                                                                                   | 74/1603 [10:53<2:27:34,  5.79s/it]"
     ]
    },
    {
     "name": "stdout",
     "output_type": "stream",
     "text": [
      "result after generate:  {'result': 'khám sản 14 tuần'}\n",
      "Input: khám sản 14 tuần | sản phụ khoa | Output: khám sản 14 tuần\n"
     ]
    },
    {
     "name": "stderr",
     "output_type": "stream",
     "text": [
      "Handle reason combind:   5%|█████▋                                                                                                                   | 75/1603 [11:01<2:46:14,  6.53s/it]"
     ]
    },
    {
     "name": "stdout",
     "output_type": "stream",
     "text": [
      "result after generate:  {'result': None}\n"
     ]
    },
    {
     "name": "stderr",
     "output_type": "stream",
     "text": [
      "Handle reason combind:   5%|█████▋                                                                                                                   | 76/1603 [11:08<2:44:45,  6.47s/it]"
     ]
    },
    {
     "name": "stdout",
     "output_type": "stream",
     "text": [
      "result after generate:  {'result': 'vô sinh'}\n",
      "Input: đã có 1 con năm 2012. xử dụng biện pháp tránh thai bcs. để tự nhiên 02 năm nay vẫn chưa có con. mong có con. | sản phụ khoa | Output: vô sinh\n"
     ]
    },
    {
     "name": "stderr",
     "output_type": "stream",
     "text": [
      "Handle reason combind:   5%|█████▊                                                                                                                   | 77/1603 [11:16<3:00:07,  7.08s/it]"
     ]
    },
    {
     "name": "stdout",
     "output_type": "stream",
     "text": [
      "result after generate:  {'result': None}\n"
     ]
    },
    {
     "name": "stderr",
     "output_type": "stream",
     "text": [
      "Handle reason combind:   5%|█████▉                                                                                                                   | 78/1603 [11:21<2:45:04,  6.50s/it]"
     ]
    },
    {
     "name": "stdout",
     "output_type": "stream",
     "text": [
      "result after generate:  {'result': None}\n"
     ]
    },
    {
     "name": "stderr",
     "output_type": "stream",
     "text": [
      "Handle reason combind:   5%|█████▉                                                                                                                   | 79/1603 [11:30<2:58:25,  7.02s/it]"
     ]
    },
    {
     "name": "stdout",
     "output_type": "stream",
     "text": [
      "result after generate:  {'result': 'khí hư có mùi'}\n",
      "Input: xuất hiện khí hư có mùi. | sản phụ khoa | Output: khí hư có mùi\n"
     ]
    },
    {
     "name": "stderr",
     "output_type": "stream",
     "text": [
      "Handle reason combind:   5%|██████                                                                                                                   | 80/1603 [11:33<2:33:38,  6.05s/it]"
     ]
    },
    {
     "name": "stdout",
     "output_type": "stream",
     "text": [
      "result after generate:  {'result': 'thai tuần thứ 12'}\n",
      "Input: thai tuần thứ 12 | sản phụ khoa | Output: thai tuần thứ 12\n"
     ]
    },
    {
     "name": "stderr",
     "output_type": "stream",
     "text": [
      "Handle reason combind:   5%|██████                                                                                                                   | 81/1603 [11:43<3:00:37,  7.12s/it]"
     ]
    },
    {
     "name": "stdout",
     "output_type": "stream",
     "text": [
      "result after generate:  {'result': 'đau bụng'}\n",
      "Input: đau bụng sau hút thai | sản phụ khoa | Output: đau bụng\n"
     ]
    },
    {
     "name": "stderr",
     "output_type": "stream",
     "text": [
      "Handle reason combind:   5%|██████▏                                                                                                                  | 82/1603 [11:53<3:21:24,  7.94s/it]"
     ]
    },
    {
     "name": "stdout",
     "output_type": "stream",
     "text": [
      "result after generate:  {'result': None}\n"
     ]
    },
    {
     "name": "stderr",
     "output_type": "stream",
     "text": [
      "Handle reason combind:   5%|██████▎                                                                                                                  | 83/1603 [11:57<2:52:47,  6.82s/it]"
     ]
    },
    {
     "name": "stdout",
     "output_type": "stream",
     "text": [
      "result after generate:  {'result': None}\n"
     ]
    },
    {
     "name": "stderr",
     "output_type": "stream",
     "text": [
      "Handle reason combind:   5%|██████▎                                                                                                                  | 84/1603 [12:06<3:09:22,  7.48s/it]"
     ]
    },
    {
     "name": "stdout",
     "output_type": "stream",
     "text": [
      "result after generate:  {'result': 'khám thai'}\n",
      "Input: khám thai lần dầu | sản phụ khoa | Output: khám thai\n"
     ]
    },
    {
     "name": "stderr",
     "output_type": "stream",
     "text": [
      "Handle reason combind:   5%|██████▍                                                                                                                  | 85/1603 [12:11<2:50:33,  6.74s/it]"
     ]
    },
    {
     "name": "stdout",
     "output_type": "stream",
     "text": [
      "result after generate:  {'result': 'tàm soát sản phụ khoa'}\n",
      "Input: tàm soát sản phụ khoa | sản phụ khoa | Output: tàm soát sản phụ khoa\n"
     ]
    },
    {
     "name": "stderr",
     "output_type": "stream",
     "text": [
      "Handle reason combind:   5%|██████▍                                                                                                                  | 86/1603 [12:22<3:23:23,  8.04s/it]"
     ]
    },
    {
     "name": "stdout",
     "output_type": "stream",
     "text": [
      "result after generate:  {'result': 'thai bị đa ối'}\n",
      "Input: thai bị đa ối | sản phụ khoa | Output: thai bị đa ối\n"
     ]
    },
    {
     "name": "stderr",
     "output_type": "stream",
     "text": [
      "Handle reason combind:   5%|██████▌                                                                                                                  | 87/1603 [12:25<2:39:57,  6.33s/it]"
     ]
    },
    {
     "name": "stdout",
     "output_type": "stream",
     "text": [
      "result after generate:  {'result': None}\n"
     ]
    },
    {
     "name": "stderr",
     "output_type": "stream",
     "text": [
      "Handle reason combind:   5%|██████▋                                                                                                                  | 88/1603 [12:35<3:09:02,  7.49s/it]"
     ]
    },
    {
     "name": "stdout",
     "output_type": "stream",
     "text": [
      "result after generate:  {'result': 'đa nang buồng trứng, rối loạn kinh nguyệt'}\n",
      "Input: kiểm tra đa nang buồng trứng, rối loạn kinh nguyệt, | sản phụ khoa | Output: đa nang buồng trứng, rối loạn kinh nguyệt\n"
     ]
    },
    {
     "name": "stderr",
     "output_type": "stream",
     "text": [
      "Handle reason combind:   6%|██████▋                                                                                                                  | 89/1603 [12:37<2:27:22,  5.84s/it]"
     ]
    },
    {
     "name": "stdout",
     "output_type": "stream",
     "text": [
      "result after generate:  {'result': None}\n"
     ]
    },
    {
     "name": "stderr",
     "output_type": "stream",
     "text": [
      "Handle reason combind:   6%|██████▊                                                                                                                  | 90/1603 [12:47<2:59:50,  7.13s/it]"
     ]
    },
    {
     "name": "stdout",
     "output_type": "stream",
     "text": [
      "result after generate:  {'result': 'phù'}\n",
      "Input: khám thai tuần 22. có phù | sản phụ khoa | Output: phù\n"
     ]
    },
    {
     "name": "stderr",
     "output_type": "stream",
     "text": [
      "Handle reason combind:   6%|██████▊                                                                                                                  | 91/1603 [12:49<2:22:53,  5.67s/it]"
     ]
    },
    {
     "name": "stdout",
     "output_type": "stream",
     "text": [
      "result after generate:  {'result': None}\n"
     ]
    },
    {
     "name": "stderr",
     "output_type": "stream",
     "text": [
      "Handle reason combind:   6%|██████▉                                                                                                                  | 92/1603 [13:00<2:59:31,  7.13s/it]"
     ]
    },
    {
     "name": "stdout",
     "output_type": "stream",
     "text": [
      "result after generate:  {'result': 'thai lưu'}\n",
      "Input: chẩn đoán thai lưu | sản phụ khoa | Output: thai lưu\n"
     ]
    },
    {
     "name": "stderr",
     "output_type": "stream",
     "text": [
      "Handle reason combind:   6%|███████                                                                                                                  | 93/1603 [13:10<3:25:59,  8.19s/it]"
     ]
    },
    {
     "name": "stdout",
     "output_type": "stream",
     "text": [
      "result after generate:  {'result': 'thai nghén'}\n",
      "Input: kiểm tra thai nghén | sản phụ khoa | Output: thai nghén\n"
     ]
    },
    {
     "name": "stderr",
     "output_type": "stream",
     "text": [
      "Handle reason combind:   6%|███████                                                                                                                  | 94/1603 [13:14<2:50:41,  6.79s/it]"
     ]
    },
    {
     "name": "stdout",
     "output_type": "stream",
     "text": [
      "result after generate:  {'result': 'khám thai'}\n",
      "Input: khám thai chuẩn bị bước sang tuần 8 | sản phụ khoa | Output: khám thai\n"
     ]
    },
    {
     "name": "stderr",
     "output_type": "stream",
     "text": [
      "Handle reason combind:   6%|███████▏                                                                                                                 | 95/1603 [13:23<3:05:31,  7.38s/it]"
     ]
    },
    {
     "name": "stdout",
     "output_type": "stream",
     "text": [
      "result after generate:  {'result': 'ngứa phần phụ'}\n",
      "Input: ngứa phần phụ | sản phụ khoa | Output: ngứa phần phụ\n"
     ]
    },
    {
     "name": "stderr",
     "output_type": "stream",
     "text": [
      "Handle reason combind:   6%|███████▏                                                                                                                 | 96/1603 [13:25<2:28:28,  5.91s/it]"
     ]
    },
    {
     "name": "stdout",
     "output_type": "stream",
     "text": [
      "result after generate:  {'result': 'đau bụng dưới'}\n",
      "Input: đau bụng dưới gần phần phụ | sản phụ khoa | Output: đau bụng dưới\n"
     ]
    },
    {
     "name": "stderr",
     "output_type": "stream",
     "text": [
      "Handle reason combind:   6%|███████▎                                                                                                                 | 97/1603 [13:44<4:03:58,  9.72s/it]"
     ]
    },
    {
     "name": "stdout",
     "output_type": "stream",
     "text": [
      "result after generate:  {'result': None}\n"
     ]
    },
    {
     "name": "stderr",
     "output_type": "stream",
     "text": [
      "Handle reason combind:   6%|███████▍                                                                                                                 | 98/1603 [13:46<3:04:44,  7.37s/it]"
     ]
    },
    {
     "name": "stdout",
     "output_type": "stream",
     "text": [
      "result after generate:  {'result': 'ra máu hồng'}\n",
      "Input: ra máu hồng ở tuần thứ 6 | sản phụ khoa | Output: ra máu hồng\n"
     ]
    },
    {
     "name": "stderr",
     "output_type": "stream",
     "text": [
      "Handle reason combind:   6%|███████▍                                                                                                                 | 99/1603 [14:02<4:16:00, 10.21s/it]"
     ]
    },
    {
     "name": "stdout",
     "output_type": "stream",
     "text": [
      "result after generate:  {'result': 'phụ khoa'}\n",
      "Input: phụ khoa | sản phụ khoa | Output: phụ khoa\n"
     ]
    },
    {
     "name": "stderr",
     "output_type": "stream",
     "text": [
      "Handle reason combind:   6%|███████▍                                                                                                                | 100/1603 [14:07<3:30:07,  8.39s/it]"
     ]
    },
    {
     "name": "stdout",
     "output_type": "stream",
     "text": [
      "result after generate:  {'result': 'dày niêm mạc cổ tử cung'}\n",
      "Input: dày niêm mạc cổ tử cung | sản phụ khoa | Output: dày niêm mạc cổ tử cung\n"
     ]
    },
    {
     "name": "stderr",
     "output_type": "stream",
     "text": [
      "Handle reason combind:   6%|███████▌                                                                                                                | 101/1603 [14:15<3:31:22,  8.44s/it]"
     ]
    },
    {
     "name": "stdout",
     "output_type": "stream",
     "text": [
      "result after generate:  {'result': 'buồng trứng đa nang, chậm kinh'}\n",
      "Input: bị buồng trứng đa nang chậm kinh đã 6 tháng | sản phụ khoa | Output: buồng trứng đa nang, chậm kinh\n"
     ]
    },
    {
     "name": "stderr",
     "output_type": "stream",
     "text": [
      "Handle reason combind:   6%|███████▋                                                                                                                | 102/1603 [14:17<2:40:15,  6.41s/it]"
     ]
    },
    {
     "name": "stdout",
     "output_type": "stream",
     "text": [
      "result after generate:  {'result': 'chậm kinh, nghi có thai, thiếu nội tiết tố, thai lưu'}\n",
      "Input: chậm kinh 10 ngày, nghi có thai, thiếu nội tiết tố, trước có tiền sử thai lưu | sản phụ khoa | Output: chậm kinh, nghi có thai, thiếu nội tiết tố, thai lưu\n"
     ]
    },
    {
     "name": "stderr",
     "output_type": "stream",
     "text": [
      "Handle reason combind:   6%|███████▋                                                                                                                | 103/1603 [14:28<3:15:57,  7.84s/it]"
     ]
    },
    {
     "name": "stdout",
     "output_type": "stream",
     "text": [
      "result after generate:  {'result': 'muốn sinh thêm em bé'}\n",
      "Input: khám tổng quát để sinh thêm em bé | sản phụ khoa | Output: muốn sinh thêm em bé\n"
     ]
    },
    {
     "name": "stderr",
     "output_type": "stream",
     "text": [
      "Handle reason combind:   6%|███████▊                                                                                                                | 104/1603 [14:37<3:22:39,  8.11s/it]"
     ]
    },
    {
     "name": "stdout",
     "output_type": "stream",
     "text": [
      "result after generate:  {'result': 'vú ra mủ, áp xe'}\n",
      "Input: vú ra mủ sau khi mổ áp xe được 7 tháng | sản phụ khoa | Output: vú ra mủ, áp xe\n"
     ]
    },
    {
     "name": "stderr",
     "output_type": "stream",
     "text": [
      "Handle reason combind:   7%|███████▊                                                                                                                | 105/1603 [14:38<2:31:50,  6.08s/it]"
     ]
    },
    {
     "name": "stdout",
     "output_type": "stream",
     "text": [
      "result after generate:  {'result': None}\n"
     ]
    },
    {
     "name": "stderr",
     "output_type": "stream",
     "text": [
      "Handle reason combind:   7%|███████▉                                                                                                                | 106/1603 [14:54<3:42:24,  8.91s/it]"
     ]
    },
    {
     "name": "stdout",
     "output_type": "stream",
     "text": [
      "result after generate:  {'result': 'nhiễm virus HPV, bệnh phụ khoa'}\n",
      "Input: bệnh phụ khoa nhiễm virut hpv | sản phụ khoa | Output: nhiễm virus HPV, bệnh phụ khoa\n"
     ]
    },
    {
     "name": "stderr",
     "output_type": "stream",
     "text": [
      "Handle reason combind:   7%|████████                                                                                                                | 107/1603 [14:55<2:49:21,  6.79s/it]"
     ]
    },
    {
     "name": "stdout",
     "output_type": "stream",
     "text": [
      "result after generate:  {'result': 'viêm lộ tuyến cổ tử cung'}\n",
      "Input: viêm lộ tuyến cổ tử cung | sản phụ khoa | Output: viêm lộ tuyến cổ tử cung\n"
     ]
    },
    {
     "name": "stderr",
     "output_type": "stream",
     "text": [
      "Handle reason combind:   7%|████████                                                                                                                | 108/1603 [15:11<3:56:54,  9.51s/it]"
     ]
    },
    {
     "name": "stdout",
     "output_type": "stream",
     "text": [
      "result after generate:  {'result': 'ngứa vùng kín'}\n",
      "Input: ngứa vùng kín | sản phụ khoa | Output: ngứa vùng kín\n"
     ]
    },
    {
     "name": "stderr",
     "output_type": "stream",
     "text": [
      "Handle reason combind:   7%|████████▏                                                                                                               | 109/1603 [15:15<3:14:14,  7.80s/it]"
     ]
    },
    {
     "name": "stdout",
     "output_type": "stream",
     "text": [
      "result after generate:  {'result': 'ngứa rát âm đạo, khí hư ra nhiều màu vàng, mụn rộp'}\n",
      "Input: ngứa rát âm đạo, khí hư ra nhiều màu vàng, tử cung có mụn rộp | sản phụ khoa | Output: ngứa rát âm đạo, khí hư ra nhiều màu vàng, mụn rộp\n"
     ]
    },
    {
     "name": "stderr",
     "output_type": "stream",
     "text": [
      "Handle reason combind:   7%|████████▏                                                                                                               | 110/1603 [15:25<3:32:03,  8.52s/it]"
     ]
    },
    {
     "name": "stdout",
     "output_type": "stream",
     "text": [
      "result after generate:  {'result': 'khí hư ra nhiều'}\n",
      "Input: khí hư ra nhiều | sản phụ khoa | Output: khí hư ra nhiều\n"
     ]
    },
    {
     "name": "stderr",
     "output_type": "stream",
     "text": [
      "Handle reason combind:   7%|████████▎                                                                                                               | 111/1603 [15:37<3:55:16,  9.46s/it]"
     ]
    },
    {
     "name": "stdout",
     "output_type": "stream",
     "text": [
      "result after generate:  {'result': 'nốt mụn ở vùng kín'}\n",
      "Input: phụ khoa, nổi các nốt mụn ở vùng kín | sản phụ khoa | Output: nốt mụn ở vùng kín\n"
     ]
    },
    {
     "name": "stderr",
     "output_type": "stream",
     "text": [
      "Handle reason combind:   7%|████████▍                                                                                                               | 112/1603 [15:40<3:04:16,  7.42s/it]"
     ]
    },
    {
     "name": "stdout",
     "output_type": "stream",
     "text": [
      "result after generate:  {'result': 'kinh nguyệt không đều, ngứa vùng kín'}\n",
      "Input: kinh nguyệt không đều, bị ngứa vùng kín | sản phụ khoa | Output: kinh nguyệt không đều, ngứa vùng kín\n"
     ]
    },
    {
     "name": "stderr",
     "output_type": "stream",
     "text": [
      "Handle reason combind:   7%|████████▍                                                                                                               | 113/1603 [15:46<2:57:26,  7.15s/it]"
     ]
    },
    {
     "name": "stdout",
     "output_type": "stream",
     "text": [
      "result after generate:  {'result': 'mụn cóc, ngứa, khí hư ra nhiều, có mùi hôi, đau rát khi quan hệ'}\n",
      "Input: âm hộ có mụn cóc, ngứa, khí hư ra nhiều, có mùi hôi, đau rát khi quan hệ | sản phụ khoa | Output: mụn cóc, ngứa, khí hư ra nhiều, có mùi hôi, đau rát khi quan hệ\n"
     ]
    },
    {
     "name": "stderr",
     "output_type": "stream",
     "text": [
      "Handle reason combind:   7%|████████▌                                                                                                               | 114/1603 [15:58<3:30:01,  8.46s/it]"
     ]
    },
    {
     "name": "stdout",
     "output_type": "stream",
     "text": [
      "result after generate:  {'result': 'tiểu dắt, lậu'}\n",
      "Input: hay bị tiểu dắt trước và sau kì kinh, nghi ngờ bị lậu | sản phụ khoa | Output: tiểu dắt, lậu\n"
     ]
    },
    {
     "name": "stderr",
     "output_type": "stream",
     "text": [
      "Handle reason combind:   7%|████████▌                                                                                                               | 115/1603 [16:05<3:23:03,  8.19s/it]"
     ]
    },
    {
     "name": "stdout",
     "output_type": "stream",
     "text": [
      "result after generate:  {'result': 'tắc sữa, áp xe vú'}\n",
      "Input: bị tắc sữa dẫn đến áp xe vú | sản phụ khoa | Output: tắc sữa, áp xe vú\n"
     ]
    },
    {
     "name": "stderr",
     "output_type": "stream",
     "text": [
      "Handle reason combind:   7%|████████▋                                                                                                               | 116/1603 [16:24<4:39:34, 11.28s/it]"
     ]
    },
    {
     "name": "stdout",
     "output_type": "stream",
     "text": [
      "result after generate:  {'result': 'tắc tia sữa, cục cứng đau ở ngực, viêm tấy'}\n",
      "Input: mới sinh con 2 tháng, tắc tia sữa nổi cục cứng đau ở ngực , có viêm tấy | sản phụ khoa | Output: tắc tia sữa, cục cứng đau ở ngực, viêm tấy\n"
     ]
    },
    {
     "name": "stderr",
     "output_type": "stream",
     "text": [
      "Handle reason combind:   7%|████████▊                                                                                                               | 117/1603 [16:28<3:47:27,  9.18s/it]"
     ]
    },
    {
     "name": "stdout",
     "output_type": "stream",
     "text": [
      "result after generate:  {'result': 'ngứa phụ khoa, viêm nấm'}\n",
      "Input: ngứa phụ khoa, có thể do viêm nấm | sản phụ khoa | Output: ngứa phụ khoa, viêm nấm\n"
     ]
    },
    {
     "name": "stderr",
     "output_type": "stream",
     "text": [
      "Handle reason combind:   7%|████████▊                                                                                                               | 118/1603 [16:43<4:28:25, 10.85s/it]"
     ]
    },
    {
     "name": "stdout",
     "output_type": "stream",
     "text": [
      "result after generate:  {'result': 'hạch bên vú trái'}\n",
      "Input: có hạch bên vú trái | sản phụ khoa | Output: hạch bên vú trái\n"
     ]
    },
    {
     "name": "stderr",
     "output_type": "stream",
     "text": [
      "Handle reason combind:   7%|████████▉                                                                                                               | 119/1603 [16:52<4:20:35, 10.54s/it]"
     ]
    },
    {
     "name": "stdout",
     "output_type": "stream",
     "text": [
      "result after generate:  {'result': 'khám tổng quát sản phụ khoa'}\n",
      "Input: khám tổng quát sản phụ khoa | sản phụ khoa | Output: khám tổng quát sản phụ khoa\n"
     ]
    },
    {
     "name": "stderr",
     "output_type": "stream",
     "text": [
      "Handle reason combind:   7%|████████▉                                                                                                               | 120/1603 [16:54<3:16:05,  7.93s/it]"
     ]
    },
    {
     "name": "stdout",
     "output_type": "stream",
     "text": [
      "result after generate:  {'result': 'kiểm tra âm đạo'}\n",
      "Input: kiểm tra âm đạo | sản phụ khoa | Output: kiểm tra âm đạo\n"
     ]
    },
    {
     "name": "stderr",
     "output_type": "stream",
     "text": [
      "Handle reason combind:   8%|█████████                                                                                                               | 121/1603 [17:03<3:20:44,  8.13s/it]"
     ]
    },
    {
     "name": "stdout",
     "output_type": "stream",
     "text": [
      "result after generate:  {'result': 'tiểu rắt, đi tiểu nhiều lần, căng tức bụng dưới'}\n",
      "Input: tiểu rắt,đi tiểu nhiều lần,căng tức bụng dưới | sản phụ khoa | Output: tiểu rắt, đi tiểu nhiều lần, căng tức bụng dưới\n"
     ]
    },
    {
     "name": "stderr",
     "output_type": "stream",
     "text": [
      "Handle reason combind:   8%|█████████▏                                                                                                              | 122/1603 [17:04<2:26:13,  5.92s/it]"
     ]
    },
    {
     "name": "stdout",
     "output_type": "stream",
     "text": [
      "result after generate:  {'result': 'ngứa, huyết trắng'}\n",
      "Input: ngứa ra huyết trắng | sản phụ khoa | Output: ngứa, huyết trắng\n"
     ]
    },
    {
     "name": "stderr",
     "output_type": "stream",
     "text": [
      "Handle reason combind:   8%|█████████▏                                                                                                              | 123/1603 [17:15<3:09:09,  7.67s/it]"
     ]
    },
    {
     "name": "stdout",
     "output_type": "stream",
     "text": [
      "result after generate:  {'result': 'ngứa, nhọt'}\n",
      "Input: ngứa có nhọt phần kín | sản phụ khoa | Output: ngứa, nhọt\n"
     ]
    },
    {
     "name": "stderr",
     "output_type": "stream",
     "text": [
      "Handle reason combind:   8%|█████████▎                                                                                                              | 124/1603 [17:17<2:20:34,  5.70s/it]"
     ]
    },
    {
     "name": "stdout",
     "output_type": "stream",
     "text": [
      "result after generate:  {'result': 'kinh nguyệt có màu đen'}\n",
      "Input: kinh nguyệt có màu đen | sản phụ khoa | Output: kinh nguyệt có màu đen\n"
     ]
    },
    {
     "name": "stderr",
     "output_type": "stream",
     "text": [
      "Handle reason combind:   8%|█████████▎                                                                                                              | 125/1603 [17:33<3:38:14,  8.86s/it]"
     ]
    },
    {
     "name": "stdout",
     "output_type": "stream",
     "text": [
      "result after generate:  {'result': 'nốt nhỏ ở âm đạo'}\n",
      "Input: mọc một nốt nhỏ ờ âm đạo | sản phụ khoa | Output: nốt nhỏ ở âm đạo\n"
     ]
    },
    {
     "name": "stderr",
     "output_type": "stream",
     "text": [
      "Handle reason combind:   8%|█████████▍                                                                                                              | 126/1603 [17:49<4:30:23, 10.98s/it]"
     ]
    },
    {
     "name": "stdout",
     "output_type": "stream",
     "text": [
      "result after generate:  {'result': 'viêm nhiễm phụ khoa'}\n",
      "Input: viêm nhiễm phụ khoa | sản phụ khoa | Output: viêm nhiễm phụ khoa\n"
     ]
    },
    {
     "name": "stderr",
     "output_type": "stream",
     "text": [
      "Handle reason combind:   8%|█████████▌                                                                                                              | 127/1603 [17:50<3:17:52,  8.04s/it]"
     ]
    },
    {
     "name": "stdout",
     "output_type": "stream",
     "text": [
      "result after generate:  {'result': 'khám sức khỏe sinh sản'}\n",
      "Input: khám kiểm tra sức khỏe sinh sản | sản phụ khoa | Output: khám sức khỏe sinh sản\n"
     ]
    },
    {
     "name": "stderr",
     "output_type": "stream",
     "text": [
      "Handle reason combind:   8%|█████████▌                                                                                                              | 128/1603 [18:08<4:33:03, 11.11s/it]"
     ]
    },
    {
     "name": "stdout",
     "output_type": "stream",
     "text": [
      "result after generate:  {'result': 'âm đạo ngứa rát, khí hư có biểu hiện lạ'}\n",
      "Input: âm đạo ngứa rát, khí hư có biểu hiện lạ | sản phụ khoa | Output: âm đạo ngứa rát, khí hư có biểu hiện lạ\n"
     ]
    },
    {
     "name": "stderr",
     "output_type": "stream",
     "text": [
      "Handle reason combind:   8%|█████████▋                                                                                                              | 129/1603 [18:19<4:29:50, 10.98s/it]"
     ]
    },
    {
     "name": "stdout",
     "output_type": "stream",
     "text": [
      "result after generate:  {'result': 'khám phụ khoa'}\n",
      "Input: khám phụ khoa và đặt vòng | sản phụ khoa | Output: khám phụ khoa\n"
     ]
    },
    {
     "name": "stderr",
     "output_type": "stream",
     "text": [
      "Handle reason combind:   8%|█████████▋                                                                                                              | 130/1603 [18:29<4:25:59, 10.83s/it]"
     ]
    },
    {
     "name": "stdout",
     "output_type": "stream",
     "text": [
      "result after generate:  {'result': 'khí hư như bã đậu, có mùi lạ, thai khoảng 8 tuần'}\n",
      "Input: khí hư như bã đậu, có mùi lạ (đang có thai khoảng 8 tuần) | sản phụ khoa | Output: khí hư như bã đậu, có mùi lạ, thai khoảng 8 tuần\n"
     ]
    },
    {
     "name": "stderr",
     "output_type": "stream",
     "text": [
      "Handle reason combind:   8%|█████████▊                                                                                                              | 131/1603 [18:35<3:45:31,  9.19s/it]"
     ]
    },
    {
     "name": "stdout",
     "output_type": "stream",
     "text": [
      "result after generate:  {'result': 'ngứa âm đạo, rát âm đạo'}\n",
      "Input: ngứa rát âm đạo | sản phụ khoa | Output: ngứa âm đạo, rát âm đạo\n"
     ]
    },
    {
     "name": "stderr",
     "output_type": "stream",
     "text": [
      "Handle reason combind:   8%|█████████▉                                                                                                              | 132/1603 [18:41<3:20:33,  8.18s/it]"
     ]
    },
    {
     "name": "stdout",
     "output_type": "stream",
     "text": [
      "result after generate:  {'result': 'khí hư bất thường'}\n",
      "Input: ra nhiều khí hư bất thường | sản phụ khoa | Output: khí hư bất thường\n"
     ]
    },
    {
     "name": "stderr",
     "output_type": "stream",
     "text": [
      "Handle reason combind:   8%|█████████▉                                                                                                              | 133/1603 [18:45<2:56:16,  7.19s/it]"
     ]
    },
    {
     "name": "stdout",
     "output_type": "stream",
     "text": [
      "result after generate:  {'result': 'khí hư trắng như bã đậu, quan hệ rát'}\n",
      "Input: ra khí hư trắng như bã đậu, quan hệ rát | sản phụ khoa | Output: khí hư trắng như bã đậu, quan hệ rát\n"
     ]
    },
    {
     "name": "stderr",
     "output_type": "stream",
     "text": [
      "Handle reason combind:   8%|██████████                                                                                                              | 134/1603 [18:52<2:50:28,  6.96s/it]"
     ]
    },
    {
     "name": "stdout",
     "output_type": "stream",
     "text": [
      "result after generate:  {'result': 'ngứa, rát'}\n",
      "Input: ngứa rát vùng kín | sản phụ khoa | Output: ngứa, rát\n"
     ]
    },
    {
     "name": "stderr",
     "output_type": "stream",
     "text": [
      "Handle reason combind:   8%|██████████                                                                                                              | 135/1603 [19:00<3:01:45,  7.43s/it]"
     ]
    },
    {
     "name": "stdout",
     "output_type": "stream",
     "text": [
      "result after generate:  {'result': 'đau rát, ra khí hư'}\n",
      "Input: đau rát và ra khí hư | sản phụ khoa | Output: đau rát, ra khí hư\n"
     ]
    },
    {
     "name": "stderr",
     "output_type": "stream",
     "text": [
      "Handle reason combind:   8%|██████████▏                                                                                                             | 136/1603 [19:12<3:36:04,  8.84s/it]"
     ]
    },
    {
     "name": "stdout",
     "output_type": "stream",
     "text": [
      "result after generate:  {'result': 'tiền sử sinh non'}\n",
      "Input: khám thai vì tiền sử sinh non | sản phụ khoa | Output: tiền sử sinh non\n"
     ]
    },
    {
     "name": "stderr",
     "output_type": "stream",
     "text": [
      "Handle reason combind:   9%|██████████▎                                                                                                             | 137/1603 [19:13<2:37:53,  6.46s/it]"
     ]
    },
    {
     "name": "stdout",
     "output_type": "stream",
     "text": [
      "result after generate:  {'result': 'sưng âm đạo'}\n",
      "Input: sưng âm đạo | sản phụ khoa | Output: sưng âm đạo\n"
     ]
    },
    {
     "name": "stderr",
     "output_type": "stream",
     "text": [
      "Handle reason combind:   9%|██████████▎                                                                                                             | 138/1603 [19:23<2:59:39,  7.36s/it]"
     ]
    },
    {
     "name": "stdout",
     "output_type": "stream",
     "text": [
      "result after generate:  {'result': None}\n"
     ]
    },
    {
     "name": "stderr",
     "output_type": "stream",
     "text": [
      "Handle reason combind:   9%|██████████▍                                                                                                             | 139/1603 [19:35<3:38:00,  8.93s/it]"
     ]
    },
    {
     "name": "stdout",
     "output_type": "stream",
     "text": [
      "result after generate:  {'result': 'viêm tuyến Bartholin'}\n",
      "Input: viêm tuyến bartholin | sản phụ khoa | Output: viêm tuyến Bartholin\n"
     ]
    },
    {
     "name": "stderr",
     "output_type": "stream",
     "text": [
      "Handle reason combind:   9%|██████████▍                                                                                                             | 140/1603 [19:46<3:52:34,  9.54s/it]"
     ]
    },
    {
     "name": "stdout",
     "output_type": "stream",
     "text": [
      "result after generate:  {'result': 'tiết dịch có mùi khó chịu'}\n",
      "Input: bộ phận sinh dục tiết dịch có mùi khó chịu | sản phụ khoa | Output: tiết dịch có mùi khó chịu\n"
     ]
    },
    {
     "name": "stderr",
     "output_type": "stream",
     "text": [
      "Handle reason combind:   9%|██████████▌                                                                                                             | 141/1603 [19:49<3:03:47,  7.54s/it]"
     ]
    },
    {
     "name": "stdout",
     "output_type": "stream",
     "text": [
      "result after generate:  {'result': 'thai kì tuần 33'}\n",
      "Input: theo dõi thai kì tuần 33 | sản phụ khoa | Output: thai kì tuần 33\n"
     ]
    },
    {
     "name": "stderr",
     "output_type": "stream",
     "text": [
      "Handle reason combind:   9%|██████████▋                                                                                                             | 142/1603 [19:59<3:16:09,  8.06s/it]"
     ]
    },
    {
     "name": "stdout",
     "output_type": "stream",
     "text": [
      "result after generate:  {'result': 'chuyển dạ'}\n",
      "Input: khám thai tuần thứ 41, chưa có biểu hiện chuyển dạ | sản phụ khoa | Output: chuyển dạ\n"
     ]
    },
    {
     "name": "stderr",
     "output_type": "stream",
     "text": [
      "Handle reason combind:   9%|██████████▋                                                                                                             | 143/1603 [19:59<2:22:51,  5.87s/it]"
     ]
    },
    {
     "name": "stdout",
     "output_type": "stream",
     "text": [
      "result after generate:  {'result': 'tắc tuyến sữa, áp xe vú'}\n",
      "Input: tắc tuyến sữa, nghi áp xe vú | sản phụ khoa | Output: tắc tuyến sữa, áp xe vú\n"
     ]
    },
    {
     "name": "stderr",
     "output_type": "stream",
     "text": [
      "Handle reason combind:   9%|██████████▊                                                                                                             | 144/1603 [20:16<3:39:49,  9.04s/it]"
     ]
    },
    {
     "name": "stdout",
     "output_type": "stream",
     "text": [
      "result after generate:  {'result': 'viêm tuyến vú'}\n",
      "Input: viêm tuyến vú | sản phụ khoa | Output: viêm tuyến vú\n"
     ]
    },
    {
     "name": "stderr",
     "output_type": "stream",
     "text": [
      "Handle reason combind:   9%|██████████▊                                                                                                             | 145/1603 [20:25<3:42:45,  9.17s/it]"
     ]
    },
    {
     "name": "stdout",
     "output_type": "stream",
     "text": [
      "result after generate:  {'result': 'áp xe vú'}\n",
      "Input: áp xe vú | sản phụ khoa | Output: áp xe vú\n"
     ]
    },
    {
     "name": "stderr",
     "output_type": "stream",
     "text": [
      "Handle reason combind:   9%|██████████▉                                                                                                             | 146/1603 [20:28<2:58:48,  7.36s/it]"
     ]
    },
    {
     "name": "stdout",
     "output_type": "stream",
     "text": [
      "result after generate:  {'result': 'sa thành âm đạo'}\n",
      "Input: sa thành âm đạo | sản phụ khoa | Output: sa thành âm đạo\n"
     ]
    },
    {
     "name": "stderr",
     "output_type": "stream",
     "text": [
      "Handle reason combind:   9%|███████████                                                                                                             | 147/1603 [20:44<3:56:18,  9.74s/it]"
     ]
    },
    {
     "name": "stdout",
     "output_type": "stream",
     "text": [
      "result after generate:  {'result': 'buồng trứng đa nang'}\n",
      "Input: khám buồng trứng đa nang | sản phụ khoa | Output: buồng trứng đa nang\n"
     ]
    },
    {
     "name": "stderr",
     "output_type": "stream",
     "text": [
      "Handle reason combind:   9%|███████████                                                                                                             | 148/1603 [21:01<4:50:32, 11.98s/it]"
     ]
    },
    {
     "name": "stdout",
     "output_type": "stream",
     "text": [
      "result after generate:  {'result': 'ngứa âm đạo, ra dịch màu nâu'}\n",
      "Input: ngứa âm đạo, ra dịch màu nâu | sản phụ khoa | Output: ngứa âm đạo, ra dịch màu nâu\n"
     ]
    },
    {
     "name": "stderr",
     "output_type": "stream",
     "text": [
      "Handle reason combind:   9%|███████████▏                                                                                                            | 149/1603 [21:06<3:57:50,  9.81s/it]"
     ]
    },
    {
     "name": "stdout",
     "output_type": "stream",
     "text": [
      "result after generate:  {'result': 'null'}\n",
      "Input: khám thai tổng quát, siêu âm sàng lọc thai 19 tuần tuổi | sản phụ khoa | Output: null\n"
     ]
    },
    {
     "name": "stderr",
     "output_type": "stream",
     "text": [
      "Handle reason combind:   9%|███████████▏                                                                                                            | 150/1603 [21:16<4:01:29,  9.97s/it]"
     ]
    },
    {
     "name": "stdout",
     "output_type": "stream",
     "text": [
      "result after generate:  {'result': 'cục hạch ở cạnh quầng vú'}\n",
      "Input: có cục hạch ở cạnh quầng vú (đang trong giai đoạn cho con bú) | sản phụ khoa | Output: cục hạch ở cạnh quầng vú\n"
     ]
    },
    {
     "name": "stderr",
     "output_type": "stream",
     "text": [
      "Handle reason combind:   9%|███████████▎                                                                                                            | 151/1603 [21:32<4:47:30, 11.88s/it]"
     ]
    },
    {
     "name": "stdout",
     "output_type": "stream",
     "text": [
      "result after generate:  {'result': 'áp xe vú'}\n",
      "Input: apxe vú | sản phụ khoa | Output: áp xe vú\n"
     ]
    },
    {
     "name": "stderr",
     "output_type": "stream",
     "text": [
      "Handle reason combind:   9%|███████████▍                                                                                                            | 152/1603 [21:33<3:29:08,  8.65s/it]"
     ]
    },
    {
     "name": "stdout",
     "output_type": "stream",
     "text": [
      "result after generate:  {'result': 'vô sinh, hiếm muộn'}\n",
      "Input: khám vô sinh hiếm muộn | sản phụ khoa | Output: vô sinh, hiếm muộn\n"
     ]
    },
    {
     "name": "stderr",
     "output_type": "stream",
     "text": [
      "Handle reason combind:  10%|███████████▍                                                                                                            | 153/1603 [21:52<4:43:25, 11.73s/it]"
     ]
    },
    {
     "name": "stdout",
     "output_type": "stream",
     "text": [
      "result after generate:  {'result': 'ra máu bất thường'}\n",
      "Input: ra máu bất thường | sản phụ khoa | Output: ra máu bất thường\n"
     ]
    },
    {
     "name": "stderr",
     "output_type": "stream",
     "text": [
      "Handle reason combind:  10%|███████████▌                                                                                                            | 154/1603 [22:02<4:27:23, 11.07s/it]"
     ]
    },
    {
     "name": "stdout",
     "output_type": "stream",
     "text": [
      "result after generate:  {'result': 'khí hư bất thường, đau bụng dưới'}\n",
      "Input: thấy có khí hư bất thường, thỉnh thoảng đau bụng dưới | sản phụ khoa | Output: khí hư bất thường, đau bụng dưới\n"
     ]
    },
    {
     "name": "stderr",
     "output_type": "stream",
     "text": [
      "Handle reason combind:  10%|███████████▌                                                                                                            | 155/1603 [22:06<3:34:14,  8.88s/it]"
     ]
    },
    {
     "name": "stdout",
     "output_type": "stream",
     "text": [
      "result after generate:  {'result': 'mất kinh'}\n",
      "Input: mất kinh 4 tháng | sản phụ khoa | Output: mất kinh\n"
     ]
    },
    {
     "name": "stderr",
     "output_type": "stream",
     "text": [
      "Handle reason combind:  10%|███████████▋                                                                                                            | 156/1603 [22:14<3:33:50,  8.87s/it]"
     ]
    },
    {
     "name": "stdout",
     "output_type": "stream",
     "text": [
      "result after generate:  {'result': 'đau tức bụng, khí hư ra nhiều'}\n",
      "Input: đau tức bụng,khí hư ra nhiều | sản phụ khoa | Output: đau tức bụng, khí hư ra nhiều\n"
     ]
    },
    {
     "name": "stderr",
     "output_type": "stream",
     "text": [
      "Handle reason combind:  10%|███████████▊                                                                                                            | 157/1603 [22:19<3:02:44,  7.58s/it]"
     ]
    },
    {
     "name": "stdout",
     "output_type": "stream",
     "text": [
      "result after generate:  {'result': 'mất kinh'}\n",
      "Input: khám mất kinh | sản phụ khoa | Output: mất kinh\n"
     ]
    },
    {
     "name": "stderr",
     "output_type": "stream",
     "text": [
      "Handle reason combind:  10%|███████████▊                                                                                                            | 158/1603 [22:24<2:40:22,  6.66s/it]"
     ]
    },
    {
     "name": "stdout",
     "output_type": "stream",
     "text": [
      "result after generate:  {'result': 'vùng kín'}\n",
      "Input: khám phụ khoa vùng kín | sản phụ khoa | Output: vùng kín\n"
     ]
    },
    {
     "name": "stderr",
     "output_type": "stream",
     "text": [
      "Handle reason combind:  10%|███████████▉                                                                                                            | 159/1603 [22:30<2:41:24,  6.71s/it]"
     ]
    },
    {
     "name": "stdout",
     "output_type": "stream",
     "text": [
      "result after generate:  {'result': 'khí hư có mùi, đi tiểu buốt'}\n",
      "Input: ra khí hư có mùi khó chịu, đi tiểu buốt | sản phụ khoa | Output: khí hư có mùi, đi tiểu buốt\n"
     ]
    },
    {
     "name": "stderr",
     "output_type": "stream",
     "text": [
      "Handle reason combind:  10%|███████████▉                                                                                                            | 160/1603 [22:37<2:38:17,  6.58s/it]"
     ]
    },
    {
     "name": "stdout",
     "output_type": "stream",
     "text": [
      "result after generate:  {'result': 'tiểu buốt'}\n",
      "Input: tiểu buốt | sản phụ khoa | Output: tiểu buốt\n"
     ]
    },
    {
     "name": "stderr",
     "output_type": "stream",
     "text": [
      "Handle reason combind:  10%|████████████                                                                                                            | 161/1603 [22:40<2:14:50,  5.61s/it]"
     ]
    },
    {
     "name": "stdout",
     "output_type": "stream",
     "text": [
      "result after generate:  {'result': 'kinh nguyệt không đều'}\n",
      "Input: kinh nguyệt không đều | sản phụ khoa | Output: kinh nguyệt không đều\n"
     ]
    },
    {
     "name": "stderr",
     "output_type": "stream",
     "text": [
      "Handle reason combind:  10%|████████████▏                                                                                                           | 162/1603 [22:56<3:27:46,  8.65s/it]"
     ]
    },
    {
     "name": "stdout",
     "output_type": "stream",
     "text": [
      "result after generate:  {'result': 'Rong kinh'}\n",
      "Input: rong kinh lâu ngày | sản phụ khoa | Output: Rong kinh\n"
     ]
    },
    {
     "name": "stderr",
     "output_type": "stream",
     "text": [
      "Handle reason combind:  10%|████████████▏                                                                                                           | 163/1603 [23:02<3:11:47,  7.99s/it]"
     ]
    },
    {
     "name": "stdout",
     "output_type": "stream",
     "text": [
      "result after generate:  {'result': None}\n"
     ]
    },
    {
     "name": "stderr",
     "output_type": "stream",
     "text": [
      "Handle reason combind:  10%|████████████▎                                                                                                           | 164/1603 [23:11<3:14:06,  8.09s/it]"
     ]
    },
    {
     "name": "stdout",
     "output_type": "stream",
     "text": [
      "result after generate:  {'result': 'mang bầu tuần 12'}\n",
      "Input: khám phụ khoa (mang bầu tuần 12) | sản phụ khoa | Output: mang bầu tuần 12\n"
     ]
    },
    {
     "name": "stderr",
     "output_type": "stream",
     "text": [
      "Handle reason combind:  10%|████████████▎                                                                                                           | 165/1603 [23:27<4:16:05, 10.69s/it]"
     ]
    },
    {
     "name": "stdout",
     "output_type": "stream",
     "text": [
      "result after generate:  {'result': 'ra dịch âm đạo bất thường'}\n",
      "Input: ra dịch âm đạo bất thường | sản phụ khoa | Output: ra dịch âm đạo bất thường\n"
     ]
    },
    {
     "name": "stderr",
     "output_type": "stream",
     "text": [
      "Handle reason combind:  10%|████████████▍                                                                                                           | 166/1603 [23:32<3:30:49,  8.80s/it]"
     ]
    },
    {
     "name": "stdout",
     "output_type": "stream",
     "text": [
      "result after generate:  {'result': 'rong kinh, đau bụng'}\n",
      "Input: bị rong kinh nhiều ngày, đau bụng | sản phụ khoa | Output: rong kinh, đau bụng\n"
     ]
    },
    {
     "name": "stderr",
     "output_type": "stream",
     "text": [
      "Handle reason combind:  10%|████████████▌                                                                                                           | 167/1603 [23:41<3:31:37,  8.84s/it]"
     ]
    },
    {
     "name": "stdout",
     "output_type": "stream",
     "text": [
      "result after generate:  {'result': 'siêu âm thai'}\n",
      "Input: khám và siêu am thai lần đầu | sản phụ khoa | Output: siêu âm thai\n"
     ]
    },
    {
     "name": "stderr",
     "output_type": "stream",
     "text": [
      "Handle reason combind:  10%|████████████▌                                                                                                           | 168/1603 [23:47<3:11:43,  8.02s/it]"
     ]
    },
    {
     "name": "stdout",
     "output_type": "stream",
     "text": [
      "result after generate:  {'result': 'có thai'}\n",
      "Input: em muốn kiểm tra xem mình có thai hay không? | sản phụ khoa | Output: có thai\n"
     ]
    },
    {
     "name": "stderr",
     "output_type": "stream",
     "text": [
      "Handle reason combind:  11%|████████████▋                                                                                                           | 169/1603 [23:55<3:10:14,  7.96s/it]"
     ]
    },
    {
     "name": "stdout",
     "output_type": "stream",
     "text": [
      "result after generate:  {'result': 'đau âm ỉ bụng dưới'}\n",
      "Input: đau âm ỉ bụng dưới | sản phụ khoa | Output: đau âm ỉ bụng dưới\n"
     ]
    },
    {
     "name": "stderr",
     "output_type": "stream",
     "text": [
      "Handle reason combind:  11%|████████████▋                                                                                                           | 170/1603 [23:58<2:38:44,  6.65s/it]"
     ]
    },
    {
     "name": "stdout",
     "output_type": "stream",
     "text": [
      "result after generate:  {'result': 'đau rát phần phụ'}\n",
      "Input: đau rát phần phụ | sản phụ khoa | Output: đau rát phần phụ\n"
     ]
    },
    {
     "name": "stderr",
     "output_type": "stream",
     "text": [
      "Handle reason combind:  11%|████████████▊                                                                                                           | 171/1603 [24:08<2:58:56,  7.50s/it]"
     ]
    },
    {
     "name": "stdout",
     "output_type": "stream",
     "text": [
      "result after generate:  {'result': 'mụn nước ở bộ phận sinh dục'}\n",
      "Input: bị mụn nước ở bộ phận sinh dục | sản phụ khoa | Output: mụn nước ở bộ phận sinh dục\n"
     ]
    },
    {
     "name": "stderr",
     "output_type": "stream",
     "text": [
      "Handle reason combind:  11%|████████████▉                                                                                                           | 172/1603 [24:09<2:16:23,  5.72s/it]"
     ]
    },
    {
     "name": "stdout",
     "output_type": "stream",
     "text": [
      "result after generate:  {'result': 'nấm candida'}\n",
      "Input: khám phụ khoa, bị nấm candida | sản phụ khoa | Output: nấm candida\n"
     ]
    },
    {
     "name": "stderr",
     "output_type": "stream",
     "text": [
      "Handle reason combind:  11%|████████████▉                                                                                                           | 173/1603 [24:25<3:31:22,  8.87s/it]"
     ]
    },
    {
     "name": "stdout",
     "output_type": "stream",
     "text": [
      "result after generate:  {'result': 'nấm âm đạo'}\n",
      "Input: nấm âm đạo | sản phụ khoa | Output: nấm âm đạo\n"
     ]
    },
    {
     "name": "stderr",
     "output_type": "stream",
     "text": [
      "Handle reason combind:  11%|█████████████                                                                                                           | 174/1603 [24:33<3:22:48,  8.52s/it]"
     ]
    },
    {
     "name": "stdout",
     "output_type": "stream",
     "text": [
      "result after generate:  {'result': 'đau bụng kinh, kinh quằn quại'}\n",
      "Input: đau bụng kinh quằn quại hàng tháng | sản phụ khoa | Output: đau bụng kinh, kinh quằn quại\n"
     ]
    },
    {
     "name": "stderr",
     "output_type": "stream",
     "text": [
      "Handle reason combind:  11%|█████████████                                                                                                           | 175/1603 [24:40<3:12:26,  8.09s/it]"
     ]
    },
    {
     "name": "stdout",
     "output_type": "stream",
     "text": [
      "result after generate:  {'result': 'nghi ngờ chửa ngoài tử cung'}\n",
      "Input: nghi ngờ chửa ngoài tử cung | sản phụ khoa | Output: nghi ngờ chửa ngoài tử cung\n"
     ]
    },
    {
     "name": "stderr",
     "output_type": "stream",
     "text": [
      "Handle reason combind:  11%|█████████████▏                                                                                                          | 176/1603 [24:51<3:32:46,  8.95s/it]"
     ]
    },
    {
     "name": "stdout",
     "output_type": "stream",
     "text": [
      "result after generate:  {'result': 'kinh nguyệt không đều'}\n",
      "Input: kinh nguyệt không đều. muốn có em bé. | sản phụ khoa | Output: kinh nguyệt không đều\n"
     ]
    },
    {
     "name": "stderr",
     "output_type": "stream",
     "text": [
      "Handle reason combind:  11%|█████████████▎                                                                                                          | 177/1603 [24:57<3:07:32,  7.89s/it]"
     ]
    },
    {
     "name": "stdout",
     "output_type": "stream",
     "text": [
      "result after generate:  {'result': 'sâu tử cung'}\n",
      "Input: sa tử cung | sản phụ khoa | Output: sâu tử cung\n"
     ]
    },
    {
     "name": "stderr",
     "output_type": "stream",
     "text": [
      "Handle reason combind:  11%|█████████████▎                                                                                                          | 178/1603 [25:08<3:33:14,  8.98s/it]"
     ]
    },
    {
     "name": "stdout",
     "output_type": "stream",
     "text": [
      "result after generate:  {'result': 'ra nhiều khí hư, viêm lộ tuyến'}\n",
      "Input: khám phụ khoa do ra nhiều khí hư, tiền sử viêm lộ tuyến | sản phụ khoa | Output: ra nhiều khí hư, viêm lộ tuyến\n"
     ]
    },
    {
     "name": "stderr",
     "output_type": "stream",
     "text": [
      "Handle reason combind:  11%|█████████████▍                                                                                                          | 179/1603 [25:09<2:34:20,  6.50s/it]"
     ]
    },
    {
     "name": "stdout",
     "output_type": "stream",
     "text": [
      "result after generate:  {'result': 'u nang buồng trứng, viêm lộ tuyến cổ tử cung'}\n",
      "Input: chuẩn đoán u nang buồng trứng - viêm lộ tuyến cổ tử cung | sản phụ khoa | Output: u nang buồng trứng, viêm lộ tuyến cổ tử cung\n"
     ]
    },
    {
     "name": "stderr",
     "output_type": "stream",
     "text": [
      "Handle reason combind:  11%|█████████████▍                                                                                                          | 180/1603 [25:19<2:57:00,  7.46s/it]"
     ]
    },
    {
     "name": "stdout",
     "output_type": "stream",
     "text": [
      "result after generate:  {'result': 'ngứa vùng kín'}\n",
      "Input: ngứa khí hư vùng kín nhiều | sản phụ khoa | Output: ngứa vùng kín\n"
     ]
    },
    {
     "name": "stderr",
     "output_type": "stream",
     "text": [
      "Handle reason combind:  11%|█████████████▌                                                                                                          | 181/1603 [25:23<2:37:44,  6.66s/it]"
     ]
    },
    {
     "name": "stdout",
     "output_type": "stream",
     "text": [
      "result after generate:  {'result': 'âm hộ tiết dịch trắng có mùi hôi, đóng cục trắng'}\n",
      "Input: khám phụ khoa, âm hộ tiết dịch trắng có mùi hôi và đóng cục trắng | sản phụ khoa | Output: âm hộ tiết dịch trắng có mùi hôi, đóng cục trắng\n"
     ]
    },
    {
     "name": "stderr",
     "output_type": "stream",
     "text": [
      "Handle reason combind:  11%|█████████████▌                                                                                                          | 182/1603 [25:42<4:04:59, 10.34s/it]"
     ]
    },
    {
     "name": "stdout",
     "output_type": "stream",
     "text": [
      "result after generate:  {'result': 'quá kinh'}\n",
      "Input: quá kinh 7 ngày | sản phụ khoa | Output: quá kinh\n"
     ]
    },
    {
     "name": "stderr",
     "output_type": "stream",
     "text": [
      "Handle reason combind:  11%|█████████████▋                                                                                                          | 183/1603 [25:49<3:38:37,  9.24s/it]"
     ]
    },
    {
     "name": "stdout",
     "output_type": "stream",
     "text": [
      "result after generate:  {'result': 'ngứa, nhiều dịch'}\n",
      "Input: ngứa, nhiều dịch | sản phụ khoa | Output: ngứa, nhiều dịch\n"
     ]
    },
    {
     "name": "stderr",
     "output_type": "stream",
     "text": [
      "Handle reason combind:  11%|█████████████▊                                                                                                          | 184/1603 [25:54<3:06:51,  7.90s/it]"
     ]
    },
    {
     "name": "stdout",
     "output_type": "stream",
     "text": [
      "result after generate:  {'result': 'trễ kinh'}\n",
      "Input: trễ kinh từ 16/1 đến nay, đến khám xem có thai không | sản phụ khoa | Output: trễ kinh\n"
     ]
    },
    {
     "name": "stderr",
     "output_type": "stream",
     "text": [
      "Handle reason combind:  12%|█████████████▊                                                                                                          | 185/1603 [25:56<2:29:05,  6.31s/it]"
     ]
    },
    {
     "name": "stdout",
     "output_type": "stream",
     "text": [
      "result after generate:  {'result': None}\n"
     ]
    },
    {
     "name": "stderr",
     "output_type": "stream",
     "text": [
      "Handle reason combind:  12%|█████████████▉                                                                                                          | 186/1603 [26:04<2:40:09,  6.78s/it]"
     ]
    },
    {
     "name": "stdout",
     "output_type": "stream",
     "text": [
      "result after generate:  {'result': 'viêm nhiễm'}\n",
      "Input: có dấu hiệu viêm nhiễm | sản phụ khoa | Output: viêm nhiễm\n"
     ]
    },
    {
     "name": "stderr",
     "output_type": "stream",
     "text": [
      "Handle reason combind:  12%|█████████████▉                                                                                                          | 187/1603 [26:17<3:23:39,  8.63s/it]"
     ]
    },
    {
     "name": "stdout",
     "output_type": "stream",
     "text": [
      "result after generate:  {'result': 'u nang buồng trứng'}\n",
      "Input: u nang buồng trứng | sản phụ khoa | Output: u nang buồng trứng\n"
     ]
    },
    {
     "name": "stderr",
     "output_type": "stream",
     "text": [
      "Handle reason combind:  12%|██████████████                                                                                                          | 188/1603 [26:23<3:07:49,  7.96s/it]"
     ]
    },
    {
     "name": "stdout",
     "output_type": "stream",
     "text": [
      "result after generate:  {'result': 'khám thai dưới 12 tuần'}\n",
      "Input: khám thai dưới 12 tuần | sản phụ khoa | Output: khám thai dưới 12 tuần\n"
     ]
    },
    {
     "name": "stderr",
     "output_type": "stream",
     "text": [
      "Handle reason combind:  12%|██████████████▏                                                                                                         | 189/1603 [26:25<2:21:30,  6.00s/it]"
     ]
    },
    {
     "name": "stdout",
     "output_type": "stream",
     "text": [
      "result after generate:  {'result': 'mụn ở vùng kín'}\n",
      "Input: bị mụn ở vùng kín | sản phụ khoa | Output: mụn ở vùng kín\n"
     ]
    },
    {
     "name": "stderr",
     "output_type": "stream",
     "text": [
      "Handle reason combind:  12%|██████████████▏                                                                                                         | 190/1603 [26:44<3:51:37,  9.84s/it]"
     ]
    },
    {
     "name": "stdout",
     "output_type": "stream",
     "text": [
      "result after generate:  {'result': 'khám thai'}\n",
      "Input: khám xem có thai hay không | sản phụ khoa | Output: khám thai\n"
     ]
    },
    {
     "name": "stderr",
     "output_type": "stream",
     "text": [
      "Handle reason combind:  12%|██████████████▎                                                                                                         | 191/1603 [26:47<3:04:11,  7.83s/it]"
     ]
    },
    {
     "name": "stdout",
     "output_type": "stream",
     "text": [
      "result after generate:  {'result': 'ngứa, rát'}\n",
      "Input: ngứa rát cửa mình | sản phụ khoa | Output: ngứa, rát\n"
     ]
    },
    {
     "name": "stderr",
     "output_type": "stream",
     "text": [
      "Handle reason combind:  12%|██████████████▎                                                                                                         | 192/1603 [27:04<4:12:50, 10.75s/it]"
     ]
    },
    {
     "name": "stdout",
     "output_type": "stream",
     "text": [
      "result after generate:  {'result': 'ra nhiều chất dịch màu trắng đục, ngứa nhẹ'}\n",
      "Input: ra nhiều chất dịch màu trắng đục (giống bã đậu), có ngứa nhẹ ở vùng cửa mình | sản phụ khoa | Output: ra nhiều chất dịch màu trắng đục, ngứa nhẹ\n"
     ]
    },
    {
     "name": "stderr",
     "output_type": "stream",
     "text": [
      "Handle reason combind:  12%|██████████████▍                                                                                                         | 193/1603 [27:11<3:46:13,  9.63s/it]"
     ]
    },
    {
     "name": "stdout",
     "output_type": "stream",
     "text": [
      "result after generate:  {'result': 'kinh nguyệt không đều, chảy máu ngoài chu kỳ kinh nguyệt, khí hư có màu xanh'}\n",
      "Input: kinh nguyệt không đều, chảy máu ngoài chu kỳ kinh nguyệt, khí hư có màu xanh. | sản phụ khoa | Output: kinh nguyệt không đều, chảy máu ngoài chu kỳ kinh nguyệt, khí hư có màu xanh\n"
     ]
    },
    {
     "name": "stderr",
     "output_type": "stream",
     "text": [
      "Handle reason combind:  12%|██████████████▌                                                                                                         | 194/1603 [27:15<3:03:46,  7.83s/it]"
     ]
    },
    {
     "name": "stdout",
     "output_type": "stream",
     "text": [
      "result after generate:  {'result': 'nang naboth'}\n",
      "Input: có nang naboth kt 5mm | sản phụ khoa | Output: nang naboth\n"
     ]
    },
    {
     "name": "stderr",
     "output_type": "stream",
     "text": [
      "Handle reason combind:  12%|██████████████▌                                                                                                         | 195/1603 [27:27<3:35:53,  9.20s/it]"
     ]
    },
    {
     "name": "stdout",
     "output_type": "stream",
     "text": [
      "result after generate:  {'result': 'chảy máu ngoài chu kì kinh'}\n",
      "Input: chảy máu ngoài chu kì kinh | sản phụ khoa | Output: chảy máu ngoài chu kì kinh\n"
     ]
    },
    {
     "name": "stderr",
     "output_type": "stream",
     "text": [
      "Handle reason combind:  12%|██████████████▋                                                                                                         | 196/1603 [27:32<3:05:55,  7.93s/it]"
     ]
    },
    {
     "name": "stdout",
     "output_type": "stream",
     "text": [
      "result after generate:  {'result': None}\n"
     ]
    },
    {
     "name": "stderr",
     "output_type": "stream",
     "text": [
      "Handle reason combind:  12%|██████████████▋                                                                                                         | 197/1603 [27:42<3:14:07,  8.28s/it]"
     ]
    },
    {
     "name": "stdout",
     "output_type": "stream",
     "text": [
      "result after generate:  {'result': 'kinh nguyệt không đều'}\n",
      "Input: kinh nguyệt không đều, tháng có 2 lần, mỗi dần kéo dài 8-10 ngày | sản phụ khoa | Output: kinh nguyệt không đều\n"
     ]
    },
    {
     "name": "stderr",
     "output_type": "stream",
     "text": [
      "Handle reason combind:  12%|██████████████▊                                                                                                         | 198/1603 [27:47<2:53:54,  7.43s/it]"
     ]
    },
    {
     "name": "stdout",
     "output_type": "stream",
     "text": [
      "result after generate:  {'result': 'kinh nguyệt không đều, trứng không phát triển'}\n",
      "Input: kinh nguyệt k đều, trứng k phát triển | sản phụ khoa | Output: kinh nguyệt không đều, trứng không phát triển\n"
     ]
    },
    {
     "name": "stderr",
     "output_type": "stream",
     "text": [
      "Handle reason combind:  12%|██████████████▉                                                                                                         | 199/1603 [27:55<2:58:31,  7.63s/it]"
     ]
    },
    {
     "name": "stdout",
     "output_type": "stream",
     "text": [
      "result after generate:  {'result': 'ngứa ngáy phần ngoài, đau rát khi quan hệ, đau bụng dưới, đau bẹn'}\n",
      "Input: ngứa ngáy phần ngoài và đau rát khi quan hệ. nhiều lần đau bụng dưới và 2 bên bẹn | sản phụ khoa | Output: ngứa ngáy phần ngoài, đau rát khi quan hệ, đau bụng dưới, đau bẹn\n"
     ]
    },
    {
     "name": "stderr",
     "output_type": "stream",
     "text": [
      "Handle reason combind:  12%|██████████████▉                                                                                                         | 200/1603 [27:57<2:16:37,  5.84s/it]"
     ]
    },
    {
     "name": "stdout",
     "output_type": "stream",
     "text": [
      "result after generate:  {'result': 'chảy máu âm đạo ngoài chu kỳ kinh nguyệt'}\n",
      "Input: chảy máu âm đạo ngoài chu kỳ kinh nguyệt | sản phụ khoa | Output: chảy máu âm đạo ngoài chu kỳ kinh nguyệt\n"
     ]
    },
    {
     "name": "stderr",
     "output_type": "stream",
     "text": [
      "Handle reason combind:  13%|███████████████                                                                                                         | 201/1603 [28:12<3:23:54,  8.73s/it]"
     ]
    },
    {
     "name": "stdout",
     "output_type": "stream",
     "text": [
      "result after generate:  {'result': 'triệu chứng lạ ở vùng phụ khoa'}\n",
      "Input: xuất hiện triệu chứng lạ ở vùng phụ khoa | sản phụ khoa | Output: triệu chứng lạ ở vùng phụ khoa\n"
     ]
    },
    {
     "name": "stderr",
     "output_type": "stream",
     "text": [
      "Handle reason combind:  13%|███████████████                                                                                                         | 202/1603 [28:13<2:31:05,  6.47s/it]"
     ]
    },
    {
     "name": "stdout",
     "output_type": "stream",
     "text": [
      "result after generate:  {'result': 'siêu âm buồng chứng, cổ tử cung, nội tiết tố'}\n",
      "Input: siêu âm buồng chứng, cổ tử cung, nội tiết tố | sản phụ khoa | Output: siêu âm buồng chứng, cổ tử cung, nội tiết tố\n"
     ]
    },
    {
     "name": "stderr",
     "output_type": "stream",
     "text": [
      "Handle reason combind:  13%|███████████████▏                                                                                                        | 203/1603 [28:24<2:56:31,  7.57s/it]"
     ]
    },
    {
     "name": "stdout",
     "output_type": "stream",
     "text": [
      "result after generate:  {'result': 'kinh nguyệt không đều, chảy máu bất thường ngoài kinh nguyệt'}\n",
      "Input: kinh nguyệt không đều và chảy máu bất thường ngoài kinh nguyệt | sản phụ khoa | Output: kinh nguyệt không đều, chảy máu bất thường ngoài kinh nguyệt\n"
     ]
    },
    {
     "name": "stderr",
     "output_type": "stream",
     "text": [
      "Handle reason combind:  13%|███████████████▎                                                                                                        | 204/1603 [28:32<3:01:37,  7.79s/it]"
     ]
    },
    {
     "name": "stdout",
     "output_type": "stream",
     "text": [
      "result after generate:  {'result': 'đau khi quan hệ tình dục, khó quan hệ tình dục'}\n",
      "Input: quan hệ tình dục bị đau, không quan hệ được | sản phụ khoa | Output: đau khi quan hệ tình dục, khó quan hệ tình dục\n"
     ]
    },
    {
     "name": "stderr",
     "output_type": "stream",
     "text": [
      "Handle reason combind:  13%|███████████████▎                                                                                                        | 205/1603 [28:33<2:18:19,  5.94s/it]"
     ]
    },
    {
     "name": "stdout",
     "output_type": "stream",
     "text": [
      "result after generate:  {'result': 'sùi mào gà'}\n",
      "Input: nghi bị sùi mào gà | sản phụ khoa | Output: sùi mào gà\n"
     ]
    },
    {
     "name": "stderr",
     "output_type": "stream",
     "text": [
      "Handle reason combind:  13%|███████████████▍                                                                                                        | 206/1603 [28:44<2:48:51,  7.25s/it]"
     ]
    },
    {
     "name": "stdout",
     "output_type": "stream",
     "text": [
      "result after generate:  {'result': 'rong kinh'}\n",
      "Input: rong kinh (khám tư vấn) | sản phụ khoa | Output: rong kinh\n"
     ]
    },
    {
     "name": "stderr",
     "output_type": "stream",
     "text": [
      "Handle reason combind:  13%|███████████████▍                                                                                                        | 207/1603 [28:47<2:17:50,  5.92s/it]"
     ]
    },
    {
     "name": "stdout",
     "output_type": "stream",
     "text": [
      "result after generate:  {'result': 'dị tật'}\n",
      "Input: siêu âm thai 4d tìm dị tật | sản phụ khoa | Output: dị tật\n"
     ]
    },
    {
     "name": "stderr",
     "output_type": "stream",
     "text": [
      "Handle reason combind:  13%|███████████████▌                                                                                                        | 208/1603 [29:04<3:37:35,  9.36s/it]"
     ]
    },
    {
     "name": "stdout",
     "output_type": "stream",
     "text": [
      "result after generate:  {'result': 'đa năng, niêm mạc mỏng'}\n",
      "Input: đa năng, niêm mạc mỏng, mong con | sản phụ khoa | Output: đa năng, niêm mạc mỏng\n"
     ]
    },
    {
     "name": "stderr",
     "output_type": "stream",
     "text": [
      "Handle reason combind:  13%|███████████████▋                                                                                                        | 209/1603 [29:11<3:21:18,  8.66s/it]"
     ]
    },
    {
     "name": "stdout",
     "output_type": "stream",
     "text": [
      "result after generate:  {'result': 'đau bụng quằn quại, chậm kinh'}\n",
      "Input: que thử thai 2 vạch chậm kinh 1 tháng tuy nhiên xuất hiện triệu chứng đau bụng quằn quại như đau bụng kinh khiến k ngủ đc. | sản phụ khoa | Output: đau bụng quằn quại, chậm kinh\n"
     ]
    },
    {
     "name": "stderr",
     "output_type": "stream",
     "text": [
      "Handle reason combind:  13%|███████████████▋                                                                                                        | 210/1603 [29:14<2:45:08,  7.11s/it]"
     ]
    },
    {
     "name": "stdout",
     "output_type": "stream",
     "text": [
      "result after generate:  {'result': 'nấm cadidan'}\n",
      "Input: khám về nấm cadidan | sản phụ khoa | Output: nấm cadidan\n"
     ]
    },
    {
     "name": "stderr",
     "output_type": "stream",
     "text": [
      "Handle reason combind:  13%|███████████████▊                                                                                                        | 211/1603 [29:17<2:15:28,  5.84s/it]"
     ]
    },
    {
     "name": "stdout",
     "output_type": "stream",
     "text": [
      "result after generate:  {'result': 'vô sinh'}\n",
      "Input: mong muốn có con | sản phụ khoa | Output: vô sinh\n"
     ]
    },
    {
     "name": "stderr",
     "output_type": "stream",
     "text": [
      "Handle reason combind:  13%|███████████████▊                                                                                                        | 212/1603 [29:37<3:53:53, 10.09s/it]"
     ]
    },
    {
     "name": "stdout",
     "output_type": "stream",
     "text": [
      "result after generate:  {'result': 'mờ da gáy'}\n",
      "Input: khám siêu âm mờ da gáy ạ | sản phụ khoa | Output: mờ da gáy\n"
     ]
    },
    {
     "name": "stderr",
     "output_type": "stream",
     "text": [
      "Handle reason combind:  13%|███████████████▉                                                                                                        | 213/1603 [29:39<2:56:24,  7.61s/it]"
     ]
    },
    {
     "name": "stdout",
     "output_type": "stream",
     "text": [
      "result after generate:  {'result': 'dấu hiệu của bệnh phụ khoa'}\n",
      "Input: có dấu hiệu của bệnh phụ khoa | sản phụ khoa | Output: dấu hiệu của bệnh phụ khoa\n"
     ]
    },
    {
     "name": "stderr",
     "output_type": "stream",
     "text": [
      "Handle reason combind:  13%|████████████████                                                                                                        | 214/1603 [29:54<3:42:47,  9.62s/it]"
     ]
    },
    {
     "name": "stdout",
     "output_type": "stream",
     "text": [
      "result after generate:  {'result': 'lạc nội mạc buồng trứng, viêm âm đạo'}\n",
      "Input: lạc nội mạc buồng trứng trái + viêm âm đạo | sản phụ khoa | Output: lạc nội mạc buồng trứng, viêm âm đạo\n"
     ]
    },
    {
     "name": "stderr",
     "output_type": "stream",
     "text": [
      "Handle reason combind:  13%|████████████████                                                                                                        | 215/1603 [30:01<3:27:22,  8.96s/it]"
     ]
    },
    {
     "name": "stdout",
     "output_type": "stream",
     "text": [
      "result after generate:  {'result': 'rối loạn kinh nguyệt'}\n",
      "Input: rối loạn kinh nguyệt | sản phụ khoa | Output: rối loạn kinh nguyệt\n"
     ]
    },
    {
     "name": "stderr",
     "output_type": "stream",
     "text": [
      "Handle reason combind:  13%|████████████████▏                                                                                                       | 216/1603 [30:04<2:49:41,  7.34s/it]"
     ]
    },
    {
     "name": "stdout",
     "output_type": "stream",
     "text": [
      "result after generate:  {'result': 'kinh nguyệt không sạch, đau bụng, rong kinh'}\n",
      "Input: kinh nguyệt không sạch,  đau bụng rong kinh | sản phụ khoa | Output: kinh nguyệt không sạch, đau bụng, rong kinh\n"
     ]
    },
    {
     "name": "stderr",
     "output_type": "stream",
     "text": [
      "Handle reason combind:  14%|████████████████▏                                                                                                       | 217/1603 [30:17<3:23:57,  8.83s/it]"
     ]
    },
    {
     "name": "stdout",
     "output_type": "stream",
     "text": [
      "result after generate:  {'result': None}\n"
     ]
    },
    {
     "name": "stderr",
     "output_type": "stream",
     "text": [
      "Handle reason combind:  14%|████████████████▎                                                                                                       | 218/1603 [30:26<3:24:07,  8.84s/it]"
     ]
    },
    {
     "name": "stdout",
     "output_type": "stream",
     "text": [
      "result after generate:  {'result': 'ra kinh giữa kỳ'}\n",
      "Input: bị ra kinh giữa kỳ | sản phụ khoa | Output: ra kinh giữa kỳ\n"
     ]
    },
    {
     "name": "stderr",
     "output_type": "stream",
     "text": [
      "Handle reason combind:  14%|████████████████▍                                                                                                       | 219/1603 [30:26<2:26:55,  6.37s/it]"
     ]
    },
    {
     "name": "stdout",
     "output_type": "stream",
     "text": [
      "result after generate:  {'result': 'dị tật thai nhi'}\n",
      "Input: siêu âm và khám thai chẩn đoán dị tật thai nhi sớm | sản phụ khoa | Output: dị tật thai nhi\n"
     ]
    },
    {
     "name": "stderr",
     "output_type": "stream",
     "text": [
      "Handle reason combind:  14%|████████████████▍                                                                                                       | 220/1603 [30:42<3:34:05,  9.29s/it]"
     ]
    },
    {
     "name": "stdout",
     "output_type": "stream",
     "text": [
      "result after generate:  {'result': 'đau buốt ngực, cương ngực'}\n",
      "Input: mới sinh  hôm nay bị đau buốt ngực dù ko bị sưng , cương ngực. con bú bình thường 15 ngày nay. | sản phụ khoa | Output: đau buốt ngực, cương ngực\n"
     ]
    },
    {
     "name": "stderr",
     "output_type": "stream",
     "text": [
      "Handle reason combind:  14%|████████████████▌                                                                                                       | 221/1603 [30:44<2:40:01,  6.95s/it]"
     ]
    },
    {
     "name": "stdout",
     "output_type": "stream",
     "text": [
      "result after generate:  {'result': 'mong muốn biết có thai'}\n",
      "Input: muốn biết mình đã có thai hay chưa | sản phụ khoa | Output: mong muốn biết có thai\n"
     ]
    },
    {
     "name": "stderr",
     "output_type": "stream",
     "text": [
      "Handle reason combind:  14%|████████████████▌                                                                                                       | 222/1603 [30:53<2:56:46,  7.68s/it]"
     ]
    },
    {
     "name": "stdout",
     "output_type": "stream",
     "text": [
      "result after generate:  {'result': 'rong kinh'}\n",
      "Input: tự dưng xuất hiện rong kinh 10 ngày chưa hết | sản phụ khoa | Output: rong kinh\n"
     ]
    },
    {
     "name": "stderr",
     "output_type": "stream",
     "text": [
      "Handle reason combind:  14%|████████████████▋                                                                                                       | 223/1603 [30:55<2:16:10,  5.92s/it]"
     ]
    },
    {
     "name": "stdout",
     "output_type": "stream",
     "text": [
      "result after generate:  {'result': 'hiếm muộn'}\n",
      "Input: hiếm muộn | sản phụ khoa | Output: hiếm muộn\n"
     ]
    },
    {
     "name": "stderr",
     "output_type": "stream",
     "text": [
      "Handle reason combind:  14%|████████████████▊                                                                                                       | 224/1603 [31:04<2:35:07,  6.75s/it]"
     ]
    },
    {
     "name": "stdout",
     "output_type": "stream",
     "text": [
      "result after generate:  {'result': 'hiếm muộn'}\n",
      "Input: hiếm muộn (kết hôn 3 năm chưa có con) | sản phụ khoa | Output: hiếm muộn\n"
     ]
    },
    {
     "name": "stderr",
     "output_type": "stream",
     "text": [
      "Handle reason combind:  14%|████████████████▊                                                                                                       | 225/1603 [31:19<3:30:18,  9.16s/it]"
     ]
    },
    {
     "name": "stdout",
     "output_type": "stream",
     "text": [
      "result after generate:  {'result': None}\n"
     ]
    },
    {
     "name": "stderr",
     "output_type": "stream",
     "text": [
      "Handle reason combind:  14%|████████████████▉                                                                                                       | 226/1603 [31:20<2:39:37,  6.96s/it]"
     ]
    },
    {
     "name": "stdout",
     "output_type": "stream",
     "text": [
      "result after generate:  {'result': 'đau ngực'}\n",
      "Input: đau ngực, muốn khám kiểm tra sức khỏe sinh sản | sản phụ khoa | Output: đau ngực\n"
     ]
    },
    {
     "name": "stderr",
     "output_type": "stream",
     "text": [
      "Handle reason combind:  14%|████████████████▉                                                                                                       | 227/1603 [31:29<2:54:40,  7.62s/it]"
     ]
    },
    {
     "name": "stdout",
     "output_type": "stream",
     "text": [
      "result after generate:  {'result': 'vô sinh'}\n",
      "Input: lấy chồng được 3 năm rồi chưa có con | sản phụ khoa | Output: vô sinh\n"
     ]
    },
    {
     "name": "stderr",
     "output_type": "stream",
     "text": [
      "Handle reason combind:  14%|█████████████████                                                                                                       | 228/1603 [31:39<3:10:55,  8.33s/it]"
     ]
    },
    {
     "name": "stdout",
     "output_type": "stream",
     "text": [
      "result after generate:  {'result': 'u xơ tử cung'}\n",
      "Input: có dấu hiệu u xơ tử cung, chưa lập gia đình | sản phụ khoa | Output: u xơ tử cung\n"
     ]
    },
    {
     "name": "stderr",
     "output_type": "stream",
     "text": [
      "Handle reason combind:  14%|█████████████████▏                                                                                                      | 229/1603 [31:45<2:49:10,  7.39s/it]"
     ]
    },
    {
     "name": "stdout",
     "output_type": "stream",
     "text": [
      "result after generate:  {'result': 'ra máu rong kinh, viêm lộ tuyến cổ tử cung'}\n",
      "Input: bị ra máu rong kinh nhiều trong 1 tháng trở lại đây, vị viêm lộ tuyến cổ tử cung | sản phụ khoa | Output: ra máu rong kinh, viêm lộ tuyến cổ tử cung\n"
     ]
    },
    {
     "name": "stderr",
     "output_type": "stream",
     "text": [
      "Handle reason combind:  14%|█████████████████▏                                                                                                      | 230/1603 [31:54<3:01:06,  7.91s/it]"
     ]
    },
    {
     "name": "stdout",
     "output_type": "stream",
     "text": [
      "result after generate:  {'result': 'kinh nguyệt không đều, đông vón cục'}\n",
      "Input: có kinh 2 lần 1 tháng, đông vón cục | sản phụ khoa | Output: kinh nguyệt không đều, đông vón cục\n"
     ]
    },
    {
     "name": "stderr",
     "output_type": "stream",
     "text": [
      "Handle reason combind:  14%|█████████████████▎                                                                                                      | 231/1603 [32:00<2:48:13,  7.36s/it]"
     ]
    },
    {
     "name": "stdout",
     "output_type": "stream",
     "text": [
      "result after generate:  {'result': 'ra máu khi quan hệ'}\n",
      "Input: bị ra máu khi quan hệ | sản phụ khoa | Output: ra máu khi quan hệ\n"
     ]
    },
    {
     "name": "stderr",
     "output_type": "stream",
     "text": [
      "Handle reason combind:  14%|█████████████████▎                                                                                                      | 232/1603 [32:10<3:04:17,  8.07s/it]"
     ]
    },
    {
     "name": "stdout",
     "output_type": "stream",
     "text": [
      "result after generate:  {'result': 'polyp cổ tử cung, thai 6 tuần'}\n",
      "Input: polyp cổ tử cung, thai 6 tuần | sản phụ khoa | Output: polyp cổ tử cung, thai 6 tuần\n"
     ]
    },
    {
     "name": "stderr",
     "output_type": "stream",
     "text": [
      "Handle reason combind:  15%|█████████████████▍                                                                                                      | 233/1603 [32:15<2:43:42,  7.17s/it]"
     ]
    },
    {
     "name": "stdout",
     "output_type": "stream",
     "text": [
      "result after generate:  {'result': 'dịch màu hồng'}\n",
      "Input: khám thai, có dịch màu hồng | sản phụ khoa | Output: dịch màu hồng\n"
     ]
    },
    {
     "name": "stderr",
     "output_type": "stream",
     "text": [
      "Handle reason combind:  15%|█████████████████▌                                                                                                      | 234/1603 [32:21<2:37:35,  6.91s/it]"
     ]
    },
    {
     "name": "stdout",
     "output_type": "stream",
     "text": [
      "result after generate:  {'result': 'rối loạn kinh nguyệt, bệnh phụ khoa'}\n",
      "Input: rối loạn kinh nguyệt+ khám các bệnh phụ khoa | sản phụ khoa | Output: rối loạn kinh nguyệt, bệnh phụ khoa\n"
     ]
    },
    {
     "name": "stderr",
     "output_type": "stream",
     "text": [
      "Handle reason combind:  15%|█████████████████▌                                                                                                      | 235/1603 [32:38<3:43:24,  9.80s/it]"
     ]
    },
    {
     "name": "stdout",
     "output_type": "stream",
     "text": [
      "result after generate:  {'result': 'tiểu rát'}\n",
      "Input: tiểu rát | sản phụ khoa | Output: tiểu rát\n"
     ]
    },
    {
     "name": "stderr",
     "output_type": "stream",
     "text": [
      "Handle reason combind:  15%|█████████████████▋                                                                                                      | 236/1603 [32:42<3:09:28,  8.32s/it]"
     ]
    },
    {
     "name": "stdout",
     "output_type": "stream",
     "text": [
      "result after generate:  {'result': 'đau rát âm đạo'}\n",
      "Input: bị đau rát âm đạo | sản phụ khoa | Output: đau rát âm đạo\n"
     ]
    },
    {
     "name": "stderr",
     "output_type": "stream",
     "text": [
      "Handle reason combind:  15%|█████████████████▋                                                                                                      | 237/1603 [32:54<3:28:46,  9.17s/it]"
     ]
    },
    {
     "name": "stdout",
     "output_type": "stream",
     "text": [
      "result after generate:  {'result': 'khí hư ra nhiều, màu trắng đục, có mùi hôi, ngứa khó chịu'}\n",
      "Input: khí hư ra nhiều, màu trắng đục. có mùi hôi kèm ngứa khó chịu | sản phụ khoa | Output: khí hư ra nhiều, màu trắng đục, có mùi hôi, ngứa khó chịu\n"
     ]
    },
    {
     "name": "stderr",
     "output_type": "stream",
     "text": [
      "Handle reason combind:  15%|█████████████████▊                                                                                                      | 238/1603 [32:55<2:33:59,  6.77s/it]"
     ]
    },
    {
     "name": "stdout",
     "output_type": "stream",
     "text": [
      "result after generate:  {'result': 'nổi mụn ở âm đạo'}\n",
      "Input: nổi mụn ở âm đạo | sản phụ khoa | Output: nổi mụn ở âm đạo\n"
     ]
    },
    {
     "name": "stderr",
     "output_type": "stream",
     "text": [
      "Handle reason combind:  15%|█████████████████▉                                                                                                      | 239/1603 [33:12<3:45:11,  9.91s/it]"
     ]
    },
    {
     "name": "stdout",
     "output_type": "stream",
     "text": [
      "result after generate:  {'result': 'lỡ uống thuốc tây trong thời gian mang thai'}\n",
      "Input: tư vấn lỡ uống thuốc tây trong thời gian mang thai | sản phụ khoa | Output: lỡ uống thuốc tây trong thời gian mang thai\n"
     ]
    },
    {
     "name": "stderr",
     "output_type": "stream",
     "text": [
      "Handle reason combind:  15%|█████████████████▉                                                                                                      | 240/1603 [33:16<3:07:10,  8.24s/it]"
     ]
    },
    {
     "name": "stdout",
     "output_type": "stream",
     "text": [
      "result after generate:  {'result': None}\n"
     ]
    },
    {
     "name": "stderr",
     "output_type": "stream",
     "text": [
      "Handle reason combind:  15%|██████████████████                                                                                                      | 241/1603 [33:21<2:40:09,  7.06s/it]"
     ]
    },
    {
     "name": "stdout",
     "output_type": "stream",
     "text": [
      "result after generate:  {'result': 'viêm phụ khoa, khí hư bất thường'}\n",
      "Input: viêm phụ khoa, khí hư bất thường | sản phụ khoa | Output: viêm phụ khoa, khí hư bất thường\n"
     ]
    },
    {
     "name": "stderr",
     "output_type": "stream",
     "text": [
      "Handle reason combind:  15%|██████████████████                                                                                                      | 242/1603 [33:39<3:59:18, 10.55s/it]"
     ]
    },
    {
     "name": "stdout",
     "output_type": "stream",
     "text": [
      "result after generate:  {'result': 'rong kinh nguyệt'}\n",
      "Input: bị rong kinh nguyệt | sản phụ khoa | Output: rong kinh nguyệt\n"
     ]
    },
    {
     "name": "stderr",
     "output_type": "stream",
     "text": [
      "Handle reason combind:  15%|██████████████████▏                                                                                                     | 243/1603 [33:51<4:10:29, 11.05s/it]"
     ]
    },
    {
     "name": "stdout",
     "output_type": "stream",
     "text": [
      "result after generate:  {'result': 'thai sản'}\n",
      "Input: thai sản | sản phụ khoa | Output: thai sản\n"
     ]
    },
    {
     "name": "stderr",
     "output_type": "stream",
     "text": [
      "Handle reason combind:  15%|██████████████████▎                                                                                                     | 244/1603 [33:52<3:01:00,  7.99s/it]"
     ]
    },
    {
     "name": "stdout",
     "output_type": "stream",
     "text": [
      "result after generate:  {'result': 'khí hư ra màu vàng xanh'}\n",
      "Input: khí hư ra màu vàng xanh ! | sản phụ khoa | Output: khí hư ra màu vàng xanh\n"
     ]
    },
    {
     "name": "stderr",
     "output_type": "stream",
     "text": [
      "Handle reason combind:  15%|██████████████████▎                                                                                                     | 245/1603 [34:10<4:09:11, 11.01s/it]"
     ]
    },
    {
     "name": "stdout",
     "output_type": "stream",
     "text": [
      "result after generate:  {'result': 'kinh nguyệt không đều, kinh nguyệt thất thường'}\n",
      "Input: sau khi kết hôn thì kinh nguyệt không đều, kinh nguyệt thất thường, tháng ít, tháng nhiều. | sản phụ khoa | Output: kinh nguyệt không đều, kinh nguyệt thất thường\n"
     ]
    },
    {
     "name": "stderr",
     "output_type": "stream",
     "text": [
      "Handle reason combind:  15%|██████████████████▍                                                                                                     | 246/1603 [34:14<3:17:01,  8.71s/it]"
     ]
    },
    {
     "name": "stdout",
     "output_type": "stream",
     "text": [
      "result after generate:  {'result': 'khám thai hơn 12 tuần, phụ khoa'}\n",
      "Input: khám thai hơn 12 tuần, phụ khoa | sản phụ khoa | Output: khám thai hơn 12 tuần, phụ khoa\n"
     ]
    },
    {
     "name": "stderr",
     "output_type": "stream",
     "text": [
      "Handle reason combind:  15%|██████████████████▍                                                                                                     | 247/1603 [34:24<3:26:19,  9.13s/it]"
     ]
    },
    {
     "name": "stdout",
     "output_type": "stream",
     "text": [
      "result after generate:  {'result': 'ra dịch màu nâu đậm'}\n",
      "Input: kiểm tra thai, bị ra dịch màu nâu đậm | sản phụ khoa | Output: ra dịch màu nâu đậm\n"
     ]
    },
    {
     "name": "stderr",
     "output_type": "stream",
     "text": [
      "Handle reason combind:  15%|██████████████████▌                                                                                                     | 248/1603 [34:29<3:00:55,  8.01s/it]"
     ]
    },
    {
     "name": "stdout",
     "output_type": "stream",
     "text": [
      "result after generate:  {'result': 'khám thai, siêu âm thai'}\n",
      "Input: khám thai và siêu âm thai tuần 27 - 28 | sản phụ khoa | Output: khám thai, siêu âm thai\n"
     ]
    },
    {
     "name": "stderr",
     "output_type": "stream",
     "text": [
      "Handle reason combind:  16%|██████████████████▋                                                                                                     | 249/1603 [34:45<3:50:44, 10.23s/it]"
     ]
    },
    {
     "name": "stdout",
     "output_type": "stream",
     "text": [
      "result after generate:  {'result': 'ngứa âm đạo, nốt hạt li ti ở âm đạo'}\n",
      "Input: ngứa âm đạo, nỗi hạt li ti ở đạo... | sản phụ khoa | Output: ngứa âm đạo, nốt hạt li ti ở âm đạo\n"
     ]
    },
    {
     "name": "stderr",
     "output_type": "stream",
     "text": [
      "Handle reason combind:  16%|██████████████████▋                                                                                                     | 250/1603 [34:46<2:48:22,  7.47s/it]"
     ]
    },
    {
     "name": "stdout",
     "output_type": "stream",
     "text": [
      "result after generate:  {'result': 'Kinh nguyệt kéo dài'}\n",
      "Input: kinh nguyệt kéo dài quá lâu | sản phụ khoa | Output: Kinh nguyệt kéo dài\n"
     ]
    },
    {
     "name": "stderr",
     "output_type": "stream",
     "text": [
      "Handle reason combind:  16%|██████████████████▊                                                                                                     | 251/1603 [35:03<3:56:06, 10.48s/it]"
     ]
    },
    {
     "name": "stdout",
     "output_type": "stream",
     "text": [
      "result after generate:  {'result': 'ngứa, đau rát, sưng'}\n",
      "Input: ngứa đau rát và sưng 1 bên môi lớn | sản phụ khoa | Output: ngứa, đau rát, sưng\n"
     ]
    },
    {
     "name": "stderr",
     "output_type": "stream",
     "text": [
      "Handle reason combind:  16%|██████████████████▊                                                                                                     | 252/1603 [35:11<3:38:35,  9.71s/it]"
     ]
    },
    {
     "name": "stdout",
     "output_type": "stream",
     "text": [
      "result after generate:  {'result': 'âm đạo ngứa, ra dịch vàng trắng, tiểu buốt'}\n",
      "Input: âm đạo ngứa, ra dịch vàng trắng, tiểu buốt | sản phụ khoa | Output: âm đạo ngứa, ra dịch vàng trắng, tiểu buốt\n"
     ]
    },
    {
     "name": "stderr",
     "output_type": "stream",
     "text": [
      "Handle reason combind:  16%|██████████████████▉                                                                                                     | 253/1603 [35:27<4:23:07, 11.69s/it]"
     ]
    },
    {
     "name": "stdout",
     "output_type": "stream",
     "text": [
      "result after generate:  {'result': 'đau ngực, sưng ngực'}\n",
      "Input: đau sưng ngực | sản phụ khoa | Output: đau ngực, sưng ngực\n"
     ]
    },
    {
     "name": "stderr",
     "output_type": "stream",
     "text": [
      "Handle reason combind:  16%|███████████████████                                                                                                     | 254/1603 [35:38<4:14:33, 11.32s/it]"
     ]
    },
    {
     "name": "stdout",
     "output_type": "stream",
     "text": [
      "result after generate:  {'result': 'ra máu'}\n",
      "Input: bị ra máu gần 1 tuần không rõ nguyên nhân | sản phụ khoa | Output: ra máu\n"
     ]
    },
    {
     "name": "stderr",
     "output_type": "stream",
     "text": [
      "Handle reason combind:  16%|███████████████████                                                                                                     | 255/1603 [35:43<3:30:39,  9.38s/it]"
     ]
    },
    {
     "name": "stdout",
     "output_type": "stream",
     "text": [
      "result after generate:  {'result': 'ngứa âm đạo, khí hư ra nhiều, kinh nguyệt không đều'}\n",
      "Input: ngứa âm đạo, khí hư ra nhiều, kinh nguyệt không đều | sản phụ khoa | Output: ngứa âm đạo, khí hư ra nhiều, kinh nguyệt không đều\n"
     ]
    },
    {
     "name": "stderr",
     "output_type": "stream",
     "text": [
      "Handle reason combind:  16%|███████████████████▏                                                                                                    | 256/1603 [35:52<3:27:24,  9.24s/it]"
     ]
    },
    {
     "name": "stdout",
     "output_type": "stream",
     "text": [
      "result after generate:  {'result': 'kinh nguyệt bất thường'}\n",
      "Input: kinh nguyệt bất thường sau khi uống thuốc tránh thai | sản phụ khoa | Output: kinh nguyệt bất thường\n"
     ]
    },
    {
     "name": "stderr",
     "output_type": "stream",
     "text": [
      "Handle reason combind:  16%|███████████████████▏                                                                                                    | 257/1603 [36:08<4:16:13, 11.42s/it]"
     ]
    },
    {
     "name": "stdout",
     "output_type": "stream",
     "text": [
      "result after generate:  {'result': 'Rong kinh'}\n",
      "Input: rong kinh nhiều ngày | sản phụ khoa | Output: Rong kinh\n"
     ]
    },
    {
     "name": "stderr",
     "output_type": "stream",
     "text": [
      "Handle reason combind:  16%|███████████████████▎                                                                                                    | 258/1603 [36:14<3:38:40,  9.76s/it]"
     ]
    },
    {
     "name": "stdout",
     "output_type": "stream",
     "text": [
      "result after generate:  {'result': 'khí hư màu vàng loãng, đi tiểu ít, khó chịu'}\n",
      "Input: khí hư màu vàng loãng , đi tiểu ít , khó chịu | sản phụ khoa | Output: khí hư màu vàng loãng, đi tiểu ít, khó chịu\n"
     ]
    },
    {
     "name": "stderr",
     "output_type": "stream",
     "text": [
      "Handle reason combind:  16%|███████████████████▍                                                                                                    | 259/1603 [36:24<3:42:17,  9.92s/it]"
     ]
    },
    {
     "name": "stdout",
     "output_type": "stream",
     "text": [
      "result after generate:  {'result': 'thai ngoài tử cung'}\n",
      "Input: khám thai nghi ngoài tử cung | sản phụ khoa | Output: thai ngoài tử cung\n"
     ]
    },
    {
     "name": "stderr",
     "output_type": "stream",
     "text": [
      "Handle reason combind:  16%|███████████████████▍                                                                                                    | 260/1603 [36:36<3:51:28, 10.34s/it]"
     ]
    },
    {
     "name": "stdout",
     "output_type": "stream",
     "text": [
      "result after generate:  {'result': 'lạc nội mạc tử cung, viêm lộ tuyến, viêm âm đạo'}\n",
      "Input: lạc nội mạc tử cung và viêm lộ tuyến, âm đạo | sản phụ khoa | Output: lạc nội mạc tử cung, viêm lộ tuyến, viêm âm đạo\n"
     ]
    },
    {
     "name": "stderr",
     "output_type": "stream",
     "text": [
      "Handle reason combind:  16%|███████████████████▌                                                                                                    | 261/1603 [36:39<3:07:20,  8.38s/it]"
     ]
    },
    {
     "name": "stdout",
     "output_type": "stream",
     "text": [
      "result after generate:  {'result': None}\n"
     ]
    },
    {
     "name": "stderr",
     "output_type": "stream",
     "text": [
      "Handle reason combind:  16%|███████████████████▌                                                                                                    | 262/1603 [36:47<3:04:00,  8.23s/it]"
     ]
    },
    {
     "name": "stdout",
     "output_type": "stream",
     "text": [
      "result after generate:  {'result': 'khí hư vàng, vô sinh thứ cấp'}\n",
      "Input: ra khí hư vàng và tư vấn vô sinh thứ cấp | sản phụ khoa | Output: khí hư vàng, vô sinh thứ cấp\n"
     ]
    },
    {
     "name": "stderr",
     "output_type": "stream",
     "text": [
      "Handle reason combind:  16%|███████████████████▋                                                                                                    | 263/1603 [36:54<2:50:27,  7.63s/it]"
     ]
    },
    {
     "name": "stdout",
     "output_type": "stream",
     "text": [
      "result after generate:  {'result': 'vô sinh'}\n",
      "Input: chưa có con | sản phụ khoa | Output: vô sinh\n"
     ]
    },
    {
     "name": "stderr",
     "output_type": "stream",
     "text": [
      "Handle reason combind:  16%|███████████████████▊                                                                                                    | 264/1603 [36:58<2:27:31,  6.61s/it]"
     ]
    },
    {
     "name": "stdout",
     "output_type": "stream",
     "text": [
      "result after generate:  {'result': 'kinh nguyệt không đều, vô kinh'}\n",
      "Input: kinh nguyệt không đều, đã gần 2 tháng không có kinh nguyệt. muốn kiểm tra sức khỏe sinh sản | sản phụ khoa | Output: kinh nguyệt không đều, vô kinh\n"
     ]
    },
    {
     "name": "stderr",
     "output_type": "stream",
     "text": [
      "Handle reason combind:  17%|███████████████████▊                                                                                                    | 265/1603 [37:13<3:26:27,  9.26s/it]"
     ]
    },
    {
     "name": "stdout",
     "output_type": "stream",
     "text": [
      "result after generate:  {'result': 'nốt mụn thịt li ti ở âm đạo'}\n",
      "Input: âm đạo mọc những nốt mụn thịt li ti | sản phụ khoa | Output: nốt mụn thịt li ti ở âm đạo\n"
     ]
    },
    {
     "name": "stderr",
     "output_type": "stream",
     "text": [
      "Handle reason combind:  17%|███████████████████▉                                                                                                    | 266/1603 [37:18<2:59:00,  8.03s/it]"
     ]
    },
    {
     "name": "stdout",
     "output_type": "stream",
     "text": [
      "result after generate:  {'result': 'nghi có thai'}\n",
      "Input: kiểm tra tử cung vì nghi có thai | sản phụ khoa | Output: nghi có thai\n"
     ]
    },
    {
     "name": "stderr",
     "output_type": "stream",
     "text": [
      "Handle reason combind:  17%|███████████████████▉                                                                                                    | 267/1603 [37:31<3:28:17,  9.35s/it]"
     ]
    },
    {
     "name": "stdout",
     "output_type": "stream",
     "text": [
      "result after generate:  {'result': None}\n"
     ]
    },
    {
     "name": "stderr",
     "output_type": "stream",
     "text": [
      "Handle reason combind:  17%|████████████████████                                                                                                    | 268/1603 [37:41<3:31:59,  9.53s/it]"
     ]
    },
    {
     "name": "stdout",
     "output_type": "stream",
     "text": [
      "result after generate:  {'result': 'khí hư màu vàng đậm, ngứa âm đạo'}\n",
      "Input: ra nhiều khí hư trước, sau và trong kì kinh nguyệt. khí hư không có mùi nhưng có màu vàng đậm. thi thoảng có dấu hiệu bị ngứa ( mới xuất hiện mấy tháng nay) | sản phụ khoa | Output: khí hư màu vàng đậm, ngứa âm đạo\n"
     ]
    },
    {
     "name": "stderr",
     "output_type": "stream",
     "text": [
      "Handle reason combind:  17%|████████████████████▏                                                                                                   | 269/1603 [37:57<4:16:53, 11.55s/it]"
     ]
    },
    {
     "name": "stdout",
     "output_type": "stream",
     "text": [
      "result after generate:  {'result': 'rong kinh'}\n",
      "Input: sau sảy thai bị rong kinh | sản phụ khoa | Output: rong kinh\n"
     ]
    },
    {
     "name": "stderr",
     "output_type": "stream",
     "text": [
      "Handle reason combind:  17%|████████████████████▏                                                                                                   | 270/1603 [38:14<4:52:04, 13.15s/it]"
     ]
    },
    {
     "name": "stdout",
     "output_type": "stream",
     "text": [
      "result after generate:  {'result': 'tiểu buốt, chậm kinh'}\n",
      "Input: tiểu buốt; chậm kinh | sản phụ khoa | Output: tiểu buốt, chậm kinh\n"
     ]
    },
    {
     "name": "stderr",
     "output_type": "stream",
     "text": [
      "Handle reason combind:  17%|████████████████████▎                                                                                                   | 271/1603 [38:15<3:32:27,  9.57s/it]"
     ]
    },
    {
     "name": "stdout",
     "output_type": "stream",
     "text": [
      "result after generate:  {'result': 'viêm lộ tuyến'}\n",
      "Input: chữa viêm lộ tuyến | sản phụ khoa | Output: viêm lộ tuyến\n"
     ]
    },
    {
     "name": "stderr",
     "output_type": "stream",
     "text": [
      "Handle reason combind:  17%|████████████████████▎                                                                                                   | 272/1603 [38:32<4:22:27, 11.83s/it]"
     ]
    },
    {
     "name": "stdout",
     "output_type": "stream",
     "text": [
      "result after generate:  {'result': 'u bì buồng trứng'}\n",
      "Input: tư vấn u bì buồng trứng | sản phụ khoa | Output: u bì buồng trứng\n"
     ]
    },
    {
     "name": "stderr",
     "output_type": "stream",
     "text": [
      "Handle reason combind:  17%|████████████████████▍                                                                                                   | 273/1603 [38:41<4:01:26, 10.89s/it]"
     ]
    },
    {
     "name": "stdout",
     "output_type": "stream",
     "text": [
      "result after generate:  {'result': 'kinh nguyệt không đều'}\n",
      "Input: xét nghiệm fsh, lh, e2 - kinh nguyệt ngày thứ 2 - 4 | sản phụ khoa | Output: kinh nguyệt không đều\n"
     ]
    },
    {
     "name": "stderr",
     "output_type": "stream",
     "text": [
      "Handle reason combind:  17%|████████████████████▌                                                                                                   | 274/1603 [38:42<2:53:03,  7.81s/it]"
     ]
    },
    {
     "name": "stdout",
     "output_type": "stream",
     "text": [
      "result after generate:  {'result': 'viêm âm đạo, lộ tuyến cổ tử cung'}\n",
      "Input: viêm âm đạo, lộ tuyến | sản phụ khoa | Output: viêm âm đạo, lộ tuyến cổ tử cung\n"
     ]
    },
    {
     "name": "stderr",
     "output_type": "stream",
     "text": [
      "Handle reason combind:  17%|████████████████████▌                                                                                                   | 275/1603 [38:58<3:53:22, 10.54s/it]"
     ]
    },
    {
     "name": "stdout",
     "output_type": "stream",
     "text": [
      "result after generate:  {'result': 'siêu âm, độ mờ gáy, dị tật'}\n",
      "Input: siêu âm, và khám thai soi dị tập, độ mờ gáy, thai 14 tuần | sản phụ khoa | Output: siêu âm, độ mờ gáy, dị tật\n"
     ]
    },
    {
     "name": "stderr",
     "output_type": "stream",
     "text": [
      "Handle reason combind:  17%|████████████████████▋                                                                                                   | 276/1603 [39:00<2:54:48,  7.90s/it]"
     ]
    },
    {
     "name": "stdout",
     "output_type": "stream",
     "text": [
      "result after generate:  {'result': 'đau bụng, ra máu'}\n",
      "Input: bị đau bụng và ra máu | sản phụ khoa | Output: đau bụng, ra máu\n"
     ]
    },
    {
     "name": "stderr",
     "output_type": "stream",
     "text": [
      "Handle reason combind:  17%|████████████████████▋                                                                                                   | 277/1603 [39:11<3:11:28,  8.66s/it]"
     ]
    },
    {
     "name": "stdout",
     "output_type": "stream",
     "text": [
      "result after generate:  {'result': 'viêm ngứa, đau buốt, khí hư nhiều, nước tiểu đục'}\n",
      "Input: viêm ngứa, đau buốt khi đi vệ sinh, ra nhiều khí hư, nước tiểu có màu đục | sản phụ khoa | Output: viêm ngứa, đau buốt, khí hư nhiều, nước tiểu đục\n"
     ]
    },
    {
     "name": "stderr",
     "output_type": "stream",
     "text": [
      "Handle reason combind:  17%|████████████████████▊                                                                                                   | 278/1603 [39:20<3:13:39,  8.77s/it]"
     ]
    },
    {
     "name": "stdout",
     "output_type": "stream",
     "text": [
      "result after generate:  {'result': 'khám phụ khoa'}\n",
      "Input: .khám phụ khoa | sản phụ khoa | Output: khám phụ khoa\n"
     ]
    },
    {
     "name": "stderr",
     "output_type": "stream",
     "text": [
      "Handle reason combind:  17%|████████████████████▉                                                                                                   | 279/1603 [39:36<4:05:16, 11.12s/it]"
     ]
    },
    {
     "name": "stdout",
     "output_type": "stream",
     "text": [
      "result after generate:  {'result': 'chậm kinh, có thể có thai'}\n",
      "Input: chậm kinh 6 ngày. đã thử que lên 2 vạch | sản phụ khoa | Output: chậm kinh, có thể có thai\n"
     ]
    },
    {
     "name": "stderr",
     "output_type": "stream",
     "text": [
      "Handle reason combind:  17%|████████████████████▉                                                                                                   | 280/1603 [39:43<3:34:55,  9.75s/it]"
     ]
    },
    {
     "name": "stdout",
     "output_type": "stream",
     "text": [
      "result after generate:  {'result': None}\n"
     ]
    },
    {
     "name": "stderr",
     "output_type": "stream",
     "text": [
      "Handle reason combind:  18%|█████████████████████                                                                                                   | 281/1603 [39:52<3:27:54,  9.44s/it]"
     ]
    },
    {
     "name": "stdout",
     "output_type": "stream",
     "text": [
      "result after generate:  {'result': 'đi tiểu ra máu, đau bụng'}\n",
      "Input: đi tiểu ra máu. đau bụng | sản phụ khoa | Output: đi tiểu ra máu, đau bụng\n"
     ]
    },
    {
     "name": "stderr",
     "output_type": "stream",
     "text": [
      "Handle reason combind:  18%|█████████████████████                                                                                                   | 282/1603 [39:59<3:13:25,  8.79s/it]"
     ]
    },
    {
     "name": "stdout",
     "output_type": "stream",
     "text": [
      "result after generate:  {'result': 'bong rau'}\n",
      "Input: bong rau | sản phụ khoa | Output: bong rau\n"
     ]
    },
    {
     "name": "stderr",
     "output_type": "stream",
     "text": [
      "Handle reason combind:  18%|█████████████████████▏                                                                                                  | 283/1603 [40:05<2:58:29,  8.11s/it]"
     ]
    },
    {
     "name": "stdout",
     "output_type": "stream",
     "text": [
      "result after generate:  {'result': 'dịch có máu, khí hư đặc'}\n",
      "Input: dịch có máu, khí hư đặc như bã đậu | sản phụ khoa | Output: dịch có máu, khí hư đặc\n"
     ]
    },
    {
     "name": "stderr",
     "output_type": "stream",
     "text": [
      "Handle reason combind:  18%|█████████████████████▎                                                                                                  | 284/1603 [40:16<3:15:07,  8.88s/it]"
     ]
    },
    {
     "name": "stdout",
     "output_type": "stream",
     "text": [
      "result after generate:  {'result': 'tiểu nhiều lần, tiểu ít, đau buốt khi tiểu, căng nước trong người'}\n",
      "Input: dấu hiệu:\n",
      "- tiểu nhiều lần, tiểu ít, đau buốt khi tiểu\n",
      "- căng nước trong người | sản phụ khoa | Output: tiểu nhiều lần, tiểu ít, đau buốt khi tiểu, căng nước trong người\n"
     ]
    },
    {
     "name": "stderr",
     "output_type": "stream",
     "text": [
      "Handle reason combind:  18%|█████████████████████▎                                                                                                  | 285/1603 [40:23<3:03:02,  8.33s/it]"
     ]
    },
    {
     "name": "stdout",
     "output_type": "stream",
     "text": [
      "result after generate:  {'result': 'ra máu nhiều'}\n",
      "Input: ra máu nhiều sau khi quan hệ lần đầu tiên | sản phụ khoa | Output: ra máu nhiều\n"
     ]
    },
    {
     "name": "stderr",
     "output_type": "stream",
     "text": [
      "Handle reason combind:  18%|█████████████████████▍                                                                                                  | 286/1603 [40:27<2:35:00,  7.06s/it]"
     ]
    },
    {
     "name": "stdout",
     "output_type": "stream",
     "text": [
      "result after generate:  {'result': 'đi tiểu đau buốt, đi tiểu kèm máu'}\n",
      "Input: đi tiểu đau buốt và kèm máu. | sản phụ khoa | Output: đi tiểu đau buốt, đi tiểu kèm máu\n"
     ]
    },
    {
     "name": "stderr",
     "output_type": "stream",
     "text": [
      "Handle reason combind:  18%|█████████████████████▍                                                                                                  | 287/1603 [40:29<2:03:23,  5.63s/it]"
     ]
    },
    {
     "name": "stdout",
     "output_type": "stream",
     "text": [
      "result after generate:  {'result': 'ra nhiều dịch màu vàng xanh, tiểu buốt'}\n",
      "Input: sau sinh mổ 1 tháng, bị ra nhiều dịch màu vàng xanh, ko mùi, dạng lỏng như nước, không ngứa. chỉ bị tiểu buốt từ lúc sinh tới giờ chưa hết | sản phụ khoa | Output: ra nhiều dịch màu vàng xanh, tiểu buốt\n"
     ]
    },
    {
     "name": "stderr",
     "output_type": "stream",
     "text": [
      "Handle reason combind:  18%|█████████████████████▌                                                                                                  | 288/1603 [40:48<3:26:42,  9.43s/it]"
     ]
    },
    {
     "name": "stdout",
     "output_type": "stream",
     "text": [
      "result after generate:  {'result': 'ngứa âm đạo'}\n",
      "Input: ngứa nhẹ âm đạo | sản phụ khoa | Output: ngứa âm đạo\n"
     ]
    },
    {
     "name": "stderr",
     "output_type": "stream",
     "text": [
      "Handle reason combind:  18%|█████████████████████▋                                                                                                  | 289/1603 [40:54<3:04:14,  8.41s/it]"
     ]
    },
    {
     "name": "stdout",
     "output_type": "stream",
     "text": [
      "result after generate:  {'result': 'nổi mẩn hai môi âm đạo, chấm trắng li ti'}\n",
      "Input: nổi mẩn hai môi âm đạo, chấm trắng li ti | sản phụ khoa | Output: nổi mẩn hai môi âm đạo, chấm trắng li ti\n"
     ]
    },
    {
     "name": "stderr",
     "output_type": "stream",
     "text": [
      "Handle reason combind:  18%|█████████████████████▋                                                                                                  | 290/1603 [40:57<2:30:23,  6.87s/it]"
     ]
    },
    {
     "name": "stdout",
     "output_type": "stream",
     "text": [
      "result after generate:  {'result': 'vô sinh'}\n",
      "Input: sau khi thả 4 tháng chưa có thai | sản phụ khoa | Output: vô sinh\n"
     ]
    },
    {
     "name": "stderr",
     "output_type": "stream",
     "text": [
      "Handle reason combind:  18%|█████████████████████▊                                                                                                  | 291/1603 [41:05<2:38:07,  7.23s/it]"
     ]
    },
    {
     "name": "stdout",
     "output_type": "stream",
     "text": [
      "result after generate:  {'result': 'mùi khó chịu âm đạo'}\n",
      "Input: âm đạo có mùi khó chịu | sản phụ khoa | Output: mùi khó chịu âm đạo\n"
     ]
    },
    {
     "name": "stderr",
     "output_type": "stream",
     "text": [
      "Handle reason combind:  18%|█████████████████████▊                                                                                                  | 292/1603 [41:08<2:09:32,  5.93s/it]"
     ]
    },
    {
     "name": "stdout",
     "output_type": "stream",
     "text": [
      "result after generate:  {'result': 'viêm phụ khoa'}\n",
      "Input: viêm phụ khoa lâu ngày | sản phụ khoa | Output: viêm phụ khoa\n"
     ]
    },
    {
     "name": "stderr",
     "output_type": "stream",
     "text": [
      "Handle reason combind:  18%|█████████████████████▉                                                                                                  | 293/1603 [41:17<2:28:04,  6.78s/it]"
     ]
    },
    {
     "name": "stdout",
     "output_type": "stream",
     "text": [
      "result after generate:  {'result': 'đau bụng dưới bên trái'}\n",
      "Input: bị đau bụng dưới bên trái mỗi khi đến tháng, muốn kiểm tra xem có vấn đề gì không? | sản phụ khoa | Output: đau bụng dưới bên trái\n"
     ]
    },
    {
     "name": "stderr",
     "output_type": "stream",
     "text": [
      "Handle reason combind:  18%|██████████████████████                                                                                                  | 294/1603 [41:19<1:59:12,  5.46s/it]"
     ]
    },
    {
     "name": "stdout",
     "output_type": "stream",
     "text": [
      "result after generate:  {'result': 'ra máu bất thường'}\n",
      "Input: ra máu nhưng không phải trong giai đoạn hành kinh. | sản phụ khoa | Output: ra máu bất thường\n"
     ]
    },
    {
     "name": "stderr",
     "output_type": "stream",
     "text": [
      "Handle reason combind:  18%|██████████████████████                                                                                                  | 295/1603 [41:39<3:31:17,  9.69s/it]"
     ]
    },
    {
     "name": "stdout",
     "output_type": "stream",
     "text": [
      "result after generate:  {'result': 'khám lại phụ khoa, khám cổ tử cung'}\n",
      "Input: mình mới sinh em bé được hơn 3 tháng. cần khám lại phụ khoa và cổ tử cung | sản phụ khoa | Output: khám lại phụ khoa, khám cổ tử cung\n"
     ]
    },
    {
     "name": "stderr",
     "output_type": "stream",
     "text": [
      "Handle reason combind:  18%|██████████████████████▏                                                                                                 | 296/1603 [41:46<3:17:48,  9.08s/it]"
     ]
    },
    {
     "name": "stdout",
     "output_type": "stream",
     "text": [
      "result after generate:  {'result': 'chảy máu âm đạo'}\n",
      "Input: chảy máu âm đạo sau qh tình dục | sản phụ khoa | Output: chảy máu âm đạo\n"
     ]
    },
    {
     "name": "stderr",
     "output_type": "stream",
     "text": [
      "Handle reason combind:  19%|██████████████████████▏                                                                                                 | 297/1603 [41:48<2:28:33,  6.83s/it]"
     ]
    },
    {
     "name": "stdout",
     "output_type": "stream",
     "text": [
      "result after generate:  {'result': 'ngứa, chảy dịch'}\n",
      "Input: ngứa , chảy dịch | sản phụ khoa | Output: ngứa, chảy dịch\n"
     ]
    },
    {
     "name": "stderr",
     "output_type": "stream",
     "text": [
      "Handle reason combind:  19%|██████████████████████▎                                                                                                 | 298/1603 [41:57<2:45:11,  7.59s/it]"
     ]
    },
    {
     "name": "stdout",
     "output_type": "stream",
     "text": [
      "result after generate:  {'result': 'chậm có thai'}\n",
      "Input: khám chậm có thai | sản phụ khoa | Output: chậm có thai\n"
     ]
    },
    {
     "name": "stderr",
     "output_type": "stream",
     "text": [
      "Handle reason combind:  19%|██████████████████████▍                                                                                                 | 299/1603 [41:59<2:05:04,  5.76s/it]"
     ]
    },
    {
     "name": "stdout",
     "output_type": "stream",
     "text": [
      "result after generate:  {'result': 'mụn âm đạo, tiểu buốt'}\n",
      "Input: âm đạo nổi mụn tiểu buốt | sản phụ khoa | Output: mụn âm đạo, tiểu buốt\n"
     ]
    },
    {
     "name": "stderr",
     "output_type": "stream",
     "text": [
      "Handle reason combind:  19%|██████████████████████▍                                                                                                 | 300/1603 [42:18<3:29:24,  9.64s/it]"
     ]
    },
    {
     "name": "stdout",
     "output_type": "stream",
     "text": [
      "result after generate:  {'result': 'kinh nguyệt không đều, khó chịu trong người'}\n",
      "Input: do kinh nguyệt không đều nên khi có thai 1 2 tuần đầu có mua que thử nhưng không thấy có thai nên đã uống thuốc kháng sinh và thuốc cảm cúm tipfi sau đó thấy khó chịu trong người. lúc đi khám mới biết có thai nên rất lo, muốn được khám sàng lọc dị tật thai. | sản phụ khoa | Output: kinh nguyệt không đều, khó chịu trong người\n"
     ]
    },
    {
     "name": "stderr",
     "output_type": "stream",
     "text": [
      "Handle reason combind:  19%|██████████████████████▌                                                                                                 | 301/1603 [42:26<3:24:31,  9.43s/it]"
     ]
    },
    {
     "name": "stdout",
     "output_type": "stream",
     "text": [
      "result after generate:  {'result': 'ngứa rát vùng kín, dịch âm đạo nhiều, mùi âm đạo'}\n",
      "Input: ngứa rát vùng kín, dịch âm đạo vào và ra đặc biệt nhiều, có mùi | sản phụ khoa | Output: ngứa rát vùng kín, dịch âm đạo nhiều, mùi âm đạo\n"
     ]
    },
    {
     "name": "stderr",
     "output_type": "stream",
     "text": [
      "Handle reason combind:  19%|██████████████████████▌                                                                                                 | 302/1603 [42:28<2:30:29,  6.94s/it]"
     ]
    },
    {
     "name": "stdout",
     "output_type": "stream",
     "text": [
      "result after generate:  {'result': 'ngứa, có mùi'}\n",
      "Input: khám phụ khoa (ngứa, có mùi) | sản phụ khoa | Output: ngứa, có mùi\n"
     ]
    },
    {
     "name": "stderr",
     "output_type": "stream",
     "text": [
      "Handle reason combind:  19%|██████████████████████▋                                                                                                 | 303/1603 [42:44<3:33:45,  9.87s/it]"
     ]
    },
    {
     "name": "stdout",
     "output_type": "stream",
     "text": [
      "result after generate:  {'result': 'đau vùng bụng bên trái'}\n",
      "Input: đau vùng bụng bên trái | sản phụ khoa | Output: đau vùng bụng bên trái\n"
     ]
    },
    {
     "name": "stderr",
     "output_type": "stream",
     "text": [
      "Handle reason combind:  19%|██████████████████████▊                                                                                                 | 304/1603 [42:45<2:32:47,  7.06s/it]"
     ]
    },
    {
     "name": "stdout",
     "output_type": "stream",
     "text": [
      "result after generate:  {'result': None}\n"
     ]
    },
    {
     "name": "stderr",
     "output_type": "stream",
     "text": [
      "Handle reason combind:  19%|██████████████████████▊                                                                                                 | 305/1603 [43:04<3:53:47, 10.81s/it]"
     ]
    },
    {
     "name": "stdout",
     "output_type": "stream",
     "text": [
      "result after generate:  {'result': 'bụng dưới trung đa nang'}\n",
      "Input: bi buông trung đa nang | sản phụ khoa | Output: bụng dưới trung đa nang\n"
     ]
    },
    {
     "name": "stderr",
     "output_type": "stream",
     "text": [
      "Handle reason combind:  19%|██████████████████████▉                                                                                                 | 306/1603 [43:13<3:40:07, 10.18s/it]"
     ]
    },
    {
     "name": "stdout",
     "output_type": "stream",
     "text": [
      "result after generate:  {'result': 'ngứa rát vùng kín'}\n",
      "Input: có biểu biện ngứa rát vùng kín | sản phụ khoa | Output: ngứa rát vùng kín\n"
     ]
    },
    {
     "name": "stderr",
     "output_type": "stream",
     "text": [
      "Handle reason combind:  19%|██████████████████████▉                                                                                                 | 307/1603 [43:29<4:16:17, 11.87s/it]"
     ]
    },
    {
     "name": "stdout",
     "output_type": "stream",
     "text": [
      "result after generate:  {'result': 'chảy máu, polyp'}\n",
      "Input: polyp gây chảy máu khi mang thai tuần 22 | sản phụ khoa | Output: chảy máu, polyp\n"
     ]
    },
    {
     "name": "stderr",
     "output_type": "stream",
     "text": [
      "Handle reason combind:  19%|███████████████████████                                                                                                 | 308/1603 [43:36<3:43:47, 10.37s/it]"
     ]
    },
    {
     "name": "stdout",
     "output_type": "stream",
     "text": [
      "result after generate:  {'result': 'rong kinh, ra máu bất thường'}\n",
      "Input: sau sinh 4 tháng. khoảng 1 tháng thì hết sản dịch. nhưng từ đấy đến giờ cứ ra máu kiểu bị rong kinh, ra khoảng 5 -7  hôm xong hết được 3 - 7 hôm xong lại ra. lúc thì ra ít như rong kinh, lúc thì ra nhiều như bị hành kinh. | sản phụ khoa | Output: rong kinh, ra máu bất thường\n"
     ]
    },
    {
     "name": "stderr",
     "output_type": "stream",
     "text": [
      "Handle reason combind:  19%|███████████████████████▏                                                                                                | 309/1603 [43:40<3:02:22,  8.46s/it]"
     ]
    },
    {
     "name": "stdout",
     "output_type": "stream",
     "text": [
      "result after generate:  {'result': 'ra máu bất thường, chảy máu kéo dài'}\n",
      "Input: ra máu bất thường ngoài kỳ kinh và kéo dài | sản phụ khoa | Output: ra máu bất thường, chảy máu kéo dài\n"
     ]
    },
    {
     "name": "stderr",
     "output_type": "stream",
     "text": [
      "Handle reason combind:  19%|███████████████████████▏                                                                                                | 310/1603 [43:55<3:48:13, 10.59s/it]"
     ]
    },
    {
     "name": "stdout",
     "output_type": "stream",
     "text": [
      "result after generate:  {'result': None}\n"
     ]
    },
    {
     "name": "stderr",
     "output_type": "stream",
     "text": [
      "Handle reason combind:  19%|███████████████████████▎                                                                                                | 311/1603 [43:58<2:55:04,  8.13s/it]"
     ]
    },
    {
     "name": "stdout",
     "output_type": "stream",
     "text": [
      "result after generate:  {'result': 'hiếm muộn'}\n",
      "Input: khám tư vấn hiếm muộn | sản phụ khoa | Output: hiếm muộn\n"
     ]
    },
    {
     "name": "stderr",
     "output_type": "stream",
     "text": [
      "Handle reason combind:  19%|███████████████████████▎                                                                                                | 312/1603 [44:16<3:58:12, 11.07s/it]"
     ]
    },
    {
     "name": "stdout",
     "output_type": "stream",
     "text": [
      "result after generate:  {'result': 'siêu âm thai, thử tiểu đường'}\n",
      "Input: siêu âm thai, thử tiểu đường | sản phụ khoa | Output: siêu âm thai, thử tiểu đường\n"
     ]
    },
    {
     "name": "stderr",
     "output_type": "stream",
     "text": [
      "Handle reason combind:  20%|███████████████████████▍                                                                                                | 313/1603 [44:20<3:13:02,  8.98s/it]"
     ]
    },
    {
     "name": "stdout",
     "output_type": "stream",
     "text": [
      "result after generate:  {'result': 'lạc nội mạc tử cung, u buồng trứng'}\n",
      "Input: lạc nội mạc tử cung, u buồng trứng trái | sản phụ khoa | Output: lạc nội mạc tử cung, u buồng trứng\n"
     ]
    },
    {
     "name": "stderr",
     "output_type": "stream",
     "text": [
      "Handle reason combind:  20%|███████████████████████▌                                                                                                | 314/1603 [44:27<3:01:52,  8.47s/it]"
     ]
    },
    {
     "name": "stdout",
     "output_type": "stream",
     "text": [
      "result after generate:  {'result': 'khai thai'}\n",
      "Input: khai thai | sản phụ khoa | Output: khai thai\n"
     ]
    },
    {
     "name": "stderr",
     "output_type": "stream",
     "text": [
      "Handle reason combind:  20%|███████████████████████▌                                                                                                | 315/1603 [44:35<2:55:34,  8.18s/it]"
     ]
    },
    {
     "name": "stdout",
     "output_type": "stream",
     "text": [
      "result after generate:  {'result': 'dịch khí hư nhiều, cục như hạch phía trong'}\n",
      "Input: dịch khí hư nhiều. khi vệ sinh thấy có cục như hạch phía trong | sản phụ khoa | Output: dịch khí hư nhiều, cục như hạch phía trong\n"
     ]
    },
    {
     "name": "stderr",
     "output_type": "stream",
     "text": [
      "Handle reason combind:  20%|███████████████████████▋                                                                                                | 316/1603 [44:36<2:10:47,  6.10s/it]"
     ]
    },
    {
     "name": "stdout",
     "output_type": "stream",
     "text": [
      "result after generate:  {'result': 'thai thiếu ối'}\n",
      "Input: thai 18 tuần được chuẩn đoán thiếu ối | sản phụ khoa | Output: thai thiếu ối\n"
     ]
    },
    {
     "name": "stderr",
     "output_type": "stream",
     "text": [
      "Handle reason combind:  20%|███████████████████████▋                                                                                                | 317/1603 [44:52<3:14:33,  9.08s/it]"
     ]
    },
    {
     "name": "stdout",
     "output_type": "stream",
     "text": [
      "result after generate:  {'result': None}\n"
     ]
    },
    {
     "name": "stderr",
     "output_type": "stream",
     "text": [
      "Handle reason combind:  20%|███████████████████████▊                                                                                                | 318/1603 [44:59<3:03:42,  8.58s/it]"
     ]
    },
    {
     "name": "stdout",
     "output_type": "stream",
     "text": [
      "result after generate:  {'result': 'khí hư ra, không có bầu'}\n",
      "Input: khí hư ra, thả mấy tháng ko có bầu. | sản phụ khoa | Output: khí hư ra, không có bầu\n"
     ]
    },
    {
     "name": "stderr",
     "output_type": "stream",
     "text": [
      "Handle reason combind:  20%|███████████████████████▉                                                                                                | 319/1603 [45:03<2:35:33,  7.27s/it]"
     ]
    },
    {
     "name": "stdout",
     "output_type": "stream",
     "text": [
      "result after generate:  {'result': 'khám sức khoẻ trước khi có thai'}\n",
      "Input: khám sức khoẻ trước khi có thai | sản phụ khoa | Output: khám sức khoẻ trước khi có thai\n"
     ]
    },
    {
     "name": "stderr",
     "output_type": "stream",
     "text": [
      "Handle reason combind:  20%|███████████████████████▉                                                                                                | 320/1603 [45:14<2:58:04,  8.33s/it]"
     ]
    },
    {
     "name": "stdout",
     "output_type": "stream",
     "text": [
      "result after generate:  {'result': 'chu kì kinh nguyệt không đều'}\n",
      "Input: chu kì kinh nguyệt không đều | sản phụ khoa | Output: chu kì kinh nguyệt không đều\n"
     ]
    },
    {
     "name": "stderr",
     "output_type": "stream",
     "text": [
      "Handle reason combind:  20%|████████████████████████                                                                                                | 321/1603 [45:16<2:15:10,  6.33s/it]"
     ]
    },
    {
     "name": "stdout",
     "output_type": "stream",
     "text": [
      "result after generate:  {'result': 'ra máu sau kinh nguyệt'}\n",
      "Input: ra máu sau kinh nguyệt | sản phụ khoa | Output: ra máu sau kinh nguyệt\n"
     ]
    },
    {
     "name": "stderr",
     "output_type": "stream",
     "text": [
      "Handle reason combind:  20%|████████████████████████                                                                                                | 322/1603 [45:41<4:12:41, 11.84s/it]"
     ]
    },
    {
     "name": "stdout",
     "output_type": "stream",
     "text": [
      "result after generate:  {'result': 'nổi hạch, mụn'}\n",
      "Input: nổi hạch (mụn) gần vùng kín | sản phụ khoa | Output: nổi hạch, mụn\n"
     ]
    },
    {
     "name": "stderr",
     "output_type": "stream",
     "text": [
      "Handle reason combind:  20%|████████████████████████▏                                                                                               | 323/1603 [45:44<3:18:47,  9.32s/it]"
     ]
    },
    {
     "name": "stdout",
     "output_type": "stream",
     "text": [
      "result after generate:  {'result': None}\n"
     ]
    },
    {
     "name": "stderr",
     "output_type": "stream",
     "text": [
      "Handle reason combind:  20%|████████████████████████▎                                                                                               | 324/1603 [45:49<2:47:52,  7.88s/it]"
     ]
    },
    {
     "name": "stdout",
     "output_type": "stream",
     "text": [
      "result after generate:  {'result': 'rong kinh'}\n",
      "Input: bị rong kinh gần 2 tuần | sản phụ khoa | Output: rong kinh\n"
     ]
    },
    {
     "name": "stderr",
     "output_type": "stream",
     "text": [
      "Handle reason combind:  20%|████████████████████████▎                                                                                               | 325/1603 [46:04<3:33:50, 10.04s/it]"
     ]
    },
    {
     "name": "stdout",
     "output_type": "stream",
     "text": [
      "result after generate:  {'result': 'có thai'}\n",
      "Input: có thai | sản phụ khoa | Output: có thai\n"
     ]
    },
    {
     "name": "stderr",
     "output_type": "stream",
     "text": [
      "Handle reason combind:  20%|████████████████████████▍                                                                                               | 326/1603 [46:09<3:04:03,  8.65s/it]"
     ]
    },
    {
     "name": "stdout",
     "output_type": "stream",
     "text": [
      "result after generate:  {'result': 'viêm phụ khoa, viêm đường tiết niệu'}\n",
      "Input: đang mang bầu 15 tuần, nhưng bị viêm phụ khoa + viêm đường tiết niệu. | sản phụ khoa | Output: viêm phụ khoa, viêm đường tiết niệu\n"
     ]
    },
    {
     "name": "stderr",
     "output_type": "stream",
     "text": [
      "Handle reason combind:  20%|████████████████████████▍                                                                                               | 327/1603 [46:19<3:15:23,  9.19s/it]"
     ]
    },
    {
     "name": "stdout",
     "output_type": "stream",
     "text": [
      "result after generate:  {'result': 'kinh nguyệt không đều, vô kinh'}\n",
      "Input: cháu chưa lập gia đình, chưa quan hệ, kinh nguyệt cháu ko đều, lúc có lúc không, hiện tại đã hơn 1 năm  chưa có kinh | sản phụ khoa | Output: kinh nguyệt không đều, vô kinh\n"
     ]
    },
    {
     "name": "stderr",
     "output_type": "stream",
     "text": [
      "Handle reason combind:  20%|████████████████████████▌                                                                                               | 328/1603 [46:20<2:22:02,  6.68s/it]"
     ]
    },
    {
     "name": "stdout",
     "output_type": "stream",
     "text": [
      "result after generate:  {'result': 'kiểm tra có thai'}\n",
      "Input: kiểm tra có thai | sản phụ khoa | Output: kiểm tra có thai\n"
     ]
    },
    {
     "name": "stderr",
     "output_type": "stream",
     "text": [
      "Handle reason combind:  21%|████████████████████████▋                                                                                               | 329/1603 [46:32<2:50:55,  8.05s/it]"
     ]
    },
    {
     "name": "stdout",
     "output_type": "stream",
     "text": [
      "result after generate:  {'result': 'ra dịch màu nâu, có thai 10 tuần'}\n",
      "Input: có thai 10 tuần. bị ra dịch màu nâu. | sản phụ khoa | Output: ra dịch màu nâu, có thai 10 tuần\n"
     ]
    },
    {
     "name": "stderr",
     "output_type": "stream",
     "text": [
      "Handle reason combind:  21%|████████████████████████▋                                                                                               | 330/1603 [46:36<2:30:52,  7.11s/it]"
     ]
    },
    {
     "name": "stdout",
     "output_type": "stream",
     "text": [
      "result after generate:  {'result': 'viêm lộ tuyến'}\n",
      "Input: đặt lịch đốt viêm lộ tuyến | sản phụ khoa | Output: viêm lộ tuyến\n"
     ]
    },
    {
     "name": "stderr",
     "output_type": "stream",
     "text": [
      "Handle reason combind:  21%|████████████████████████▊                                                                                               | 331/1603 [46:42<2:19:23,  6.57s/it]"
     ]
    },
    {
     "name": "stdout",
     "output_type": "stream",
     "text": [
      "result after generate:  {'result': 'ngứa, rát phụ khoa'}\n",
      "Input: ngứa, rát phụ khoa | sản phụ khoa | Output: ngứa, rát phụ khoa\n"
     ]
    },
    {
     "name": "stderr",
     "output_type": "stream",
     "text": [
      "Handle reason combind:  21%|████████████████████████▊                                                                                               | 332/1603 [46:44<1:50:12,  5.20s/it]"
     ]
    },
    {
     "name": "stdout",
     "output_type": "stream",
     "text": [
      "result after generate:  {'result': 'vô sinh'}\n",
      "Input: sinh hoạt vợ chồng hơn 1 năm chưa có con | sản phụ khoa | Output: vô sinh\n"
     ]
    },
    {
     "name": "stderr",
     "output_type": "stream",
     "text": [
      "Handle reason combind:  21%|████████████████████████▉                                                                                               | 333/1603 [47:01<3:06:52,  8.83s/it]"
     ]
    },
    {
     "name": "stdout",
     "output_type": "stream",
     "text": [
      "result after generate:  {'result': 'cục cứng, sưng, đau'}\n",
      "Input: có cục cứng sưng đau ở môi lớn | sản phụ khoa | Output: cục cứng, sưng, đau\n"
     ]
    },
    {
     "name": "stderr",
     "output_type": "stream",
     "text": [
      "Handle reason combind:  21%|█████████████████████████                                                                                               | 334/1603 [47:02<2:18:27,  6.55s/it]"
     ]
    },
    {
     "name": "stdout",
     "output_type": "stream",
     "text": [
      "result after generate:  {'result': None}\n"
     ]
    },
    {
     "name": "stderr",
     "output_type": "stream",
     "text": [
      "Handle reason combind:  21%|█████████████████████████                                                                                               | 335/1603 [47:11<2:32:25,  7.21s/it]"
     ]
    },
    {
     "name": "stdout",
     "output_type": "stream",
     "text": [
      "result after generate:  {'result': 'hội chứng buồng trứng đa nang'}\n",
      "Input: có dấu hiệu của hội chứng buồng trứng đa nang | sản phụ khoa | Output: hội chứng buồng trứng đa nang\n"
     ]
    },
    {
     "name": "stderr",
     "output_type": "stream",
     "text": [
      "Handle reason combind:  21%|█████████████████████████▏                                                                                              | 336/1603 [47:15<2:13:10,  6.31s/it]"
     ]
    },
    {
     "name": "stdout",
     "output_type": "stream",
     "text": [
      "result after generate:  {'result': None}\n"
     ]
    },
    {
     "name": "stderr",
     "output_type": "stream",
     "text": [
      "Handle reason combind:  21%|█████████████████████████▏                                                                                              | 337/1603 [47:26<2:38:54,  7.53s/it]"
     ]
    },
    {
     "name": "stdout",
     "output_type": "stream",
     "text": [
      "result after generate:  {'result': 'âm đạo tiết ra dịch nhiều, có mùi'}\n",
      "Input: khám phụ khoa.\n",
      "âm đạo tiết ra dịch nhiều và có mùi | sản phụ khoa | Output: âm đạo tiết ra dịch nhiều, có mùi\n"
     ]
    },
    {
     "name": "stderr",
     "output_type": "stream",
     "text": [
      "Handle reason combind:  21%|█████████████████████████▎                                                                                              | 338/1603 [47:29<2:10:49,  6.21s/it]"
     ]
    },
    {
     "name": "stdout",
     "output_type": "stream",
     "text": [
      "result after generate:  {'result': 'hành kinh bị mất'}\n",
      "Input: khám phụ khoa do hành kinh bị mất 6 tháng | sản phụ khoa | Output: hành kinh bị mất\n"
     ]
    },
    {
     "name": "stderr",
     "output_type": "stream",
     "text": [
      "Handle reason combind:  21%|█████████████████████████▍                                                                                              | 339/1603 [47:37<2:22:56,  6.79s/it]"
     ]
    },
    {
     "name": "stdout",
     "output_type": "stream",
     "text": [
      "result after generate:  {'result': 'viêm lộ tuyến dạng rộng'}\n",
      "Input: chưa có con nhưng bị viêm lộ tuyến dạng rộng cần khám và xin tư vấn cách chữa trị | sản phụ khoa | Output: viêm lộ tuyến dạng rộng\n"
     ]
    },
    {
     "name": "stderr",
     "output_type": "stream",
     "text": [
      "Handle reason combind:  21%|█████████████████████████▍                                                                                              | 340/1603 [47:47<2:42:23,  7.71s/it]"
     ]
    },
    {
     "name": "stdout",
     "output_type": "stream",
     "text": [
      "result after generate:  {'result': 'kinh nguyệt không đều, ra máu sẫm, ngứa vùng kín, đau rát vùng kín, mẩn đỏ'}\n",
      "Input: kinh nguyệt không đều, và ra máu sẫm ngày đầu kinh nguyệt. thấy ngứa và đau rát vùng kín và có mẩn đỏ | sản phụ khoa | Output: kinh nguyệt không đều, ra máu sẫm, ngứa vùng kín, đau rát vùng kín, mẩn đỏ\n"
     ]
    },
    {
     "name": "stderr",
     "output_type": "stream",
     "text": [
      "Handle reason combind:  21%|█████████████████████████▌                                                                                              | 341/1603 [47:50<2:15:05,  6.42s/it]"
     ]
    },
    {
     "name": "stdout",
     "output_type": "stream",
     "text": [
      "result after generate:  {'result': 'ra dịch hồng, thai 11 tuần'}\n",
      "Input: ra dịch hồng/ thai 11 tuần | sản phụ khoa | Output: ra dịch hồng, thai 11 tuần\n"
     ]
    },
    {
     "name": "stderr",
     "output_type": "stream",
     "text": [
      "Handle reason combind:  21%|█████████████████████████▌                                                                                              | 342/1603 [48:02<2:47:40,  7.98s/it]"
     ]
    },
    {
     "name": "stdout",
     "output_type": "stream",
     "text": [
      "result after generate:  {'result': None}\n"
     ]
    },
    {
     "name": "stderr",
     "output_type": "stream",
     "text": [
      "Handle reason combind:  21%|█████████████████████████▋                                                                                              | 343/1603 [48:05<2:18:28,  6.59s/it]"
     ]
    },
    {
     "name": "stdout",
     "output_type": "stream",
     "text": [
      "result after generate:  {'result': 'nổi nốt ở vùng kín'}\n",
      "Input: nổi nốt ở vùng kín | sản phụ khoa | Output: nổi nốt ở vùng kín\n"
     ]
    },
    {
     "name": "stderr",
     "output_type": "stream",
     "text": [
      "Handle reason combind:  21%|█████████████████████████▊                                                                                              | 344/1603 [48:13<2:28:59,  7.10s/it]"
     ]
    },
    {
     "name": "stdout",
     "output_type": "stream",
     "text": [
      "result after generate:  {'result': 'ngứa, rát, khó chịu'}\n",
      "Input: khám phụ khoa: ngứa rát khó chịu | sản phụ khoa | Output: ngứa, rát, khó chịu\n"
     ]
    },
    {
     "name": "stderr",
     "output_type": "stream",
     "text": [
      "Handle reason combind:  22%|█████████████████████████▊                                                                                              | 345/1603 [48:18<2:13:24,  6.36s/it]"
     ]
    },
    {
     "name": "stdout",
     "output_type": "stream",
     "text": [
      "result after generate:  {'result': None}\n"
     ]
    },
    {
     "name": "stderr",
     "output_type": "stream",
     "text": [
      "Handle reason combind:  22%|█████████████████████████▉                                                                                              | 346/1603 [48:32<3:03:58,  8.78s/it]"
     ]
    },
    {
     "name": "stdout",
     "output_type": "stream",
     "text": [
      "result after generate:  {'result': 'ra máu'}\n",
      "Input: u cổ tử cung, gần đây cứ 10 ngày là ra máu | sản phụ khoa | Output: ra máu\n"
     ]
    },
    {
     "name": "stderr",
     "output_type": "stream",
     "text": [
      "Handle reason combind:  22%|█████████████████████████▉                                                                                              | 347/1603 [48:34<2:15:14,  6.46s/it]"
     ]
    },
    {
     "name": "stdout",
     "output_type": "stream",
     "text": [
      "result after generate:  {'result': 'khí hư có mùi hôi, đau lưng'}\n",
      "Input: ra khí hư có mùi hôi ,kèm đau lưng | sản phụ khoa | Output: khí hư có mùi hôi, đau lưng\n"
     ]
    },
    {
     "name": "stderr",
     "output_type": "stream",
     "text": [
      "Handle reason combind:  22%|██████████████████████████                                                                                              | 348/1603 [48:51<3:24:33,  9.78s/it]"
     ]
    },
    {
     "name": "stdout",
     "output_type": "stream",
     "text": [
      "result after generate:  {'result': None}\n"
     ]
    },
    {
     "name": "stderr",
     "output_type": "stream",
     "text": [
      "Handle reason combind:  22%|██████████████████████████▏                                                                                             | 349/1603 [48:54<2:43:27,  7.82s/it]"
     ]
    },
    {
     "name": "stdout",
     "output_type": "stream",
     "text": [
      "result after generate:  {'result': 'khám thai, sàng lọc trước sinh'}\n",
      "Input: khám thai tuần 12. sàng lọc trước sinh | sản phụ khoa | Output: khám thai, sàng lọc trước sinh\n"
     ]
    },
    {
     "name": "stderr",
     "output_type": "stream",
     "text": [
      "Handle reason combind:  22%|██████████████████████████▏                                                                                             | 350/1603 [49:02<2:40:53,  7.70s/it]"
     ]
    },
    {
     "name": "stdout",
     "output_type": "stream",
     "text": [
      "result after generate:  {'result': 'thai ngoài ý muốn'}\n",
      "Input: khám thai do uống thuốc ks và xquang khi không biết có thai ngoài ý muốn | sản phụ khoa | Output: thai ngoài ý muốn\n"
     ]
    },
    {
     "name": "stderr",
     "output_type": "stream",
     "text": [
      "Handle reason combind:  22%|██████████████████████████▎                                                                                             | 351/1603 [49:06<2:22:16,  6.82s/it]"
     ]
    },
    {
     "name": "stdout",
     "output_type": "stream",
     "text": [
      "result after generate:  {'result': 'ra máu âm đạo, mang thai tuần 6'}\n",
      "Input: ra mau am dao (mang thai tuan t6) | sản phụ khoa | Output: ra máu âm đạo, mang thai tuần 6\n"
     ]
    },
    {
     "name": "stderr",
     "output_type": "stream",
     "text": [
      "Handle reason combind:  22%|██████████████████████████▎                                                                                             | 352/1603 [49:17<2:42:30,  7.79s/it]"
     ]
    },
    {
     "name": "stdout",
     "output_type": "stream",
     "text": [
      "result after generate:  {'result': 'rối loạn kinh nguyệt'}\n",
      "Input: rối loạn kinh nguyệt và tư vấn tiền hôn nhân | sản phụ khoa | Output: rối loạn kinh nguyệt\n"
     ]
    },
    {
     "name": "stderr",
     "output_type": "stream",
     "text": [
      "Handle reason combind:  22%|██████████████████████████▍                                                                                             | 353/1603 [49:18<2:05:34,  6.03s/it]"
     ]
    },
    {
     "name": "stdout",
     "output_type": "stream",
     "text": [
      "result after generate:  {'result': 'không thấy kinh nguyệt, khí hư ra liên tục màu trắng đục'}\n",
      "Input: không thấy kinh nguyệt khí hư ra liên tục màu trắng đục | sản phụ khoa | Output: không thấy kinh nguyệt, khí hư ra liên tục màu trắng đục\n"
     ]
    },
    {
     "name": "stderr",
     "output_type": "stream",
     "text": [
      "Handle reason combind:  22%|██████████████████████████▌                                                                                             | 354/1603 [49:27<2:18:12,  6.64s/it]"
     ]
    },
    {
     "name": "stdout",
     "output_type": "stream",
     "text": [
      "result after generate:  {'result': None}\n"
     ]
    },
    {
     "name": "stderr",
     "output_type": "stream",
     "text": [
      "Handle reason combind:  22%|██████████████████████████▌                                                                                             | 355/1603 [49:40<2:59:55,  8.65s/it]"
     ]
    },
    {
     "name": "stdout",
     "output_type": "stream",
     "text": [
      "result after generate:  {'result': 'rối loạn kinh nguyệt'}\n",
      "Input: rối loạn kinh nguyệt, muốn tư vấn dùng thuốc tránh thai hàng ngày | sản phụ khoa | Output: rối loạn kinh nguyệt\n"
     ]
    },
    {
     "name": "stderr",
     "output_type": "stream",
     "text": [
      "Handle reason combind:  22%|██████████████████████████▋                                                                                             | 356/1603 [49:42<2:19:12,  6.70s/it]"
     ]
    },
    {
     "name": "stdout",
     "output_type": "stream",
     "text": [
      "result after generate:  {'result': 'rong kinh'}\n",
      "Input: khám rong kinh 7 ngày | sản phụ khoa | Output: rong kinh\n"
     ]
    },
    {
     "name": "stderr",
     "output_type": "stream",
     "text": [
      "Handle reason combind:  22%|██████████████████████████▋                                                                                             | 357/1603 [50:00<3:29:58, 10.11s/it]"
     ]
    },
    {
     "name": "stdout",
     "output_type": "stream",
     "text": [
      "result after generate:  {'result': 'khô rát sau mãn kinh'}\n",
      "Input: khô rát sau mãn kinh. thuốc nội tiết thay thế tôi thường uống nay việt nam không còn nhập, muốn đổi thuốc loại có sẵn trong nước | sản phụ khoa | Output: khô rát sau mãn kinh\n"
     ]
    },
    {
     "name": "stderr",
     "output_type": "stream",
     "text": [
      "Handle reason combind:  22%|██████████████████████████▊                                                                                             | 358/1603 [50:05<2:59:05,  8.63s/it]"
     ]
    },
    {
     "name": "stdout",
     "output_type": "stream",
     "text": [
      "result after generate:  {'result': 'thai'}\n",
      "Input: kham  thai | sản phụ khoa | Output: thai\n"
     ]
    },
    {
     "name": "stderr",
     "output_type": "stream",
     "text": [
      "Handle reason combind:  22%|██████████████████████████▊                                                                                             | 359/1603 [50:14<2:59:58,  8.68s/it]"
     ]
    },
    {
     "name": "stdout",
     "output_type": "stream",
     "text": [
      "result after generate:  {'result': 'chậm kinh, không có thai'}\n",
      "Input: chậm kinh 30 ngày, đã thử que thử nhưng chưa lên vạch, thử máu chỉ số peta hcg không thể hiện có thai | sản phụ khoa | Output: chậm kinh, không có thai\n"
     ]
    },
    {
     "name": "stderr",
     "output_type": "stream",
     "text": [
      "Handle reason combind:  22%|██████████████████████████▉                                                                                             | 360/1603 [50:15<2:09:24,  6.25s/it]"
     ]
    },
    {
     "name": "stdout",
     "output_type": "stream",
     "text": [
      "result after generate:  {'result': 'đông thai ra máu'}\n",
      "Input: đông thai ra máu | sản phụ khoa | Output: đông thai ra máu\n"
     ]
    },
    {
     "name": "stderr",
     "output_type": "stream",
     "text": [
      "Handle reason combind:  23%|███████████████████████████                                                                                             | 361/1603 [50:31<3:14:38,  9.40s/it]"
     ]
    },
    {
     "name": "stdout",
     "output_type": "stream",
     "text": [
      "result after generate:  {'result': 'đầy bụng, đau nhói bụng dưới, đau thắt lưng'}\n",
      "Input: có triệu chứng đầy bụng, đau nhói bụng dưới âm ỉ kèm đau thắt lưng | sản phụ khoa | Output: đầy bụng, đau nhói bụng dưới, đau thắt lưng\n"
     ]
    },
    {
     "name": "stderr",
     "output_type": "stream",
     "text": [
      "Handle reason combind:  23%|███████████████████████████                                                                                             | 362/1603 [50:34<2:31:53,  7.34s/it]"
     ]
    },
    {
     "name": "stdout",
     "output_type": "stream",
     "text": [
      "result after generate:  {'result': 'vô sinh'}\n",
      "Input: lâu chưa có em bé | sản phụ khoa | Output: vô sinh\n"
     ]
    },
    {
     "name": "stderr",
     "output_type": "stream",
     "text": [
      "Handle reason combind:  23%|███████████████████████████▏                                                                                            | 363/1603 [50:42<2:37:26,  7.62s/it]"
     ]
    },
    {
     "name": "stdout",
     "output_type": "stream",
     "text": [
      "result after generate:  {'result': 'dấu hiệu bất thường khi thai 9 tuần'}\n",
      "Input: thai 9 tuần có dấu hiệu bất thường | sản phụ khoa | Output: dấu hiệu bất thường khi thai 9 tuần\n"
     ]
    },
    {
     "name": "stderr",
     "output_type": "stream",
     "text": [
      "Handle reason combind:  23%|███████████████████████████▏                                                                                            | 364/1603 [50:47<2:20:35,  6.81s/it]"
     ]
    },
    {
     "name": "stdout",
     "output_type": "stream",
     "text": [
      "result after generate:  {'result': 'trễ kinh'}\n",
      "Input: bị trễ kinh hơn 1 tháng | sản phụ khoa | Output: trễ kinh\n"
     ]
    },
    {
     "name": "stderr",
     "output_type": "stream",
     "text": [
      "Handle reason combind:  23%|███████████████████████████▎                                                                                            | 365/1603 [50:59<2:53:30,  8.41s/it]"
     ]
    },
    {
     "name": "stdout",
     "output_type": "stream",
     "text": [
      "result after generate:  {'result': 'ngứa âm đạo'}\n",
      "Input: có hiện tượng ngứa âm đạo | sản phụ khoa | Output: ngứa âm đạo\n"
     ]
    },
    {
     "name": "stderr",
     "output_type": "stream",
     "text": [
      "Handle reason combind:  23%|███████████████████████████▍                                                                                            | 366/1603 [51:01<2:13:50,  6.49s/it]"
     ]
    },
    {
     "name": "stdout",
     "output_type": "stream",
     "text": [
      "result after generate:  {'result': 'nghi ngờ có thai'}\n",
      "Input: nghi ngờ có thai | sản phụ khoa | Output: nghi ngờ có thai\n"
     ]
    },
    {
     "name": "stderr",
     "output_type": "stream",
     "text": [
      "Handle reason combind:  23%|███████████████████████████▍                                                                                            | 367/1603 [51:07<2:10:32,  6.34s/it]"
     ]
    },
    {
     "name": "stdout",
     "output_type": "stream",
     "text": [
      "result after generate:  {'result': 'nhân xơ tử cung'}\n",
      "Input: khám thai sản (thai 13 tuần 4 ngày), siêu âm tuần 12 phát hiện mẹ có nhân xơ tử cung, chưa làm cac xét nghiệm thai sản | sản phụ khoa | Output: nhân xơ tử cung\n"
     ]
    },
    {
     "name": "stderr",
     "output_type": "stream",
     "text": [
      "Handle reason combind:  23%|███████████████████████████▌                                                                                            | 368/1603 [51:16<2:25:05,  7.05s/it]"
     ]
    },
    {
     "name": "stdout",
     "output_type": "stream",
     "text": [
      "result after generate:  {'result': 'ngứa âm đạo, chảy máu âm đạo'}\n",
      "Input: ngứa và chảy máu âm đạo | sản phụ khoa | Output: ngứa âm đạo, chảy máu âm đạo\n"
     ]
    },
    {
     "name": "stderr",
     "output_type": "stream",
     "text": [
      "Handle reason combind:  23%|███████████████████████████▌                                                                                            | 369/1603 [51:27<2:47:18,  8.13s/it]"
     ]
    },
    {
     "name": "stdout",
     "output_type": "stream",
     "text": [
      "result after generate:  {'result': 'ngứa âm đạo, ra huyết trắng, tiểu dắt, nước tiểu có cặn, chậm kinh'}\n",
      "Input: ngứa âm đạo, ra huyết trắng, tiểu dắt, nước tiểu có cặn, chậm kinh | sản phụ khoa | Output: ngứa âm đạo, ra huyết trắng, tiểu dắt, nước tiểu có cặn, chậm kinh\n"
     ]
    },
    {
     "name": "stderr",
     "output_type": "stream",
     "text": [
      "Handle reason combind:  23%|███████████████████████████▋                                                                                            | 370/1603 [51:30<2:18:01,  6.72s/it]"
     ]
    },
    {
     "name": "stdout",
     "output_type": "stream",
     "text": [
      "result after generate:  {'result': 'màu trắng nhiều'}\n",
      "Input: mau trang nhieu | sản phụ khoa | Output: màu trắng nhiều\n"
     ]
    },
    {
     "name": "stderr",
     "output_type": "stream",
     "text": [
      "Handle reason combind:  23%|███████████████████████████▊                                                                                            | 371/1603 [51:32<1:46:05,  5.17s/it]"
     ]
    },
    {
     "name": "stdout",
     "output_type": "stream",
     "text": [
      "result after generate:  {'result': 'vú bị sưng, em bé không chịu bú'}\n",
      "Input: một bên vú bị sưng. em bé không chịu bú | sản phụ khoa | Output: vú bị sưng, em bé không chịu bú\n"
     ]
    },
    {
     "name": "stderr",
     "output_type": "stream",
     "text": [
      "Handle reason combind:  23%|███████████████████████████▊                                                                                            | 372/1603 [51:39<2:02:16,  5.96s/it]"
     ]
    },
    {
     "name": "stdout",
     "output_type": "stream",
     "text": [
      "result after generate:  {'result': 'ngứa vùng kín, khó chịu'}\n",
      "Input: khám phụ khoa\n",
      "vùng kín bị ngứa gây khó chịu | sản phụ khoa | Output: ngứa vùng kín, khó chịu\n"
     ]
    },
    {
     "name": "stderr",
     "output_type": "stream",
     "text": [
      "Handle reason combind:  23%|███████████████████████████▉                                                                                            | 373/1603 [51:48<2:17:22,  6.70s/it]"
     ]
    },
    {
     "name": "stdout",
     "output_type": "stream",
     "text": [
      "result after generate:  {'result': 'ngứa âm đạo'}\n",
      "Input: bị ngứa âm đạo không rõ lí do. | sản phụ khoa | Output: ngứa âm đạo\n"
     ]
    },
    {
     "name": "stderr",
     "output_type": "stream",
     "text": [
      "Handle reason combind:  23%|███████████████████████████▉                                                                                            | 374/1603 [51:53<2:09:25,  6.32s/it]"
     ]
    },
    {
     "name": "stdout",
     "output_type": "stream",
     "text": [
      "result after generate:  {'result': 'vô sinh'}\n",
      "Input: kết hôn hơn 1 năm mà chưa có con | sản phụ khoa | Output: vô sinh\n"
     ]
    },
    {
     "name": "stderr",
     "output_type": "stream",
     "text": [
      "Handle reason combind:  23%|████████████████████████████                                                                                            | 375/1603 [52:01<2:15:47,  6.63s/it]"
     ]
    },
    {
     "name": "stdout",
     "output_type": "stream",
     "text": [
      "result after generate:  {'result': 'chậm kì kinh, buốt bụng dưới'}\n",
      "Input: chậm kì kinh, buốt bụng dưới | sản phụ khoa | Output: chậm kì kinh, buốt bụng dưới\n"
     ]
    },
    {
     "name": "stderr",
     "output_type": "stream",
     "text": [
      "Handle reason combind:  23%|████████████████████████████▏                                                                                           | 376/1603 [52:04<1:58:41,  5.80s/it]"
     ]
    },
    {
     "name": "stdout",
     "output_type": "stream",
     "text": [
      "result after generate:  {'result': 'khí hư, ra máu'}\n",
      "Input: khí hư. ra máu | sản phụ khoa | Output: khí hư, ra máu\n"
     ]
    },
    {
     "name": "stderr",
     "output_type": "stream",
     "text": [
      "Handle reason combind:  24%|████████████████████████████▏                                                                                           | 377/1603 [52:13<2:14:58,  6.61s/it]"
     ]
    },
    {
     "name": "stdout",
     "output_type": "stream",
     "text": [
      "result after generate:  {'result': 'sưng, đỏ, mủ'}\n",
      "Input: sưng đỏ có mủ ở ngực | sản phụ khoa | Output: sưng, đỏ, mủ\n"
     ]
    },
    {
     "name": "stderr",
     "output_type": "stream",
     "text": [
      "Handle reason combind:  24%|████████████████████████████▎                                                                                           | 378/1603 [52:17<2:01:48,  5.97s/it]"
     ]
    },
    {
     "name": "stdout",
     "output_type": "stream",
     "text": [
      "result after generate:  {'result': 'khám thai'}\n",
      "Input: khám thai 6 tháng | sản phụ khoa | Output: khám thai\n"
     ]
    },
    {
     "name": "stderr",
     "output_type": "stream",
     "text": [
      "Handle reason combind:  24%|████████████████████████████▎                                                                                           | 379/1603 [52:23<1:59:05,  5.84s/it]"
     ]
    },
    {
     "name": "stdout",
     "output_type": "stream",
     "text": [
      "result after generate:  {'result': 'tiểu buốt, tiểu rắt, viêm phụ khoa'}\n",
      "Input: tiểu buốt, tiểu rắt, nghi ngờ viêm phụ khoa | sản phụ khoa | Output: tiểu buốt, tiểu rắt, viêm phụ khoa\n"
     ]
    },
    {
     "name": "stderr",
     "output_type": "stream",
     "text": [
      "Handle reason combind:  24%|████████████████████████████▍                                                                                           | 380/1603 [52:31<2:14:14,  6.59s/it]"
     ]
    },
    {
     "name": "stdout",
     "output_type": "stream",
     "text": [
      "result after generate:  {'result': 'đau bụng, ra khí hư'}\n",
      "Input: đau bụng, ra khí hư | sản phụ khoa | Output: đau bụng, ra khí hư\n"
     ]
    },
    {
     "name": "stderr",
     "output_type": "stream",
     "text": [
      "Handle reason combind:  24%|████████████████████████████▌                                                                                           | 381/1603 [52:39<2:23:33,  7.05s/it]"
     ]
    },
    {
     "name": "stdout",
     "output_type": "stream",
     "text": [
      "result after generate:  {'result': 'đau vú, biểu hiện đau'}\n",
      "Input: đau vú, ấn vào có biểu hiện đau | sản phụ khoa | Output: đau vú, biểu hiện đau\n"
     ]
    },
    {
     "name": "stderr",
     "output_type": "stream",
     "text": [
      "Handle reason combind:  24%|████████████████████████████▌                                                                                           | 382/1603 [52:44<2:08:28,  6.31s/it]"
     ]
    },
    {
     "name": "stdout",
     "output_type": "stream",
     "text": [
      "result after generate:  {'result': 'nấm âm đạo'}\n",
      "Input: nghi ngờ bị nấm âm đạo | sản phụ khoa | Output: nấm âm đạo\n"
     ]
    },
    {
     "name": "stderr",
     "output_type": "stream",
     "text": [
      "Handle reason combind:  24%|████████████████████████████▋                                                                                           | 383/1603 [52:47<1:45:30,  5.19s/it]"
     ]
    },
    {
     "name": "stdout",
     "output_type": "stream",
     "text": [
      "result after generate:  {'result': 'rối loạn kinh nguyệt'}\n",
      "Input: bi rong kinh hon 1thang | sản phụ khoa | Output: rối loạn kinh nguyệt\n"
     ]
    },
    {
     "name": "stderr",
     "output_type": "stream",
     "text": [
      "Handle reason combind:  24%|████████████████████████████▋                                                                                           | 384/1603 [53:05<3:05:33,  9.13s/it]"
     ]
    },
    {
     "name": "stdout",
     "output_type": "stream",
     "text": [
      "result after generate:  {'result': 'mọc nhiều hạt ở bộ phận sinh dục'}\n",
      "Input: cháu bị mọc nhiều hạt ở bộ phận sinh dục | sản phụ khoa | Output: mọc nhiều hạt ở bộ phận sinh dục\n"
     ]
    },
    {
     "name": "stderr",
     "output_type": "stream",
     "text": [
      "Handle reason combind:  24%|████████████████████████████▊                                                                                           | 385/1603 [53:07<2:19:43,  6.88s/it]"
     ]
    },
    {
     "name": "stdout",
     "output_type": "stream",
     "text": [
      "result after generate:  {'result': None}\n"
     ]
    },
    {
     "name": "stderr",
     "output_type": "stream",
     "text": [
      "Handle reason combind:  24%|████████████████████████████▉                                                                                           | 386/1603 [53:23<3:16:47,  9.70s/it]"
     ]
    },
    {
     "name": "stdout",
     "output_type": "stream",
     "text": [
      "result after generate:  {'result': None}\n"
     ]
    },
    {
     "name": "stderr",
     "output_type": "stream",
     "text": [
      "Handle reason combind:  24%|████████████████████████████▉                                                                                           | 387/1603 [53:24<2:26:05,  7.21s/it]"
     ]
    },
    {
     "name": "stdout",
     "output_type": "stream",
     "text": [
      "result after generate:  {'result': 'cục thịt thừa nơi đầu vú'}\n",
      "Input: có cục thịt thừa nơi đầu vú | sản phụ khoa | Output: cục thịt thừa nơi đầu vú\n"
     ]
    },
    {
     "name": "stderr",
     "output_type": "stream",
     "text": [
      "Handle reason combind:  24%|█████████████████████████████                                                                                           | 388/1603 [53:40<3:15:20,  9.65s/it]"
     ]
    },
    {
     "name": "stdout",
     "output_type": "stream",
     "text": [
      "result after generate:  {'result': 'mang thai'}\n",
      "Input: mới phát hiện mang thai | sản phụ khoa | Output: mang thai\n"
     ]
    },
    {
     "name": "stderr",
     "output_type": "stream",
     "text": [
      "Handle reason combind:  24%|█████████████████████████████                                                                                           | 389/1603 [53:44<2:43:09,  8.06s/it]"
     ]
    },
    {
     "name": "stdout",
     "output_type": "stream",
     "text": [
      "result after generate:  {'result': 'ra nhiều nước như nước đậu, ngứa âm đạo, thai dc 2 tháng'}\n",
      "Input: ra nhiều nước như nước đậu và ngứa âm đạo, đang có thai dc 2 tháng | sản phụ khoa | Output: ra nhiều nước như nước đậu, ngứa âm đạo, thai dc 2 tháng\n"
     ]
    },
    {
     "name": "stderr",
     "output_type": "stream",
     "text": [
      "Handle reason combind:  24%|█████████████████████████████▏                                                                                          | 390/1603 [53:52<2:44:59,  8.16s/it]"
     ]
    },
    {
     "name": "stdout",
     "output_type": "stream",
     "text": [
      "result after generate:  {'result': 'ứ kinh'}\n",
      "Input: có dấu hiệu ứ kinh | sản phụ khoa | Output: ứ kinh\n"
     ]
    },
    {
     "name": "stderr",
     "output_type": "stream",
     "text": [
      "Handle reason combind:  24%|█████████████████████████████▎                                                                                          | 391/1603 [54:08<3:32:36, 10.52s/it]"
     ]
    },
    {
     "name": "stdout",
     "output_type": "stream",
     "text": [
      "result after generate:  {'result': 'viêm âm đạo'}\n",
      "Input: kiêm tra xem có bị viêm âm đạo | sản phụ khoa | Output: viêm âm đạo\n"
     ]
    },
    {
     "name": "stderr",
     "output_type": "stream",
     "text": [
      "Handle reason combind:  24%|█████████████████████████████▎                                                                                          | 392/1603 [54:13<2:58:06,  8.82s/it]"
     ]
    },
    {
     "name": "stdout",
     "output_type": "stream",
     "text": [
      "result after generate:  {'result': 'dịch trắng đặc, dịch trắng nhiều'}\n",
      "Input: dịch trắng đặc và nhiều | sản phụ khoa | Output: dịch trắng đặc, dịch trắng nhiều\n"
     ]
    },
    {
     "name": "stderr",
     "output_type": "stream",
     "text": [
      "Handle reason combind:  25%|█████████████████████████████▍                                                                                          | 393/1603 [54:22<2:57:51,  8.82s/it]"
     ]
    },
    {
     "name": "stdout",
     "output_type": "stream",
     "text": [
      "result after generate:  {'result': 'ngứa, rát phụ khoa'}\n",
      "Input: có hiện tượng ngứa, rát phụ khoa | sản phụ khoa | Output: ngứa, rát phụ khoa\n"
     ]
    },
    {
     "name": "stderr",
     "output_type": "stream",
     "text": [
      "Handle reason combind:  25%|█████████████████████████████▍                                                                                          | 394/1603 [54:28<2:38:22,  7.86s/it]"
     ]
    },
    {
     "name": "stdout",
     "output_type": "stream",
     "text": [
      "result after generate:  {'result': 'nghi ngờ có polyp'}\n",
      "Input: khám phụ khoa, nghi ngờ có polyp | sản phụ khoa | Output: nghi ngờ có polyp\n"
     ]
    },
    {
     "name": "stderr",
     "output_type": "stream",
     "text": [
      "Handle reason combind:  25%|█████████████████████████████▌                                                                                          | 395/1603 [54:32<2:17:22,  6.82s/it]"
     ]
    },
    {
     "name": "stdout",
     "output_type": "stream",
     "text": [
      "result after generate:  {'result': 'khí hư âm đạo, mùi hôi'}\n",
      "Input: có khí hư âm đạo , mùi hôi | sản phụ khoa | Output: khí hư âm đạo, mùi hôi\n"
     ]
    },
    {
     "name": "stderr",
     "output_type": "stream",
     "text": [
      "Handle reason combind:  25%|█████████████████████████████▋                                                                                          | 396/1603 [54:39<2:19:46,  6.95s/it]"
     ]
    },
    {
     "name": "stdout",
     "output_type": "stream",
     "text": [
      "result after generate:  {'result': 'nốt sần, ngứa'}\n",
      "Input: vùng kín có có nốt sần và ngứa | sản phụ khoa | Output: nốt sần, ngứa\n"
     ]
    },
    {
     "name": "stderr",
     "output_type": "stream",
     "text": [
      "Handle reason combind:  25%|█████████████████████████████▋                                                                                          | 397/1603 [54:43<2:00:49,  6.01s/it]"
     ]
    },
    {
     "name": "stdout",
     "output_type": "stream",
     "text": [
      "result after generate:  {'result': 'dấu hiệu bất thường'}\n",
      "Input: khám thai, có dấu hiệu bất thường | sản phụ khoa | Output: dấu hiệu bất thường\n"
     ]
    },
    {
     "name": "stderr",
     "output_type": "stream",
     "text": [
      "Handle reason combind:  25%|█████████████████████████████▊                                                                                          | 398/1603 [54:49<1:59:42,  5.96s/it]"
     ]
    },
    {
     "name": "stdout",
     "output_type": "stream",
     "text": [
      "result after generate:  {'result': 'tim thai'}\n",
      "Input: kiểm tra tim thai | sản phụ khoa | Output: tim thai\n"
     ]
    },
    {
     "name": "stderr",
     "output_type": "stream",
     "text": [
      "Handle reason combind:  25%|█████████████████████████████▊                                                                                          | 399/1603 [54:57<2:12:27,  6.60s/it]"
     ]
    },
    {
     "name": "stdout",
     "output_type": "stream",
     "text": [
      "result after generate:  {'result': 'ra dịch màu trắng đục, mùi'}\n",
      "Input: ra dịch màu trắng đục có mùi | sản phụ khoa | Output: ra dịch màu trắng đục, mùi\n"
     ]
    },
    {
     "name": "stderr",
     "output_type": "stream",
     "text": [
      "Handle reason combind:  25%|█████████████████████████████▉                                                                                          | 400/1603 [55:05<2:22:30,  7.11s/it]"
     ]
    },
    {
     "name": "stdout",
     "output_type": "stream",
     "text": [
      "result after generate:  {'result': 'đau bụng dưới rốn bên trái, rong kinh, buồn nôn'}\n",
      "Input: đau bụng dưới rốn bên trái, rong kinh, hay buồn nôn | sản phụ khoa | Output: đau bụng dưới rốn bên trái, rong kinh, buồn nôn\n"
     ]
    },
    {
     "name": "stderr",
     "output_type": "stream",
     "text": [
      "Handle reason combind:  25%|██████████████████████████████                                                                                          | 401/1603 [55:07<1:50:56,  5.54s/it]"
     ]
    },
    {
     "name": "stdout",
     "output_type": "stream",
     "text": [
      "result after generate:  {'result': 'rối loạn kinh nguyệt'}\n",
      "Input: bị rối loạn kinh nguyệt, và muốn sinh thêm bé thứ 2 | sản phụ khoa | Output: rối loạn kinh nguyệt\n"
     ]
    },
    {
     "name": "stderr",
     "output_type": "stream",
     "text": [
      "Handle reason combind:  25%|██████████████████████████████                                                                                          | 402/1603 [55:19<2:28:46,  7.43s/it]"
     ]
    },
    {
     "name": "stdout",
     "output_type": "stream",
     "text": [
      "result after generate:  {'result': 'mất kinh nguyệt'}\n",
      "Input: khám mất kinh nguyệt  (kéo dài 7 tháng ) | sản phụ khoa | Output: mất kinh nguyệt\n"
     ]
    },
    {
     "name": "stderr",
     "output_type": "stream",
     "text": [
      "Handle reason combind:  25%|██████████████████████████████▏                                                                                         | 403/1603 [55:27<2:31:19,  7.57s/it]"
     ]
    },
    {
     "name": "stdout",
     "output_type": "stream",
     "text": [
      "result after generate:  {'result': 'ngứa vùng kín'}\n",
      "Input: thấy dấu hiệu ngứa vùng kín | sản phụ khoa | Output: ngứa vùng kín\n"
     ]
    },
    {
     "name": "stderr",
     "output_type": "stream",
     "text": [
      "Handle reason combind:  25%|██████████████████████████████▏                                                                                         | 404/1603 [55:30<2:05:50,  6.30s/it]"
     ]
    },
    {
     "name": "stdout",
     "output_type": "stream",
     "text": [
      "result after generate:  {'result': 'khám tim thai'}\n",
      "Input: khám tim thai | sản phụ khoa | Output: khám tim thai\n"
     ]
    },
    {
     "name": "stderr",
     "output_type": "stream",
     "text": [
      "Handle reason combind:  25%|██████████████████████████████▎                                                                                         | 405/1603 [55:39<2:22:38,  7.14s/it]"
     ]
    },
    {
     "name": "stdout",
     "output_type": "stream",
     "text": [
      "result after generate:  {'result': 'bầu tuần 32'}\n",
      "Input: khám bầu tuần 32 | sản phụ khoa | Output: bầu tuần 32\n"
     ]
    },
    {
     "name": "stderr",
     "output_type": "stream",
     "text": [
      "Handle reason combind:  25%|██████████████████████████████▍                                                                                         | 406/1603 [55:40<1:43:50,  5.21s/it]"
     ]
    },
    {
     "name": "stdout",
     "output_type": "stream",
     "text": [
      "result after generate:  {'result': 'chậm kinh'}\n",
      "Input: chậm kinh 1 tuần | sản phụ khoa | Output: chậm kinh\n"
     ]
    },
    {
     "name": "stderr",
     "output_type": "stream",
     "text": [
      "Handle reason combind:  25%|██████████████████████████████▍                                                                                         | 407/1603 [55:56<2:47:57,  8.43s/it]"
     ]
    },
    {
     "name": "stdout",
     "output_type": "stream",
     "text": [
      "result after generate:  {'result': None}\n"
     ]
    },
    {
     "name": "stderr",
     "output_type": "stream",
     "text": [
      "Handle reason combind:  25%|██████████████████████████████▌                                                                                         | 408/1603 [55:59<2:17:39,  6.91s/it]"
     ]
    },
    {
     "name": "stdout",
     "output_type": "stream",
     "text": [
      "result after generate:  {'result': 'nóng rát âm đạo'}\n",
      "Input: nóng rát âm đạo khi tiểu tiện | sản phụ khoa | Output: nóng rát âm đạo\n"
     ]
    },
    {
     "name": "stderr",
     "output_type": "stream",
     "text": [
      "Handle reason combind:  26%|██████████████████████████████▌                                                                                         | 409/1603 [56:08<2:26:05,  7.34s/it]"
     ]
    },
    {
     "name": "stdout",
     "output_type": "stream",
     "text": [
      "result after generate:  {'result': 'trễ kinh'}\n",
      "Input: bị trễ kinh 20 ngày | sản phụ khoa | Output: trễ kinh\n"
     ]
    },
    {
     "name": "stderr",
     "output_type": "stream",
     "text": [
      "Handle reason combind:  26%|██████████████████████████████▋                                                                                         | 410/1603 [56:15<2:23:25,  7.21s/it]"
     ]
    },
    {
     "name": "stdout",
     "output_type": "stream",
     "text": [
      "result after generate:  {'result': 'đi tiểu ra máu'}\n",
      "Input: có đi tiểu ra máu; khám phụ khoa tổng thể | sản phụ khoa | Output: đi tiểu ra máu\n"
     ]
    },
    {
     "name": "stderr",
     "output_type": "stream",
     "text": [
      "Handle reason combind:  26%|██████████████████████████████▊                                                                                         | 411/1603 [56:23<2:31:56,  7.65s/it]"
     ]
    },
    {
     "name": "stdout",
     "output_type": "stream",
     "text": [
      "result after generate:  {'result': 'tắc tia sữa, cục cứng'}\n",
      "Input: tắc tia sữa có cục cứng | sản phụ khoa | Output: tắc tia sữa, cục cứng\n"
     ]
    },
    {
     "name": "stderr",
     "output_type": "stream",
     "text": [
      "Handle reason combind:  26%|██████████████████████████████▊                                                                                         | 412/1603 [56:36<2:58:38,  9.00s/it]"
     ]
    },
    {
     "name": "stdout",
     "output_type": "stream",
     "text": [
      "result after generate:  {'result': 'dịch trắng, chậm kinh'}\n",
      "Input: nhiều dịch trắng,chậm kinh | sản phụ khoa | Output: dịch trắng, chậm kinh\n"
     ]
    },
    {
     "name": "stderr",
     "output_type": "stream",
     "text": [
      "Handle reason combind:  26%|██████████████████████████████▉                                                                                         | 413/1603 [56:38<2:20:30,  7.08s/it]"
     ]
    },
    {
     "name": "stdout",
     "output_type": "stream",
     "text": [
      "result after generate:  {'result': 'áp xe vú'}\n",
      "Input: nghi áp xe vú | sản phụ khoa | Output: áp xe vú\n"
     ]
    },
    {
     "name": "stderr",
     "output_type": "stream",
     "text": [
      "Handle reason combind:  26%|██████████████████████████████▉                                                                                         | 414/1603 [56:57<3:33:16, 10.76s/it]"
     ]
    },
    {
     "name": "stdout",
     "output_type": "stream",
     "text": [
      "result after generate:  {'result': 'dịch buồng tử cung'}\n",
      "Input: theo dõi dịch buồng tử cung | sản phụ khoa | Output: dịch buồng tử cung\n"
     ]
    },
    {
     "name": "stderr",
     "output_type": "stream",
     "text": [
      "Handle reason combind:  26%|███████████████████████████████                                                                                         | 415/1603 [57:01<2:50:37,  8.62s/it]"
     ]
    },
    {
     "name": "stdout",
     "output_type": "stream",
     "text": [
      "result after generate:  {'result': 'siêu âm chấn đoán hình ảnh thai nhi'}\n",
      "Input: siêu âm chấn đoán hình ảnh thai nhi | sản phụ khoa | Output: siêu âm chấn đoán hình ảnh thai nhi\n"
     ]
    },
    {
     "name": "stderr",
     "output_type": "stream",
     "text": [
      "Handle reason combind:  26%|███████████████████████████████▏                                                                                        | 416/1603 [57:07<2:33:22,  7.75s/it]"
     ]
    },
    {
     "name": "stdout",
     "output_type": "stream",
     "text": [
      "result after generate:  {'result': 'đau vú'}\n",
      "Input: đau vú | sản phụ khoa | Output: đau vú\n"
     ]
    },
    {
     "name": "stderr",
     "output_type": "stream",
     "text": [
      "Handle reason combind:  26%|███████████████████████████████▏                                                                                        | 417/1603 [57:11<2:09:54,  6.57s/it]"
     ]
    },
    {
     "name": "stdout",
     "output_type": "stream",
     "text": [
      "result after generate:  {'result': 'nghe tim thai'}\n",
      "Input: khám để nghe tim thai, khoảng 7-8 tuần | sản phụ khoa | Output: nghe tim thai\n"
     ]
    },
    {
     "name": "stderr",
     "output_type": "stream",
     "text": [
      "Handle reason combind:  26%|███████████████████████████████▎                                                                                        | 418/1603 [57:20<2:27:06,  7.45s/it]"
     ]
    },
    {
     "name": "stdout",
     "output_type": "stream",
     "text": [
      "result after generate:  {'result': 'dịch tiết vùng kín'}\n",
      "Input: có dịch tiết ra khu vực vùng kín | sản phụ khoa | Output: dịch tiết vùng kín\n"
     ]
    },
    {
     "name": "stderr",
     "output_type": "stream",
     "text": [
      "Handle reason combind:  26%|███████████████████████████████▎                                                                                        | 419/1603 [57:23<1:58:02,  5.98s/it]"
     ]
    },
    {
     "name": "stdout",
     "output_type": "stream",
     "text": [
      "result after generate:  {'result': 'đau bụng'}\n",
      "Input: đau bụng khi mang thai | sản phụ khoa | Output: đau bụng\n"
     ]
    },
    {
     "name": "stderr",
     "output_type": "stream",
     "text": [
      "Handle reason combind:  26%|███████████████████████████████▍                                                                                        | 420/1603 [57:34<2:27:43,  7.49s/it]"
     ]
    },
    {
     "name": "stdout",
     "output_type": "stream",
     "text": [
      "result after generate:  {'result': 'ngứa, dịch trắng'}\n",
      "Input: ngứa, dịch trắng | sản phụ khoa | Output: ngứa, dịch trắng\n"
     ]
    },
    {
     "name": "stderr",
     "output_type": "stream",
     "text": [
      "Handle reason combind:  26%|███████████████████████████████▌                                                                                        | 421/1603 [57:43<2:36:14,  7.93s/it]"
     ]
    },
    {
     "name": "stdout",
     "output_type": "stream",
     "text": [
      "result after generate:  {'result': 'đau rát khi quan hệ, chảy máu sau quan hệ, ngứa âm đạo'}\n",
      "Input: đau rát khi quan hệ. chảy máu sau khi quan hệ 1 ngày. âm đạo bị ngứa | sản phụ khoa | Output: đau rát khi quan hệ, chảy máu sau quan hệ, ngứa âm đạo\n"
     ]
    },
    {
     "name": "stderr",
     "output_type": "stream",
     "text": [
      "Handle reason combind:  26%|███████████████████████████████▌                                                                                        | 422/1603 [57:44<1:57:31,  5.97s/it]"
     ]
    },
    {
     "name": "stdout",
     "output_type": "stream",
     "text": [
      "result after generate:  {'result': None}\n"
     ]
    },
    {
     "name": "stderr",
     "output_type": "stream",
     "text": [
      "Handle reason combind:  26%|███████████████████████████████▋                                                                                        | 423/1603 [58:00<2:58:08,  9.06s/it]"
     ]
    },
    {
     "name": "stdout",
     "output_type": "stream",
     "text": [
      "result after generate:  {'result': 'ra máu'}\n",
      "Input: siêu âm sau khi hút thai và cắt polyp 15 ngày vẫn ra máu | sản phụ khoa | Output: ra máu\n"
     ]
    },
    {
     "name": "stderr",
     "output_type": "stream",
     "text": [
      "Handle reason combind:  26%|███████████████████████████████▋                                                                                        | 424/1603 [58:05<2:30:52,  7.68s/it]"
     ]
    },
    {
     "name": "stdout",
     "output_type": "stream",
     "text": [
      "result after generate:  {'result': 'hiện máu'}\n",
      "Input: khám hien muon | sản phụ khoa | Output: hiện máu\n"
     ]
    },
    {
     "name": "stderr",
     "output_type": "stream",
     "text": [
      "Handle reason combind:  27%|███████████████████████████████▊                                                                                        | 425/1603 [58:13<2:36:11,  7.96s/it]"
     ]
    },
    {
     "name": "stdout",
     "output_type": "stream",
     "text": [
      "result after generate:  {'result': 'chậm kinh, khí hư bất thường'}\n",
      "Input: chậm kinh, khí hư bất thường. | sản phụ khoa | Output: chậm kinh, khí hư bất thường\n"
     ]
    },
    {
     "name": "stderr",
     "output_type": "stream",
     "text": [
      "Handle reason combind:  27%|███████████████████████████████▉                                                                                        | 426/1603 [58:17<2:13:20,  6.80s/it]"
     ]
    },
    {
     "name": "stdout",
     "output_type": "stream",
     "text": [
      "result after generate:  {'result': 'đau bụng dưới, ra máu tươi'}\n",
      "Input: đau bụng dưới, khi sinh hoạt vợ chồng ra máu tươi | sản phụ khoa | Output: đau bụng dưới, ra máu tươi\n"
     ]
    },
    {
     "name": "stderr",
     "output_type": "stream",
     "text": [
      "Handle reason combind:  27%|███████████████████████████████▉                                                                                        | 427/1603 [58:31<2:50:36,  8.70s/it]"
     ]
    },
    {
     "name": "stdout",
     "output_type": "stream",
     "text": [
      "result after generate:  {'result': 'khí hư ra bất thường, đau tức bụng'}\n",
      "Input: khí hư ra bất thường, hơi đau tức bụng | sản phụ khoa | Output: khí hư ra bất thường, đau tức bụng\n"
     ]
    },
    {
     "name": "stderr",
     "output_type": "stream",
     "text": [
      "Handle reason combind:  27%|████████████████████████████████                                                                                        | 428/1603 [58:34<2:20:42,  7.19s/it]"
     ]
    },
    {
     "name": "stdout",
     "output_type": "stream",
     "text": [
      "result after generate:  {'result': 'nóng, ngứa, rát, nhiễm trùng nấm men'}\n",
      "Input: bị nóng ngứa rát vùng kín, có khả năng do bị nhiễm trùng nấm men | sản phụ khoa | Output: nóng, ngứa, rát, nhiễm trùng nấm men\n"
     ]
    },
    {
     "name": "stderr",
     "output_type": "stream",
     "text": [
      "Handle reason combind:  27%|████████████████████████████████                                                                                        | 429/1603 [58:44<2:35:14,  7.93s/it]"
     ]
    },
    {
     "name": "stdout",
     "output_type": "stream",
     "text": [
      "result after generate:  {'result': 'dị tật thai nhi'}\n",
      "Input: siêu âm mốc 22 tuần  dị tật thai nhi | sản phụ khoa | Output: dị tật thai nhi\n"
     ]
    },
    {
     "name": "stderr",
     "output_type": "stream",
     "text": [
      "Handle reason combind:  27%|████████████████████████████████▏                                                                                       | 430/1603 [58:53<2:40:30,  8.21s/it]"
     ]
    },
    {
     "name": "stdout",
     "output_type": "stream",
     "text": [
      "result after generate:  {'result': 'tử cung, buồng trứng'}\n",
      "Input: khám phụ khoa , tử cung và buồng trứng | sản phụ khoa | Output: tử cung, buồng trứng\n"
     ]
    },
    {
     "name": "stderr",
     "output_type": "stream",
     "text": [
      "Handle reason combind:  27%|████████████████████████████████▎                                                                                       | 431/1603 [58:55<2:04:51,  6.39s/it]"
     ]
    },
    {
     "name": "stdout",
     "output_type": "stream",
     "text": [
      "result after generate:  {'result': 'u xơ tử cung'}\n",
      "Input: u xo tu cung | sản phụ khoa | Output: u xơ tử cung\n"
     ]
    },
    {
     "name": "stderr",
     "output_type": "stream",
     "text": [
      "Handle reason combind:  27%|████████████████████████████████▎                                                                                       | 432/1603 [59:03<2:13:36,  6.85s/it]"
     ]
    },
    {
     "name": "stdout",
     "output_type": "stream",
     "text": [
      "result after generate:  {'result': 'đi tiểu bị rát, đi nặng bị rát'}\n",
      "Input: đi tiểu và đi nặng bị rát | sản phụ khoa | Output: đi tiểu bị rát, đi nặng bị rát\n"
     ]
    },
    {
     "name": "stderr",
     "output_type": "stream",
     "text": [
      "Handle reason combind:  27%|████████████████████████████████▍                                                                                       | 433/1603 [59:07<1:59:40,  6.14s/it]"
     ]
    },
    {
     "name": "stdout",
     "output_type": "stream",
     "text": [
      "result after generate:  {'result': 'thai mốc 21-22 tuần'}\n",
      "Input: khám thai mốc 21-22 tuần | sản phụ khoa | Output: thai mốc 21-22 tuần\n"
     ]
    },
    {
     "name": "stderr",
     "output_type": "stream",
     "text": [
      "Handle reason combind:  27%|████████████████████████████████▍                                                                                       | 434/1603 [59:14<2:03:40,  6.35s/it]"
     ]
    },
    {
     "name": "stdout",
     "output_type": "stream",
     "text": [
      "result after generate:  {'result': 'chậm kinh, khí hư đặc, ra nhiều'}\n",
      "Input: chậm kinh 25 ngày, khí hư đặc như sữa chua và ra nhiều khó chịu. | sản phụ khoa | Output: chậm kinh, khí hư đặc, ra nhiều\n"
     ]
    },
    {
     "name": "stderr",
     "output_type": "stream",
     "text": [
      "Handle reason combind:  27%|████████████████████████████████▌                                                                                       | 435/1603 [59:19<1:56:31,  5.99s/it]"
     ]
    },
    {
     "name": "stdout",
     "output_type": "stream",
     "text": [
      "result after generate:  {'result': 'đau bụng, rong kinh, u nang buồng trứng'}\n",
      "Input: đau bụng rồi rong kinh. khi khám tư chuẩn đoán  u nang buồng trứng bên trái | sản phụ khoa | Output: đau bụng, rong kinh, u nang buồng trứng\n"
     ]
    },
    {
     "name": "stderr",
     "output_type": "stream",
     "text": [
      "Handle reason combind:  27%|████████████████████████████████▋                                                                                       | 436/1603 [59:30<2:21:01,  7.25s/it]"
     ]
    },
    {
     "name": "stdout",
     "output_type": "stream",
     "text": [
      "result after generate:  {'result': 'nghi viêm nhiễm âm đạo, rối loạn nội tiết tố'}\n",
      "Input: nghi viêm nhiễm âm đạo, rối loạn nội tiết tố. cần hình thức khám cho người chưa quan hệ. | sản phụ khoa | Output: nghi viêm nhiễm âm đạo, rối loạn nội tiết tố\n"
     ]
    },
    {
     "name": "stderr",
     "output_type": "stream",
     "text": [
      "Handle reason combind:  27%|████████████████████████████████▋                                                                                       | 437/1603 [59:31<1:47:48,  5.55s/it]"
     ]
    },
    {
     "name": "stdout",
     "output_type": "stream",
     "text": [
      "result after generate:  {'result': 'rong kinh, máu nâu, đau bụng âm ỉ'}\n",
      "Input: rong kinh, máu nâu, đau bụng âm ỉ | sản phụ khoa | Output: rong kinh, máu nâu, đau bụng âm ỉ\n"
     ]
    },
    {
     "name": "stderr",
     "output_type": "stream",
     "text": [
      "Handle reason combind:  27%|████████████████████████████████▊                                                                                       | 438/1603 [59:49<2:57:26,  9.14s/it]"
     ]
    },
    {
     "name": "stdout",
     "output_type": "stream",
     "text": [
      "result after generate:  {'result': None}\n"
     ]
    },
    {
     "name": "stderr",
     "output_type": "stream",
     "text": [
      "Handle reason combind:  27%|████████████████████████████████▊                                                                                       | 439/1603 [59:53<2:29:11,  7.69s/it]"
     ]
    },
    {
     "name": "stdout",
     "output_type": "stream",
     "text": [
      "result after generate:  {'result': 'sơ tử cung'}\n",
      "Input: khám để điều trị nhân sơ tử cung | sản phụ khoa | Output: sơ tử cung\n"
     ]
    },
    {
     "name": "stderr",
     "output_type": "stream",
     "text": [
      "Handle reason combind:  27%|████████████████████████████████▍                                                                                     | 440/1603 [1:00:02<2:37:50,  8.14s/it]"
     ]
    },
    {
     "name": "stdout",
     "output_type": "stream",
     "text": [
      "result after generate:  {'result': 'nổi mụn bên ngoài âm đạo, gai sinh dục'}\n",
      "Input: tôi muốn khám phụ khoa, có nổi mụn bên ngoài âm đạo nhìn giống gai sinh dục | sản phụ khoa | Output: nổi mụn bên ngoài âm đạo, gai sinh dục\n"
     ]
    },
    {
     "name": "stderr",
     "output_type": "stream",
     "text": [
      "Handle reason combind:  28%|████████████████████████████████▍                                                                                     | 441/1603 [1:00:07<2:19:10,  7.19s/it]"
     ]
    },
    {
     "name": "stdout",
     "output_type": "stream",
     "text": [
      "result after generate:  {'result': 'khám thai, kiểm tra khoảng sáng sau gáy'}\n",
      "Input: khám thai kiểm tra khoảng sáng sau gáy thai 13 tuần | sản phụ khoa | Output: khám thai, kiểm tra khoảng sáng sau gáy\n"
     ]
    },
    {
     "name": "stderr",
     "output_type": "stream",
     "text": [
      "Handle reason combind:  28%|████████████████████████████████▌                                                                                     | 442/1603 [1:00:22<3:02:32,  9.43s/it]"
     ]
    },
    {
     "name": "stdout",
     "output_type": "stream",
     "text": [
      "result after generate:  {'result': 'rối loạn kinh nguyệt, chảy máu nhiều, cục máu đông'}\n",
      "Input: bi rong kinh 10 ngày. 3 ngày đầu ra bình thường, 3 ngay tiếp theo rất ít, 3 ngày gần nhất ra nhiều nhất  kèm theo có cục máu đông 3 ngày gần đây. | sản phụ khoa | Output: rối loạn kinh nguyệt, chảy máu nhiều, cục máu đông\n"
     ]
    },
    {
     "name": "stderr",
     "output_type": "stream",
     "text": [
      "Handle reason combind:  28%|████████████████████████████████▌                                                                                     | 443/1603 [1:00:26<2:33:32,  7.94s/it]"
     ]
    },
    {
     "name": "stdout",
     "output_type": "stream",
     "text": [
      "result after generate:  {'result': 'mùi khó chịu vùng kín'}\n",
      "Input: vùng kín có mùi khó chịu | sản phụ khoa | Output: mùi khó chịu vùng kín\n"
     ]
    },
    {
     "name": "stderr",
     "output_type": "stream",
     "text": [
      "Handle reason combind:  28%|████████████████████████████████▋                                                                                     | 444/1603 [1:00:36<2:41:41,  8.37s/it]"
     ]
    },
    {
     "name": "stdout",
     "output_type": "stream",
     "text": [
      "result after generate:  {'result': 'ra khí hư màu nâu, đau bụng dưới'}\n",
      "Input: ra khí hư màu nâu và đau bụng dưới. | sản phụ khoa | Output: ra khí hư màu nâu, đau bụng dưới\n"
     ]
    },
    {
     "name": "stderr",
     "output_type": "stream",
     "text": [
      "Handle reason combind:  28%|████████████████████████████████▊                                                                                     | 445/1603 [1:00:41<2:24:04,  7.46s/it]"
     ]
    },
    {
     "name": "stdout",
     "output_type": "stream",
     "text": [
      "result after generate:  {'result': 'đau bụng từng cơn'}\n",
      "Input: đau bụng từng cơn | sản phụ khoa | Output: đau bụng từng cơn\n"
     ]
    },
    {
     "name": "stderr",
     "output_type": "stream",
     "text": [
      "Handle reason combind:  28%|████████████████████████████████▊                                                                                     | 446/1603 [1:00:50<2:33:15,  7.95s/it]"
     ]
    },
    {
     "name": "stdout",
     "output_type": "stream",
     "text": [
      "result after generate:  {'result': 'đau bụng, tiểu ra huyết, biến đổi tầng sinh môn'}\n",
      "Input: đau bụng.tiểu ra huyết  .biến đổi tầng sinh môn | sản phụ khoa | Output: đau bụng, tiểu ra huyết, biến đổi tầng sinh môn\n"
     ]
    },
    {
     "name": "stderr",
     "output_type": "stream",
     "text": [
      "Handle reason combind:  28%|████████████████████████████████▉                                                                                     | 447/1603 [1:01:07<3:27:40, 10.78s/it]"
     ]
    },
    {
     "name": "stdout",
     "output_type": "stream",
     "text": [
      "result after generate:  {'result': 'ra máu nâu'}\n",
      "Input: ra máu nâu trước ngày kinh nguyệt 10 ngày. | sản phụ khoa | Output: ra máu nâu\n"
     ]
    },
    {
     "name": "stderr",
     "output_type": "stream",
     "text": [
      "Handle reason combind:  28%|████████████████████████████████▉                                                                                     | 448/1603 [1:01:08<2:29:49,  7.78s/it]"
     ]
    },
    {
     "name": "stdout",
     "output_type": "stream",
     "text": [
      "result after generate:  {'result': 'mệt mỏi, đau đầu, ù tai, đau bụng'}\n",
      "Input: thai đc 9 tuần người mệt mỏi đau đầu ù tai thỉnh thoảng đau bụng | sản phụ khoa | Output: mệt mỏi, đau đầu, ù tai, đau bụng\n"
     ]
    },
    {
     "name": "stderr",
     "output_type": "stream",
     "text": [
      "Handle reason combind:  28%|█████████████████████████████████                                                                                     | 449/1603 [1:01:17<2:36:04,  8.12s/it]"
     ]
    },
    {
     "name": "stdout",
     "output_type": "stream",
     "text": [
      "result after generate:  {'result': 'viêm tiểu'}\n",
      "Input: viêm tiểu | sản phụ khoa | Output: viêm tiểu\n"
     ]
    },
    {
     "name": "stderr",
     "output_type": "stream",
     "text": [
      "Handle reason combind:  28%|█████████████████████████████████▏                                                                                    | 450/1603 [1:01:38<3:47:45, 11.85s/it]"
     ]
    },
    {
     "name": "stdout",
     "output_type": "stream",
     "text": [
      "result after generate:  {'result': 'thai lưu'}\n",
      "Input: tư vấn trước khi chuẩn bị mang thai. do tôi mang thai lần 1 đã bị thai lưu. | sản phụ khoa | Output: thai lưu\n"
     ]
    },
    {
     "name": "stderr",
     "output_type": "stream",
     "text": [
      "Handle reason combind:  28%|█████████████████████████████████▏                                                                                    | 451/1603 [1:01:47<3:31:52, 11.04s/it]"
     ]
    },
    {
     "name": "stdout",
     "output_type": "stream",
     "text": [
      "result after generate:  {'result': None}\n"
     ]
    },
    {
     "name": "stderr",
     "output_type": "stream",
     "text": [
      "Handle reason combind:  28%|█████████████████████████████████▎                                                                                    | 452/1603 [1:02:05<4:11:17, 13.10s/it]"
     ]
    },
    {
     "name": "stdout",
     "output_type": "stream",
     "text": [
      "result after generate:  {'result': None}\n"
     ]
    },
    {
     "name": "stderr",
     "output_type": "stream",
     "text": [
      "Handle reason combind:  28%|█████████████████████████████████▎                                                                                    | 453/1603 [1:02:07<3:06:29,  9.73s/it]"
     ]
    },
    {
     "name": "stdout",
     "output_type": "stream",
     "text": [
      "result after generate:  {'result': 'khí hư bột'}\n",
      "Input: ra nhiều khí hư bột | sản phụ khoa | Output: khí hư bột\n"
     ]
    },
    {
     "name": "stderr",
     "output_type": "stream",
     "text": [
      "Handle reason combind:  28%|█████████████████████████████████▍                                                                                    | 454/1603 [1:02:22<3:38:07, 11.39s/it]"
     ]
    },
    {
     "name": "stdout",
     "output_type": "stream",
     "text": [
      "result after generate:  {'result': 'siêu âm thai, vào tử cung'}\n",
      "Input: siêu âm thai đã vào tử cung chưa. | sản phụ khoa | Output: siêu âm thai, vào tử cung\n"
     ]
    },
    {
     "name": "stderr",
     "output_type": "stream",
     "text": [
      "Handle reason combind:  28%|█████████████████████████████████▍                                                                                    | 455/1603 [1:02:24<2:43:04,  8.52s/it]"
     ]
    },
    {
     "name": "stdout",
     "output_type": "stream",
     "text": [
      "result after generate:  {'result': 'đau ở hốc nách trái'}\n",
      "Input: đau ở hốc nách trái, muốn siêu âm tuyến vú | sản phụ khoa | Output: đau ở hốc nách trái\n"
     ]
    },
    {
     "name": "stderr",
     "output_type": "stream",
     "text": [
      "Handle reason combind:  28%|█████████████████████████████████▌                                                                                    | 456/1603 [1:02:36<3:04:31,  9.65s/it]"
     ]
    },
    {
     "name": "stdout",
     "output_type": "stream",
     "text": [
      "result after generate:  {'result': None}\n"
     ]
    },
    {
     "name": "stderr",
     "output_type": "stream",
     "text": [
      "Handle reason combind:  29%|█████████████████████████████████▋                                                                                    | 457/1603 [1:02:41<2:39:26,  8.35s/it]"
     ]
    },
    {
     "name": "stdout",
     "output_type": "stream",
     "text": [
      "result after generate:  {'result': 'ngứa vùng kín, rát vùng kín, nổi hạt'}\n",
      "Input: ngứa rát vùng kín, nổi hạt | sản phụ khoa | Output: ngứa vùng kín, rát vùng kín, nổi hạt\n"
     ]
    },
    {
     "name": "stderr",
     "output_type": "stream",
     "text": [
      "Handle reason combind:  29%|█████████████████████████████████▋                                                                                    | 458/1603 [1:02:44<2:08:06,  6.71s/it]"
     ]
    },
    {
     "name": "stdout",
     "output_type": "stream",
     "text": [
      "result after generate:  {'result': 'mất kinh'}\n",
      "Input: mất kinh | sản phụ khoa | Output: mất kinh\n"
     ]
    },
    {
     "name": "stderr",
     "output_type": "stream",
     "text": [
      "Handle reason combind:  29%|█████████████████████████████████▊                                                                                    | 459/1603 [1:03:00<2:59:06,  9.39s/it]"
     ]
    },
    {
     "name": "stdout",
     "output_type": "stream",
     "text": [
      "result after generate:  {'result': 'khí hư nhiều, nấm'}\n",
      "Input: khí hư nhiều và nấm | sản phụ khoa | Output: khí hư nhiều, nấm\n"
     ]
    },
    {
     "name": "stderr",
     "output_type": "stream",
     "text": [
      "Handle reason combind:  29%|█████████████████████████████████▊                                                                                    | 460/1603 [1:03:01<2:11:01,  6.88s/it]"
     ]
    },
    {
     "name": "stdout",
     "output_type": "stream",
     "text": [
      "result after generate:  {'result': 'chậm kinh, đầy bụng'}\n",
      "Input: chậm kinh. đầy bụng | sản phụ khoa | Output: chậm kinh, đầy bụng\n"
     ]
    },
    {
     "name": "stderr",
     "output_type": "stream",
     "text": [
      "Handle reason combind:  29%|█████████████████████████████████▉                                                                                    | 461/1603 [1:03:17<3:02:22,  9.58s/it]"
     ]
    },
    {
     "name": "stdout",
     "output_type": "stream",
     "text": [
      "result after generate:  {'result': 'sưng tấy, ngứa, viêm cơ quan sinh dục'}\n",
      "Input: do bị bệnh sưng tấy, ngứa , viêm cơ quan sinh dục. | sản phụ khoa | Output: sưng tấy, ngứa, viêm cơ quan sinh dục\n"
     ]
    },
    {
     "name": "stderr",
     "output_type": "stream",
     "text": [
      "Handle reason combind:  29%|██████████████████████████████████                                                                                    | 462/1603 [1:03:28<3:09:55,  9.99s/it]"
     ]
    },
    {
     "name": "stdout",
     "output_type": "stream",
     "text": [
      "result after generate:  {'result': 'ra máu kinh bất thường'}\n",
      "Input: ra máu kinh bất thường khoảng 10 ngày | sản phụ khoa | Output: ra máu kinh bất thường\n"
     ]
    },
    {
     "name": "stderr",
     "output_type": "stream",
     "text": [
      "Handle reason combind:  29%|██████████████████████████████████                                                                                    | 463/1603 [1:03:30<2:25:40,  7.67s/it]"
     ]
    },
    {
     "name": "stdout",
     "output_type": "stream",
     "text": [
      "result after generate:  {'result': 'bất thường'}\n",
      "Input: thấy bất thường | sản phụ khoa | Output: bất thường\n"
     ]
    },
    {
     "name": "stderr",
     "output_type": "stream",
     "text": [
      "Handle reason combind:  29%|██████████████████████████████████▏                                                                                   | 464/1603 [1:03:47<3:21:13, 10.60s/it]"
     ]
    },
    {
     "name": "stdout",
     "output_type": "stream",
     "text": [
      "result after generate:  {'result': 'vú sưng đau'}\n",
      "Input: vú sưng đau,đang cho con bú | sản phụ khoa | Output: vú sưng đau\n"
     ]
    },
    {
     "name": "stderr",
     "output_type": "stream",
     "text": [
      "Handle reason combind:  29%|██████████████████████████████████▏                                                                                   | 465/1603 [1:03:50<2:33:16,  8.08s/it]"
     ]
    },
    {
     "name": "stdout",
     "output_type": "stream",
     "text": [
      "result after generate:  {'result': 'mang thai'}\n",
      "Input: mang thai | sản phụ khoa | Output: mang thai\n"
     ]
    },
    {
     "name": "stderr",
     "output_type": "stream",
     "text": [
      "Handle reason combind:  29%|██████████████████████████████████▎                                                                                   | 466/1603 [1:04:01<2:50:37,  9.00s/it]"
     ]
    },
    {
     "name": "stdout",
     "output_type": "stream",
     "text": [
      "result after generate:  {'result': 'ho'}\n",
      "Input: bầu 8 tuần bị ho | sản phụ khoa | Output: ho\n"
     ]
    },
    {
     "name": "stderr",
     "output_type": "stream",
     "text": [
      "Handle reason combind:  29%|██████████████████████████████████▍                                                                                   | 467/1603 [1:04:05<2:24:41,  7.64s/it]"
     ]
    },
    {
     "name": "stdout",
     "output_type": "stream",
     "text": [
      "result after generate:  {'result': 'rối loạn kinh nguyệt'}\n",
      "Input: rối loạn kinh nguyệt do sử dụng thuốc tránh thai khẩn cấp. | sản phụ khoa | Output: rối loạn kinh nguyệt\n"
     ]
    },
    {
     "name": "stderr",
     "output_type": "stream",
     "text": [
      "Handle reason combind:  29%|██████████████████████████████████▍                                                                                   | 468/1603 [1:04:24<3:26:46, 10.93s/it]"
     ]
    },
    {
     "name": "stdout",
     "output_type": "stream",
     "text": [
      "result after generate:  {'result': 'tiểu sót, buốt, ra máu'}\n",
      "Input: tiểu sót, buốt và ra máu | sản phụ khoa | Output: tiểu sót, buốt, ra máu\n"
     ]
    },
    {
     "name": "stderr",
     "output_type": "stream",
     "text": [
      "Handle reason combind:  29%|██████████████████████████████████▌                                                                                   | 469/1603 [1:04:26<2:39:25,  8.44s/it]"
     ]
    },
    {
     "name": "stdout",
     "output_type": "stream",
     "text": [
      "result after generate:  {'result': 'đau bụng, ra máu cục'}\n",
      "Input: đau bụng và ra máu cục sau sinh nửa tháng | sản phụ khoa | Output: đau bụng, ra máu cục\n"
     ]
    },
    {
     "name": "stderr",
     "output_type": "stream",
     "text": [
      "Handle reason combind:  29%|██████████████████████████████████▌                                                                                   | 470/1603 [1:04:31<2:17:08,  7.26s/it]"
     ]
    },
    {
     "name": "stdout",
     "output_type": "stream",
     "text": [
      "result after generate:  {'result': 'thai thời kỳ đầu'}\n",
      "Input: khám thai thời kỳ đầu của thai | sản phụ khoa | Output: thai thời kỳ đầu\n"
     ]
    },
    {
     "name": "stderr",
     "output_type": "stream",
     "text": [
      "Handle reason combind:  29%|██████████████████████████████████▋                                                                                   | 471/1603 [1:04:48<3:11:04, 10.13s/it]"
     ]
    },
    {
     "name": "stdout",
     "output_type": "stream",
     "text": [
      "result after generate:  {'result': 'kinh nguyệt không đều'}\n",
      "Input: kinh nguyệt không đều ,vài tháng mới có 1 lần | sản phụ khoa | Output: kinh nguyệt không đều\n"
     ]
    },
    {
     "name": "stderr",
     "output_type": "stream",
     "text": [
      "Handle reason combind:  29%|██████████████████████████████████▋                                                                                   | 472/1603 [1:05:02<3:36:03, 11.46s/it]"
     ]
    },
    {
     "name": "stdout",
     "output_type": "stream",
     "text": [
      "result after generate:  {'result': 'ra máu âm đạo, mụn trắng li ti ở bộ phận sinh dục'}\n",
      "Input: ra máu âm đạo dù đã hết kì kinh nguyệt, nổi các mụn trắng li ti ở bộ phận sinh dục. \n",
      "kiểm tra thai ngoài ý muốn. | sản phụ khoa | Output: ra máu âm đạo, mụn trắng li ti ở bộ phận sinh dục\n"
     ]
    },
    {
     "name": "stderr",
     "output_type": "stream",
     "text": [
      "Handle reason combind:  30%|██████████████████████████████████▊                                                                                   | 473/1603 [1:05:03<2:37:11,  8.35s/it]"
     ]
    },
    {
     "name": "stdout",
     "output_type": "stream",
     "text": [
      "result after generate:  {'result': 'ngứa rát'}\n",
      "Input: ngua rat | sản phụ khoa | Output: ngứa rát\n"
     ]
    },
    {
     "name": "stderr",
     "output_type": "stream",
     "text": [
      "Handle reason combind:  30%|██████████████████████████████████▉                                                                                   | 474/1603 [1:05:23<3:38:36, 11.62s/it]"
     ]
    },
    {
     "name": "stdout",
     "output_type": "stream",
     "text": [
      "result after generate:  {'result': 'đau rát khi quan hệ'}\n",
      "Input: khám phụ khoa đau rát khi quan hệ | sản phụ khoa | Output: đau rát khi quan hệ\n"
     ]
    },
    {
     "name": "stderr",
     "output_type": "stream",
     "text": [
      "Handle reason combind:  30%|██████████████████████████████████▉                                                                                   | 475/1603 [1:05:30<3:16:39, 10.46s/it]"
     ]
    },
    {
     "name": "stdout",
     "output_type": "stream",
     "text": [
      "result after generate:  {'result': 'chậm kinh'}\n",
      "Input: siêu âm kiểm tra có thai sau chậm kinh | sản phụ khoa | Output: chậm kinh\n"
     ]
    },
    {
     "name": "stderr",
     "output_type": "stream",
     "text": [
      "Handle reason combind:  30%|███████████████████████████████████                                                                                   | 476/1603 [1:05:36<2:47:38,  8.92s/it]"
     ]
    },
    {
     "name": "stdout",
     "output_type": "stream",
     "text": [
      "result after generate:  {'result': 'ngứa vùng kín, khí hư màu trắng, khí hư màu vàng nhạt'}\n",
      "Input: ngứa vùng kín và ra nhiều khí hư màu trắng , vàng nhạt . | sản phụ khoa | Output: ngứa vùng kín, khí hư màu trắng, khí hư màu vàng nhạt\n"
     ]
    },
    {
     "name": "stderr",
     "output_type": "stream",
     "text": [
      "Handle reason combind:  30%|███████████████████████████████████                                                                                   | 477/1603 [1:05:38<2:12:00,  7.03s/it]"
     ]
    },
    {
     "name": "stdout",
     "output_type": "stream",
     "text": [
      "result after generate:  {'result': 'ngứa cơ quan sinh dục, khí hư ra nhiều'}\n",
      "Input: bị ngứa cơ quan sinh dục và khí hư ra nhiều | sản phụ khoa | Output: ngứa cơ quan sinh dục, khí hư ra nhiều\n"
     ]
    },
    {
     "name": "stderr",
     "output_type": "stream",
     "text": [
      "Handle reason combind:  30%|███████████████████████████████████▏                                                                                  | 478/1603 [1:05:46<2:18:09,  7.37s/it]"
     ]
    },
    {
     "name": "stdout",
     "output_type": "stream",
     "text": [
      "result after generate:  {'result': 'viêm ltctc'}\n",
      "Input: điều trị viêm ltctc, xét nghiệm pap, tư vấn sức khỏe sinh sản | sản phụ khoa | Output: viêm ltctc\n"
     ]
    },
    {
     "name": "stderr",
     "output_type": "stream",
     "text": [
      "Handle reason combind:  30%|███████████████████████████████████▎                                                                                  | 479/1603 [1:06:02<3:04:05,  9.83s/it]"
     ]
    },
    {
     "name": "stdout",
     "output_type": "stream",
     "text": [
      "result after generate:  {'result': None}\n"
     ]
    },
    {
     "name": "stderr",
     "output_type": "stream",
     "text": [
      "Handle reason combind:  30%|███████████████████████████████████▎                                                                                  | 480/1603 [1:06:04<2:16:59,  7.32s/it]"
     ]
    },
    {
     "name": "stdout",
     "output_type": "stream",
     "text": [
      "result after generate:  {'result': 'nội tiết, tuyến yên, sản phụ khoa'}\n",
      "Input: kiểm tra nội tiết, tuyến yên, sản phụ khoa | sản phụ khoa | Output: nội tiết, tuyến yên, sản phụ khoa\n"
     ]
    },
    {
     "name": "stderr",
     "output_type": "stream",
     "text": [
      "Handle reason combind:  30%|███████████████████████████████████▍                                                                                  | 481/1603 [1:06:23<3:24:15, 10.92s/it]"
     ]
    },
    {
     "name": "stdout",
     "output_type": "stream",
     "text": [
      "result after generate:  {'result': 'tiểu són'}\n",
      "Input: tiểu són | sản phụ khoa | Output: tiểu són\n"
     ]
    },
    {
     "name": "stderr",
     "output_type": "stream",
     "text": [
      "Handle reason combind:  30%|███████████████████████████████████▍                                                                                  | 482/1603 [1:06:31<3:09:27, 10.14s/it]"
     ]
    },
    {
     "name": "stdout",
     "output_type": "stream",
     "text": [
      "result after generate:  {'result': 'đau phần phụ'}\n",
      "Input: đau phần phụ | sản phụ khoa | Output: đau phần phụ\n"
     ]
    },
    {
     "name": "stderr",
     "output_type": "stream",
     "text": [
      "Handle reason combind:  30%|███████████████████████████████████▌                                                                                  | 483/1603 [1:06:34<2:27:13,  7.89s/it]"
     ]
    },
    {
     "name": "stdout",
     "output_type": "stream",
     "text": [
      "result after generate:  {'result': 'dịch khí hư bất thường, chậm kinh, đau khi quan hệ'}\n",
      "Input: dịch khí hư bất thường từ trắng thành xanh, chị chậm kinh 1 tháng, quan hệ hay bị đau | sản phụ khoa | Output: dịch khí hư bất thường, chậm kinh, đau khi quan hệ\n"
     ]
    },
    {
     "name": "stderr",
     "output_type": "stream",
     "text": [
      "Handle reason combind:  30%|███████████████████████████████████▋                                                                                  | 484/1603 [1:06:52<3:25:00, 10.99s/it]"
     ]
    },
    {
     "name": "stdout",
     "output_type": "stream",
     "text": [
      "result after generate:  {'result': 'phụ khoa, hỗ trợ sinh sản'}\n",
      "Input: phụ khoa và hổ trợ sinh sản | sản phụ khoa | Output: phụ khoa, hỗ trợ sinh sản\n"
     ]
    },
    {
     "name": "stderr",
     "output_type": "stream",
     "text": [
      "Handle reason combind:  30%|███████████████████████████████████▋                                                                                  | 485/1603 [1:06:56<2:43:16,  8.76s/it]"
     ]
    },
    {
     "name": "stdout",
     "output_type": "stream",
     "text": [
      "result after generate:  {'result': 'viên âm đạo'}\n",
      "Input: viên âm đạo | sản phụ khoa | Output: viên âm đạo\n"
     ]
    },
    {
     "name": "stderr",
     "output_type": "stream",
     "text": [
      "Handle reason combind:  30%|███████████████████████████████████▊                                                                                  | 486/1603 [1:07:08<3:03:47,  9.87s/it]"
     ]
    },
    {
     "name": "stdout",
     "output_type": "stream",
     "text": [
      "result after generate:  {'result': 'cục cứng, đau rát'}\n",
      "Input: âm đạo nổi cục cứng đau rát | sản phụ khoa | Output: cục cứng, đau rát\n"
     ]
    },
    {
     "name": "stderr",
     "output_type": "stream",
     "text": [
      "Handle reason combind:  30%|███████████████████████████████████▊                                                                                  | 487/1603 [1:07:09<2:15:08,  7.27s/it]"
     ]
    },
    {
     "name": "stdout",
     "output_type": "stream",
     "text": [
      "result after generate:  {'result': 'ra máu nhiều'}\n",
      "Input: ra máu nhiều trong kỳ kinh | sản phụ khoa | Output: ra máu nhiều\n"
     ]
    },
    {
     "name": "stderr",
     "output_type": "stream",
     "text": [
      "Handle reason combind:  30%|███████████████████████████████████▉                                                                                  | 488/1603 [1:07:19<2:27:30,  7.94s/it]"
     ]
    },
    {
     "name": "stdout",
     "output_type": "stream",
     "text": [
      "result after generate:  {'result': 'ung thư'}\n",
      "Input: sàng lọc ung thư | sản phụ khoa | Output: ung thư\n"
     ]
    },
    {
     "name": "stderr",
     "output_type": "stream",
     "text": [
      "Handle reason combind:  31%|███████████████████████████████████▉                                                                                  | 489/1603 [1:07:26<2:20:53,  7.59s/it]"
     ]
    },
    {
     "name": "stdout",
     "output_type": "stream",
     "text": [
      "result after generate:  {'result': 'đau sinh dục, rát sinh dục, ngứa sinh dục'}\n",
      "Input: đau rát ngứa sinh dục, | sản phụ khoa | Output: đau sinh dục, rát sinh dục, ngứa sinh dục\n"
     ]
    },
    {
     "name": "stderr",
     "output_type": "stream",
     "text": [
      "Handle reason combind:  31%|████████████████████████████████████                                                                                  | 490/1603 [1:07:29<1:57:36,  6.34s/it]"
     ]
    },
    {
     "name": "stdout",
     "output_type": "stream",
     "text": [
      "result after generate:  {'result': None}\n"
     ]
    },
    {
     "name": "stderr",
     "output_type": "stream",
     "text": [
      "Handle reason combind:  31%|████████████████████████████████████▏                                                                                 | 491/1603 [1:07:42<2:33:09,  8.26s/it]"
     ]
    },
    {
     "name": "stdout",
     "output_type": "stream",
     "text": [
      "result after generate:  {'result': 'ngứa, rát'}\n",
      "Input: bị ngứa rát | sản phụ khoa | Output: ngứa, rát\n"
     ]
    },
    {
     "name": "stderr",
     "output_type": "stream",
     "text": [
      "Handle reason combind:  31%|████████████████████████████████████▏                                                                                 | 492/1603 [1:07:43<1:56:13,  6.28s/it]"
     ]
    },
    {
     "name": "stdout",
     "output_type": "stream",
     "text": [
      "result after generate:  {'result': 'null'}\n",
      "Input: khám định kỳ sức khoẻ thai nhi | sản phụ khoa | Output: null\n"
     ]
    },
    {
     "name": "stderr",
     "output_type": "stream",
     "text": [
      "Handle reason combind:  31%|████████████████████████████████████▎                                                                                 | 493/1603 [1:08:01<2:57:32,  9.60s/it]"
     ]
    },
    {
     "name": "stdout",
     "output_type": "stream",
     "text": [
      "result after generate:  {'result': 'ngứa âm đạo, ra khí hư nhiều, nước tiểu đục'}\n",
      "Input: ngứa âm đạo, ra khí hư nhiều, nước tiểu đục | sản phụ khoa | Output: ngứa âm đạo, ra khí hư nhiều, nước tiểu đục\n"
     ]
    },
    {
     "name": "stderr",
     "output_type": "stream",
     "text": [
      "Handle reason combind:  31%|████████████████████████████████████▎                                                                                 | 494/1603 [1:08:03<2:18:09,  7.47s/it]"
     ]
    },
    {
     "name": "stdout",
     "output_type": "stream",
     "text": [
      "result after generate:  {'result': 'ngứa vùng kín, dịch âm đạo'}\n",
      "Input: vùng kín ngứa và nhiều dịch | sản phụ khoa | Output: ngứa vùng kín, dịch âm đạo\n"
     ]
    },
    {
     "name": "stderr",
     "output_type": "stream",
     "text": [
      "Handle reason combind:  31%|████████████████████████████████████▍                                                                                 | 495/1603 [1:08:12<2:26:42,  7.94s/it]"
     ]
    },
    {
     "name": "stdout",
     "output_type": "stream",
     "text": [
      "result after generate:  {'result': 'ứa nước, trứng'}\n",
      "Input: ứa nước vời trứng | sản phụ khoa | Output: ứa nước, trứng\n"
     ]
    },
    {
     "name": "stderr",
     "output_type": "stream",
     "text": [
      "Handle reason combind:  31%|████████████████████████████████████▌                                                                                 | 496/1603 [1:08:16<2:01:04,  6.56s/it]"
     ]
    },
    {
     "name": "stdout",
     "output_type": "stream",
     "text": [
      "result after generate:  {'result': 'đau tức nhẹ'}\n",
      "Input: đau tức nhẹ trước ngày hành kinh 10 ngày | sản phụ khoa | Output: đau tức nhẹ\n"
     ]
    },
    {
     "name": "stderr",
     "output_type": "stream",
     "text": [
      "Handle reason combind:  31%|████████████████████████████████████▌                                                                                 | 497/1603 [1:08:26<2:23:06,  7.76s/it]"
     ]
    },
    {
     "name": "stdout",
     "output_type": "stream",
     "text": [
      "result after generate:  {'result': 'ngứa âm hộ, rát âm hộ'}\n",
      "Input: ngứa rát âm hộ | sản phụ khoa | Output: ngứa âm hộ, rát âm hộ\n"
     ]
    },
    {
     "name": "stderr",
     "output_type": "stream",
     "text": [
      "Handle reason combind:  31%|████████████████████████████████████▋                                                                                 | 498/1603 [1:08:42<3:10:12, 10.33s/it]"
     ]
    },
    {
     "name": "stdout",
     "output_type": "stream",
     "text": [
      "result after generate:  {'result': 'trễ kinh, nghi ngờ có thai'}\n",
      "Input: em bị trễ kinh 4 tháng\n",
      "em có nghi ngờ mình có thai nhưng thử 5 que thử đều 1 vạch. | sản phụ khoa | Output: trễ kinh, nghi ngờ có thai\n"
     ]
    },
    {
     "name": "stderr",
     "output_type": "stream",
     "text": [
      "Handle reason combind:  31%|████████████████████████████████████▋                                                                                 | 499/1603 [1:09:03<4:04:43, 13.30s/it]"
     ]
    },
    {
     "name": "stdout",
     "output_type": "stream",
     "text": [
      "result after generate:  {'result': 'nang trứng'}\n",
      "Input: siêu âm nang trứng | sản phụ khoa | Output: nang trứng\n"
     ]
    },
    {
     "name": "stderr",
     "output_type": "stream",
     "text": [
      "Handle reason combind:  31%|████████████████████████████████████▊                                                                                 | 500/1603 [1:09:04<2:58:49,  9.73s/it]"
     ]
    },
    {
     "name": "stdout",
     "output_type": "stream",
     "text": [
      "result after generate:  {'result': 'thai'}\n",
      "Input: khám, siêu âm phát hiện thai | sản phụ khoa | Output: thai\n"
     ]
    },
    {
     "name": "stderr",
     "output_type": "stream",
     "text": [
      "Handle reason combind:  31%|████████████████████████████████████▉                                                                                 | 501/1603 [1:09:24<3:52:03, 12.63s/it]"
     ]
    },
    {
     "name": "stdout",
     "output_type": "stream",
     "text": [
      "result after generate:  {'result': 'kinh nguyệt không đều, nang trứng nhỏ'}\n",
      "Input: kinh nguyệt không đều, phát hiện nhiều nang trứng nhỏ | sản phụ khoa | Output: kinh nguyệt không đều, nang trứng nhỏ\n"
     ]
    },
    {
     "name": "stderr",
     "output_type": "stream",
     "text": [
      "Handle reason combind:  31%|████████████████████████████████████▉                                                                                 | 502/1603 [1:09:26<2:53:54,  9.48s/it]"
     ]
    },
    {
     "name": "stdout",
     "output_type": "stream",
     "text": [
      "result after generate:  {'result': 'đau bụng'}\n",
      "Input: đau bụng trước kỳ kinh | sản phụ khoa | Output: đau bụng\n"
     ]
    },
    {
     "name": "stderr",
     "output_type": "stream",
     "text": [
      "Handle reason combind:  31%|█████████████████████████████████████                                                                                 | 503/1603 [1:09:43<3:37:28, 11.86s/it]"
     ]
    },
    {
     "name": "stdout",
     "output_type": "stream",
     "text": [
      "result after generate:  {'result': 'null'}\n",
      "Input: khám tổng thể và da liễu- thẩm mỹ | sản phụ khoa | Output: null\n"
     ]
    },
    {
     "name": "stderr",
     "output_type": "stream",
     "text": [
      "Handle reason combind:  31%|█████████████████████████████████████                                                                                 | 504/1603 [1:09:45<2:42:38,  8.88s/it]"
     ]
    },
    {
     "name": "stdout",
     "output_type": "stream",
     "text": [
      "result after generate:  {'result': 'null'}\n",
      "Input: em muốn khám trước khi sinh e bé | sản phụ khoa | Output: null\n"
     ]
    },
    {
     "name": "stderr",
     "output_type": "stream",
     "text": [
      "Handle reason combind:  32%|█████████████████████████████████████▏                                                                                | 505/1603 [1:10:01<3:24:23, 11.17s/it]"
     ]
    },
    {
     "name": "stdout",
     "output_type": "stream",
     "text": [
      "result after generate:  {'result': None}\n"
     ]
    },
    {
     "name": "stderr",
     "output_type": "stream",
     "text": [
      "Handle reason combind:  32%|█████████████████████████████████████▏                                                                                | 506/1603 [1:10:05<2:43:42,  8.95s/it]"
     ]
    },
    {
     "name": "stdout",
     "output_type": "stream",
     "text": [
      "result after generate:  {'result': None}\n"
     ]
    },
    {
     "name": "stderr",
     "output_type": "stream",
     "text": [
      "Handle reason combind:  32%|█████████████████████████████████████▎                                                                                | 507/1603 [1:10:14<2:43:51,  8.97s/it]"
     ]
    },
    {
     "name": "stdout",
     "output_type": "stream",
     "text": [
      "result after generate:  {'result': 'căn trứng'}\n",
      "Input: canh trứng | sản phụ khoa | Output: căn trứng\n"
     ]
    },
    {
     "name": "stderr",
     "output_type": "stream",
     "text": [
      "Handle reason combind:  32%|█████████████████████████████████████▍                                                                                | 508/1603 [1:10:16<2:06:02,  6.91s/it]"
     ]
    },
    {
     "name": "stdout",
     "output_type": "stream",
     "text": [
      "result after generate:  {'result': 'vấn đề về phụ khoa'}\n",
      "Input: có một số vấn đề về phụ khoa | sản phụ khoa | Output: vấn đề về phụ khoa\n"
     ]
    },
    {
     "name": "stderr",
     "output_type": "stream",
     "text": [
      "Handle reason combind:  32%|█████████████████████████████████████▍                                                                                | 509/1603 [1:10:30<2:45:16,  9.06s/it]"
     ]
    },
    {
     "name": "stdout",
     "output_type": "stream",
     "text": [
      "result after generate:  {'result': 'kinh nguyệt ko đều, kinh nguyệt ít, màu đen'}\n",
      "Input: khám phụ khoa do kinh nguyệt ko đều, kinh nguyệt ít và màu đen. | sản phụ khoa | Output: kinh nguyệt ko đều, kinh nguyệt ít, màu đen\n"
     ]
    },
    {
     "name": "stderr",
     "output_type": "stream",
     "text": [
      "Handle reason combind:  32%|█████████████████████████████████████▌                                                                                | 510/1603 [1:10:33<2:07:58,  7.03s/it]"
     ]
    },
    {
     "name": "stdout",
     "output_type": "stream",
     "text": [
      "result after generate:  {'result': 'mất kinh sớm'}\n",
      "Input: mất kinh sớm | sản phụ khoa | Output: mất kinh sớm\n"
     ]
    },
    {
     "name": "stderr",
     "output_type": "stream",
     "text": [
      "Handle reason combind:  32%|█████████████████████████████████████▌                                                                                | 511/1603 [1:10:50<3:05:43, 10.20s/it]"
     ]
    },
    {
     "name": "stdout",
     "output_type": "stream",
     "text": [
      "result after generate:  {'result': 'khám thai trước sinh'}\n",
      "Input: khám thai trước sinh | sản phụ khoa | Output: khám thai trước sinh\n"
     ]
    },
    {
     "name": "stderr",
     "output_type": "stream",
     "text": [
      "Handle reason combind:  32%|█████████████████████████████████████▋                                                                                | 512/1603 [1:11:00<3:00:30,  9.93s/it]"
     ]
    },
    {
     "name": "stdout",
     "output_type": "stream",
     "text": [
      "result after generate:  {'result': 'khám phụ khoa'}\n",
      "Input: khám phu khoa | sản phụ khoa | Output: khám phụ khoa\n"
     ]
    },
    {
     "name": "stderr",
     "output_type": "stream",
     "text": [
      "Handle reason combind:  32%|█████████████████████████████████████▊                                                                                | 513/1603 [1:11:03<2:23:28,  7.90s/it]"
     ]
    },
    {
     "name": "stdout",
     "output_type": "stream",
     "text": [
      "result after generate:  {'result': 'kinh nguyệt thất thường, khí hư ra nhiều'}\n",
      "Input: kinh nguyệt thất thường, khí hư ra nhiều | sản phụ khoa | Output: kinh nguyệt thất thường, khí hư ra nhiều\n"
     ]
    },
    {
     "name": "stderr",
     "output_type": "stream",
     "text": [
      "Handle reason combind:  32%|█████████████████████████████████████▊                                                                                | 514/1603 [1:11:11<2:26:10,  8.05s/it]"
     ]
    },
    {
     "name": "stdout",
     "output_type": "stream",
     "text": [
      "result after generate:  {'result': 'phát hiện có thai'}\n",
      "Input: phát hiện có thai | sản phụ khoa | Output: phát hiện có thai\n"
     ]
    },
    {
     "name": "stderr",
     "output_type": "stream",
     "text": [
      "Handle reason combind:  32%|█████████████████████████████████████▉                                                                                | 515/1603 [1:11:17<2:15:43,  7.48s/it]"
     ]
    },
    {
     "name": "stdout",
     "output_type": "stream",
     "text": [
      "result after generate:  {'result': 'thai ngoài ý muốn'}\n",
      "Input: có thai ngoài ý muốn | sản phụ khoa | Output: thai ngoài ý muốn\n"
     ]
    },
    {
     "name": "stderr",
     "output_type": "stream",
     "text": [
      "Handle reason combind:  32%|█████████████████████████████████████▉                                                                                | 516/1603 [1:11:25<2:18:45,  7.66s/it]"
     ]
    },
    {
     "name": "stdout",
     "output_type": "stream",
     "text": [
      "result after generate:  {'result': 'ngứa phụ khoa, ra dịch nhầy màu trắng đục'}\n",
      "Input: ngứa phụ khoa, ra dịch nhầy màu trắng đục | sản phụ khoa | Output: ngứa phụ khoa, ra dịch nhầy màu trắng đục\n"
     ]
    },
    {
     "name": "stderr",
     "output_type": "stream",
     "text": [
      "Handle reason combind:  32%|██████████████████████████████████████                                                                                | 517/1603 [1:11:27<1:45:44,  5.84s/it]"
     ]
    },
    {
     "name": "stdout",
     "output_type": "stream",
     "text": [
      "result after generate:  {'result': 'hút thai lưu'}\n",
      "Input: khám sau khi hút thai lưu | sản phụ khoa | Output: hút thai lưu\n"
     ]
    },
    {
     "name": "stderr",
     "output_type": "stream",
     "text": [
      "Handle reason combind:  32%|██████████████████████████████████████▏                                                                               | 518/1603 [1:11:35<1:57:36,  6.50s/it]"
     ]
    },
    {
     "name": "stdout",
     "output_type": "stream",
     "text": [
      "result after generate:  {'result': 'viêm phụ khoa, HPV'}\n",
      "Input: viêm phụ khoa và hpv | sản phụ khoa | Output: viêm phụ khoa, HPV\n"
     ]
    },
    {
     "name": "stderr",
     "output_type": "stream",
     "text": [
      "Handle reason combind:  32%|██████████████████████████████████████▏                                                                               | 519/1603 [1:11:38<1:35:49,  5.30s/it]"
     ]
    },
    {
     "name": "stdout",
     "output_type": "stream",
     "text": [
      "result after generate:  {'result': None}\n"
     ]
    },
    {
     "name": "stderr",
     "output_type": "stream",
     "text": [
      "Handle reason combind:  32%|██████████████████████████████████████▎                                                                               | 520/1603 [1:11:54<2:38:14,  8.77s/it]"
     ]
    },
    {
     "name": "stdout",
     "output_type": "stream",
     "text": [
      "result after generate:  {'result': 'khí hư ra màu bất thường, ra kinh rất ít'}\n",
      "Input: khí hư ra màu bất thường, chữa vài tháng chưa khỏi, ra kinh rất ít 1 ngày, | sản phụ khoa | Output: khí hư ra màu bất thường, ra kinh rất ít\n"
     ]
    },
    {
     "name": "stderr",
     "output_type": "stream",
     "text": [
      "Handle reason combind:  33%|██████████████████████████████████████▎                                                                               | 521/1603 [1:11:55<1:54:47,  6.37s/it]"
     ]
    },
    {
     "name": "stdout",
     "output_type": "stream",
     "text": [
      "result after generate:  {'result': 'khí hư có mùi, rối loạn kinh nguyệt'}\n",
      "Input: khí hư có mùi, vòng kinh ngắn hơn bình thường | sản phụ khoa | Output: khí hư có mùi, rối loạn kinh nguyệt\n"
     ]
    },
    {
     "name": "stderr",
     "output_type": "stream",
     "text": [
      "Handle reason combind:  33%|██████████████████████████████████████▍                                                                               | 522/1603 [1:12:11<2:45:43,  9.20s/it]"
     ]
    },
    {
     "name": "stdout",
     "output_type": "stream",
     "text": [
      "result after generate:  {'result': None}\n"
     ]
    },
    {
     "name": "stderr",
     "output_type": "stream",
     "text": [
      "Handle reason combind:  33%|██████████████████████████████████████▍                                                                               | 523/1603 [1:12:13<2:05:20,  6.96s/it]"
     ]
    },
    {
     "name": "stdout",
     "output_type": "stream",
     "text": [
      "result after generate:  {'result': 'viêm phụ khoa, ung thư vú'}\n",
      "Input: viêm phụ khoa\n",
      "tầm soát ung thư vú | sản phụ khoa | Output: viêm phụ khoa, ung thư vú\n"
     ]
    },
    {
     "name": "stderr",
     "output_type": "stream",
     "text": [
      "Handle reason combind:  33%|██████████████████████████████████████▌                                                                               | 524/1603 [1:12:30<2:58:38,  9.93s/it]"
     ]
    },
    {
     "name": "stdout",
     "output_type": "stream",
     "text": [
      "result after generate:  {'result': 'ra máu cục, khó chịu'}\n",
      "Input: uống thuốc tránh thai hằng ngày bị ra máu cục. người khó chịu. | sản phụ khoa | Output: ra máu cục, khó chịu\n"
     ]
    },
    {
     "name": "stderr",
     "output_type": "stream",
     "text": [
      "Handle reason combind:  33%|██████████████████████████████████████▋                                                                               | 525/1603 [1:12:31<2:14:45,  7.50s/it]"
     ]
    },
    {
     "name": "stdout",
     "output_type": "stream",
     "text": [
      "result after generate:  {'result': 'siêu âm thai nhi'}\n",
      "Input: siêu âm kiểm tra thai nhi | sản phụ khoa | Output: siêu âm thai nhi\n"
     ]
    },
    {
     "name": "stderr",
     "output_type": "stream",
     "text": [
      "Handle reason combind:  33%|██████████████████████████████████████▋                                                                               | 526/1603 [1:12:48<3:03:53, 10.24s/it]"
     ]
    },
    {
     "name": "stdout",
     "output_type": "stream",
     "text": [
      "result after generate:  {'result': 'ra huyết trắng, ngứa'}\n",
      "Input: khám phụ khoa, bị ra huyết trắng và bị ngứa | sản phụ khoa | Output: ra huyết trắng, ngứa\n"
     ]
    },
    {
     "name": "stderr",
     "output_type": "stream",
     "text": [
      "Handle reason combind:  33%|██████████████████████████████████████▊                                                                               | 527/1603 [1:13:06<3:44:20, 12.51s/it]"
     ]
    },
    {
     "name": "stdout",
     "output_type": "stream",
     "text": [
      "result after generate:  {'result': 'mang thai'}\n",
      "Input: xác nhận xem có mang thai hay không | sản phụ khoa | Output: mang thai\n"
     ]
    },
    {
     "name": "stderr",
     "output_type": "stream",
     "text": [
      "Handle reason combind:  33%|██████████████████████████████████████▊                                                                               | 528/1603 [1:13:13<3:16:13, 10.95s/it]"
     ]
    },
    {
     "name": "stdout",
     "output_type": "stream",
     "text": [
      "result after generate:  {'result': 'ra nhiều, khi hu'}\n",
      "Input: ra nhiều khi hu | sản phụ khoa | Output: ra nhiều, khi hu\n"
     ]
    },
    {
     "name": "stderr",
     "output_type": "stream",
     "text": [
      "Handle reason combind:  33%|██████████████████████████████████████▉                                                                               | 529/1603 [1:13:15<2:29:14,  8.34s/it]"
     ]
    },
    {
     "name": "stdout",
     "output_type": "stream",
     "text": [
      "result after generate:  {'result': 'viêm nhiễm phụ khoa, ra khí hư màu nâu'}\n",
      "Input: viêm nhiễm phụ khoa, bị ra khí hư màu nâu | sản phụ khoa | Output: viêm nhiễm phụ khoa, ra khí hư màu nâu\n"
     ]
    },
    {
     "name": "stderr",
     "output_type": "stream",
     "text": [
      "Handle reason combind:  33%|███████████████████████████████████████                                                                               | 530/1603 [1:13:24<2:30:49,  8.43s/it]"
     ]
    },
    {
     "name": "stdout",
     "output_type": "stream",
     "text": [
      "result after generate:  {'result': 'mụn ở âm hộ'}\n",
      "Input: bị mụn ở âm hộ | sản phụ khoa | Output: mụn ở âm hộ\n"
     ]
    },
    {
     "name": "stderr",
     "output_type": "stream",
     "text": [
      "Handle reason combind:  33%|███████████████████████████████████████                                                                               | 531/1603 [1:13:27<2:00:53,  6.77s/it]"
     ]
    },
    {
     "name": "stdout",
     "output_type": "stream",
     "text": [
      "result after generate:  {'result': 'khám thai, xét nghiệm tripble test'}\n",
      "Input: khám thai, xét nghiệm tripble test | sản phụ khoa | Output: khám thai, xét nghiệm tripble test\n"
     ]
    },
    {
     "name": "stderr",
     "output_type": "stream",
     "text": [
      "Handle reason combind:  33%|███████████████████████████████████████▏                                                                              | 532/1603 [1:13:36<2:11:37,  7.37s/it]"
     ]
    },
    {
     "name": "stdout",
     "output_type": "stream",
     "text": [
      "result after generate:  {'result': 'huyết trắng hơi có mùi'}\n",
      "Input: bị huyết trắng hơi có mùi | sản phụ khoa | Output: huyết trắng hơi có mùi\n"
     ]
    },
    {
     "name": "stderr",
     "output_type": "stream",
     "text": [
      "Handle reason combind:  33%|███████████████████████████████████████▏                                                                              | 533/1603 [1:13:41<1:59:05,  6.68s/it]"
     ]
    },
    {
     "name": "stdout",
     "output_type": "stream",
     "text": [
      "result after generate:  {'result': None}\n"
     ]
    },
    {
     "name": "stderr",
     "output_type": "stream",
     "text": [
      "Handle reason combind:  33%|███████████████████████████████████████▎                                                                              | 534/1603 [1:13:58<2:57:46,  9.98s/it]"
     ]
    },
    {
     "name": "stdout",
     "output_type": "stream",
     "text": [
      "result after generate:  {'result': 'khí hư màu trắng'}\n",
      "Input: khí hư màu trắng ra rất nhiều | sản phụ khoa | Output: khí hư màu trắng\n"
     ]
    },
    {
     "name": "stderr",
     "output_type": "stream",
     "text": [
      "Handle reason combind:  33%|███████████████████████████████████████▍                                                                              | 535/1603 [1:14:03<2:28:39,  8.35s/it]"
     ]
    },
    {
     "name": "stdout",
     "output_type": "stream",
     "text": [
      "result after generate:  {'result': 'null'}\n",
      "Input: kham phu khoa | sản phụ khoa | Output: null\n"
     ]
    },
    {
     "name": "stderr",
     "output_type": "stream",
     "text": [
      "Handle reason combind:  33%|███████████████████████████████████████▍                                                                              | 536/1603 [1:14:05<1:55:34,  6.50s/it]"
     ]
    },
    {
     "name": "stdout",
     "output_type": "stream",
     "text": [
      "result after generate:  {'result': 'mùi hôi vùng kín'}\n",
      "Input: vùng kín có mùi hôi | sản phụ khoa | Output: mùi hôi vùng kín\n"
     ]
    },
    {
     "name": "stderr",
     "output_type": "stream",
     "text": [
      "Handle reason combind:  33%|███████████████████████████████████████▌                                                                              | 537/1603 [1:14:14<2:05:16,  7.05s/it]"
     ]
    },
    {
     "name": "stdout",
     "output_type": "stream",
     "text": [
      "result after generate:  {'result': 'tức bụng, ra ít dịch'}\n",
      "Input: thấy tức bụng với ra ít dịch | sản phụ khoa | Output: tức bụng, ra ít dịch\n"
     ]
    },
    {
     "name": "stderr",
     "output_type": "stream",
     "text": [
      "Handle reason combind:  34%|███████████████████████████████████████▌                                                                              | 538/1603 [1:14:18<1:51:10,  6.26s/it]"
     ]
    },
    {
     "name": "stdout",
     "output_type": "stream",
     "text": [
      "result after generate:  {'result': 'kinh nguyệt sớm'}\n",
      "Input: có kinh nguyệt sớm hơn chu kỳ bình thường | sản phụ khoa | Output: kinh nguyệt sớm\n"
     ]
    },
    {
     "name": "stderr",
     "output_type": "stream",
     "text": [
      "Handle reason combind:  34%|███████████████████████████████████████▋                                                                              | 539/1603 [1:14:29<2:17:39,  7.76s/it]"
     ]
    },
    {
     "name": "stdout",
     "output_type": "stream",
     "text": [
      "result after generate:  {'result': 'null'}\n",
      "Input: siêu âm kiểm tra xem có thai không, tuổi thai?? | sản phụ khoa | Output: null\n"
     ]
    },
    {
     "name": "stderr",
     "output_type": "stream",
     "text": [
      "Handle reason combind:  34%|███████████████████████████████████████▊                                                                              | 540/1603 [1:14:32<1:52:43,  6.36s/it]"
     ]
    },
    {
     "name": "stdout",
     "output_type": "stream",
     "text": [
      "result after generate:  {'result': None}\n"
     ]
    },
    {
     "name": "stderr",
     "output_type": "stream",
     "text": [
      "Handle reason combind:  34%|███████████████████████████████████████▊                                                                              | 541/1603 [1:14:50<2:53:33,  9.81s/it]"
     ]
    },
    {
     "name": "stdout",
     "output_type": "stream",
     "text": [
      "result after generate:  {'result': 'chu kỳ kinh nguyệt sớm, mụn nội tiết'}\n",
      "Input: chu kỳ kinh nguyệt sớm và mụn nội tiết ở lưng | sản phụ khoa | Output: chu kỳ kinh nguyệt sớm, mụn nội tiết\n"
     ]
    },
    {
     "name": "stderr",
     "output_type": "stream",
     "text": [
      "Handle reason combind:  34%|███████████████████████████████████████▉                                                                              | 542/1603 [1:15:03<3:09:35, 10.72s/it]"
     ]
    },
    {
     "name": "stdout",
     "output_type": "stream",
     "text": [
      "result after generate:  {'result': 'sảy thai, lộ tuyến cổ tử cung, chậm kinh'}\n",
      "Input: sảy thai 2 lần, đã điều trị lộ tuyến cổ tử cung, chậm kinh 10 ngày nhưng thử que vẫn 1 vạch | sản phụ khoa | Output: sảy thai, lộ tuyến cổ tử cung, chậm kinh\n"
     ]
    },
    {
     "name": "stderr",
     "output_type": "stream",
     "text": [
      "Handle reason combind:  34%|███████████████████████████████████████▉                                                                              | 543/1603 [1:15:11<2:53:16,  9.81s/it]"
     ]
    },
    {
     "name": "stdout",
     "output_type": "stream",
     "text": [
      "result after generate:  {'result': 'muộn sinh'}\n",
      "Input: muộn sinh | sản phụ khoa | Output: muộn sinh\n"
     ]
    },
    {
     "name": "stderr",
     "output_type": "stream",
     "text": [
      "Handle reason combind:  34%|████████████████████████████████████████                                                                              | 544/1603 [1:15:12<2:08:47,  7.30s/it]"
     ]
    },
    {
     "name": "stdout",
     "output_type": "stream",
     "text": [
      "result after generate:  {'result': 'thai 23 tuần'}\n",
      "Input: khám kiểm tra thai 23tuan | sản phụ khoa | Output: thai 23 tuần\n"
     ]
    },
    {
     "name": "stderr",
     "output_type": "stream",
     "text": [
      "Handle reason combind:  34%|████████████████████████████████████████                                                                              | 545/1603 [1:15:30<3:03:43, 10.42s/it]"
     ]
    },
    {
     "name": "stdout",
     "output_type": "stream",
     "text": [
      "result after generate:  {'result': 'sieu an thai'}\n",
      "Input: sieu an thai 32 tuan | sản phụ khoa | Output: sieu an thai\n"
     ]
    },
    {
     "name": "stderr",
     "output_type": "stream",
     "text": [
      "Handle reason combind:  34%|████████████████████████████████████████▏                                                                             | 546/1603 [1:15:32<2:17:11,  7.79s/it]"
     ]
    },
    {
     "name": "stdout",
     "output_type": "stream",
     "text": [
      "result after generate:  {'result': 'đau bụng dưới, tiểu buốt'}\n",
      "Input: đau bụng dưới sau quan hệ, tiểu buốt | sản phụ khoa | Output: đau bụng dưới, tiểu buốt\n"
     ]
    },
    {
     "name": "stderr",
     "output_type": "stream",
     "text": [
      "Handle reason combind:  34%|████████████████████████████████████████▎                                                                             | 547/1603 [1:15:40<2:22:27,  8.09s/it]"
     ]
    },
    {
     "name": "stdout",
     "output_type": "stream",
     "text": [
      "result after generate:  {'result': 'bệnh sùi mào gà'}\n",
      "Input: chồng bị bệnh sùi mào gà | sản phụ khoa | Output: bệnh sùi mào gà\n"
     ]
    },
    {
     "name": "stderr",
     "output_type": "stream",
     "text": [
      "Handle reason combind:  34%|████████████████████████████████████████▎                                                                             | 548/1603 [1:15:41<1:44:28,  5.94s/it]"
     ]
    },
    {
     "name": "stdout",
     "output_type": "stream",
     "text": [
      "result after generate:  {'result': 'ngứa âm hộ, rát âm hộ, tấy đỏ'}\n",
      "Input: âm hộ ngứa rát, tấy đỏ | sản phụ khoa | Output: ngứa âm hộ, rát âm hộ, tấy đỏ\n"
     ]
    },
    {
     "name": "stderr",
     "output_type": "stream",
     "text": [
      "Handle reason combind:  34%|████████████████████████████████████████▍                                                                             | 549/1603 [1:15:57<2:38:17,  9.01s/it]"
     ]
    },
    {
     "name": "stdout",
     "output_type": "stream",
     "text": [
      "result after generate:  {'result': 'đau bụng dưới, ngứa vùng kín'}\n",
      "Input: đau bụng dưới + ngứa vùng kín | sản phụ khoa | Output: đau bụng dưới, ngứa vùng kín\n"
     ]
    },
    {
     "name": "stderr",
     "output_type": "stream",
     "text": [
      "Handle reason combind:  34%|████████████████████████████████████████▍                                                                             | 550/1603 [1:16:00<2:04:00,  7.07s/it]"
     ]
    },
    {
     "name": "stdout",
     "output_type": "stream",
     "text": [
      "result after generate:  {'result': 'thử que 2 vạch'}\n",
      "Input: thử que 2 vạch | sản phụ khoa | Output: thử que 2 vạch\n"
     ]
    },
    {
     "name": "stderr",
     "output_type": "stream",
     "text": [
      "Handle reason combind:  34%|████████████████████████████████████████▌                                                                             | 551/1603 [1:16:16<2:52:02,  9.81s/it]"
     ]
    },
    {
     "name": "stdout",
     "output_type": "stream",
     "text": [
      "result after generate:  {'result': 'đau âm hộ'}\n",
      "Input: đau xót âm hộ | sản phụ khoa | Output: đau âm hộ\n"
     ]
    },
    {
     "name": "stderr",
     "output_type": "stream",
     "text": [
      "Handle reason combind:  34%|████████████████████████████████████████▋                                                                             | 552/1603 [1:16:22<2:30:26,  8.59s/it]"
     ]
    },
    {
     "name": "stdout",
     "output_type": "stream",
     "text": [
      "result after generate:  {'result': 'ra màu nâu khi hư, kinh nguyệt không đều'}\n",
      "Input: khi hư ra có màu nâu, kinh nguyệt không đều | sản phụ khoa | Output: ra màu nâu khi hư, kinh nguyệt không đều\n"
     ]
    },
    {
     "name": "stderr",
     "output_type": "stream",
     "text": [
      "Handle reason combind:  34%|████████████████████████████████████████▋                                                                             | 553/1603 [1:16:31<2:31:23,  8.65s/it]"
     ]
    },
    {
     "name": "stdout",
     "output_type": "stream",
     "text": [
      "result after generate:  {'result': 'viêm buồng trứng'}\n",
      "Input: viêm buồng trứng | sản phụ khoa | Output: viêm buồng trứng\n"
     ]
    },
    {
     "name": "stderr",
     "output_type": "stream",
     "text": [
      "Handle reason combind:  35%|████████████████████████████████████████▊                                                                             | 554/1603 [1:16:35<2:06:26,  7.23s/it]"
     ]
    },
    {
     "name": "stdout",
     "output_type": "stream",
     "text": [
      "result after generate:  {'result': 'nghi có bầu'}\n",
      "Input: nghi có bầu | sản phụ khoa | Output: nghi có bầu\n"
     ]
    },
    {
     "name": "stderr",
     "output_type": "stream",
     "text": [
      "Handle reason combind:  35%|████████████████████████████████████████▊                                                                             | 555/1603 [1:16:44<2:19:02,  7.96s/it]"
     ]
    },
    {
     "name": "stdout",
     "output_type": "stream",
     "text": [
      "result after generate:  {'result': 'thai nhi não thất bên giãn'}\n",
      "Input: thai nhi 30 tuần não thất bên giãn 13,45 mm theo chuẩn đoán của bs tại hoà bình | sản phụ khoa | Output: thai nhi não thất bên giãn\n"
     ]
    },
    {
     "name": "stderr",
     "output_type": "stream",
     "text": [
      "Handle reason combind:  35%|████████████████████████████████████████▉                                                                             | 556/1603 [1:16:48<1:58:23,  6.78s/it]"
     ]
    },
    {
     "name": "stdout",
     "output_type": "stream",
     "text": [
      "result after generate:  {'result': None}\n"
     ]
    },
    {
     "name": "stderr",
     "output_type": "stream",
     "text": [
      "Handle reason combind:  35%|█████████████████████████████████████████                                                                             | 557/1603 [1:16:54<1:54:02,  6.54s/it]"
     ]
    },
    {
     "name": "stdout",
     "output_type": "stream",
     "text": [
      "result after generate:  {'result': 'rong kinh, kinh nguyệt không đều'}\n",
      "Input: rong kinh, kinh nguyện không đều | sản phụ khoa | Output: rong kinh, kinh nguyệt không đều\n"
     ]
    },
    {
     "name": "stderr",
     "output_type": "stream",
     "text": [
      "Handle reason combind:  35%|█████████████████████████████████████████                                                                             | 558/1603 [1:17:09<2:36:23,  8.98s/it]"
     ]
    },
    {
     "name": "stdout",
     "output_type": "stream",
     "text": [
      "result after generate:  {'result': 'tái khám phần phụ'}\n",
      "Input: tái khám phần phụ | sản phụ khoa | Output: tái khám phần phụ\n"
     ]
    },
    {
     "name": "stderr",
     "output_type": "stream",
     "text": [
      "Handle reason combind:  35%|█████████████████████████████████████████▏                                                                            | 559/1603 [1:17:12<2:05:04,  7.19s/it]"
     ]
    },
    {
     "name": "stdout",
     "output_type": "stream",
     "text": [
      "result after generate:  {'result': 'khám phụ khoa'}\n",
      "Input: khám phụ khoa, kiểm tra cơ thể có bình thường để mang thai được không. | sản phụ khoa | Output: khám phụ khoa\n"
     ]
    },
    {
     "name": "stderr",
     "output_type": "stream",
     "text": [
      "Handle reason combind:  35%|█████████████████████████████████████████▏                                                                            | 560/1603 [1:17:26<2:42:01,  9.32s/it]"
     ]
    },
    {
     "name": "stdout",
     "output_type": "stream",
     "text": [
      "result after generate:  {'result': 'vô sinh'}\n",
      "Input: đã thả bầu 1 năm nhưng chưa đậu | sản phụ khoa | Output: vô sinh\n"
     ]
    },
    {
     "name": "stderr",
     "output_type": "stream",
     "text": [
      "Handle reason combind:  35%|█████████████████████████████████████████▎                                                                            | 561/1603 [1:17:30<2:11:26,  7.57s/it]"
     ]
    },
    {
     "name": "stdout",
     "output_type": "stream",
     "text": [
      "result after generate:  {'result': 'mang thai'}\n",
      "Input: siêu âm xác định mang thai | sản phụ khoa | Output: mang thai\n"
     ]
    },
    {
     "name": "stderr",
     "output_type": "stream",
     "text": [
      "Handle reason combind:  35%|█████████████████████████████████████████▎                                                                            | 562/1603 [1:17:41<2:29:11,  8.60s/it]"
     ]
    },
    {
     "name": "stdout",
     "output_type": "stream",
     "text": [
      "result after generate:  {'result': 'đau bụng dưới, đau hạ vị'}\n",
      "Input: đau bụng dưới đau hạ vị 2 bên | sản phụ khoa | Output: đau bụng dưới, đau hạ vị\n"
     ]
    },
    {
     "name": "stderr",
     "output_type": "stream",
     "text": [
      "Handle reason combind:  35%|█████████████████████████████████████████▍                                                                            | 563/1603 [1:17:55<2:59:24, 10.35s/it]"
     ]
    },
    {
     "name": "stdout",
     "output_type": "stream",
     "text": [
      "result after generate:  {'result': 'ra máu sau khi đi tiểu'}\n",
      "Input: ra máu sau khi đi tiểu | sản phụ khoa | Output: ra máu sau khi đi tiểu\n"
     ]
    },
    {
     "name": "stderr",
     "output_type": "stream",
     "text": [
      "Handle reason combind:  35%|█████████████████████████████████████████▌                                                                            | 564/1603 [1:18:01<2:35:44,  8.99s/it]"
     ]
    },
    {
     "name": "stdout",
     "output_type": "stream",
     "text": [
      "result after generate:  {'result': 'khán thai'}\n",
      "Input: khán thai | sản phụ khoa | Output: khán thai\n"
     ]
    },
    {
     "name": "stderr",
     "output_type": "stream",
     "text": [
      "Handle reason combind:  35%|█████████████████████████████████████████▌                                                                            | 565/1603 [1:18:02<1:55:54,  6.70s/it]"
     ]
    },
    {
     "name": "stdout",
     "output_type": "stream",
     "text": [
      "result after generate:  {'result': 'sót rau sau hút thai'}\n",
      "Input: siêu âm xem còn sót rau sau hút thai không | sản phụ khoa | Output: sót rau sau hút thai\n"
     ]
    },
    {
     "name": "stderr",
     "output_type": "stream",
     "text": [
      "Handle reason combind:  35%|█████████████████████████████████████████▋                                                                            | 566/1603 [1:18:12<2:11:06,  7.59s/it]"
     ]
    },
    {
     "name": "stdout",
     "output_type": "stream",
     "text": [
      "result after generate:  {'result': 'siêu âm dị tật tim, thai IVF 26 tuần'}\n",
      "Input: siêu âm dị tâth tim thai ivf 26w | sản phụ khoa | Output: siêu âm dị tật tim, thai IVF 26 tuần\n"
     ]
    },
    {
     "name": "stderr",
     "output_type": "stream",
     "text": [
      "Handle reason combind:  35%|█████████████████████████████████████████▋                                                                            | 567/1603 [1:18:15<1:47:23,  6.22s/it]"
     ]
    },
    {
     "name": "stdout",
     "output_type": "stream",
     "text": [
      "result after generate:  {'result': 'vô sinh, hiếm muộn'}\n",
      "Input: khám vô sinh hiếm muộn xem tại sao 2 vợ chồng k  dùng biện pháp gì mà 2 năm chưa có con | sản phụ khoa | Output: vô sinh, hiếm muộn\n"
     ]
    },
    {
     "name": "stderr",
     "output_type": "stream",
     "text": [
      "Handle reason combind:  35%|█████████████████████████████████████████▊                                                                            | 568/1603 [1:18:30<2:30:54,  8.75s/it]"
     ]
    },
    {
     "name": "stdout",
     "output_type": "stream",
     "text": [
      "result after generate:  {'result': None}\n"
     ]
    },
    {
     "name": "stderr",
     "output_type": "stream",
     "text": [
      "Handle reason combind:  35%|█████████████████████████████████████████▉                                                                            | 569/1603 [1:18:32<1:57:42,  6.83s/it]"
     ]
    },
    {
     "name": "stdout",
     "output_type": "stream",
     "text": [
      "result after generate:  {'result': 'đau bụng trên'}\n",
      "Input: đau bụng trên sau mổ đẻ | sản phụ khoa | Output: đau bụng trên\n"
     ]
    },
    {
     "name": "stderr",
     "output_type": "stream",
     "text": [
      "Handle reason combind:  36%|█████████████████████████████████████████▉                                                                            | 570/1603 [1:18:41<2:07:26,  7.40s/it]"
     ]
    },
    {
     "name": "stdout",
     "output_type": "stream",
     "text": [
      "result after generate:  {'result': 'cần tư vấn thai sản'}\n",
      "Input: siêu âm. \n",
      "cần tư vấn thai sản | sản phụ khoa | Output: cần tư vấn thai sản\n"
     ]
    },
    {
     "name": "stderr",
     "output_type": "stream",
     "text": [
      "Handle reason combind:  36%|██████████████████████████████████████████                                                                            | 571/1603 [1:18:42<1:32:55,  5.40s/it]"
     ]
    },
    {
     "name": "stdout",
     "output_type": "stream",
     "text": [
      "result after generate:  {'result': 'khí hư giống bã đậu, ngứa, sưng môi bé'}\n",
      "Input: âm đạo ra khí hư giống bã đậu, ngứa, bị sưng 1 bên môi bé | sản phụ khoa | Output: khí hư giống bã đậu, ngứa, sưng môi bé\n"
     ]
    },
    {
     "name": "stderr",
     "output_type": "stream",
     "text": [
      "Handle reason combind:  36%|██████████████████████████████████████████                                                                            | 572/1603 [1:18:59<2:35:32,  9.05s/it]"
     ]
    },
    {
     "name": "stdout",
     "output_type": "stream",
     "text": [
      "result after generate:  {'result': None}\n"
     ]
    },
    {
     "name": "stderr",
     "output_type": "stream",
     "text": [
      "Handle reason combind:  36%|██████████████████████████████████████████▏                                                                           | 573/1603 [1:19:05<2:17:40,  8.02s/it]"
     ]
    },
    {
     "name": "stdout",
     "output_type": "stream",
     "text": [
      "result after generate:  {'result': 'bốc hoả, ra mồ hôi, nóng trong người, tiền mãn kinh'}\n",
      "Input: hay bốc hoả, ra mồ hôi, nóng trong người, tiền mãn kinh | sản phụ khoa | Output: bốc hoả, ra mồ hôi, nóng trong người, tiền mãn kinh\n"
     ]
    },
    {
     "name": "stderr",
     "output_type": "stream",
     "text": [
      "Handle reason combind:  36%|██████████████████████████████████████████▎                                                                           | 574/1603 [1:19:11<2:09:01,  7.52s/it]"
     ]
    },
    {
     "name": "stdout",
     "output_type": "stream",
     "text": [
      "result after generate:  {'result': None}\n"
     ]
    },
    {
     "name": "stderr",
     "output_type": "stream",
     "text": [
      "Handle reason combind:  36%|██████████████████████████████████████████▎                                                                           | 575/1603 [1:19:13<1:39:41,  5.82s/it]"
     ]
    },
    {
     "name": "stdout",
     "output_type": "stream",
     "text": [
      "result after generate:  {'result': 'quy đầu có mùi hôi'}\n",
      "Input: khám kiểm tra nam khoa, quy đầu có mùi hôi. | sản phụ khoa | Output: quy đầu có mùi hôi\n"
     ]
    },
    {
     "name": "stderr",
     "output_type": "stream",
     "text": [
      "Handle reason combind:  36%|██████████████████████████████████████████▍                                                                           | 576/1603 [1:19:31<2:42:10,  9.47s/it]"
     ]
    },
    {
     "name": "stdout",
     "output_type": "stream",
     "text": [
      "result after generate:  {'result': 'nước giải có mùi'}\n",
      "Input: nước giải có mùi | sản phụ khoa | Output: nước giải có mùi\n"
     ]
    },
    {
     "name": "stderr",
     "output_type": "stream",
     "text": [
      "Handle reason combind:  36%|██████████████████████████████████████████▍                                                                           | 577/1603 [1:19:41<2:46:33,  9.74s/it]"
     ]
    },
    {
     "name": "stdout",
     "output_type": "stream",
     "text": [
      "result after generate:  {'result': None}\n"
     ]
    },
    {
     "name": "stderr",
     "output_type": "stream",
     "text": [
      "Handle reason combind:  36%|██████████████████████████████████████████▌                                                                           | 578/1603 [1:19:56<3:11:31, 11.21s/it]"
     ]
    },
    {
     "name": "stdout",
     "output_type": "stream",
     "text": [
      "result after generate:  {'result': 'ra khí hư nhiều, khí hư màu vàng'}\n",
      "Input: khám phụ khoa, ra khí hư nhiều bất thường, có màu vàng | sản phụ khoa | Output: ra khí hư nhiều, khí hư màu vàng\n"
     ]
    },
    {
     "name": "stderr",
     "output_type": "stream",
     "text": [
      "Handle reason combind:  36%|██████████████████████████████████████████▌                                                                           | 579/1603 [1:20:01<2:39:49,  9.36s/it]"
     ]
    },
    {
     "name": "stdout",
     "output_type": "stream",
     "text": [
      "result after generate:  {'result': 'hạch ở nách, u xơ tuyến vú'}\n",
      "Input: bị hạch ở nách đơn vai số 8 và u xơ tuyến vú trái | sản phụ khoa | Output: hạch ở nách, u xơ tuyến vú\n"
     ]
    },
    {
     "name": "stderr",
     "output_type": "stream",
     "text": [
      "Handle reason combind:  36%|██████████████████████████████████████████▋                                                                           | 580/1603 [1:20:12<2:48:08,  9.86s/it]"
     ]
    },
    {
     "name": "stdout",
     "output_type": "stream",
     "text": [
      "result after generate:  {'result': 'đau bụng dưới, kinh nguyệt không đều'}\n",
      "Input: đau bụng dưới và kinh nguyệt không đều | sản phụ khoa | Output: đau bụng dưới, kinh nguyệt không đều\n"
     ]
    },
    {
     "name": "stderr",
     "output_type": "stream",
     "text": [
      "Handle reason combind:  36%|██████████████████████████████████████████▊                                                                           | 581/1603 [1:20:19<2:34:16,  9.06s/it]"
     ]
    },
    {
     "name": "stdout",
     "output_type": "stream",
     "text": [
      "result after generate:  {'result': 'đau rát âm đạo, tiểu buốt, rắt, buồn tiểu gấp, âm đạo nổi cục bất thường'}\n",
      "Input: đau rát âm đạo, tiểu buốt và rắt, buồn tiểu gấp, âm đạo nổi cục bất thường | sản phụ khoa | Output: đau rát âm đạo, tiểu buốt, rắt, buồn tiểu gấp, âm đạo nổi cục bất thường\n"
     ]
    },
    {
     "name": "stderr",
     "output_type": "stream",
     "text": [
      "Handle reason combind:  36%|██████████████████████████████████████████▊                                                                           | 582/1603 [1:20:23<2:05:48,  7.39s/it]"
     ]
    },
    {
     "name": "stdout",
     "output_type": "stream",
     "text": [
      "result after generate:  {'result': 'u vú'}\n",
      "Input: tại bv tỉnh siêu âm phát hiện u vú | sản phụ khoa | Output: u vú\n"
     ]
    },
    {
     "name": "stderr",
     "output_type": "stream",
     "text": [
      "Handle reason combind:  36%|██████████████████████████████████████████▉                                                                           | 583/1603 [1:20:33<2:21:07,  8.30s/it]"
     ]
    },
    {
     "name": "stdout",
     "output_type": "stream",
     "text": [
      "result after generate:  {'result': None}\n"
     ]
    },
    {
     "name": "stderr",
     "output_type": "stream",
     "text": [
      "Handle reason combind:  36%|██████████████████████████████████████████▉                                                                           | 584/1603 [1:20:43<2:31:35,  8.93s/it]"
     ]
    },
    {
     "name": "stdout",
     "output_type": "stream",
     "text": [
      "result after generate:  {'result': 'ra ít dịch vàng khi bóp'}\n",
      "Input: vú phải ra ít dịch vàng khi bóp | sản phụ khoa | Output: ra ít dịch vàng khi bóp\n"
     ]
    },
    {
     "name": "stderr",
     "output_type": "stream",
     "text": [
      "Handle reason combind:  36%|███████████████████████████████████████████                                                                           | 585/1603 [1:20:47<2:03:50,  7.30s/it]"
     ]
    },
    {
     "name": "stdout",
     "output_type": "stream",
     "text": [
      "result after generate:  {'result': None}\n"
     ]
    },
    {
     "name": "stderr",
     "output_type": "stream",
     "text": [
      "Handle reason combind:  37%|███████████████████████████████████████████▏                                                                          | 586/1603 [1:20:57<2:18:53,  8.19s/it]"
     ]
    },
    {
     "name": "stdout",
     "output_type": "stream",
     "text": [
      "result after generate:  {'result': 'hạch ở vú'}\n",
      "Input: hạch ở vú | sản phụ khoa | Output: hạch ở vú\n"
     ]
    },
    {
     "name": "stderr",
     "output_type": "stream",
     "text": [
      "Handle reason combind:  37%|███████████████████████████████████████████▏                                                                          | 587/1603 [1:21:00<1:48:59,  6.44s/it]"
     ]
    },
    {
     "name": "stdout",
     "output_type": "stream",
     "text": [
      "result after generate:  {'result': 'khám thai'}\n",
      "Input: khám thai lần đầu 5 tuần tuổi | sản phụ khoa | Output: khám thai\n"
     ]
    },
    {
     "name": "stderr",
     "output_type": "stream",
     "text": [
      "Handle reason combind:  37%|███████████████████████████████████████████▎                                                                          | 588/1603 [1:21:08<1:59:47,  7.08s/it]"
     ]
    },
    {
     "name": "stdout",
     "output_type": "stream",
     "text": [
      "result after generate:  {'result': None}\n"
     ]
    },
    {
     "name": "stderr",
     "output_type": "stream",
     "text": [
      "Handle reason combind:  37%|███████████████████████████████████████████▎                                                                          | 589/1603 [1:21:12<1:41:43,  6.02s/it]"
     ]
    },
    {
     "name": "stdout",
     "output_type": "stream",
     "text": [
      "result after generate:  {'result': 'u xơ vú'}\n",
      "Input: u xơ vú | sản phụ khoa | Output: u xơ vú\n"
     ]
    },
    {
     "name": "stderr",
     "output_type": "stream",
     "text": [
      "Handle reason combind:  37%|███████████████████████████████████████████▍                                                                          | 590/1603 [1:21:21<1:55:35,  6.85s/it]"
     ]
    },
    {
     "name": "stdout",
     "output_type": "stream",
     "text": [
      "result after generate:  {'result': 'rong huyet'}\n",
      "Input: rong huyet | sản phụ khoa | Output: rong huyet\n"
     ]
    },
    {
     "name": "stderr",
     "output_type": "stream",
     "text": [
      "Handle reason combind:  37%|███████████████████████████████████████████▌                                                                          | 591/1603 [1:21:26<1:46:38,  6.32s/it]"
     ]
    },
    {
     "name": "stdout",
     "output_type": "stream",
     "text": [
      "result after generate:  {'result': 'sưng vùng kín'}\n",
      "Input: sưng vùng kín | sản phụ khoa | Output: sưng vùng kín\n"
     ]
    },
    {
     "name": "stderr",
     "output_type": "stream",
     "text": [
      "Handle reason combind:  37%|███████████████████████████████████████████▌                                                                          | 592/1603 [1:21:36<2:07:37,  7.57s/it]"
     ]
    },
    {
     "name": "stdout",
     "output_type": "stream",
     "text": [
      "result after generate:  {'result': 'tái khám cổ tử cung'}\n",
      "Input: tái khám k cổ tử cung | sản phụ khoa | Output: tái khám cổ tử cung\n"
     ]
    },
    {
     "name": "stderr",
     "output_type": "stream",
     "text": [
      "Handle reason combind:  37%|███████████████████████████████████████████▋                                                                          | 593/1603 [1:21:39<1:43:53,  6.17s/it]"
     ]
    },
    {
     "name": "stdout",
     "output_type": "stream",
     "text": [
      "result after generate:  {'result': 'ra máu, dọa sảy, thai ivf'}\n",
      "Input: thai ivf 17 tuần. 13 tuần ra máu dọa sảy. nằm khoa a4 viện phụ sản hn 2 tuần. hiện tại vẫn ra máu nâu | sản phụ khoa | Output: ra máu, dọa sảy, thai ivf\n"
     ]
    },
    {
     "name": "stderr",
     "output_type": "stream",
     "text": [
      "Handle reason combind:  37%|███████████████████████████████████████████▋                                                                          | 594/1603 [1:21:48<1:55:42,  6.88s/it]"
     ]
    },
    {
     "name": "stdout",
     "output_type": "stream",
     "text": [
      "result after generate:  {'result': None}\n"
     ]
    },
    {
     "name": "stderr",
     "output_type": "stream",
     "text": [
      "Handle reason combind:  37%|███████████████████████████████████████████▊                                                                          | 595/1603 [1:21:50<1:33:15,  5.55s/it]"
     ]
    },
    {
     "name": "stdout",
     "output_type": "stream",
     "text": [
      "result after generate:  {'result': 'rối loạn nội tiết'}\n",
      "Input: rối loạn nội tiết | sản phụ khoa | Output: rối loạn nội tiết\n"
     ]
    },
    {
     "name": "stderr",
     "output_type": "stream",
     "text": [
      "Handle reason combind:  37%|███████████████████████████████████████████▊                                                                          | 596/1603 [1:22:06<2:27:44,  8.80s/it]"
     ]
    },
    {
     "name": "stdout",
     "output_type": "stream",
     "text": [
      "result after generate:  {'result': 'cục u ở ngực phải'}\n",
      "Input: sờ thấy cục u ở ngực phải | sản phụ khoa | Output: cục u ở ngực phải\n"
     ]
    },
    {
     "name": "stderr",
     "output_type": "stream",
     "text": [
      "Handle reason combind:  37%|███████████████████████████████████████████▉                                                                          | 597/1603 [1:22:23<3:08:47, 11.26s/it]"
     ]
    },
    {
     "name": "stdout",
     "output_type": "stream",
     "text": [
      "result after generate:  {'result': 'nhân tuyến vú hai bên, nhân thùy trái tuyến giáp'}\n",
      "Input: nhân tuyến vú hai bên, nhân thùy trái tuyến giáp | sản phụ khoa | Output: nhân tuyến vú hai bên, nhân thùy trái tuyến giáp\n"
     ]
    },
    {
     "name": "stderr",
     "output_type": "stream",
     "text": [
      "Handle reason combind:  37%|████████████████████████████████████████████                                                                          | 598/1603 [1:22:40<3:37:15, 12.97s/it]"
     ]
    },
    {
     "name": "stdout",
     "output_type": "stream",
     "text": [
      "result after generate:  {'result': 'khối u ở ngực'}\n",
      "Input: co khối u o ngực | sản phụ khoa | Output: khối u ở ngực\n"
     ]
    },
    {
     "name": "stderr",
     "output_type": "stream",
     "text": [
      "Handle reason combind:  37%|████████████████████████████████████████████                                                                          | 599/1603 [1:22:47<3:06:11, 11.13s/it]"
     ]
    },
    {
     "name": "stdout",
     "output_type": "stream",
     "text": [
      "result after generate:  {'result': None}\n"
     ]
    },
    {
     "name": "stderr",
     "output_type": "stream",
     "text": [
      "Handle reason combind:  37%|████████████████████████████████████████████▏                                                                         | 600/1603 [1:22:52<2:34:11,  9.22s/it]"
     ]
    },
    {
     "name": "stdout",
     "output_type": "stream",
     "text": [
      "result after generate:  {'result': 'ra máu đen'}\n",
      "Input: ra máu đen nhiều | sản phụ khoa | Output: ra máu đen\n"
     ]
    },
    {
     "name": "stderr",
     "output_type": "stream",
     "text": [
      "Handle reason combind:  37%|████████████████████████████████████████████▏                                                                         | 601/1603 [1:22:59<2:25:16,  8.70s/it]"
     ]
    },
    {
     "name": "stdout",
     "output_type": "stream",
     "text": [
      "result after generate:  {'result': 'thai mốc 26 tuần'}\n",
      "Input: khám thai mốc 26ư | sản phụ khoa | Output: thai mốc 26 tuần\n"
     ]
    },
    {
     "name": "stderr",
     "output_type": "stream",
     "text": [
      "Handle reason combind:  38%|████████████████████████████████████████████▎                                                                         | 602/1603 [1:23:04<2:04:41,  7.47s/it]"
     ]
    },
    {
     "name": "stdout",
     "output_type": "stream",
     "text": [
      "result after generate:  {'result': 'kinh nguyệt không đều'}\n",
      "Input: kinh ko đều | sản phụ khoa | Output: kinh nguyệt không đều\n"
     ]
    },
    {
     "name": "stderr",
     "output_type": "stream",
     "text": [
      "Handle reason combind:  38%|████████████████████████████████████████████▍                                                                         | 603/1603 [1:23:09<1:50:12,  6.61s/it]"
     ]
    },
    {
     "name": "stdout",
     "output_type": "stream",
     "text": [
      "result after generate:  {'result': 'ung thư cổ tử cung'}\n",
      "Input: tôi muốn khám xem có bị ung thư cổ tử cung hay không | sản phụ khoa | Output: ung thư cổ tử cung\n"
     ]
    },
    {
     "name": "stderr",
     "output_type": "stream",
     "text": [
      "Handle reason combind:  38%|████████████████████████████████████████████▍                                                                         | 604/1603 [1:23:18<2:02:40,  7.37s/it]"
     ]
    },
    {
     "name": "stdout",
     "output_type": "stream",
     "text": [
      "result after generate:  {'result': 'trễ kì kinh nguyệt'}\n",
      "Input: trễ kì kinh nguyệt | sản phụ khoa | Output: trễ kì kinh nguyệt\n"
     ]
    },
    {
     "name": "stderr",
     "output_type": "stream",
     "text": [
      "Handle reason combind:  38%|████████████████████████████████████████████▌                                                                         | 605/1603 [1:23:21<1:42:37,  6.17s/it]"
     ]
    },
    {
     "name": "stdout",
     "output_type": "stream",
     "text": [
      "result after generate:  {'result': 'khám phụ khoa'}\n",
      "Input: khám phụ khoa | sản phụ khoa | Output: khám phụ khoa\n"
     ]
    },
    {
     "name": "stderr",
     "output_type": "stream",
     "text": [
      "Handle reason combind:  38%|████████████████████████████████████████████▌                                                                         | 606/1603 [1:23:30<1:55:19,  6.94s/it]"
     ]
    },
    {
     "name": "stdout",
     "output_type": "stream",
     "text": [
      "result after generate:  {'result': 'mang thai'}\n",
      "Input: thử thai 2 vạch | sản phụ khoa | Output: mang thai\n"
     ]
    },
    {
     "name": "stderr",
     "output_type": "stream",
     "text": [
      "Handle reason combind:  38%|████████████████████████████████████████████▋                                                                         | 607/1603 [1:23:40<2:09:49,  7.82s/it]"
     ]
    },
    {
     "name": "stdout",
     "output_type": "stream",
     "text": [
      "result after generate:  {'result': 'cục cứng 2 bên ngực, sữa sau khi sinh hơn 1 năm'}\n",
      "Input: có cục cứng 2 bên ngực, vẫn còn sữa sau khi sinh hơn 1 năm nay. | sản phụ khoa | Output: cục cứng 2 bên ngực, sữa sau khi sinh hơn 1 năm\n"
     ]
    },
    {
     "name": "stderr",
     "output_type": "stream",
     "text": [
      "Handle reason combind:  38%|████████████████████████████████████████████▊                                                                         | 608/1603 [1:23:42<1:41:04,  6.09s/it]"
     ]
    },
    {
     "name": "stdout",
     "output_type": "stream",
     "text": [
      "result after generate:  {'result': 'khối u vú, khối u cổ'}\n",
      "Input: phát hiện có 1 khối u ở vú và 1 khối u ở cổ. | sản phụ khoa | Output: khối u vú, khối u cổ\n"
     ]
    },
    {
     "name": "stderr",
     "output_type": "stream",
     "text": [
      "Handle reason combind:  38%|████████████████████████████████████████████▊                                                                         | 609/1603 [1:23:51<1:56:26,  7.03s/it]"
     ]
    },
    {
     "name": "stdout",
     "output_type": "stream",
     "text": [
      "result after generate:  {'result': 'đau ngực, cục hạch'}\n",
      "Input: sờ thấy cục hạch bên ngực phải. \n",
      "đau 2 bên ngực thường xuyên | sản phụ khoa | Output: đau ngực, cục hạch\n"
     ]
    },
    {
     "name": "stderr",
     "output_type": "stream",
     "text": [
      "Handle reason combind:  38%|████████████████████████████████████████████▉                                                                         | 610/1603 [1:23:54<1:35:24,  5.76s/it]"
     ]
    },
    {
     "name": "stdout",
     "output_type": "stream",
     "text": [
      "result after generate:  {'result': 'bì huyết trắng, nóng rát, khô'}\n",
      "Input: bì huyết trắng,nóng rát,rất khô | sản phụ khoa | Output: bì huyết trắng, nóng rát, khô\n"
     ]
    },
    {
     "name": "stderr",
     "output_type": "stream",
     "text": [
      "Handle reason combind:  38%|████████████████████████████████████████████▉                                                                         | 611/1603 [1:24:03<1:51:28,  6.74s/it]"
     ]
    },
    {
     "name": "stdout",
     "output_type": "stream",
     "text": [
      "result after generate:  {'result': 'viêm vú, mủ ở ngực phải'}\n",
      "Input: viêm vú, có mủ ở ngực phải | sản phụ khoa | Output: viêm vú, mủ ở ngực phải\n"
     ]
    },
    {
     "name": "stderr",
     "output_type": "stream",
     "text": [
      "Handle reason combind:  38%|█████████████████████████████████████████████                                                                         | 612/1603 [1:24:21<2:46:56, 10.11s/it]"
     ]
    },
    {
     "name": "stdout",
     "output_type": "stream",
     "text": [
      "result after generate:  {'result': 'thai lưu'}\n",
      "Input: siêu âm thai (nghi thai lưu) | sản phụ khoa | Output: thai lưu\n"
     ]
    },
    {
     "name": "stderr",
     "output_type": "stream",
     "text": [
      "Handle reason combind:  38%|█████████████████████████████████████████████                                                                         | 613/1603 [1:24:24<2:10:25,  7.90s/it]"
     ]
    },
    {
     "name": "stdout",
     "output_type": "stream",
     "text": [
      "result after generate:  {'result': 'u sơ vú'}\n",
      "Input: u sơ vú | sản phụ khoa | Output: u sơ vú\n"
     ]
    },
    {
     "name": "stderr",
     "output_type": "stream",
     "text": [
      "Handle reason combind:  38%|█████████████████████████████████████████████▏                                                                        | 614/1603 [1:24:34<2:20:37,  8.53s/it]"
     ]
    },
    {
     "name": "stdout",
     "output_type": "stream",
     "text": [
      "result after generate:  {'result': 'viêm lộ tuyến'}\n",
      "Input: viêm lộ tuyến cấp độ 2 | sản phụ khoa | Output: viêm lộ tuyến\n"
     ]
    },
    {
     "name": "stderr",
     "output_type": "stream",
     "text": [
      "Handle reason combind:  38%|█████████████████████████████████████████████▎                                                                        | 615/1603 [1:24:35<1:44:23,  6.34s/it]"
     ]
    },
    {
     "name": "stdout",
     "output_type": "stream",
     "text": [
      "result after generate:  {'result': 'khám sản phụ khoa, sàng lọc ung thư'}\n",
      "Input: khám sản phụ khoa và sàng lọc ung thư | sản phụ khoa | Output: khám sản phụ khoa, sàng lọc ung thư\n"
     ]
    },
    {
     "name": "stderr",
     "output_type": "stream",
     "text": [
      "Handle reason combind:  38%|█████████████████████████████████████████████▎                                                                        | 616/1603 [1:24:52<2:39:04,  9.67s/it]"
     ]
    },
    {
     "name": "stdout",
     "output_type": "stream",
     "text": [
      "result after generate:  {'result': 'loạn sản'}\n",
      "Input: loạn sản | sản phụ khoa | Output: loạn sản\n"
     ]
    },
    {
     "name": "stderr",
     "output_type": "stream",
     "text": [
      "Handle reason combind:  38%|█████████████████████████████████████████████▍                                                                        | 617/1603 [1:24:57<2:15:31,  8.25s/it]"
     ]
    },
    {
     "name": "stdout",
     "output_type": "stream",
     "text": [
      "result after generate:  {'result': 'điều bất thường'}\n",
      "Input: thấy điều bất thường trên cơ thế | sản phụ khoa | Output: điều bất thường\n"
     ]
    },
    {
     "name": "stderr",
     "output_type": "stream",
     "text": [
      "Handle reason combind:  39%|█████████████████████████████████████████████▍                                                                        | 618/1603 [1:25:03<2:02:31,  7.46s/it]"
     ]
    },
    {
     "name": "stdout",
     "output_type": "stream",
     "text": [
      "result after generate:  {'result': 'băng huyết'}\n",
      "Input: khám thai (tiền sử băng huyết) | sản phụ khoa | Output: băng huyết\n"
     ]
    },
    {
     "name": "stderr",
     "output_type": "stream",
     "text": [
      "Handle reason combind:  39%|█████████████████████████████████████████████▌                                                                        | 619/1603 [1:25:08<1:50:51,  6.76s/it]"
     ]
    },
    {
     "name": "stdout",
     "output_type": "stream",
     "text": [
      "result after generate:  {'result': 'khối nhân nhỏ'}\n",
      "Input: đi siêu âm vú có khối nhân nhỏ | sản phụ khoa | Output: khối nhân nhỏ\n"
     ]
    },
    {
     "name": "stderr",
     "output_type": "stream",
     "text": [
      "Handle reason combind:  39%|█████████████████████████████████████████████▋                                                                        | 620/1603 [1:25:16<1:58:48,  7.25s/it]"
     ]
    },
    {
     "name": "stdout",
     "output_type": "stream",
     "text": [
      "result after generate:  {'result': 'tiết dịch tuyến vú'}\n",
      "Input: tiết dịch tuyến vú | sản phụ khoa | Output: tiết dịch tuyến vú\n"
     ]
    },
    {
     "name": "stderr",
     "output_type": "stream",
     "text": [
      "Handle reason combind:  39%|█████████████████████████████████████████████▋                                                                        | 621/1603 [1:25:25<2:04:48,  7.63s/it]"
     ]
    },
    {
     "name": "stdout",
     "output_type": "stream",
     "text": [
      "result after generate:  {'result': 'u nhỏ vú bên trái'}\n",
      "Input: vú bên trái có một u nhỏ. | sản phụ khoa | Output: u nhỏ vú bên trái\n"
     ]
    },
    {
     "name": "stderr",
     "output_type": "stream",
     "text": [
      "Handle reason combind:  39%|█████████████████████████████████████████████▊                                                                        | 622/1603 [1:25:28<1:44:21,  6.38s/it]"
     ]
    },
    {
     "name": "stdout",
     "output_type": "stream",
     "text": [
      "result after generate:  {'result': 'u vú'}\n",
      "Input: u vú | sản phụ khoa | Output: u vú\n"
     ]
    },
    {
     "name": "stderr",
     "output_type": "stream",
     "text": [
      "Handle reason combind:  39%|█████████████████████████████████████████████▊                                                                        | 623/1603 [1:25:38<1:59:37,  7.32s/it]"
     ]
    },
    {
     "name": "stdout",
     "output_type": "stream",
     "text": [
      "result after generate:  {'result': 'u ở vú'}\n",
      "Input: u ở vú | sản phụ khoa | Output: u ở vú\n"
     ]
    },
    {
     "name": "stderr",
     "output_type": "stream",
     "text": [
      "Handle reason combind:  39%|█████████████████████████████████████████████▉                                                                        | 624/1603 [1:25:40<1:32:10,  5.65s/it]"
     ]
    },
    {
     "name": "stdout",
     "output_type": "stream",
     "text": [
      "result after generate:  {'result': None}\n"
     ]
    },
    {
     "name": "stderr",
     "output_type": "stream",
     "text": [
      "Handle reason combind:  39%|██████████████████████████████████████████████                                                                        | 625/1603 [1:26:03<2:58:23, 10.94s/it]"
     ]
    },
    {
     "name": "stdout",
     "output_type": "stream",
     "text": [
      "result after generate:  {'result': 'tuyến vú'}\n",
      "Input: tuyến vú | sản phụ khoa | Output: tuyến vú\n"
     ]
    },
    {
     "name": "stderr",
     "output_type": "stream",
     "text": [
      "Handle reason combind:  39%|██████████████████████████████████████████████                                                                        | 626/1603 [1:26:04<2:11:59,  8.11s/it]"
     ]
    },
    {
     "name": "stdout",
     "output_type": "stream",
     "text": [
      "result after generate:  {'result': 'ca 15-3 cao'}\n",
      "Input: kết quả xét nghiệm ca 15-3 cao, đang là 39.2 | sản phụ khoa | Output: ca 15-3 cao\n"
     ]
    },
    {
     "name": "stderr",
     "output_type": "stream",
     "text": [
      "Handle reason combind:  39%|██████████████████████████████████████████████▏                                                                       | 627/1603 [1:26:11<2:06:46,  7.79s/it]"
     ]
    },
    {
     "name": "stdout",
     "output_type": "stream",
     "text": [
      "result after generate:  {'result': 'u xơ vú'}\n",
      "Input: khám u xơ vú | sản phụ khoa | Output: u xơ vú\n"
     ]
    },
    {
     "name": "stderr",
     "output_type": "stream",
     "text": [
      "Handle reason combind:  39%|██████████████████████████████████████████████▏                                                                       | 628/1603 [1:26:23<2:25:18,  8.94s/it]"
     ]
    },
    {
     "name": "stdout",
     "output_type": "stream",
     "text": [
      "result after generate:  {'result': 'ngứa, ra dịch vùng âm hộ'}\n",
      "Input: ngứa và ra dịch vùng âm hộ | sản phụ khoa | Output: ngứa, ra dịch vùng âm hộ\n"
     ]
    },
    {
     "name": "stderr",
     "output_type": "stream",
     "text": [
      "Handle reason combind:  39%|██████████████████████████████████████████████▎                                                                       | 629/1603 [1:26:25<1:53:08,  6.97s/it]"
     ]
    },
    {
     "name": "stdout",
     "output_type": "stream",
     "text": [
      "result after generate:  {'result': 'khám thai, chuẩn bị sinh'}\n",
      "Input: khám thai để chuẩn bị sinh | sản phụ khoa | Output: khám thai, chuẩn bị sinh\n"
     ]
    },
    {
     "name": "stderr",
     "output_type": "stream",
     "text": [
      "Handle reason combind:  39%|██████████████████████████████████████████████▍                                                                       | 630/1603 [1:26:42<2:42:00,  9.99s/it]"
     ]
    },
    {
     "name": "stdout",
     "output_type": "stream",
     "text": [
      "result after generate:  {'result': 'vú nổi cục'}\n",
      "Input: vú nổi cục | sản phụ khoa | Output: vú nổi cục\n"
     ]
    },
    {
     "name": "stderr",
     "output_type": "stream",
     "text": [
      "Handle reason combind:  39%|██████████████████████████████████████████████▍                                                                       | 631/1603 [1:26:53<2:43:04, 10.07s/it]"
     ]
    },
    {
     "name": "stdout",
     "output_type": "stream",
     "text": [
      "result after generate:  {'result': None}\n"
     ]
    },
    {
     "name": "stderr",
     "output_type": "stream",
     "text": [
      "Handle reason combind:  39%|██████████████████████████████████████████████▌                                                                       | 632/1603 [1:27:08<3:06:35, 11.53s/it]"
     ]
    },
    {
     "name": "stdout",
     "output_type": "stream",
     "text": [
      "result after generate:  {'result': 'vô sinh, amh thấp'}\n",
      "Input: vô sinh amh thấp | sản phụ khoa | Output: vô sinh, amh thấp\n"
     ]
    },
    {
     "name": "stderr",
     "output_type": "stream",
     "text": [
      "Handle reason combind:  39%|██████████████████████████████████████████████▌                                                                       | 633/1603 [1:27:14<2:43:16, 10.10s/it]"
     ]
    },
    {
     "name": "stdout",
     "output_type": "stream",
     "text": [
      "result after generate:  {'result': None}\n"
     ]
    },
    {
     "name": "stderr",
     "output_type": "stream",
     "text": [
      "Handle reason combind:  40%|██████████████████████████████████████████████▋                                                                       | 634/1603 [1:27:18<2:13:00,  8.24s/it]"
     ]
    },
    {
     "name": "stdout",
     "output_type": "stream",
     "text": [
      "result after generate:  {'result': 'khám tuyến vú'}\n",
      "Input: khám tuyến vú. | sản phụ khoa | Output: khám tuyến vú\n"
     ]
    },
    {
     "name": "stderr",
     "output_type": "stream",
     "text": [
      "Handle reason combind:  40%|██████████████████████████████████████████████▋                                                                       | 635/1603 [1:27:22<1:49:22,  6.78s/it]"
     ]
    },
    {
     "name": "stdout",
     "output_type": "stream",
     "text": [
      "result after generate:  {'result': 'chảy máu âm đạo'}\n",
      "Input: sau quan hệ chảy máu âm đạo, đã đi khám nhiều nơi nhưng không tim ra nguyên nhân | sản phụ khoa | Output: chảy máu âm đạo\n"
     ]
    },
    {
     "name": "stderr",
     "output_type": "stream",
     "text": [
      "Handle reason combind:  40%|██████████████████████████████████████████████▊                                                                       | 636/1603 [1:27:41<2:47:52, 10.42s/it]"
     ]
    },
    {
     "name": "stdout",
     "output_type": "stream",
     "text": [
      "result after generate:  {'result': 'nhân xơ tuyến vú'}\n",
      "Input: nhân xơ tuyến vú | sản phụ khoa | Output: nhân xơ tuyến vú\n"
     ]
    },
    {
     "name": "stderr",
     "output_type": "stream",
     "text": [
      "Handle reason combind:  40%|██████████████████████████████████████████████▉                                                                       | 637/1603 [1:27:43<2:10:47,  8.12s/it]"
     ]
    },
    {
     "name": "stdout",
     "output_type": "stream",
     "text": [
      "result after generate:  {'result': 'trễ kinh, test 2 vạch'}\n",
      "Input: trễ kinh 10 ngày test 2 vạch | sản phụ khoa | Output: trễ kinh, test 2 vạch\n"
     ]
    },
    {
     "name": "stderr",
     "output_type": "stream",
     "text": [
      "Handle reason combind:  40%|██████████████████████████████████████████████▉                                                                       | 638/1603 [1:27:50<2:04:59,  7.77s/it]"
     ]
    },
    {
     "name": "stdout",
     "output_type": "stream",
     "text": [
      "result after generate:  {'result': 'khám phụ khoa'}\n",
      "Input: khán phụ khoa | sản phụ khoa | Output: khám phụ khoa\n"
     ]
    },
    {
     "name": "stderr",
     "output_type": "stream",
     "text": [
      "Handle reason combind:  40%|███████████████████████████████████████████████                                                                       | 639/1603 [1:27:55<1:51:15,  6.92s/it]"
     ]
    },
    {
     "name": "stdout",
     "output_type": "stream",
     "text": [
      "result after generate:  {'result': 'khí hư có màu nâu đỏ, mùi hơi tanh'}\n",
      "Input: khí hư có màu nâu đỏ sau ngay kinh khoảng 10 ngày, mùi hơi tanh | sản phụ khoa | Output: khí hư có màu nâu đỏ, mùi hơi tanh\n"
     ]
    },
    {
     "name": "stderr",
     "output_type": "stream",
     "text": [
      "Handle reason combind:  40%|███████████████████████████████████████████████                                                                       | 640/1603 [1:28:00<1:39:18,  6.19s/it]"
     ]
    },
    {
     "name": "stdout",
     "output_type": "stream",
     "text": [
      "result after generate:  {'result': 'mùi phụ khoa'}\n",
      "Input: phụ khoa có mùi | sản phụ khoa | Output: mùi phụ khoa\n"
     ]
    },
    {
     "name": "stderr",
     "output_type": "stream",
     "text": [
      "Handle reason combind:  40%|███████████████████████████████████████████████▏                                                                      | 641/1603 [1:28:12<2:09:27,  8.07s/it]"
     ]
    },
    {
     "name": "stdout",
     "output_type": "stream",
     "text": [
      "result after generate:  {'result': 'u cục vú trái, u xơ tử cung'}\n",
      "Input: có u cục vú trái và u xơ tử cung | sản phụ khoa | Output: u cục vú trái, u xơ tử cung\n"
     ]
    },
    {
     "name": "stderr",
     "output_type": "stream",
     "text": [
      "Handle reason combind:  40%|███████████████████████████████████████████████▎                                                                      | 642/1603 [1:28:15<1:44:37,  6.53s/it]"
     ]
    },
    {
     "name": "stdout",
     "output_type": "stream",
     "text": [
      "result after generate:  {'result': 'đau bụng, rối loạn kinh'}\n",
      "Input: đau bụng và rối loạn kinh | sản phụ khoa | Output: đau bụng, rối loạn kinh\n"
     ]
    },
    {
     "name": "stderr",
     "output_type": "stream",
     "text": [
      "Handle reason combind:  40%|███████████████████████████████████████████████▎                                                                      | 643/1603 [1:28:24<1:57:23,  7.34s/it]"
     ]
    },
    {
     "name": "stdout",
     "output_type": "stream",
     "text": [
      "result after generate:  {'result': None}\n"
     ]
    },
    {
     "name": "stderr",
     "output_type": "stream",
     "text": [
      "Handle reason combind:  40%|███████████████████████████████████████████████▍                                                                      | 644/1603 [1:28:33<2:04:48,  7.81s/it]"
     ]
    },
    {
     "name": "stdout",
     "output_type": "stream",
     "text": [
      "result after generate:  {'result': 'rối loạn kinh nguyệt'}\n",
      "Input: rối loạn kinh nguyệt, và muốn soi trứng | sản phụ khoa | Output: rối loạn kinh nguyệt\n"
     ]
    },
    {
     "name": "stderr",
     "output_type": "stream",
     "text": [
      "Handle reason combind:  40%|███████████████████████████████████████████████▍                                                                      | 645/1603 [1:28:35<1:33:27,  5.85s/it]"
     ]
    },
    {
     "name": "stdout",
     "output_type": "stream",
     "text": [
      "result after generate:  {'result': 'viêm âm đạo, viêm cổ tử cung'}\n",
      "Input: có dấu hiệu viêm âm đạo, cổ tử cung | sản phụ khoa | Output: viêm âm đạo, viêm cổ tử cung\n"
     ]
    },
    {
     "name": "stderr",
     "output_type": "stream",
     "text": [
      "Handle reason combind:  40%|███████████████████████████████████████████████▌                                                                      | 646/1603 [1:28:44<1:49:51,  6.89s/it]"
     ]
    },
    {
     "name": "stdout",
     "output_type": "stream",
     "text": [
      "result after generate:  {'result': None}\n"
     ]
    },
    {
     "name": "stderr",
     "output_type": "stream",
     "text": [
      "Handle reason combind:  40%|███████████████████████████████████████████████▋                                                                      | 647/1603 [1:28:45<1:22:31,  5.18s/it]"
     ]
    },
    {
     "name": "stdout",
     "output_type": "stream",
     "text": [
      "result after generate:  {'result': 'viêm nhiễm phụ khoa, bệnh lý tử cung'}\n",
      "Input: kiểm tra viêm nhiễm phụ khoa, tử cung | sản phụ khoa | Output: viêm nhiễm phụ khoa, bệnh lý tử cung\n"
     ]
    },
    {
     "name": "stderr",
     "output_type": "stream",
     "text": [
      "Handle reason combind:  40%|███████████████████████████████████████████████▋                                                                      | 648/1603 [1:29:01<2:12:58,  8.35s/it]"
     ]
    },
    {
     "name": "stdout",
     "output_type": "stream",
     "text": [
      "result after generate:  {'result': 'hút thai'}\n",
      "Input: kiem tra phần phụ sau hút thai | sản phụ khoa | Output: hút thai\n"
     ]
    },
    {
     "name": "stderr",
     "output_type": "stream",
     "text": [
      "Handle reason combind:  40%|███████████████████████████████████████████████▊                                                                      | 649/1603 [1:29:01<1:35:37,  6.01s/it]"
     ]
    },
    {
     "name": "stdout",
     "output_type": "stream",
     "text": [
      "result after generate:  {'result': None}\n"
     ]
    },
    {
     "name": "stderr",
     "output_type": "stream",
     "text": [
      "Handle reason combind:  41%|███████████████████████████████████████████████▊                                                                      | 650/1603 [1:29:21<2:40:49, 10.13s/it]"
     ]
    },
    {
     "name": "stdout",
     "output_type": "stream",
     "text": [
      "result after generate:  {'result': 'đau tức vú'}\n",
      "Input: đau tức vú trái | sản phụ khoa | Output: đau tức vú\n"
     ]
    },
    {
     "name": "stderr",
     "output_type": "stream",
     "text": [
      "Handle reason combind:  41%|███████████████████████████████████████████████▉                                                                      | 651/1603 [1:29:25<2:11:10,  8.27s/it]"
     ]
    },
    {
     "name": "stdout",
     "output_type": "stream",
     "text": [
      "result after generate:  {'result': 'rong huyết, ngứa vùng kín'}\n",
      "Input: rong huyết ,cô bé ngứa zát | sản phụ khoa | Output: rong huyết, ngứa vùng kín\n"
     ]
    },
    {
     "name": "stderr",
     "output_type": "stream",
     "text": [
      "Handle reason combind:  41%|███████████████████████████████████████████████▉                                                                      | 652/1603 [1:29:41<2:47:51, 10.59s/it]"
     ]
    },
    {
     "name": "stdout",
     "output_type": "stream",
     "text": [
      "result after generate:  {'result': 'vú đau, căng vú, u vú'}\n",
      "Input: 2 vú hơi đau, có lúc thấy bị căng vú. sờ vào nghi có u | sản phụ khoa | Output: vú đau, căng vú, u vú\n"
     ]
    },
    {
     "name": "stderr",
     "output_type": "stream",
     "text": [
      "Handle reason combind:  41%|████████████████████████████████████████████████                                                                      | 653/1603 [1:29:45<2:16:53,  8.65s/it]"
     ]
    },
    {
     "name": "stdout",
     "output_type": "stream",
     "text": [
      "result after generate:  {'result': 'tắc vòi trứng'}\n",
      "Input: tắc vòi trứng | sản phụ khoa | Output: tắc vòi trứng\n"
     ]
    },
    {
     "name": "stderr",
     "output_type": "stream",
     "text": [
      "Handle reason combind:  41%|████████████████████████████████████████████████▏                                                                     | 654/1603 [1:30:06<3:14:42, 12.31s/it]"
     ]
    },
    {
     "name": "stdout",
     "output_type": "stream",
     "text": [
      "result after generate:  {'result': 'phát hiện có thai'}\n",
      "Input: ngày 19/8 chụp x-quang và đo độ loang xương. ngày 30/8 phát hiện có thai. | sản phụ khoa | Output: phát hiện có thai\n"
     ]
    },
    {
     "name": "stderr",
     "output_type": "stream",
     "text": [
      "Handle reason combind:  41%|████████████████████████████████████████████████▏                                                                     | 655/1603 [1:30:11<2:38:41, 10.04s/it]"
     ]
    },
    {
     "name": "stdout",
     "output_type": "stream",
     "text": [
      "result after generate:  {'result': 'ung thư cổ tử cung'}\n",
      "Input: tầm soát ung thư cổ tử cung | sản phụ khoa | Output: ung thư cổ tử cung\n"
     ]
    },
    {
     "name": "stderr",
     "output_type": "stream",
     "text": [
      "Handle reason combind:  41%|████████████████████████████████████████████████▎                                                                     | 656/1603 [1:30:15<2:12:17,  8.38s/it]"
     ]
    },
    {
     "name": "stdout",
     "output_type": "stream",
     "text": [
      "result after generate:  {'result': None}\n"
     ]
    },
    {
     "name": "stderr",
     "output_type": "stream",
     "text": [
      "Handle reason combind:  41%|████████████████████████████████████████████████▎                                                                     | 657/1603 [1:30:32<2:52:48, 10.96s/it]"
     ]
    },
    {
     "name": "stdout",
     "output_type": "stream",
     "text": [
      "result after generate:  {'result': 'ung thư'}\n",
      "Input: sàng lọc tầm soát ung thư | sản phụ khoa | Output: ung thư\n"
     ]
    },
    {
     "name": "stderr",
     "output_type": "stream",
     "text": [
      "Handle reason combind:  41%|████████████████████████████████████████████████▍                                                                     | 658/1603 [1:30:42<2:47:36, 10.64s/it]"
     ]
    },
    {
     "name": "stdout",
     "output_type": "stream",
     "text": [
      "result after generate:  {'result': 'trào ngược dạ dày, nôn ói, suy nhược, đau bụng'}\n",
      "Input: bệnh nhân có bầu hơn 3 tháng tháng có bệnh nền trào ngược dạ dày . 1 tháng qua bệnh nhân ko thể ăn uống nôn ói liên tục người suy nhược sợ ko đủ dinh dưỡng nuôi con . đã khám tại nhiều bệnh viện từ bệnh viện sản nam định , đa khoa nam định , phụ sản trung ương và nhập viện 1 tuần tại bệnh viện việt đức nhưng sau khi về vẫn ko có dấu hiệu cải thiện , tình trạng nôn ói và đau bụng phải vẫn diễn ra | sản phụ khoa | Output: trào ngược dạ dày, nôn ói, suy nhược, đau bụng\n"
     ]
    },
    {
     "name": "stderr",
     "output_type": "stream",
     "text": [
      "Handle reason combind:  41%|████████████████████████████████████████████████▌                                                                     | 659/1603 [1:30:52<2:44:11, 10.44s/it]"
     ]
    },
    {
     "name": "stdout",
     "output_type": "stream",
     "text": [
      "result after generate:  {'result': None}\n"
     ]
    },
    {
     "name": "stderr",
     "output_type": "stream",
     "text": [
      "Handle reason combind:  41%|████████████████████████████████████████████████▌                                                                     | 660/1603 [1:31:00<2:31:21,  9.63s/it]"
     ]
    },
    {
     "name": "stdout",
     "output_type": "stream",
     "text": [
      "result after generate:  {'result': 'null'}\n",
      "Input: khám bầu tuần thứ 17 | sản phụ khoa | Output: null\n"
     ]
    },
    {
     "name": "stderr",
     "output_type": "stream",
     "text": [
      "Handle reason combind:  41%|████████████████████████████████████████████████▋                                                                     | 661/1603 [1:31:01<1:52:33,  7.17s/it]"
     ]
    },
    {
     "name": "stdout",
     "output_type": "stream",
     "text": [
      "result after generate:  {'result': None}\n"
     ]
    },
    {
     "name": "stderr",
     "output_type": "stream",
     "text": [
      "Handle reason combind:  41%|████████████████████████████████████████████████▋                                                                     | 662/1603 [1:31:17<2:34:25,  9.85s/it]"
     ]
    },
    {
     "name": "stdout",
     "output_type": "stream",
     "text": [
      "result after generate:  {'result': 'buồn nôn, chóng mặt'}\n",
      "Input: buồn nôn chóng mặt | sản phụ khoa | Output: buồn nôn, chóng mặt\n"
     ]
    },
    {
     "name": "stderr",
     "output_type": "stream",
     "text": [
      "Handle reason combind:  41%|████████████████████████████████████████████████▊                                                                     | 663/1603 [1:31:28<2:36:22,  9.98s/it]"
     ]
    },
    {
     "name": "stdout",
     "output_type": "stream",
     "text": [
      "result after generate:  {'result': 'khinh nguyệt'}\n",
      "Input: khám lại lần 2 khi có khinh nguyệt | sản phụ khoa | Output: khinh nguyệt\n"
     ]
    },
    {
     "name": "stderr",
     "output_type": "stream",
     "text": [
      "Handle reason combind:  41%|████████████████████████████████████████████████▉                                                                     | 664/1603 [1:31:30<2:01:22,  7.76s/it]"
     ]
    },
    {
     "name": "stdout",
     "output_type": "stream",
     "text": [
      "result after generate:  {'result': 'tinh hoàn bên to, tinh hoàn bên nhỏ, vấn đề sinh sản'}\n",
      "Input: tinh hoàn bên to bên nhỏ và kiểm tra sinh sản | sản phụ khoa | Output: tinh hoàn bên to, tinh hoàn bên nhỏ, vấn đề sinh sản\n"
     ]
    },
    {
     "name": "stderr",
     "output_type": "stream",
     "text": [
      "Handle reason combind:  41%|████████████████████████████████████████████████▉                                                                     | 665/1603 [1:31:45<2:35:32,  9.95s/it]"
     ]
    },
    {
     "name": "stdout",
     "output_type": "stream",
     "text": [
      "result after generate:  {'result': None}\n"
     ]
    },
    {
     "name": "stderr",
     "output_type": "stream",
     "text": [
      "Handle reason combind:  42%|█████████████████████████████████████████████████                                                                     | 666/1603 [1:31:48<2:02:52,  7.87s/it]"
     ]
    },
    {
     "name": "stdout",
     "output_type": "stream",
     "text": [
      "result after generate:  {'result': 'viêm lộ tuyến'}\n",
      "Input: khám kiểm tra lại sau khi đốt viêm lộ tuyến | sản phụ khoa | Output: viêm lộ tuyến\n"
     ]
    },
    {
     "name": "stderr",
     "output_type": "stream",
     "text": [
      "Handle reason combind:  42%|█████████████████████████████████████████████████                                                                     | 667/1603 [1:31:58<2:10:59,  8.40s/it]"
     ]
    },
    {
     "name": "stdout",
     "output_type": "stream",
     "text": [
      "result after generate:  {'result': 'ung thu, muon luu giu tinh trung'}\n",
      "Input: bi ung thu tuyen giap muon luu giu tinh trung de tri xa | sản phụ khoa | Output: ung thu, muon luu giu tinh trung\n"
     ]
    },
    {
     "name": "stderr",
     "output_type": "stream",
     "text": [
      "Handle reason combind:  42%|█████████████████████████████████████████████████▏                                                                    | 668/1603 [1:32:07<2:12:08,  8.48s/it]"
     ]
    },
    {
     "name": "stdout",
     "output_type": "stream",
     "text": [
      "result after generate:  {'result': 'ung thư'}\n",
      "Input: kiểm tra phát hiện ung thư sớm | sản phụ khoa | Output: ung thư\n"
     ]
    },
    {
     "name": "stderr",
     "output_type": "stream",
     "text": [
      "Handle reason combind:  42%|█████████████████████████████████████████████████▏                                                                    | 669/1603 [1:32:17<2:22:02,  9.12s/it]"
     ]
    },
    {
     "name": "stdout",
     "output_type": "stream",
     "text": [
      "result after generate:  {'result': 'cậu nhỏ có mủ'}\n",
      "Input: cậu nhỏ có mủ. | sản phụ khoa | Output: cậu nhỏ có mủ\n"
     ]
    },
    {
     "name": "stderr",
     "output_type": "stream",
     "text": [
      "Handle reason combind:  42%|█████████████████████████████████████████████████▎                                                                    | 670/1603 [1:32:19<1:45:56,  6.81s/it]"
     ]
    },
    {
     "name": "stdout",
     "output_type": "stream",
     "text": [
      "result after generate:  {'result': None}\n"
     ]
    },
    {
     "name": "stderr",
     "output_type": "stream",
     "text": [
      "Handle reason combind:  42%|█████████████████████████████████████████████████▍                                                                    | 671/1603 [1:32:27<1:51:13,  7.16s/it]"
     ]
    },
    {
     "name": "stdout",
     "output_type": "stream",
     "text": [
      "result after generate:  {'result': 'đình kỳ vũ, phụ khoa'}\n",
      "Input: kiem tra dinh ky vu va phu khoa | sản phụ khoa | Output: đình kỳ vũ, phụ khoa\n"
     ]
    },
    {
     "name": "stderr",
     "output_type": "stream",
     "text": [
      "Handle reason combind:  42%|█████████████████████████████████████████████████▍                                                                    | 672/1603 [1:32:29<1:27:21,  5.63s/it]"
     ]
    },
    {
     "name": "stdout",
     "output_type": "stream",
     "text": [
      "result after generate:  {'result': 'kinh nguyệt không đều, chu kỳ ngắn, ung thư'}\n",
      "Input: kinh nguyệt không đều, chu kỳ ngắn 21 ngày, tầm soát ung thư | sản phụ khoa | Output: kinh nguyệt không đều, chu kỳ ngắn, ung thư\n"
     ]
    },
    {
     "name": "stderr",
     "output_type": "stream",
     "text": [
      "Handle reason combind:  42%|█████████████████████████████████████████████████▌                                                                    | 673/1603 [1:32:47<2:26:20,  9.44s/it]"
     ]
    },
    {
     "name": "stdout",
     "output_type": "stream",
     "text": [
      "result after generate:  {'result': 'polyp buồng tử cung'}\n",
      "Input: polip buồng tử cung | sản phụ khoa | Output: polyp buồng tử cung\n"
     ]
    },
    {
     "name": "stderr",
     "output_type": "stream",
     "text": [
      "Handle reason combind:  42%|█████████████████████████████████████████████████▌                                                                    | 674/1603 [1:32:50<1:57:52,  7.61s/it]"
     ]
    },
    {
     "name": "stdout",
     "output_type": "stream",
     "text": [
      "result after generate:  {'result': 'khí hư có mùi hôi, khí hư màu đen'}\n",
      "Input: ra nhiều khí hư có mùi hôi và màu hơi đen | sản phụ khoa | Output: khí hư có mùi hôi, khí hư màu đen\n"
     ]
    },
    {
     "name": "stderr",
     "output_type": "stream",
     "text": [
      "Handle reason combind:  42%|█████████████████████████████████████████████████▋                                                                    | 675/1603 [1:33:00<2:06:28,  8.18s/it]"
     ]
    },
    {
     "name": "stdout",
     "output_type": "stream",
     "text": [
      "result after generate:  {'result': 'ngứa vùng âm đạo, dịch âm đạo màu trắng vón cục, khí hư ra nhiều, tiểu buốt'}\n",
      "Input: ngứa vùng âm đạo,dịch âm đạo màu trắng vón cục,khí hư ra nhiều,tiểu buốt | sản phụ khoa | Output: ngứa vùng âm đạo, dịch âm đạo màu trắng vón cục, khí hư ra nhiều, tiểu buốt\n"
     ]
    },
    {
     "name": "stderr",
     "output_type": "stream",
     "text": [
      "Handle reason combind:  42%|█████████████████████████████████████████████████▊                                                                    | 676/1603 [1:33:04<1:48:30,  7.02s/it]"
     ]
    },
    {
     "name": "stdout",
     "output_type": "stream",
     "text": [
      "result after generate:  {'result': 'u tuyến vú, u xơ tử cung'}\n",
      "Input: u tuyến vú và u xơ tử cụng | sản phụ khoa | Output: u tuyến vú, u xơ tử cung\n"
     ]
    },
    {
     "name": "stderr",
     "output_type": "stream",
     "text": [
      "Handle reason combind:  42%|█████████████████████████████████████████████████▊                                                                    | 677/1603 [1:33:11<1:48:48,  7.05s/it]"
     ]
    },
    {
     "name": "stdout",
     "output_type": "stream",
     "text": [
      "result after generate:  {'result': 'khám ngực, khám phụ khoa'}\n",
      "Input: khám ngực và phụ khoa | sản phụ khoa | Output: khám ngực, khám phụ khoa\n"
     ]
    },
    {
     "name": "stderr",
     "output_type": "stream",
     "text": [
      "Handle reason combind:  42%|█████████████████████████████████████████████████▉                                                                    | 678/1603 [1:33:23<2:09:03,  8.37s/it]"
     ]
    },
    {
     "name": "stdout",
     "output_type": "stream",
     "text": [
      "result after generate:  {'result': 'kinh nguyệt kéo dài, đau bụng'}\n",
      "Input: kinh nghiệm kéo dài, kèm đau bụng | sản phụ khoa | Output: kinh nguyệt kéo dài, đau bụng\n"
     ]
    },
    {
     "name": "stderr",
     "output_type": "stream",
     "text": [
      "Handle reason combind:  42%|█████████████████████████████████████████████████▉                                                                    | 679/1603 [1:33:30<2:05:55,  8.18s/it]"
     ]
    },
    {
     "name": "stdout",
     "output_type": "stream",
     "text": [
      "result after generate:  {'result': 'nang ở ngực'}\n",
      "Input: khám tầm soát sức khỏe sinh sản, có nang ở ngực | sản phụ khoa | Output: nang ở ngực\n"
     ]
    },
    {
     "name": "stderr",
     "output_type": "stream",
     "text": [
      "Handle reason combind:  42%|██████████████████████████████████████████████████                                                                    | 680/1603 [1:33:32<1:33:14,  6.06s/it]"
     ]
    },
    {
     "name": "stdout",
     "output_type": "stream",
     "text": [
      "result after generate:  {'result': 'viêm vú'}\n",
      "Input: khám sau điều trị viêm vú phải;khám phụ khoa tổng quát | sản phụ khoa | Output: viêm vú\n"
     ]
    },
    {
     "name": "stderr",
     "output_type": "stream",
     "text": [
      "Handle reason combind:  42%|██████████████████████████████████████████████████▏                                                                   | 681/1603 [1:33:47<2:16:05,  8.86s/it]"
     ]
    },
    {
     "name": "stdout",
     "output_type": "stream",
     "text": [
      "result after generate:  {'result': 'trễ kinh, ra ít và sẫm màu'}\n",
      "Input: em trễ kinh 3 tháng liền, 2 tháng đầu trễ 5 ngày so với dự kiến,  tháng thứ 3 trễ đến ngày thứ 5 (27/9) có dấu hiệu ra ít nhưng sẫm màu không hẳn là máu, đến nay là ngày 1/10 vẫn chưa thấy có máu kinh | sản phụ khoa | Output: trễ kinh, ra ít và sẫm màu\n"
     ]
    },
    {
     "name": "stderr",
     "output_type": "stream",
     "text": [
      "Handle reason combind:  43%|██████████████████████████████████████████████████▏                                                                   | 682/1603 [1:34:05<2:58:35, 11.63s/it]"
     ]
    },
    {
     "name": "stdout",
     "output_type": "stream",
     "text": [
      "result after generate:  {'result': 'nốt giảm âm, dải xơ'}\n",
      "Input: vú phải: có 1 nốt giảm âm, ranh giới rõ, trong tâm có nhiều dải xơ kt (9x5)mm | sản phụ khoa | Output: nốt giảm âm, dải xơ\n"
     ]
    },
    {
     "name": "stderr",
     "output_type": "stream",
     "text": [
      "Handle reason combind:  43%|██████████████████████████████████████████████████▎                                                                   | 683/1603 [1:34:09<2:21:29,  9.23s/it]"
     ]
    },
    {
     "name": "stdout",
     "output_type": "stream",
     "text": [
      "result after generate:  {'result': 'ngứa âm đạo, rát âm đạo, viêm tiết niệu'}\n",
      "Input: kiểm tra phụ khoa, hơi ngứa và rát âm đạo sau kinh nguyệt, viêm tiết niệu | sản phụ khoa | Output: ngứa âm đạo, rát âm đạo, viêm tiết niệu\n"
     ]
    },
    {
     "name": "stderr",
     "output_type": "stream",
     "text": [
      "Handle reason combind:  43%|██████████████████████████████████████████████████▎                                                                   | 684/1603 [1:34:14<2:02:09,  7.98s/it]"
     ]
    },
    {
     "name": "stdout",
     "output_type": "stream",
     "text": [
      "result after generate:  {'result': None}\n"
     ]
    },
    {
     "name": "stderr",
     "output_type": "stream",
     "text": [
      "Handle reason combind:  43%|██████████████████████████████████████████████████▍                                                                   | 685/1603 [1:34:31<2:46:56, 10.91s/it]"
     ]
    },
    {
     "name": "stdout",
     "output_type": "stream",
     "text": [
      "result after generate:  {'result': 'cục cứng ngực, đau ngực'}\n",
      "Input: 2 bên ngực có cục cứng, đau. đã khám lần 1 tại k1 cơ sở phan chu trinh 3 tháng trước và bác sỹ hẹn 3 tháng sau khám lại | sản phụ khoa | Output: cục cứng ngực, đau ngực\n"
     ]
    },
    {
     "name": "stderr",
     "output_type": "stream",
     "text": [
      "Handle reason combind:  43%|██████████████████████████████████████████████████▍                                                                   | 686/1603 [1:34:39<2:32:36,  9.99s/it]"
     ]
    },
    {
     "name": "stdout",
     "output_type": "stream",
     "text": [
      "result after generate:  {'result': 'vô sinh, tinh trùng di chuyển chậm'}\n",
      "Input: lấy vợ được 4 năm, 2017 có sinh được một cháu nhưng chưa được 6 tháng thì sinh non không giữ được. từ tháng 10 /2017 đến nay vợ chưa có bầu. đã đi khám vợ bình thường, chồng đã đi tinh dịch đồ bác sỹ kết luận tinh trùng di chuyển chậm. | sản phụ khoa | Output: vô sinh, tinh trùng di chuyển chậm\n"
     ]
    },
    {
     "name": "stderr",
     "output_type": "stream",
     "text": [
      "Handle reason combind:  43%|██████████████████████████████████████████████████▌                                                                   | 687/1603 [1:34:56<3:01:40, 11.90s/it]"
     ]
    },
    {
     "name": "stdout",
     "output_type": "stream",
     "text": [
      "result after generate:  {'result': 'tiểu buốt, khí hư, mùi hôi, ra máu bất thường'}\n",
      "Input: khám phụ khoa, tiểu buốt, khí hư, mùi hôi, ra máu bất thường | sản phụ khoa | Output: tiểu buốt, khí hư, mùi hôi, ra máu bất thường\n"
     ]
    },
    {
     "name": "stderr",
     "output_type": "stream",
     "text": [
      "Handle reason combind:  43%|██████████████████████████████████████████████████▋                                                                   | 688/1603 [1:35:12<3:20:30, 13.15s/it]"
     ]
    },
    {
     "name": "stdout",
     "output_type": "stream",
     "text": [
      "result after generate:  {'result': 'u vú trái'}\n",
      "Input: khám u vú trái | sản phụ khoa | Output: u vú trái\n"
     ]
    },
    {
     "name": "stderr",
     "output_type": "stream",
     "text": [
      "Handle reason combind:  43%|██████████████████████████████████████████████████▋                                                                   | 689/1603 [1:35:18<2:46:48, 10.95s/it]"
     ]
    },
    {
     "name": "stdout",
     "output_type": "stream",
     "text": [
      "result after generate:  {'result': 'ra máu'}\n",
      "Input: bị ra máu sau khi uống thuốc tránh thai khẩn cấp 6 ngày | sản phụ khoa | Output: ra máu\n"
     ]
    },
    {
     "name": "stderr",
     "output_type": "stream",
     "text": [
      "Handle reason combind:  43%|██████████████████████████████████████████████████▊                                                                   | 690/1603 [1:35:26<2:35:11, 10.20s/it]"
     ]
    },
    {
     "name": "stdout",
     "output_type": "stream",
     "text": [
      "result after generate:  {'result': 'sa sinh dục'}\n",
      "Input: sa sinh dục | sản phụ khoa | Output: sa sinh dục\n"
     ]
    },
    {
     "name": "stderr",
     "output_type": "stream",
     "text": [
      "Handle reason combind:  43%|██████████████████████████████████████████████████▊                                                                   | 691/1603 [1:35:27<1:53:48,  7.49s/it]"
     ]
    },
    {
     "name": "stdout",
     "output_type": "stream",
     "text": [
      "result after generate:  {'result': 'u vú'}\n",
      "Input: có u vú, u tuyến giáp | sản phụ khoa | Output: u vú\n"
     ]
    },
    {
     "name": "stderr",
     "output_type": "stream",
     "text": [
      "Handle reason combind:  43%|██████████████████████████████████████████████████▉                                                                   | 692/1603 [1:35:35<1:56:57,  7.70s/it]"
     ]
    },
    {
     "name": "stdout",
     "output_type": "stream",
     "text": [
      "result after generate:  {'result': 'đau bụng, rong kinh'}\n",
      "Input: đau bụng, rong kinh | sản phụ khoa | Output: đau bụng, rong kinh\n"
     ]
    },
    {
     "name": "stderr",
     "output_type": "stream",
     "text": [
      "Handle reason combind:  43%|███████████████████████████████████████████████████                                                                   | 693/1603 [1:35:38<1:33:15,  6.15s/it]"
     ]
    },
    {
     "name": "stdout",
     "output_type": "stream",
     "text": [
      "result after generate:  {'result': None}\n"
     ]
    },
    {
     "name": "stderr",
     "output_type": "stream",
     "text": [
      "Handle reason combind:  43%|███████████████████████████████████████████████████                                                                   | 694/1603 [1:35:54<2:17:06,  9.05s/it]"
     ]
    },
    {
     "name": "stdout",
     "output_type": "stream",
     "text": [
      "result after generate:  {'result': 'khám thai'}\n",
      "Input: khám thai | sản phụ khoa | Output: khám thai\n"
     ]
    },
    {
     "name": "stderr",
     "output_type": "stream",
     "text": [
      "Handle reason combind:  43%|███████████████████████████████████████████████████▏                                                                  | 695/1603 [1:36:04<2:20:48,  9.30s/it]"
     ]
    },
    {
     "name": "stdout",
     "output_type": "stream",
     "text": [
      "result after generate:  {'result': 'mất kinh tuổi dậy thì'}\n",
      "Input: mất kinh tuổi dậy thì | sản phụ khoa | Output: mất kinh tuổi dậy thì\n"
     ]
    },
    {
     "name": "stderr",
     "output_type": "stream",
     "text": [
      "Handle reason combind:  43%|███████████████████████████████████████████████████▏                                                                  | 696/1603 [1:36:11<2:14:06,  8.87s/it]"
     ]
    },
    {
     "name": "stdout",
     "output_type": "stream",
     "text": [
      "result after generate:  {'result': None}\n"
     ]
    },
    {
     "name": "stderr",
     "output_type": "stream",
     "text": [
      "Handle reason combind:  43%|███████████████████████████████████████████████████▎                                                                  | 697/1603 [1:36:16<1:54:33,  7.59s/it]"
     ]
    },
    {
     "name": "stdout",
     "output_type": "stream",
     "text": [
      "result after generate:  {'result': 'ra máu âm đạo, ung thư tử cung'}\n",
      "Input: ra máu âm đạo, muốn kiểm tra và tầm soát ung thư tử cung | sản phụ khoa | Output: ra máu âm đạo, ung thư tử cung\n"
     ]
    },
    {
     "name": "stderr",
     "output_type": "stream",
     "text": [
      "Handle reason combind:  44%|███████████████████████████████████████████████████▍                                                                  | 698/1603 [1:36:22<1:48:59,  7.23s/it]"
     ]
    },
    {
     "name": "stdout",
     "output_type": "stream",
     "text": [
      "result after generate:  {'result': 'ung thư'}\n",
      "Input: khám sàng lọc tế bào ung thư | sản phụ khoa | Output: ung thư\n"
     ]
    },
    {
     "name": "stderr",
     "output_type": "stream",
     "text": [
      "Handle reason combind:  44%|███████████████████████████████████████████████████▍                                                                  | 699/1603 [1:36:29<1:47:50,  7.16s/it]"
     ]
    },
    {
     "name": "stdout",
     "output_type": "stream",
     "text": [
      "result after generate:  {'result': 'ngứa âm đạo, rối loạn kinh nguyệt'}\n",
      "Input: ngứa âm đạo, dối loạn kinh nguyệt | sản phụ khoa | Output: ngứa âm đạo, rối loạn kinh nguyệt\n"
     ]
    },
    {
     "name": "stderr",
     "output_type": "stream",
     "text": [
      "Handle reason combind:  44%|███████████████████████████████████████████████████▌                                                                  | 700/1603 [1:36:33<1:32:29,  6.15s/it]"
     ]
    },
    {
     "name": "stdout",
     "output_type": "stream",
     "text": [
      "result after generate:  {'result': 'biểu hiện chẩy dịch mủ hơi vàng đặc'}\n",
      "Input: ngực có biểu hiện chẩy dịch mủ hơi vàng đặc | sản phụ khoa | Output: biểu hiện chẩy dịch mủ hơi vàng đặc\n"
     ]
    },
    {
     "name": "stderr",
     "output_type": "stream",
     "text": [
      "Handle reason combind:  44%|███████████████████████████████████████████████████▌                                                                  | 701/1603 [1:36:34<1:08:55,  4.58s/it]"
     ]
    },
    {
     "name": "stdout",
     "output_type": "stream",
     "text": [
      "result after generate:  {'result': 'đau nhói tuyến vú'}\n",
      "Input: đau nhói tuyến vú | sản phụ khoa | Output: đau nhói tuyến vú\n"
     ]
    },
    {
     "name": "stderr",
     "output_type": "stream",
     "text": [
      "Handle reason combind:  44%|███████████████████████████████████████████████████▋                                                                  | 702/1603 [1:36:43<1:30:02,  6.00s/it]"
     ]
    },
    {
     "name": "stdout",
     "output_type": "stream",
     "text": [
      "result after generate:  {'result': 'vô sinh, hiếm muộn'}\n",
      "Input: vợ chồng em đã kết hôn hơn 1 năm mà chưua có em bé, e muốn khám vô sinh hiếm muộn để tìm ra nguyên nhân | sản phụ khoa | Output: vô sinh, hiếm muộn\n"
     ]
    },
    {
     "name": "stderr",
     "output_type": "stream",
     "text": [
      "Handle reason combind:  44%|███████████████████████████████████████████████████▋                                                                  | 703/1603 [1:36:49<1:28:17,  5.89s/it]"
     ]
    },
    {
     "name": "stdout",
     "output_type": "stream",
     "text": [
      "result after generate:  {'result': None}\n"
     ]
    },
    {
     "name": "stderr",
     "output_type": "stream",
     "text": [
      "Handle reason combind:  44%|███████████████████████████████████████████████████▊                                                                  | 704/1603 [1:36:57<1:37:36,  6.51s/it]"
     ]
    },
    {
     "name": "stdout",
     "output_type": "stream",
     "text": [
      "result after generate:  {'result': 'hạch ở vú'}\n",
      "Input: phát hiện hạch ở hai bên vú | sản phụ khoa | Output: hạch ở vú\n"
     ]
    },
    {
     "name": "stderr",
     "output_type": "stream",
     "text": [
      "Handle reason combind:  44%|███████████████████████████████████████████████████▉                                                                  | 705/1603 [1:36:59<1:17:26,  5.17s/it]"
     ]
    },
    {
     "name": "stdout",
     "output_type": "stream",
     "text": [
      "result after generate:  {'result': 'u xơ vú, ung thư'}\n",
      "Input: tôi đang bị u xơ vú nên muốn xét nghiệm tế bào ung thư | sản phụ khoa | Output: u xơ vú, ung thư\n"
     ]
    },
    {
     "name": "stderr",
     "output_type": "stream",
     "text": [
      "Handle reason combind:  44%|███████████████████████████████████████████████████▉                                                                  | 706/1603 [1:37:16<2:08:43,  8.61s/it]"
     ]
    },
    {
     "name": "stdout",
     "output_type": "stream",
     "text": [
      "result after generate:  {'result': 'cục nan ở vung kin'}\n",
      "Input: khám cục nan ở vung kin | sản phụ khoa | Output: cục nan ở vung kin\n"
     ]
    },
    {
     "name": "stderr",
     "output_type": "stream",
     "text": [
      "Handle reason combind:  44%|████████████████████████████████████████████████████                                                                  | 707/1603 [1:37:25<2:09:36,  8.68s/it]"
     ]
    },
    {
     "name": "stdout",
     "output_type": "stream",
     "text": [
      "result after generate:  {'result': 'u vú, ung thư vú, ung thư cổ tử cung'}\n",
      "Input: kiểm tra u vú, khám sàng lọc ung thư vú và cổ tử cung | sản phụ khoa | Output: u vú, ung thư vú, ung thư cổ tử cung\n"
     ]
    },
    {
     "name": "stderr",
     "output_type": "stream",
     "text": [
      "Handle reason combind:  44%|████████████████████████████████████████████████████                                                                  | 708/1603 [1:37:26<1:38:52,  6.63s/it]"
     ]
    },
    {
     "name": "stdout",
     "output_type": "stream",
     "text": [
      "result after generate:  {'result': 'đau nhức vú'}\n",
      "Input: đau nhức ở vú | sản phụ khoa | Output: đau nhức vú\n"
     ]
    },
    {
     "name": "stderr",
     "output_type": "stream",
     "text": [
      "Handle reason combind:  44%|████████████████████████████████████████████████████▏                                                                 | 709/1603 [1:37:45<2:32:16, 10.22s/it]"
     ]
    },
    {
     "name": "stdout",
     "output_type": "stream",
     "text": [
      "result after generate:  {'result': None}\n"
     ]
    },
    {
     "name": "stderr",
     "output_type": "stream",
     "text": [
      "Handle reason combind:  44%|████████████████████████████████████████████████████▎                                                                 | 710/1603 [1:37:51<2:14:39,  9.05s/it]"
     ]
    },
    {
     "name": "stdout",
     "output_type": "stream",
     "text": [
      "result after generate:  {'result': 'tắc tia sữa'}\n",
      "Input: khám tắc tia sữa | sản phụ khoa | Output: tắc tia sữa\n"
     ]
    },
    {
     "name": "stderr",
     "output_type": "stream",
     "text": [
      "Handle reason combind:  44%|████████████████████████████████████████████████████▎                                                                 | 711/1603 [1:37:54<1:46:55,  7.19s/it]"
     ]
    },
    {
     "name": "stdout",
     "output_type": "stream",
     "text": [
      "result after generate:  {'result': 'Rong kinh'}\n",
      "Input: rong kinh 13-15 ngày | sản phụ khoa | Output: Rong kinh\n"
     ]
    },
    {
     "name": "stderr",
     "output_type": "stream",
     "text": [
      "Handle reason combind:  44%|████████████████████████████████████████████████████▍                                                                 | 712/1603 [1:38:00<1:39:34,  6.70s/it]"
     ]
    },
    {
     "name": "stdout",
     "output_type": "stream",
     "text": [
      "result after generate:  {'result': 'kinh nguyệt không bình thường'}\n",
      "Input: kinh nguyệt không bình thường | sản phụ khoa | Output: kinh nguyệt không bình thường\n"
     ]
    },
    {
     "name": "stderr",
     "output_type": "stream",
     "text": [
      "Handle reason combind:  44%|████████████████████████████████████████████████████▍                                                                 | 713/1603 [1:38:08<1:44:42,  7.06s/it]"
     ]
    },
    {
     "name": "stdout",
     "output_type": "stream",
     "text": [
      "result after generate:  {'result': 'huyết trắng nhiều'}\n",
      "Input: huyet trăng nhiều | sản phụ khoa | Output: huyết trắng nhiều\n"
     ]
    },
    {
     "name": "stderr",
     "output_type": "stream",
     "text": [
      "Handle reason combind:  45%|████████████████████████████████████████████████████▌                                                                 | 714/1603 [1:38:09<1:18:38,  5.31s/it]"
     ]
    },
    {
     "name": "stdout",
     "output_type": "stream",
     "text": [
      "result after generate:  {'result': 'đau phần phụ, thấy dịch nhầy có máu'}\n",
      "Input: đau phần phụ, thi thoảng thấy dịch nhầy có máu. | sản phụ khoa | Output: đau phần phụ, thấy dịch nhầy có máu\n"
     ]
    },
    {
     "name": "stderr",
     "output_type": "stream",
     "text": [
      "Handle reason combind:  45%|████████████████████████████████████████████████████▋                                                                 | 715/1603 [1:38:25<2:06:57,  8.58s/it]"
     ]
    },
    {
     "name": "stdout",
     "output_type": "stream",
     "text": [
      "result after generate:  {'result': 'nốt mụn ở bộ phận sinh dục'}\n",
      "Input: kiểm tra phụ khoa\n",
      "có nốt mụn ở bộ phận sinh dục | sản phụ khoa | Output: nốt mụn ở bộ phận sinh dục\n"
     ]
    },
    {
     "name": "stderr",
     "output_type": "stream",
     "text": [
      "Handle reason combind:  45%|████████████████████████████████████████████████████▋                                                                 | 716/1603 [1:38:42<2:43:22, 11.05s/it]"
     ]
    },
    {
     "name": "stdout",
     "output_type": "stream",
     "text": [
      "result after generate:  {'result': 'buốt khi đi tiểu, đau khi quan hệ'}\n",
      "Input: đẻ xong đc hơn 3 tháng r mà vẫn bị buốt khi đi tiểu tiện và quan hệ hơi đau | sản phụ khoa | Output: buốt khi đi tiểu, đau khi quan hệ\n"
     ]
    },
    {
     "name": "stderr",
     "output_type": "stream",
     "text": [
      "Handle reason combind:  45%|████████████████████████████████████████████████████▊                                                                 | 717/1603 [1:39:00<3:14:56, 13.20s/it]"
     ]
    },
    {
     "name": "stdout",
     "output_type": "stream",
     "text": [
      "result after generate:  {'result': 'đau đầu vú, mủ, dịch mủ trắng có máu đỏ'}\n",
      "Input: đau đầu vú có mủ và dịch mủ trắng có máu đỏ | sản phụ khoa | Output: đau đầu vú, mủ, dịch mủ trắng có máu đỏ\n"
     ]
    },
    {
     "name": "stderr",
     "output_type": "stream",
     "text": [
      "Handle reason combind:  45%|████████████████████████████████████████████████████▊                                                                 | 718/1603 [1:39:05<2:36:01, 10.58s/it]"
     ]
    },
    {
     "name": "stdout",
     "output_type": "stream",
     "text": [
      "result after generate:  {'result': 'khám sản khoa'}\n",
      "Input: khám sản khoa lần đầu | sản phụ khoa | Output: khám sản khoa\n"
     ]
    },
    {
     "name": "stderr",
     "output_type": "stream",
     "text": [
      "Handle reason combind:  45%|████████████████████████████████████████████████████▉                                                                 | 719/1603 [1:39:09<2:06:49,  8.61s/it]"
     ]
    },
    {
     "name": "stdout",
     "output_type": "stream",
     "text": [
      "result after generate:  {'result': 'cục ở vú, ung thư vú'}\n",
      "Input: sờ thấy cục ở vú trái. có chị gái mất vì k vú năm 37 tuổi | sản phụ khoa | Output: cục ở vú, ung thư vú\n"
     ]
    },
    {
     "name": "stderr",
     "output_type": "stream",
     "text": [
      "Handle reason combind:  45%|█████████████████████████████████████████████████████                                                                 | 720/1603 [1:39:25<2:42:24, 11.04s/it]"
     ]
    },
    {
     "name": "stdout",
     "output_type": "stream",
     "text": [
      "result after generate:  {'result': 'ung thư vú'}\n",
      "Input: tầm soát ung thư vú | sản phụ khoa | Output: ung thư vú\n"
     ]
    },
    {
     "name": "stderr",
     "output_type": "stream",
     "text": [
      "Handle reason combind:  45%|█████████████████████████████████████████████████████                                                                 | 721/1603 [1:39:32<2:24:06,  9.80s/it]"
     ]
    },
    {
     "name": "stdout",
     "output_type": "stream",
     "text": [
      "result after generate:  {'result': 'huyết áp thấp, đau đầu, buồn nôn'}\n",
      "Input: thai 19 tuần. thai phụ huyết áp thấp, đau đầu, buồn nôn. | sản phụ khoa | Output: huyết áp thấp, đau đầu, buồn nôn\n"
     ]
    },
    {
     "name": "stderr",
     "output_type": "stream",
     "text": [
      "Handle reason combind:  45%|█████████████████████████████████████████████████████▏                                                                | 722/1603 [1:39:40<2:13:02,  9.06s/it]"
     ]
    },
    {
     "name": "stdout",
     "output_type": "stream",
     "text": [
      "result after generate:  {'result': None}\n"
     ]
    },
    {
     "name": "stderr",
     "output_type": "stream",
     "text": [
      "Handle reason combind:  45%|█████████████████████████████████████████████████████▏                                                                | 723/1603 [1:39:46<1:59:28,  8.15s/it]"
     ]
    },
    {
     "name": "stdout",
     "output_type": "stream",
     "text": [
      "result after generate:  {'result': 'nang cạnh cổ tử cung'}\n",
      "Input: có nang cạnh ctc | sản phụ khoa | Output: nang cạnh cổ tử cung\n"
     ]
    },
    {
     "name": "stderr",
     "output_type": "stream",
     "text": [
      "Handle reason combind:  45%|█████████████████████████████████████████████████████▎                                                                | 724/1603 [1:39:54<1:59:58,  8.19s/it]"
     ]
    },
    {
     "name": "stdout",
     "output_type": "stream",
     "text": [
      "result after generate:  {'result': 'u bướu'}\n",
      "Input: khám u bướu | sản phụ khoa | Output: u bướu\n"
     ]
    },
    {
     "name": "stderr",
     "output_type": "stream",
     "text": [
      "Handle reason combind:  45%|█████████████████████████████████████████████████████▎                                                                | 725/1603 [1:40:11<2:40:00, 10.93s/it]"
     ]
    },
    {
     "name": "stdout",
     "output_type": "stream",
     "text": [
      "result after generate:  {'result': 'u xơ tử cung'}\n",
      "Input: tai kham u xơ tử cung | sản phụ khoa | Output: u xơ tử cung\n"
     ]
    },
    {
     "name": "stderr",
     "output_type": "stream",
     "text": [
      "Handle reason combind:  45%|█████████████████████████████████████████████████████▍                                                                | 726/1603 [1:40:17<2:16:07,  9.31s/it]"
     ]
    },
    {
     "name": "stdout",
     "output_type": "stream",
     "text": [
      "result after generate:  {'result': 'kiểm tra vú'}\n",
      "Input: kiem tra u vú | sản phụ khoa | Output: kiểm tra vú\n"
     ]
    },
    {
     "name": "stderr",
     "output_type": "stream",
     "text": [
      "Handle reason combind:  45%|█████████████████████████████████████████████████████▌                                                                | 727/1603 [1:40:21<1:53:33,  7.78s/it]"
     ]
    },
    {
     "name": "stdout",
     "output_type": "stream",
     "text": [
      "result after generate:  {'result': 'u buồng trứng, u ác tính'}\n",
      "Input: u buồng trứng, đã phẫu thuật cắt bỏ ở bv bưu điện, đã xét nghiệm mô và xác định u ác tính. | sản phụ khoa | Output: u buồng trứng, u ác tính\n"
     ]
    },
    {
     "name": "stderr",
     "output_type": "stream",
     "text": [
      "Handle reason combind:  45%|█████████████████████████████████████████████████████▌                                                                | 728/1603 [1:40:38<2:32:37, 10.47s/it]"
     ]
    },
    {
     "name": "stdout",
     "output_type": "stream",
     "text": [
      "result after generate:  {'result': 'nhân sơ vú'}\n",
      "Input: kiểm tra nhân sơ vú | sản phụ khoa | Output: nhân sơ vú\n"
     ]
    },
    {
     "name": "stderr",
     "output_type": "stream",
     "text": [
      "Handle reason combind:  45%|█████████████████████████████████████████████████████▋                                                                | 729/1603 [1:40:42<2:06:39,  8.69s/it]"
     ]
    },
    {
     "name": "stdout",
     "output_type": "stream",
     "text": [
      "result after generate:  {'result': 'u ở bụng dưới'}\n",
      "Input: có u ở bụng dưới | sản phụ khoa | Output: u ở bụng dưới\n"
     ]
    },
    {
     "name": "stderr",
     "output_type": "stream",
     "text": [
      "Handle reason combind:  46%|█████████████████████████████████████████████████████▋                                                                | 730/1603 [1:40:58<2:38:41, 10.91s/it]"
     ]
    },
    {
     "name": "stdout",
     "output_type": "stream",
     "text": [
      "result after generate:  {'result': 'ung thư vú'}\n",
      "Input: kiểm soát ung thư vú | sản phụ khoa | Output: ung thư vú\n"
     ]
    },
    {
     "name": "stderr",
     "output_type": "stream",
     "text": [
      "Handle reason combind:  46%|█████████████████████████████████████████████████████▊                                                                | 731/1603 [1:41:05<2:20:50,  9.69s/it]"
     ]
    },
    {
     "name": "stdout",
     "output_type": "stream",
     "text": [
      "result after generate:  {'result': 'dịch lạ, ngứa'}\n",
      "Input: dịch lạ, hơi ngứa | sản phụ khoa | Output: dịch lạ, ngứa\n"
     ]
    },
    {
     "name": "stderr",
     "output_type": "stream",
     "text": [
      "Handle reason combind:  46%|█████████████████████████████████████████████████████▉                                                                | 732/1603 [1:41:11<2:03:01,  8.47s/it]"
     ]
    },
    {
     "name": "stdout",
     "output_type": "stream",
     "text": [
      "result after generate:  {'result': 'viêm phụ khoa, nấm'}\n",
      "Input: viêm phụ khoa lâu ngày ko khỏi do nấm | sản phụ khoa | Output: viêm phụ khoa, nấm\n"
     ]
    },
    {
     "name": "stderr",
     "output_type": "stream",
     "text": [
      "Handle reason combind:  46%|█████████████████████████████████████████████████████▉                                                                | 733/1603 [1:41:14<1:38:59,  6.83s/it]"
     ]
    },
    {
     "name": "stdout",
     "output_type": "stream",
     "text": [
      "result after generate:  {'result': 'ngứa âm đạo, dịch nhầy màu trắng trong âm đạo'}\n",
      "Input: ngứa âm đạo, trong âm đạo có dịch nhầy màu trắng | sản phụ khoa | Output: ngứa âm đạo, dịch nhầy màu trắng trong âm đạo\n"
     ]
    },
    {
     "name": "stderr",
     "output_type": "stream",
     "text": [
      "Handle reason combind:  46%|██████████████████████████████████████████████████████                                                                | 734/1603 [1:41:30<2:19:02,  9.60s/it]"
     ]
    },
    {
     "name": "stdout",
     "output_type": "stream",
     "text": [
      "result after generate:  {'result': 'sạn da, dạ con'}\n",
      "Input: sa dạ con | sản phụ khoa | Output: sạn da, dạ con\n"
     ]
    },
    {
     "name": "stderr",
     "output_type": "stream",
     "text": [
      "Handle reason combind:  46%|██████████████████████████████████████████████████████                                                                | 735/1603 [1:41:35<1:59:50,  8.28s/it]"
     ]
    },
    {
     "name": "stdout",
     "output_type": "stream",
     "text": [
      "result after generate:  {'result': None}\n"
     ]
    },
    {
     "name": "stderr",
     "output_type": "stream",
     "text": [
      "Handle reason combind:  46%|██████████████████████████████████████████████████████▏                                                               | 736/1603 [1:41:42<1:53:05,  7.83s/it]"
     ]
    },
    {
     "name": "stdout",
     "output_type": "stream",
     "text": [
      "result after generate:  {'result': 'đi tiểu ra mủ'}\n",
      "Input: đi tiểu ra mủ | sản phụ khoa | Output: đi tiểu ra mủ\n"
     ]
    },
    {
     "name": "stderr",
     "output_type": "stream",
     "text": [
      "Handle reason combind:  46%|██████████████████████████████████████████████████████▎                                                               | 737/1603 [1:41:47<1:43:31,  7.17s/it]"
     ]
    },
    {
     "name": "stdout",
     "output_type": "stream",
     "text": [
      "result after generate:  {'result': 'mang thai ngoài ý muốn'}\n",
      "Input: mang thai ngoài ý muốn | sản phụ khoa | Output: mang thai ngoài ý muốn\n"
     ]
    },
    {
     "name": "stderr",
     "output_type": "stream",
     "text": [
      "Handle reason combind:  46%|██████████████████████████████████████████████████████▎                                                               | 738/1603 [1:41:50<1:22:07,  5.70s/it]"
     ]
    },
    {
     "name": "stdout",
     "output_type": "stream",
     "text": [
      "result after generate:  {'result': 'kinh nguyệt không đều, mất kinh'}\n",
      "Input: kinh nguyệt ko đều , 3 tháng gần đây ko thấy kinh | sản phụ khoa | Output: kinh nguyệt không đều, mất kinh\n"
     ]
    },
    {
     "name": "stderr",
     "output_type": "stream",
     "text": [
      "Handle reason combind:  46%|██████████████████████████████████████████████████████▍                                                               | 739/1603 [1:42:05<2:01:50,  8.46s/it]"
     ]
    },
    {
     "name": "stdout",
     "output_type": "stream",
     "text": [
      "result after generate:  {'result': 'bệnh lý về vú'}\n",
      "Input: kiểm tra bệnh lý về vú | sản phụ khoa | Output: bệnh lý về vú\n"
     ]
    },
    {
     "name": "stderr",
     "output_type": "stream",
     "text": [
      "Handle reason combind:  46%|██████████████████████████████████████████████████████▍                                                               | 740/1603 [1:42:07<1:36:24,  6.70s/it]"
     ]
    },
    {
     "name": "stdout",
     "output_type": "stream",
     "text": [
      "result after generate:  {'result': 'ra dịch nâu, dọa sảy'}\n",
      "Input: siêu âm thai và khám thai 16 tuần (13 tuần có ra dịch nâu dọa sảy) | sản phụ khoa | Output: ra dịch nâu, dọa sảy\n"
     ]
    },
    {
     "name": "stderr",
     "output_type": "stream",
     "text": [
      "Handle reason combind:  46%|██████████████████████████████████████████████████████▌                                                               | 741/1603 [1:42:24<2:19:47,  9.73s/it]"
     ]
    },
    {
     "name": "stdout",
     "output_type": "stream",
     "text": [
      "result after generate:  {'result': 'mang thai'}\n",
      "Input: có dấu hiệu mang thai | sản phụ khoa | Output: mang thai\n"
     ]
    },
    {
     "name": "stderr",
     "output_type": "stream",
     "text": [
      "Handle reason combind:  46%|██████████████████████████████████████████████████████▌                                                               | 742/1603 [1:42:29<2:00:40,  8.41s/it]"
     ]
    },
    {
     "name": "stdout",
     "output_type": "stream",
     "text": [
      "result after generate:  {'result': 'ra máu'}\n",
      "Input: ra máu | sản phụ khoa | Output: ra máu\n"
     ]
    },
    {
     "name": "stderr",
     "output_type": "stream",
     "text": [
      "Handle reason combind:  46%|██████████████████████████████████████████████████████▋                                                               | 743/1603 [1:42:47<2:40:52, 11.22s/it]"
     ]
    },
    {
     "name": "stdout",
     "output_type": "stream",
     "text": [
      "result after generate:  {'result': 'chậm kinh, ra khí hư'}\n",
      "Input: chậm kinh, ra khí hư | sản phụ khoa | Output: chậm kinh, ra khí hư\n"
     ]
    },
    {
     "name": "stderr",
     "output_type": "stream",
     "text": [
      "Handle reason combind:  46%|██████████████████████████████████████████████████████▊                                                               | 744/1603 [1:42:58<2:38:11, 11.05s/it]"
     ]
    },
    {
     "name": "stdout",
     "output_type": "stream",
     "text": [
      "result after generate:  {'result': 'thai, kết quả thử thai 2 vạch'}\n",
      "Input: khám thai siêu âm vì thử thai tại nhà kết quả 2 vạch | sản phụ khoa | Output: thai, kết quả thử thai 2 vạch\n"
     ]
    },
    {
     "name": "stderr",
     "output_type": "stream",
     "text": [
      "Handle reason combind:  46%|██████████████████████████████████████████████████████▊                                                               | 745/1603 [1:42:59<1:55:19,  8.06s/it]"
     ]
    },
    {
     "name": "stdout",
     "output_type": "stream",
     "text": [
      "result after generate:  {'result': None}\n"
     ]
    },
    {
     "name": "stderr",
     "output_type": "stream",
     "text": [
      "Handle reason combind:  47%|██████████████████████████████████████████████████████▉                                                               | 746/1603 [1:43:08<1:59:50,  8.39s/it]"
     ]
    },
    {
     "name": "stdout",
     "output_type": "stream",
     "text": [
      "result after generate:  {'result': 'vô sinh'}\n",
      "Input: khám hai vợ chồng sau kết hôn chưa có con | sản phụ khoa | Output: vô sinh\n"
     ]
    },
    {
     "name": "stderr",
     "output_type": "stream",
     "text": [
      "Handle reason combind:  47%|██████████████████████████████████████████████████████▉                                                               | 747/1603 [1:43:10<1:30:58,  6.38s/it]"
     ]
    },
    {
     "name": "stdout",
     "output_type": "stream",
     "text": [
      "result after generate:  {'result': 'phụ khoa'}\n",
      "Input: phụ khoa | sản phụ khoa | Output: phụ khoa\n"
     ]
    },
    {
     "name": "stderr",
     "output_type": "stream",
     "text": [
      "Handle reason combind:  47%|███████████████████████████████████████████████████████                                                               | 748/1603 [1:43:26<2:11:23,  9.22s/it]"
     ]
    },
    {
     "name": "stdout",
     "output_type": "stream",
     "text": [
      "result after generate:  {'result': 'thai tuần thứ 34'}\n",
      "Input: khám thái tuần thứ 34 | sản phụ khoa | Output: thai tuần thứ 34\n"
     ]
    },
    {
     "name": "stderr",
     "output_type": "stream",
     "text": [
      "Handle reason combind:  47%|███████████████████████████████████████████████████████▏                                                              | 749/1603 [1:43:33<2:01:35,  8.54s/it]"
     ]
    },
    {
     "name": "stdout",
     "output_type": "stream",
     "text": [
      "result after generate:  {'result': 'ra dịch màu lạ'}\n",
      "Input: khám phụ khoa, ra dịch màu lạ | sản phụ khoa | Output: ra dịch màu lạ\n"
     ]
    },
    {
     "name": "stderr",
     "output_type": "stream",
     "text": [
      "Handle reason combind:  47%|███████████████████████████████████████████████████████▏                                                              | 750/1603 [1:43:42<2:06:30,  8.90s/it]"
     ]
    },
    {
     "name": "stdout",
     "output_type": "stream",
     "text": [
      "result after generate:  {'result': 'thai, que thử thai 2 vạch'}\n",
      "Input: thử que thử thai 2 vạch nên đến bác sĩ siêu âm | sản phụ khoa | Output: thai, que thử thai 2 vạch\n"
     ]
    },
    {
     "name": "stderr",
     "output_type": "stream",
     "text": [
      "Handle reason combind:  47%|███████████████████████████████████████████████████████▎                                                              | 751/1603 [1:43:43<1:33:14,  6.57s/it]"
     ]
    },
    {
     "name": "stdout",
     "output_type": "stream",
     "text": [
      "result after generate:  {'result': None}\n"
     ]
    },
    {
     "name": "stderr",
     "output_type": "stream",
     "text": [
      "Handle reason combind:  47%|███████████████████████████████████████████████████████▎                                                              | 752/1603 [1:44:02<2:23:13, 10.10s/it]"
     ]
    },
    {
     "name": "stdout",
     "output_type": "stream",
     "text": [
      "result after generate:  {'result': None}\n"
     ]
    },
    {
     "name": "stderr",
     "output_type": "stream",
     "text": [
      "Handle reason combind:  47%|███████████████████████████████████████████████████████▍                                                              | 753/1603 [1:44:09<2:12:42,  9.37s/it]"
     ]
    },
    {
     "name": "stdout",
     "output_type": "stream",
     "text": [
      "result after generate:  {'result': 'bất thường bộ phận sinh dục'}\n",
      "Input: bất thường bộ phần sinh dục | sản phụ khoa | Output: bất thường bộ phận sinh dục\n"
     ]
    },
    {
     "name": "stderr",
     "output_type": "stream",
     "text": [
      "Handle reason combind:  47%|███████████████████████████████████████████████████████▌                                                              | 754/1603 [1:44:11<1:37:40,  6.90s/it]"
     ]
    },
    {
     "name": "stdout",
     "output_type": "stream",
     "text": [
      "result after generate:  {'result': 'hạch ở nách'}\n",
      "Input: có hạch ở nách | sản phụ khoa | Output: hạch ở nách\n"
     ]
    },
    {
     "name": "stderr",
     "output_type": "stream",
     "text": [
      "Handle reason combind:  47%|███████████████████████████████████████████████████████▌                                                              | 755/1603 [1:44:27<2:16:23,  9.65s/it]"
     ]
    },
    {
     "name": "stdout",
     "output_type": "stream",
     "text": [
      "result after generate:  {'result': None}\n"
     ]
    },
    {
     "name": "stderr",
     "output_type": "stream",
     "text": [
      "Handle reason combind:  47%|███████████████████████████████████████████████████████▋                                                              | 756/1603 [1:44:27<1:38:49,  7.00s/it]"
     ]
    },
    {
     "name": "stdout",
     "output_type": "stream",
     "text": [
      "result after generate:  {'result': 'ra khí hư, đau khi quan hệ tình dục'}\n",
      "Input: ra khí hư. đau khi qhtd | sản phụ khoa | Output: ra khí hư, đau khi quan hệ tình dục\n"
     ]
    },
    {
     "name": "stderr",
     "output_type": "stream",
     "text": [
      "Handle reason combind:  47%|███████████████████████████████████████████████████████▋                                                              | 757/1603 [1:44:44<2:19:42,  9.91s/it]"
     ]
    },
    {
     "name": "stdout",
     "output_type": "stream",
     "text": [
      "result after generate:  {'result': 'xuất huyết không theo chu kỳ ở âm đạo, đau xương chậu'}\n",
      "Input: có xuất huyết không theo chu kỳ ở âm đạo, đau xương chậu trái | sản phụ khoa | Output: xuất huyết không theo chu kỳ ở âm đạo, đau xương chậu\n"
     ]
    },
    {
     "name": "stderr",
     "output_type": "stream",
     "text": [
      "Handle reason combind:  47%|███████████████████████████████████████████████████████▊                                                              | 758/1603 [1:44:49<1:56:18,  8.26s/it]"
     ]
    },
    {
     "name": "stdout",
     "output_type": "stream",
     "text": [
      "result after generate:  {'result': 'mang thai'}\n",
      "Input: khám xem có mang thai không  | sản phụ khoa | Output: mang thai\n"
     ]
    },
    {
     "name": "stderr",
     "output_type": "stream",
     "text": [
      "Handle reason combind:  47%|███████████████████████████████████████████████████████▊                                                              | 759/1603 [1:44:55<1:48:39,  7.72s/it]"
     ]
    },
    {
     "name": "stdout",
     "output_type": "stream",
     "text": [
      "result after generate:  {'result': 'khô âm đạo, giảm nội tiết'}\n",
      "Input: bị khô âm đạo giảm nội tiết muốn kiểm tra | sản phụ khoa | Output: khô âm đạo, giảm nội tiết\n"
     ]
    },
    {
     "name": "stderr",
     "output_type": "stream",
     "text": [
      "Handle reason combind:  47%|███████████████████████████████████████████████████████▉                                                              | 760/1603 [1:44:57<1:25:30,  6.09s/it]"
     ]
    },
    {
     "name": "stdout",
     "output_type": "stream",
     "text": [
      "result after generate:  {'result': 'que thử thai 1 vạch rõ 1 vạch mờ'}\n",
      "Input: khám thai - que thử thai 1 vạch rõ 1 vạch mờ | sản phụ khoa | Output: que thử thai 1 vạch rõ 1 vạch mờ\n"
     ]
    },
    {
     "name": "stderr",
     "output_type": "stream",
     "text": [
      "Handle reason combind:  47%|████████████████████████████████████████████████████████                                                              | 761/1603 [1:45:05<1:33:59,  6.70s/it]"
     ]
    },
    {
     "name": "stdout",
     "output_type": "stream",
     "text": [
      "result after generate:  {'result': 'khám sau sạch kinh'}\n",
      "Input: khám sau sạch kinh 2_3ngày | sản phụ khoa | Output: khám sau sạch kinh\n"
     ]
    },
    {
     "name": "stderr",
     "output_type": "stream",
     "text": [
      "Handle reason combind:  48%|████████████████████████████████████████████████████████                                                              | 762/1603 [1:45:21<2:12:02,  9.42s/it]"
     ]
    },
    {
     "name": "stdout",
     "output_type": "stream",
     "text": [
      "result after generate:  {'result': 'kinh ít'}\n",
      "Input: sinh mổ sau 13 tháng có kinh nhưng kinh ít | sản phụ khoa | Output: kinh ít\n"
     ]
    },
    {
     "name": "stderr",
     "output_type": "stream",
     "text": [
      "Handle reason combind:  48%|████████████████████████████████████████████████████████▏                                                             | 763/1603 [1:45:23<1:40:09,  7.15s/it]"
     ]
    },
    {
     "name": "stdout",
     "output_type": "stream",
     "text": [
      "result after generate:  {'result': 'phát hiện thai'}\n",
      "Input: khám phát hiện thai | sản phụ khoa | Output: phát hiện thai\n"
     ]
    },
    {
     "name": "stderr",
     "output_type": "stream",
     "text": [
      "Handle reason combind:  48%|████████████████████████████████████████████████████████▏                                                             | 764/1603 [1:45:39<2:16:35,  9.77s/it]"
     ]
    },
    {
     "name": "stdout",
     "output_type": "stream",
     "text": [
      "result after generate:  {'result': None}\n"
     ]
    },
    {
     "name": "stderr",
     "output_type": "stream",
     "text": [
      "Handle reason combind:  48%|████████████████████████████████████████████████████████▎                                                             | 765/1603 [1:45:44<1:57:27,  8.41s/it]"
     ]
    },
    {
     "name": "stdout",
     "output_type": "stream",
     "text": [
      "result after generate:  {'result': 'đau âm ỉ bụng'}\n",
      "Input: khám theo dõi thai, đau âm ỉ bụng. | sản phụ khoa | Output: đau âm ỉ bụng\n"
     ]
    },
    {
     "name": "stderr",
     "output_type": "stream",
     "text": [
      "Handle reason combind:  48%|████████████████████████████████████████████████████████▍                                                             | 766/1603 [1:45:49<1:40:54,  7.23s/it]"
     ]
    },
    {
     "name": "stdout",
     "output_type": "stream",
     "text": [
      "result after generate:  {'result': 'đau buốt núm vú, bầu sát núm vú'}\n",
      "Input: đau buốt núm vú và bầu sát núm vú | sản phụ khoa | Output: đau buốt núm vú, bầu sát núm vú\n"
     ]
    },
    {
     "name": "stderr",
     "output_type": "stream",
     "text": [
      "Handle reason combind:  48%|████████████████████████████████████████████████████████▍                                                             | 767/1603 [1:45:57<1:45:13,  7.55s/it]"
     ]
    },
    {
     "name": "stdout",
     "output_type": "stream",
     "text": [
      "result after generate:  {'result': 'sơ vú'}\n",
      "Input: khám nhân sơ vú | sản phụ khoa | Output: sơ vú\n"
     ]
    },
    {
     "name": "stderr",
     "output_type": "stream",
     "text": [
      "Handle reason combind:  48%|████████████████████████████████████████████████████████▌                                                             | 768/1603 [1:46:00<1:24:52,  6.10s/it]"
     ]
    },
    {
     "name": "stdout",
     "output_type": "stream",
     "text": [
      "result after generate:  {'result': 'khí hư bất thường'}\n",
      "Input: ra khí hư bất thường giữa chu kỳ kinh nguyệt | sản phụ khoa | Output: khí hư bất thường\n"
     ]
    },
    {
     "name": "stderr",
     "output_type": "stream",
     "text": [
      "Handle reason combind:  48%|████████████████████████████████████████████████████████▌                                                             | 769/1603 [1:46:14<1:58:12,  8.50s/it]"
     ]
    },
    {
     "name": "stdout",
     "output_type": "stream",
     "text": [
      "result after generate:  {'result': None}\n"
     ]
    },
    {
     "name": "stderr",
     "output_type": "stream",
     "text": [
      "Handle reason combind:  48%|████████████████████████████████████████████████████████▋                                                             | 770/1603 [1:46:15<1:27:23,  6.29s/it]"
     ]
    },
    {
     "name": "stdout",
     "output_type": "stream",
     "text": [
      "result after generate:  {'result': 'vô sinh'}\n",
      "Input: 6 tháng chưa có em bé | sản phụ khoa | Output: vô sinh\n"
     ]
    },
    {
     "name": "stderr",
     "output_type": "stream",
     "text": [
      "Handle reason combind:  48%|████████████████████████████████████████████████████████▊                                                             | 771/1603 [1:46:31<2:06:19,  9.11s/it]"
     ]
    },
    {
     "name": "stdout",
     "output_type": "stream",
     "text": [
      "result after generate:  {'result': None}\n"
     ]
    },
    {
     "name": "stderr",
     "output_type": "stream",
     "text": [
      "Handle reason combind:  48%|████████████████████████████████████████████████████████▊                                                             | 772/1603 [1:46:32<1:32:19,  6.67s/it]"
     ]
    },
    {
     "name": "stdout",
     "output_type": "stream",
     "text": [
      "result after generate:  {'result': None}\n"
     ]
    },
    {
     "name": "stderr",
     "output_type": "stream",
     "text": [
      "Handle reason combind:  48%|████████████████████████████████████████████████████████▉                                                             | 773/1603 [1:46:49<2:16:00,  9.83s/it]"
     ]
    },
    {
     "name": "stdout",
     "output_type": "stream",
     "text": [
      "result after generate:  {'result': 'u buồng trứng'}\n",
      "Input: u buồng trứng | sản phụ khoa | Output: u buồng trứng\n"
     ]
    },
    {
     "name": "stderr",
     "output_type": "stream",
     "text": [
      "Handle reason combind:  48%|████████████████████████████████████████████████████████▉                                                             | 774/1603 [1:46:50<1:41:24,  7.34s/it]"
     ]
    },
    {
     "name": "stdout",
     "output_type": "stream",
     "text": [
      "result after generate:  {'result': 'cục hạch nhỏ ở ngực'}\n",
      "Input: có cục hạch nhỏ ở ngực | sản phụ khoa | Output: cục hạch nhỏ ở ngực\n"
     ]
    },
    {
     "name": "stderr",
     "output_type": "stream",
     "text": [
      "Handle reason combind:  48%|█████████████████████████████████████████████████████████                                                             | 775/1603 [1:47:08<2:22:41, 10.34s/it]"
     ]
    },
    {
     "name": "stdout",
     "output_type": "stream",
     "text": [
      "result after generate:  {'result': 'sưng, đau vùng âm đạo'}\n",
      "Input: bị sưng đau vùng âm đạo | sản phụ khoa | Output: sưng, đau vùng âm đạo\n"
     ]
    },
    {
     "name": "stderr",
     "output_type": "stream",
     "text": [
      "Handle reason combind:  48%|█████████████████████████████████████████████████████████                                                             | 776/1603 [1:47:08<1:43:04,  7.48s/it]"
     ]
    },
    {
     "name": "stdout",
     "output_type": "stream",
     "text": [
      "result after generate:  {'result': 'đa u sơ tử cung'}\n",
      "Input: phụ khoa, đa u sơ tử cung | sản phụ khoa | Output: đa u sơ tử cung\n"
     ]
    },
    {
     "name": "stderr",
     "output_type": "stream",
     "text": [
      "Handle reason combind:  48%|█████████████████████████████████████████████████████████▏                                                            | 777/1603 [1:47:25<2:21:34, 10.28s/it]"
     ]
    },
    {
     "name": "stdout",
     "output_type": "stream",
     "text": [
      "result after generate:  {'result': 'đau buốt khi đi tiểu, đái dắt, đái ra máu'}\n",
      "Input: đau buốt khi đi tiểu cuối kỳ kinh, đái dắt, đái ra máu | sản phụ khoa | Output: đau buốt khi đi tiểu, đái dắt, đái ra máu\n"
     ]
    },
    {
     "name": "stderr",
     "output_type": "stream",
     "text": [
      "Handle reason combind:  49%|█████████████████████████████████████████████████████████▎                                                            | 778/1603 [1:47:26<1:41:55,  7.41s/it]"
     ]
    },
    {
     "name": "stdout",
     "output_type": "stream",
     "text": [
      "result after generate:  {'result': 'đau bụng vùng dưới, ung thư'}\n",
      "Input: thỉnh thoảng đau bụng vùng dưới, làm kiểm tra tầm soát tế bào ung thư ctc | sản phụ khoa | Output: đau bụng vùng dưới, ung thư\n"
     ]
    },
    {
     "name": "stderr",
     "output_type": "stream",
     "text": [
      "Handle reason combind:  49%|█████████████████████████████████████████████████████████▎                                                            | 779/1603 [1:47:34<1:44:01,  7.57s/it]"
     ]
    },
    {
     "name": "stdout",
     "output_type": "stream",
     "text": [
      "result after generate:  {'result': 'trễ kinh'}\n",
      "Input: trể kinh | sản phụ khoa | Output: trễ kinh\n"
     ]
    },
    {
     "name": "stderr",
     "output_type": "stream",
     "text": [
      "Handle reason combind:  49%|█████████████████████████████████████████████████████████▍                                                            | 780/1603 [1:47:40<1:37:31,  7.11s/it]"
     ]
    },
    {
     "name": "stdout",
     "output_type": "stream",
     "text": [
      "result after generate:  {'result': 'viêm phụ khoa'}\n",
      "Input: viêm phụ khoa , tháo que tránh thai | sản phụ khoa | Output: viêm phụ khoa\n"
     ]
    },
    {
     "name": "stderr",
     "output_type": "stream",
     "text": [
      "Handle reason combind:  49%|█████████████████████████████████████████████████████████▍                                                            | 781/1603 [1:47:46<1:32:19,  6.74s/it]"
     ]
    },
    {
     "name": "stdout",
     "output_type": "stream",
     "text": [
      "result after generate:  {'result': 'u vú'}\n",
      "Input: tầm soát u vú | sản phụ khoa | Output: u vú\n"
     ]
    },
    {
     "name": "stderr",
     "output_type": "stream",
     "text": [
      "Handle reason combind:  49%|█████████████████████████████████████████████████████████▌                                                            | 782/1603 [1:47:52<1:28:45,  6.49s/it]"
     ]
    },
    {
     "name": "stdout",
     "output_type": "stream",
     "text": [
      "result after generate:  {'result': 'ngứa da, đau bụng'}\n",
      "Input: khám sản khoa, mới có bầu 2-4 tuần, bị ngứa da đêm khuya (đã bị 3 tháng) và bị đau bụng (rên rên trong ngườ | sản phụ khoa | Output: ngứa da, đau bụng\n"
     ]
    },
    {
     "name": "stderr",
     "output_type": "stream",
     "text": [
      "Handle reason combind:  49%|█████████████████████████████████████████████████████████▋                                                            | 783/1603 [1:48:00<1:36:24,  7.05s/it]"
     ]
    },
    {
     "name": "stdout",
     "output_type": "stream",
     "text": [
      "result after generate:  {'result': None}\n"
     ]
    },
    {
     "name": "stderr",
     "output_type": "stream",
     "text": [
      "Handle reason combind:  49%|█████████████████████████████████████████████████████████▋                                                            | 784/1603 [1:48:02<1:14:18,  5.44s/it]"
     ]
    },
    {
     "name": "stdout",
     "output_type": "stream",
     "text": [
      "result after generate:  {'result': 'thử thai 2 vạch'}\n",
      "Input: tiêm vaccine đầu tháng 3 trong tháng nhưng thử thai 2 vạch vào cuối tháng 3 | sản phụ khoa | Output: thử thai 2 vạch\n"
     ]
    },
    {
     "name": "stderr",
     "output_type": "stream",
     "text": [
      "Handle reason combind:  49%|█████████████████████████████████████████████████████████▊                                                            | 785/1603 [1:48:20<2:08:31,  9.43s/it]"
     ]
    },
    {
     "name": "stdout",
     "output_type": "stream",
     "text": [
      "result after generate:  {'result': None}\n"
     ]
    },
    {
     "name": "stderr",
     "output_type": "stream",
     "text": [
      "Handle reason combind:  49%|█████████████████████████████████████████████████████████▊                                                            | 786/1603 [1:48:22<1:35:52,  7.04s/it]"
     ]
    },
    {
     "name": "stdout",
     "output_type": "stream",
     "text": [
      "result after generate:  {'result': 'vi vôi hoá vú'}\n",
      "Input: siêu âm vi vôi hoá vú phải | sản phụ khoa | Output: vi vôi hoá vú\n"
     ]
    },
    {
     "name": "stderr",
     "output_type": "stream",
     "text": [
      "Handle reason combind:  49%|█████████████████████████████████████████████████████████▉                                                            | 787/1603 [1:48:39<2:16:05, 10.01s/it]"
     ]
    },
    {
     "name": "stdout",
     "output_type": "stream",
     "text": [
      "result after generate:  {'result': 'tầm soát vũ, phụ khoa'}\n",
      "Input: tầm soát vũ và phụ khoa | sản phụ khoa | Output: tầm soát vũ, phụ khoa\n"
     ]
    },
    {
     "name": "stderr",
     "output_type": "stream",
     "text": [
      "Handle reason combind:  49%|██████████████████████████████████████████████████████████                                                            | 788/1603 [1:48:41<1:44:00,  7.66s/it]"
     ]
    },
    {
     "name": "stdout",
     "output_type": "stream",
     "text": [
      "result after generate:  {'result': 'mụn cóc, viêm nhiễm, virut HPV'}\n",
      "Input: khám phụ khoa , kiểm tra mụn cóc , là mụn do viêm nhiễm hay virut hpv , gây nên | sản phụ khoa | Output: mụn cóc, viêm nhiễm, virut HPV\n"
     ]
    },
    {
     "name": "stderr",
     "output_type": "stream",
     "text": [
      "Handle reason combind:  49%|██████████████████████████████████████████████████████████                                                            | 789/1603 [1:48:57<2:15:37, 10.00s/it]"
     ]
    },
    {
     "name": "stdout",
     "output_type": "stream",
     "text": [
      "result after generate:  {'result': 'khí hư màu đục, khí hư màu đỏ'}\n",
      "Input: ra khí hư màu đục kèm theo màu đỏ | sản phụ khoa | Output: khí hư màu đục, khí hư màu đỏ\n"
     ]
    },
    {
     "name": "stderr",
     "output_type": "stream",
     "text": [
      "Handle reason combind:  49%|██████████████████████████████████████████████████████████▏                                                           | 790/1603 [1:48:58<1:39:42,  7.36s/it]"
     ]
    },
    {
     "name": "stdout",
     "output_type": "stream",
     "text": [
      "result after generate:  {'result': 'đau bụng bên trái, đau sau kì kinh'}\n",
      "Input: đau bụng bên trái trong và sau kì kinh | sản phụ khoa | Output: đau bụng bên trái, đau sau kì kinh\n"
     ]
    },
    {
     "name": "stderr",
     "output_type": "stream",
     "text": [
      "Handle reason combind:  49%|██████████████████████████████████████████████████████████▏                                                           | 791/1603 [1:49:17<2:27:25, 10.89s/it]"
     ]
    },
    {
     "name": "stdout",
     "output_type": "stream",
     "text": [
      "result after generate:  {'result': 'dịch trắng dính ở âm đạo'}\n",
      "Input: có dịch trắng dính ở âm đạo | sản phụ khoa | Output: dịch trắng dính ở âm đạo\n"
     ]
    },
    {
     "name": "stderr",
     "output_type": "stream",
     "text": [
      "Handle reason combind:  49%|██████████████████████████████████████████████████████████▎                                                           | 792/1603 [1:49:21<1:59:43,  8.86s/it]"
     ]
    },
    {
     "name": "stdout",
     "output_type": "stream",
     "text": [
      "result after generate:  {'result': None}\n"
     ]
    },
    {
     "name": "stderr",
     "output_type": "stream",
     "text": [
      "Handle reason combind:  49%|██████████████████████████████████████████████████████████▎                                                           | 793/1603 [1:49:25<1:41:33,  7.52s/it]"
     ]
    },
    {
     "name": "stdout",
     "output_type": "stream",
     "text": [
      "result after generate:  {'result': 'u ở vú'}\n",
      "Input: có 04 u ở vú phải | sản phụ khoa | Output: u ở vú\n"
     ]
    },
    {
     "name": "stderr",
     "output_type": "stream",
     "text": [
      "Handle reason combind:  50%|██████████████████████████████████████████████████████████▍                                                           | 794/1603 [1:49:33<1:43:16,  7.66s/it]"
     ]
    },
    {
     "name": "stdout",
     "output_type": "stream",
     "text": [
      "result after generate:  {'result': 'khí hư nhiều, ngứa, đái buốt'}\n",
      "Input: ra nhiều khí hư , ngứa, đái buốt | sản phụ khoa | Output: khí hư nhiều, ngứa, đái buốt\n"
     ]
    },
    {
     "name": "stderr",
     "output_type": "stream",
     "text": [
      "Handle reason combind:  50%|██████████████████████████████████████████████████████████▌                                                           | 795/1603 [1:49:38<1:32:29,  6.87s/it]"
     ]
    },
    {
     "name": "stdout",
     "output_type": "stream",
     "text": [
      "result after generate:  {'result': 'kì kinh kéo dài'}\n",
      "Input: kì kinh kéo dài trên 10 ngày | sản phụ khoa | Output: kì kinh kéo dài\n"
     ]
    },
    {
     "name": "stderr",
     "output_type": "stream",
     "text": [
      "Handle reason combind:  50%|██████████████████████████████████████████████████████████▌                                                           | 796/1603 [1:49:53<2:03:24,  9.18s/it]"
     ]
    },
    {
     "name": "stdout",
     "output_type": "stream",
     "text": [
      "result after generate:  {'result': 'viêm cổ tử cung'}\n",
      "Input: tái khám viêm cổ tử cung | sản phụ khoa | Output: viêm cổ tử cung\n"
     ]
    },
    {
     "name": "stderr",
     "output_type": "stream",
     "text": [
      "Handle reason combind:  50%|██████████████████████████████████████████████████████████▋                                                           | 797/1603 [1:50:01<1:56:52,  8.70s/it]"
     ]
    },
    {
     "name": "stdout",
     "output_type": "stream",
     "text": [
      "result after generate:  {'result': 'muốn sinh con thứ 2'}\n",
      "Input: kiểm tra xem có thể sinh thêm em bé thứ 2 hay không | sản phụ khoa | Output: muốn sinh con thứ 2\n"
     ]
    },
    {
     "name": "stderr",
     "output_type": "stream",
     "text": [
      "Handle reason combind:  50%|██████████████████████████████████████████████████████████▋                                                           | 798/1603 [1:50:07<1:47:47,  8.03s/it]"
     ]
    },
    {
     "name": "stdout",
     "output_type": "stream",
     "text": [
      "result after generate:  {'result': 'đau vùng dưới'}\n",
      "Input: đau vùng dưới | sản phụ khoa | Output: đau vùng dưới\n"
     ]
    },
    {
     "name": "stderr",
     "output_type": "stream",
     "text": [
      "Handle reason combind:  50%|██████████████████████████████████████████████████████████▊                                                           | 799/1603 [1:50:09<1:23:03,  6.20s/it]"
     ]
    },
    {
     "name": "stdout",
     "output_type": "stream",
     "text": [
      "result after generate:  {'result': 'đau ở vú, u cứng ở vú'}\n",
      "Input: đau ở vú bên phải,  sờ thấy có 1 cục u cứng ở trong vú. | sản phụ khoa | Output: đau ở vú, u cứng ở vú\n"
     ]
    },
    {
     "name": "stderr",
     "output_type": "stream",
     "text": [
      "Handle reason combind:  50%|██████████████████████████████████████████████████████████▉                                                           | 800/1603 [1:50:26<2:06:19,  9.44s/it]"
     ]
    },
    {
     "name": "stdout",
     "output_type": "stream",
     "text": [
      "result after generate:  {'result': 'chảy dịch đầu vú'}\n",
      "Input: chảy dịch đầu vú | sản phụ khoa | Output: chảy dịch đầu vú\n"
     ]
    },
    {
     "name": "stderr",
     "output_type": "stream",
     "text": [
      "Handle reason combind:  50%|██████████████████████████████████████████████████████████▉                                                           | 801/1603 [1:50:27<1:31:47,  6.87s/it]"
     ]
    },
    {
     "name": "stdout",
     "output_type": "stream",
     "text": [
      "result after generate:  {'result': 'khám sinh sản tiền hôn nhân'}\n",
      "Input: khám sinh sản tiền hôn nhân | sản phụ khoa | Output: khám sinh sản tiền hôn nhân\n"
     ]
    },
    {
     "name": "stderr",
     "output_type": "stream",
     "text": [
      "Handle reason combind:  50%|███████████████████████████████████████████████████████████                                                           | 802/1603 [1:50:43<2:07:34,  9.56s/it]"
     ]
    },
    {
     "name": "stdout",
     "output_type": "stream",
     "text": [
      "result after generate:  {'result': 'tức bụng'}\n",
      "Input: tức bụng | sản phụ khoa | Output: tức bụng\n"
     ]
    },
    {
     "name": "stderr",
     "output_type": "stream",
     "text": [
      "Handle reason combind:  50%|███████████████████████████████████████████████████████████                                                           | 803/1603 [1:50:51<2:01:07,  9.08s/it]"
     ]
    },
    {
     "name": "stdout",
     "output_type": "stream",
     "text": [
      "result after generate:  {'result': 'ngứa vùng mu'}\n",
      "Input: ngứa vùng mu | sản phụ khoa | Output: ngứa vùng mu\n"
     ]
    },
    {
     "name": "stderr",
     "output_type": "stream",
     "text": [
      "Handle reason combind:  50%|███████████████████████████████████████████████████████████▏                                                          | 804/1603 [1:50:59<1:58:13,  8.88s/it]"
     ]
    },
    {
     "name": "stdout",
     "output_type": "stream",
     "text": [
      "result after generate:  {'result': 'mào gà ở âm đạo'}\n",
      "Input: xét nghiệm hpv, có xuất hiện triệu chứng như mào gà ở âm đạo | sản phụ khoa | Output: mào gà ở âm đạo\n"
     ]
    },
    {
     "name": "stderr",
     "output_type": "stream",
     "text": [
      "Handle reason combind:  50%|███████████████████████████████████████████████████████████▎                                                          | 805/1603 [1:51:14<2:21:36, 10.65s/it]"
     ]
    },
    {
     "name": "stdout",
     "output_type": "stream",
     "text": [
      "result after generate:  {'result': None}\n"
     ]
    },
    {
     "name": "stderr",
     "output_type": "stream",
     "text": [
      "Handle reason combind:  50%|███████████████████████████████████████████████████████████▎                                                          | 806/1603 [1:51:16<1:49:29,  8.24s/it]"
     ]
    },
    {
     "name": "stdout",
     "output_type": "stream",
     "text": [
      "result after generate:  {'result': 'ung thư vú'}\n",
      "Input: khám, sinh thiết, xét nghiệm ung thư vú | sản phụ khoa | Output: ung thư vú\n"
     ]
    },
    {
     "name": "stderr",
     "output_type": "stream",
     "text": [
      "Handle reason combind:  50%|███████████████████████████████████████████████████████████▍                                                          | 807/1603 [1:51:25<1:49:33,  8.26s/it]"
     ]
    },
    {
     "name": "stdout",
     "output_type": "stream",
     "text": [
      "result after generate:  {'result': None}\n"
     ]
    },
    {
     "name": "stderr",
     "output_type": "stream",
     "text": [
      "Handle reason combind:  50%|███████████████████████████████████████████████████████████▍                                                          | 808/1603 [1:51:41<2:19:50, 10.55s/it]"
     ]
    },
    {
     "name": "stdout",
     "output_type": "stream",
     "text": [
      "result after generate:  {'result': 'đi tiểu đau'}\n",
      "Input: đi tiểu đau | sản phụ khoa | Output: đi tiểu đau\n"
     ]
    },
    {
     "name": "stderr",
     "output_type": "stream",
     "text": [
      "Handle reason combind:  50%|███████████████████████████████████████████████████████████▌                                                          | 809/1603 [1:51:45<1:56:59,  8.84s/it]"
     ]
    },
    {
     "name": "stdout",
     "output_type": "stream",
     "text": [
      "result after generate:  {'result': None}\n"
     ]
    },
    {
     "name": "stderr",
     "output_type": "stream",
     "text": [
      "Handle reason combind:  51%|███████████████████████████████████████████████████████████▋                                                          | 810/1603 [1:51:56<2:03:20,  9.33s/it]"
     ]
    },
    {
     "name": "stdout",
     "output_type": "stream",
     "text": [
      "result after generate:  {'result': 'u bên ngực trái'}\n",
      "Input: bên ngực trái có u. muốn xét nghiệm sinh tiết | sản phụ khoa | Output: u bên ngực trái\n"
     ]
    },
    {
     "name": "stderr",
     "output_type": "stream",
     "text": [
      "Handle reason combind:  51%|███████████████████████████████████████████████████████████▋                                                          | 811/1603 [1:52:07<2:09:12,  9.79s/it]"
     ]
    },
    {
     "name": "stdout",
     "output_type": "stream",
     "text": [
      "result after generate:  {'result': 'kinh nguyệt ra nhiều, chóng mặt'}\n",
      "Input: kinh ra nhiều, chóng mặt | sản phụ khoa | Output: kinh nguyệt ra nhiều, chóng mặt\n"
     ]
    },
    {
     "name": "stderr",
     "output_type": "stream",
     "text": [
      "Handle reason combind:  51%|███████████████████████████████████████████████████████████▊                                                          | 812/1603 [1:52:09<1:39:21,  7.54s/it]"
     ]
    },
    {
     "name": "stdout",
     "output_type": "stream",
     "text": [
      "result after generate:  {'result': 'vú'}\n",
      "Input: nhân vú | sản phụ khoa | Output: vú\n"
     ]
    },
    {
     "name": "stderr",
     "output_type": "stream",
     "text": [
      "Handle reason combind:  51%|███████████████████████████████████████████████████████████▊                                                          | 813/1603 [1:52:17<1:38:55,  7.51s/it]"
     ]
    },
    {
     "name": "stdout",
     "output_type": "stream",
     "text": [
      "result after generate:  {'result': None}\n"
     ]
    },
    {
     "name": "stderr",
     "output_type": "stream",
     "text": [
      "Handle reason combind:  51%|███████████████████████████████████████████████████████████▉                                                          | 814/1603 [1:52:25<1:40:53,  7.67s/it]"
     ]
    },
    {
     "name": "stdout",
     "output_type": "stream",
     "text": [
      "result after generate:  {'result': None}\n"
     ]
    },
    {
     "name": "stderr",
     "output_type": "stream",
     "text": [
      "Handle reason combind:  51%|███████████████████████████████████████████████████████████▉                                                          | 815/1603 [1:52:34<1:47:23,  8.18s/it]"
     ]
    },
    {
     "name": "stdout",
     "output_type": "stream",
     "text": [
      "result after generate:  {'result': 'ngứa vùng kín, khó chịu, ra dịch trắng bất thường'}\n",
      "Input: ngứa vùng kín gây khó chịu, ra dịch trắng bất thường | sản phụ khoa | Output: ngứa vùng kín, khó chịu, ra dịch trắng bất thường\n"
     ]
    },
    {
     "name": "stderr",
     "output_type": "stream",
     "text": [
      "Handle reason combind:  51%|████████████████████████████████████████████████████████████                                                          | 816/1603 [1:52:36<1:21:31,  6.22s/it]"
     ]
    },
    {
     "name": "stdout",
     "output_type": "stream",
     "text": [
      "result after generate:  {'result': 'ra dịch ko màu, sưng tấy'}\n",
      "Input: bộ phận sinh dục ra dịch ko màu, có hiện tượng sưng tấy | sản phụ khoa | Output: ra dịch ko màu, sưng tấy\n"
     ]
    },
    {
     "name": "stderr",
     "output_type": "stream",
     "text": [
      "Handle reason combind:  51%|████████████████████████████████████████████████████████████▏                                                         | 817/1603 [1:52:42<1:20:38,  6.16s/it]"
     ]
    },
    {
     "name": "stdout",
     "output_type": "stream",
     "text": [
      "result after generate:  {'result': 'thai mốc 12 tuần'}\n",
      "Input: khám thai mốc 12w | sản phụ khoa | Output: thai mốc 12 tuần\n"
     ]
    },
    {
     "name": "stderr",
     "output_type": "stream",
     "text": [
      "Handle reason combind:  51%|████████████████████████████████████████████████████████████▏                                                         | 818/1603 [1:52:47<1:16:14,  5.83s/it]"
     ]
    },
    {
     "name": "stdout",
     "output_type": "stream",
     "text": [
      "result after generate:  {'result': None}\n"
     ]
    },
    {
     "name": "stderr",
     "output_type": "stream",
     "text": [
      "Handle reason combind:  51%|████████████████████████████████████████████████████████████▎                                                         | 819/1603 [1:52:55<1:27:45,  6.72s/it]"
     ]
    },
    {
     "name": "stdout",
     "output_type": "stream",
     "text": [
      "result after generate:  {'result': None}\n"
     ]
    },
    {
     "name": "stderr",
     "output_type": "stream",
     "text": [
      "Handle reason combind:  51%|████████████████████████████████████████████████████████████▎                                                         | 820/1603 [1:52:59<1:13:46,  5.65s/it]"
     ]
    },
    {
     "name": "stdout",
     "output_type": "stream",
     "text": [
      "result after generate:  {'result': 'khí hư khác thường'}\n",
      "Input: âm đạo có khí hư khác thường | sản phụ khoa | Output: khí hư khác thường\n"
     ]
    },
    {
     "name": "stderr",
     "output_type": "stream",
     "text": [
      "Handle reason combind:  51%|████████████████████████████████████████████████████████████▍                                                         | 821/1603 [1:53:07<1:25:23,  6.55s/it]"
     ]
    },
    {
     "name": "stdout",
     "output_type": "stream",
     "text": [
      "result after generate:  {'result': 'mọc mụn vùng kín'}\n",
      "Input: mọc mụn vùng kín | sản phụ khoa | Output: mọc mụn vùng kín\n"
     ]
    },
    {
     "name": "stderr",
     "output_type": "stream",
     "text": [
      "Handle reason combind:  51%|████████████████████████████████████████████████████████████▌                                                         | 822/1603 [1:53:23<2:01:58,  9.37s/it]"
     ]
    },
    {
     "name": "stdout",
     "output_type": "stream",
     "text": [
      "result after generate:  {'result': 'ra khí hư màu vàng xanh, có mùi tanh'}\n",
      "Input: e bị ra khí hư màu vàng xanh có mùi tanh nhẹ 2 ngày nay. | sản phụ khoa | Output: ra khí hư màu vàng xanh, có mùi tanh\n"
     ]
    },
    {
     "name": "stderr",
     "output_type": "stream",
     "text": [
      "Handle reason combind:  51%|████████████████████████████████████████████████████████████▌                                                         | 823/1603 [1:53:29<1:49:48,  8.45s/it]"
     ]
    },
    {
     "name": "stdout",
     "output_type": "stream",
     "text": [
      "result after generate:  {'result': None}\n"
     ]
    },
    {
     "name": "stderr",
     "output_type": "stream",
     "text": [
      "Handle reason combind:  51%|████████████████████████████████████████████████████████████▋                                                         | 824/1603 [1:53:43<2:08:45,  9.92s/it]"
     ]
    },
    {
     "name": "stdout",
     "output_type": "stream",
     "text": [
      "result after generate:  {'result': 'thai tuần 31'}\n",
      "Input: khám thai tuần 31t5ngay | sản phụ khoa | Output: thai tuần 31\n"
     ]
    },
    {
     "name": "stderr",
     "output_type": "stream",
     "text": [
      "Handle reason combind:  51%|████████████████████████████████████████████████████████████▋                                                         | 825/1603 [1:53:45<1:37:35,  7.53s/it]"
     ]
    },
    {
     "name": "stdout",
     "output_type": "stream",
     "text": [
      "result after generate:  {'result': 'chậm kinh'}\n",
      "Input: chậm kinh , muốn siêu âm có thai ko | sản phụ khoa | Output: chậm kinh\n"
     ]
    },
    {
     "name": "stderr",
     "output_type": "stream",
     "text": [
      "Handle reason combind:  52%|████████████████████████████████████████████████████████████▊                                                         | 826/1603 [1:53:49<1:22:56,  6.41s/it]"
     ]
    },
    {
     "name": "stdout",
     "output_type": "stream",
     "text": [
      "result after generate:  {'result': None}\n"
     ]
    },
    {
     "name": "stderr",
     "output_type": "stream",
     "text": [
      "Handle reason combind:  52%|████████████████████████████████████████████████████████████▉                                                         | 827/1603 [1:54:05<2:02:45,  9.49s/it]"
     ]
    },
    {
     "name": "stdout",
     "output_type": "stream",
     "text": [
      "result after generate:  {'result': 'ngứa vùng kín'}\n",
      "Input: ngứa xung quanh vùng kín | sản phụ khoa | Output: ngứa vùng kín\n"
     ]
    },
    {
     "name": "stderr",
     "output_type": "stream",
     "text": [
      "Handle reason combind:  52%|████████████████████████████████████████████████████████████▉                                                         | 828/1603 [1:54:06<1:30:10,  6.98s/it]"
     ]
    },
    {
     "name": "stdout",
     "output_type": "stream",
     "text": [
      "result after generate:  {'result': 'âm đạo bị xót, khí hư có màu bất thường'}\n",
      "Input: âm đạo bị xót, khí hư có màu bất thường | sản phụ khoa | Output: âm đạo bị xót, khí hư có màu bất thường\n"
     ]
    },
    {
     "name": "stderr",
     "output_type": "stream",
     "text": [
      "Handle reason combind:  52%|█████████████████████████████████████████████████████████████                                                         | 829/1603 [1:54:23<2:08:25,  9.96s/it]"
     ]
    },
    {
     "name": "stdout",
     "output_type": "stream",
     "text": [
      "result after generate:  {'result': 'vô sinh'}\n",
      "Input: thụ tinh trong ống nghiệm ivf | sản phụ khoa | Output: vô sinh\n"
     ]
    },
    {
     "name": "stderr",
     "output_type": "stream",
     "text": [
      "Handle reason combind:  52%|█████████████████████████████████████████████████████████████                                                         | 830/1603 [1:54:25<1:35:19,  7.40s/it]"
     ]
    },
    {
     "name": "stdout",
     "output_type": "stream",
     "text": [
      "result after generate:  {'result': 'nổi mụn bất thường'}\n",
      "Input: nổi mụn bất thường | sản phụ khoa | Output: nổi mụn bất thường\n"
     ]
    },
    {
     "name": "stderr",
     "output_type": "stream",
     "text": [
      "Handle reason combind:  52%|█████████████████████████████████████████████████████████████▏                                                        | 831/1603 [1:54:34<1:42:28,  7.96s/it]"
     ]
    },
    {
     "name": "stdout",
     "output_type": "stream",
     "text": [
      "result after generate:  {'result': 'nhịp tim thai bất thường, vấn đề thai nhi'}\n",
      "Input: khám thai: kiểm tra nhịp tim thai và các vấn đề khác của thai nhi | sản phụ khoa | Output: nhịp tim thai bất thường, vấn đề thai nhi\n"
     ]
    },
    {
     "name": "stderr",
     "output_type": "stream",
     "text": [
      "Handle reason combind:  52%|█████████████████████████████████████████████████████████████▏                                                        | 832/1603 [1:54:38<1:27:09,  6.78s/it]"
     ]
    },
    {
     "name": "stdout",
     "output_type": "stream",
     "text": [
      "result after generate:  {'result': None}\n"
     ]
    },
    {
     "name": "stderr",
     "output_type": "stream",
     "text": [
      "Handle reason combind:  52%|█████████████████████████████████████████████████████████████▎                                                        | 833/1603 [1:54:48<1:39:58,  7.79s/it]"
     ]
    },
    {
     "name": "stdout",
     "output_type": "stream",
     "text": [
      "result after generate:  {'result': None}\n"
     ]
    },
    {
     "name": "stderr",
     "output_type": "stream",
     "text": [
      "Handle reason combind:  52%|█████████████████████████████████████████████████████████████▍                                                        | 834/1603 [1:54:58<1:48:21,  8.45s/it]"
     ]
    },
    {
     "name": "stdout",
     "output_type": "stream",
     "text": [
      "result after generate:  {'result': 'chậm kinh, có thể mang thai'}\n",
      "Input: chậm kinh từ 25/6, đã test 2 vạch, cần siêu âm | sản phụ khoa | Output: chậm kinh, có thể mang thai\n"
     ]
    },
    {
     "name": "stderr",
     "output_type": "stream",
     "text": [
      "Handle reason combind:  52%|█████████████████████████████████████████████████████████████▍                                                        | 835/1603 [1:54:59<1:18:37,  6.14s/it]"
     ]
    },
    {
     "name": "stdout",
     "output_type": "stream",
     "text": [
      "result after generate:  {'result': 'nghi viêm'}\n",
      "Input: nghi viêm | sản phụ khoa | Output: nghi viêm\n"
     ]
    },
    {
     "name": "stderr",
     "output_type": "stream",
     "text": [
      "Handle reason combind:  52%|█████████████████████████████████████████████████████████████▌                                                        | 836/1603 [1:55:18<2:08:06, 10.02s/it]"
     ]
    },
    {
     "name": "stdout",
     "output_type": "stream",
     "text": [
      "result after generate:  {'result': 'giãn não thấp'}\n",
      "Input: thai nhi chuẩn đoán giãn não thấp to | sản phụ khoa | Output: giãn não thấp\n"
     ]
    },
    {
     "name": "stderr",
     "output_type": "stream",
     "text": [
      "Handle reason combind:  52%|█████████████████████████████████████████████████████████████▌                                                        | 837/1603 [1:55:28<2:09:44, 10.16s/it]"
     ]
    },
    {
     "name": "stdout",
     "output_type": "stream",
     "text": [
      "result after generate:  {'result': 'thai'}\n",
      "Input: khám thau | sản phụ khoa | Output: thai\n"
     ]
    },
    {
     "name": "stderr",
     "output_type": "stream",
     "text": [
      "Handle reason combind:  52%|█████████████████████████████████████████████████████████████▋                                                        | 838/1603 [1:55:37<2:01:30,  9.53s/it]"
     ]
    },
    {
     "name": "stdout",
     "output_type": "stream",
     "text": [
      "result after generate:  {'result': 'siêu âm'}\n",
      "Input: khám sản và siêu âm | sản phụ khoa | Output: siêu âm\n"
     ]
    },
    {
     "name": "stderr",
     "output_type": "stream",
     "text": [
      "Handle reason combind:  52%|█████████████████████████████████████████████████████████████▊                                                        | 839/1603 [1:55:47<2:05:29,  9.85s/it]"
     ]
    },
    {
     "name": "stdout",
     "output_type": "stream",
     "text": [
      "result after generate:  {'result': None}\n"
     ]
    },
    {
     "name": "stderr",
     "output_type": "stream",
     "text": [
      "Handle reason combind:  52%|█████████████████████████████████████████████████████████████▊                                                        | 840/1603 [1:56:03<2:27:29, 11.60s/it]"
     ]
    },
    {
     "name": "stdout",
     "output_type": "stream",
     "text": [
      "result after generate:  {'result': 'đau bụng dưới, tức bụng dưới, ra máu thâm đen, mang thai'}\n",
      "Input: em đang mang thai tuần thứ 10, dạo này em rất hay bị đau và tức ở bụng dưới, thỉnh thoảng bị ra máu thâm đen. | sản phụ khoa | Output: đau bụng dưới, tức bụng dưới, ra máu thâm đen, mang thai\n"
     ]
    },
    {
     "name": "stderr",
     "output_type": "stream",
     "text": [
      "Handle reason combind:  52%|█████████████████████████████████████████████████████████████▉                                                        | 841/1603 [1:56:05<1:50:08,  8.67s/it]"
     ]
    },
    {
     "name": "stdout",
     "output_type": "stream",
     "text": [
      "result after generate:  {'result': 'viêm tủy dịch âm đạo'}\n",
      "Input: viêm tuyen dịch âm đạo | sản phụ khoa | Output: viêm tủy dịch âm đạo\n"
     ]
    },
    {
     "name": "stderr",
     "output_type": "stream",
     "text": [
      "Handle reason combind:  53%|█████████████████████████████████████████████████████████████▉                                                        | 842/1603 [1:56:14<1:51:28,  8.79s/it]"
     ]
    },
    {
     "name": "stdout",
     "output_type": "stream",
     "text": [
      "result after generate:  {'result': 'ngứa âm đạo'}\n",
      "Input: khám do thấy ngứa âm đạo | sản phụ khoa | Output: ngứa âm đạo\n"
     ]
    },
    {
     "name": "stderr",
     "output_type": "stream",
     "text": [
      "Handle reason combind:  53%|██████████████████████████████████████████████████████████████                                                        | 843/1603 [1:56:15<1:21:33,  6.44s/it]"
     ]
    },
    {
     "name": "stdout",
     "output_type": "stream",
     "text": [
      "result after generate:  {'result': None}\n"
     ]
    },
    {
     "name": "stderr",
     "output_type": "stream",
     "text": [
      "Handle reason combind:  53%|██████████████████████████████████████████████████████████████▏                                                       | 844/1603 [1:56:32<2:03:32,  9.77s/it]"
     ]
    },
    {
     "name": "stdout",
     "output_type": "stream",
     "text": [
      "result after generate:  {'result': 'khí hư xanh'}\n",
      "Input: ra khí hư xanh nhiều | sản phụ khoa | Output: khí hư xanh\n"
     ]
    },
    {
     "name": "stderr",
     "output_type": "stream",
     "text": [
      "Handle reason combind:  53%|██████████████████████████████████████████████████████████████▏                                                       | 845/1603 [1:56:35<1:36:26,  7.63s/it]"
     ]
    },
    {
     "name": "stdout",
     "output_type": "stream",
     "text": [
      "result after generate:  {'result': 'ngứa âm hộ'}\n",
      "Input: ngứa âm hộ | sản phụ khoa | Output: ngứa âm hộ\n"
     ]
    },
    {
     "name": "stderr",
     "output_type": "stream",
     "text": [
      "Handle reason combind:  53%|██████████████████████████████████████████████████████████████▎                                                       | 846/1603 [1:56:43<1:39:21,  7.88s/it]"
     ]
    },
    {
     "name": "stdout",
     "output_type": "stream",
     "text": [
      "result after generate:  {'result': None}\n"
     ]
    },
    {
     "name": "stderr",
     "output_type": "stream",
     "text": [
      "Handle reason combind:  53%|██████████████████████████████████████████████████████████████▎                                                       | 847/1603 [1:56:47<1:22:48,  6.57s/it]"
     ]
    },
    {
     "name": "stdout",
     "output_type": "stream",
     "text": [
      "result after generate:  {'result': 'có bầu'}\n",
      "Input: có bầu | sản phụ khoa | Output: có bầu\n"
     ]
    },
    {
     "name": "stderr",
     "output_type": "stream",
     "text": [
      "Handle reason combind:  53%|██████████████████████████████████████████████████████████████▍                                                       | 848/1603 [1:56:55<1:27:56,  6.99s/it]"
     ]
    },
    {
     "name": "stdout",
     "output_type": "stream",
     "text": [
      "result after generate:  {'result': 'nổi mẩn đỏ, lông mu vùng kín'}\n",
      "Input: nổi mẩn đỏ lông mu vùng kín | sản phụ khoa | Output: nổi mẩn đỏ, lông mu vùng kín\n"
     ]
    },
    {
     "name": "stderr",
     "output_type": "stream",
     "text": [
      "Handle reason combind:  53%|██████████████████████████████████████████████████████████████▍                                                       | 849/1603 [1:57:01<1:23:55,  6.68s/it]"
     ]
    },
    {
     "name": "stdout",
     "output_type": "stream",
     "text": [
      "result after generate:  {'result': 'khí hư ra nhiều, vón cục bã đậu, có màu hơi trắng đục, hơi vàng, không mùi, ngứa ở vùng kín'}\n",
      "Input: khí hư ra nhiều, vón cục bã đậu, có màu hơi trắng đục, hơi vàng, không mùi. cảm thấy ngứa ở vùng kín | sản phụ khoa | Output: khí hư ra nhiều, vón cục bã đậu, có màu hơi trắng đục, hơi vàng, không mùi, ngứa ở vùng kín\n"
     ]
    },
    {
     "name": "stderr",
     "output_type": "stream",
     "text": [
      "Handle reason combind:  53%|██████████████████████████████████████████████████████████████▌                                                       | 850/1603 [1:57:05<1:15:20,  6.00s/it]"
     ]
    },
    {
     "name": "stdout",
     "output_type": "stream",
     "text": [
      "result after generate:  {'result': 'ngứa phụ khoa'}\n",
      "Input: ngứa pk | sản phụ khoa | Output: ngứa phụ khoa\n"
     ]
    },
    {
     "name": "stderr",
     "output_type": "stream",
     "text": [
      "Handle reason combind:  53%|██████████████████████████████████████████████████████████████▋                                                       | 851/1603 [1:57:11<1:14:17,  5.93s/it]"
     ]
    },
    {
     "name": "stdout",
     "output_type": "stream",
     "text": [
      "result after generate:  {'result': 'viêm nhiễm phụ khoa, ung thư phụ khoa, u nang buồng trứng, viêm cổ tử cung'}\n",
      "Input: khám và điều trị các bệnh lý phụ khoa\n",
      "viêm nhiễm phụ khoa\n",
      "ung thư phụ khoa\n",
      "u nang buồng trứngviêm cổ tử cung | sản phụ khoa | Output: viêm nhiễm phụ khoa, ung thư phụ khoa, u nang buồng trứng, viêm cổ tử cung\n"
     ]
    },
    {
     "name": "stderr",
     "output_type": "stream",
     "text": [
      "Handle reason combind:  53%|██████████████████████████████████████████████████████████████▋                                                       | 852/1603 [1:57:16<1:12:50,  5.82s/it]"
     ]
    },
    {
     "name": "stdout",
     "output_type": "stream",
     "text": [
      "result after generate:  {'result': 'ngứa ngoài âm đạo, đau rát khi quan hệ'}\n",
      "Input: ngứa ngoài âm đao\n",
      "đau rát khi quan hệ | sản phụ khoa | Output: ngứa ngoài âm đạo, đau rát khi quan hệ\n"
     ]
    },
    {
     "name": "stderr",
     "output_type": "stream",
     "text": [
      "Handle reason combind:  53%|██████████████████████████████████████████████████████████████▊                                                       | 853/1603 [1:57:29<1:37:58,  7.84s/it]"
     ]
    },
    {
     "name": "stdout",
     "output_type": "stream",
     "text": [
      "result after generate:  {'result': 'nhiễm nấm, bạch cầu tăng cao, nốt sáng trong tim'}\n",
      "Input: khám thai 27 tuần, ( có nhiễm nấm, bạch cầu tăng cao, em bé có nốt sáng trong tim, ( tes đường thai kỳ) | sản phụ khoa | Output: nhiễm nấm, bạch cầu tăng cao, nốt sáng trong tim\n"
     ]
    },
    {
     "name": "stderr",
     "output_type": "stream",
     "text": [
      "Handle reason combind:  53%|██████████████████████████████████████████████████████████████▊                                                       | 854/1603 [1:57:30<1:12:18,  5.79s/it]"
     ]
    },
    {
     "name": "stdout",
     "output_type": "stream",
     "text": [
      "result after generate:  {'result': 'trễ kinh, nghi có thai'}\n",
      "Input: trễ kinh, khám phụ khoa, nghi có thai | sản phụ khoa | Output: trễ kinh, nghi có thai\n"
     ]
    },
    {
     "name": "stderr",
     "output_type": "stream",
     "text": [
      "Handle reason combind:  53%|██████████████████████████████████████████████████████████████▉                                                       | 855/1603 [1:57:47<1:52:12,  9.00s/it]"
     ]
    },
    {
     "name": "stdout",
     "output_type": "stream",
     "text": [
      "result after generate:  {'result': 'đau lưng, tiểu vàng'}\n",
      "Input: đau lưng và tiểu vàng | sản phụ khoa | Output: đau lưng, tiểu vàng\n"
     ]
    },
    {
     "name": "stderr",
     "output_type": "stream",
     "text": [
      "Handle reason combind:  53%|███████████████████████████████████████████████████████████████                                                       | 856/1603 [1:57:52<1:37:10,  7.81s/it]"
     ]
    },
    {
     "name": "stdout",
     "output_type": "stream",
     "text": [
      "result after generate:  {'result': 'ung thư cổ tử cung'}\n",
      "Input: chích ngừa mũi 1 ung thư cổ tử cung | sản phụ khoa | Output: ung thư cổ tử cung\n"
     ]
    },
    {
     "name": "stderr",
     "output_type": "stream",
     "text": [
      "Handle reason combind:  53%|███████████████████████████████████████████████████████████████                                                       | 857/1603 [1:58:00<1:39:21,  7.99s/it]"
     ]
    },
    {
     "name": "stdout",
     "output_type": "stream",
     "text": [
      "result after generate:  {'result': 'null'}\n",
      "Input: khám sản phụ khoa, xquang vòi trứng | sản phụ khoa | Output: null\n"
     ]
    },
    {
     "name": "stderr",
     "output_type": "stream",
     "text": [
      "Handle reason combind:  54%|███████████████████████████████████████████████████████████████▏                                                      | 858/1603 [1:58:18<2:14:59, 10.87s/it]"
     ]
    },
    {
     "name": "stdout",
     "output_type": "stream",
     "text": [
      "result after generate:  {'result': 'nang naboth, khám phụ khoa'}\n",
      "Input: nang naboth, khám phụ khoa | sản phụ khoa | Output: nang naboth, khám phụ khoa\n"
     ]
    },
    {
     "name": "stderr",
     "output_type": "stream",
     "text": [
      "Handle reason combind:  54%|███████████████████████████████████████████████████████████████▏                                                      | 859/1603 [1:58:19<1:39:14,  8.00s/it]"
     ]
    },
    {
     "name": "stdout",
     "output_type": "stream",
     "text": [
      "result after generate:  {'result': 'ngứa, nấm vùng kín'}\n",
      "Input: ngứa và nấm vùng kín | sản phụ khoa | Output: ngứa, nấm vùng kín\n"
     ]
    },
    {
     "name": "stderr",
     "output_type": "stream",
     "text": [
      "Handle reason combind:  54%|███████████████████████████████████████████████████████████████▎                                                      | 860/1603 [1:58:27<1:39:03,  8.00s/it]"
     ]
    },
    {
     "name": "stdout",
     "output_type": "stream",
     "text": [
      "result after generate:  {'result': 'đau bụng, tiểu rắt, ra dịch hồng, ra tơ máu'}\n",
      "Input: sau quan hệ 1 ngày bị đau bụng, tiểu rắt, ra dịch hồng, ra tơ máu | sản phụ khoa | Output: đau bụng, tiểu rắt, ra dịch hồng, ra tơ máu\n"
     ]
    },
    {
     "name": "stderr",
     "output_type": "stream",
     "text": [
      "Handle reason combind:  54%|███████████████████████████████████████████████████████████████▍                                                      | 861/1603 [1:58:45<2:15:41, 10.97s/it]"
     ]
    },
    {
     "name": "stdout",
     "output_type": "stream",
     "text": [
      "result after generate:  {'result': 'rối loạn tiền mãn kinh'}\n",
      "Input: rối loạn tiền mãn kinh | sản phụ khoa | Output: rối loạn tiền mãn kinh\n"
     ]
    },
    {
     "name": "stderr",
     "output_type": "stream",
     "text": [
      "Handle reason combind:  54%|███████████████████████████████████████████████████████████████▍                                                      | 862/1603 [1:58:47<1:42:21,  8.29s/it]"
     ]
    },
    {
     "name": "stdout",
     "output_type": "stream",
     "text": [
      "result after generate:  {'result': 'mất kinh nguyệt'}\n",
      "Input: em bị mất kinh nguyệt 5 tháng | sản phụ khoa | Output: mất kinh nguyệt\n"
     ]
    },
    {
     "name": "stderr",
     "output_type": "stream",
     "text": [
      "Handle reason combind:  54%|███████████████████████████████████████████████████████████████▌                                                      | 863/1603 [1:58:55<1:41:38,  8.24s/it]"
     ]
    },
    {
     "name": "stdout",
     "output_type": "stream",
     "text": [
      "result after generate:  {'result': 'viêm, ngứa'}\n",
      "Input: viêm ngứa | sản phụ khoa | Output: viêm, ngứa\n"
     ]
    },
    {
     "name": "stderr",
     "output_type": "stream",
     "text": [
      "Handle reason combind:  54%|███████████████████████████████████████████████████████████████▌                                                      | 864/1603 [1:58:59<1:25:48,  6.97s/it]"
     ]
    },
    {
     "name": "stdout",
     "output_type": "stream",
     "text": [
      "result after generate:  {'result': 'mụn, đau rát vùng kín'}\n",
      "Input: nổi mụn và đau rát vùng kín | sản phụ khoa | Output: mụn, đau rát vùng kín\n"
     ]
    },
    {
     "name": "stderr",
     "output_type": "stream",
     "text": [
      "Handle reason combind:  54%|███████████████████████████████████████████████████████████████▋                                                      | 865/1603 [1:59:09<1:37:24,  7.92s/it]"
     ]
    },
    {
     "name": "stdout",
     "output_type": "stream",
     "text": [
      "result after generate:  {'result': 'sảy thai'}\n",
      "Input: tư vấn sinh con mẹ nhiều tuổi, có tiền sử sảy thai 2 lần | sản phụ khoa | Output: sảy thai\n"
     ]
    },
    {
     "name": "stderr",
     "output_type": "stream",
     "text": [
      "Handle reason combind:  54%|███████████████████████████████████████████████████████████████▋                                                      | 866/1603 [1:59:11<1:13:21,  5.97s/it]"
     ]
    },
    {
     "name": "stdout",
     "output_type": "stream",
     "text": [
      "result after generate:  {'result': 'kinh nguyệt bất thường, rụng tóc, nổi mụn'}\n",
      "Input: kinh nguyệt bất thường, rụng tóc, nổi mụn | sản phụ khoa | Output: kinh nguyệt bất thường, rụng tóc, nổi mụn\n"
     ]
    },
    {
     "name": "stderr",
     "output_type": "stream",
     "text": [
      "Handle reason combind:  54%|███████████████████████████████████████████████████████████████▊                                                      | 867/1603 [1:59:20<1:27:50,  7.16s/it]"
     ]
    },
    {
     "name": "stdout",
     "output_type": "stream",
     "text": [
      "result after generate:  {'result': 'nổi hạch, sưng, đau'}\n",
      "Input: bị nổi hạch bẹn, sưng và đau | sản phụ khoa | Output: nổi hạch, sưng, đau\n"
     ]
    },
    {
     "name": "stderr",
     "output_type": "stream",
     "text": [
      "Handle reason combind:  54%|███████████████████████████████████████████████████████████████▉                                                      | 868/1603 [1:59:24<1:13:26,  6.00s/it]"
     ]
    },
    {
     "name": "stdout",
     "output_type": "stream",
     "text": [
      "result after generate:  {'result': 'vết thương bên ngoài âm hộ'}\n",
      "Input: có vết thương bên ngoài ầm hộ | sản phụ khoa | Output: vết thương bên ngoài âm hộ\n"
     ]
    },
    {
     "name": "stderr",
     "output_type": "stream",
     "text": [
      "Handle reason combind:  54%|███████████████████████████████████████████████████████████████▉                                                      | 869/1603 [1:59:32<1:21:40,  6.68s/it]"
     ]
    },
    {
     "name": "stdout",
     "output_type": "stream",
     "text": [
      "result after generate:  {'result': 'khám sức khoẻ tổng quát'}\n",
      "Input: khám sức khoẻ tổng quát cho phụ khoa | sản phụ khoa | Output: khám sức khoẻ tổng quát\n"
     ]
    },
    {
     "name": "stderr",
     "output_type": "stream",
     "text": [
      "Handle reason combind:  54%|████████████████████████████████████████████████████████████████                                                      | 870/1603 [1:59:35<1:06:21,  5.43s/it]"
     ]
    },
    {
     "name": "stdout",
     "output_type": "stream",
     "text": [
      "result after generate:  {'result': 'quan hệ bị rách, đau vùng kín'}\n",
      "Input: quan hệ bị rách bcs, đi khám sức khỏe vùng kín | sản phụ khoa | Output: quan hệ bị rách, đau vùng kín\n"
     ]
    },
    {
     "name": "stderr",
     "output_type": "stream",
     "text": [
      "Handle reason combind:  54%|████████████████████████████████████████████████████████████████                                                      | 871/1603 [1:59:43<1:18:31,  6.44s/it]"
     ]
    },
    {
     "name": "stdout",
     "output_type": "stream",
     "text": [
      "result after generate:  {'result': 'kinh nguyệt không đều'}\n",
      "Input: kinh nguyệt không đều, tiền sử từng cắt polyp tử cung cách đây 2 năm. | sản phụ khoa | Output: kinh nguyệt không đều\n"
     ]
    },
    {
     "name": "stderr",
     "output_type": "stream",
     "text": [
      "Handle reason combind:  54%|████████████████████████████████████████████████████████████████▏                                                     | 872/1603 [1:59:57<1:46:42,  8.76s/it]"
     ]
    },
    {
     "name": "stdout",
     "output_type": "stream",
     "text": [
      "result after generate:  {'result': 'đau bụng, kinh nguyệt không đều'}\n",
      "Input: đau bụng, kinh nguyệt không đều | sản phụ khoa | Output: đau bụng, kinh nguyệt không đều\n"
     ]
    },
    {
     "name": "stderr",
     "output_type": "stream",
     "text": [
      "Handle reason combind:  54%|████████████████████████████████████████████████████████████████▎                                                     | 873/1603 [2:00:00<1:22:08,  6.75s/it]"
     ]
    },
    {
     "name": "stdout",
     "output_type": "stream",
     "text": [
      "result after generate:  {'result': 'Kỳ kinh nguyệt bất thường, khối thịt từ âm đạo'}\n",
      "Input: hiện đang trong kỳ kinh nguyệt, khi đi vệ sinh có thải ra 1 cục mềm mềm như thịt từ âm đạo | sản phụ khoa | Output: Kỳ kinh nguyệt bất thường, khối thịt từ âm đạo\n"
     ]
    },
    {
     "name": "stderr",
     "output_type": "stream",
     "text": [
      "Handle reason combind:  55%|████████████████████████████████████████████████████████████████▎                                                     | 874/1603 [2:00:08<1:29:45,  7.39s/it]"
     ]
    },
    {
     "name": "stdout",
     "output_type": "stream",
     "text": [
      "result after generate:  {'result': 'u nang'}\n",
      "Input: khám u nang | sản phụ khoa | Output: u nang\n"
     ]
    },
    {
     "name": "stderr",
     "output_type": "stream",
     "text": [
      "Handle reason combind:  55%|████████████████████████████████████████████████████████████████▍                                                     | 875/1603 [2:00:11<1:12:02,  5.94s/it]"
     ]
    },
    {
     "name": "stdout",
     "output_type": "stream",
     "text": [
      "result after generate:  {'result': 'sưng môi nhỏ'}\n",
      "Input: sưng môi nhỏ sau quan hệ lần đầu | sản phụ khoa | Output: sưng môi nhỏ\n"
     ]
    },
    {
     "name": "stderr",
     "output_type": "stream",
     "text": [
      "Handle reason combind:  55%|████████████████████████████████████████████████████████████████▍                                                     | 876/1603 [2:00:20<1:21:22,  6.72s/it]"
     ]
    },
    {
     "name": "stdout",
     "output_type": "stream",
     "text": [
      "result after generate:  {'result': 'Rong kinh, Rỉ máu màu đỏ'}\n",
      "Input: mới có kinh ngày 20/2 hết ngày 27/2 nhưng ngày 6/3 lại có lại và có rất ít rỉ máu như huyết trắng màu đỏ | sản phụ khoa | Output: Rong kinh, Rỉ máu màu đỏ\n"
     ]
    },
    {
     "name": "stderr",
     "output_type": "stream",
     "text": [
      "Handle reason combind:  55%|████████████████████████████████████████████████████████████████▌                                                     | 877/1603 [2:00:24<1:11:48,  5.93s/it]"
     ]
    },
    {
     "name": "stdout",
     "output_type": "stream",
     "text": [
      "result after generate:  {'result': 'viêm âm đạo, viêm tiết niệu'}\n",
      "Input: viêm âm đạo viêm tiết niệu | sản phụ khoa | Output: viêm âm đạo, viêm tiết niệu\n"
     ]
    },
    {
     "name": "stderr",
     "output_type": "stream",
     "text": [
      "Handle reason combind:  55%|████████████████████████████████████████████████████████████████▋                                                     | 878/1603 [2:00:32<1:20:28,  6.66s/it]"
     ]
    },
    {
     "name": "stdout",
     "output_type": "stream",
     "text": [
      "result after generate:  {'result': 'khám phụ khoa, buồng trứng'}\n",
      "Input: khám phụ khoa, buồng trứng… chuẩn bị cho mang thai | sản phụ khoa | Output: khám phụ khoa, buồng trứng\n"
     ]
    },
    {
     "name": "stderr",
     "output_type": "stream",
     "text": [
      "Handle reason combind:  55%|████████████████████████████████████████████████████████████████▋                                                     | 879/1603 [2:00:38<1:19:27,  6.58s/it]"
     ]
    },
    {
     "name": "stdout",
     "output_type": "stream",
     "text": [
      "result after generate:  {'result': 'mụn ngứa, rát, khí hư màu trắng vón cục'}\n",
      "Input: xung quanh vùng kín và gần hậu môn nổi mụn ngứa và rát. khí hư ra màu trắng vón cục. | sản phụ khoa | Output: mụn ngứa, rát, khí hư màu trắng vón cục\n"
     ]
    },
    {
     "name": "stderr",
     "output_type": "stream",
     "text": [
      "Handle reason combind:  55%|████████████████████████████████████████████████████████████████▊                                                     | 880/1603 [2:00:48<1:31:04,  7.56s/it]"
     ]
    },
    {
     "name": "stdout",
     "output_type": "stream",
     "text": [
      "result after generate:  {'result': 'sưng cục hạch nhỏ ở bẹn'}\n",
      "Input: bị sưng cục hạch nhỏ ở bẹn | sản phụ khoa | Output: sưng cục hạch nhỏ ở bẹn\n"
     ]
    },
    {
     "name": "stderr",
     "output_type": "stream",
     "text": [
      "Handle reason combind:  55%|████████████████████████████████████████████████████████████████▊                                                     | 881/1603 [2:00:50<1:11:43,  5.96s/it]"
     ]
    },
    {
     "name": "stdout",
     "output_type": "stream",
     "text": [
      "result after generate:  {'result': 'nổi mề đay, ngứa'}\n",
      "Input: nổi mề đay ngứa khắp người gây khó ngủ | sản phụ khoa | Output: nổi mề đay, ngứa\n"
     ]
    },
    {
     "name": "stderr",
     "output_type": "stream",
     "text": [
      "Handle reason combind:  55%|████████████████████████████████████████████████████████████████▉                                                     | 882/1603 [2:01:09<1:55:55,  9.65s/it]"
     ]
    },
    {
     "name": "stdout",
     "output_type": "stream",
     "text": [
      "result after generate:  {'result': 'ra máu nâu đỏ'}\n",
      "Input: mới hết kinh 2 tuần mà lại ra máu nâu đỏ | sản phụ khoa | Output: ra máu nâu đỏ\n"
     ]
    },
    {
     "name": "stderr",
     "output_type": "stream",
     "text": [
      "Handle reason combind:  55%|████████████████████████████████████████████████████████████████▉                                                     | 883/1603 [2:01:17<1:51:15,  9.27s/it]"
     ]
    },
    {
     "name": "stdout",
     "output_type": "stream",
     "text": [
      "result after generate:  {'result': 'tác dụng phụ'}\n",
      "Input: tác dụng phụ do uống thuốc tránh thai khẩn cấp | sản phụ khoa | Output: tác dụng phụ\n"
     ]
    },
    {
     "name": "stderr",
     "output_type": "stream",
     "text": [
      "Handle reason combind:  55%|█████████████████████████████████████████████████████████████████                                                     | 884/1603 [2:01:18<1:22:33,  6.89s/it]"
     ]
    },
    {
     "name": "stdout",
     "output_type": "stream",
     "text": [
      "result after generate:  {'result': 'khí hư ra nhiều, rong kinh'}\n",
      "Input: khám phụ khoa: khí hư ra nhiều, rong kinh | sản phụ khoa | Output: khí hư ra nhiều, rong kinh\n"
     ]
    },
    {
     "name": "stderr",
     "output_type": "stream",
     "text": [
      "Handle reason combind:  55%|█████████████████████████████████████████████████████████████████▏                                                    | 885/1603 [2:01:39<2:12:20, 11.06s/it]"
     ]
    },
    {
     "name": "stdout",
     "output_type": "stream",
     "text": [
      "result after generate:  {'result': 'viêm âm đạo, u xơ tử cung'}\n",
      "Input: viêm âm đạo + u xơ tử cung | sản phụ khoa | Output: viêm âm đạo, u xơ tử cung\n"
     ]
    },
    {
     "name": "stderr",
     "output_type": "stream",
     "text": [
      "Handle reason combind:  55%|█████████████████████████████████████████████████████████████████▏                                                    | 886/1603 [2:01:42<1:42:47,  8.60s/it]"
     ]
    },
    {
     "name": "stdout",
     "output_type": "stream",
     "text": [
      "result after generate:  {'result': 'hết kinh, ra dịch đen'}\n",
      "Input: hết kinh nhưng vẫn ra dịch đen hơn 12 ngày vẫn chưa kết thúc, đã kéo dài nhiều tháng | sản phụ khoa | Output: hết kinh, ra dịch đen\n"
     ]
    },
    {
     "name": "stderr",
     "output_type": "stream",
     "text": [
      "Handle reason combind:  55%|█████████████████████████████████████████████████████████████████▎                                                    | 887/1603 [2:01:51<1:43:22,  8.66s/it]"
     ]
    },
    {
     "name": "stdout",
     "output_type": "stream",
     "text": [
      "result after generate:  {'result': None}\n"
     ]
    },
    {
     "name": "stderr",
     "output_type": "stream",
     "text": [
      "Handle reason combind:  55%|█████████████████████████████████████████████████████████████████▎                                                    | 888/1603 [2:01:59<1:40:46,  8.46s/it]"
     ]
    },
    {
     "name": "stdout",
     "output_type": "stream",
     "text": [
      "result after generate:  {'result': 'vùng kín'}\n",
      "Input: khám vùng kín | sản phụ khoa | Output: vùng kín\n"
     ]
    },
    {
     "name": "stderr",
     "output_type": "stream",
     "text": [
      "Handle reason combind:  55%|█████████████████████████████████████████████████████████████████▍                                                    | 889/1603 [2:02:02<1:21:21,  6.84s/it]"
     ]
    },
    {
     "name": "stdout",
     "output_type": "stream",
     "text": [
      "result after generate:  {'result': 'thai, test que 2 vạch'}\n",
      "Input: khám thai (test que 2 vạch) | sản phụ khoa | Output: thai, test que 2 vạch\n"
     ]
    },
    {
     "name": "stderr",
     "output_type": "stream",
     "text": [
      "Handle reason combind:  56%|█████████████████████████████████████████████████████████████████▌                                                    | 890/1603 [2:02:13<1:35:29,  8.04s/it]"
     ]
    },
    {
     "name": "stdout",
     "output_type": "stream",
     "text": [
      "result after generate:  {'result': 'kính kéo dài, ra máu rất nhiều'}\n",
      "Input: thời gian có kính kéo dài, ra máu rất nhiều | sản phụ khoa | Output: kính kéo dài, ra máu rất nhiều\n"
     ]
    },
    {
     "name": "stderr",
     "output_type": "stream",
     "text": [
      "Handle reason combind:  56%|█████████████████████████████████████████████████████████████████▌                                                    | 891/1603 [2:02:20<1:32:04,  7.76s/it]"
     ]
    },
    {
     "name": "stdout",
     "output_type": "stream",
     "text": [
      "result after generate:  {'result': 'giảm ham muốn, đau rát khi quan hệ, viêm phụ khoa'}\n",
      "Input: giảm ham muốn, đau rát khi quan hệ, viêm phụ khoa tái lại nhiều lần. | sản phụ khoa | Output: giảm ham muốn, đau rát khi quan hệ, viêm phụ khoa\n"
     ]
    },
    {
     "name": "stderr",
     "output_type": "stream",
     "text": [
      "Handle reason combind:  56%|█████████████████████████████████████████████████████████████████▋                                                    | 892/1603 [2:02:22<1:11:10,  6.01s/it]"
     ]
    },
    {
     "name": "stdout",
     "output_type": "stream",
     "text": [
      "result after generate:  {'result': 'u quái buồng trứng'}\n",
      "Input: khám tổng quát sau phẫu thuật u quái buồng trứng | sản phụ khoa | Output: u quái buồng trứng\n"
     ]
    },
    {
     "name": "stderr",
     "output_type": "stream",
     "text": [
      "Handle reason combind:  56%|█████████████████████████████████████████████████████████████████▋                                                    | 893/1603 [2:02:31<1:21:13,  6.86s/it]"
     ]
    },
    {
     "name": "stdout",
     "output_type": "stream",
     "text": [
      "result after generate:  {'result': 'muốn biết có thai hay không'}\n",
      "Input: muốn biết có thai hay không | sản phụ khoa | Output: muốn biết có thai hay không\n"
     ]
    },
    {
     "name": "stderr",
     "output_type": "stream",
     "text": [
      "Handle reason combind:  56%|█████████████████████████████████████████████████████████████████▊                                                    | 894/1603 [2:02:36<1:17:16,  6.54s/it]"
     ]
    },
    {
     "name": "stdout",
     "output_type": "stream",
     "text": [
      "result after generate:  {'result': 'buốt khi đi tiểu, khó chịu vùng kín, đi tiểu nhiều lần, đi tiểu ít'}\n",
      "Input: đi đái bị buốt, lâu rồi mới quan hệ lại ngày 11/4 , đến thời điểm hiện tại vùng kín khó chịu, đi tiểu nhiều lần, mỗi lần đi 1 ít, buốt | sản phụ khoa | Output: buốt khi đi tiểu, khó chịu vùng kín, đi tiểu nhiều lần, đi tiểu ít\n"
     ]
    },
    {
     "name": "stderr",
     "output_type": "stream",
     "text": [
      "Handle reason combind:  56%|█████████████████████████████████████████████████████████████████▉                                                    | 895/1603 [2:02:43<1:15:44,  6.42s/it]"
     ]
    },
    {
     "name": "stdout",
     "output_type": "stream",
     "text": [
      "result after generate:  {'result': 'nhức vú, ngứa quanh vùng núm vú, nang bã dưới da vùng vú, thay đổi sợi bọc tuyến vú'}\n",
      "Input: nhức vú phải gần 3 tuần, khi nhức nhiều, khi âm ỉ, có khi ngứa quanh vùng núm vú nhưng không thường xuyên. tháng 1 năm 2022 khám tổng quát có kết quả: \n",
      "1. siêu âm phụ khoa: bình thường.\n",
      "2. siêu âm vú: nang bã dưới da vùng vú phải.d= 2 x2 mm\n",
      "3. xét nghiệm hpv: âm tính với hpv nhóm nguy cơ cao ( bình thường)\n",
      "đầu tháng 4, 2022 siêu âm kỹ 2 vú, bác sĩ chẩn đoán: thay đổi sợi bọc tuyến vú. | sản phụ khoa | Output: nhức vú, ngứa quanh vùng núm vú, nang bã dưới da vùng vú, thay đổi sợi bọc tuyến vú\n"
     ]
    },
    {
     "name": "stderr",
     "output_type": "stream",
     "text": [
      "Handle reason combind:  56%|█████████████████████████████████████████████████████████████████▉                                                    | 896/1603 [2:02:51<1:22:37,  7.01s/it]"
     ]
    },
    {
     "name": "stdout",
     "output_type": "stream",
     "text": [
      "result after generate:  {'result': 'đau bụng, đau lưng'}\n",
      "Input: đau bụng, và đau lưng. | sản phụ khoa | Output: đau bụng, đau lưng\n"
     ]
    },
    {
     "name": "stderr",
     "output_type": "stream",
     "text": [
      "Handle reason combind:  56%|██████████████████████████████████████████████████████████████████                                                    | 897/1603 [2:02:52<1:01:49,  5.25s/it]"
     ]
    },
    {
     "name": "stdout",
     "output_type": "stream",
     "text": [
      "result after generate:  {'result': 'chảy máu âm đạo bất thường'}\n",
      "Input: chảy máu âm đạo bất thường sau khi quan hệ | sản phụ khoa | Output: chảy máu âm đạo bất thường\n"
     ]
    },
    {
     "name": "stderr",
     "output_type": "stream",
     "text": [
      "Handle reason combind:  56%|██████████████████████████████████████████████████████████████████                                                    | 898/1603 [2:03:11<1:49:04,  9.28s/it]"
     ]
    },
    {
     "name": "stdout",
     "output_type": "stream",
     "text": [
      "result after generate:  {'result': 'khí hư có màu vàng, nấm'}\n",
      "Input: đột nhiên ra khí hư có màu vàng, có nấm. | sản phụ khoa | Output: khí hư có màu vàng, nấm\n"
     ]
    },
    {
     "name": "stderr",
     "output_type": "stream",
     "text": [
      "Handle reason combind:  56%|██████████████████████████████████████████████████████████████████▏                                                   | 899/1603 [2:03:20<1:49:05,  9.30s/it]"
     ]
    },
    {
     "name": "stdout",
     "output_type": "stream",
     "text": [
      "result after generate:  {'result': 'âm đạo ra dịch màu nâu giống máu'}\n",
      "Input: âm đạo ra dịch màu nâu giống máu | sản phụ khoa | Output: âm đạo ra dịch màu nâu giống máu\n"
     ]
    },
    {
     "name": "stderr",
     "output_type": "stream",
     "text": [
      "Handle reason combind:  56%|██████████████████████████████████████████████████████████████████▎                                                   | 900/1603 [2:03:22<1:22:02,  7.00s/it]"
     ]
    },
    {
     "name": "stdout",
     "output_type": "stream",
     "text": [
      "result after generate:  {'result': 'nhiễm nấm phụ khoa, ngứa vùng kín'}\n",
      "Input: bị nhiễm nấm phụ khoa ngứa vùng kín | sản phụ khoa | Output: nhiễm nấm phụ khoa, ngứa vùng kín\n"
     ]
    },
    {
     "name": "stderr",
     "output_type": "stream",
     "text": [
      "Handle reason combind:  56%|██████████████████████████████████████████████████████████████████▎                                                   | 901/1603 [2:03:40<2:01:08, 10.35s/it]"
     ]
    },
    {
     "name": "stdout",
     "output_type": "stream",
     "text": [
      "result after generate:  {'result': 'nổi hạch ở mép âm đạo, khí hư chảy nhiều'}\n",
      "Input: nổi hạch ở mép âm đạo, khí hư chảy nhiều ngày | sản phụ khoa | Output: nổi hạch ở mép âm đạo, khí hư chảy nhiều\n"
     ]
    },
    {
     "name": "stderr",
     "output_type": "stream",
     "text": [
      "Handle reason combind:  56%|██████████████████████████████████████████████████████████████████▍                                                   | 902/1603 [2:03:45<1:41:31,  8.69s/it]"
     ]
    },
    {
     "name": "stdout",
     "output_type": "stream",
     "text": [
      "result after generate:  {'result': 'tắc kinh nguyệt'}\n",
      "Input: tắc kinh nguyệt | sản phụ khoa | Output: tắc kinh nguyệt\n"
     ]
    },
    {
     "name": "stderr",
     "output_type": "stream",
     "text": [
      "Handle reason combind:  56%|██████████████████████████████████████████████████████████████████▍                                                   | 903/1603 [2:03:51<1:31:23,  7.83s/it]"
     ]
    },
    {
     "name": "stdout",
     "output_type": "stream",
     "text": [
      "result after generate:  {'result': 'trễ kinh, thai'}\n",
      "Input: trễ kinh 11 ngày. test thai 2 vạch mờ. | sản phụ khoa | Output: trễ kinh, thai\n"
     ]
    },
    {
     "name": "stderr",
     "output_type": "stream",
     "text": [
      "Handle reason combind:  56%|██████████████████████████████████████████████████████████████████▌                                                   | 904/1603 [2:04:07<1:59:42, 10.28s/it]"
     ]
    },
    {
     "name": "stdout",
     "output_type": "stream",
     "text": [
      "result after generate:  {'result': 'mủ vàng đỏ ở vùng kín, nước tiểu có mùi lạ, viêm phụ khoa'}\n",
      "Input: có mủ vàng đỏ ở vùng kín, nước tiểu có mùi lạ. nghi ngờ viêm phụ khoa. | sản phụ khoa | Output: mủ vàng đỏ ở vùng kín, nước tiểu có mùi lạ, viêm phụ khoa\n"
     ]
    },
    {
     "name": "stderr",
     "output_type": "stream",
     "text": [
      "Handle reason combind:  56%|██████████████████████████████████████████████████████████████████▌                                                   | 905/1603 [2:04:08<1:27:56,  7.56s/it]"
     ]
    },
    {
     "name": "stdout",
     "output_type": "stream",
     "text": [
      "result after generate:  {'result': 'nghi ngờ ung thư cổ tử cung'}\n",
      "Input: nghi ngờ ung thư cổ tử cung, | sản phụ khoa | Output: nghi ngờ ung thư cổ tử cung\n"
     ]
    },
    {
     "name": "stderr",
     "output_type": "stream",
     "text": [
      "Handle reason combind:  57%|██████████████████████████████████████████████████████████████████▋                                                   | 906/1603 [2:04:27<2:07:52, 11.01s/it]"
     ]
    },
    {
     "name": "stdout",
     "output_type": "stream",
     "text": [
      "result after generate:  {'result': 'khí hư có mùi hôi, ra máu bất thường'}\n",
      "Input: khí hư có mùi hôi, ra máu bất thường | sản phụ khoa | Output: khí hư có mùi hôi, ra máu bất thường\n"
     ]
    },
    {
     "name": "stderr",
     "output_type": "stream",
     "text": [
      "Handle reason combind:  57%|██████████████████████████████████████████████████████████████████▊                                                   | 907/1603 [2:04:33<1:52:32,  9.70s/it]"
     ]
    },
    {
     "name": "stdout",
     "output_type": "stream",
     "text": [
      "result after generate:  {'result': None}\n"
     ]
    },
    {
     "name": "stderr",
     "output_type": "stream",
     "text": [
      "Handle reason combind:  57%|██████████████████████████████████████████████████████████████████▊                                                   | 908/1603 [2:04:34<1:21:04,  7.00s/it]"
     ]
    },
    {
     "name": "stdout",
     "output_type": "stream",
     "text": [
      "result after generate:  {'result': 'ra máu bất thường'}\n",
      "Input: ra máu bất thường không trong kì kinh | sản phụ khoa | Output: ra máu bất thường\n"
     ]
    },
    {
     "name": "stderr",
     "output_type": "stream",
     "text": [
      "Handle reason combind:  57%|██████████████████████████████████████████████████████████████████▉                                                   | 909/1603 [2:04:52<1:57:17, 10.14s/it]"
     ]
    },
    {
     "name": "stdout",
     "output_type": "stream",
     "text": [
      "result after generate:  {'result': 'kinh nguyệt bất thường'}\n",
      "Input: kinh nguyệt bất thường, 1 năm chỉ bị 1-2 lần | sản phụ khoa | Output: kinh nguyệt bất thường\n"
     ]
    },
    {
     "name": "stderr",
     "output_type": "stream",
     "text": [
      "Handle reason combind:  57%|██████████████████████████████████████████████████████████████████▉                                                   | 910/1603 [2:04:54<1:30:22,  7.82s/it]"
     ]
    },
    {
     "name": "stdout",
     "output_type": "stream",
     "text": [
      "result after generate:  {'result': 'kinh nguyệt ít'}\n",
      "Input: kinh nguyệt ít | sản phụ khoa | Output: kinh nguyệt ít\n"
     ]
    },
    {
     "name": "stderr",
     "output_type": "stream",
     "text": [
      "Handle reason combind:  57%|███████████████████████████████████████████████████████████████████                                                   | 911/1603 [2:05:11<2:02:41, 10.64s/it]"
     ]
    },
    {
     "name": "stdout",
     "output_type": "stream",
     "text": [
      "result after generate:  {'result': 'siêu âm canh trứng'}\n",
      "Input: siêu âm canh trứng | sản phụ khoa | Output: siêu âm canh trứng\n"
     ]
    },
    {
     "name": "stderr",
     "output_type": "stream",
     "text": [
      "Handle reason combind:  57%|███████████████████████████████████████████████████████████████████▏                                                  | 912/1603 [2:05:13<1:32:29,  8.03s/it]"
     ]
    },
    {
     "name": "stdout",
     "output_type": "stream",
     "text": [
      "result after generate:  {'result': None}\n"
     ]
    },
    {
     "name": "stderr",
     "output_type": "stream",
     "text": [
      "Handle reason combind:  57%|███████████████████████████████████████████████████████████████████▏                                                  | 913/1603 [2:05:27<1:51:16,  9.68s/it]"
     ]
    },
    {
     "name": "stdout",
     "output_type": "stream",
     "text": [
      "result after generate:  {'result': 'mọc mụn, ngứa âm đạo'}\n",
      "Input: mọc mụn, ngứa âm đạo | sản phụ khoa | Output: mọc mụn, ngứa âm đạo\n"
     ]
    },
    {
     "name": "stderr",
     "output_type": "stream",
     "text": [
      "Handle reason combind:  57%|███████████████████████████████████████████████████████████████████▎                                                  | 914/1603 [2:05:31<1:32:47,  8.08s/it]"
     ]
    },
    {
     "name": "stdout",
     "output_type": "stream",
     "text": [
      "result after generate:  {'result': None}\n"
     ]
    },
    {
     "name": "stderr",
     "output_type": "stream",
     "text": [
      "Handle reason combind:  57%|███████████████████████████████████████████████████████████████████▎                                                  | 915/1603 [2:05:34<1:14:31,  6.50s/it]"
     ]
    },
    {
     "name": "stdout",
     "output_type": "stream",
     "text": [
      "result after generate:  {'result': 'rối kinh'}\n",
      "Input: rông kinh | sản phụ khoa | Output: rối kinh\n"
     ]
    },
    {
     "name": "stderr",
     "output_type": "stream",
     "text": [
      "Handle reason combind:  57%|███████████████████████████████████████████████████████████████████▍                                                  | 916/1603 [2:05:42<1:20:56,  7.07s/it]"
     ]
    },
    {
     "name": "stdout",
     "output_type": "stream",
     "text": [
      "result after generate:  {'result': 'viêm vùng kín, rối loạn kinh nguyệt'}\n",
      "Input: viêm vùng kín, kinh nguyệt không điều | sản phụ khoa | Output: viêm vùng kín, rối loạn kinh nguyệt\n"
     ]
    },
    {
     "name": "stderr",
     "output_type": "stream",
     "text": [
      "Handle reason combind:  57%|███████████████████████████████████████████████████████████████████▌                                                  | 917/1603 [2:06:02<2:02:57, 10.75s/it]"
     ]
    },
    {
     "name": "stdout",
     "output_type": "stream",
     "text": [
      "result after generate:  {'result': 'huyết trắng như bã đậu'}\n",
      "Input: huyết trắng như bã đậu | sản phụ khoa | Output: huyết trắng như bã đậu\n"
     ]
    },
    {
     "name": "stderr",
     "output_type": "stream",
     "text": [
      "Handle reason combind:  57%|███████████████████████████████████████████████████████████████████▌                                                  | 918/1603 [2:06:04<1:33:39,  8.20s/it]"
     ]
    },
    {
     "name": "stdout",
     "output_type": "stream",
     "text": [
      "result after generate:  {'result': 'siêu âm ổ bụng, vấn đề phụ khoa'}\n",
      "Input: siêu âm ổ bụng và muốn khám tư vấn về phụ khoa | sản phụ khoa | Output: siêu âm ổ bụng, vấn đề phụ khoa\n"
     ]
    },
    {
     "name": "stderr",
     "output_type": "stream",
     "text": [
      "Handle reason combind:  57%|███████████████████████████████████████████████████████████████████▋                                                  | 919/1603 [2:06:20<1:59:55, 10.52s/it]"
     ]
    },
    {
     "name": "stdout",
     "output_type": "stream",
     "text": [
      "result after generate:  {'result': 'kinh nguyệt không đều, đau bụng dưới, mỏi thắt lưng, mụn bất thường ở vùng kín'}\n",
      "Input: kinh nguyệt không đều\n",
      "hay đau bụng dưới và mỏi thắt lưng\n",
      "có mụn bất thường ở vùng kín | sản phụ khoa | Output: kinh nguyệt không đều, đau bụng dưới, mỏi thắt lưng, mụn bất thường ở vùng kín\n"
     ]
    },
    {
     "name": "stderr",
     "output_type": "stream",
     "text": [
      "Handle reason combind:  57%|███████████████████████████████████████████████████████████████████▋                                                  | 920/1603 [2:06:21<1:27:32,  7.69s/it]"
     ]
    },
    {
     "name": "stdout",
     "output_type": "stream",
     "text": [
      "result after generate:  {'result': 'khám cổ tử cung, buồng trứng'}\n",
      "Input: khám cổ tử cung, buồng trứng | sản phụ khoa | Output: khám cổ tử cung, buồng trứng\n"
     ]
    },
    {
     "name": "stderr",
     "output_type": "stream",
     "text": [
      "Handle reason combind:  57%|███████████████████████████████████████████████████████████████████▊                                                  | 921/1603 [2:06:31<1:35:30,  8.40s/it]"
     ]
    },
    {
     "name": "stdout",
     "output_type": "stream",
     "text": [
      "result after generate:  {'result': 'khối u nang'}\n",
      "Input: phụ khoa, siêu âm khối u nang | sản phụ khoa | Output: khối u nang\n"
     ]
    },
    {
     "name": "stderr",
     "output_type": "stream",
     "text": [
      "Handle reason combind:  58%|███████████████████████████████████████████████████████████████████▊                                                  | 922/1603 [2:06:36<1:23:42,  7.37s/it]"
     ]
    },
    {
     "name": "stdout",
     "output_type": "stream",
     "text": [
      "result after generate:  {'result': 'dịch có màu, dịch có mùi'}\n",
      "Input: dịch có màu và có mùi | sản phụ khoa | Output: dịch có màu, dịch có mùi\n"
     ]
    },
    {
     "name": "stderr",
     "output_type": "stream",
     "text": [
      "Handle reason combind:  58%|███████████████████████████████████████████████████████████████████▉                                                  | 923/1603 [2:06:52<1:52:07,  9.89s/it]"
     ]
    },
    {
     "name": "stdout",
     "output_type": "stream",
     "text": [
      "result after generate:  {'result': 'ra dịch bất thường'}\n",
      "Input: ra dịch bất thường | sản phụ khoa | Output: ra dịch bất thường\n"
     ]
    },
    {
     "name": "stderr",
     "output_type": "stream",
     "text": [
      "Handle reason combind:  58%|████████████████████████████████████████████████████████████████████                                                  | 924/1603 [2:06:53<1:23:35,  7.39s/it]"
     ]
    },
    {
     "name": "stdout",
     "output_type": "stream",
     "text": [
      "result after generate:  {'result': 'ra dịch màu hồng kèm vệt máu, tức bụng dưới'}\n",
      "Input: ra dịch màu hồng kèm vệt máu  , tức bụng dưới | sản phụ khoa | Output: ra dịch màu hồng kèm vệt máu, tức bụng dưới\n"
     ]
    },
    {
     "name": "stderr",
     "output_type": "stream",
     "text": [
      "Handle reason combind:  58%|████████████████████████████████████████████████████████████████████                                                  | 925/1603 [2:07:11<1:59:50, 10.61s/it]"
     ]
    },
    {
     "name": "stdout",
     "output_type": "stream",
     "text": [
      "result after generate:  {'result': 'mùi hôi vùng kín, rát vùng kín, ngứa vùng kín'}\n",
      "Input: vùng kín có mùi hôi, rát và ngứa sau quan hệ | sản phụ khoa | Output: mùi hôi vùng kín, rát vùng kín, ngứa vùng kín\n"
     ]
    },
    {
     "name": "stderr",
     "output_type": "stream",
     "text": [
      "Handle reason combind:  58%|████████████████████████████████████████████████████████████████████▏                                                 | 926/1603 [2:07:13<1:28:28,  7.84s/it]"
     ]
    },
    {
     "name": "stdout",
     "output_type": "stream",
     "text": [
      "result after generate:  {'result': 'ra huyết nâu đen'}\n",
      "Input: sau khi kinh nguyệt tháng này mình thấy tình trạng ra huyết nâu đen(không nhiều lắm) kéo dài nhiều ngày nay. không đau, không ngứa, không khó chịu, nhưng lo sợ có vấn đề gì đó | sản phụ khoa | Output: ra huyết nâu đen\n"
     ]
    },
    {
     "name": "stderr",
     "output_type": "stream",
     "text": [
      "Handle reason combind:  58%|████████████████████████████████████████████████████████████████████▏                                                 | 927/1603 [2:07:28<1:54:32, 10.17s/it]"
     ]
    },
    {
     "name": "stdout",
     "output_type": "stream",
     "text": [
      "result after generate:  {'result': 'khí hư bất thường, ngứa vùng kín, đau vùng kín'}\n",
      "Input: khám phụ khoa: khí hư có hình dạng như bã đậu, vón cục li ti màu trắng. có cảm giác ngứa và đau ở vùng kín | sản phụ khoa | Output: khí hư bất thường, ngứa vùng kín, đau vùng kín\n"
     ]
    },
    {
     "name": "stderr",
     "output_type": "stream",
     "text": [
      "Handle reason combind:  58%|████████████████████████████████████████████████████████████████████▎                                                 | 928/1603 [2:07:37<1:50:06,  9.79s/it]"
     ]
    },
    {
     "name": "stdout",
     "output_type": "stream",
     "text": [
      "result after generate:  {'result': 'nốt mụn ở bộ phận sinh dục, ngứa, khó chịu'}\n",
      "Input: khám phụ khoa: bộ phận sinh dục có nổi nhiều nốt mụn ở hai bên mép gây ngứa và khó chịu. | sản phụ khoa | Output: nốt mụn ở bộ phận sinh dục, ngứa, khó chịu\n"
     ]
    },
    {
     "name": "stderr",
     "output_type": "stream",
     "text": [
      "Handle reason combind:  58%|████████████████████████████████████████████████████████████████████▍                                                 | 929/1603 [2:07:47<1:49:50,  9.78s/it]"
     ]
    },
    {
     "name": "stdout",
     "output_type": "stream",
     "text": [
      "result after generate:  {'result': 'viêm phụ khoa'}\n",
      "Input: viêm phu khoa | sản phụ khoa | Output: viêm phụ khoa\n"
     ]
    },
    {
     "name": "stderr",
     "output_type": "stream",
     "text": [
      "Handle reason combind:  58%|████████████████████████████████████████████████████████████████████▍                                                 | 930/1603 [2:07:51<1:31:40,  8.17s/it]"
     ]
    },
    {
     "name": "stdout",
     "output_type": "stream",
     "text": [
      "result after generate:  {'result': 'vô sinh'}\n",
      "Input: muốn thăm khám vô sinh  làm ivf | sản phụ khoa | Output: vô sinh\n"
     ]
    },
    {
     "name": "stderr",
     "output_type": "stream",
     "text": [
      "Handle reason combind:  58%|████████████████████████████████████████████████████████████████████▌                                                 | 931/1603 [2:08:01<1:34:36,  8.45s/it]"
     ]
    },
    {
     "name": "stdout",
     "output_type": "stream",
     "text": [
      "result after generate:  {'result': None}\n"
     ]
    },
    {
     "name": "stderr",
     "output_type": "stream",
     "text": [
      "Handle reason combind:  58%|████████████████████████████████████████████████████████████████████▌                                                 | 932/1603 [2:08:05<1:19:44,  7.13s/it]"
     ]
    },
    {
     "name": "stdout",
     "output_type": "stream",
     "text": [
      "result after generate:  {'result': 'rối loạn kinh nguyệt'}\n",
      "Input: rối loạn kinh nguyệt, xét nghiệm thai | sản phụ khoa | Output: rối loạn kinh nguyệt\n"
     ]
    },
    {
     "name": "stderr",
     "output_type": "stream",
     "text": [
      "Handle reason combind:  58%|████████████████████████████████████████████████████████████████████▋                                                 | 933/1603 [2:08:18<1:39:14,  8.89s/it]"
     ]
    },
    {
     "name": "stdout",
     "output_type": "stream",
     "text": [
      "result after generate:  {'result': 'đau bụng dưới, tiểu buốt, căng tức, khí hư thất thường'}\n",
      "Input: đau bụng dưới, tiểu buốt, căng tức ,khí hư thất thường | sản phụ khoa | Output: đau bụng dưới, tiểu buốt, căng tức, khí hư thất thường\n"
     ]
    },
    {
     "name": "stderr",
     "output_type": "stream",
     "text": [
      "Handle reason combind:  58%|████████████████████████████████████████████████████████████████████▊                                                 | 934/1603 [2:08:20<1:16:06,  6.83s/it]"
     ]
    },
    {
     "name": "stdout",
     "output_type": "stream",
     "text": [
      "result after generate:  {'result': 'rối loạn kinh nguyệt, dịch nhầy có mùi hôi, đau bụng dưới'}\n",
      "Input: kinh nguyệt thấy thường 1 tháng có khi cháu đến 3 lần chu kỳ , dịch nhầy có mùi hôi tanh khó chịu , đau bụng dưới | sản phụ khoa | Output: rối loạn kinh nguyệt, dịch nhầy có mùi hôi, đau bụng dưới\n"
     ]
    },
    {
     "name": "stderr",
     "output_type": "stream",
     "text": [
      "Handle reason combind:  58%|████████████████████████████████████████████████████████████████████▊                                                 | 935/1603 [2:08:25<1:12:39,  6.53s/it]"
     ]
    },
    {
     "name": "stdout",
     "output_type": "stream",
     "text": [
      "result after generate:  {'result': 'đau bụng dưới, mong muốn mang thai'}\n",
      "Input: đau bụng dưới , có mong muốn mang thai | sản phụ khoa | Output: đau bụng dưới, mong muốn mang thai\n"
     ]
    },
    {
     "name": "stderr",
     "output_type": "stream",
     "text": [
      "Handle reason combind:  58%|████████████████████████████████████████████████████████████████████▉                                                 | 936/1603 [2:08:44<1:52:21, 10.11s/it]"
     ]
    },
    {
     "name": "stdout",
     "output_type": "stream",
     "text": [
      "result after generate:  {'result': 'ngứa, kinh nguyệt không đều, ra kinh nguyệt nhiều'}\n",
      "Input: ngứa, đã quan hệ tình dục, kinh nguyệt ko đều. tháng vừa rồi uống thuốc tránh thai khẩn cấp và ra 2 lần kinh nguyệt, ra nhiều, hiện 5 ngày chưa hết | sản phụ khoa | Output: ngứa, kinh nguyệt không đều, ra kinh nguyệt nhiều\n"
     ]
    },
    {
     "name": "stderr",
     "output_type": "stream",
     "text": [
      "Handle reason combind:  58%|████████████████████████████████████████████████████████████████████▉                                                 | 937/1603 [2:08:48<1:31:02,  8.20s/it]"
     ]
    },
    {
     "name": "stdout",
     "output_type": "stream",
     "text": [
      "result after generate:  {'result': 'ngứa ở bộ phận sinh dục'}\n",
      "Input: hơi ngứa ở bộ phận sinh dục | sản phụ khoa | Output: ngứa ở bộ phận sinh dục\n"
     ]
    },
    {
     "name": "stderr",
     "output_type": "stream",
     "text": [
      "Handle reason combind:  59%|█████████████████████████████████████████████████████████████████████                                                 | 938/1603 [2:08:56<1:32:35,  8.35s/it]"
     ]
    },
    {
     "name": "stdout",
     "output_type": "stream",
     "text": [
      "result after generate:  {'result': 'đi tiểu buốt'}\n",
      "Input: trước đi tiểu buốt nhưng uống thuốc nay đã đỡ. muốn đi kiểm tra tổng quát lại ạ | sản phụ khoa | Output: đi tiểu buốt\n"
     ]
    },
    {
     "name": "stderr",
     "output_type": "stream",
     "text": [
      "Handle reason combind:  59%|█████████████████████████████████████████████████████████████████████                                                 | 939/1603 [2:09:16<2:09:24, 11.69s/it]"
     ]
    },
    {
     "name": "stdout",
     "output_type": "stream",
     "text": [
      "result after generate:  {'result': 'ngứa vùng kín, nổi hạt ở môi bé, ra huyết trắng màu xanh nhạt, đau rát khi quan hệ, kinh nguyệt không đều'}\n",
      "Input: ngứa vùng kín và vùng có lông, nổi hạt ở môi bé, ra huyết trắng màu xanh nhạt, đau rát khi mới bắt đầu quan hệ, sau đó thì hết, kinh nguyệt không đều | sản phụ khoa | Output: ngứa vùng kín, nổi hạt ở môi bé, ra huyết trắng màu xanh nhạt, đau rát khi quan hệ, kinh nguyệt không đều\n"
     ]
    },
    {
     "name": "stderr",
     "output_type": "stream",
     "text": [
      "Handle reason combind:  59%|█████████████████████████████████████████████████████████████████████▏                                                | 940/1603 [2:09:21<1:47:01,  9.68s/it]"
     ]
    },
    {
     "name": "stdout",
     "output_type": "stream",
     "text": [
      "result after generate:  {'result': 'hạch ở vị trí môi'}\n",
      "Input: xuất hiện hạch ở vị trí môi | sản phụ khoa | Output: hạch ở vị trí môi\n"
     ]
    },
    {
     "name": "stderr",
     "output_type": "stream",
     "text": [
      "Handle reason combind:  59%|█████████████████████████████████████████████████████████████████████▎                                                | 941/1603 [2:09:26<1:32:02,  8.34s/it]"
     ]
    },
    {
     "name": "stdout",
     "output_type": "stream",
     "text": [
      "result after generate:  {'result': 'ngứa, đau bụng dưới, tiểu gắt'}\n",
      "Input: ngứa ( cách nay 2 ngày)\n",
      "đau bụng dưới (từ sáng hôm qua nhưng bị khoảng 1 tiếng là hết\n",
      "tiểu gắt: đầu giờ trưa hôm nay | sản phụ khoa | Output: ngứa, đau bụng dưới, tiểu gắt\n"
     ]
    },
    {
     "name": "stderr",
     "output_type": "stream",
     "text": [
      "Handle reason combind:  59%|█████████████████████████████████████████████████████████████████████▎                                                | 942/1603 [2:09:30<1:18:32,  7.13s/it]"
     ]
    },
    {
     "name": "stdout",
     "output_type": "stream",
     "text": [
      "result after generate:  {'result': 'rối loạn sinh lý nữ'}\n",
      "Input: rối loạn sinh lý nữ | sản phụ khoa | Output: rối loạn sinh lý nữ\n"
     ]
    },
    {
     "name": "stderr",
     "output_type": "stream",
     "text": [
      "Handle reason combind:  59%|█████████████████████████████████████████████████████████████████████▍                                                | 943/1603 [2:09:48<1:52:20, 10.21s/it]"
     ]
    },
    {
     "name": "stdout",
     "output_type": "stream",
     "text": [
      "result after generate:  {'result': 'áp xe vú'}\n",
      "Input: áp xe vú khi đang cho con bú | sản phụ khoa | Output: áp xe vú\n"
     ]
    },
    {
     "name": "stderr",
     "output_type": "stream",
     "text": [
      "Handle reason combind:  59%|█████████████████████████████████████████████████████████████████████▍                                                | 944/1603 [2:09:52<1:31:49,  8.36s/it]"
     ]
    },
    {
     "name": "stdout",
     "output_type": "stream",
     "text": [
      "result after generate:  {'result': 'trứng vào tử cung, nang trong tử cung 4.1cm, đau nhói'}\n",
      "Input: trứng đã vào tử cung làm tổ to 1.2cm, nhưng có 1 cái nang 4.1cm trong tử cung, có triệu trứng đau nhói | sản phụ khoa | Output: trứng vào tử cung, nang trong tử cung 4.1cm, đau nhói\n"
     ]
    },
    {
     "name": "stderr",
     "output_type": "stream",
     "text": [
      "Handle reason combind:  59%|█████████████████████████████████████████████████████████████████████▌                                                | 945/1603 [2:10:06<1:51:49, 10.20s/it]"
     ]
    },
    {
     "name": "stdout",
     "output_type": "stream",
     "text": [
      "result after generate:  {'result': 'khí hư vón cục màu trắng, ngứa âm đạo, rát âm đạo'}\n",
      "Input: khí hư vón cục màu trắng, có hơi ngứa + rát âm đạo | sản phụ khoa | Output: khí hư vón cục màu trắng, ngứa âm đạo, rát âm đạo\n"
     ]
    },
    {
     "name": "stderr",
     "output_type": "stream",
     "text": [
      "Handle reason combind:  59%|█████████████████████████████████████████████████████████████████████▋                                                | 946/1603 [2:10:07<1:20:13,  7.33s/it]"
     ]
    },
    {
     "name": "stdout",
     "output_type": "stream",
     "text": [
      "result after generate:  {'result': 'chảy máu'}\n",
      "Input: sử dụng thuốc tránh thai khẩn cấp có dấu hiệu chảy máu nhưng sau 7 ngày vẫn chưa hết | sản phụ khoa | Output: chảy máu\n"
     ]
    },
    {
     "name": "stderr",
     "output_type": "stream",
     "text": [
      "Handle reason combind:  59%|█████████████████████████████████████████████████████████████████████▋                                                | 947/1603 [2:10:25<1:55:10, 10.53s/it]"
     ]
    },
    {
     "name": "stdout",
     "output_type": "stream",
     "text": [
      "result after generate:  {'result': 'sùi mào gà, HPV'}\n",
      "Input: nghi ngờ bị sùi mào gà, muốn tư vấn thêm về hpv | sản phụ khoa | Output: sùi mào gà, HPV\n"
     ]
    },
    {
     "name": "stderr",
     "output_type": "stream",
     "text": [
      "Handle reason combind:  59%|█████████████████████████████████████████████████████████████████████▊                                                | 948/1603 [2:10:34<1:51:21, 10.20s/it]"
     ]
    },
    {
     "name": "stdout",
     "output_type": "stream",
     "text": [
      "result after generate:  {'result': None}\n"
     ]
    },
    {
     "name": "stderr",
     "output_type": "stream",
     "text": [
      "Handle reason combind:  59%|█████████████████████████████████████████████████████████████████████▊                                                | 949/1603 [2:10:37<1:24:52,  7.79s/it]"
     ]
    },
    {
     "name": "stdout",
     "output_type": "stream",
     "text": [
      "result after generate:  {'result': None}\n"
     ]
    },
    {
     "name": "stderr",
     "output_type": "stream",
     "text": [
      "Handle reason combind:  59%|█████████████████████████████████████████████████████████████████████▉                                                | 950/1603 [2:10:54<1:57:04, 10.76s/it]"
     ]
    },
    {
     "name": "stdout",
     "output_type": "stream",
     "text": [
      "result after generate:  {'result': 'nghi ngờ viên âm đạo'}\n",
      "Input: nghi ngờ viên âm đạo | sản phụ khoa | Output: nghi ngờ viên âm đạo\n"
     ]
    },
    {
     "name": "stderr",
     "output_type": "stream",
     "text": [
      "Handle reason combind:  59%|██████████████████████████████████████████████████████████████████████                                                | 951/1603 [2:10:58<1:34:38,  8.71s/it]"
     ]
    },
    {
     "name": "stdout",
     "output_type": "stream",
     "text": [
      "result after generate:  {'result': 'trễ kinh, ngứa vùng kín'}\n",
      "Input: trễ kinh.ngứa vùng kín | sản phụ khoa | Output: trễ kinh, ngứa vùng kín\n"
     ]
    },
    {
     "name": "stderr",
     "output_type": "stream",
     "text": [
      "Handle reason combind:  59%|██████████████████████████████████████████████████████████████████████                                                | 952/1603 [2:11:03<1:21:06,  7.48s/it]"
     ]
    },
    {
     "name": "stdout",
     "output_type": "stream",
     "text": [
      "result after generate:  {'result': 'ngứa phụ khoa'}\n",
      "Input: ngua phu khoa | sản phụ khoa | Output: ngứa phụ khoa\n"
     ]
    },
    {
     "name": "stderr",
     "output_type": "stream",
     "text": [
      "Handle reason combind:  59%|██████████████████████████████████████████████████████████████████████▏                                               | 953/1603 [2:11:07<1:11:20,  6.58s/it]"
     ]
    },
    {
     "name": "stdout",
     "output_type": "stream",
     "text": [
      "result after generate:  {'result': 'kinh nguyệt không đều, ung thư cổ tử cung'}\n",
      "Input: kinh nguyệt không đều, muốn tầm soát ung thư cổ tử cung. | sản phụ khoa | Output: kinh nguyệt không đều, ung thư cổ tử cung\n"
     ]
    },
    {
     "name": "stderr",
     "output_type": "stream",
     "text": [
      "Handle reason combind:  60%|██████████████████████████████████████████████████████████████████████▏                                               | 954/1603 [2:11:22<1:36:22,  8.91s/it]"
     ]
    },
    {
     "name": "stdout",
     "output_type": "stream",
     "text": [
      "result after generate:  {'result': None}\n"
     ]
    },
    {
     "name": "stderr",
     "output_type": "stream",
     "text": [
      "Handle reason combind:  60%|██████████████████████████████████████████████████████████████████████▎                                               | 955/1603 [2:11:24<1:15:59,  7.04s/it]"
     ]
    },
    {
     "name": "stdout",
     "output_type": "stream",
     "text": [
      "result after generate:  {'result': 'khí hư bất thường, đau rát'}\n",
      "Input: khí hư bất thường, đau rát… | sản phụ khoa | Output: khí hư bất thường, đau rát\n"
     ]
    },
    {
     "name": "stderr",
     "output_type": "stream",
     "text": [
      "Handle reason combind:  60%|██████████████████████████████████████████████████████████████████████▎                                               | 956/1603 [2:11:35<1:28:13,  8.18s/it]"
     ]
    },
    {
     "name": "stdout",
     "output_type": "stream",
     "text": [
      "result after generate:  {'result': 'ra ít dịch màu nâu, đau bụng'}\n",
      "Input: thai ivf hôm nay thấy ra ít dịch màu nâu và hơi nhẩm nhẩm đau bụng. | sản phụ khoa | Output: ra ít dịch màu nâu, đau bụng\n"
     ]
    },
    {
     "name": "stderr",
     "output_type": "stream",
     "text": [
      "Handle reason combind:  60%|██████████████████████████████████████████████████████████████████████▍                                               | 957/1603 [2:11:36<1:05:34,  6.09s/it]"
     ]
    },
    {
     "name": "stdout",
     "output_type": "stream",
     "text": [
      "result after generate:  {'result': 'rối loạn kinh nguyệt, viêm âm đạo'}\n",
      "Input: rối loạn kinh nguyệt . viêm âm đạo | sản phụ khoa | Output: rối loạn kinh nguyệt, viêm âm đạo\n"
     ]
    },
    {
     "name": "stderr",
     "output_type": "stream",
     "text": [
      "Handle reason combind:  60%|██████████████████████████████████████████████████████████████████████▌                                               | 958/1603 [2:11:48<1:24:05,  7.82s/it]"
     ]
    },
    {
     "name": "stdout",
     "output_type": "stream",
     "text": [
      "result after generate:  {'result': 'ngứa vùng âm đạo, mụn ở phần môi lớn, u nhỏ ở phần mu'}\n",
      "Input: ngứa vùng âm đạo. có những mụn nổi ở phần môi lớn. có một cục u nhỏ ở phần mu. | sản phụ khoa | Output: ngứa vùng âm đạo, mụn ở phần môi lớn, u nhỏ ở phần mu\n"
     ]
    },
    {
     "name": "stderr",
     "output_type": "stream",
     "text": [
      "Handle reason combind:  60%|██████████████████████████████████████████████████████████████████████▌                                               | 959/1603 [2:11:50<1:03:50,  5.95s/it]"
     ]
    },
    {
     "name": "stdout",
     "output_type": "stream",
     "text": [
      "result after generate:  {'result': 'chảy máu bất thường, trễ kinh nguyệt'}\n",
      "Input: chảy máu bất thường , trễ kinh nguyệt | sản phụ khoa | Output: chảy máu bất thường, trễ kinh nguyệt\n"
     ]
    },
    {
     "name": "stderr",
     "output_type": "stream",
     "text": [
      "Handle reason combind:  60%|██████████████████████████████████████████████████████████████████████▋                                               | 960/1603 [2:11:58<1:11:16,  6.65s/it]"
     ]
    },
    {
     "name": "stdout",
     "output_type": "stream",
     "text": [
      "result after generate:  {'result': 'khí hư ra màu trắng bả đậu vón cục'}\n",
      "Input: khí hư ra màu trắng bả đậu vón cục | sản phụ khoa | Output: khí hư ra màu trắng bả đậu vón cục\n"
     ]
    },
    {
     "name": "stderr",
     "output_type": "stream",
     "text": [
      "Handle reason combind:  60%|██████████████████████████████████████████████████████████████████████▋                                               | 961/1603 [2:12:03<1:05:43,  6.14s/it]"
     ]
    },
    {
     "name": "stdout",
     "output_type": "stream",
     "text": [
      "result after generate:  {'result': 'rối loạn kinh nguyệt, khó có con, u nang buồng trứng'}\n",
      "Input: sau phẫu thuật u nang buồng trứng vỡ, rối loạn kinh nguyệt, khó có con (mong con) | sản phụ khoa | Output: rối loạn kinh nguyệt, khó có con, u nang buồng trứng\n"
     ]
    },
    {
     "name": "stderr",
     "output_type": "stream",
     "text": [
      "Handle reason combind:  60%|██████████████████████████████████████████████████████████████████████▊                                               | 962/1603 [2:12:22<1:46:51, 10.00s/it]"
     ]
    },
    {
     "name": "stdout",
     "output_type": "stream",
     "text": [
      "result after generate:  {'result': 'đau bụng, tiểu buốt'}\n",
      "Input: đau chướng bụng, tiểu buốt | sản phụ khoa | Output: đau bụng, tiểu buốt\n"
     ]
    },
    {
     "name": "stderr",
     "output_type": "stream",
     "text": [
      "Handle reason combind:  60%|██████████████████████████████████████████████████████████████████████▉                                               | 963/1603 [2:12:24<1:20:14,  7.52s/it]"
     ]
    },
    {
     "name": "stdout",
     "output_type": "stream",
     "text": [
      "result after generate:  {'result': 'khám phụ khoa, tầm soát utctc'}\n",
      "Input: khám phụ khoa tầm soát utctc | sản phụ khoa | Output: khám phụ khoa, tầm soát utctc\n"
     ]
    },
    {
     "name": "stderr",
     "output_type": "stream",
     "text": [
      "Handle reason combind:  60%|██████████████████████████████████████████████████████████████████████▉                                               | 964/1603 [2:12:34<1:30:14,  8.47s/it]"
     ]
    },
    {
     "name": "stdout",
     "output_type": "stream",
     "text": [
      "result after generate:  {'result': 'UTCTC'}\n",
      "Input: tầm soát utctc | sản phụ khoa | Output: UTCTC\n"
     ]
    },
    {
     "name": "stderr",
     "output_type": "stream",
     "text": [
      "Handle reason combind:  60%|███████████████████████████████████████████████████████████████████████                                               | 965/1603 [2:12:39<1:16:18,  7.18s/it]"
     ]
    },
    {
     "name": "stdout",
     "output_type": "stream",
     "text": [
      "result after generate:  {'result': 'ngứa, ra dịch nhầy âm đạo'}\n",
      "Input: ngứa, ra dịch nhầy âm đạo nhiều năm, khám và điều trị. | sản phụ khoa | Output: ngứa, ra dịch nhầy âm đạo\n"
     ]
    },
    {
     "name": "stderr",
     "output_type": "stream",
     "text": [
      "Handle reason combind:  60%|███████████████████████████████████████████████████████████████████████                                               | 966/1603 [2:12:44<1:11:06,  6.70s/it]"
     ]
    },
    {
     "name": "stdout",
     "output_type": "stream",
     "text": [
      "result after generate:  {'result': 'khám phụ sản'}\n",
      "Input: khám phụ sãn | sản phụ khoa | Output: khám phụ sản\n"
     ]
    },
    {
     "name": "stderr",
     "output_type": "stream",
     "text": [
      "Handle reason combind:  60%|███████████████████████████████████████████████████████████████████████▏                                              | 967/1603 [2:12:49<1:06:10,  6.24s/it]"
     ]
    },
    {
     "name": "stdout",
     "output_type": "stream",
     "text": [
      "result after generate:  {'result': 'rong kinh, cảm giác buồn tiểu nhưng không đi tiểu được'}\n",
      "Input: bị rong kinh, có cảm giác buồn tiểu nhưng không đi tiểu được | sản phụ khoa | Output: rong kinh, cảm giác buồn tiểu nhưng không đi tiểu được\n"
     ]
    },
    {
     "name": "stderr",
     "output_type": "stream",
     "text": [
      "Handle reason combind:  60%|███████████████████████████████████████████████████████████████████████▎                                              | 968/1603 [2:12:55<1:05:35,  6.20s/it]"
     ]
    },
    {
     "name": "stdout",
     "output_type": "stream",
     "text": [
      "result after generate:  {'result': 'kinh không đều, mất kinh 6 tháng, ra chất bột màu đen'}\n",
      "Input: kinh không đều bị mất 6 tháng xong bị lại, ra chất bột màu đen không nhìn giống máu | sản phụ khoa | Output: kinh không đều, mất kinh 6 tháng, ra chất bột màu đen\n"
     ]
    },
    {
     "name": "stderr",
     "output_type": "stream",
     "text": [
      "Handle reason combind:  60%|███████████████████████████████████████████████████████████████████████▎                                              | 969/1603 [2:13:03<1:10:37,  6.68s/it]"
     ]
    },
    {
     "name": "stdout",
     "output_type": "stream",
     "text": [
      "result after generate:  {'result': 'triệu chứng bất thường'}\n",
      "Input: có triệu chứng bất thường | sản phụ khoa | Output: triệu chứng bất thường\n"
     ]
    },
    {
     "name": "stderr",
     "output_type": "stream",
     "text": [
      "Handle reason combind:  61%|████████████████████████████████████████████████████████████████████████▌                                               | 970/1603 [2:13:06<58:47,  5.57s/it]"
     ]
    },
    {
     "name": "stdout",
     "output_type": "stream",
     "text": [
      "result after generate:  {'result': 'mụn nhọt'}\n",
      "Input: mụn nhọt gần bộ phận sd | sản phụ khoa | Output: mụn nhọt\n"
     ]
    },
    {
     "name": "stderr",
     "output_type": "stream",
     "text": [
      "Handle reason combind:  61%|███████████████████████████████████████████████████████████████████████▍                                              | 971/1603 [2:13:12<1:00:12,  5.72s/it]"
     ]
    },
    {
     "name": "stdout",
     "output_type": "stream",
     "text": [
      "result after generate:  {'result': None}\n"
     ]
    },
    {
     "name": "stderr",
     "output_type": "stream",
     "text": [
      "Handle reason combind:  61%|███████████████████████████████████████████████████████████████████████▌                                              | 972/1603 [2:13:24<1:18:31,  7.47s/it]"
     ]
    },
    {
     "name": "stdout",
     "output_type": "stream",
     "text": [
      "result after generate:  {'result': 'tình trạng sức khoẻ sinh sản'}\n",
      "Input: khám tình trạng sức khoẻ sinh sản | sản phụ khoa | Output: tình trạng sức khoẻ sinh sản\n"
     ]
    },
    {
     "name": "stderr",
     "output_type": "stream",
     "text": [
      "Handle reason combind:  61%|███████████████████████████████████████████████████████████████████████▌                                              | 973/1603 [2:13:28<1:07:24,  6.42s/it]"
     ]
    },
    {
     "name": "stdout",
     "output_type": "stream",
     "text": [
      "result after generate:  {'result': None}\n"
     ]
    },
    {
     "name": "stderr",
     "output_type": "stream",
     "text": [
      "Handle reason combind:  61%|███████████████████████████████████████████████████████████████████████▋                                              | 974/1603 [2:13:35<1:08:58,  6.58s/it]"
     ]
    },
    {
     "name": "stdout",
     "output_type": "stream",
     "text": [
      "result after generate:  {'result': 'u nang, u xơ'}\n",
      "Input: khám u nang, u xơ | sản phụ khoa | Output: u nang, u xơ\n"
     ]
    },
    {
     "name": "stderr",
     "output_type": "stream",
     "text": [
      "Handle reason combind:  61%|███████████████████████████████████████████████████████████████████████▊                                              | 975/1603 [2:13:47<1:25:38,  8.18s/it]"
     ]
    },
    {
     "name": "stdout",
     "output_type": "stream",
     "text": [
      "result after generate:  {'result': 'nổi hạch, sưng, đau, di chuyển khó khăn, hạch tăng kích thước nhanh'}\n",
      "Input: nổi hạch ở môi lớn vùng kín (sưng, đau,di chuyển khó khăn, hạch tăng kích thước nhanh) | sản phụ khoa | Output: nổi hạch, sưng, đau, di chuyển khó khăn, hạch tăng kích thước nhanh\n"
     ]
    },
    {
     "name": "stderr",
     "output_type": "stream",
     "text": [
      "Handle reason combind:  61%|███████████████████████████████████████████████████████████████████████▊                                              | 976/1603 [2:13:48<1:04:20,  6.16s/it]"
     ]
    },
    {
     "name": "stdout",
     "output_type": "stream",
     "text": [
      "result after generate:  {'result': 'đau rát vùng kính'}\n",
      "Input: bị đau rát vùng kính | sản phụ khoa | Output: đau rát vùng kính\n"
     ]
    },
    {
     "name": "stderr",
     "output_type": "stream",
     "text": [
      "Handle reason combind:  61%|███████████████████████████████████████████████████████████████████████▉                                              | 977/1603 [2:14:05<1:36:54,  9.29s/it]"
     ]
    },
    {
     "name": "stdout",
     "output_type": "stream",
     "text": [
      "result after generate:  {'result': 'mụn nhọt ở bộ phận sinh dục ngoài'}\n",
      "Input: bị mụn nhọt ở ngoai bộ phận sinh dục | sản phụ khoa | Output: mụn nhọt ở bộ phận sinh dục ngoài\n"
     ]
    },
    {
     "name": "stderr",
     "output_type": "stream",
     "text": [
      "Handle reason combind:  61%|███████████████████████████████████████████████████████████████████████▉                                              | 978/1603 [2:14:07<1:16:20,  7.33s/it]"
     ]
    },
    {
     "name": "stdout",
     "output_type": "stream",
     "text": [
      "result after generate:  {'result': 'mang thai'}\n",
      "Input: có dấu hiệu mang thai khi đã thử que test | sản phụ khoa | Output: mang thai\n"
     ]
    },
    {
     "name": "stderr",
     "output_type": "stream",
     "text": [
      "Handle reason combind:  61%|████████████████████████████████████████████████████████████████████████                                              | 979/1603 [2:14:16<1:21:19,  7.82s/it]"
     ]
    },
    {
     "name": "stdout",
     "output_type": "stream",
     "text": [
      "result after generate:  {'result': 'nghi viêm âm đạo, sùi mào gà'}\n",
      "Input: nghi viêm âm đạo sùi mào gà | sản phụ khoa | Output: nghi viêm âm đạo, sùi mào gà\n"
     ]
    },
    {
     "name": "stderr",
     "output_type": "stream",
     "text": [
      "Handle reason combind:  61%|████████████████████████████████████████████████████████████████████████▏                                             | 980/1603 [2:14:23<1:16:28,  7.37s/it]"
     ]
    },
    {
     "name": "stdout",
     "output_type": "stream",
     "text": [
      "result after generate:  {'result': 'mang thai'}\n",
      "Input: khám xét nghiệm xem có mang thai hay không | sản phụ khoa | Output: mang thai\n"
     ]
    },
    {
     "name": "stderr",
     "output_type": "stream",
     "text": [
      "Handle reason combind:  61%|████████████████████████████████████████████████████████████████████████▏                                             | 981/1603 [2:14:31<1:18:52,  7.61s/it]"
     ]
    },
    {
     "name": "stdout",
     "output_type": "stream",
     "text": [
      "result after generate:  {'result': 'Rong kinh'}\n",
      "Input: rong kinh quá 2 tuần | sản phụ khoa | Output: Rong kinh\n"
     ]
    },
    {
     "name": "stderr",
     "output_type": "stream",
     "text": [
      "Handle reason combind:  61%|████████████████████████████████████████████████████████████████████████▎                                             | 982/1603 [2:14:34<1:04:02,  6.19s/it]"
     ]
    },
    {
     "name": "stdout",
     "output_type": "stream",
     "text": [
      "result after generate:  {'result': 'nốt giống nhọt cạnh âm đạo, ngứa, xót'}\n",
      "Input: xuất hiện 1 nốt giống nhọt cạnh âm đạo cách đây 3 tháng, ban đầu bình thường nhưng gần đây chà qua vừa ngứa vừa xót, không mọc thêm cái nào khác, chế độ sinh hoạt vẫn bình thường | sản phụ khoa | Output: nốt giống nhọt cạnh âm đạo, ngứa, xót\n"
     ]
    },
    {
     "name": "stderr",
     "output_type": "stream",
     "text": [
      "Handle reason combind:  61%|█████████████████████████████████████████████████████████████████████████▌                                              | 983/1603 [2:14:38<58:10,  5.63s/it]"
     ]
    },
    {
     "name": "stdout",
     "output_type": "stream",
     "text": [
      "result after generate:  {'result': 'ngứa bộ phận sinh dục'}\n",
      "Input: ngứa bộ phận sd | sản phụ khoa | Output: ngứa bộ phận sinh dục\n"
     ]
    },
    {
     "name": "stderr",
     "output_type": "stream",
     "text": [
      "Handle reason combind:  61%|████████████████████████████████████████████████████████████████████████▍                                             | 984/1603 [2:14:47<1:08:55,  6.68s/it]"
     ]
    },
    {
     "name": "stdout",
     "output_type": "stream",
     "text": [
      "result after generate:  {'result': 'khí hư có màu vàng xanh, mùi khó chịu'}\n",
      "Input: thi thoảng ra khí hư có màu vàng xanh, mùi khó chịu | sản phụ khoa | Output: khí hư có màu vàng xanh, mùi khó chịu\n"
     ]
    },
    {
     "name": "stderr",
     "output_type": "stream",
     "text": [
      "Handle reason combind:  61%|█████████████████████████████████████████████████████████████████████████▋                                              | 985/1603 [2:14:50<55:18,  5.37s/it]"
     ]
    },
    {
     "name": "stdout",
     "output_type": "stream",
     "text": [
      "result after generate:  {'result': 'tiểu buốt, ngứa vùng kín'}\n",
      "Input: tiểu buốt, ngứa vùng kín | sản phụ khoa | Output: tiểu buốt, ngứa vùng kín\n"
     ]
    },
    {
     "name": "stderr",
     "output_type": "stream",
     "text": [
      "Handle reason combind:  62%|████████████████████████████████████████████████████████████████████████▌                                             | 986/1603 [2:15:06<1:27:59,  8.56s/it]"
     ]
    },
    {
     "name": "stdout",
     "output_type": "stream",
     "text": [
      "result after generate:  {'result': 'tắc tia sữa'}\n",
      "Input: tắc tia sữa | sản phụ khoa | Output: tắc tia sữa\n"
     ]
    },
    {
     "name": "stderr",
     "output_type": "stream",
     "text": [
      "Handle reason combind:  62%|████████████████████████████████████████████████████████████████████████▋                                             | 987/1603 [2:15:12<1:20:02,  7.80s/it]"
     ]
    },
    {
     "name": "stdout",
     "output_type": "stream",
     "text": [
      "result after generate:  {'result': 'đi tiểu bị buốt, đau bụng dưới âm ỉ'}\n",
      "Input: đi tiểu bị buốt và bị đau bụng dưới âm ỉ | sản phụ khoa | Output: đi tiểu bị buốt, đau bụng dưới âm ỉ\n"
     ]
    },
    {
     "name": "stderr",
     "output_type": "stream",
     "text": [
      "Handle reason combind:  62%|████████████████████████████████████████████████████████████████████████▋                                             | 988/1603 [2:15:18<1:14:52,  7.30s/it]"
     ]
    },
    {
     "name": "stdout",
     "output_type": "stream",
     "text": [
      "result after generate:  {'result': 'đau bụng, mệt mỏi, trầm cảm'}\n",
      "Input: thai kỳ tuần thứ 8, hay xuất hiện đau bụng ở phần dưới rốn, người hay mệt mỏi có dấu hiệu trầm cảm | sản phụ khoa | Output: đau bụng, mệt mỏi, trầm cảm\n"
     ]
    },
    {
     "name": "stderr",
     "output_type": "stream",
     "text": [
      "Handle reason combind:  62%|████████████████████████████████████████████████████████████████████████▊                                             | 989/1603 [2:15:28<1:24:25,  8.25s/it]"
     ]
    },
    {
     "name": "stdout",
     "output_type": "stream",
     "text": [
      "result after generate:  {'result': 'nổi mụn thịt ở âm hộ'}\n",
      "Input: nổi mụn thịt ở âm hộ | sản phụ khoa | Output: nổi mụn thịt ở âm hộ\n"
     ]
    },
    {
     "name": "stderr",
     "output_type": "stream",
     "text": [
      "Handle reason combind:  62%|████████████████████████████████████████████████████████████████████████▉                                             | 990/1603 [2:15:34<1:16:11,  7.46s/it]"
     ]
    },
    {
     "name": "stdout",
     "output_type": "stream",
     "text": [
      "result after generate:  {'result': 'sưng hạch, sốt nhẹ'}\n",
      "Input: sưng hạch ở bẹn, kèm sốt nhẹ | sản phụ khoa | Output: sưng hạch, sốt nhẹ\n"
     ]
    },
    {
     "name": "stderr",
     "output_type": "stream",
     "text": [
      "Handle reason combind:  62%|████████████████████████████████████████████████████████████████████████▉                                             | 991/1603 [2:15:42<1:17:24,  7.59s/it]"
     ]
    },
    {
     "name": "stdout",
     "output_type": "stream",
     "text": [
      "result after generate:  {'result': 'nang buồng trứng, thay đổi sợi bọc tuyến vú'}\n",
      "Input: siêu âm có nang buồng trứng và thay đổi sợi bọc tuyến vú, muốn kiểm tra thêm với bs nga | sản phụ khoa | Output: nang buồng trứng, thay đổi sợi bọc tuyến vú\n"
     ]
    },
    {
     "name": "stderr",
     "output_type": "stream",
     "text": [
      "Handle reason combind:  62%|█████████████████████████████████████████████████████████████████████████                                             | 992/1603 [2:15:51<1:23:09,  8.17s/it]"
     ]
    },
    {
     "name": "stdout",
     "output_type": "stream",
     "text": [
      "result after generate:  {'result': 'khí hư đặc dính'}\n",
      "Input: khí hư đặc dính | sản phụ khoa | Output: khí hư đặc dính\n"
     ]
    },
    {
     "name": "stderr",
     "output_type": "stream",
     "text": [
      "Handle reason combind:  62%|█████████████████████████████████████████████████████████████████████████                                             | 993/1603 [2:16:01<1:27:46,  8.63s/it]"
     ]
    },
    {
     "name": "stdout",
     "output_type": "stream",
     "text": [
      "result after generate:  {'result': 'mụn nhỏ li ti ở âm đạo, khó chịu'}\n",
      "Input: xuất hiện các mụn nhỏ li ti ở âm đạo gây khó chịu | sản phụ khoa | Output: mụn nhỏ li ti ở âm đạo, khó chịu\n"
     ]
    },
    {
     "name": "stderr",
     "output_type": "stream",
     "text": [
      "Handle reason combind:  62%|█████████████████████████████████████████████████████████████████████████▏                                            | 994/1603 [2:16:02<1:03:35,  6.27s/it]"
     ]
    },
    {
     "name": "stdout",
     "output_type": "stream",
     "text": [
      "result after generate:  {'result': 'chảy máu vùng kín'}\n",
      "Input: chảy máu vùng kín | sản phụ khoa | Output: chảy máu vùng kín\n"
     ]
    },
    {
     "name": "stderr",
     "output_type": "stream",
     "text": [
      "Handle reason combind:  62%|█████████████████████████████████████████████████████████████████████████▏                                            | 995/1603 [2:16:17<1:32:02,  9.08s/it]"
     ]
    },
    {
     "name": "stdout",
     "output_type": "stream",
     "text": [
      "result after generate:  {'result': 'ngứa vùng kín, ra khí hư, rối loạn kì kinh'}\n",
      "Input: ngứa vùng kín, ra khí hư, rối loạn kì kinh | sản phụ khoa | Output: ngứa vùng kín, ra khí hư, rối loạn kì kinh\n"
     ]
    },
    {
     "name": "stderr",
     "output_type": "stream",
     "text": [
      "Handle reason combind:  62%|█████████████████████████████████████████████████████████████████████████▎                                            | 996/1603 [2:16:20<1:13:36,  7.28s/it]"
     ]
    },
    {
     "name": "stdout",
     "output_type": "stream",
     "text": [
      "result after generate:  {'result': 'tiểu buốt, đi vệ sinh có mùi hôi, dịch tiết ra màu xanh và có mùi, đau bụng dưới, tiểu ra máu'}\n",
      "Input: tiểu buốt, đi vệ sinh có mùi hôi, dịch tiết ra màu xanh và có mùi, đau bụng dưới, vài ngày trước có tiểu ra máu | sản phụ khoa | Output: tiểu buốt, đi vệ sinh có mùi hôi, dịch tiết ra màu xanh và có mùi, đau bụng dưới, tiểu ra máu\n"
     ]
    },
    {
     "name": "stderr",
     "output_type": "stream",
     "text": [
      "Handle reason combind:  62%|█████████████████████████████████████████████████████████████████████████▍                                            | 997/1603 [2:16:32<1:25:15,  8.44s/it]"
     ]
    },
    {
     "name": "stdout",
     "output_type": "stream",
     "text": [
      "result after generate:  {'result': 'tổng quát sức khoẻ phụ khoa, bệnh truyền nhiễm'}\n",
      "Input: thăm khám tổng quát sức khoẻ phụ khoa và các bệnh truyền nhiễm | sản phụ khoa | Output: tổng quát sức khoẻ phụ khoa, bệnh truyền nhiễm\n"
     ]
    },
    {
     "name": "stderr",
     "output_type": "stream",
     "text": [
      "Handle reason combind:  62%|█████████████████████████████████████████████████████████████████████████▍                                            | 998/1603 [2:16:35<1:11:27,  7.09s/it]"
     ]
    },
    {
     "name": "stdout",
     "output_type": "stream",
     "text": [
      "result after generate:  {'result': 'rong kinh'}\n",
      "Input: rong king | sản phụ khoa | Output: rong kinh\n"
     ]
    },
    {
     "name": "stderr",
     "output_type": "stream",
     "text": [
      "Handle reason combind:  62%|█████████████████████████████████████████████████████████████████████████▌                                            | 999/1603 [2:16:44<1:17:03,  7.65s/it]"
     ]
    },
    {
     "name": "stdout",
     "output_type": "stream",
     "text": [
      "result after generate:  {'result': 'động thai'}\n",
      "Input: kiểm tra thai, nghi vấn động thai | sản phụ khoa | Output: động thai\n"
     ]
    },
    {
     "name": "stderr",
     "output_type": "stream",
     "text": [
      "Handle reason combind:  62%|████████████████████████████████████████████████████████████████████████▉                                            | 1000/1603 [2:17:03<1:50:03, 10.95s/it]"
     ]
    },
    {
     "name": "stdout",
     "output_type": "stream",
     "text": [
      "result after generate:  {'result': None}\n"
     ]
    },
    {
     "name": "stderr",
     "output_type": "stream",
     "text": [
      "Handle reason combind:  62%|█████████████████████████████████████████████████████████████████████████                                            | 1001/1603 [2:17:08<1:31:59,  9.17s/it]"
     ]
    },
    {
     "name": "stdout",
     "output_type": "stream",
     "text": [
      "result after generate:  {'result': 'đau rát'}\n",
      "Input: đau rát | sản phụ khoa | Output: đau rát\n"
     ]
    },
    {
     "name": "stderr",
     "output_type": "stream",
     "text": [
      "Handle reason combind:  63%|█████████████████████████████████████████████████████████████████████████▏                                           | 1002/1603 [2:17:13<1:18:08,  7.80s/it]"
     ]
    },
    {
     "name": "stdout",
     "output_type": "stream",
     "text": [
      "result after generate:  {'result': 'nghi thai ngoài tử cung, ra máu'}\n",
      "Input: nghi thai ngoài tử cung / ra máu | sản phụ khoa | Output: nghi thai ngoài tử cung, ra máu\n"
     ]
    },
    {
     "name": "stderr",
     "output_type": "stream",
     "text": [
      "Handle reason combind:  63%|█████████████████████████████████████████████████████████████████████████▏                                           | 1003/1603 [2:17:27<1:37:13,  9.72s/it]"
     ]
    },
    {
     "name": "stdout",
     "output_type": "stream",
     "text": [
      "result after generate:  {'result': 'khí hư vàng, ngứa'}\n",
      "Input: thấy có khí hư vàng và ngứa | sản phụ khoa | Output: khí hư vàng, ngứa\n"
     ]
    },
    {
     "name": "stderr",
     "output_type": "stream",
     "text": [
      "Handle reason combind:  63%|█████████████████████████████████████████████████████████████████████████▎                                           | 1004/1603 [2:17:43<1:55:35, 11.58s/it]"
     ]
    },
    {
     "name": "stdout",
     "output_type": "stream",
     "text": [
      "result after generate:  {'result': 'rong kinh, mất nhiều máu'}\n",
      "Input: tôi bị rong kinh và đến ngày kinh bị mất rất nhiều máu, thường xuyên phải đến viện huyết học truyền máu trung ương để truyền máu | sản phụ khoa | Output: rong kinh, mất nhiều máu\n"
     ]
    },
    {
     "name": "stderr",
     "output_type": "stream",
     "text": [
      "Handle reason combind:  63%|█████████████████████████████████████████████████████████████████████████▎                                           | 1005/1603 [2:17:45<1:27:21,  8.77s/it]"
     ]
    },
    {
     "name": "stdout",
     "output_type": "stream",
     "text": [
      "result after generate:  {'result': None}\n"
     ]
    },
    {
     "name": "stderr",
     "output_type": "stream",
     "text": [
      "Handle reason combind:  63%|█████████████████████████████████████████████████████████████████████████▍                                           | 1006/1603 [2:18:03<1:54:55, 11.55s/it]"
     ]
    },
    {
     "name": "stdout",
     "output_type": "stream",
     "text": [
      "result after generate:  {'result': None}\n"
     ]
    },
    {
     "name": "stderr",
     "output_type": "stream",
     "text": [
      "Handle reason combind:  63%|█████████████████████████████████████████████████████████████████████████▍                                           | 1007/1603 [2:18:07<1:33:10,  9.38s/it]"
     ]
    },
    {
     "name": "stdout",
     "output_type": "stream",
     "text": [
      "result after generate:  {'result': 'khám thai'}\n",
      "Input: khám thai | sản phụ khoa | Output: khám thai\n"
     ]
    },
    {
     "name": "stderr",
     "output_type": "stream",
     "text": [
      "Handle reason combind:  63%|█████████████████████████████████████████████████████████████████████████▌                                           | 1008/1603 [2:18:16<1:30:20,  9.11s/it]"
     ]
    },
    {
     "name": "stdout",
     "output_type": "stream",
     "text": [
      "result after generate:  {'result': None}\n"
     ]
    },
    {
     "name": "stderr",
     "output_type": "stream",
     "text": [
      "Handle reason combind:  63%|█████████████████████████████████████████████████████████████████████████▋                                           | 1009/1603 [2:18:31<1:48:16, 10.94s/it]"
     ]
    },
    {
     "name": "stdout",
     "output_type": "stream",
     "text": [
      "result after generate:  {'result': 'kinh nguyệt kéo dài, sưng'}\n",
      "Input: kinh nguyệt kéo dài trên 7 ngày, có hiện tượng sưng | sản phụ khoa | Output: kinh nguyệt kéo dài, sưng\n"
     ]
    },
    {
     "name": "stderr",
     "output_type": "stream",
     "text": [
      "Handle reason combind:  63%|█████████████████████████████████████████████████████████████████████████▋                                           | 1010/1603 [2:18:33<1:22:34,  8.35s/it]"
     ]
    },
    {
     "name": "stdout",
     "output_type": "stream",
     "text": [
      "result after generate:  {'result': 'ngứa ngáy, khó chịu'}\n",
      "Input: kiểm tra âm đạo (ngứa ngáy, khó chịu) | sản phụ khoa | Output: ngứa ngáy, khó chịu\n"
     ]
    },
    {
     "name": "stderr",
     "output_type": "stream",
     "text": [
      "Handle reason combind:  63%|█████████████████████████████████████████████████████████████████████████▊                                           | 1011/1603 [2:18:45<1:31:02,  9.23s/it]"
     ]
    },
    {
     "name": "stdout",
     "output_type": "stream",
     "text": [
      "result after generate:  {'result': 'cổ tử cung'}\n",
      "Input: kiểm tra lại về cổ tử cung | sản phụ khoa | Output: cổ tử cung\n"
     ]
    },
    {
     "name": "stderr",
     "output_type": "stream",
     "text": [
      "Handle reason combind:  63%|█████████████████████████████████████████████████████████████████████████▊                                           | 1012/1603 [2:18:47<1:10:35,  7.17s/it]"
     ]
    },
    {
     "name": "stdout",
     "output_type": "stream",
     "text": [
      "result after generate:  {'result': 'trễ kinh, dịch lạ vón màu nâu'}\n",
      "Input: trễ kinh\n",
      "bị dịch lạ vón màu nâu | sản phụ khoa | Output: trễ kinh, dịch lạ vón màu nâu\n"
     ]
    },
    {
     "name": "stderr",
     "output_type": "stream",
     "text": [
      "Handle reason combind:  63%|█████████████████████████████████████████████████████████████████████████▉                                           | 1013/1603 [2:18:53<1:05:38,  6.67s/it]"
     ]
    },
    {
     "name": "stdout",
     "output_type": "stream",
     "text": [
      "result after generate:  {'result': 'nấm âm đạo'}\n",
      "Input: nấm ad | sản phụ khoa | Output: nấm âm đạo\n"
     ]
    },
    {
     "name": "stderr",
     "output_type": "stream",
     "text": [
      "Handle reason combind:  63%|██████████████████████████████████████████████████████████████████████████                                           | 1014/1603 [2:19:13<1:45:16, 10.72s/it]"
     ]
    },
    {
     "name": "stdout",
     "output_type": "stream",
     "text": [
      "result after generate:  {'result': 'chậm kinh, nghi mang thai'}\n",
      "Input: chậm kinh nghi mang thai | sản phụ khoa | Output: chậm kinh, nghi mang thai\n"
     ]
    },
    {
     "name": "stderr",
     "output_type": "stream",
     "text": [
      "Handle reason combind:  63%|██████████████████████████████████████████████████████████████████████████                                           | 1015/1603 [2:19:20<1:36:25,  9.84s/it]"
     ]
    },
    {
     "name": "stdout",
     "output_type": "stream",
     "text": [
      "result after generate:  {'result': 'khí hư có màu nâu, có mùi trứng thối'}\n",
      "Input: khí hư có màu nâu, có mùi trứng thối | sản phụ khoa | Output: khí hư có màu nâu, có mùi trứng thối\n"
     ]
    },
    {
     "name": "stderr",
     "output_type": "stream",
     "text": [
      "Handle reason combind:  63%|██████████████████████████████████████████████████████████████████████████▏                                          | 1016/1603 [2:19:23<1:14:30,  7.62s/it]"
     ]
    },
    {
     "name": "stdout",
     "output_type": "stream",
     "text": [
      "result after generate:  {'result': None}\n"
     ]
    },
    {
     "name": "stderr",
     "output_type": "stream",
     "text": [
      "Handle reason combind:  63%|██████████████████████████████████████████████████████████████████████████▏                                          | 1017/1603 [2:19:40<1:40:49, 10.32s/it]"
     ]
    },
    {
     "name": "stdout",
     "output_type": "stream",
     "text": [
      "result after generate:  {'result': 'bi ra máu thất thường'}\n",
      "Input: bi ra mau that thuong | sản phụ khoa | Output: bi ra máu thất thường\n"
     ]
    },
    {
     "name": "stderr",
     "output_type": "stream",
     "text": [
      "Handle reason combind:  64%|██████████████████████████████████████████████████████████████████████████▎                                          | 1018/1603 [2:19:45<1:27:15,  8.95s/it]"
     ]
    },
    {
     "name": "stdout",
     "output_type": "stream",
     "text": [
      "result after generate:  {'result': 'thai lưu'}\n",
      "Input: khám tìm nguyên nhân thai lưu và phương hướng điều trị | sản phụ khoa | Output: thai lưu\n"
     ]
    },
    {
     "name": "stderr",
     "output_type": "stream",
     "text": [
      "Handle reason combind:  64%|██████████████████████████████████████████████████████████████████████████▎                                          | 1019/1603 [2:19:55<1:29:11,  9.16s/it]"
     ]
    },
    {
     "name": "stdout",
     "output_type": "stream",
     "text": [
      "result after generate:  {'result': 'khí hư màu xanh'}\n",
      "Input: phụ khoa ra khí hư màu xanh | sản phụ khoa | Output: khí hư màu xanh\n"
     ]
    },
    {
     "name": "stderr",
     "output_type": "stream",
     "text": [
      "Handle reason combind:  64%|██████████████████████████████████████████████████████████████████████████▍                                          | 1020/1603 [2:19:58<1:09:46,  7.18s/it]"
     ]
    },
    {
     "name": "stdout",
     "output_type": "stream",
     "text": [
      "result after generate:  {'result': 'khí hư nâu'}\n",
      "Input: ra khí hư nâu | sản phụ khoa | Output: khí hư nâu\n"
     ]
    },
    {
     "name": "stderr",
     "output_type": "stream",
     "text": [
      "Handle reason combind:  64%|██████████████████████████████████████████████████████████████████████████▌                                          | 1021/1603 [2:20:08<1:18:42,  8.11s/it]"
     ]
    },
    {
     "name": "stdout",
     "output_type": "stream",
     "text": [
      "result after generate:  {'result': 'ngứa vùng kín'}\n",
      "Input: ngứa vùng kín sau khi quan hệ | sản phụ khoa | Output: ngứa vùng kín\n"
     ]
    },
    {
     "name": "stderr",
     "output_type": "stream",
     "text": [
      "Handle reason combind:  64%|██████████████████████████████████████████████████████████████████████████▌                                          | 1022/1603 [2:20:16<1:18:29,  8.11s/it]"
     ]
    },
    {
     "name": "stdout",
     "output_type": "stream",
     "text": [
      "result after generate:  {'result': 'đau bụng dưới, ra nhiều khí hư, âm đạo bị sưng bên trong'}\n",
      "Input: đau bụng dưới, ra nhiều khí hư, âm đạo bị xưng bên trong | sản phụ khoa | Output: đau bụng dưới, ra nhiều khí hư, âm đạo bị sưng bên trong\n"
     ]
    },
    {
     "name": "stderr",
     "output_type": "stream",
     "text": [
      "Handle reason combind:  64%|██████████████████████████████████████████████████████████████████████████▋                                          | 1023/1603 [2:20:21<1:09:10,  7.16s/it]"
     ]
    },
    {
     "name": "stdout",
     "output_type": "stream",
     "text": [
      "result after generate:  {'result': 'viêm nhiễm âm đạo'}\n",
      "Input: viêm nhiễm âm đạo bị tái đi tái lại hoài không hết | sản phụ khoa | Output: viêm nhiễm âm đạo\n"
     ]
    },
    {
     "name": "stderr",
     "output_type": "stream",
     "text": [
      "Handle reason combind:  64%|██████████████████████████████████████████████████████████████████████████▋                                          | 1024/1603 [2:20:31<1:16:25,  7.92s/it]"
     ]
    },
    {
     "name": "stdout",
     "output_type": "stream",
     "text": [
      "result after generate:  {'result': 'không tới tháng'}\n",
      "Input: không tới tháng | sản phụ khoa | Output: không tới tháng\n"
     ]
    },
    {
     "name": "stderr",
     "output_type": "stream",
     "text": [
      "Handle reason combind:  64%|██████████████████████████████████████████████████████████████████████████▊                                          | 1025/1603 [2:20:46<1:38:43, 10.25s/it]"
     ]
    },
    {
     "name": "stdout",
     "output_type": "stream",
     "text": [
      "result after generate:  {'result': 'dấu hiệu bất thường vùng kín'}\n",
      "Input: cảm thấy vùng kín có dấu hiệu bất thường | sản phụ khoa | Output: dấu hiệu bất thường vùng kín\n"
     ]
    },
    {
     "name": "stderr",
     "output_type": "stream",
     "text": [
      "Handle reason combind:  64%|██████████████████████████████████████████████████████████████████████████▉                                          | 1026/1603 [2:20:47<1:11:54,  7.48s/it]"
     ]
    },
    {
     "name": "stdout",
     "output_type": "stream",
     "text": [
      "result after generate:  {'result': 'tiểu buốt, khí hư bất thường'}\n",
      "Input: tiểu buốt khí hư bất thường | sản phụ khoa | Output: tiểu buốt, khí hư bất thường\n"
     ]
    },
    {
     "name": "stderr",
     "output_type": "stream",
     "text": [
      "Handle reason combind:  64%|██████████████████████████████████████████████████████████████████████████▉                                          | 1027/1603 [2:21:09<1:51:36, 11.63s/it]"
     ]
    },
    {
     "name": "stdout",
     "output_type": "stream",
     "text": [
      "result after generate:  {'result': 'đau bên ngoài âm đạo, ngứa'}\n",
      "Input: bị đau bên ngoài âm đạo và bị ngứa | sản phụ khoa | Output: đau bên ngoài âm đạo, ngứa\n"
     ]
    },
    {
     "name": "stderr",
     "output_type": "stream",
     "text": [
      "Handle reason combind:  64%|███████████████████████████████████████████████████████████████████████████                                          | 1028/1603 [2:21:15<1:35:56, 10.01s/it]"
     ]
    },
    {
     "name": "stdout",
     "output_type": "stream",
     "text": [
      "result after generate:  {'result': 'tức bụng, tiểu khó'}\n",
      "Input: khám tiết niệu, đường tiêut, tức bụng, tiểu k hết | sản phụ khoa | Output: tức bụng, tiểu khó\n"
     ]
    },
    {
     "name": "stderr",
     "output_type": "stream",
     "text": [
      "Handle reason combind:  64%|███████████████████████████████████████████████████████████████████████████                                          | 1029/1603 [2:21:23<1:31:26,  9.56s/it]"
     ]
    },
    {
     "name": "stdout",
     "output_type": "stream",
     "text": [
      "result after generate:  {'result': 'xuất huyết bất thường'}\n",
      "Input: bị xuất huyết bất thường khi khong trong kì kinh nguyệt | sản phụ khoa | Output: xuất huyết bất thường\n"
     ]
    },
    {
     "name": "stderr",
     "output_type": "stream",
     "text": [
      "Handle reason combind:  64%|███████████████████████████████████████████████████████████████████████████▏                                         | 1030/1603 [2:21:24<1:05:56,  6.90s/it]"
     ]
    },
    {
     "name": "stdout",
     "output_type": "stream",
     "text": [
      "result after generate:  {'result': 'trễ kinh, thử thai không chính xác, bệnh phụ khoa'}\n",
      "Input: em bị trễ kinh 1 tuần, em đã thử thai 2 lần, cách 1 tuần 1 lần, lần gần nhất là dùng bút thử vào ngày trễ kinh thứ 5. kết quả một vạch, nhưng 2 ngày sau vẫn chưa có kinh nên em lo lắng muốn đến thăm khám thử, và muốn kiểm tra xem có phải bệnh phụ khoa hay không ạ? | sản phụ khoa | Output: trễ kinh, thử thai không chính xác, bệnh phụ khoa\n"
     ]
    },
    {
     "name": "stderr",
     "output_type": "stream",
     "text": [
      "Handle reason combind:  64%|███████████████████████████████████████████████████████████████████████████▎                                         | 1031/1603 [2:21:41<1:34:25,  9.90s/it]"
     ]
    },
    {
     "name": "stdout",
     "output_type": "stream",
     "text": [
      "result after generate:  {'result': 'khí hư màu xanh, mùi âm đạo, ngứa âm đạo'}\n",
      "Input: có khí hư màu xanh, âm đạo thỉnh thoảng có mùi và ngứa | sản phụ khoa | Output: khí hư màu xanh, mùi âm đạo, ngứa âm đạo\n"
     ]
    },
    {
     "name": "stderr",
     "output_type": "stream",
     "text": [
      "Handle reason combind:  64%|███████████████████████████████████████████████████████████████████████████▎                                         | 1032/1603 [2:21:44<1:14:27,  7.82s/it]"
     ]
    },
    {
     "name": "stdout",
     "output_type": "stream",
     "text": [
      "result after generate:  {'result': 'vô sinh'}\n",
      "Input: phám nam khoa mong con | sản phụ khoa | Output: vô sinh\n"
     ]
    },
    {
     "name": "stderr",
     "output_type": "stream",
     "text": [
      "Handle reason combind:  64%|███████████████████████████████████████████████████████████████████████████▍                                         | 1033/1603 [2:21:59<1:34:54,  9.99s/it]"
     ]
    },
    {
     "name": "stdout",
     "output_type": "stream",
     "text": [
      "result after generate:  {'result': 'huyết trắng hơi đặc, màu trắng đục, khô âm đạo'}\n",
      "Input: huyết trắng hơi đặc có màu trắng đục và bị khô hơi cứng dưới đũn quần lót | sản phụ khoa | Output: huyết trắng hơi đặc, màu trắng đục, khô âm đạo\n"
     ]
    },
    {
     "name": "stderr",
     "output_type": "stream",
     "text": [
      "Handle reason combind:  65%|███████████████████████████████████████████████████████████████████████████▍                                         | 1034/1603 [2:22:16<1:55:28, 12.18s/it]"
     ]
    },
    {
     "name": "stdout",
     "output_type": "stream",
     "text": [
      "result after generate:  {'result': 'nhiễm n. gonorrhoeae'}\n",
      "Input: nghi nhiễm n. gonorrhoeae | sản phụ khoa | Output: nhiễm n. gonorrhoeae\n"
     ]
    },
    {
     "name": "stderr",
     "output_type": "stream",
     "text": [
      "Handle reason combind:  65%|███████████████████████████████████████████████████████████████████████████▌                                         | 1035/1603 [2:22:25<1:45:24, 11.14s/it]"
     ]
    },
    {
     "name": "stdout",
     "output_type": "stream",
     "text": [
      "result after generate:  {'result': 'tắc tia sữa, sưng núm ti'}\n",
      "Input: tắc tia sữa, sưng núm ti | sản phụ khoa | Output: tắc tia sữa, sưng núm ti\n"
     ]
    },
    {
     "name": "stderr",
     "output_type": "stream",
     "text": [
      "Handle reason combind:  65%|███████████████████████████████████████████████████████████████████████████▌                                         | 1036/1603 [2:22:43<2:06:25, 13.38s/it]"
     ]
    },
    {
     "name": "stdout",
     "output_type": "stream",
     "text": [
      "result after generate:  {'result': 'dịch âm đạo bất thường, hạch ở bẹn'}\n",
      "Input: dịch âm đạo bất thường, như bã đậu. có hạch ở bẹn | sản phụ khoa | Output: dịch âm đạo bất thường, hạch ở bẹn\n"
     ]
    },
    {
     "name": "stderr",
     "output_type": "stream",
     "text": [
      "Handle reason combind:  65%|███████████████████████████████████████████████████████████████████████████▋                                         | 1037/1603 [2:22:45<1:33:10,  9.88s/it]"
     ]
    },
    {
     "name": "stdout",
     "output_type": "stream",
     "text": [
      "result after generate:  {'result': 'mụn nội tiết, sưng, đau, nóng, gai nóng, rối loạn kinh nguyệt, hội chứng đa nang buồng trứng'}\n",
      "Input: xuất hiện tình trạng mụn nội tiết sưng đau nóng ở cằm và miệng, đêm ngủ bị gai nóng trong người khoảng 30p, chu kinh kinh nguyệt gần nhất bị muộn 53 ngày, chưa quan hệ tình dục, muốn khám để xác định nguyên nhân gây các tình trạng trên có liên quan đến hội chứng đa nang buồng trứng hay không. | sản phụ khoa | Output: mụn nội tiết, sưng, đau, nóng, gai nóng, rối loạn kinh nguyệt, hội chứng đa nang buồng trứng\n"
     ]
    },
    {
     "name": "stderr",
     "output_type": "stream",
     "text": [
      "Handle reason combind:  65%|███████████████████████████████████████████████████████████████████████████▊                                         | 1038/1603 [2:22:59<1:44:32, 11.10s/it]"
     ]
    },
    {
     "name": "stdout",
     "output_type": "stream",
     "text": [
      "result after generate:  {'result': 'đau bụng bất thường'}\n",
      "Input: đau bụng bất thường | sản phụ khoa | Output: đau bụng bất thường\n"
     ]
    },
    {
     "name": "stderr",
     "output_type": "stream",
     "text": [
      "Handle reason combind:  65%|███████████████████████████████████████████████████████████████████████████▊                                         | 1039/1603 [2:23:04<1:25:53,  9.14s/it]"
     ]
    },
    {
     "name": "stdout",
     "output_type": "stream",
     "text": [
      "result after generate:  {'result': 'dọa sảy thai'}\n",
      "Input: khám thai, dọa sảy thai | sản phụ khoa | Output: dọa sảy thai\n"
     ]
    },
    {
     "name": "stderr",
     "output_type": "stream",
     "text": [
      "Handle reason combind:  65%|███████████████████████████████████████████████████████████████████████████▉                                         | 1040/1603 [2:23:13<1:25:40,  9.13s/it]"
     ]
    },
    {
     "name": "stdout",
     "output_type": "stream",
     "text": [
      "result after generate:  {'result': 'viêm lộ tuyến'}\n",
      "Input: khám phụ khoa, xét nghiệm. điều trị viêm lộ tuyến | sản phụ khoa | Output: viêm lộ tuyến\n"
     ]
    },
    {
     "name": "stderr",
     "output_type": "stream",
     "text": [
      "Handle reason combind:  65%|███████████████████████████████████████████████████████████████████████████▉                                         | 1041/1603 [2:23:16<1:07:38,  7.22s/it]"
     ]
    },
    {
     "name": "stdout",
     "output_type": "stream",
     "text": [
      "result after generate:  {'result': 'Kinh nguyệt kéo dài'}\n",
      "Input: kinh nguyệt kéo dài ngày không hết | sản phụ khoa | Output: Kinh nguyệt kéo dài\n"
     ]
    },
    {
     "name": "stderr",
     "output_type": "stream",
     "text": [
      "Handle reason combind:  65%|████████████████████████████████████████████████████████████████████████████                                         | 1042/1603 [2:23:24<1:09:39,  7.45s/it]"
     ]
    },
    {
     "name": "stdout",
     "output_type": "stream",
     "text": [
      "result after generate:  {'result': None}\n"
     ]
    },
    {
     "name": "stderr",
     "output_type": "stream",
     "text": [
      "Handle reason combind:  65%|████████████████████████████████████████████████████████████████████████████▏                                        | 1043/1603 [2:23:40<1:34:04, 10.08s/it]"
     ]
    },
    {
     "name": "stdout",
     "output_type": "stream",
     "text": [
      "result after generate:  {'result': 'trễ kinh'}\n",
      "Input: khám trễ kinh | sản phụ khoa | Output: trễ kinh\n"
     ]
    },
    {
     "name": "stderr",
     "output_type": "stream",
     "text": [
      "Handle reason combind:  65%|████████████████████████████████████████████████████████████████████████████▏                                        | 1044/1603 [2:23:51<1:36:37, 10.37s/it]"
     ]
    },
    {
     "name": "stdout",
     "output_type": "stream",
     "text": [
      "result after generate:  {'result': 'mùi hôi vùng kín, đau thắt lưng'}\n",
      "Input: vùng kín bị mùi hôi khó chịu kéo dài rất mất tự tin bị đau thắt lưng | sản phụ khoa | Output: mùi hôi vùng kín, đau thắt lưng\n"
     ]
    },
    {
     "name": "stderr",
     "output_type": "stream",
     "text": [
      "Handle reason combind:  65%|████████████████████████████████████████████████████████████████████████████▎                                        | 1045/1603 [2:23:55<1:17:43,  8.36s/it]"
     ]
    },
    {
     "name": "stdout",
     "output_type": "stream",
     "text": [
      "result after generate:  {'result': 'viêm ngứa phụ khoa, u nang'}\n",
      "Input: viêm ngứa phụ khoa, u nang | sản phụ khoa | Output: viêm ngứa phụ khoa, u nang\n"
     ]
    },
    {
     "name": "stderr",
     "output_type": "stream",
     "text": [
      "Handle reason combind:  65%|████████████████████████████████████████████████████████████████████████████▎                                        | 1046/1603 [2:24:01<1:12:28,  7.81s/it]"
     ]
    },
    {
     "name": "stdout",
     "output_type": "stream",
     "text": [
      "result after generate:  {'result': None}\n"
     ]
    },
    {
     "name": "stderr",
     "output_type": "stream",
     "text": [
      "Handle reason combind:  65%|█████████████████████████████████████████████████████████████████████████████▋                                         | 1047/1603 [2:24:04<58:23,  6.30s/it]"
     ]
    },
    {
     "name": "stdout",
     "output_type": "stream",
     "text": [
      "result after generate:  {'result': None}\n"
     ]
    },
    {
     "name": "stderr",
     "output_type": "stream",
     "text": [
      "Handle reason combind:  65%|████████████████████████████████████████████████████████████████████████████▍                                        | 1048/1603 [2:24:13<1:07:23,  7.29s/it]"
     ]
    },
    {
     "name": "stdout",
     "output_type": "stream",
     "text": [
      "result after generate:  {'result': 'đau bụng dưới, ra nhiều dịch trắng'}\n",
      "Input: ra nhiều dịch trắng đau bụng dưới | sản phụ khoa | Output: đau bụng dưới, ra nhiều dịch trắng\n"
     ]
    },
    {
     "name": "stderr",
     "output_type": "stream",
     "text": [
      "Handle reason combind:  65%|█████████████████████████████████████████████████████████████████████████████▊                                         | 1049/1603 [2:24:15<50:38,  5.48s/it]"
     ]
    },
    {
     "name": "stdout",
     "output_type": "stream",
     "text": [
      "result after generate:  {'result': 'chu kì kinh nguyệt dài'}\n",
      "Input: chu kì kinh nguyệt dài | sản phụ khoa | Output: chu kì kinh nguyệt dài\n"
     ]
    },
    {
     "name": "stderr",
     "output_type": "stream",
     "text": [
      "Handle reason combind:  66%|████████████████████████████████████████████████████████████████████████████▋                                        | 1050/1603 [2:24:25<1:02:57,  6.83s/it]"
     ]
    },
    {
     "name": "stdout",
     "output_type": "stream",
     "text": [
      "result after generate:  {'result': 'rối loạn kinh nguyệt'}\n",
      "Input: đến kì 2 lần liền nhau trong 1 tháng | sản phụ khoa | Output: rối loạn kinh nguyệt\n"
     ]
    },
    {
     "name": "stderr",
     "output_type": "stream",
     "text": [
      "Handle reason combind:  66%|██████████████████████████████████████████████████████████████████████████████                                         | 1051/1603 [2:24:26<48:21,  5.26s/it]"
     ]
    },
    {
     "name": "stdout",
     "output_type": "stream",
     "text": [
      "result after generate:  {'result': 'polyd trong lòng tử cung'}\n",
      "Input: phát hiện polyd trong lòng tử cung | sản phụ khoa | Output: polyd trong lòng tử cung\n"
     ]
    },
    {
     "name": "stderr",
     "output_type": "stream",
     "text": [
      "Handle reason combind:  66%|████████████████████████████████████████████████████████████████████████████▊                                        | 1052/1603 [2:24:44<1:23:17,  9.07s/it]"
     ]
    },
    {
     "name": "stdout",
     "output_type": "stream",
     "text": [
      "result after generate:  {'result': 'rát ngứa âm đạo, khí hư màu vàng xanh có mùi khó chịu'}\n",
      "Input: rát ngứa âm đạo, khí hư màu vàng xanh có mùi khó chịu | sản phụ khoa | Output: rát ngứa âm đạo, khí hư màu vàng xanh có mùi khó chịu\n"
     ]
    },
    {
     "name": "stderr",
     "output_type": "stream",
     "text": [
      "Handle reason combind:  66%|████████████████████████████████████████████████████████████████████████████▊                                        | 1053/1603 [2:24:55<1:27:24,  9.53s/it]"
     ]
    },
    {
     "name": "stdout",
     "output_type": "stream",
     "text": [
      "result after generate:  {'result': 'đau vùng kín'}\n",
      "Input: kiểm tra vùng kín, có hiện tượng đau sau qh | sản phụ khoa | Output: đau vùng kín\n"
     ]
    },
    {
     "name": "stderr",
     "output_type": "stream",
     "text": [
      "Handle reason combind:  66%|████████████████████████████████████████████████████████████████████████████▉                                        | 1054/1603 [2:24:56<1:04:32,  7.05s/it]"
     ]
    },
    {
     "name": "stdout",
     "output_type": "stream",
     "text": [
      "result after generate:  {'result': 'mẩn ngứa, phụ khoa'}\n",
      "Input: mẩn ngứa phụ khoa | sản phụ khoa | Output: mẩn ngứa, phụ khoa\n"
     ]
    },
    {
     "name": "stderr",
     "output_type": "stream",
     "text": [
      "Handle reason combind:  66%|█████████████████████████████████████████████████████████████████████████████                                        | 1055/1603 [2:25:12<1:28:06,  9.65s/it]"
     ]
    },
    {
     "name": "stdout",
     "output_type": "stream",
     "text": [
      "result after generate:  {'result': 'mùi lạ âm đạo'}\n",
      "Input: âm đạo có mùi lạ | sản phụ khoa | Output: mùi lạ âm đạo\n"
     ]
    },
    {
     "name": "stderr",
     "output_type": "stream",
     "text": [
      "Handle reason combind:  66%|█████████████████████████████████████████████████████████████████████████████                                        | 1056/1603 [2:25:16<1:13:59,  8.12s/it]"
     ]
    },
    {
     "name": "stdout",
     "output_type": "stream",
     "text": [
      "result after generate:  {'result': 'ho'}\n",
      "Input: ho trong khi đang mang thai 15 tuần | sản phụ khoa | Output: ho\n"
     ]
    },
    {
     "name": "stderr",
     "output_type": "stream",
     "text": [
      "Handle reason combind:  66%|█████████████████████████████████████████████████████████████████████████████▏                                       | 1057/1603 [2:25:24<1:13:30,  8.08s/it]"
     ]
    },
    {
     "name": "stdout",
     "output_type": "stream",
     "text": [
      "result after generate:  {'result': 'soi cổ tử cung'}\n",
      "Input: e muốn soi cổ tử cung | sản phụ khoa | Output: soi cổ tử cung\n"
     ]
    },
    {
     "name": "stderr",
     "output_type": "stream",
     "text": [
      "Handle reason combind:  66%|█████████████████████████████████████████████████████████████████████████████▏                                       | 1058/1603 [2:25:33<1:14:14,  8.17s/it]"
     ]
    },
    {
     "name": "stdout",
     "output_type": "stream",
     "text": [
      "result after generate:  {'result': 'viêm nấm âm đạo'}\n",
      "Input: tái khám viêm nấm âm đạo | sản phụ khoa | Output: viêm nấm âm đạo\n"
     ]
    },
    {
     "name": "stderr",
     "output_type": "stream",
     "text": [
      "Handle reason combind:  66%|█████████████████████████████████████████████████████████████████████████████▎                                       | 1059/1603 [2:25:36<1:01:54,  6.83s/it]"
     ]
    },
    {
     "name": "stdout",
     "output_type": "stream",
     "text": [
      "result after generate:  {'result': 'nghi ngờ bị bệnh lây truyền qua đường tình dục'}\n",
      "Input: nghi ngờ bị bệnh liên quan đến quan hệ tình dục | sản phụ khoa | Output: nghi ngờ bị bệnh lây truyền qua đường tình dục\n"
     ]
    },
    {
     "name": "stderr",
     "output_type": "stream",
     "text": [
      "Handle reason combind:  66%|█████████████████████████████████████████████████████████████████████████████▎                                       | 1060/1603 [2:25:45<1:06:03,  7.30s/it]"
     ]
    },
    {
     "name": "stdout",
     "output_type": "stream",
     "text": [
      "result after generate:  {'result': 'huyết trắng, ngứa vùng kín'}\n",
      "Input: bị huyết trắng , ngứa vùng kín | sản phụ khoa | Output: huyết trắng, ngứa vùng kín\n"
     ]
    },
    {
     "name": "stderr",
     "output_type": "stream",
     "text": [
      "Handle reason combind:  66%|██████████████████████████████████████████████████████████████████████████████▊                                        | 1061/1603 [2:25:50<58:53,  6.52s/it]"
     ]
    },
    {
     "name": "stdout",
     "output_type": "stream",
     "text": [
      "result after generate:  {'result': 'mất kinh, đau lưng'}\n",
      "Input: mất kinh dc 1 năm ,và bi đau lưng | sản phụ khoa | Output: mất kinh, đau lưng\n"
     ]
    },
    {
     "name": "stderr",
     "output_type": "stream",
     "text": [
      "Handle reason combind:  66%|█████████████████████████████████████████████████████████████████████████████▌                                       | 1062/1603 [2:25:59<1:07:29,  7.49s/it]"
     ]
    },
    {
     "name": "stdout",
     "output_type": "stream",
     "text": [
      "result after generate:  {'result': 'ung thu, tu cung'}\n",
      "Input: xet nghiem ung thu co tu cung | sản phụ khoa | Output: ung thu, tu cung\n"
     ]
    },
    {
     "name": "stderr",
     "output_type": "stream",
     "text": [
      "Handle reason combind:  66%|██████████████████████████████████████████████████████████████████████████████▉                                        | 1063/1603 [2:26:02<55:26,  6.16s/it]"
     ]
    },
    {
     "name": "stdout",
     "output_type": "stream",
     "text": [
      "result after generate:  {'result': 'nổi mụt ở vùng kín'}\n",
      "Input: bị nổi mụt ở vùng kín | sản phụ khoa | Output: nổi mụt ở vùng kín\n"
     ]
    },
    {
     "name": "stderr",
     "output_type": "stream",
     "text": [
      "Handle reason combind:  66%|█████████████████████████████████████████████████████████████████████████████▋                                       | 1064/1603 [2:26:13<1:08:32,  7.63s/it]"
     ]
    },
    {
     "name": "stdout",
     "output_type": "stream",
     "text": [
      "result after generate:  {'result': 'nóng trong, khí hư'}\n",
      "Input: nóng trong, khí hư. | sản phụ khoa | Output: nóng trong, khí hư\n"
     ]
    },
    {
     "name": "stderr",
     "output_type": "stream",
     "text": [
      "Handle reason combind:  66%|███████████████████████████████████████████████████████████████████████████████                                        | 1065/1603 [2:26:15<51:28,  5.74s/it]"
     ]
    },
    {
     "name": "stdout",
     "output_type": "stream",
     "text": [
      "result after generate:  {'result': 'thai nghén'}\n",
      "Input: muốn tư vấn về thai nghén | sản phụ khoa | Output: thai nghén\n"
     ]
    },
    {
     "name": "stderr",
     "output_type": "stream",
     "text": [
      "Handle reason combind:  67%|█████████████████████████████████████████████████████████████████████████████▊                                       | 1066/1603 [2:26:33<1:24:45,  9.47s/it]"
     ]
    },
    {
     "name": "stdout",
     "output_type": "stream",
     "text": [
      "result after generate:  {'result': 'sốt xuất huyết, trễ kinh'}\n",
      "Input: em mới khỏi sốt xuất huyết, trễ kinh hôm nay là ngày thứ 8, và em có dùng que thử 2 lần, vào ngày thứ 5 trễ và sáng hôm nay đều 1 vạch | sản phụ khoa | Output: sốt xuất huyết, trễ kinh\n"
     ]
    },
    {
     "name": "stderr",
     "output_type": "stream",
     "text": [
      "Handle reason combind:  67%|█████████████████████████████████████████████████████████████████████████████▉                                       | 1067/1603 [2:26:36<1:07:47,  7.59s/it]"
     ]
    },
    {
     "name": "stdout",
     "output_type": "stream",
     "text": [
      "result after generate:  {'result': 'khó chịu bụng dưới'}\n",
      "Input: khó chịu bụng dưới | sản phụ khoa | Output: khó chịu bụng dưới\n"
     ]
    },
    {
     "name": "stderr",
     "output_type": "stream",
     "text": [
      "Handle reason combind:  67%|█████████████████████████████████████████████████████████████████████████████▉                                       | 1068/1603 [2:26:48<1:19:46,  8.95s/it]"
     ]
    },
    {
     "name": "stdout",
     "output_type": "stream",
     "text": [
      "result after generate:  {'result': 'sẩy, dính buồng tử cung, kinh nguyệt thâm'}\n",
      "Input: năm 2018 e bị sẩy lần 1, 2019 e bị sẩy lần 2 . từ đấy e thả đên nay chưa đậu lần nào. \n",
      "tháng 7/2022 e đi khám và e bị dính buồng tử cung và e đã làm tách dính . \n",
      "hiện tại kinh nguyệt hơi thâm và chỉ ra kinh có 2 ngày . e rất mong qua khám và được bs tư vấn | sản phụ khoa | Output: sẩy, dính buồng tử cung, kinh nguyệt thâm\n"
     ]
    },
    {
     "name": "stderr",
     "output_type": "stream",
     "text": [
      "Handle reason combind:  67%|██████████████████████████████████████████████████████████████████████████████                                       | 1069/1603 [2:26:53<1:08:51,  7.74s/it]"
     ]
    },
    {
     "name": "stdout",
     "output_type": "stream",
     "text": [
      "result after generate:  {'result': 'âm đạo sưng, rát'}\n",
      "Input: âm đạo sưng rát | sản phụ khoa | Output: âm đạo sưng, rát\n"
     ]
    },
    {
     "name": "stderr",
     "output_type": "stream",
     "text": [
      "Handle reason combind:  67%|███████████████████████████████████████████████████████████████████████████████▍                                       | 1070/1603 [2:26:56<56:17,  6.34s/it]"
     ]
    },
    {
     "name": "stdout",
     "output_type": "stream",
     "text": [
      "result after generate:  {'result': 'tình trạng sức khoẻ, mang thai'}\n",
      "Input: xem tình trạng sức khoẻ có thể mang thai không | sản phụ khoa | Output: tình trạng sức khoẻ, mang thai\n"
     ]
    },
    {
     "name": "stderr",
     "output_type": "stream",
     "text": [
      "Handle reason combind:  67%|███████████████████████████████████████████████████████████████████████████████▌                                       | 1071/1603 [2:27:00<50:30,  5.70s/it]"
     ]
    },
    {
     "name": "stdout",
     "output_type": "stream",
     "text": [
      "result after generate:  {'result': 'khô âm hộ, rát âm hộ'}\n",
      "Input: khô rát âm hộ | sản phụ khoa | Output: khô âm hộ, rát âm hộ\n"
     ]
    },
    {
     "name": "stderr",
     "output_type": "stream",
     "text": [
      "Handle reason combind:  67%|███████████████████████████████████████████████████████████████████████████████▌                                       | 1072/1603 [2:27:09<58:09,  6.57s/it]"
     ]
    },
    {
     "name": "stdout",
     "output_type": "stream",
     "text": [
      "result after generate:  {'result': 'mất kinh nguyệt'}\n",
      "Input: tình trạng mất kinh nguyệt | sản phụ khoa | Output: mất kinh nguyệt\n"
     ]
    },
    {
     "name": "stderr",
     "output_type": "stream",
     "text": [
      "Handle reason combind:  67%|██████████████████████████████████████████████████████████████████████████████▎                                      | 1073/1603 [2:27:25<1:23:26,  9.45s/it]"
     ]
    },
    {
     "name": "stdout",
     "output_type": "stream",
     "text": [
      "result after generate:  {'result': 'khô âm đạo'}\n",
      "Input: cảm thấy khô âm đạo | sản phụ khoa | Output: khô âm đạo\n"
     ]
    },
    {
     "name": "stderr",
     "output_type": "stream",
     "text": [
      "Handle reason combind:  67%|██████████████████████████████████████████████████████████████████████████████▍                                      | 1074/1603 [2:27:38<1:31:12, 10.34s/it]"
     ]
    },
    {
     "name": "stdout",
     "output_type": "stream",
     "text": [
      "result after generate:  {'result': 'vấn đề sinh sản, rối loạn kinh nguyệt'}\n",
      "Input: khám những vấn đề liên quan đến sinh sản, kinh nguyệt... | sản phụ khoa | Output: vấn đề sinh sản, rối loạn kinh nguyệt\n"
     ]
    },
    {
     "name": "stderr",
     "output_type": "stream",
     "text": [
      "Handle reason combind:  67%|██████████████████████████████████████████████████████████████████████████████▍                                      | 1075/1603 [2:27:44<1:21:11,  9.23s/it]"
     ]
    },
    {
     "name": "stdout",
     "output_type": "stream",
     "text": [
      "result after generate:  {'result': 'kinh nguyệt không đều'}\n",
      "Input: kinh nguyệt không đều \n",
      "cần tư vấn vấn đề ngừa thai | sản phụ khoa | Output: kinh nguyệt không đều\n"
     ]
    },
    {
     "name": "stderr",
     "output_type": "stream",
     "text": [
      "Handle reason combind:  67%|██████████████████████████████████████████████████████████████████████████████▌                                      | 1076/1603 [2:27:55<1:24:20,  9.60s/it]"
     ]
    },
    {
     "name": "stdout",
     "output_type": "stream",
     "text": [
      "result after generate:  {'result': None}\n"
     ]
    },
    {
     "name": "stderr",
     "output_type": "stream",
     "text": [
      "Handle reason combind:  67%|██████████████████████████████████████████████████████████████████████████████▌                                      | 1077/1603 [2:27:55<1:00:43,  6.93s/it]"
     ]
    },
    {
     "name": "stdout",
     "output_type": "stream",
     "text": [
      "result after generate:  {'result': 'vấn đề vùng âm đạo'}\n",
      "Input: cảm thấy vùng âm đạo có vấn đề. | sản phụ khoa | Output: vấn đề vùng âm đạo\n"
     ]
    },
    {
     "name": "stderr",
     "output_type": "stream",
     "text": [
      "Handle reason combind:  67%|██████████████████████████████████████████████████████████████████████████████▋                                      | 1078/1603 [2:28:14<1:30:21, 10.33s/it]"
     ]
    },
    {
     "name": "stdout",
     "output_type": "stream",
     "text": [
      "result after generate:  {'result': 'viêm đường tiết niệu'}\n",
      "Input: khám viêm đường tiết niệu | sản phụ khoa | Output: viêm đường tiết niệu\n"
     ]
    },
    {
     "name": "stderr",
     "output_type": "stream",
     "text": [
      "Handle reason combind:  67%|██████████████████████████████████████████████████████████████████████████████▊                                      | 1079/1603 [2:28:26<1:34:42, 10.84s/it]"
     ]
    },
    {
     "name": "stdout",
     "output_type": "stream",
     "text": [
      "result after generate:  {'result': 'đau bụng'}\n",
      "Input: siêu âm thai 6 tuần, đau bụng | sản phụ khoa | Output: đau bụng\n"
     ]
    },
    {
     "name": "stderr",
     "output_type": "stream",
     "text": [
      "Handle reason combind:  67%|██████████████████████████████████████████████████████████████████████████████▊                                      | 1080/1603 [2:28:28<1:12:35,  8.33s/it]"
     ]
    },
    {
     "name": "stdout",
     "output_type": "stream",
     "text": [
      "result after generate:  {'result': 'đa âm ỉ bụng dưới bên trái'}\n",
      "Input: đa âm ỉ bụng dưới bên trái | sản phụ khoa | Output: đa âm ỉ bụng dưới bên trái\n"
     ]
    },
    {
     "name": "stderr",
     "output_type": "stream",
     "text": [
      "Handle reason combind:  67%|██████████████████████████████████████████████████████████████████████████████▉                                      | 1081/1603 [2:28:36<1:11:49,  8.26s/it]"
     ]
    },
    {
     "name": "stdout",
     "output_type": "stream",
     "text": [
      "result after generate:  {'result': 'ngứa âm đạo, đi tiểu rát'}\n",
      "Input: khám phụ khoa do ngứa âm đạo, đi tiểu rát | sản phụ khoa | Output: ngứa âm đạo, đi tiểu rát\n"
     ]
    },
    {
     "name": "stderr",
     "output_type": "stream",
     "text": [
      "Handle reason combind:  67%|██████████████████████████████████████████████████████████████████████████████▉                                      | 1082/1603 [2:28:42<1:04:20,  7.41s/it]"
     ]
    },
    {
     "name": "stdout",
     "output_type": "stream",
     "text": [
      "result after generate:  {'result': 'ngứa ở vùng kín'}\n",
      "Input: có hiện tượng ngứa ở vùng kín | sản phụ khoa | Output: ngứa ở vùng kín\n"
     ]
    },
    {
     "name": "stderr",
     "output_type": "stream",
     "text": [
      "Handle reason combind:  68%|███████████████████████████████████████████████████████████████████████████████                                      | 1083/1603 [2:28:53<1:13:29,  8.48s/it]"
     ]
    },
    {
     "name": "stdout",
     "output_type": "stream",
     "text": [
      "result after generate:  {'result': 'ngứa, khó chịu'}\n",
      "Input: bị ngứa, khó chịu,... | sản phụ khoa | Output: ngứa, khó chịu\n"
     ]
    },
    {
     "name": "stderr",
     "output_type": "stream",
     "text": [
      "Handle reason combind:  68%|███████████████████████████████████████████████████████████████████████████████                                      | 1084/1603 [2:29:02<1:16:47,  8.88s/it]"
     ]
    },
    {
     "name": "stdout",
     "output_type": "stream",
     "text": [
      "result after generate:  {'result': 'khám thai nhi'}\n",
      "Input: khám thai nhi | sản phụ khoa | Output: khám thai nhi\n"
     ]
    },
    {
     "name": "stderr",
     "output_type": "stream",
     "text": [
      "Handle reason combind:  68%|████████████████████████████████████████████████████████████████████████████████▌                                      | 1085/1603 [2:29:04<58:13,  6.74s/it]"
     ]
    },
    {
     "name": "stdout",
     "output_type": "stream",
     "text": [
      "result after generate:  {'result': 'có thai'}\n",
      "Input: có thai | sản phụ khoa | Output: có thai\n"
     ]
    },
    {
     "name": "stderr",
     "output_type": "stream",
     "text": [
      "Handle reason combind:  68%|███████████████████████████████████████████████████████████████████████████████▎                                     | 1086/1603 [2:29:13<1:02:34,  7.26s/it]"
     ]
    },
    {
     "name": "stdout",
     "output_type": "stream",
     "text": [
      "result after generate:  {'result': 'tắt kinh'}\n",
      "Input: tắt kinh 3 tháng | sản phụ khoa | Output: tắt kinh\n"
     ]
    },
    {
     "name": "stderr",
     "output_type": "stream",
     "text": [
      "Handle reason combind:  68%|███████████████████████████████████████████████████████████████████████████████▎                                     | 1087/1603 [2:29:19<1:00:07,  6.99s/it]"
     ]
    },
    {
     "name": "stdout",
     "output_type": "stream",
     "text": [
      "result after generate:  {'result': 'đau bụng'}\n",
      "Input: khám sản, đau bụng | sản phụ khoa | Output: đau bụng\n"
     ]
    },
    {
     "name": "stderr",
     "output_type": "stream",
     "text": [
      "Handle reason combind:  68%|███████████████████████████████████████████████████████████████████████████████▍                                     | 1088/1603 [2:29:29<1:08:21,  7.96s/it]"
     ]
    },
    {
     "name": "stdout",
     "output_type": "stream",
     "text": [
      "result after generate:  {'result': 'nặng bụng dưới'}\n",
      "Input: nặng bụng dưới | sản phụ khoa | Output: nặng bụng dưới\n"
     ]
    },
    {
     "name": "stderr",
     "output_type": "stream",
     "text": [
      "Handle reason combind:  68%|████████████████████████████████████████████████████████████████████████████████▊                                      | 1089/1603 [2:29:30<50:44,  5.92s/it]"
     ]
    },
    {
     "name": "stdout",
     "output_type": "stream",
     "text": [
      "result after generate:  {'result': 'ra dịch trắng'}\n",
      "Input: ra dịch trắng | sản phụ khoa | Output: ra dịch trắng\n"
     ]
    },
    {
     "name": "stderr",
     "output_type": "stream",
     "text": [
      "Handle reason combind:  68%|███████████████████████████████████████████████████████████████████████████████▌                                     | 1090/1603 [2:29:47<1:18:28,  9.18s/it]"
     ]
    },
    {
     "name": "stdout",
     "output_type": "stream",
     "text": [
      "result after generate:  {'result': 'khám thai'}\n",
      "Input: khám thai | sản phụ khoa | Output: khám thai\n"
     ]
    },
    {
     "name": "stderr",
     "output_type": "stream",
     "text": [
      "Handle reason combind:  68%|███████████████████████████████████████████████████████████████████████████████▋                                     | 1091/1603 [2:29:51<1:03:57,  7.50s/it]"
     ]
    },
    {
     "name": "stdout",
     "output_type": "stream",
     "text": [
      "result after generate:  {'result': 'chậm kinh'}\n",
      "Input: chậm kinh nhiều lần | sản phụ khoa | Output: chậm kinh\n"
     ]
    },
    {
     "name": "stderr",
     "output_type": "stream",
     "text": [
      "Handle reason combind:  68%|███████████████████████████████████████████████████████████████████████████████▋                                     | 1092/1603 [2:29:59<1:05:21,  7.67s/it]"
     ]
    },
    {
     "name": "stdout",
     "output_type": "stream",
     "text": [
      "result after generate:  {'result': 'khí hư'}\n",
      "Input: có khí hư, và muốn đặt vòng tránh thai. | sản phụ khoa | Output: khí hư\n"
     ]
    },
    {
     "name": "stderr",
     "output_type": "stream",
     "text": [
      "Handle reason combind:  68%|███████████████████████████████████████████████████████████████████████████████▊                                     | 1093/1603 [2:30:16<1:28:38, 10.43s/it]"
     ]
    },
    {
     "name": "stdout",
     "output_type": "stream",
     "text": [
      "result after generate:  {'result': 'tăng sinh tuyến giáp nhẹ'}\n",
      "Input: khám và tư vấn trước mang thai.\n",
      "ghi chú: em đã xét nghiệm tổng quát 2 vợ chồng tại bệnh viện từ dũ vào tháng 9, có tăng sinh tuyến giáp nhẹ nhưng bác sĩ bảo ko cần điều trị. em mong bác nga sẽ giúp em kiểm tra lại và tư vấn theo dõi sức khoẻ trước khi mang thai giúp em ạ | sản phụ khoa | Output: tăng sinh tuyến giáp nhẹ\n"
     ]
    },
    {
     "name": "stderr",
     "output_type": "stream",
     "text": [
      "Handle reason combind:  68%|███████████████████████████████████████████████████████████████████████████████▊                                     | 1094/1603 [2:30:19<1:09:19,  8.17s/it]"
     ]
    },
    {
     "name": "stdout",
     "output_type": "stream",
     "text": [
      "result after generate:  {'result': 'siêu âm canh trứng'}\n",
      "Input: khám phụ khoa. siêu âm canh trứng | sản phụ khoa | Output: siêu âm canh trứng\n"
     ]
    },
    {
     "name": "stderr",
     "output_type": "stream",
     "text": [
      "Handle reason combind:  68%|███████████████████████████████████████████████████████████████████████████████▉                                     | 1095/1603 [2:30:36<1:31:20, 10.79s/it]"
     ]
    },
    {
     "name": "stdout",
     "output_type": "stream",
     "text": [
      "result after generate:  {'result': 'ói ra màu vàng'}\n",
      "Input: ói ra màu vàng khi đang mang thai 10 tuần đầu | sản phụ khoa | Output: ói ra màu vàng\n"
     ]
    },
    {
     "name": "stderr",
     "output_type": "stream",
     "text": [
      "Handle reason combind:  68%|███████████████████████████████████████████████████████████████████████████████▉                                     | 1096/1603 [2:30:38<1:10:49,  8.38s/it]"
     ]
    },
    {
     "name": "stdout",
     "output_type": "stream",
     "text": [
      "result after generate:  {'result': 'nhiễm nấm'}\n",
      "Input: nghi nhiễm nấm | sản phụ khoa | Output: nhiễm nấm\n"
     ]
    },
    {
     "name": "stderr",
     "output_type": "stream",
     "text": [
      "Handle reason combind:  68%|████████████████████████████████████████████████████████████████████████████████                                     | 1097/1603 [2:30:58<1:38:12, 11.65s/it]"
     ]
    },
    {
     "name": "stdout",
     "output_type": "stream",
     "text": [
      "result after generate:  {'result': 'đau rát vùng kín, đau khi đi tiểu'}\n",
      "Input: đau rát vùng kín khi đi tiểu | sản phụ khoa | Output: đau rát vùng kín, đau khi đi tiểu\n"
     ]
    },
    {
     "name": "stderr",
     "output_type": "stream",
     "text": [
      "Handle reason combind:  68%|████████████████████████████████████████████████████████████████████████████████▏                                    | 1098/1603 [2:31:02<1:18:40,  9.35s/it]"
     ]
    },
    {
     "name": "stdout",
     "output_type": "stream",
     "text": [
      "result after generate:  {'result': 'khí hư có màu bất thường'}\n",
      "Input: khí hư có màu bất thường | sản phụ khoa | Output: khí hư có màu bất thường\n"
     ]
    },
    {
     "name": "stderr",
     "output_type": "stream",
     "text": [
      "Handle reason combind:  69%|████████████████████████████████████████████████████████████████████████████████▏                                    | 1099/1603 [2:31:12<1:22:03,  9.77s/it]"
     ]
    },
    {
     "name": "stdout",
     "output_type": "stream",
     "text": [
      "result after generate:  {'result': 'cảm giác không thoải mái, cảm giác bất an'}\n",
      "Input: cháu cảm thấy không thoải mái, có cảm giác bất an | sản phụ khoa | Output: cảm giác không thoải mái, cảm giác bất an\n"
     ]
    },
    {
     "name": "stderr",
     "output_type": "stream",
     "text": [
      "Handle reason combind:  69%|████████████████████████████████████████████████████████████████████████████████▎                                    | 1100/1603 [2:31:17<1:08:23,  8.16s/it]"
     ]
    },
    {
     "name": "stdout",
     "output_type": "stream",
     "text": [
      "result after generate:  {'result': 'trễ kinh, ra kinh rất ít, ra kinh đen, ngày ra kinh ngắn'}\n",
      "Input: bị trễ kinh, ra kinh rất ít và đen, ngày ra kinh ngắn, | sản phụ khoa | Output: trễ kinh, ra kinh rất ít, ra kinh đen, ngày ra kinh ngắn\n"
     ]
    },
    {
     "name": "stderr",
     "output_type": "stream",
     "text": [
      "Handle reason combind:  69%|████████████████████████████████████████████████████████████████████████████████▎                                    | 1101/1603 [2:31:24<1:06:02,  7.89s/it]"
     ]
    },
    {
     "name": "stdout",
     "output_type": "stream",
     "text": [
      "result after generate:  {'result': 'cảm giác khác ở âm đạo'}\n",
      "Input: sau quan hệ lần đầu, âm đạo có cảm giác khác | sản phụ khoa | Output: cảm giác khác ở âm đạo\n"
     ]
    },
    {
     "name": "stderr",
     "output_type": "stream",
     "text": [
      "Handle reason combind:  69%|█████████████████████████████████████████████████████████████████████████████████▊                                     | 1102/1603 [2:31:28<56:32,  6.77s/it]"
     ]
    },
    {
     "name": "stdout",
     "output_type": "stream",
     "text": [
      "result after generate:  {'result': 'khí hư đổi màu, đau bụng âm ỉ'}\n",
      "Input: khí hư đổi màu, đau bụng âm ỉ | sản phụ khoa | Output: khí hư đổi màu, đau bụng âm ỉ\n"
     ]
    },
    {
     "name": "stderr",
     "output_type": "stream",
     "text": [
      "Handle reason combind:  69%|█████████████████████████████████████████████████████████████████████████████████▉                                     | 1103/1603 [2:31:34<53:56,  6.47s/it]"
     ]
    },
    {
     "name": "stdout",
     "output_type": "stream",
     "text": [
      "result after generate:  {'result': 'viêm tuyến bartholin'}\n",
      "Input: bị viêm tuyến barthoin | sản phụ khoa | Output: viêm tuyến bartholin\n"
     ]
    },
    {
     "name": "stderr",
     "output_type": "stream",
     "text": [
      "Handle reason combind:  69%|█████████████████████████████████████████████████████████████████████████████████▉                                     | 1104/1603 [2:31:37<46:37,  5.61s/it]"
     ]
    },
    {
     "name": "stdout",
     "output_type": "stream",
     "text": [
      "result after generate:  {'result': 'ra dịch lạ, hạt trong âm đạo'}\n",
      "Input: ra dịch lạ, có hạt trong âm đạo | sản phụ khoa | Output: ra dịch lạ, hạt trong âm đạo\n"
     ]
    },
    {
     "name": "stderr",
     "output_type": "stream",
     "text": [
      "Handle reason combind:  69%|████████████████████████████████████████████████████████████████████████████████▋                                    | 1105/1603 [2:31:54<1:14:41,  9.00s/it]"
     ]
    },
    {
     "name": "stdout",
     "output_type": "stream",
     "text": [
      "result after generate:  {'result': 'ra máu màu nâu, chảy máu đỏ, rong kinh'}\n",
      "Input: vùng kín ra máu màu nâu, được 2 ngày thì chuyển sang đỏ và nhiều hơn dù đã hết kỳ kinh | sản phụ khoa | Output: ra máu màu nâu, chảy máu đỏ, rong kinh\n"
     ]
    },
    {
     "name": "stderr",
     "output_type": "stream",
     "text": [
      "Handle reason combind:  69%|████████████████████████████████████████████████████████████████████████████████▋                                    | 1106/1603 [2:32:05<1:18:13,  9.44s/it]"
     ]
    },
    {
     "name": "stdout",
     "output_type": "stream",
     "text": [
      "result after generate:  {'result': 'Rỉ máu âm đạo'}\n",
      "Input: rỉ máu âm đạo sau quan hệ | sản phụ khoa | Output: Rỉ máu âm đạo\n"
     ]
    },
    {
     "name": "stderr",
     "output_type": "stream",
     "text": [
      "Handle reason combind:  69%|██████████████████████████████████████████████████████████████████████████████████▏                                    | 1107/1603 [2:32:06<56:39,  6.85s/it]"
     ]
    },
    {
     "name": "stdout",
     "output_type": "stream",
     "text": [
      "result after generate:  {'result': 'mùi hôi âm đạo, dịch xanh'}\n",
      "Input: mùi hôi âm đạo , dịch xanh | sản phụ khoa | Output: mùi hôi âm đạo, dịch xanh\n"
     ]
    },
    {
     "name": "stderr",
     "output_type": "stream",
     "text": [
      "Handle reason combind:  69%|████████████████████████████████████████████████████████████████████████████████▊                                    | 1108/1603 [2:32:21<1:17:10,  9.36s/it]"
     ]
    },
    {
     "name": "stdout",
     "output_type": "stream",
     "text": [
      "result after generate:  {'result': 'đau bụng dưới rốn'}\n",
      "Input: đau bụng dưới rốn | sản phụ khoa | Output: đau bụng dưới rốn\n"
     ]
    },
    {
     "name": "stderr",
     "output_type": "stream",
     "text": [
      "Handle reason combind:  69%|████████████████████████████████████████████████████████████████████████████████▉                                    | 1109/1603 [2:32:25<1:05:11,  7.92s/it]"
     ]
    },
    {
     "name": "stdout",
     "output_type": "stream",
     "text": [
      "result after generate:  {'result': 'đau bụng dưới, đi tiểu đau, buốt, chảy dịch màu trắng'}\n",
      "Input: đau bụng dưới, đi tiểu hơi đau buốc và hình như có chảy dịch màu trắng | sản phụ khoa | Output: đau bụng dưới, đi tiểu đau, buốt, chảy dịch màu trắng\n"
     ]
    },
    {
     "name": "stderr",
     "output_type": "stream",
     "text": [
      "Handle reason combind:  69%|█████████████████████████████████████████████████████████████████████████████████                                    | 1110/1603 [2:32:36<1:11:41,  8.72s/it]"
     ]
    },
    {
     "name": "stdout",
     "output_type": "stream",
     "text": [
      "result after generate:  {'result': 'phụ khoa, sinh sản'}\n",
      "Input: kham phu khoa va kha nang sinh san | sản phụ khoa | Output: phụ khoa, sinh sản\n"
     ]
    },
    {
     "name": "stderr",
     "output_type": "stream",
     "text": [
      "Handle reason combind:  69%|█████████████████████████████████████████████████████████████████████████████████                                    | 1111/1603 [2:32:40<1:00:43,  7.41s/it]"
     ]
    },
    {
     "name": "stdout",
     "output_type": "stream",
     "text": [
      "result after generate:  {'result': 'đau bụng dưới, buốt lỗ tiểu, khí hư màu trắng'}\n",
      "Input: đau bụng dưới, buốt lỗ tiểu, khí hư màu trắng | sản phụ khoa | Output: đau bụng dưới, buốt lỗ tiểu, khí hư màu trắng\n"
     ]
    },
    {
     "name": "stderr",
     "output_type": "stream",
     "text": [
      "Handle reason combind:  69%|██████████████████████████████████████████████████████████████████████████████████▌                                    | 1112/1603 [2:32:46<55:10,  6.74s/it]"
     ]
    },
    {
     "name": "stdout",
     "output_type": "stream",
     "text": [
      "result after generate:  {'result': 'huyết trắng'}\n",
      "Input: bị huyết trắng ạ | sản phụ khoa | Output: huyết trắng\n"
     ]
    },
    {
     "name": "stderr",
     "output_type": "stream",
     "text": [
      "Handle reason combind:  69%|██████████████████████████████████████████████████████████████████████████████████▌                                    | 1113/1603 [2:32:48<43:30,  5.33s/it]"
     ]
    },
    {
     "name": "stdout",
     "output_type": "stream",
     "text": [
      "result after generate:  {'result': 'ngứa, đau rát'}\n",
      "Input: ngứa, đau rát khi quan hệ | sản phụ khoa | Output: ngứa, đau rát\n"
     ]
    },
    {
     "name": "stderr",
     "output_type": "stream",
     "text": [
      "Handle reason combind:  69%|██████████████████████████████████████████████████████████████████████████████████▋                                    | 1114/1603 [2:32:55<48:59,  6.01s/it]"
     ]
    },
    {
     "name": "stdout",
     "output_type": "stream",
     "text": [
      "result after generate:  {'result': 'khí hư'}\n",
      "Input: phụ khoa, vùng kín có khí hư | sản phụ khoa | Output: khí hư\n"
     ]
    },
    {
     "name": "stderr",
     "output_type": "stream",
     "text": [
      "Handle reason combind:  70%|██████████████████████████████████████████████████████████████████████████████████▊                                    | 1115/1603 [2:33:00<44:46,  5.50s/it]"
     ]
    },
    {
     "name": "stdout",
     "output_type": "stream",
     "text": [
      "result after generate:  {'result': 'sùi mào gà'}\n",
      "Input: nghi mắc bệnh sùi mào gà | sản phụ khoa | Output: sùi mào gà\n"
     ]
    },
    {
     "name": "stderr",
     "output_type": "stream",
     "text": [
      "Handle reason combind:  70%|█████████████████████████████████████████████████████████████████████████████████▍                                   | 1116/1603 [2:33:17<1:13:28,  9.05s/it]"
     ]
    },
    {
     "name": "stdout",
     "output_type": "stream",
     "text": [
      "result after generate:  {'result': 'đau nhức vùng kín'}\n",
      "Input: đau nhức vùng kín | sản phụ khoa | Output: đau nhức vùng kín\n"
     ]
    },
    {
     "name": "stderr",
     "output_type": "stream",
     "text": [
      "Handle reason combind:  70%|██████████████████████████████████████████████████████████████████████████████████▉                                    | 1117/1603 [2:33:20<58:19,  7.20s/it]"
     ]
    },
    {
     "name": "stdout",
     "output_type": "stream",
     "text": [
      "result after generate:  {'result': 'khí hư có mùi'}\n",
      "Input: thăm khám âm đạo, khí hư có mùi | sản phụ khoa | Output: khí hư có mùi\n"
     ]
    },
    {
     "name": "stderr",
     "output_type": "stream",
     "text": [
      "Handle reason combind:  70%|█████████████████████████████████████████████████████████████████████████████████▌                                   | 1118/1603 [2:33:28<1:01:49,  7.65s/it]"
     ]
    },
    {
     "name": "stdout",
     "output_type": "stream",
     "text": [
      "result after generate:  {'result': 'Rong kinh'}\n",
      "Input: rong kinh sau sinh | sản phụ khoa | Output: Rong kinh\n"
     ]
    },
    {
     "name": "stderr",
     "output_type": "stream",
     "text": [
      "Handle reason combind:  70%|█████████████████████████████████████████████████████████████████████████████████▋                                   | 1119/1603 [2:33:44<1:19:53,  9.90s/it]"
     ]
    },
    {
     "name": "stdout",
     "output_type": "stream",
     "text": [
      "result after generate:  {'result': 'sưng môi lớn'}\n",
      "Input: sưng môi lớn | sản phụ khoa | Output: sưng môi lớn\n"
     ]
    },
    {
     "name": "stderr",
     "output_type": "stream",
     "text": [
      "Handle reason combind:  70%|█████████████████████████████████████████████████████████████████████████████████▋                                   | 1120/1603 [2:33:47<1:03:26,  7.88s/it]"
     ]
    },
    {
     "name": "stdout",
     "output_type": "stream",
     "text": [
      "result after generate:  {'result': 'null'}\n",
      "Input: kham tre kinh | sản phụ khoa | Output: null\n"
     ]
    },
    {
     "name": "stderr",
     "output_type": "stream",
     "text": [
      "Handle reason combind:  70%|█████████████████████████████████████████████████████████████████████████████████▊                                   | 1121/1603 [2:33:56<1:05:30,  8.15s/it]"
     ]
    },
    {
     "name": "stdout",
     "output_type": "stream",
     "text": [
      "result after generate:  {'result': 'mang thai'}\n",
      "Input: kiểm tra có mang thai hay khong | sản phụ khoa | Output: mang thai\n"
     ]
    },
    {
     "name": "stderr",
     "output_type": "stream",
     "text": [
      "Handle reason combind:  70%|███████████████████████████████████████████████████████████████████████████████████▎                                   | 1122/1603 [2:33:58<52:22,  6.53s/it]"
     ]
    },
    {
     "name": "stdout",
     "output_type": "stream",
     "text": [
      "result after generate:  {'result': 'mệt mỏi, nghén nặng, tình trạng sức khỏe yếu, huyết áp thấp'}\n",
      "Input: mệt mỏi, nghén nặng, tình trạng sức khỏe yếu, huyết áp thấp. | sản phụ khoa | Output: mệt mỏi, nghén nặng, tình trạng sức khỏe yếu, huyết áp thấp\n"
     ]
    },
    {
     "name": "stderr",
     "output_type": "stream",
     "text": [
      "Handle reason combind:  70%|█████████████████████████████████████████████████████████████████████████████████▉                                   | 1123/1603 [2:34:18<1:24:58, 10.62s/it]"
     ]
    },
    {
     "name": "stdout",
     "output_type": "stream",
     "text": [
      "result after generate:  {'result': 'lạc nội mạc tử cung, viêm âm hộ'}\n",
      "Input: tái khám lạc nội mạc tử cung\n",
      "dấu hiệu viêm âm hộ | sản phụ khoa | Output: lạc nội mạc tử cung, viêm âm hộ\n"
     ]
    },
    {
     "name": "stderr",
     "output_type": "stream",
     "text": [
      "Handle reason combind:  70%|██████████████████████████████████████████████████████████████████████████████████                                   | 1124/1603 [2:34:28<1:22:29, 10.33s/it]"
     ]
    },
    {
     "name": "stdout",
     "output_type": "stream",
     "text": [
      "result after generate:  {'result': 'viêm âm đạo'}\n",
      "Input: cần chẩn đoán và điều trị viêm âm đạo | sản phụ khoa | Output: viêm âm đạo\n"
     ]
    },
    {
     "name": "stderr",
     "output_type": "stream",
     "text": [
      "Handle reason combind:  70%|██████████████████████████████████████████████████████████████████████████████████                                   | 1125/1603 [2:34:30<1:01:45,  7.75s/it]"
     ]
    },
    {
     "name": "stdout",
     "output_type": "stream",
     "text": [
      "result after generate:  {'result': 'kinh nguyệt thất thường, mùi khó chịu'}\n",
      "Input: kinh nguyệt thất thường không đều, có mùi khó chịu | sản phụ khoa | Output: kinh nguyệt thất thường, mùi khó chịu\n"
     ]
    },
    {
     "name": "stderr",
     "output_type": "stream",
     "text": [
      "Handle reason combind:  70%|██████████████████████████████████████████████████████████████████████████████████▏                                  | 1126/1603 [2:34:45<1:18:09,  9.83s/it]"
     ]
    },
    {
     "name": "stdout",
     "output_type": "stream",
     "text": [
      "result after generate:  {'result': 'viêm ngứa vùng kín, khí hư màu vàng, đau rát khi quan hệ'}\n",
      "Input: vùng kín viêm ngứa, khí hư ra nhiều, màu vàng, quan hệ đau rát | sản phụ khoa | Output: viêm ngứa vùng kín, khí hư màu vàng, đau rát khi quan hệ\n"
     ]
    },
    {
     "name": "stderr",
     "output_type": "stream",
     "text": [
      "Handle reason combind:  70%|██████████████████████████████████████████████████████████████████████████████████▎                                  | 1127/1603 [2:35:00<1:32:12, 11.62s/it]"
     ]
    },
    {
     "name": "stdout",
     "output_type": "stream",
     "text": [
      "result after generate:  {'result': None}\n"
     ]
    },
    {
     "name": "stderr",
     "output_type": "stream",
     "text": [
      "Handle reason combind:  70%|██████████████████████████████████████████████████████████████████████████████████▎                                  | 1128/1603 [2:35:01<1:05:59,  8.34s/it]"
     ]
    },
    {
     "name": "stdout",
     "output_type": "stream",
     "text": [
      "result after generate:  {'result': 'khí hư màu nâu'}\n",
      "Input: khí hư màu nâu ra nhiều sau kì kinh nguyệt, ko ngứa | sản phụ khoa | Output: khí hư màu nâu\n"
     ]
    },
    {
     "name": "stderr",
     "output_type": "stream",
     "text": [
      "Handle reason combind:  70%|██████████████████████████████████████████████████████████████████████████████████▍                                  | 1129/1603 [2:35:18<1:25:59, 10.89s/it]"
     ]
    },
    {
     "name": "stdout",
     "output_type": "stream",
     "text": [
      "result after generate:  {'result': 'vô sinh nữ'}\n",
      "Input: vô sinh nữ | sản phụ khoa | Output: vô sinh nữ\n"
     ]
    },
    {
     "name": "stderr",
     "output_type": "stream",
     "text": [
      "Handle reason combind:  70%|██████████████████████████████████████████████████████████████████████████████████▍                                  | 1130/1603 [2:35:29<1:26:22, 10.96s/it]"
     ]
    },
    {
     "name": "stdout",
     "output_type": "stream",
     "text": [
      "result after generate:  {'result': 'rong kinh, đau sau lưng bên trái'}\n",
      "Input: rong kinh và đau sau lưng bên trái | sản phụ khoa | Output: rong kinh, đau sau lưng bên trái\n"
     ]
    },
    {
     "name": "stderr",
     "output_type": "stream",
     "text": [
      "Handle reason combind:  71%|██████████████████████████████████████████████████████████████████████████████████▌                                  | 1131/1603 [2:35:34<1:12:45,  9.25s/it]"
     ]
    },
    {
     "name": "stdout",
     "output_type": "stream",
     "text": [
      "result after generate:  {'result': 'kinh nguyệt không đều, ra máu kéo dài, máu đen'}\n",
      "Input: kinh nguyệt không đều, ra kéo dài gần 1 tháng. máu đen | sản phụ khoa | Output: kinh nguyệt không đều, ra máu kéo dài, máu đen\n"
     ]
    },
    {
     "name": "stderr",
     "output_type": "stream",
     "text": [
      "Handle reason combind:  71%|████████████████████████████████████████████████████████████████████████████████████                                   | 1132/1603 [2:35:37<56:45,  7.23s/it]"
     ]
    },
    {
     "name": "stdout",
     "output_type": "stream",
     "text": [
      "result after generate:  {'result': 'khô âm đạo, nẻ da, mụn, thâm da'}\n",
      "Input: 1 bên mép âm đạo bị khô, nẻ da và có đốm mụn để lại thâm li ti | sản phụ khoa | Output: khô âm đạo, nẻ da, mụn, thâm da\n"
     ]
    },
    {
     "name": "stderr",
     "output_type": "stream",
     "text": [
      "Handle reason combind:  71%|████████████████████████████████████████████████████████████████████████████████████                                   | 1133/1603 [2:35:44<57:40,  7.36s/it]"
     ]
    },
    {
     "name": "stdout",
     "output_type": "stream",
     "text": [
      "result after generate:  {'result': 'dịch trắng lợn cợn, đau vùng bụng dưới'}\n",
      "Input: âm đạo xuất hiện dịch trắng lợn cợn, đau vùng bụng dưới nhẹ | sản phụ khoa | Output: dịch trắng lợn cợn, đau vùng bụng dưới\n"
     ]
    },
    {
     "name": "stderr",
     "output_type": "stream",
     "text": [
      "Handle reason combind:  71%|██████████████████████████████████████████████████████████████████████████████████▊                                  | 1134/1603 [2:36:02<1:20:57, 10.36s/it]"
     ]
    },
    {
     "name": "stdout",
     "output_type": "stream",
     "text": [
      "result after generate:  {'result': 'rong kinh, chậm kinh'}\n",
      "Input: rong kinh, chậm kinh, kiểm tra trước mang thai | sản phụ khoa | Output: rong kinh, chậm kinh\n"
     ]
    },
    {
     "name": "stderr",
     "output_type": "stream",
     "text": [
      "Handle reason combind:  71%|██████████████████████████████████████████████████████████████████████████████████▊                                  | 1135/1603 [2:36:13<1:23:00, 10.64s/it]"
     ]
    },
    {
     "name": "stdout",
     "output_type": "stream",
     "text": [
      "result after generate:  {'result': 'trễ kinh, nổi mẫn đỏ'}\n",
      "Input: bị trễ kinh với nổi mẫn đỏ ở đùi non gần chỗ nhạy cảm | sản phụ khoa | Output: trễ kinh, nổi mẫn đỏ\n"
     ]
    },
    {
     "name": "stderr",
     "output_type": "stream",
     "text": [
      "Handle reason combind:  71%|██████████████████████████████████████████████████████████████████████████████████▉                                  | 1136/1603 [2:36:16<1:04:47,  8.32s/it]"
     ]
    },
    {
     "name": "stdout",
     "output_type": "stream",
     "text": [
      "result after generate:  {'result': 'thử que lên 2 vạch'}\n",
      "Input: thử que lên 2 vạch | sản phụ khoa | Output: thử que lên 2 vạch\n"
     ]
    },
    {
     "name": "stderr",
     "output_type": "stream",
     "text": [
      "Handle reason combind:  71%|██████████████████████████████████████████████████████████████████████████████████▉                                  | 1137/1603 [2:36:37<1:35:15, 12.26s/it]"
     ]
    },
    {
     "name": "stdout",
     "output_type": "stream",
     "text": [
      "result after generate:  {'result': 'ngứa vùng kín'}\n",
      "Input: ngứa vùng kín khi gần đến ngày hành kinh | sản phụ khoa | Output: ngứa vùng kín\n"
     ]
    },
    {
     "name": "stderr",
     "output_type": "stream",
     "text": [
      "Handle reason combind:  71%|███████████████████████████████████████████████████████████████████████████████████                                  | 1138/1603 [2:36:39<1:10:01,  9.04s/it]"
     ]
    },
    {
     "name": "stdout",
     "output_type": "stream",
     "text": [
      "result after generate:  {'result': 'ra máu âm đạo bất thường'}\n",
      "Input: ra máu âm đạo bất thường | sản phụ khoa | Output: ra máu âm đạo bất thường\n"
     ]
    },
    {
     "name": "stderr",
     "output_type": "stream",
     "text": [
      "Handle reason combind:  71%|████████████████████████████████████████████████████████████████████████████████████▌                                  | 1139/1603 [2:36:43<58:53,  7.62s/it]"
     ]
    },
    {
     "name": "stdout",
     "output_type": "stream",
     "text": [
      "result after generate:  {'result': 'đau bụng dưới, ra huyết nâu'}\n",
      "Input: đau bụng  dưới, lâu lâu ra huyết nâu | sản phụ khoa | Output: đau bụng dưới, ra huyết nâu\n"
     ]
    },
    {
     "name": "stderr",
     "output_type": "stream",
     "text": [
      "Handle reason combind:  71%|███████████████████████████████████████████████████████████████████████████████████▏                                 | 1140/1603 [2:36:53<1:03:55,  8.28s/it]"
     ]
    },
    {
     "name": "stdout",
     "output_type": "stream",
     "text": [
      "result after generate:  {'result': 'đau bụng dưới, đau lưng, ngứa'}\n",
      "Input: đau bụng dưới âm it kèm đau lưng và ngứa sau kì kinh | sản phụ khoa | Output: đau bụng dưới, đau lưng, ngứa\n"
     ]
    },
    {
     "name": "stderr",
     "output_type": "stream",
     "text": [
      "Handle reason combind:  71%|████████████████████████████████████████████████████████████████████████████████████▋                                  | 1141/1603 [2:36:56<52:20,  6.80s/it]"
     ]
    },
    {
     "name": "stdout",
     "output_type": "stream",
     "text": [
      "result after generate:  {'result': 'dịch âm đạo màu bất thường, xuất huyết, đau bụng'}\n",
      "Input: có dịch âm đạo màu bất thường, thỉnh thoảng xuất huyết và đau bụng | sản phụ khoa | Output: dịch âm đạo màu bất thường, xuất huyết, đau bụng\n"
     ]
    },
    {
     "name": "stderr",
     "output_type": "stream",
     "text": [
      "Handle reason combind:  71%|████████████████████████████████████████████████████████████████████████████████████▊                                  | 1142/1603 [2:37:05<56:14,  7.32s/it]"
     ]
    },
    {
     "name": "stdout",
     "output_type": "stream",
     "text": [
      "result after generate:  {'result': 'dị tật thai nhi, khoèo chân'}\n",
      "Input: khám dị tật thai nhi do siêu âm trên sơn la có chẩn đoán bị khoèo chân | sản phụ khoa | Output: dị tật thai nhi, khoèo chân\n"
     ]
    },
    {
     "name": "stderr",
     "output_type": "stream",
     "text": [
      "Handle reason combind:  71%|███████████████████████████████████████████████████████████████████████████████████▍                                 | 1143/1603 [2:37:15<1:02:50,  8.20s/it]"
     ]
    },
    {
     "name": "stdout",
     "output_type": "stream",
     "text": [
      "result after generate:  {'result': 'khối thịt dư trong tử cung'}\n",
      "Input: có khối thịt dư trong tử cung | sản phụ khoa | Output: khối thịt dư trong tử cung\n"
     ]
    },
    {
     "name": "stderr",
     "output_type": "stream",
     "text": [
      "Handle reason combind:  71%|████████████████████████████████████████████████████████████████████████████████████▉                                  | 1144/1603 [2:37:17<47:52,  6.26s/it]"
     ]
    },
    {
     "name": "stdout",
     "output_type": "stream",
     "text": [
      "result after generate:  {'result': None}\n"
     ]
    },
    {
     "name": "stderr",
     "output_type": "stream",
     "text": [
      "Handle reason combind:  71%|█████████████████████████████████████████████████████████████████████████████████████                                  | 1145/1603 [2:37:21<43:33,  5.71s/it]"
     ]
    },
    {
     "name": "stdout",
     "output_type": "stream",
     "text": [
      "result after generate:  {'result': None}\n"
     ]
    },
    {
     "name": "stderr",
     "output_type": "stream",
     "text": [
      "Handle reason combind:  71%|█████████████████████████████████████████████████████████████████████████████████████                                  | 1146/1603 [2:37:30<49:23,  6.49s/it]"
     ]
    },
    {
     "name": "stdout",
     "output_type": "stream",
     "text": [
      "result after generate:  {'result': None}\n"
     ]
    },
    {
     "name": "stderr",
     "output_type": "stream",
     "text": [
      "Handle reason combind:  72%|█████████████████████████████████████████████████████████████████████████████████████▏                                 | 1147/1603 [2:37:31<37:47,  4.97s/it]"
     ]
    },
    {
     "name": "stdout",
     "output_type": "stream",
     "text": [
      "result after generate:  {'result': 'đau khi quan hệ'}\n",
      "Input: đau khi quan hệ | sản phụ khoa | Output: đau khi quan hệ\n"
     ]
    },
    {
     "name": "stderr",
     "output_type": "stream",
     "text": [
      "Handle reason combind:  72%|███████████████████████████████████████████████████████████████████████████████████▊                                 | 1148/1603 [2:37:49<1:06:23,  8.76s/it]"
     ]
    },
    {
     "name": "stdout",
     "output_type": "stream",
     "text": [
      "result after generate:  {'result': 'mang thai'}\n",
      "Input: xin tư vấn trường hợp có thai sau khi chồng đã làm biện pháp triêt sản | sản phụ khoa | Output: mang thai\n"
     ]
    },
    {
     "name": "stderr",
     "output_type": "stream",
     "text": [
      "Handle reason combind:  72%|███████████████████████████████████████████████████████████████████████████████████▊                                 | 1149/1603 [2:37:56<1:03:04,  8.34s/it]"
     ]
    },
    {
     "name": "stdout",
     "output_type": "stream",
     "text": [
      "result after generate:  {'result': 'huyết trắng có màu, ngứa vùng ngoài âm đạo'}\n",
      "Input: huyết trắng có màu,ngứa vùng ngoài âm đạo | sản phụ khoa | Output: huyết trắng có màu, ngứa vùng ngoài âm đạo\n"
     ]
    },
    {
     "name": "stderr",
     "output_type": "stream",
     "text": [
      "Handle reason combind:  72%|█████████████████████████████████████████████████████████████████████████████████████▎                                 | 1150/1603 [2:38:01<55:41,  7.38s/it]"
     ]
    },
    {
     "name": "stdout",
     "output_type": "stream",
     "text": [
      "result after generate:  {'result': 'tiểu ra máu, đau bụng dưới, đau lưng dưới'}\n",
      "Input: tiểu ra máu. đau bụng dưới và đau lưng dưới | sản phụ khoa | Output: tiểu ra máu, đau bụng dưới, đau lưng dưới\n"
     ]
    },
    {
     "name": "stderr",
     "output_type": "stream",
     "text": [
      "Handle reason combind:  72%|████████████████████████████████████████████████████████████████████████████████████                                 | 1151/1603 [2:38:19<1:19:51, 10.60s/it]"
     ]
    },
    {
     "name": "stdout",
     "output_type": "stream",
     "text": [
      "result after generate:  {'result': 'nghi ngờ viêm lộ tuyến'}\n",
      "Input: nghi ngờ viêm lộ tuyến | sản phụ khoa | Output: nghi ngờ viêm lộ tuyến\n"
     ]
    },
    {
     "name": "stderr",
     "output_type": "stream",
     "text": [
      "Handle reason combind:  72%|████████████████████████████████████████████████████████████████████████████████████                                 | 1152/1603 [2:38:26<1:11:39,  9.53s/it]"
     ]
    },
    {
     "name": "stdout",
     "output_type": "stream",
     "text": [
      "result after generate:  {'result': 'chỉ số ca125 cao'}\n",
      "Input: khám phụ khoa , chỉ số ca125 cao khi xet nghiệm máu | sản phụ khoa | Output: chỉ số ca125 cao\n"
     ]
    },
    {
     "name": "stderr",
     "output_type": "stream",
     "text": [
      "Handle reason combind:  72%|████████████████████████████████████████████████████████████████████████████████████▏                                | 1153/1603 [2:38:34<1:06:37,  8.88s/it]"
     ]
    },
    {
     "name": "stdout",
     "output_type": "stream",
     "text": [
      "result after generate:  {'result': 'đi tiểu ra máu, rát vùng kín'}\n",
      "Input: đi tiểu ra máu, rát vùng kín | sản phụ khoa | Output: đi tiểu ra máu, rát vùng kín\n"
     ]
    },
    {
     "name": "stderr",
     "output_type": "stream",
     "text": [
      "Handle reason combind:  72%|█████████████████████████████████████████████████████████████████████████████████████▋                                 | 1154/1603 [2:38:36<51:38,  6.90s/it]"
     ]
    },
    {
     "name": "stdout",
     "output_type": "stream",
     "text": [
      "result after generate:  {'result': 'trĩ, ra máu'}\n",
      "Input: trĩ và ra máu | sản phụ khoa | Output: trĩ, ra máu\n"
     ]
    },
    {
     "name": "stderr",
     "output_type": "stream",
     "text": [
      "Handle reason combind:  72%|█████████████████████████████████████████████████████████████████████████████████████▋                                 | 1155/1603 [2:38:41<47:46,  6.40s/it]"
     ]
    },
    {
     "name": "stdout",
     "output_type": "stream",
     "text": [
      "result after generate:  {'result': None}\n"
     ]
    },
    {
     "name": "stderr",
     "output_type": "stream",
     "text": [
      "Handle reason combind:  72%|████████████████████████████████████████████████████████████████████████████████████▎                                | 1156/1603 [2:38:59<1:12:44,  9.76s/it]"
     ]
    },
    {
     "name": "stdout",
     "output_type": "stream",
     "text": [
      "result after generate:  {'result': 'khí hư'}\n",
      "Input: ra khí hư khi mang bầu 5 tuần | sản phụ khoa | Output: khí hư\n"
     ]
    },
    {
     "name": "stderr",
     "output_type": "stream",
     "text": [
      "Handle reason combind:  72%|█████████████████████████████████████████████████████████████████████████████████████▉                                 | 1157/1603 [2:39:02<57:39,  7.76s/it]"
     ]
    },
    {
     "name": "stdout",
     "output_type": "stream",
     "text": [
      "result after generate:  {'result': 'vô sinh'}\n",
      "Input: mong có con | sản phụ khoa | Output: vô sinh\n"
     ]
    },
    {
     "name": "stderr",
     "output_type": "stream",
     "text": [
      "Handle reason combind:  72%|████████████████████████████████████████████████████████████████████████████████████▌                                | 1158/1603 [2:39:16<1:12:35,  9.79s/it]"
     ]
    },
    {
     "name": "stdout",
     "output_type": "stream",
     "text": [
      "result after generate:  {'result': 'kinh nguyệt thất thường, tiểu buốt'}\n",
      "Input: kinh nguyệt thất thường, tiểu buốt | sản phụ khoa | Output: kinh nguyệt thất thường, tiểu buốt\n"
     ]
    },
    {
     "name": "stderr",
     "output_type": "stream",
     "text": [
      "Handle reason combind:  72%|██████████████████████████████████████████████████████████████████████████████████████                                 | 1159/1603 [2:39:18<55:11,  7.46s/it]"
     ]
    },
    {
     "name": "stdout",
     "output_type": "stream",
     "text": [
      "result after generate:  {'result': 'đau tức ở ngực, khó thở, đau bụng, tiêu chảy, đau lưng'}\n",
      "Input: hay đau tức ở ngực, thỉnh thoảng khó thở, hay bị đau bụng quằn quại, tiêu chảy, đau lưng tê bì. | sản phụ khoa | Output: đau tức ở ngực, khó thở, đau bụng, tiêu chảy, đau lưng\n"
     ]
    },
    {
     "name": "stderr",
     "output_type": "stream",
     "text": [
      "Handle reason combind:  72%|██████████████████████████████████████████████████████████████████████████████████████                                 | 1160/1603 [2:39:27<56:43,  7.68s/it]"
     ]
    },
    {
     "name": "stdout",
     "output_type": "stream",
     "text": [
      "result after generate:  {'result': 'khám thai'}\n",
      "Input: khám thai lần đầu tiên | sản phụ khoa | Output: khám thai\n"
     ]
    },
    {
     "name": "stderr",
     "output_type": "stream",
     "text": [
      "Handle reason combind:  72%|██████████████████████████████████████████████████████████████████████████████████████▏                                | 1161/1603 [2:39:32<52:20,  7.10s/it]"
     ]
    },
    {
     "name": "stdout",
     "output_type": "stream",
     "text": [
      "result after generate:  {'result': 'vô sinh'}\n",
      "Input: chậm có con | sản phụ khoa | Output: vô sinh\n"
     ]
    },
    {
     "name": "stderr",
     "output_type": "stream",
     "text": [
      "Handle reason combind:  72%|████████████████████████████████████████████████████████████████████████████████████▊                                | 1162/1603 [2:39:49<1:13:39, 10.02s/it]"
     ]
    },
    {
     "name": "stdout",
     "output_type": "stream",
     "text": [
      "result after generate:  {'result': 'rong kinh'}\n",
      "Input: rong kinh  yêu cầu đc bs trần thị tuyết lan khám | sản phụ khoa | Output: rong kinh\n"
     ]
    },
    {
     "name": "stderr",
     "output_type": "stream",
     "text": [
      "Handle reason combind:  73%|██████████████████████████████████████████████████████████████████████████████████████▎                                | 1163/1603 [2:39:51<54:44,  7.47s/it]"
     ]
    },
    {
     "name": "stdout",
     "output_type": "stream",
     "text": [
      "result after generate:  {'result': 'ngứa vùng kín, buốt khi đi tiểu, tiểu nhiều, khó kiểm soát'}\n",
      "Input: ngứa vùng kín, buốt khi đi tiểu, tiểu nhiều, khó kiểm soát | sản phụ khoa | Output: ngứa vùng kín, buốt khi đi tiểu, tiểu nhiều, khó kiểm soát\n"
     ]
    },
    {
     "name": "stderr",
     "output_type": "stream",
     "text": [
      "Handle reason combind:  73%|████████████████████████████████████████████████████████████████████████████████████▉                                | 1164/1603 [2:40:07<1:14:09, 10.13s/it]"
     ]
    },
    {
     "name": "stdout",
     "output_type": "stream",
     "text": [
      "result after generate:  {'result': 'ra máu khi quan hệ, tiểu buốt'}\n",
      "Input: ra máu khi quan hệ - tiểu buốt nhiều ngày | sản phụ khoa | Output: ra máu khi quan hệ, tiểu buốt\n"
     ]
    },
    {
     "name": "stderr",
     "output_type": "stream",
     "text": [
      "Handle reason combind:  73%|█████████████████████████████████████████████████████████████████████████████████████                                | 1165/1603 [2:40:12<1:01:31,  8.43s/it]"
     ]
    },
    {
     "name": "stdout",
     "output_type": "stream",
     "text": [
      "result after generate:  {'result': 'chảy máu phụ khoa'}\n",
      "Input: chảy máu phụ khoa | sản phụ khoa | Output: chảy máu phụ khoa\n"
     ]
    },
    {
     "name": "stderr",
     "output_type": "stream",
     "text": [
      "Handle reason combind:  73%|█████████████████████████████████████████████████████████████████████████████████████                                | 1166/1603 [2:40:31<1:24:32, 11.61s/it]"
     ]
    },
    {
     "name": "stdout",
     "output_type": "stream",
     "text": [
      "result after generate:  {'result': None}\n"
     ]
    },
    {
     "name": "stderr",
     "output_type": "stream",
     "text": [
      "Handle reason combind:  73%|█████████████████████████████████████████████████████████████████████████████████████▏                               | 1167/1603 [2:40:33<1:05:04,  8.95s/it]"
     ]
    },
    {
     "name": "stdout",
     "output_type": "stream",
     "text": [
      "result after generate:  {'result': 'ra huyết'}\n",
      "Input: bị ra huyết nhiều ngày liền | sản phụ khoa | Output: ra huyết\n"
     ]
    },
    {
     "name": "stderr",
     "output_type": "stream",
     "text": [
      "Handle reason combind:  73%|█████████████████████████████████████████████████████████████████████████████████████▎                               | 1168/1603 [2:40:50<1:20:38, 11.12s/it]"
     ]
    },
    {
     "name": "stdout",
     "output_type": "stream",
     "text": [
      "result after generate:  {'result': 'trễ kinh, đau bụng'}\n",
      "Input: trễ kinh với bị thốn bụng | sản phụ khoa | Output: trễ kinh, đau bụng\n"
     ]
    },
    {
     "name": "stderr",
     "output_type": "stream",
     "text": [
      "Handle reason combind:  73%|█████████████████████████████████████████████████████████████████████████████████████▎                               | 1169/1603 [2:40:53<1:04:18,  8.89s/it]"
     ]
    },
    {
     "name": "stdout",
     "output_type": "stream",
     "text": [
      "result after generate:  {'result': 'khám thai, u xơ'}\n",
      "Input: khám thai, u xơ | sản phụ khoa | Output: khám thai, u xơ\n"
     ]
    },
    {
     "name": "stderr",
     "output_type": "stream",
     "text": [
      "Handle reason combind:  73%|█████████████████████████████████████████████████████████████████████████████████████▍                               | 1170/1603 [2:41:04<1:07:20,  9.33s/it]"
     ]
    },
    {
     "name": "stdout",
     "output_type": "stream",
     "text": [
      "result after generate:  {'result': 'đi tiểu buốt, mọc mụn thịt'}\n",
      "Input: đi tiểu buốt, mọc mụn thịt ở mép vùng kín | sản phụ khoa | Output: đi tiểu buốt, mọc mụn thịt\n"
     ]
    },
    {
     "name": "stderr",
     "output_type": "stream",
     "text": [
      "Handle reason combind:  73%|██████████████████████████████████████████████████████████████████████████████████████▉                                | 1171/1603 [2:41:07<54:27,  7.56s/it]"
     ]
    },
    {
     "name": "stdout",
     "output_type": "stream",
     "text": [
      "result after generate:  {'result': None}\n"
     ]
    },
    {
     "name": "stderr",
     "output_type": "stream",
     "text": [
      "Handle reason combind:  73%|█████████████████████████████████████████████████████████████████████████████████████▌                               | 1172/1603 [2:41:22<1:10:18,  9.79s/it]"
     ]
    },
    {
     "name": "stdout",
     "output_type": "stream",
     "text": [
      "result after generate:  {'result': 'trễ kinh'}\n",
      "Input: trế kinh | sản phụ khoa | Output: trễ kinh\n"
     ]
    },
    {
     "name": "stderr",
     "output_type": "stream",
     "text": [
      "Handle reason combind:  73%|█████████████████████████████████████████████████████████████████████████████████████▌                               | 1173/1603 [2:41:39<1:26:42, 12.10s/it]"
     ]
    },
    {
     "name": "stdout",
     "output_type": "stream",
     "text": [
      "result after generate:  {'result': None}\n"
     ]
    },
    {
     "name": "stderr",
     "output_type": "stream",
     "text": [
      "Handle reason combind:  73%|█████████████████████████████████████████████████████████████████████████████████████▋                               | 1174/1603 [2:41:54<1:32:00, 12.87s/it]"
     ]
    },
    {
     "name": "stdout",
     "output_type": "stream",
     "text": [
      "result after generate:  {'result': 'kinh nguyệt không đều'}\n",
      "Input: kinh nguyet không đeu | sản phụ khoa | Output: kinh nguyệt không đều\n"
     ]
    },
    {
     "name": "stderr",
     "output_type": "stream",
     "text": [
      "Handle reason combind:  73%|█████████████████████████████████████████████████████████████████████████████████████▊                               | 1175/1603 [2:41:57<1:10:49,  9.93s/it]"
     ]
    },
    {
     "name": "stdout",
     "output_type": "stream",
     "text": [
      "result after generate:  {'result': 'thai 29 tuần, nhân xơ tiền đạo, nhau tiền đạo'}\n",
      "Input: thai 29 tuần, nhân xơ tiền đạo, nhau tiền đạo | sản phụ khoa | Output: thai 29 tuần, nhân xơ tiền đạo, nhau tiền đạo\n"
     ]
    },
    {
     "name": "stderr",
     "output_type": "stream",
     "text": [
      "Handle reason combind:  73%|█████████████████████████████████████████████████████████████████████████████████████▊                               | 1176/1603 [2:42:04<1:04:32,  9.07s/it]"
     ]
    },
    {
     "name": "stdout",
     "output_type": "stream",
     "text": [
      "result after generate:  {'result': None}\n"
     ]
    },
    {
     "name": "stderr",
     "output_type": "stream",
     "text": [
      "Handle reason combind:  73%|███████████████████████████████████████████████████████████████████████████████████████▍                               | 1177/1603 [2:42:07<51:24,  7.24s/it]"
     ]
    },
    {
     "name": "stdout",
     "output_type": "stream",
     "text": [
      "result after generate:  {'result': 'siêu âm nhân sơ'}\n",
      "Input: siêu âm nhân sơ | sản phụ khoa | Output: siêu âm nhân sơ\n"
     ]
    },
    {
     "name": "stderr",
     "output_type": "stream",
     "text": [
      "Handle reason combind:  73%|███████████████████████████████████████████████████████████████████████████████████████▍                               | 1178/1603 [2:42:18<59:06,  8.34s/it]"
     ]
    },
    {
     "name": "stdout",
     "output_type": "stream",
     "text": [
      "result after generate:  {'result': 'thai sớm'}\n",
      "Input: thai sớm | sản phụ khoa | Output: thai sớm\n"
     ]
    },
    {
     "name": "stderr",
     "output_type": "stream",
     "text": [
      "Handle reason combind:  74%|███████████████████████████████████████████████████████████████████████████████████████▌                               | 1179/1603 [2:42:24<54:22,  7.69s/it]"
     ]
    },
    {
     "name": "stdout",
     "output_type": "stream",
     "text": [
      "result after generate:  {'result': 'trễ kinh'}\n",
      "Input: khám thai (trễ kinh 1 tuần) | sản phụ khoa | Output: trễ kinh\n"
     ]
    },
    {
     "name": "stderr",
     "output_type": "stream",
     "text": [
      "Handle reason combind:  74%|██████████████████████████████████████████████████████████████████████████████████████▏                              | 1180/1603 [2:42:40<1:10:53, 10.06s/it]"
     ]
    },
    {
     "name": "stdout",
     "output_type": "stream",
     "text": [
      "result after generate:  {'result': 'huyết trắng vón cục'}\n",
      "Input: huyết trắng vón cục | sản phụ khoa | Output: huyết trắng vón cục\n"
     ]
    },
    {
     "name": "stderr",
     "output_type": "stream",
     "text": [
      "Handle reason combind:  74%|██████████████████████████████████████████████████████████████████████████████████████▏                              | 1181/1603 [2:42:50<1:10:17,  9.99s/it]"
     ]
    },
    {
     "name": "stdout",
     "output_type": "stream",
     "text": [
      "result after generate:  {'result': 'tắc vòi trứng'}\n",
      "Input: khám tắc vòi trứng | sản phụ khoa | Output: tắc vòi trứng\n"
     ]
    },
    {
     "name": "stderr",
     "output_type": "stream",
     "text": [
      "Handle reason combind:  74%|██████████████████████████████████████████████████████████████████████████████████████▎                              | 1182/1603 [2:42:59<1:09:28,  9.90s/it]"
     ]
    },
    {
     "name": "stdout",
     "output_type": "stream",
     "text": [
      "result after generate:  {'result': 'đau âm đạo'}\n",
      "Input: cảm giác đau âm đạo sau khi đi tiểu. | sản phụ khoa | Output: đau âm đạo\n"
     ]
    },
    {
     "name": "stderr",
     "output_type": "stream",
     "text": [
      "Handle reason combind:  74%|███████████████████████████████████████████████████████████████████████████████████████▊                               | 1183/1603 [2:43:04<57:23,  8.20s/it]"
     ]
    },
    {
     "name": "stdout",
     "output_type": "stream",
     "text": [
      "result after generate:  {'result': 'mụn cục'}\n",
      "Input: bị mụn cục | sản phụ khoa | Output: mụn cục\n"
     ]
    },
    {
     "name": "stderr",
     "output_type": "stream",
     "text": [
      "Handle reason combind:  74%|███████████████████████████████████████████████████████████████████████████████████████▉                               | 1184/1603 [2:43:06<43:59,  6.30s/it]"
     ]
    },
    {
     "name": "stdout",
     "output_type": "stream",
     "text": [
      "result after generate:  {'result': 'kinh nguyệt không đều'}\n",
      "Input: có kinh nguyệt từ tháng 11/2022 đến bây giờ không hết | sản phụ khoa | Output: kinh nguyệt không đều\n"
     ]
    },
    {
     "name": "stderr",
     "output_type": "stream",
     "text": [
      "Handle reason combind:  74%|██████████████████████████████████████████████████████████████████████████████████████▍                              | 1185/1603 [2:43:21<1:02:54,  9.03s/it]"
     ]
    },
    {
     "name": "stdout",
     "output_type": "stream",
     "text": [
      "result after generate:  {'result': 'rong kinh, mụn vùng kín'}\n",
      "Input: bị rong kinh + bị mụn vùng kín | sản phụ khoa | Output: rong kinh, mụn vùng kín\n"
     ]
    },
    {
     "name": "stderr",
     "output_type": "stream",
     "text": [
      "Handle reason combind:  74%|████████████████████████████████████████████████████████████████████████████████████████                               | 1186/1603 [2:43:22<46:08,  6.64s/it]"
     ]
    },
    {
     "name": "stdout",
     "output_type": "stream",
     "text": [
      "result after generate:  {'result': 'kinh nguyệt không đều, nội tiết không ổn định'}\n",
      "Input: kinh nguyệt ko đều, nội tiết ko ổn định | sản phụ khoa | Output: kinh nguyệt không đều, nội tiết không ổn định\n"
     ]
    },
    {
     "name": "stderr",
     "output_type": "stream",
     "text": [
      "Handle reason combind:  74%|████████████████████████████████████████████████████████████████████████████████████████                               | 1187/1603 [2:43:31<50:13,  7.25s/it]"
     ]
    },
    {
     "name": "stdout",
     "output_type": "stream",
     "text": [
      "result after generate:  {'result': 'đo độ mờ da gáy'}\n",
      "Input: khám thai đo độ mờ da gáy | sản phụ khoa | Output: đo độ mờ da gáy\n"
     ]
    },
    {
     "name": "stderr",
     "output_type": "stream",
     "text": [
      "Handle reason combind:  74%|████████████████████████████████████████████████████████████████████████████████████████▏                              | 1188/1603 [2:43:34<41:24,  5.99s/it]"
     ]
    },
    {
     "name": "stdout",
     "output_type": "stream",
     "text": [
      "result after generate:  {'result': 'sùi mào gà'}\n",
      "Input: sùi mào gà | sản phụ khoa | Output: sùi mào gà\n"
     ]
    },
    {
     "name": "stderr",
     "output_type": "stream",
     "text": [
      "Handle reason combind:  74%|████████████████████████████████████████████████████████████████████████████████████████▎                              | 1189/1603 [2:43:38<37:38,  5.45s/it]"
     ]
    },
    {
     "name": "stdout",
     "output_type": "stream",
     "text": [
      "result after generate:  {'result': 'mãn kinh'}\n",
      "Input: tầm soát mãn kinh | sản phụ khoa | Output: mãn kinh\n"
     ]
    },
    {
     "name": "stderr",
     "output_type": "stream",
     "text": [
      "Handle reason combind:  74%|████████████████████████████████████████████████████████████████████████████████████████▎                              | 1190/1603 [2:43:50<51:21,  7.46s/it]"
     ]
    },
    {
     "name": "stdout",
     "output_type": "stream",
     "text": [
      "result after generate:  {'result': 'ra dịch nhầy màu như lòng trắng trứng, kì kinh sớm'}\n",
      "Input: em bị ra dịch nhầy màu như lòng trắng trứng trong 3 ngày gần đây, dịch ra ít, không mùi và em không ngứa. em qhtd lần cuối cách đây hơn 1 tuần và ngay trong hôm đó em đến kì kinh sớm hơn bình thường 14 ngày | sản phụ khoa | Output: ra dịch nhầy màu như lòng trắng trứng, kì kinh sớm\n"
     ]
    },
    {
     "name": "stderr",
     "output_type": "stream",
     "text": [
      "Handle reason combind:  74%|████████████████████████████████████████████████████████████████████████████████████████▍                              | 1191/1603 [2:43:56<48:17,  7.03s/it]"
     ]
    },
    {
     "name": "stdout",
     "output_type": "stream",
     "text": [
      "result after generate:  {'result': 'tiểu buốt, ra mủ, viêm âm đạo'}\n",
      "Input: tiểu buốt ra mủ , viêm âm đạo | sản phụ khoa | Output: tiểu buốt, ra mủ, viêm âm đạo\n"
     ]
    },
    {
     "name": "stderr",
     "output_type": "stream",
     "text": [
      "Handle reason combind:  74%|████████████████████████████████████████████████████████████████████████████████████████▍                              | 1192/1603 [2:44:02<46:20,  6.77s/it]"
     ]
    },
    {
     "name": "stdout",
     "output_type": "stream",
     "text": [
      "result after generate:  {'result': 'khí hư màu đen, đau bụng dưới, ngứa vùng âm đạo, rỉ máu hồng'}\n",
      "Input: khí hư màu đen, đau bụng dưới nhiều ngày, ngứa vùng âm đạo, thi thoảng rỉ máu hồng | sản phụ khoa | Output: khí hư màu đen, đau bụng dưới, ngứa vùng âm đạo, rỉ máu hồng\n"
     ]
    },
    {
     "name": "stderr",
     "output_type": "stream",
     "text": [
      "Handle reason combind:  74%|████████████████████████████████████████████████████████████████████████████████████████▌                              | 1193/1603 [2:44:09<45:22,  6.64s/it]"
     ]
    },
    {
     "name": "stdout",
     "output_type": "stream",
     "text": [
      "result after generate:  {'result': None}\n"
     ]
    },
    {
     "name": "stderr",
     "output_type": "stream",
     "text": [
      "Handle reason combind:  74%|████████████████████████████████████████████████████████████████████████████████████████▋                              | 1194/1603 [2:44:14<42:39,  6.26s/it]"
     ]
    },
    {
     "name": "stdout",
     "output_type": "stream",
     "text": [
      "result after generate:  {'result': 'nghi ngờ bị đa nang buồng trứng'}\n",
      "Input: nghi ngờ bị đa nang buồng trứng | sản phụ khoa | Output: nghi ngờ bị đa nang buồng trứng\n"
     ]
    },
    {
     "name": "stderr",
     "output_type": "stream",
     "text": [
      "Handle reason combind:  75%|████████████████████████████████████████████████████████████████████████████████████████▋                              | 1195/1603 [2:44:26<54:18,  7.99s/it]"
     ]
    },
    {
     "name": "stdout",
     "output_type": "stream",
     "text": [
      "result after generate:  {'result': None}\n"
     ]
    },
    {
     "name": "stderr",
     "output_type": "stream",
     "text": [
      "Handle reason combind:  75%|████████████████████████████████████████████████████████████████████████████████████████▊                              | 1196/1603 [2:44:33<51:36,  7.61s/it]"
     ]
    },
    {
     "name": "stdout",
     "output_type": "stream",
     "text": [
      "result after generate:  {'result': 'sùi mào gà, hành kinh không đều, đau khi quan hệ'}\n",
      "Input: nghi ngờ bị sùi mào gà, hành kinh không đều, đau khi quan hệ | sản phụ khoa | Output: sùi mào gà, hành kinh không đều, đau khi quan hệ\n"
     ]
    },
    {
     "name": "stderr",
     "output_type": "stream",
     "text": [
      "Handle reason combind:  75%|████████████████████████████████████████████████████████████████████████████████████████▊                              | 1197/1603 [2:44:37<44:52,  6.63s/it]"
     ]
    },
    {
     "name": "stdout",
     "output_type": "stream",
     "text": [
      "result after generate:  {'result': 'tiểu buốt, tiểu rắt, máu sau quan hệ'}\n",
      "Input: tiểu buốt, tiểu rắt thỉnh thoảng ra chút máu sau quan hệ | sản phụ khoa | Output: tiểu buốt, tiểu rắt, máu sau quan hệ\n"
     ]
    },
    {
     "name": "stderr",
     "output_type": "stream",
     "text": [
      "Handle reason combind:  75%|████████████████████████████████████████████████████████████████████████████████████████▉                              | 1198/1603 [2:44:41<40:07,  5.94s/it]"
     ]
    },
    {
     "name": "stdout",
     "output_type": "stream",
     "text": [
      "result after generate:  {'result': 'khí hư màu xanh, ngứa ngáy'}\n",
      "Input: khí hư màu xanh, ngứa ngáy | sản phụ khoa | Output: khí hư màu xanh, ngứa ngáy\n"
     ]
    },
    {
     "name": "stderr",
     "output_type": "stream",
     "text": [
      "Handle reason combind:  75%|█████████████████████████████████████████████████████████████████████████████████████████                              | 1199/1603 [2:44:48<41:58,  6.23s/it]"
     ]
    },
    {
     "name": "stdout",
     "output_type": "stream",
     "text": [
      "result after generate:  {'result': 'đau rát ở vùng âm đạo, rỉ máu, mùi hôi, mụn gần miệng âm đạo'}\n",
      "Input: đau rát ở vùng âm đạo, có rỉ máu, có mùi hôi ạ, bị mụn gần miệng âm đạo ạ... | sản phụ khoa | Output: đau rát ở vùng âm đạo, rỉ máu, mùi hôi, mụn gần miệng âm đạo\n"
     ]
    },
    {
     "name": "stderr",
     "output_type": "stream",
     "text": [
      "Handle reason combind:  75%|█████████████████████████████████████████████████████████████████████████████████████████                              | 1200/1603 [2:44:55<42:32,  6.33s/it]"
     ]
    },
    {
     "name": "stdout",
     "output_type": "stream",
     "text": [
      "result after generate:  {'result': 'khó chịu, đau vùng kín'}\n",
      "Input: vùng kín cảm thấy khó chịu bị đau | sản phụ khoa | Output: khó chịu, đau vùng kín\n"
     ]
    },
    {
     "name": "stderr",
     "output_type": "stream",
     "text": [
      "Handle reason combind:  75%|█████████████████████████████████████████████████████████████████████████████████████████▏                             | 1201/1603 [2:44:58<35:15,  5.26s/it]"
     ]
    },
    {
     "name": "stdout",
     "output_type": "stream",
     "text": [
      "result after generate:  {'result': 'buồn tiểu liên tục, tiểu gắt, tiểu buốt, mùi hôi'}\n",
      "Input: buồn tiểu liên tục, tiểu gắt, tiểu buốt, mùi hôi | sản phụ khoa | Output: buồn tiểu liên tục, tiểu gắt, tiểu buốt, mùi hôi\n"
     ]
    },
    {
     "name": "stderr",
     "output_type": "stream",
     "text": [
      "Handle reason combind:  75%|█████████████████████████████████████████████████████████████████████████████████████████▏                             | 1202/1603 [2:45:14<57:59,  8.68s/it]"
     ]
    },
    {
     "name": "stdout",
     "output_type": "stream",
     "text": [
      "result after generate:  {'result': 'ngứa ngáy khó chịu ở vùng âm đạo'}\n",
      "Input: cảm thấy ngứa ngáy khó chịu ở vùng âm đạo | sản phụ khoa | Output: ngứa ngáy khó chịu ở vùng âm đạo\n"
     ]
    },
    {
     "name": "stderr",
     "output_type": "stream",
     "text": [
      "Handle reason combind:  75%|█████████████████████████████████████████████████████████████████████████████████████████▎                             | 1203/1603 [2:45:20<51:51,  7.78s/it]"
     ]
    },
    {
     "name": "stdout",
     "output_type": "stream",
     "text": [
      "result after generate:  {'result': 'lộ tuyến'}\n",
      "Input: tư vấn đốt lộ tuyến | sản phụ khoa | Output: lộ tuyến\n"
     ]
    },
    {
     "name": "stderr",
     "output_type": "stream",
     "text": [
      "Handle reason combind:  75%|█████████████████████████████████████████████████████████████████████████████████████████▍                             | 1204/1603 [2:45:24<44:10,  6.64s/it]"
     ]
    },
    {
     "name": "stdout",
     "output_type": "stream",
     "text": [
      "result after generate:  {'result': 'ngứa, mùi khó chịu'}\n",
      "Input: bị ngứa và có mùi khó chịu phát ra từ bộ phận sinh dục. muốn đăng kí khám phụ khoa | sản phụ khoa | Output: ngứa, mùi khó chịu\n"
     ]
    },
    {
     "name": "stderr",
     "output_type": "stream",
     "text": [
      "Handle reason combind:  75%|█████████████████████████████████████████████████████████████████████████████████████████▍                             | 1205/1603 [2:45:34<50:24,  7.60s/it]"
     ]
    },
    {
     "name": "stdout",
     "output_type": "stream",
     "text": [
      "result after generate:  {'result': 'cục u nhỏ bên trong vú'}\n",
      "Input: có cục u nhỏ bên trong vú, vừa phát hiện khi cho con bú tháng thứ 5 | sản phụ khoa | Output: cục u nhỏ bên trong vú\n"
     ]
    },
    {
     "name": "stderr",
     "output_type": "stream",
     "text": [
      "Handle reason combind:  75%|█████████████████████████████████████████████████████████████████████████████████████████▌                             | 1206/1603 [2:45:39<45:36,  6.89s/it]"
     ]
    },
    {
     "name": "stdout",
     "output_type": "stream",
     "text": [
      "result after generate:  {'result': 'vùng dưới bị sưng, có mùi, thấy có máu'}\n",
      "Input: khám phụ khoa, vùng dưới bị sưng, có mùi, thấy có máu | sản phụ khoa | Output: vùng dưới bị sưng, có mùi, thấy có máu\n"
     ]
    },
    {
     "name": "stderr",
     "output_type": "stream",
     "text": [
      "Handle reason combind:  75%|█████████████████████████████████████████████████████████████████████████████████████████▌                             | 1207/1603 [2:45:45<43:33,  6.60s/it]"
     ]
    },
    {
     "name": "stdout",
     "output_type": "stream",
     "text": [
      "result after generate:  {'result': 'ra huyết trắng màu vàng, vón cục'}\n",
      "Input: ra huyết trắng màu vàng, vón cục | sản phụ khoa | Output: ra huyết trắng màu vàng, vón cục\n"
     ]
    },
    {
     "name": "stderr",
     "output_type": "stream",
     "text": [
      "Handle reason combind:  75%|█████████████████████████████████████████████████████████████████████████████████████████▋                             | 1208/1603 [2:45:51<42:10,  6.41s/it]"
     ]
    },
    {
     "name": "stdout",
     "output_type": "stream",
     "text": [
      "result after generate:  {'result': 'nổi hạt lạ ở vùng kín'}\n",
      "Input: bị nổi hạt lạ ở vùng kín | sản phụ khoa | Output: nổi hạt lạ ở vùng kín\n"
     ]
    },
    {
     "name": "stderr",
     "output_type": "stream",
     "text": [
      "Handle reason combind:  75%|█████████████████████████████████████████████████████████████████████████████████████████▊                             | 1209/1603 [2:45:55<38:19,  5.84s/it]"
     ]
    },
    {
     "name": "stdout",
     "output_type": "stream",
     "text": [
      "result after generate:  {'result': 'dịch bã đậu quanh âm hộ'}\n",
      "Input: có dịch bã đậu quanh âm hộ | sản phụ khoa | Output: dịch bã đậu quanh âm hộ\n"
     ]
    },
    {
     "name": "stderr",
     "output_type": "stream",
     "text": [
      "Handle reason combind:  75%|█████████████████████████████████████████████████████████████████████████████████████████▊                             | 1210/1603 [2:46:04<42:56,  6.56s/it]"
     ]
    },
    {
     "name": "stdout",
     "output_type": "stream",
     "text": [
      "result after generate:  {'result': None}\n"
     ]
    },
    {
     "name": "stderr",
     "output_type": "stream",
     "text": [
      "Handle reason combind:  76%|█████████████████████████████████████████████████████████████████████████████████████████▉                             | 1211/1603 [2:46:10<41:33,  6.36s/it]"
     ]
    },
    {
     "name": "stdout",
     "output_type": "stream",
     "text": [
      "result after generate:  {'result': 'dịch'}\n",
      "Input: có dịch | sản phụ khoa | Output: dịch\n"
     ]
    },
    {
     "name": "stderr",
     "output_type": "stream",
     "text": [
      "Handle reason combind:  76%|█████████████████████████████████████████████████████████████████████████████████████████▉                             | 1212/1603 [2:46:24<56:59,  8.75s/it]"
     ]
    },
    {
     "name": "stdout",
     "output_type": "stream",
     "text": [
      "result after generate:  {'result': 'nổi hột, ngứa'}\n",
      "Input: khám 2 bên bẹn nổi hột ngứa | sản phụ khoa | Output: nổi hột, ngứa\n"
     ]
    },
    {
     "name": "stderr",
     "output_type": "stream",
     "text": [
      "Handle reason combind:  76%|██████████████████████████████████████████████████████████████████████████████████████████                             | 1213/1603 [2:46:33<57:34,  8.86s/it]"
     ]
    },
    {
     "name": "stdout",
     "output_type": "stream",
     "text": [
      "result after generate:  {'result': None}\n"
     ]
    },
    {
     "name": "stderr",
     "output_type": "stream",
     "text": [
      "Handle reason combind:  76%|██████████████████████████████████████████████████████████████████████████████████████████                             | 1214/1603 [2:46:36<46:42,  7.20s/it]"
     ]
    },
    {
     "name": "stdout",
     "output_type": "stream",
     "text": [
      "result after generate:  {'result': 'khó chịu vùng kín, tiểu buốt'}\n",
      "Input: khó chịu vùng kín, tiểu buốt | sản phụ khoa | Output: khó chịu vùng kín, tiểu buốt\n"
     ]
    },
    {
     "name": "stderr",
     "output_type": "stream",
     "text": [
      "Handle reason combind:  76%|██████████████████████████████████████████████████████████████████████████████████████████▏                            | 1215/1603 [2:46:46<51:39,  7.99s/it]"
     ]
    },
    {
     "name": "stdout",
     "output_type": "stream",
     "text": [
      "result after generate:  {'result': 'sẩy thai, đình chỉ thai'}\n",
      "Input: đình chỉ thai dưới 6 tuần tuổi | sản phụ khoa | Output: sẩy thai, đình chỉ thai\n"
     ]
    },
    {
     "name": "stderr",
     "output_type": "stream",
     "text": [
      "Handle reason combind:  76%|██████████████████████████████████████████████████████████████████████████████████████████▎                            | 1216/1603 [2:46:49<40:52,  6.34s/it]"
     ]
    },
    {
     "name": "stdout",
     "output_type": "stream",
     "text": [
      "result after generate:  {'result': 'viêm âm đạo, sưng tấy, ngứa, khí hư bị vón cục'}\n",
      "Input: có dấu hiệu viêm âm đạo, sưng tấy, ngứa, khí hư bị vón cục | sản phụ khoa | Output: viêm âm đạo, sưng tấy, ngứa, khí hư bị vón cục\n"
     ]
    },
    {
     "name": "stderr",
     "output_type": "stream",
     "text": [
      "Handle reason combind:  76%|██████████████████████████████████████████████████████████████████████████████████████████▎                            | 1217/1603 [2:46:55<40:02,  6.22s/it]"
     ]
    },
    {
     "name": "stdout",
     "output_type": "stream",
     "text": [
      "result after generate:  {'result': 'dịch tiết có màu lạ, mùi chua'}\n",
      "Input: thấy dịch tiết có màu lạ và có mùi chua | sản phụ khoa | Output: dịch tiết có màu lạ, mùi chua\n"
     ]
    },
    {
     "name": "stderr",
     "output_type": "stream",
     "text": [
      "Handle reason combind:  76%|██████████████████████████████████████████████████████████████████████████████████████████▍                            | 1218/1603 [2:47:06<50:37,  7.89s/it]"
     ]
    },
    {
     "name": "stdout",
     "output_type": "stream",
     "text": [
      "result after generate:  {'result': 'chảy máu vùng âm đạo, đau bụng dưới'}\n",
      "Input: chảy máu vùng âm đạo, đau bụng dưới, 1 tuần sau khi quan hệ trong và có uống thuốc tránh thai. | sản phụ khoa | Output: chảy máu vùng âm đạo, đau bụng dưới\n"
     ]
    },
    {
     "name": "stderr",
     "output_type": "stream",
     "text": [
      "Handle reason combind:  76%|██████████████████████████████████████████████████████████████████████████████████████████▍                            | 1219/1603 [2:47:14<50:05,  7.83s/it]"
     ]
    },
    {
     "name": "stdout",
     "output_type": "stream",
     "text": [
      "result after generate:  {'result': 'đau, nóng vú'}\n",
      "Input: đau rất nhiều và nóng vú phải | sản phụ khoa | Output: đau, nóng vú\n"
     ]
    },
    {
     "name": "stderr",
     "output_type": "stream",
     "text": [
      "Handle reason combind:  76%|██████████████████████████████████████████████████████████████████████████████████████████▌                            | 1220/1603 [2:47:19<43:53,  6.88s/it]"
     ]
    },
    {
     "name": "stdout",
     "output_type": "stream",
     "text": [
      "result after generate:  {'result': None}\n"
     ]
    },
    {
     "name": "stderr",
     "output_type": "stream",
     "text": [
      "Handle reason combind:  76%|██████████████████████████████████████████████████████████████████████████████████████████▋                            | 1221/1603 [2:47:22<37:49,  5.94s/it]"
     ]
    },
    {
     "name": "stdout",
     "output_type": "stream",
     "text": [
      "result after generate:  {'result': 'cục nốt cứng ở âm đạo'}\n",
      "Input: cục nốt cứng ở âm đạo | sản phụ khoa | Output: cục nốt cứng ở âm đạo\n"
     ]
    },
    {
     "name": "stderr",
     "output_type": "stream",
     "text": [
      "Handle reason combind:  76%|██████████████████████████████████████████████████████████████████████████████████████████▋                            | 1222/1603 [2:47:27<35:00,  5.51s/it]"
     ]
    },
    {
     "name": "stdout",
     "output_type": "stream",
     "text": [
      "result after generate:  {'result': 'đau vùng kín nhẹ'}\n",
      "Input: có dấu hiệu đau vùng kín nhẹ | sản phụ khoa | Output: đau vùng kín nhẹ\n"
     ]
    },
    {
     "name": "stderr",
     "output_type": "stream",
     "text": [
      "Handle reason combind:  76%|██████████████████████████████████████████████████████████████████████████████████████████▊                            | 1223/1603 [2:47:31<32:42,  5.17s/it]"
     ]
    },
    {
     "name": "stdout",
     "output_type": "stream",
     "text": [
      "result after generate:  {'result': 'ngứa, rát, khó chịu'}\n",
      "Input: ngứa rát khó chịu | sản phụ khoa | Output: ngứa, rát, khó chịu\n"
     ]
    },
    {
     "name": "stderr",
     "output_type": "stream",
     "text": [
      "Handle reason combind:  76%|██████████████████████████████████████████████████████████████████████████████████████████▊                            | 1224/1603 [2:47:44<47:19,  7.49s/it]"
     ]
    },
    {
     "name": "stdout",
     "output_type": "stream",
     "text": [
      "result after generate:  {'result': 'vùng kín'}\n",
      "Input: kiểm tra vùng kín | sản phụ khoa | Output: vùng kín\n"
     ]
    },
    {
     "name": "stderr",
     "output_type": "stream",
     "text": [
      "Handle reason combind:  76%|██████████████████████████████████████████████████████████████████████████████████████████▉                            | 1225/1603 [2:47:47<38:50,  6.17s/it]"
     ]
    },
    {
     "name": "stdout",
     "output_type": "stream",
     "text": [
      "result after generate:  {'result': 'mụn thịt'}\n",
      "Input: vùng kín phía trong có mụn thịt li ti | sản phụ khoa | Output: mụn thịt\n"
     ]
    },
    {
     "name": "stderr",
     "output_type": "stream",
     "text": [
      "Handle reason combind:  76%|███████████████████████████████████████████████████████████████████████████████████████████                            | 1226/1603 [2:47:52<36:19,  5.78s/it]"
     ]
    },
    {
     "name": "stdout",
     "output_type": "stream",
     "text": [
      "result after generate:  {'result': 'thai 16 tuần'}\n",
      "Input: khám thái 16 tuần | sản phụ khoa | Output: thai 16 tuần\n"
     ]
    },
    {
     "name": "stderr",
     "output_type": "stream",
     "text": [
      "Handle reason combind:  77%|███████████████████████████████████████████████████████████████████████████████████████████                            | 1227/1603 [2:47:58<36:21,  5.80s/it]"
     ]
    },
    {
     "name": "stdout",
     "output_type": "stream",
     "text": [
      "result after generate:  {'result': 'ra máu nhiều, máu đông, dịch nhầy'}\n",
      "Input: em thử que có 2 vạch mờ, 10 ngày sau em ra máu nhiều, có máu đông, dịch nhầy, thử que lại 1 vạch | sản phụ khoa | Output: ra máu nhiều, máu đông, dịch nhầy\n"
     ]
    },
    {
     "name": "stderr",
     "output_type": "stream",
     "text": [
      "Handle reason combind:  77%|███████████████████████████████████████████████████████████████████████████████████████████▏                           | 1228/1603 [2:48:03<35:01,  5.60s/it]"
     ]
    },
    {
     "name": "stdout",
     "output_type": "stream",
     "text": [
      "result after generate:  {'result': 'siêu âm, có bầu'}\n",
      "Input: siêu âm xem có bầu hay không | sản phụ khoa | Output: siêu âm, có bầu\n"
     ]
    },
    {
     "name": "stderr",
     "output_type": "stream",
     "text": [
      "Handle reason combind:  77%|█████████████████████████████████████████████████████████████████████████████████████████▋                           | 1229/1603 [2:48:23<1:01:18,  9.84s/it]"
     ]
    },
    {
     "name": "stdout",
     "output_type": "stream",
     "text": [
      "result after generate:  {'result': 'nấm'}\n",
      "Input: nghi ngờ tái nấm | sản phụ khoa | Output: nấm\n"
     ]
    },
    {
     "name": "stderr",
     "output_type": "stream",
     "text": [
      "Handle reason combind:  77%|███████████████████████████████████████████████████████████████████████████████████████████▎                           | 1230/1603 [2:48:29<53:38,  8.63s/it]"
     ]
    },
    {
     "name": "stdout",
     "output_type": "stream",
     "text": [
      "result after generate:  {'result': 'vô sinh'}\n",
      "Input: lap gia dinh hon mot nam va chuan bi muon co em be. ca de tu nhien gan 1 am nhung chua thay gi. nen muon di kham coi kha nang sinh san | sản phụ khoa | Output: vô sinh\n"
     ]
    },
    {
     "name": "stderr",
     "output_type": "stream",
     "text": [
      "Handle reason combind:  77%|███████████████████████████████████████████████████████████████████████████████████████████▍                           | 1231/1603 [2:48:32<44:13,  7.13s/it]"
     ]
    },
    {
     "name": "stdout",
     "output_type": "stream",
     "text": [
      "result after generate:  {'result': 'polyp tử cung'}\n",
      "Input: polyp tử cung | sản phụ khoa | Output: polyp tử cung\n"
     ]
    },
    {
     "name": "stderr",
     "output_type": "stream",
     "text": [
      "Handle reason combind:  77%|███████████████████████████████████████████████████████████████████████████████████████████▍                           | 1232/1603 [2:48:42<48:45,  7.89s/it]"
     ]
    },
    {
     "name": "stdout",
     "output_type": "stream",
     "text": [
      "result after generate:  {'result': None}\n"
     ]
    },
    {
     "name": "stderr",
     "output_type": "stream",
     "text": [
      "Handle reason combind:  77%|███████████████████████████████████████████████████████████████████████████████████████████▌                           | 1233/1603 [2:48:52<52:45,  8.56s/it]"
     ]
    },
    {
     "name": "stdout",
     "output_type": "stream",
     "text": [
      "result after generate:  {'result': 'ra máu nhiều'}\n",
      "Input: thử que 2 vạch nhưng ra máu nhiều | sản phụ khoa | Output: ra máu nhiều\n"
     ]
    },
    {
     "name": "stderr",
     "output_type": "stream",
     "text": [
      "Handle reason combind:  77%|██████████████████████████████████████████████████████████████████████████████████████████                           | 1234/1603 [2:49:08<1:06:02, 10.74s/it]"
     ]
    },
    {
     "name": "stdout",
     "output_type": "stream",
     "text": [
      "result after generate:  {'result': 'ngứa rát vùng kín, nghi ngờ vi khuẩn, nghi ngờ nấm'}\n",
      "Input: ngứa rát vùng kín. nghi ngờ bị: vi khuẩn, nấm | sản phụ khoa | Output: ngứa rát vùng kín, nghi ngờ vi khuẩn, nghi ngờ nấm\n"
     ]
    },
    {
     "name": "stderr",
     "output_type": "stream",
     "text": [
      "Handle reason combind:  77%|██████████████████████████████████████████████████████████████████████████████████████████▏                          | 1235/1603 [2:49:19<1:05:46, 10.72s/it]"
     ]
    },
    {
     "name": "stdout",
     "output_type": "stream",
     "text": [
      "result after generate:  {'result': 'không có kinh'}\n",
      "Input: kiểm tra . nửa năm k có kinh | sản phụ khoa | Output: không có kinh\n"
     ]
    },
    {
     "name": "stderr",
     "output_type": "stream",
     "text": [
      "Handle reason combind:  77%|███████████████████████████████████████████████████████████████████████████████████████████▊                           | 1236/1603 [2:49:20<47:46,  7.81s/it]"
     ]
    },
    {
     "name": "stdout",
     "output_type": "stream",
     "text": [
      "result after generate:  {'result': 'dãn não thất trái'}\n",
      "Input: em muốn siêu âm hình thái học thai và được bác sĩ tư vấn về dãn não thất trái của thai | sản phụ khoa | Output: dãn não thất trái\n"
     ]
    },
    {
     "name": "stderr",
     "output_type": "stream",
     "text": [
      "Handle reason combind:  77%|███████████████████████████████████████████████████████████████████████████████████████████▊                           | 1237/1603 [2:49:27<47:08,  7.73s/it]"
     ]
    },
    {
     "name": "stdout",
     "output_type": "stream",
     "text": [
      "result after generate:  {'result': 'mãn kinh'}\n",
      "Input: mãn kinh | sản phụ khoa | Output: mãn kinh\n"
     ]
    },
    {
     "name": "stderr",
     "output_type": "stream",
     "text": [
      "Handle reason combind:  77%|███████████████████████████████████████████████████████████████████████████████████████████▉                           | 1238/1603 [2:49:39<54:42,  8.99s/it]"
     ]
    },
    {
     "name": "stdout",
     "output_type": "stream",
     "text": [
      "result after generate:  {'result': None}\n"
     ]
    },
    {
     "name": "stderr",
     "output_type": "stream",
     "text": [
      "Handle reason combind:  77%|██████████████████████████████████████████████████████████████████████████████████████████▍                          | 1239/1603 [2:49:52<1:00:52, 10.03s/it]"
     ]
    },
    {
     "name": "stdout",
     "output_type": "stream",
     "text": [
      "result after generate:  {'result': 'khí hư màu nâu, đầy hơi, đau thắt lưng, đau xương chậu'}\n",
      "Input: từ hôm qua đến giờ em đi vệ sinh ra khí hư màu nâu, không đau buốt. bụng 3 ngày gần đây thường xuyên bị đầy hơi khó chịu. vùng thắt lưng và xương chậu thường xuyên bị đau | sản phụ khoa | Output: khí hư màu nâu, đầy hơi, đau thắt lưng, đau xương chậu\n"
     ]
    },
    {
     "name": "stderr",
     "output_type": "stream",
     "text": [
      "Handle reason combind:  77%|████████████████████████████████████████████████████████████████████████████████████████████                           | 1240/1603 [2:49:59<55:03,  9.10s/it]"
     ]
    },
    {
     "name": "stdout",
     "output_type": "stream",
     "text": [
      "result after generate:  {'result': 'viêm nhiễm, ra dịch trắng đục'}\n",
      "Input: viêm nhiễm, ra dịch trắng đục | sản phụ khoa | Output: viêm nhiễm, ra dịch trắng đục\n"
     ]
    },
    {
     "name": "stderr",
     "output_type": "stream",
     "text": [
      "Handle reason combind:  77%|████████████████████████████████████████████████████████████████████████████████████████████▏                          | 1241/1603 [2:50:09<56:32,  9.37s/it]"
     ]
    },
    {
     "name": "stdout",
     "output_type": "stream",
     "text": [
      "result after generate:  {'result': 'chu kì kinh nguyệt không đều, trễ kinh, chất nhầy màu nâu'}\n",
      "Input: chu kì kinh nguyệt tháng vừa rồi trễ từ 28-29/4 đến ngày 2/5 mới có, sau khi hết kinh 3-4 ngày vẫn xuất hiện chất nhầy màu nâu (ít), sau khi qhtd xuất hiện chất nhầy màu nâu đó nhiều hơn; không có cảm giác khó chịu hay ngứa ngáy vùng kín | sản phụ khoa | Output: chu kì kinh nguyệt không đều, trễ kinh, chất nhầy màu nâu\n"
     ]
    },
    {
     "name": "stderr",
     "output_type": "stream",
     "text": [
      "Handle reason combind:  77%|████████████████████████████████████████████████████████████████████████████████████████████▏                          | 1242/1603 [2:50:11<43:21,  7.21s/it]"
     ]
    },
    {
     "name": "stdout",
     "output_type": "stream",
     "text": [
      "result after generate:  {'result': 'huyết trắng, kiến bâu'}\n",
      "Input: hiện tượng huyết trắng bám vào đáy quần lót và có kiến bâu !!! | sản phụ khoa | Output: huyết trắng, kiến bâu\n"
     ]
    },
    {
     "name": "stderr",
     "output_type": "stream",
     "text": [
      "Handle reason combind:  78%|████████████████████████████████████████████████████████████████████████████████████████████▎                          | 1243/1603 [2:50:19<45:33,  7.59s/it]"
     ]
    },
    {
     "name": "stdout",
     "output_type": "stream",
     "text": [
      "result after generate:  {'result': None}\n"
     ]
    },
    {
     "name": "stderr",
     "output_type": "stream",
     "text": [
      "Handle reason combind:  78%|████████████████████████████████████████████████████████████████████████████████████████████▎                          | 1244/1603 [2:50:23<38:24,  6.42s/it]"
     ]
    },
    {
     "name": "stdout",
     "output_type": "stream",
     "text": [
      "result after generate:  {'result': 'huyết trắng ra nhiều, trễ kinh'}\n",
      "Input: huyết trắng ra nhiều, trễ kinh | sản phụ khoa | Output: huyết trắng ra nhiều, trễ kinh\n"
     ]
    },
    {
     "name": "stderr",
     "output_type": "stream",
     "text": [
      "Handle reason combind:  78%|████████████████████████████████████████████████████████████████████████████████████████████▍                          | 1245/1603 [2:50:33<45:50,  7.68s/it]"
     ]
    },
    {
     "name": "stdout",
     "output_type": "stream",
     "text": [
      "result after generate:  {'result': 'hạch cứng'}\n",
      "Input: tôi phát hiện có 1 hạch cứng nổi ngay mép âm đạo | sản phụ khoa | Output: hạch cứng\n"
     ]
    },
    {
     "name": "stderr",
     "output_type": "stream",
     "text": [
      "Handle reason combind:  78%|████████████████████████████████████████████████████████████████████████████████████████████▍                          | 1246/1603 [2:50:35<34:33,  5.81s/it]"
     ]
    },
    {
     "name": "stdout",
     "output_type": "stream",
     "text": [
      "result after generate:  {'result': 'chậm kinh'}\n",
      "Input: khám phụ khoa, chậm kinh | sản phụ khoa | Output: chậm kinh\n"
     ]
    },
    {
     "name": "stderr",
     "output_type": "stream",
     "text": [
      "Handle reason combind:  78%|████████████████████████████████████████████████████████████████████████████████████████████▌                          | 1247/1603 [2:50:52<54:25,  9.17s/it]"
     ]
    },
    {
     "name": "stdout",
     "output_type": "stream",
     "text": [
      "result after generate:  {'result': 'huyết trắng bất thường'}\n",
      "Input: huyết trắng bất thường | sản phụ khoa | Output: huyết trắng bất thường\n"
     ]
    },
    {
     "name": "stderr",
     "output_type": "stream",
     "text": [
      "Handle reason combind:  78%|████████████████████████████████████████████████████████████████████████████████████████████▋                          | 1248/1603 [2:50:55<43:47,  7.40s/it]"
     ]
    },
    {
     "name": "stdout",
     "output_type": "stream",
     "text": [
      "result after generate:  {'result': 'chảy máu vùng kín'}\n",
      "Input: chảy máu vùng kín khi quan hệ | sản phụ khoa | Output: chảy máu vùng kín\n"
     ]
    },
    {
     "name": "stderr",
     "output_type": "stream",
     "text": [
      "Handle reason combind:  78%|████████████████████████████████████████████████████████████████████████████████████████████▋                          | 1249/1603 [2:51:06<49:02,  8.31s/it]"
     ]
    },
    {
     "name": "stdout",
     "output_type": "stream",
     "text": [
      "result after generate:  {'result': 'viêm âm hộ'}\n",
      "Input: viêm âm hộ | sản phụ khoa | Output: viêm âm hộ\n"
     ]
    },
    {
     "name": "stderr",
     "output_type": "stream",
     "text": [
      "Handle reason combind:  78%|████████████████████████████████████████████████████████████████████████████████████████████▊                          | 1250/1603 [2:51:18<56:29,  9.60s/it]"
     ]
    },
    {
     "name": "stdout",
     "output_type": "stream",
     "text": [
      "result after generate:  {'result': 'vệ sinh buốt, đau'}\n",
      "Input: vệ sinh buốt, đau | sản phụ khoa | Output: vệ sinh buốt, đau\n"
     ]
    },
    {
     "name": "stderr",
     "output_type": "stream",
     "text": [
      "Handle reason combind:  78%|████████████████████████████████████████████████████████████████████████████████████████████▊                          | 1251/1603 [2:51:21<44:04,  7.51s/it]"
     ]
    },
    {
     "name": "stdout",
     "output_type": "stream",
     "text": [
      "result after generate:  {'result': 'trễ kinh, ra huyết nâu'}\n",
      "Input: trễ kinh, ra huyết nâu trong một tuần | sản phụ khoa | Output: trễ kinh, ra huyết nâu\n"
     ]
    },
    {
     "name": "stderr",
     "output_type": "stream",
     "text": [
      "Handle reason combind:  78%|████████████████████████████████████████████████████████████████████████████████████████████▉                          | 1252/1603 [2:51:27<42:08,  7.20s/it]"
     ]
    },
    {
     "name": "stdout",
     "output_type": "stream",
     "text": [
      "result after generate:  {'result': None}\n"
     ]
    },
    {
     "name": "stderr",
     "output_type": "stream",
     "text": [
      "Handle reason combind:  78%|█████████████████████████████████████████████████████████████████████████████████████████████                          | 1253/1603 [2:51:31<35:19,  6.05s/it]"
     ]
    },
    {
     "name": "stdout",
     "output_type": "stream",
     "text": [
      "result after generate:  {'result': None}\n"
     ]
    },
    {
     "name": "stderr",
     "output_type": "stream",
     "text": [
      "Handle reason combind:  78%|█████████████████████████████████████████████████████████████████████████████████████████████                          | 1254/1603 [2:51:39<39:29,  6.79s/it]"
     ]
    },
    {
     "name": "stdout",
     "output_type": "stream",
     "text": [
      "result after generate:  {'result': 'trễ kinh, có bầu'}\n",
      "Input: trễ kinh, có bầu | sản phụ khoa | Output: trễ kinh, có bầu\n"
     ]
    },
    {
     "name": "stderr",
     "output_type": "stream",
     "text": [
      "Handle reason combind:  78%|█████████████████████████████████████████████████████████████████████████████████████████████▏                         | 1255/1603 [2:51:41<31:18,  5.40s/it]"
     ]
    },
    {
     "name": "stdout",
     "output_type": "stream",
     "text": [
      "result after generate:  {'result': 'viêm, nấm, kháng thuốc, chằng bụng'}\n",
      "Input: viêm, nấm lâu ngày, bị kháng thuốc , chằng bụng | sản phụ khoa | Output: viêm, nấm, kháng thuốc, chằng bụng\n"
     ]
    },
    {
     "name": "stderr",
     "output_type": "stream",
     "text": [
      "Handle reason combind:  78%|█████████████████████████████████████████████████████████████████████████████████████████████▏                         | 1256/1603 [2:52:02<57:35,  9.96s/it]"
     ]
    },
    {
     "name": "stdout",
     "output_type": "stream",
     "text": [
      "result after generate:  {'result': 'đau rát, ngứa, khó chịu, ra dịch trắng bã đậu ngả vàng có mùi hôi'}\n",
      "Input: cảm thấy đau rát , ngứa , khó chịu , ra dịch trắng bã đậu ngả vàng có mùi hôi | sản phụ khoa | Output: đau rát, ngứa, khó chịu, ra dịch trắng bã đậu ngả vàng có mùi hôi\n"
     ]
    },
    {
     "name": "stderr",
     "output_type": "stream",
     "text": [
      "Handle reason combind:  78%|█████████████████████████████████████████████████████████████████████████████████████████████▎                         | 1257/1603 [2:52:05<44:35,  7.73s/it]"
     ]
    },
    {
     "name": "stdout",
     "output_type": "stream",
     "text": [
      "result after generate:  {'result': None}\n"
     ]
    },
    {
     "name": "stderr",
     "output_type": "stream",
     "text": [
      "Handle reason combind:  78%|█████████████████████████████████████████████████████████████████████████████████████████████▍                         | 1258/1603 [2:52:08<37:33,  6.53s/it]"
     ]
    },
    {
     "name": "stdout",
     "output_type": "stream",
     "text": [
      "result after generate:  {'result': 'ho, sốt, quấy khóc'}\n",
      "Input: ho, sốt, quấy khoc nhiều | sản phụ khoa | Output: ho, sốt, quấy khóc\n"
     ]
    },
    {
     "name": "stderr",
     "output_type": "stream",
     "text": [
      "Handle reason combind:  79%|█████████████████████████████████████████████████████████████████████████████████████████████▍                         | 1259/1603 [2:52:19<45:23,  7.92s/it]"
     ]
    },
    {
     "name": "stdout",
     "output_type": "stream",
     "text": [
      "result after generate:  {'result': 'viêm'}\n",
      "Input: khám viêm | sản phụ khoa | Output: viêm\n"
     ]
    },
    {
     "name": "stderr",
     "output_type": "stream",
     "text": [
      "Handle reason combind:  79%|█████████████████████████████████████████████████████████████████████████████████████████████▌                         | 1260/1603 [2:52:21<33:54,  5.93s/it]"
     ]
    },
    {
     "name": "stdout",
     "output_type": "stream",
     "text": [
      "result after generate:  {'result': 'phụ khoa, dạ dày, xương, trực tràng'}\n",
      "Input: khám phụ khoa, khám dạ dày, khám xương, trực tràng | sản phụ khoa | Output: phụ khoa, dạ dày, xương, trực tràng\n"
     ]
    },
    {
     "name": "stderr",
     "output_type": "stream",
     "text": [
      "Handle reason combind:  79%|█████████████████████████████████████████████████████████████████████████████████████████████▌                         | 1261/1603 [2:52:35<48:10,  8.45s/it]"
     ]
    },
    {
     "name": "stdout",
     "output_type": "stream",
     "text": [
      "result after generate:  {'result': 'đau bụng'}\n",
      "Input: đau bụng rất nhiều khi hành kinh | sản phụ khoa | Output: đau bụng\n"
     ]
    },
    {
     "name": "stderr",
     "output_type": "stream",
     "text": [
      "Handle reason combind:  79%|█████████████████████████████████████████████████████████████████████████████████████████████▋                         | 1262/1603 [2:52:37<36:23,  6.40s/it]"
     ]
    },
    {
     "name": "stdout",
     "output_type": "stream",
     "text": [
      "result after generate:  {'result': 'vợ có thai'}\n",
      "Input: vợ có thai lần đầu | sản phụ khoa | Output: vợ có thai\n"
     ]
    },
    {
     "name": "stderr",
     "output_type": "stream",
     "text": [
      "Handle reason combind:  79%|█████████████████████████████████████████████████████████████████████████████████████████████▊                         | 1263/1603 [2:52:47<42:30,  7.50s/it]"
     ]
    },
    {
     "name": "stdout",
     "output_type": "stream",
     "text": [
      "result after generate:  {'result': 'kinh nguyệt chậm'}\n",
      "Input: kinh nguyệt chậm ạ | sản phụ khoa | Output: kinh nguyệt chậm\n"
     ]
    },
    {
     "name": "stderr",
     "output_type": "stream",
     "text": [
      "Handle reason combind:  79%|█████████████████████████████████████████████████████████████████████████████████████████████▊                         | 1264/1603 [2:52:52<39:01,  6.91s/it]"
     ]
    },
    {
     "name": "stdout",
     "output_type": "stream",
     "text": [
      "result after generate:  {'result': None}\n"
     ]
    },
    {
     "name": "stderr",
     "output_type": "stream",
     "text": [
      "Handle reason combind:  79%|█████████████████████████████████████████████████████████████████████████████████████████████▉                         | 1265/1603 [2:52:54<30:07,  5.35s/it]"
     ]
    },
    {
     "name": "stdout",
     "output_type": "stream",
     "text": [
      "result after generate:  {'result': 'rát âm đạo'}\n",
      "Input: dùng thuốc đặt âm đạo bị rát | sản phụ khoa | Output: rát âm đạo\n"
     ]
    },
    {
     "name": "stderr",
     "output_type": "stream",
     "text": [
      "Handle reason combind:  79%|█████████████████████████████████████████████████████████████████████████████████████████████▉                         | 1266/1603 [2:53:08<45:04,  8.02s/it]"
     ]
    },
    {
     "name": "stdout",
     "output_type": "stream",
     "text": [
      "result after generate:  {'result': 'không có kinh, ngứa vùng kín, khí hư'}\n",
      "Input: nhiều tháng không có kinh, vùng kín có lúc ngứa và có khí hư | sản phụ khoa | Output: không có kinh, ngứa vùng kín, khí hư\n"
     ]
    },
    {
     "name": "stderr",
     "output_type": "stream",
     "text": [
      "Handle reason combind:  79%|██████████████████████████████████████████████████████████████████████████████████████████████                         | 1267/1603 [2:53:09<33:00,  5.89s/it]"
     ]
    },
    {
     "name": "stdout",
     "output_type": "stream",
     "text": [
      "result after generate:  {'result': 'rong kinh'}\n",
      "Input: cần sự tư vấn của bác sĩ về bệnh rong kinh | sản phụ khoa | Output: rong kinh\n"
     ]
    },
    {
     "name": "stderr",
     "output_type": "stream",
     "text": [
      "Handle reason combind:  79%|██████████████████████████████████████████████████████████████████████████████████████████████▏                        | 1268/1603 [2:53:16<35:02,  6.28s/it]"
     ]
    },
    {
     "name": "stdout",
     "output_type": "stream",
     "text": [
      "result after generate:  {'result': 'dự đoán có thai'}\n",
      "Input: dự đoán có thai, khám để | sản phụ khoa | Output: dự đoán có thai\n"
     ]
    },
    {
     "name": "stderr",
     "output_type": "stream",
     "text": [
      "Handle reason combind:  79%|██████████████████████████████████████████████████████████████████████████████████████████████▏                        | 1269/1603 [2:53:23<35:02,  6.29s/it]"
     ]
    },
    {
     "name": "stdout",
     "output_type": "stream",
     "text": [
      "result after generate:  {'result': 'thai nhẹ cân'}\n",
      "Input: tư vấn tiền sản thai nhẹ cân | sản phụ khoa | Output: thai nhẹ cân\n"
     ]
    },
    {
     "name": "stderr",
     "output_type": "stream",
     "text": [
      "Handle reason combind:  79%|██████████████████████████████████████████████████████████████████████████████████████████████▎                        | 1270/1603 [2:53:27<31:31,  5.68s/it]"
     ]
    },
    {
     "name": "stdout",
     "output_type": "stream",
     "text": [
      "result after generate:  {'result': 'nhức vú trái, đau ngực'}\n",
      "Input: bị nhức vú trái + ngực | sản phụ khoa | Output: nhức vú trái, đau ngực\n"
     ]
    },
    {
     "name": "stderr",
     "output_type": "stream",
     "text": [
      "Handle reason combind:  79%|██████████████████████████████████████████████████████████████████████████████████████████████▎                        | 1271/1603 [2:53:35<35:21,  6.39s/it]"
     ]
    },
    {
     "name": "stdout",
     "output_type": "stream",
     "text": [
      "result after generate:  {'result': 'mụn thịt ở dưới âm đạo'}\n",
      "Input: có 1 mụn thịt ở dưới âm đạo, muốn biết nguyên nhân và có thể đốt hay bắn gì không ạ? | sản phụ khoa | Output: mụn thịt ở dưới âm đạo\n"
     ]
    },
    {
     "name": "stderr",
     "output_type": "stream",
     "text": [
      "Handle reason combind:  79%|██████████████████████████████████████████████████████████████████████████████████████████████▍                        | 1272/1603 [2:53:41<34:19,  6.22s/it]"
     ]
    },
    {
     "name": "stdout",
     "output_type": "stream",
     "text": [
      "result after generate:  {'result': 'vấn đề ở vùng kín'}\n",
      "Input: nhận thấy có vấn đề ở vùng kín | sản phụ khoa | Output: vấn đề ở vùng kín\n"
     ]
    },
    {
     "name": "stderr",
     "output_type": "stream",
     "text": [
      "Handle reason combind:  79%|██████████████████████████████████████████████████████████████████████████████████████████████▌                        | 1273/1603 [2:53:43<27:51,  5.07s/it]"
     ]
    },
    {
     "name": "stdout",
     "output_type": "stream",
     "text": [
      "result after generate:  {'result': 'đã có thai'}\n",
      "Input: kiểm tra , siêu âm dự đoán đã có thai hay chưa | sản phụ khoa | Output: đã có thai\n"
     ]
    },
    {
     "name": "stderr",
     "output_type": "stream",
     "text": [
      "Handle reason combind:  79%|██████████████████████████████████████████████████████████████████████████████████████████████▌                        | 1274/1603 [2:53:55<39:39,  7.23s/it]"
     ]
    },
    {
     "name": "stdout",
     "output_type": "stream",
     "text": [
      "result after generate:  {'result': 'kinh nguyệt ra ít, màu sẫm, đau vùng bụng dưới'}\n",
      "Input: kinh nguyệt ra ít, màu sẫm, đau vùng bụng dưới | sản phụ khoa | Output: kinh nguyệt ra ít, màu sẫm, đau vùng bụng dưới\n"
     ]
    },
    {
     "name": "stderr",
     "output_type": "stream",
     "text": [
      "Handle reason combind:  80%|██████████████████████████████████████████████████████████████████████████████████████████████▋                        | 1275/1603 [2:54:06<45:38,  8.35s/it]"
     ]
    },
    {
     "name": "stdout",
     "output_type": "stream",
     "text": [
      "result after generate:  {'result': 'trễ kinh, có thai'}\n",
      "Input: khám, siêu âm có thai không vì bị trễ kinh nhiều ngày, thử 3 lần que thử thai 2 vạch | sản phụ khoa | Output: trễ kinh, có thai\n"
     ]
    },
    {
     "name": "stderr",
     "output_type": "stream",
     "text": [
      "Handle reason combind:  80%|██████████████████████████████████████████████████████████████████████████████████████████████▋                        | 1276/1603 [2:54:08<33:41,  6.18s/it]"
     ]
    },
    {
     "name": "stdout",
     "output_type": "stream",
     "text": [
      "result after generate:  {'result': 'khám phụ khoa, ung thư cổ tử cung'}\n",
      "Input: khám phụ khoa và làm xét nghiệm ung thư cổ tử cung | sản phụ khoa | Output: khám phụ khoa, ung thư cổ tử cung\n"
     ]
    },
    {
     "name": "stderr",
     "output_type": "stream",
     "text": [
      "Handle reason combind:  80%|██████████████████████████████████████████████████████████████████████████████████████████████▊                        | 1277/1603 [2:54:26<52:56,  9.74s/it]"
     ]
    },
    {
     "name": "stdout",
     "output_type": "stream",
     "text": [
      "result after generate:  {'result': 'viêm nhiễm đường sinh dục, trễ kinh'}\n",
      "Input: khám viêm nhiễm đường sinh dục, bị trễ kinh 2 ngày, siêu âm xem có thai không | sản phụ khoa | Output: viêm nhiễm đường sinh dục, trễ kinh\n"
     ]
    },
    {
     "name": "stderr",
     "output_type": "stream",
     "text": [
      "Handle reason combind:  80%|██████████████████████████████████████████████████████████████████████████████████████████████▊                        | 1278/1603 [2:54:32<47:02,  8.69s/it]"
     ]
    },
    {
     "name": "stdout",
     "output_type": "stream",
     "text": [
      "result after generate:  {'result': 'kinh nguyệt thất thường'}\n",
      "Input: kinh nguyệt thất thường | sản phụ khoa | Output: kinh nguyệt thất thường\n"
     ]
    },
    {
     "name": "stderr",
     "output_type": "stream",
     "text": [
      "Handle reason combind:  80%|█████████████████████████████████████████████████████████████████████████████████████████████▎                       | 1279/1603 [2:54:49<1:00:22, 11.18s/it]"
     ]
    },
    {
     "name": "stdout",
     "output_type": "stream",
     "text": [
      "result after generate:  {'result': 'ra máu hồng, đau bụng nhẹ'}\n",
      "Input: sau kì kinh nguyệt có 2 ngày ra máu hồng số lượng ít, thử que lúc ra 2 vạch lúc ra 1 vạch, có đau bụng nhẹ. | sản phụ khoa | Output: ra máu hồng, đau bụng nhẹ\n"
     ]
    },
    {
     "name": "stderr",
     "output_type": "stream",
     "text": [
      "Handle reason combind:  80%|█████████████████████████████████████████████████████████████████████████████████████████████▍                       | 1280/1603 [2:55:02<1:03:28, 11.79s/it]"
     ]
    },
    {
     "name": "stdout",
     "output_type": "stream",
     "text": [
      "result after generate:  {'result': 'ngứa, ra dịch trắng'}\n",
      "Input: bị ngứa, ra dịch trắng như bã đậu nhiều. | sản phụ khoa | Output: ngứa, ra dịch trắng\n"
     ]
    },
    {
     "name": "stderr",
     "output_type": "stream",
     "text": [
      "Handle reason combind:  80%|███████████████████████████████████████████████████████████████████████████████████████████████                        | 1281/1603 [2:55:05<48:54,  9.11s/it]"
     ]
    },
    {
     "name": "stdout",
     "output_type": "stream",
     "text": [
      "result after generate:  {'result': 'bệnh về đường tình dục'}\n",
      "Input: e muốn khám về bộ phận sinh dục xem thử có bệnh về đường tình dục hay không ! | sản phụ khoa | Output: bệnh về đường tình dục\n"
     ]
    },
    {
     "name": "stderr",
     "output_type": "stream",
     "text": [
      "Handle reason combind:  80%|█████████████████████████████████████████████████████████████████████████████████████████████▌                       | 1282/1603 [2:55:26<1:08:07, 12.74s/it]"
     ]
    },
    {
     "name": "stdout",
     "output_type": "stream",
     "text": [
      "result after generate:  {'result': 'viêm nhiễm phụ khoa'}\n",
      "Input: muốn kiểm tra xem có bị viêm nhiễm phụ khoa không | sản phụ khoa | Output: viêm nhiễm phụ khoa\n"
     ]
    },
    {
     "name": "stderr",
     "output_type": "stream",
     "text": [
      "Handle reason combind:  80%|█████████████████████████████████████████████████████████████████████████████████████████████▋                       | 1283/1603 [2:55:36<1:02:44, 11.76s/it]"
     ]
    },
    {
     "name": "stdout",
     "output_type": "stream",
     "text": [
      "result after generate:  {'result': 'trễ kinh, đau vùng thắt lưng, đau bụng, nặng bụng'}\n",
      "Input: bị trễ kinh, đau vùng thắt lưng, đau và nặng bụng. | sản phụ khoa | Output: trễ kinh, đau vùng thắt lưng, đau bụng, nặng bụng\n"
     ]
    },
    {
     "name": "stderr",
     "output_type": "stream",
     "text": [
      "Handle reason combind:  80%|███████████████████████████████████████████████████████████████████████████████████████████████▎                       | 1284/1603 [2:55:44<57:51, 10.88s/it]"
     ]
    },
    {
     "name": "stdout",
     "output_type": "stream",
     "text": [
      "result after generate:  {'result': 'vấn đề về kinh nguyệt'}\n",
      "Input: có vấn đề về kinh nguyệt | sản phụ khoa | Output: vấn đề về kinh nguyệt\n"
     ]
    },
    {
     "name": "stderr",
     "output_type": "stream",
     "text": [
      "Handle reason combind:  80%|███████████████████████████████████████████████████████████████████████████████████████████████▍                       | 1285/1603 [2:55:56<58:46, 11.09s/it]"
     ]
    },
    {
     "name": "stdout",
     "output_type": "stream",
     "text": [
      "result after generate:  {'result': 'Kinh nguyệt ra nhiều'}\n",
      "Input: kinh nguyet ra nhieu | sản phụ khoa | Output: Kinh nguyệt ra nhiều\n"
     ]
    },
    {
     "name": "stderr",
     "output_type": "stream",
     "text": [
      "Handle reason combind:  80%|███████████████████████████████████████████████████████████████████████████████████████████████▍                       | 1286/1603 [2:55:57<42:19,  8.01s/it]"
     ]
    },
    {
     "name": "stdout",
     "output_type": "stream",
     "text": [
      "result after generate:  {'result': 'trễ kinh'}\n",
      "Input: e mới sinh mổ được 7 tháng rưỡi….giờ thì e trễ kinh thử lên 2 vạch… e muốn khám để biết xem mình có thể giữ được con không. | sản phụ khoa | Output: trễ kinh\n"
     ]
    },
    {
     "name": "stderr",
     "output_type": "stream",
     "text": [
      "Handle reason combind:  80%|███████████████████████████████████████████████████████████████████████████████████████████████▌                       | 1287/1603 [2:56:05<42:57,  8.16s/it]"
     ]
    },
    {
     "name": "stdout",
     "output_type": "stream",
     "text": [
      "result after generate:  {'result': 'viêm nội tuyến'}\n",
      "Input: viêm nội tuyến | sản phụ khoa | Output: viêm nội tuyến\n"
     ]
    },
    {
     "name": "stderr",
     "output_type": "stream",
     "text": [
      "Handle reason combind:  80%|███████████████████████████████████████████████████████████████████████████████████████████████▌                       | 1288/1603 [2:56:09<35:21,  6.74s/it]"
     ]
    },
    {
     "name": "stdout",
     "output_type": "stream",
     "text": [
      "result after generate:  {'result': None}\n"
     ]
    },
    {
     "name": "stderr",
     "output_type": "stream",
     "text": [
      "Handle reason combind:  80%|███████████████████████████████████████████████████████████████████████████████████████████████▋                       | 1289/1603 [2:56:26<51:11,  9.78s/it]"
     ]
    },
    {
     "name": "stdout",
     "output_type": "stream",
     "text": [
      "result after generate:  {'result': 'khí hư ra nhiều, trắng bã đậu'}\n",
      "Input: khí hư ra nhiều trắng bã đậu | sản phụ khoa | Output: khí hư ra nhiều, trắng bã đậu\n"
     ]
    },
    {
     "name": "stderr",
     "output_type": "stream",
     "text": [
      "Handle reason combind:  80%|███████████████████████████████████████████████████████████████████████████████████████████████▊                       | 1290/1603 [2:56:36<52:16, 10.02s/it]"
     ]
    },
    {
     "name": "stdout",
     "output_type": "stream",
     "text": [
      "result after generate:  {'result': 'test 2 vạch, thai sản'}\n",
      "Input: test 2 vạch được 1 ngày, khám kiểm tra thai sản | sản phụ khoa | Output: test 2 vạch, thai sản\n"
     ]
    },
    {
     "name": "stderr",
     "output_type": "stream",
     "text": [
      "Handle reason combind:  81%|███████████████████████████████████████████████████████████████████████████████████████████████▊                       | 1291/1603 [2:56:40<41:51,  8.05s/it]"
     ]
    },
    {
     "name": "stdout",
     "output_type": "stream",
     "text": [
      "result after generate:  {'result': 'Rong kinh, lượng máu kinh nguyệt nhiều'}\n",
      "Input: 2 kỳ kinh trong 1 tháng (cách nhau 16 ngày), lượng máu ra nhiều hơn bình thường. | sản phụ khoa | Output: Rong kinh, lượng máu kinh nguyệt nhiều\n"
     ]
    },
    {
     "name": "stderr",
     "output_type": "stream",
     "text": [
      "Handle reason combind:  81%|███████████████████████████████████████████████████████████████████████████████████████████████▉                       | 1292/1603 [2:56:48<41:54,  8.09s/it]"
     ]
    },
    {
     "name": "stdout",
     "output_type": "stream",
     "text": [
      "result after generate:  {'result': 'đầy bụng, ra nhiều khí hư'}\n",
      "Input: đầy bụng ra nhiều khí hư | sản phụ khoa | Output: đầy bụng, ra nhiều khí hư\n"
     ]
    },
    {
     "name": "stderr",
     "output_type": "stream",
     "text": [
      "Handle reason combind:  81%|███████████████████████████████████████████████████████████████████████████████████████████████▉                       | 1293/1603 [2:56:51<33:48,  6.55s/it]"
     ]
    },
    {
     "name": "stdout",
     "output_type": "stream",
     "text": [
      "result after generate:  {'result': 'trễ kinh, ra huyết nâu sậm, khối u trong tử cung'}\n",
      "Input: trể kinh, ra huyết nâu sậm, có khối echo trống (p) | sản phụ khoa | Output: trễ kinh, ra huyết nâu sậm, khối u trong tử cung\n"
     ]
    },
    {
     "name": "stderr",
     "output_type": "stream",
     "text": [
      "Handle reason combind:  81%|████████████████████████████████████████████████████████████████████████████████████████████████                       | 1294/1603 [2:57:09<51:30, 10.00s/it]"
     ]
    },
    {
     "name": "stdout",
     "output_type": "stream",
     "text": [
      "result after generate:  {'result': 'ra máu, đau rát'}\n",
      "Input: hiện tại chưa tới ngày, nhưng em có hiện tượng ra máu và hơi đau rát bên ngoài | sản phụ khoa | Output: ra máu, đau rát\n"
     ]
    },
    {
     "name": "stderr",
     "output_type": "stream",
     "text": [
      "Handle reason combind:  81%|████████████████████████████████████████████████████████████████████████████████████████████████▏                      | 1295/1603 [2:57:15<44:51,  8.74s/it]"
     ]
    },
    {
     "name": "stdout",
     "output_type": "stream",
     "text": [
      "result after generate:  {'result': 'viêm vùng kín, khí hư có mùi, ngứa rát, viêm tái phát'}\n",
      "Input: bị viêm vùng kín , ra khí hư có mùi, ngứa rát , bị viêm tái đi tái lại nhiều lần | sản phụ khoa | Output: viêm vùng kín, khí hư có mùi, ngứa rát, viêm tái phát\n"
     ]
    },
    {
     "name": "stderr",
     "output_type": "stream",
     "text": [
      "Handle reason combind:  81%|████████████████████████████████████████████████████████████████████████████████████████████████▏                      | 1296/1603 [2:57:19<38:40,  7.56s/it]"
     ]
    },
    {
     "name": "stdout",
     "output_type": "stream",
     "text": [
      "result after generate:  {'result': 'chậm kinh, bụng dưới hơi trướng'}\n",
      "Input: chậm kinh, bụng dưới hơi trướng | sản phụ khoa | Output: chậm kinh, bụng dưới hơi trướng\n"
     ]
    },
    {
     "name": "stderr",
     "output_type": "stream",
     "text": [
      "Handle reason combind:  81%|████████████████████████████████████████████████████████████████████████████████████████████████▎                      | 1297/1603 [2:57:24<34:30,  6.77s/it]"
     ]
    },
    {
     "name": "stdout",
     "output_type": "stream",
     "text": [
      "result after generate:  {'result': 'mang thai'}\n",
      "Input: tôi muốn xác nhận mình có thai hay không muốn biết thai nhi đã bao nhiêu tuần | sản phụ khoa | Output: mang thai\n"
     ]
    },
    {
     "name": "stderr",
     "output_type": "stream",
     "text": [
      "Handle reason combind:  81%|████████████████████████████████████████████████████████████████████████████████████████████████▎                      | 1298/1603 [2:57:34<39:04,  7.69s/it]"
     ]
    },
    {
     "name": "stdout",
     "output_type": "stream",
     "text": [
      "result after generate:  {'result': 'chậm kinh nguyệt'}\n",
      "Input: chậm kinh nguyệt | sản phụ khoa | Output: chậm kinh nguyệt\n"
     ]
    },
    {
     "name": "stderr",
     "output_type": "stream",
     "text": [
      "Handle reason combind:  81%|████████████████████████████████████████████████████████████████████████████████████████████████▍                      | 1299/1603 [2:57:44<42:49,  8.45s/it]"
     ]
    },
    {
     "name": "stdout",
     "output_type": "stream",
     "text": [
      "result after generate:  {'result': 'tình trạng âm đạo'}\n",
      "Input: kiểm tra tình trạng âm đạo | sản phụ khoa | Output: tình trạng âm đạo\n"
     ]
    },
    {
     "name": "stderr",
     "output_type": "stream",
     "text": [
      "Handle reason combind:  81%|████████████████████████████████████████████████████████████████████████████████████████████████▌                      | 1300/1603 [2:57:48<34:50,  6.90s/it]"
     ]
    },
    {
     "name": "stdout",
     "output_type": "stream",
     "text": [
      "result after generate:  {'result': 'đau bụng dưới'}\n",
      "Input: đau bụng dưới lâu ngày | sản phụ khoa | Output: đau bụng dưới\n"
     ]
    },
    {
     "name": "stderr",
     "output_type": "stream",
     "text": [
      "Handle reason combind:  81%|████████████████████████████████████████████████████████████████████████████████████████████████▌                      | 1301/1603 [2:57:57<37:54,  7.53s/it]"
     ]
    },
    {
     "name": "stdout",
     "output_type": "stream",
     "text": [
      "result after generate:  {'result': 'động thai'}\n",
      "Input: động thai | sản phụ khoa | Output: động thai\n"
     ]
    },
    {
     "name": "stderr",
     "output_type": "stream",
     "text": [
      "Handle reason combind:  81%|████████████████████████████████████████████████████████████████████████████████████████████████▋                      | 1302/1603 [2:57:58<28:18,  5.64s/it]"
     ]
    },
    {
     "name": "stdout",
     "output_type": "stream",
     "text": [
      "result after generate:  {'result': 'động thai'}\n",
      "Input: khám bị động thai | sản phụ khoa | Output: động thai\n"
     ]
    },
    {
     "name": "stderr",
     "output_type": "stream",
     "text": [
      "Handle reason combind:  81%|████████████████████████████████████████████████████████████████████████████████████████████████▋                      | 1303/1603 [2:58:07<33:34,  6.72s/it]"
     ]
    },
    {
     "name": "stdout",
     "output_type": "stream",
     "text": [
      "result after generate:  {'result': 'ngứa rát âm đạo, tiểu buốt, dịch đục trắng hôi'}\n",
      "Input: ngứa rát âm đạo, tiểu buốt, có dịch đục trắng hôi | sản phụ khoa | Output: ngứa rát âm đạo, tiểu buốt, dịch đục trắng hôi\n"
     ]
    },
    {
     "name": "stderr",
     "output_type": "stream",
     "text": [
      "Handle reason combind:  81%|████████████████████████████████████████████████████████████████████████████████████████████████▊                      | 1304/1603 [2:58:12<30:09,  6.05s/it]"
     ]
    },
    {
     "name": "stdout",
     "output_type": "stream",
     "text": [
      "result after generate:  {'result': 'rối loạn nội tiết tố, rối loạn chu kỳ kinh nguyệt, vấn đề khả năng sinh sản'}\n",
      "Input: tư vấn kiểm tra nội tiết tố, chu kỳ kinh nguyệt, khả năng sinh sản. | sản phụ khoa | Output: rối loạn nội tiết tố, rối loạn chu kỳ kinh nguyệt, vấn đề khả năng sinh sản\n"
     ]
    },
    {
     "name": "stderr",
     "output_type": "stream",
     "text": [
      "Handle reason combind:  81%|████████████████████████████████████████████████████████████████████████████████████████████████▉                      | 1305/1603 [2:58:21<34:36,  6.97s/it]"
     ]
    },
    {
     "name": "stdout",
     "output_type": "stream",
     "text": [
      "result after generate:  {'result': 'khí hư ra nhiều, khí hư trắng và lỏng, khí hư như bã đậu, khí hư xanh'}\n",
      "Input: cách đây 1 hôm khí hư ra nhiều, trắng và lỏng. hôm nay xuất hiện khí hư như bã đậu và hơi xanh. | sản phụ khoa | Output: khí hư ra nhiều, khí hư trắng và lỏng, khí hư như bã đậu, khí hư xanh\n"
     ]
    },
    {
     "name": "stderr",
     "output_type": "stream",
     "text": [
      "Handle reason combind:  81%|████████████████████████████████████████████████████████████████████████████████████████████████▉                      | 1306/1603 [2:58:22<26:07,  5.28s/it]"
     ]
    },
    {
     "name": "stdout",
     "output_type": "stream",
     "text": [
      "result after generate:  {'result': 'ra dịch phần phụ nhiều bất thường'}\n",
      "Input: ra dịch phần phụ nhiều bất thường | sản phụ khoa | Output: ra dịch phần phụ nhiều bất thường\n"
     ]
    },
    {
     "name": "stderr",
     "output_type": "stream",
     "text": [
      "Handle reason combind:  82%|█████████████████████████████████████████████████████████████████████████████████████████████████                      | 1307/1603 [2:58:31<30:41,  6.22s/it]"
     ]
    },
    {
     "name": "stdout",
     "output_type": "stream",
     "text": [
      "result after generate:  {'result': 'viêm phụ khoa, chảy máu giữa chu kỳ'}\n",
      "Input: viêm phụ khoa, chảy máu giữa chu kỳ | sản phụ khoa | Output: viêm phụ khoa, chảy máu giữa chu kỳ\n"
     ]
    },
    {
     "name": "stderr",
     "output_type": "stream",
     "text": [
      "Handle reason combind:  82%|█████████████████████████████████████████████████████████████████████████████████████████████████                      | 1308/1603 [2:58:40<34:55,  7.10s/it]"
     ]
    },
    {
     "name": "stdout",
     "output_type": "stream",
     "text": [
      "result after generate:  {'result': 'đau bên ngoài, nổi mụn'}\n",
      "Input: đau bên ngoài, nổi mụn ngay mép | sản phụ khoa | Output: đau bên ngoài, nổi mụn\n"
     ]
    },
    {
     "name": "stderr",
     "output_type": "stream",
     "text": [
      "Handle reason combind:  82%|█████████████████████████████████████████████████████████████████████████████████████████████████▏                     | 1309/1603 [2:58:41<27:03,  5.52s/it]"
     ]
    },
    {
     "name": "stdout",
     "output_type": "stream",
     "text": [
      "result after generate:  {'result': 'ngứa bộ phận sinh dục'}\n",
      "Input: bộ phận sinh dục bị ngứa, cần khám định kỳ | sản phụ khoa | Output: ngứa bộ phận sinh dục\n"
     ]
    },
    {
     "name": "stderr",
     "output_type": "stream",
     "text": [
      "Handle reason combind:  82%|█████████████████████████████████████████████████████████████████████████████████████████████████▏                     | 1310/1603 [2:58:58<42:20,  8.67s/it]"
     ]
    },
    {
     "name": "stdout",
     "output_type": "stream",
     "text": [
      "result after generate:  {'result': None}\n"
     ]
    },
    {
     "name": "stderr",
     "output_type": "stream",
     "text": [
      "Handle reason combind:  82%|█████████████████████████████████████████████████████████████████████████████████████████████████▎                     | 1311/1603 [2:59:07<42:41,  8.77s/it]"
     ]
    },
    {
     "name": "stdout",
     "output_type": "stream",
     "text": [
      "result after generate:  {'result': 'túi thai méo'}\n",
      "Input: khám thai 7 tuần, túi thai méo | sản phụ khoa | Output: túi thai méo\n"
     ]
    },
    {
     "name": "stderr",
     "output_type": "stream",
     "text": [
      "Handle reason combind:  82%|█████████████████████████████████████████████████████████████████████████████████████████████████▍                     | 1312/1603 [2:59:12<37:56,  7.82s/it]"
     ]
    },
    {
     "name": "stdout",
     "output_type": "stream",
     "text": [
      "result after generate:  {'result': 'chậm kinh nguyệt, rong kinh'}\n",
      "Input: chậm kinh nguyệt 2 tuần từng có tiền sử bị rong kinh | sản phụ khoa | Output: chậm kinh nguyệt, rong kinh\n"
     ]
    },
    {
     "name": "stderr",
     "output_type": "stream",
     "text": [
      "Handle reason combind:  82%|█████████████████████████████████████████████████████████████████████████████████████████████████▍                     | 1313/1603 [2:59:19<36:44,  7.60s/it]"
     ]
    },
    {
     "name": "stdout",
     "output_type": "stream",
     "text": [
      "result after generate:  {'result': 'soi cổ tử cung, xét nghiệm HPV'}\n",
      "Input: soi cổ tử cung - xn hpv | sản phụ khoa | Output: soi cổ tử cung, xét nghiệm HPV\n"
     ]
    },
    {
     "name": "stderr",
     "output_type": "stream",
     "text": [
      "Handle reason combind:  82%|█████████████████████████████████████████████████████████████████████████████████████████████████▌                     | 1314/1603 [2:59:23<30:48,  6.40s/it]"
     ]
    },
    {
     "name": "stdout",
     "output_type": "stream",
     "text": [
      "result after generate:  {'result': 'cường kinh, rong kinh'}\n",
      "Input: tái khám - cường kinh - rong kinh | sản phụ khoa | Output: cường kinh, rong kinh\n"
     ]
    },
    {
     "name": "stderr",
     "output_type": "stream",
     "text": [
      "Handle reason combind:  82%|█████████████████████████████████████████████████████████████████████████████████████████████████▌                     | 1315/1603 [2:59:39<44:42,  9.31s/it]"
     ]
    },
    {
     "name": "stdout",
     "output_type": "stream",
     "text": [
      "result after generate:  {'result': 'ngứa da'}\n",
      "Input: ngứa âđ | sản phụ khoa | Output: ngứa da\n"
     ]
    },
    {
     "name": "stderr",
     "output_type": "stream",
     "text": [
      "Handle reason combind:  82%|█████████████████████████████████████████████████████████████████████████████████████████████████▋                     | 1316/1603 [2:59:59<59:48, 12.50s/it]"
     ]
    },
    {
     "name": "stdout",
     "output_type": "stream",
     "text": [
      "result after generate:  {'result': None}\n"
     ]
    },
    {
     "name": "stderr",
     "output_type": "stream",
     "text": [
      "Handle reason combind:  82%|█████████████████████████████████████████████████████████████████████████████████████████████████▊                     | 1317/1603 [3:00:07<53:44, 11.27s/it]"
     ]
    },
    {
     "name": "stdout",
     "output_type": "stream",
     "text": [
      "result after generate:  {'result': 'tiểu rát, dịch màu xanh'}\n",
      "Input: tiểu rát khi uống nc ít , dịch màu xanh | sản phụ khoa | Output: tiểu rát, dịch màu xanh\n"
     ]
    },
    {
     "name": "stderr",
     "output_type": "stream",
     "text": [
      "Handle reason combind:  82%|█████████████████████████████████████████████████████████████████████████████████████████████████▊                     | 1318/1603 [3:00:10<40:52,  8.61s/it]"
     ]
    },
    {
     "name": "stdout",
     "output_type": "stream",
     "text": [
      "result after generate:  {'result': None}\n"
     ]
    },
    {
     "name": "stderr",
     "output_type": "stream",
     "text": [
      "Handle reason combind:  82%|█████████████████████████████████████████████████████████████████████████████████████████████████▉                     | 1319/1603 [3:00:27<53:15, 11.25s/it]"
     ]
    },
    {
     "name": "stdout",
     "output_type": "stream",
     "text": [
      "result after generate:  {'result': 'khí hư bã đậu, màu vàng'}\n",
      "Input: khí hư bã đậu, màu vàng | sản phụ khoa | Output: khí hư bã đậu, màu vàng\n"
     ]
    },
    {
     "name": "stderr",
     "output_type": "stream",
     "text": [
      "Handle reason combind:  82%|█████████████████████████████████████████████████████████████████████████████████████████████████▉                     | 1320/1603 [3:00:29<40:28,  8.58s/it]"
     ]
    },
    {
     "name": "stdout",
     "output_type": "stream",
     "text": [
      "result after generate:  {'result': 'huyết trắng, kinh không đều'}\n",
      "Input: huyết trắng. kinh không đều | sản phụ khoa | Output: huyết trắng, kinh không đều\n"
     ]
    },
    {
     "name": "stderr",
     "output_type": "stream",
     "text": [
      "Handle reason combind:  82%|██████████████████████████████████████████████████████████████████████████████████████████████████                     | 1321/1603 [3:00:46<51:38, 10.99s/it]"
     ]
    },
    {
     "name": "stdout",
     "output_type": "stream",
     "text": [
      "result after generate:  {'result': 'ra máu bất thường'}\n",
      "Input: ra máu bất thường giữa kì kinh | sản phụ khoa | Output: ra máu bất thường\n"
     ]
    },
    {
     "name": "stderr",
     "output_type": "stream",
     "text": [
      "Handle reason combind:  82%|██████████████████████████████████████████████████████████████████████████████████████████████████▏                    | 1322/1603 [3:00:55<49:07, 10.49s/it]"
     ]
    },
    {
     "name": "stdout",
     "output_type": "stream",
     "text": [
      "result after generate:  {'result': 'vùng kín sưng, tiết dịch lợn cợn'}\n",
      "Input: khám phụ khoa do vùng kín hơi sưng và tiết dịch lợn cợn như sữa chua | sản phụ khoa | Output: vùng kín sưng, tiết dịch lợn cợn\n"
     ]
    },
    {
     "name": "stderr",
     "output_type": "stream",
     "text": [
      "Handle reason combind:  83%|██████████████████████████████████████████████████████████████████████████████████████████████████▏                    | 1323/1603 [3:00:58<38:26,  8.24s/it]"
     ]
    },
    {
     "name": "stdout",
     "output_type": "stream",
     "text": [
      "result after generate:  {'result': None}\n"
     ]
    },
    {
     "name": "stderr",
     "output_type": "stream",
     "text": [
      "Handle reason combind:  83%|██████████████████████████████████████████████████████████████████████████████████████████████████▎                    | 1324/1603 [3:01:09<41:22,  8.90s/it]"
     ]
    },
    {
     "name": "stdout",
     "output_type": "stream",
     "text": [
      "result after generate:  {'result': 'u nang'}\n",
      "Input: kiểm tra, tu van u nang | sản phụ khoa | Output: u nang\n"
     ]
    },
    {
     "name": "stderr",
     "output_type": "stream",
     "text": [
      "Handle reason combind:  83%|██████████████████████████████████████████████████████████████████████████████████████████████████▎                    | 1325/1603 [3:01:10<30:30,  6.58s/it]"
     ]
    },
    {
     "name": "stdout",
     "output_type": "stream",
     "text": [
      "result after generate:  {'result': 'ngứa'}\n",
      "Input: ngưa | sản phụ khoa | Output: ngứa\n"
     ]
    },
    {
     "name": "stderr",
     "output_type": "stream",
     "text": [
      "Handle reason combind:  83%|██████████████████████████████████████████████████████████████████████████████████████████████████▍                    | 1326/1603 [3:01:26<42:55,  9.30s/it]"
     ]
    },
    {
     "name": "stdout",
     "output_type": "stream",
     "text": [
      "result after generate:  {'result': 'kinh nguyệt bất thường'}\n",
      "Input: có kinh nguyệt hơn 15 ngày | sản phụ khoa | Output: kinh nguyệt bất thường\n"
     ]
    },
    {
     "name": "stderr",
     "output_type": "stream",
     "text": [
      "Handle reason combind:  83%|██████████████████████████████████████████████████████████████████████████████████████████████████▌                    | 1327/1603 [3:01:28<33:45,  7.34s/it]"
     ]
    },
    {
     "name": "stdout",
     "output_type": "stream",
     "text": [
      "result after generate:  {'result': 'huyết trắng, rong huyết'}\n",
      "Input: có huyết trắng và rong huyết sau khi có kinh | sản phụ khoa | Output: huyết trắng, rong huyết\n"
     ]
    },
    {
     "name": "stderr",
     "output_type": "stream",
     "text": [
      "Handle reason combind:  83%|██████████████████████████████████████████████████████████████████████████████████████████████████▌                    | 1328/1603 [3:01:44<45:12,  9.86s/it]"
     ]
    },
    {
     "name": "stdout",
     "output_type": "stream",
     "text": [
      "result after generate:  {'result': 'trĩ'}\n",
      "Input: khám trĩ | sản phụ khoa | Output: trĩ\n"
     ]
    },
    {
     "name": "stderr",
     "output_type": "stream",
     "text": [
      "Handle reason combind:  83%|██████████████████████████████████████████████████████████████████████████████████████████████████▋                    | 1329/1603 [3:01:48<36:27,  7.98s/it]"
     ]
    },
    {
     "name": "stdout",
     "output_type": "stream",
     "text": [
      "result after generate:  {'result': None}\n"
     ]
    },
    {
     "name": "stderr",
     "output_type": "stream",
     "text": [
      "Handle reason combind:  83%|██████████████████████████████████████████████████████████████████████████████████████████████████▋                    | 1330/1603 [3:01:58<38:54,  8.55s/it]"
     ]
    },
    {
     "name": "stdout",
     "output_type": "stream",
     "text": [
      "result after generate:  {'result': 'ngứa, mùi hôi, rối loạn kinh nguyệt, đau bụng kinh'}\n",
      "Input: ngứa và có mùi hôi ở vùng kín, kinh nguyệt kéo dài, hay đau bụng kinh | sản phụ khoa | Output: ngứa, mùi hôi, rối loạn kinh nguyệt, đau bụng kinh\n"
     ]
    },
    {
     "name": "stderr",
     "output_type": "stream",
     "text": [
      "Handle reason combind:  83%|██████████████████████████████████████████████████████████████████████████████████████████████████▊                    | 1331/1603 [3:02:17<53:51, 11.88s/it]"
     ]
    },
    {
     "name": "stdout",
     "output_type": "stream",
     "text": [
      "result after generate:  {'result': 'đau bụng dưới'}\n",
      "Input: muốn kiểm tra sức khỏe sinh sản vì đang mong muốn có em bé. dạo gần đây bị đau bụng dưới | sản phụ khoa | Output: đau bụng dưới\n"
     ]
    },
    {
     "name": "stderr",
     "output_type": "stream",
     "text": [
      "Handle reason combind:  83%|██████████████████████████████████████████████████████████████████████████████████████████████████▉                    | 1332/1603 [3:02:18<38:35,  8.54s/it]"
     ]
    },
    {
     "name": "stdout",
     "output_type": "stream",
     "text": [
      "result after generate:  {'result': 'mang thai'}\n",
      "Input: mới phát hiện có thai, thăm khám kiểm tra sức khoẻ và thai nhi, xin lời khuyên vì là lần đầu có thai | sản phụ khoa | Output: mang thai\n"
     ]
    },
    {
     "name": "stderr",
     "output_type": "stream",
     "text": [
      "Handle reason combind:  83%|██████████████████████████████████████████████████████████████████████████████████████████████████▉                    | 1333/1603 [3:02:36<50:59, 11.33s/it]"
     ]
    },
    {
     "name": "stdout",
     "output_type": "stream",
     "text": [
      "result after generate:  {'result': 'kinh nguyệt không đều, u ở vùng bụng dưới bên phải'}\n",
      "Input: kinh nguyệt không đều. u ở vùng bụng dưới bên phải | sản phụ khoa | Output: kinh nguyệt không đều, u ở vùng bụng dưới bên phải\n"
     ]
    },
    {
     "name": "stderr",
     "output_type": "stream",
     "text": [
      "Handle reason combind:  83%|███████████████████████████████████████████████████████████████████████████████████████████████████                    | 1334/1603 [3:02:37<36:45,  8.20s/it]"
     ]
    },
    {
     "name": "stdout",
     "output_type": "stream",
     "text": [
      "result after generate:  {'result': None}\n"
     ]
    },
    {
     "name": "stderr",
     "output_type": "stream",
     "text": [
      "Handle reason combind:  83%|███████████████████████████████████████████████████████████████████████████████████████████████████                    | 1335/1603 [3:02:54<48:42, 10.91s/it]"
     ]
    },
    {
     "name": "stdout",
     "output_type": "stream",
     "text": [
      "result after generate:  {'result': 'nhiễm bartholin, sưng nhức, phình to, đau rát'}\n",
      "Input: bị nhiễm bartholin uống thuốc 3 ngày chưa xẹp. bị sưng nhức và phình to đau rát. | sản phụ khoa | Output: nhiễm bartholin, sưng nhức, phình to, đau rát\n"
     ]
    },
    {
     "name": "stderr",
     "output_type": "stream",
     "text": [
      "Handle reason combind:  83%|███████████████████████████████████████████████████████████████████████████████████████████████████▏                   | 1336/1603 [3:03:00<41:26,  9.31s/it]"
     ]
    },
    {
     "name": "stdout",
     "output_type": "stream",
     "text": [
      "result after generate:  {'result': 'khí hư màu nâu, dạng nhầy'}\n",
      "Input: gần đây thỉnh thoảng ra khí hư màu nâu, dạng nhầy, không mùi, không đau ngứa. | sản phụ khoa | Output: khí hư màu nâu, dạng nhầy\n"
     ]
    },
    {
     "name": "stderr",
     "output_type": "stream",
     "text": [
      "Handle reason combind:  83%|███████████████████████████████████████████████████████████████████████████████████████████████████▎                   | 1337/1603 [3:03:03<34:06,  7.69s/it]"
     ]
    },
    {
     "name": "stdout",
     "output_type": "stream",
     "text": [
      "result after generate:  {'result': 'sùi mào gà, chảy máu âm đạo'}\n",
      "Input: kiểm tra sùi mào gà trong âm đạo, quan hệ bị chảy máu | sản phụ khoa | Output: sùi mào gà, chảy máu âm đạo\n"
     ]
    },
    {
     "name": "stderr",
     "output_type": "stream",
     "text": [
      "Handle reason combind:  83%|███████████████████████████████████████████████████████████████████████████████████████████████████▎                   | 1338/1603 [3:03:11<33:39,  7.62s/it]"
     ]
    },
    {
     "name": "stdout",
     "output_type": "stream",
     "text": [
      "result after generate:  {'result': 'thai định kì 31 tuần'}\n",
      "Input: khám thai định kì 31 tuần | sản phụ khoa | Output: thai định kì 31 tuần\n"
     ]
    },
    {
     "name": "stderr",
     "output_type": "stream",
     "text": [
      "Handle reason combind:  84%|███████████████████████████████████████████████████████████████████████████████████████████████████▍                   | 1339/1603 [3:03:15<29:08,  6.62s/it]"
     ]
    },
    {
     "name": "stdout",
     "output_type": "stream",
     "text": [
      "result after generate:  {'result': 'tiểu hơi đau'}\n",
      "Input: tiểu hơi đau | sản phụ khoa | Output: tiểu hơi đau\n"
     ]
    },
    {
     "name": "stderr",
     "output_type": "stream",
     "text": [
      "Handle reason combind:  84%|███████████████████████████████████████████████████████████████████████████████████████████████████▍                   | 1340/1603 [3:03:22<28:51,  6.58s/it]"
     ]
    },
    {
     "name": "stdout",
     "output_type": "stream",
     "text": [
      "result after generate:  {'result': 'tiểu buốt'}\n",
      "Input: tiểu buốc | sản phụ khoa | Output: tiểu buốt\n"
     ]
    },
    {
     "name": "stderr",
     "output_type": "stream",
     "text": [
      "Handle reason combind:  84%|███████████████████████████████████████████████████████████████████████████████████████████████████▌                   | 1341/1603 [3:03:29<29:32,  6.76s/it]"
     ]
    },
    {
     "name": "stdout",
     "output_type": "stream",
     "text": [
      "result after generate:  {'result': 'ngứa, dịch xanh âm đạo'}\n",
      "Input: ngứa, dịch xanh âm đạo | sản phụ khoa | Output: ngứa, dịch xanh âm đạo\n"
     ]
    },
    {
     "name": "stderr",
     "output_type": "stream",
     "text": [
      "Handle reason combind:  84%|███████████████████████████████████████████████████████████████████████████████████████████████████▌                   | 1342/1603 [3:03:33<25:56,  5.96s/it]"
     ]
    },
    {
     "name": "stdout",
     "output_type": "stream",
     "text": [
      "result after generate:  {'result': 'phụ khoa, độ sa của tử cung'}\n",
      "Input: kiểm tra phụ khoa và độ sa của tử cung | sản phụ khoa | Output: phụ khoa, độ sa của tử cung\n"
     ]
    },
    {
     "name": "stderr",
     "output_type": "stream",
     "text": [
      "Handle reason combind:  84%|███████████████████████████████████████████████████████████████████████████████████████████████████▋                   | 1343/1603 [3:03:38<24:53,  5.74s/it]"
     ]
    },
    {
     "name": "stdout",
     "output_type": "stream",
     "text": [
      "result after generate:  {'result': 'tăng sinh niêm mạc tử cung'}\n",
      "Input: tăng sinh niêm mạc tử cung | sản phụ khoa | Output: tăng sinh niêm mạc tử cung\n"
     ]
    },
    {
     "name": "stderr",
     "output_type": "stream",
     "text": [
      "Handle reason combind:  84%|███████████████████████████████████████████████████████████████████████████████████████████████████▊                   | 1344/1603 [3:03:47<28:43,  6.66s/it]"
     ]
    },
    {
     "name": "stdout",
     "output_type": "stream",
     "text": [
      "result after generate:  {'result': 'đau âm ỉ bụng dưới, đau xương cụt'}\n",
      "Input: đau âm ỉ bụng dưới và xương cụt, đau hơn khi cười và hắt hơi | sản phụ khoa | Output: đau âm ỉ bụng dưới, đau xương cụt\n"
     ]
    },
    {
     "name": "stderr",
     "output_type": "stream",
     "text": [
      "Handle reason combind:  84%|███████████████████████████████████████████████████████████████████████████████████████████████████▊                   | 1345/1603 [3:03:50<24:27,  5.69s/it]"
     ]
    },
    {
     "name": "stdout",
     "output_type": "stream",
     "text": [
      "result after generate:  {'result': 'ra máu ở vùng kín, đau bụng dưới, đau thắt lưng'}\n",
      "Input: khám phụ khoa - tình trạng ra máu ở vùng kín sau khi uống thuốc tránh thai khẩn cấp sau 5 ngày sử dụng (hiệu: cerciorat), có thêm triệu chứng đau bụng dưới, đau thắt lưng, có sử dụng biện pháp an toàn(bcs) nhưng bị rách. | sản phụ khoa | Output: ra máu ở vùng kín, đau bụng dưới, đau thắt lưng\n"
     ]
    },
    {
     "name": "stderr",
     "output_type": "stream",
     "text": [
      "Handle reason combind:  84%|███████████████████████████████████████████████████████████████████████████████████████████████████▉                   | 1346/1603 [3:03:57<25:05,  5.86s/it]"
     ]
    },
    {
     "name": "stdout",
     "output_type": "stream",
     "text": [
      "result after generate:  {'result': 'viêm, nấm, rong kinh'}\n",
      "Input: viêm, nấm, rong kinh | sản phụ khoa | Output: viêm, nấm, rong kinh\n"
     ]
    },
    {
     "name": "stderr",
     "output_type": "stream",
     "text": [
      "Handle reason combind:  84%|███████████████████████████████████████████████████████████████████████████████████████████████████▉                   | 1347/1603 [3:04:00<21:10,  4.96s/it]"
     ]
    },
    {
     "name": "stdout",
     "output_type": "stream",
     "text": [
      "result after generate:  {'result': 'thai ngoài ý muốn, ung thư cổ tử cung, viêm não nhật bản'}\n",
      "Input: thử que đã có thai nhưng do có thai ngoài ý muốn nên trước đó lỡ chích ngừa ở vnvc mũi ngừa ung thư cổ tử cung với viêm não nhật bản. mình sợ ảnh hưởng tới thai nhi nên muốn được tư vấn kỹ để nên giữ hay bỏ | sản phụ khoa | Output: thai ngoài ý muốn, ung thư cổ tử cung, viêm não nhật bản\n"
     ]
    },
    {
     "name": "stderr",
     "output_type": "stream",
     "text": [
      "Handle reason combind:  84%|████████████████████████████████████████████████████████████████████████████████████████████████████                   | 1348/1603 [3:04:09<26:27,  6.22s/it]"
     ]
    },
    {
     "name": "stdout",
     "output_type": "stream",
     "text": [
      "result after generate:  {'result': 'u sơ tử cung'}\n",
      "Input: u sơ tử cung | sản phụ khoa | Output: u sơ tử cung\n"
     ]
    },
    {
     "name": "stderr",
     "output_type": "stream",
     "text": [
      "Handle reason combind:  84%|████████████████████████████████████████████████████████████████████████████████████████████████████▏                  | 1349/1603 [3:04:11<20:57,  4.95s/it]"
     ]
    },
    {
     "name": "stdout",
     "output_type": "stream",
     "text": [
      "result after generate:  {'result': 'đi tiêu bột, viêm âm đạo'}\n",
      "Input: di tieu buot , vien am dao | sản phụ khoa | Output: đi tiêu bột, viêm âm đạo\n"
     ]
    },
    {
     "name": "stderr",
     "output_type": "stream",
     "text": [
      "Handle reason combind:  84%|████████████████████████████████████████████████████████████████████████████████████████████████████▏                  | 1350/1603 [3:04:28<35:55,  8.52s/it]"
     ]
    },
    {
     "name": "stdout",
     "output_type": "stream",
     "text": [
      "result after generate:  {'result': 'trĩ, lòi dom'}\n",
      "Input: trĩ lòi dom | sản phụ khoa | Output: trĩ, lòi dom\n"
     ]
    },
    {
     "name": "stderr",
     "output_type": "stream",
     "text": [
      "Handle reason combind:  84%|████████████████████████████████████████████████████████████████████████████████████████████████████▎                  | 1351/1603 [3:04:29<27:03,  6.44s/it]"
     ]
    },
    {
     "name": "stdout",
     "output_type": "stream",
     "text": [
      "result after generate:  {'result': None}\n"
     ]
    },
    {
     "name": "stderr",
     "output_type": "stream",
     "text": [
      "Handle reason combind:  84%|████████████████████████████████████████████████████████████████████████████████████████████████████▎                  | 1352/1603 [3:04:37<28:10,  6.73s/it]"
     ]
    },
    {
     "name": "stdout",
     "output_type": "stream",
     "text": [
      "result after generate:  {'result': 'polyp, ctc'}\n",
      "Input: polyp ctc | sản phụ khoa | Output: polyp, ctc\n"
     ]
    },
    {
     "name": "stderr",
     "output_type": "stream",
     "text": [
      "Handle reason combind:  84%|████████████████████████████████████████████████████████████████████████████████████████████████████▍                  | 1353/1603 [3:04:53<40:14,  9.66s/it]"
     ]
    },
    {
     "name": "stdout",
     "output_type": "stream",
     "text": [
      "result after generate:  {'result': 'rối loạn chu kỳ kinh nguyệt, kinh nguyệt ngắn ngày'}\n",
      "Input: khám tầm soát, bị rối loại chu kỳ kinh nguyệt, kinh nguyệt ngắn ngày | sản phụ khoa | Output: rối loạn chu kỳ kinh nguyệt, kinh nguyệt ngắn ngày\n"
     ]
    },
    {
     "name": "stderr",
     "output_type": "stream",
     "text": [
      "Handle reason combind:  84%|████████████████████████████████████████████████████████████████████████████████████████████████████▌                  | 1354/1603 [3:04:55<31:04,  7.49s/it]"
     ]
    },
    {
     "name": "stdout",
     "output_type": "stream",
     "text": [
      "result after generate:  {'result': 'dịch bất thường vùng kín, mùi khó chịu'}\n",
      "Input: vùng kín có dịch bất thường, kèm mùi | sản phụ khoa | Output: dịch bất thường vùng kín, mùi khó chịu\n"
     ]
    }
   ],
   "source": [
    "san_phu_khoa_df = process_dataframe(san_phu_khoa, output_path=\"../data/data_version2/san_phu_khoa.csv\")"
   ]
  },
  {
   "cell_type": "code",
   "execution_count": null,
   "id": "3a4f4593-c2f9-454a-9b7f-18bd22fee4ad",
   "metadata": {},
   "outputs": [
    {
     "name": "stdout",
     "output_type": "stream",
     "text": [
      "Starting Tai mui hong thread\n",
      "Starting Noi khoa thread\n"
     ]
    },
    {
     "data": {
      "application/vnd.jupyter.widget-view+json": {
       "model_id": "7d1a16ae0f3c4310b369c32b9da43dcd",
       "version_major": 2,
       "version_minor": 0
      },
      "text/plain": [
       "Handle reason combind:   0%|          | 0/4106 [00:00<?, ?it/s]"
      ]
     },
     "metadata": {},
     "output_type": "display_data"
    },
    {
     "data": {
      "application/vnd.jupyter.widget-view+json": {
       "model_id": "86870bd900a44118a730ccaa3de3627d",
       "version_major": 2,
       "version_minor": 0
      },
      "text/plain": [
       "Handle reason combind:   0%|          | 0/4556 [00:00<?, ?it/s]"
      ]
     },
     "metadata": {},
     "output_type": "display_data"
    },
    {
     "name": "stdout",
     "output_type": "stream",
     "text": [
      "result after generate:  {'result': 'viêm mũi dị ứng'}\n",
      "Input: viêm mũi dị ứng | tai mũi họng | Output: viêm mũi dị ứng\n",
      "result after generate:  {'result': 'ho, viêm phổi'}\n",
      "Input: ho ,viêm phổi | nội khoa | Output: ho, viêm phổi\n",
      "result after generate:  {'result': 'đau thân, nổi hạch, đau lưng'}\n",
      "Input: đau thân,nổi hạch, đau lưng | nội khoa | Output: đau thân, nổi hạch, đau lưng\n",
      "result after generate:  {'result': 'viêm họng, ho kéo dài'}\n",
      "Input: viêm họng,ho kéo dài | tai mũi họng | Output: viêm họng, ho kéo dài\n",
      "result after generate:  {'result': 'khám tổng quát'}\n",
      "Input: muốn khám nội tổng quát | nội khoa | Output: khám tổng quát\n",
      "result after generate:  {'result': 'đi đái màu nước coca'}\n",
      "Input: đi đái màu nước coca | nội khoa | Output: đi đái màu nước coca\n",
      "result after generate:  {'result': 'sổ mũi, hay quên'}\n",
      "Input: sổ mũi ,hay quên | tai mũi họng | Output: sổ mũi, hay quên\n",
      "result after generate:  {'result': 'đau họng, ít đờm'}\n",
      "Input: đau họng,ít đờm | tai mũi họng | Output: đau họng, ít đờm\n",
      "result after generate:  {'result': 'khó thở, hen phế quản, xoang'}\n",
      "Input: khó thở, hen phế quản, xoang | nội khoa | Output: khó thở, hen phế quản, xoang\n",
      "result after generate:  {'result': 'kl u máu trong gan, đen phổi'}\n",
      "Input: kl u máu trong gan,đen phổi | nội khoa | Output: kl u máu trong gan, đen phổi\n",
      "result after generate:  {'result': 'điếc đột ngột, sưng'}\n",
      "Input: điếc đột ngột,đã bị sưng 5 ngày | tai mũi họng | Output: điếc đột ngột, sưng\n",
      "result after generate:  {'result': 'đau họng'}\n",
      "Input: đau họng | tai mũi họng | Output: đau họng\n",
      "result after generate:  {'result': 'nặng đầu, huyết áp cao'}\n",
      "Input: nặng đầu, huyết áp cao | nội khoa | Output: nặng đầu, huyết áp cao\n",
      "result after generate:  {'result': 'đｉ̣ch mũi, lẫn máu ít'}\n",
      "Input: dịch mũi lẫn máu ít | tai mũi họng | Output: đｉ̣ch mũi, lẫn máu ít\n",
      "result after generate:  {'result': 'khám tiêu hóa'}\n",
      "Input: khám tiêu hóa | nội khoa | Output: khám tiêu hóa\n",
      "result after generate:  {'result': None}\n",
      "result after generate:  {'result': 'thủng 1 bên, viêm tai giữa'}\n",
      "Input: thủng 1 bên, viêm tai giữa | tai mũi họng | Output: thủng 1 bên, viêm tai giữa\n",
      "result after generate:  {'result': 'xoang, rõ lỗ nhĩ'}\n",
      "Input: xoang,rõ lỗ nhĩ | tai mũi họng | Output: xoang, rõ lỗ nhĩ\n",
      "result after generate:  {'result': 'bệnh hen bẩm sinh, tái phát'}\n",
      "Input: bị hên bẩm sinh, nay tái phát | nội khoa | Output: bệnh hen bẩm sinh, tái phát\n",
      "result after generate:  {'result': 'nội soi tiêu hóa'}\n",
      "Input: nội soi tiêu hóa | nội khoa | Output: nội soi tiêu hóa\n",
      "result after generate:  {'result': 'ù tai, khó chịu, vấn đề tai mũi họng'}\n",
      "Input: ù tai,khó chịu,có vấn đề cả tai mũi họng | tai mũi họng | Output: ù tai, khó chịu, vấn đề tai mũi họng\n",
      "result after generate:  {'result': 'khám tổng quát'}\n",
      "Input: khám tổng quát | nội khoa | Output: khám tổng quát\n",
      "result after generate:  {'result': 'cảm giác nghẹn họng, u nang họng lành tính'}\n",
      "Input: có cảm giác nghẹn họng,đã từng u nang họng lành tính | tai mũi họng | Output: cảm giác nghẹn họng, u nang họng lành tính\n",
      "result after generate:  {'result': 'lệch cương mũi'}\n",
      "Input: lệch cuống mũi | tai mũi họng | Output: lệch cương mũi\n",
      "result after generate:  {'result': 'sốt, ho'}\n",
      "Input: sốt 2 ngày về đêm,có ho ít | tai mũi họng | Output: sốt, ho\n",
      "result after generate:  {'result': 'ho, dịch mũi'}\n",
      "Input: ho, có dịch mũi | tai mũi họng | Output: ho, dịch mũi\n",
      "result after generate:  {'result': 'xơ dây thanh quản'}\n",
      "Input: xơ dây thanh quản | tai mũi họng | Output: xơ dây thanh quản\n"
     ]
    }
   ],
   "source": [
    "import threading\n",
    "import concurrent.futures\n",
    "\n",
    "def process_data_thread(api_key: str, df, output_path: str, thread_name: str):\n",
    "    print(f\"Starting {thread_name}\")\n",
    "    client = Together(api_key=api_key)\n",
    "    result_df = process_dataframe(client, df, output_path=output_path)\n",
    "    print(f\"Completed {thread_name}\")\n",
    "    return result_df\n",
    "\n",
    "# Load the datasets\n",
    "tai_mui_hong = pd.read_csv('../data/data_version1/reason_specialist - tai mũi họng.csv', index_col=0)\n",
    "noi_khoa = pd.read_csv('../data/data_version1/reason_specialist - nội khoa.csv', index_col=0)\n",
    "\n",
    "# API keys\n",
    "api_key1 = \"95981b63ee8bc37a47e013a2946aecab679285179eb3a3c24e1179e38e75c434\"\n",
    "api_key2 = \"984a9676fb29b00a470440df6d9b93e03a9b35a345f3a324bbeb5fb7a9f46c84\"\n",
    "\n",
    "# Create and start threads\n",
    "thread_1 = threading.Thread(\n",
    "    target=process_data_thread, \n",
    "    args=(api_key1, tai_mui_hong, '../data/data_version2/tai_mui_hong.csv', 'Tai mui hong thread')\n",
    ")\n",
    "\n",
    "thread_2 = threading.Thread(\n",
    "    target=process_data_thread, \n",
    "    args=(api_key2, noi_khoa, '../data/data_version2/noi_khoa.csv', 'Noi khoa thread')\n",
    ")\n",
    "\n",
    "# Start threads\n",
    "thread_1.start()\n",
    "thread_2.start()\n",
    "\n",
    "# Wait for threads to complete\n",
    "thread_1.join()\n",
    "thread_2.join()\n",
    "\n",
    "print(\"All threads completed\")"
   ]
  },
  {
   "cell_type": "code",
   "execution_count": null,
   "id": "951e883c-0670-47eb-9c5a-425f4eff121a",
   "metadata": {},
   "outputs": [],
   "source": [
    "rối loạn kinh nguyệt kéo dài"
   ]
  }
 ],
 "metadata": {
  "kernelspec": {
   "display_name": "Python 3 (ipykernel)",
   "language": "python",
   "name": "python3"
  },
  "language_info": {
   "codemirror_mode": {
    "name": "ipython",
    "version": 3
   },
   "file_extension": ".py",
   "mimetype": "text/x-python",
   "name": "python",
   "nbconvert_exporter": "python",
   "pygments_lexer": "ipython3",
   "version": "3.10.15"
  }
 },
 "nbformat": 4,
 "nbformat_minor": 5
}
