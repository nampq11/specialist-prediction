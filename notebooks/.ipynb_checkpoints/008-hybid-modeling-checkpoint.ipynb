{
 "cells": [
  {
   "cell_type": "markdown",
   "id": "e031b3a0-ab78-46b5-aa9c-d13941214152",
   "metadata": {},
   "source": [
    "## Set up"
   ]
  },
  {
   "cell_type": "code",
   "execution_count": 1,
   "id": "78631d72-0379-4ccb-b426-f59fd4020f38",
   "metadata": {},
   "outputs": [],
   "source": [
    "%load_ext autoreload\n",
    "%autoreload 2"
   ]
  },
  {
   "cell_type": "code",
   "execution_count": 2,
   "id": "9aa7529d-0dcd-4f94-a4ce-68d53c39e848",
   "metadata": {},
   "outputs": [],
   "source": [
    "import sys\n",
    "\n",
    "sys.path.insert(0, '..')"
   ]
  },
  {
   "cell_type": "code",
   "execution_count": 45,
   "id": "27480ba0-d890-4a38-a402-b9b85d01d815",
   "metadata": {},
   "outputs": [],
   "source": [
    "import torch\n",
    "import pandas as pd\n",
    "import torch.nn as nn\n",
    "import torch.nn.functional as F\n",
    "from transformers import AutoModel, AutoTokenizer, AutoConfig"
   ]
  },
  {
   "cell_type": "code",
   "execution_count": 4,
   "id": "40454d78-ed52-4230-906c-e9f27f8ff0e6",
   "metadata": {},
   "outputs": [
    {
     "data": {
      "text/html": [
       "<div>\n",
       "<style scoped>\n",
       "    .dataframe tbody tr th:only-of-type {\n",
       "        vertical-align: middle;\n",
       "    }\n",
       "\n",
       "    .dataframe tbody tr th {\n",
       "        vertical-align: top;\n",
       "    }\n",
       "\n",
       "    .dataframe thead th {\n",
       "        text-align: right;\n",
       "    }\n",
       "</style>\n",
       "<table border=\"1\" class=\"dataframe\">\n",
       "  <thead>\n",
       "    <tr style=\"text-align: right;\">\n",
       "      <th></th>\n",
       "      <th>gender</th>\n",
       "      <th>age</th>\n",
       "      <th>reason_combind</th>\n",
       "      <th>specialist_name</th>\n",
       "      <th>source_file</th>\n",
       "      <th>age_category</th>\n",
       "    </tr>\n",
       "  </thead>\n",
       "  <tbody>\n",
       "    <tr>\n",
       "      <th>0</th>\n",
       "      <td>unknown</td>\n",
       "      <td>57</td>\n",
       "      <td>mất ngủ</td>\n",
       "      <td>thần kinh</td>\n",
       "      <td>reason_specialist - thần kinh.csv</td>\n",
       "      <td>adult</td>\n",
       "    </tr>\n",
       "    <tr>\n",
       "      <th>1</th>\n",
       "      <td>unknown</td>\n",
       "      <td>35</td>\n",
       "      <td>rối loạn thần kinh thực vật</td>\n",
       "      <td>thần kinh</td>\n",
       "      <td>reason_specialist - thần kinh.csv</td>\n",
       "      <td>adult</td>\n",
       "    </tr>\n",
       "    <tr>\n",
       "      <th>2</th>\n",
       "      <td>unknown</td>\n",
       "      <td>36</td>\n",
       "      <td>đau đầu</td>\n",
       "      <td>thần kinh</td>\n",
       "      <td>reason_specialist - thần kinh.csv</td>\n",
       "      <td>adult</td>\n",
       "    </tr>\n",
       "    <tr>\n",
       "      <th>3</th>\n",
       "      <td>unknown</td>\n",
       "      <td>40</td>\n",
       "      <td>đau đầu,đau sau ngực gần phổi</td>\n",
       "      <td>thần kinh</td>\n",
       "      <td>reason_specialist - thần kinh.csv</td>\n",
       "      <td>adult</td>\n",
       "    </tr>\n",
       "    <tr>\n",
       "      <th>4</th>\n",
       "      <td>unknown</td>\n",
       "      <td>12</td>\n",
       "      <td>co giật 3 lần</td>\n",
       "      <td>thần kinh</td>\n",
       "      <td>reason_specialist - thần kinh.csv</td>\n",
       "      <td>child</td>\n",
       "    </tr>\n",
       "  </tbody>\n",
       "</table>\n",
       "</div>"
      ],
      "text/plain": [
       "    gender  age                     reason_combind specialist_name  \\\n",
       "0  unknown   57                          mất ngủ       thần kinh   \n",
       "1  unknown   35   rối loạn thần kinh thực vật       thần kinh   \n",
       "2  unknown   36                           đau đầu       thần kinh   \n",
       "3  unknown   40  đau đầu,đau sau ngực gần phổi       thần kinh   \n",
       "4  unknown   12                    co giật 3 lần       thần kinh   \n",
       "\n",
       "                         source_file age_category  \n",
       "0  reason_specialist - thần kinh.csv        adult  \n",
       "1  reason_specialist - thần kinh.csv        adult  \n",
       "2  reason_specialist - thần kinh.csv        adult  \n",
       "3  reason_specialist - thần kinh.csv        adult  \n",
       "4  reason_specialist - thần kinh.csv        child  "
      ]
     },
     "execution_count": 4,
     "metadata": {},
     "output_type": "execute_result"
    }
   ],
   "source": [
    "df = pd.read_csv('../data/data_version1/combined_data.csv')\n",
    "df.head()"
   ]
  },
  {
   "cell_type": "code",
   "execution_count": 5,
   "id": "db2772d5-beaf-45b7-9ade-45354ccdd24b",
   "metadata": {},
   "outputs": [
    {
     "data": {
      "text/plain": [
       "(Index(['gender', 'age', 'reason_combind', 'specialist_name', 'source_file',\n",
       "        'age_category'],\n",
       "       dtype='object'),\n",
       " array(['unknown', 'male', 'female'], dtype=object),\n",
       " array(['adult', 'child', 'unknown'], dtype=object),\n",
       " array(['thần kinh', 'vô sinh - hiếm muộn', 'nhi khoa', 'thận - tiết niệu',\n",
       "        'ung bướu', 'hô hấp - phổi', 'chuyên khoa mắt', 'cơ xương khớp',\n",
       "        'tim mạch', 'tiêu hoá', 'sức khỏe tâm thần', 'nội khoa',\n",
       "        'tiểu đường - nội tiết', 'tai mũi họng', 'nam học', 'da liễu',\n",
       "        'sản phụ khoa'], dtype=object))"
      ]
     },
     "execution_count": 5,
     "metadata": {},
     "output_type": "execute_result"
    }
   ],
   "source": [
    "df.columns, df.gender.unique(), df.age_category.unique(), df.specialist_name.unique()"
   ]
  },
  {
   "cell_type": "code",
   "execution_count": 6,
   "id": "fdc64af7-0cac-4fa8-96c6-a7675dafd422",
   "metadata": {},
   "outputs": [
    {
     "name": "stdout",
     "output_type": "stream",
     "text": [
      "Total samples in balanced dataset: 5864\n",
      "specialist_name\n",
      "tiểu đường - nội tiết    761\n",
      "hô hấp - phổi            650\n",
      "thần kinh                300\n",
      "ung bướu                 300\n",
      "nhi khoa                 300\n",
      "cơ xương khớp            300\n",
      "chuyên khoa mắt          300\n",
      "tim mạch                 300\n",
      "thận - tiết niệu         300\n",
      "tai mũi họng             300\n",
      "tiêu hoá                 300\n",
      "sức khỏe tâm thần        300\n",
      "nội khoa                 300\n",
      "da liễu                  300\n",
      "nam học                  300\n",
      "sản phụ khoa             300\n",
      "vô sinh - hiếm muộn      253\n",
      "Name: count, dtype: int64\n"
     ]
    }
   ],
   "source": [
    "# Extract data for model training\n",
    "# Take 1000 examples per specialist_name\n",
    "specialist_samples = {}\n",
    "\n",
    "# Get list of unique specialists\n",
    "specialists = df['specialist_name'].unique()\n",
    "\n",
    "# Sample 1000 examples per specialist (or all if fewer than 1000)\n",
    "balanced_df = pd.DataFrame()\n",
    "for specialist in specialists:\n",
    "    specialist_df = df[df['specialist_name'] == specialist]\n",
    "    if len(specialist_df) > 1000:\n",
    "        sampled_df = specialist_df.sample(300, random_state=42)\n",
    "    else:\n",
    "        sampled_df = specialist_df\n",
    "    balanced_df = pd.concat([balanced_df, sampled_df])\n",
    "\n",
    "# Reset index of the final balanced dataset\n",
    "balanced_df = balanced_df.reset_index(drop=True)\n",
    "print(f\"Total samples in balanced dataset: {len(balanced_df)}\")\n",
    "print(balanced_df['specialist_name'].value_counts())"
   ]
  },
  {
   "cell_type": "code",
   "execution_count": 7,
   "id": "f6ddf789-f211-4eda-80e4-def0da2f5de5",
   "metadata": {},
   "outputs": [
    {
     "data": {
      "text/html": [
       "<div>\n",
       "<style scoped>\n",
       "    .dataframe tbody tr th:only-of-type {\n",
       "        vertical-align: middle;\n",
       "    }\n",
       "\n",
       "    .dataframe tbody tr th {\n",
       "        vertical-align: top;\n",
       "    }\n",
       "\n",
       "    .dataframe thead th {\n",
       "        text-align: right;\n",
       "    }\n",
       "</style>\n",
       "<table border=\"1\" class=\"dataframe\">\n",
       "  <thead>\n",
       "    <tr style=\"text-align: right;\">\n",
       "      <th></th>\n",
       "      <th>gender</th>\n",
       "      <th>age</th>\n",
       "      <th>reason_combind</th>\n",
       "      <th>specialist_name</th>\n",
       "      <th>source_file</th>\n",
       "      <th>age_category</th>\n",
       "    </tr>\n",
       "  </thead>\n",
       "  <tbody>\n",
       "    <tr>\n",
       "      <th>0</th>\n",
       "      <td>female</td>\n",
       "      <td>73</td>\n",
       "      <td>tay chân run lâu ngày, đau đầu</td>\n",
       "      <td>thần kinh</td>\n",
       "      <td>reason_specialist - thần kinh.csv</td>\n",
       "      <td>adult</td>\n",
       "    </tr>\n",
       "    <tr>\n",
       "      <th>1</th>\n",
       "      <td>female</td>\n",
       "      <td>57</td>\n",
       "      <td>đau đầu, rối loạn tiền đình</td>\n",
       "      <td>thần kinh</td>\n",
       "      <td>reason_specialist - thần kinh.csv</td>\n",
       "      <td>adult</td>\n",
       "    </tr>\n",
       "    <tr>\n",
       "      <th>2</th>\n",
       "      <td>female</td>\n",
       "      <td>0</td>\n",
       "      <td>bị tai nạn mờ mắt</td>\n",
       "      <td>thần kinh</td>\n",
       "      <td>reason_specialist - thần kinh.csv</td>\n",
       "      <td>unknown</td>\n",
       "    </tr>\n",
       "    <tr>\n",
       "      <th>3</th>\n",
       "      <td>female</td>\n",
       "      <td>0</td>\n",
       "      <td>u tuyến yên 9,2*9,7mm(bv tim và bv phụ sản tru...</td>\n",
       "      <td>thần kinh</td>\n",
       "      <td>reason_specialist - thần kinh.csv</td>\n",
       "      <td>unknown</td>\n",
       "    </tr>\n",
       "    <tr>\n",
       "      <th>4</th>\n",
       "      <td>female</td>\n",
       "      <td>44</td>\n",
       "      <td>nghi ngờ tuyến yên, đau đầu</td>\n",
       "      <td>thần kinh</td>\n",
       "      <td>reason_specialist - thần kinh.csv</td>\n",
       "      <td>adult</td>\n",
       "    </tr>\n",
       "    <tr>\n",
       "      <th>...</th>\n",
       "      <td>...</td>\n",
       "      <td>...</td>\n",
       "      <td>...</td>\n",
       "      <td>...</td>\n",
       "      <td>...</td>\n",
       "      <td>...</td>\n",
       "    </tr>\n",
       "    <tr>\n",
       "      <th>5859</th>\n",
       "      <td>female</td>\n",
       "      <td>29</td>\n",
       "      <td>khám thai</td>\n",
       "      <td>sản phụ khoa</td>\n",
       "      <td>reason_specialist - sản phụ khoa.csv</td>\n",
       "      <td>adult</td>\n",
       "    </tr>\n",
       "    <tr>\n",
       "      <th>5860</th>\n",
       "      <td>female</td>\n",
       "      <td>49</td>\n",
       "      <td>kiem tra dinh ky vu va phu khoa</td>\n",
       "      <td>sản phụ khoa</td>\n",
       "      <td>reason_specialist - sản phụ khoa.csv</td>\n",
       "      <td>adult</td>\n",
       "    </tr>\n",
       "    <tr>\n",
       "      <th>5861</th>\n",
       "      <td>female</td>\n",
       "      <td>32</td>\n",
       "      <td>ra nhiều khí hư màu vàng, ngứa, có mùi. ngoài ...</td>\n",
       "      <td>sản phụ khoa</td>\n",
       "      <td>reason_specialist - sản phụ khoa.csv</td>\n",
       "      <td>adult</td>\n",
       "    </tr>\n",
       "    <tr>\n",
       "      <th>5862</th>\n",
       "      <td>female</td>\n",
       "      <td>29</td>\n",
       "      <td>kinh nguyệt không đều, chảy máu ngoài chu kỳ k...</td>\n",
       "      <td>sản phụ khoa</td>\n",
       "      <td>reason_specialist - sản phụ khoa.csv</td>\n",
       "      <td>adult</td>\n",
       "    </tr>\n",
       "    <tr>\n",
       "      <th>5863</th>\n",
       "      <td>female</td>\n",
       "      <td>24</td>\n",
       "      <td>chảy máu bất thường , trễ kinh nguyệt</td>\n",
       "      <td>sản phụ khoa</td>\n",
       "      <td>reason_specialist - sản phụ khoa.csv</td>\n",
       "      <td>adult</td>\n",
       "    </tr>\n",
       "  </tbody>\n",
       "</table>\n",
       "<p>5864 rows × 6 columns</p>\n",
       "</div>"
      ],
      "text/plain": [
       "      gender  age                                     reason_combind  \\\n",
       "0     female   73                     tay chân run lâu ngày, đau đầu   \n",
       "1     female   57                        đau đầu, rối loạn tiền đình   \n",
       "2     female    0                                  bị tai nạn mờ mắt   \n",
       "3     female    0  u tuyến yên 9,2*9,7mm(bv tim và bv phụ sản tru...   \n",
       "4     female   44                        nghi ngờ tuyến yên, đau đầu   \n",
       "...      ...  ...                                                ...   \n",
       "5859  female   29                                          khám thai   \n",
       "5860  female   49                    kiem tra dinh ky vu va phu khoa   \n",
       "5861  female   32  ra nhiều khí hư màu vàng, ngứa, có mùi. ngoài ...   \n",
       "5862  female   29  kinh nguyệt không đều, chảy máu ngoài chu kỳ k...   \n",
       "5863  female   24              chảy máu bất thường , trễ kinh nguyệt   \n",
       "\n",
       "     specialist_name                           source_file age_category  \n",
       "0          thần kinh     reason_specialist - thần kinh.csv        adult  \n",
       "1          thần kinh     reason_specialist - thần kinh.csv        adult  \n",
       "2          thần kinh     reason_specialist - thần kinh.csv      unknown  \n",
       "3          thần kinh     reason_specialist - thần kinh.csv      unknown  \n",
       "4          thần kinh     reason_specialist - thần kinh.csv        adult  \n",
       "...              ...                                   ...          ...  \n",
       "5859    sản phụ khoa  reason_specialist - sản phụ khoa.csv        adult  \n",
       "5860    sản phụ khoa  reason_specialist - sản phụ khoa.csv        adult  \n",
       "5861    sản phụ khoa  reason_specialist - sản phụ khoa.csv        adult  \n",
       "5862    sản phụ khoa  reason_specialist - sản phụ khoa.csv        adult  \n",
       "5863    sản phụ khoa  reason_specialist - sản phụ khoa.csv        adult  \n",
       "\n",
       "[5864 rows x 6 columns]"
      ]
     },
     "execution_count": 7,
     "metadata": {},
     "output_type": "execute_result"
    }
   ],
   "source": [
    "balanced_df"
   ]
  },
  {
   "cell_type": "code",
   "execution_count": 68,
   "id": "2a5250e1-5617-4710-bc29-f44b136b7ee4",
   "metadata": {},
   "outputs": [],
   "source": [
    "class MedicalSpecialistClassifer(nn.Module):\n",
    "    def __init__(self, num_specialists: int, model_name: str = \"BookingCare/gte-multilingual-base-v2.1\", user_feature_dim=2, dropout=0.2, load_pretrained=True, trust_remote_code=False):\n",
    "        super(MedicalSpecialistClassifer, self).__init__()\n",
    "\n",
    "        config = AutoConfig.from_pretrained(model_name, trust_remote_code=trust_remote_code)\n",
    "        if load_pretrained:\n",
    "            self.reason_encoder = AutoModel.from_pretrained(model_name, config=config, trust_remote_code=True)\n",
    "        else:\n",
    "            self.reason_encoder = AutoModel.from_config(config, trust_remote_code=True)\n",
    "        \n",
    "        for param in self.reason_encoder.parameters():\n",
    "            param.requires_grad = False\n",
    "        self.reason_encoder_hidden_dim = self.reason_encoder.config.hidden_size\n",
    "        \n",
    "        self.relu = nn.ReLU()\n",
    "        self.dropout = nn.Dropout(p=dropout)\n",
    "        \n",
    "        self.user_encoder = nn.Sequential(\n",
    "            nn.Linear(user_feature_dim, 128),\n",
    "            nn.BatchNorm1d(128),\n",
    "            self.relu,\n",
    "            self.dropout,\n",
    "            nn.Linear(128, 256),\n",
    "            self.relu\n",
    "        )\n",
    "\n",
    "        self.hidden_layer1 = nn.Sequential(\n",
    "            nn.Linear(self.reason_encoder_hidden_dim, 512),\n",
    "            nn.BatchNorm1d(512),\n",
    "            self.relu,\n",
    "            self.dropout,\n",
    "        )\n",
    "\n",
    "        self.level1_output = nn.Linear(512, num_specialists)\n",
    "\n",
    "        self.hidden_layer2 = nn.Sequential(\n",
    "            nn.Linear(self.reason_encoder_hidden_dim + 256 + 512, 768),\n",
    "            nn.BatchNorm1d(768),\n",
    "            self.relu,\n",
    "            self.dropout\n",
    "        )\n",
    "        self.level2_output = nn.Linear(768, num_specialists)\n",
    "\n",
    "    def forward(self, reason_text_ids, reason_text_mask, user_info=None):\n",
    "        reason_outputs = self.reason_encoder(reason_text_ids, attention_mask=reason_text_mask)\n",
    "        reason_embedding = reason_outputs.last_hidden_state[:, 0, :]\n",
    "\n",
    "        hidden1 = self.hidden_layer1(reason_embedding)\n",
    "\n",
    "        level1_logits = self.level1_output(hidden1)\n",
    "\n",
    "        if user_info is None:\n",
    "            return level1_logits, None\n",
    "\n",
    "        user_features = self.user_encoder(user_info)\n",
    "\n",
    "        combined_features = torch.cat((reason_embedding, hidden1, user_features), dim=1)\n",
    "\n",
    "        hidden2 = self.hidden_layer2(combined_features)\n",
    "        level2_logits = self.level2_output(hidden2)\n",
    "\n",
    "        return level1_logits, level2_logits\n",
    "\n",
    "    def predict(self, reason_text_ids, reason_text_mask, user_info=None, threshold=0.7):\n",
    "        self.eval()\n",
    "        with torch.no_grad():\n",
    "            level1_logits, level2_logits = self.forward(reason_text_ids, reason_text_mask, user_info)\n",
    "            level1_probs = F.softmax(level1_logits, dim=1)\n",
    "            max_probs, preds = torch.max(level1_probs, dim=1)\n",
    "            final_preds = preds.clone()\n",
    "\n",
    "            if user_info is not None and level2_logits is not None:\n",
    "                for i, prob in enumerate(max_probs):\n",
    "                    final_preds[i] = torch.argmax(level2_logits[i])\n",
    "\n",
    "            return final_preds"
   ]
  },
  {
   "cell_type": "code",
   "execution_count": 9,
   "id": "32070d38-7bfc-4212-8182-39a86b43dc32",
   "metadata": {},
   "outputs": [],
   "source": [
    "from torch.utils.data import Dataset, DataLoader\n",
    "from sklearn.preprocessing import LabelEncoder\n",
    "\n",
    "class MedicalDataFrameDataset(Dataset):\n",
    "    def __init__(self, df, tokenizer):\n",
    "        self.df = df.reset_index(drop=True)\n",
    "        self.tokenizer = tokenizer\n",
    "        self.max_length = 128\n",
    "        \n",
    "    def __len__(self):\n",
    "        return len(self.df)\n",
    "\n",
    "    def __getitem__(self, idx):\n",
    "        row = self.df.iloc[idx]\n",
    "        reason_text = row['reason_combind']\n",
    "        user_info = torch.tensor([row['gender'], row['age_category']], dtype=torch.float32)\n",
    "        label = row['specialist_name']\n",
    "        encoded = self.tokenizer(\n",
    "            reason_text,\n",
    "            padding='max_length',\n",
    "            truncation=True,\n",
    "            max_length=self.max_length,\n",
    "            return_tensors='pt'\n",
    "        )\n",
    "        return {\n",
    "            \"reason_text_ids\": encoded['input_ids'].squeeze(0),\n",
    "            \"reason_text_mask\": encoded['attention_mask'].squeeze(0),\n",
    "            \"user_info\": user_info,\n",
    "            \"labels\": torch.tensor(label, dtype=torch.long)\n",
    "        }"
   ]
  },
  {
   "cell_type": "code",
   "execution_count": 10,
   "id": "c2d3fde2-0712-4eb1-b378-d9476d341ad7",
   "metadata": {},
   "outputs": [],
   "source": [
    "from tqdm.notebook import tqdm\n",
    "\n",
    "def train(model, train_loader, val_loader, optimizer, criterion, device, num_epochs=5, patience=2, save_path=\"best_model.pt\"):\n",
    "    model.to(device)\n",
    "    best_val_loss = float('inf')\n",
    "    patience_counter = 0\n",
    "\n",
    "    for epoch in tqdm(range(num_epochs)):\n",
    "        model.train()\n",
    "        running_loss = 0.0\n",
    "        correct_level1 = 0\n",
    "        correct_combined = 0\n",
    "        total = 0\n",
    "\n",
    "        for batch in tqdm(train_loader, desc=\"Training...\"):\n",
    "            reason_text_ids = batch['reason_text_ids'].to(device)\n",
    "            reason_text_mask = batch['reason_text_mask'].to(device)\n",
    "            user_info = batch.get('user_info', None)\n",
    "\n",
    "            if user_info is not None:\n",
    "                user_info = user_info.to(device)\n",
    "            labels = batch['labels'].to(device)\n",
    "\n",
    "            optimizer.zero_grad()\n",
    "            level1_logits, level2_logits = model(\n",
    "                reason_text_ids,\n",
    "                reason_text_mask,\n",
    "                user_info\n",
    "            )\n",
    "\n",
    "            _, level1_preds = torch.max(level1_logits, dim=1)\n",
    "            correct_mask = (level1_preds == labels)\n",
    "            loss = criterion(level1_logits, labels)\n",
    "\n",
    "            if level2_logits is not None and (~correct_mask).any():\n",
    "                incorrect_indices = (~correct_mask).nonzero(as_tuple=True)[0]\n",
    "                level2_loss = criterion(level2_logits[incorrect_indices], labels[incorrect_indices])\n",
    "                loss += level2_loss\n",
    "\n",
    "            loss.backward()\n",
    "            optimizer.step()\n",
    "\n",
    "            running_loss += loss.item()\n",
    "            correct_level1 += correct_mask.sum().item()\n",
    "\n",
    "            if level2_logits is not None:\n",
    "                _, level2_preds = torch.max(level2_logits, dim=1)\n",
    "                final_preds = torch.where(correct_mask, level1_preds, level2_preds)\n",
    "            else:\n",
    "                final_preds = level1_preds\n",
    "\n",
    "            correct_combined += (final_preds == labels).sum().item()\n",
    "            total += labels.size(0)\n",
    "\n",
    "        print(f\"Epoch {epoch+1}/{num_epochs}:\")\n",
    "        print(f\"Train Loss: {running_loss / len(train_loader): .4f}\")\n",
    "        print(f\"Level 1 Accuracy: {100 * correct_level1 / total:.2f}\")\n",
    "        print(f\"Final Accuracy (with Level 2 fallback): {100 * correct_combined / total: .2f}%\\n\")\n",
    "\n",
    "        # validation\n",
    "        model.eval()\n",
    "        val_loss = 0.0\n",
    "        correct_level1 = 0\n",
    "        correct_combined = 0\n",
    "        total = 0\n",
    "        with torch.no_grad():\n",
    "            for batch in tqdm(val_loader, desc='Validate...'):\n",
    "                reason_text_ids = batch['reason_text_ids'].to(device)\n",
    "                reason_text_mask = batch['reason_text_mask'].to(device)\n",
    "                user_info = batch.get('user_info', None)\n",
    "                if user_info is not None:\n",
    "                    user_info = user_info.to(device)\n",
    "\n",
    "                    for p in model.hidden_layer2.parameters():\n",
    "                        p.requires_grad = True\n",
    "                    for p in model.level2_output.parameters():\n",
    "                        p.requires_grad = True\n",
    "                else:\n",
    "                    for p in model.hidden_layer2.parameters():\n",
    "                        p.requires_grad = False\n",
    "                    for p in model.level2_output.parameters():\n",
    "                        p.requires_grad = False\n",
    "                labels = batch['labels'].to(device)\n",
    "\n",
    "                level1_logits, level2_logits = model(\n",
    "                    reason_text_ids,\n",
    "                    reason_text_mask,\n",
    "                    user_info\n",
    "                )\n",
    "\n",
    "                _, level1_preds = torch.max(level1_logits, dim=1)\n",
    "                correct_mask = (level1_preds == labels)\n",
    "                loss = criterion(level1_logits, labels)\n",
    "                if level2_logits is not None and (~correct_mask).any():\n",
    "                    incorrect_indices = (~correct_mask).nonzero(as_tuple=True)[0]\n",
    "                    level2_loss = criterion(level2_logits[incorrect_indices], labels[incorrect_indices])\n",
    "                    loss += level2_loss\n",
    "\n",
    "                val_loss += loss.item()\n",
    "                correct_level1 += correct_mask.sum().item()\n",
    "\n",
    "                if level2_logits is not None:\n",
    "                    _, level2_preds = torch.max(level2_logits, dim=1)\n",
    "                    final_preds = torch.where(correct_mask, level1_preds, level2_preds)\n",
    "                else:\n",
    "                    final_preds = level1_preds\n",
    "\n",
    "                correct_combined += (final_preds == labels).sum().item()\n",
    "                total += labels.size(0)\n",
    "        \n",
    "        avg_val_loss = val_loss / len(val_loader)\n",
    "        print(f\"Validation loss: {avg_val_loss:.4f}\")\n",
    "        print(f\"Validation level 1 Accuracy: {100 * correct_level1 / total:.2f}%\")\n",
    "        print(f\"Validation Final Accuracy (with Level 2 fallback): {100 * correct_combined / total:.2f}%\\n\")\n",
    "\n",
    "        if avg_val_loss < best_val_loss:\n",
    "            best_val_loss = avg_val_loss\n",
    "            patience_counter = 0\n",
    "            torch.save(model.state_dict(), save_path)\n",
    "            print(\"Model saved.\")\n",
    "        else:\n",
    "            patience_counter += 1\n",
    "            if patience_counter >= patience:\n",
    "                print(\"Early stopping triggered.\")\n",
    "                break                "
   ]
  },
  {
   "cell_type": "code",
   "execution_count": 11,
   "id": "a5fbecc8-71a7-45e4-a97e-d7b8b47d89bc",
   "metadata": {},
   "outputs": [],
   "source": [
    "device = torch.device(\"cuda\" if torch.cuda.is_available() else \"cpu\")"
   ]
  },
  {
   "cell_type": "code",
   "execution_count": 12,
   "id": "5eb2f700-b6db-4c24-8cce-f0c4a2ff0930",
   "metadata": {},
   "outputs": [
    {
     "data": {
      "text/plain": [
       "device(type='cuda')"
      ]
     },
     "execution_count": 12,
     "metadata": {},
     "output_type": "execute_result"
    }
   ],
   "source": [
    "device"
   ]
  },
  {
   "cell_type": "code",
   "execution_count": 13,
   "id": "dc394ddc-4192-476c-b176-818e810b4ead",
   "metadata": {},
   "outputs": [],
   "source": [
    "tokenizer = AutoTokenizer.from_pretrained('../models/gte/')"
   ]
  },
  {
   "cell_type": "code",
   "execution_count": 14,
   "id": "442c411c-0c10-4b32-aaf5-88bad7c687dd",
   "metadata": {},
   "outputs": [],
   "source": [
    "specialist_encoder = LabelEncoder()\n",
    "age_encoder = LabelEncoder()\n",
    "gender_encoder = LabelEncoder()\n",
    "balanced_df['age_category'] = age_encoder.fit_transform(balanced_df['age_category'])\n",
    "balanced_df['gender'] = gender_encoder.fit_transform(balanced_df['gender'])\n",
    "balanced_df['specialist_name'] = specialist_encoder.fit_transform(balanced_df['specialist_name'])"
   ]
  },
  {
   "cell_type": "code",
   "execution_count": 15,
   "id": "91b48e69-961e-4890-b9a5-83de3f9b8af3",
   "metadata": {},
   "outputs": [],
   "source": [
    "dataset = MedicalDataFrameDataset(balanced_df, tokenizer)"
   ]
  },
  {
   "cell_type": "code",
   "execution_count": 16,
   "id": "d7c66db4-edc2-4531-9b09-6162430b02a3",
   "metadata": {},
   "outputs": [
    {
     "data": {
      "text/plain": [
       "{'reason_text_ids': tensor([    0,  6329, 18973, 11675, 25825,  3063,     4, 24859,  2494,     2,\n",
       "             1,     1,     1,     1,     1,     1,     1,     1,     1,     1,\n",
       "             1,     1,     1,     1,     1,     1,     1,     1,     1,     1,\n",
       "             1,     1,     1,     1,     1,     1,     1,     1,     1,     1,\n",
       "             1,     1,     1,     1,     1,     1,     1,     1,     1,     1,\n",
       "             1,     1,     1,     1,     1,     1,     1,     1,     1,     1,\n",
       "             1,     1,     1,     1,     1,     1,     1,     1,     1,     1,\n",
       "             1,     1,     1,     1,     1,     1,     1,     1,     1,     1,\n",
       "             1,     1,     1,     1,     1,     1,     1,     1,     1,     1,\n",
       "             1,     1,     1,     1,     1,     1,     1,     1,     1,     1,\n",
       "             1,     1,     1,     1,     1,     1,     1,     1,     1,     1,\n",
       "             1,     1,     1,     1,     1,     1,     1,     1,     1,     1,\n",
       "             1,     1,     1,     1,     1,     1,     1,     1]),\n",
       " 'reason_text_mask': tensor([1, 1, 1, 1, 1, 1, 1, 1, 1, 1, 0, 0, 0, 0, 0, 0, 0, 0, 0, 0, 0, 0, 0, 0,\n",
       "         0, 0, 0, 0, 0, 0, 0, 0, 0, 0, 0, 0, 0, 0, 0, 0, 0, 0, 0, 0, 0, 0, 0, 0,\n",
       "         0, 0, 0, 0, 0, 0, 0, 0, 0, 0, 0, 0, 0, 0, 0, 0, 0, 0, 0, 0, 0, 0, 0, 0,\n",
       "         0, 0, 0, 0, 0, 0, 0, 0, 0, 0, 0, 0, 0, 0, 0, 0, 0, 0, 0, 0, 0, 0, 0, 0,\n",
       "         0, 0, 0, 0, 0, 0, 0, 0, 0, 0, 0, 0, 0, 0, 0, 0, 0, 0, 0, 0, 0, 0, 0, 0,\n",
       "         0, 0, 0, 0, 0, 0, 0, 0]),\n",
       " 'user_info': tensor([0., 0.]),\n",
       " 'labels': tensor(10)}"
      ]
     },
     "execution_count": 16,
     "metadata": {},
     "output_type": "execute_result"
    }
   ],
   "source": [
    "dataset.__getitem__(0)"
   ]
  },
  {
   "cell_type": "code",
   "execution_count": 17,
   "id": "6210f789-54dd-48d2-b091-94a6a7a49848",
   "metadata": {},
   "outputs": [],
   "source": [
    "train_size = int(0.8 * len(dataset))\n",
    "val_size = len(dataset) - train_size\n",
    "\n",
    "train_dataset, val_dataset = torch.utils.data.random_split(dataset, [train_size, val_size])\n",
    "\n",
    "train_loader = DataLoader(dataset, batch_size=16, shuffle=True)\n",
    "val_loader = DataLoader(val_dataset, batch_size=16)"
   ]
  },
  {
   "cell_type": "code",
   "execution_count": 18,
   "id": "e3aa9ff1-15f9-4032-ab65-686d1f8f82b9",
   "metadata": {},
   "outputs": [],
   "source": [
    "model = MedicalSpecialistClassifer(model_name = \"../models/gte/\",num_specialists=len(specialist_encoder.classes_), user_feature_dim=2)"
   ]
  },
  {
   "cell_type": "code",
   "execution_count": 19,
   "id": "6be37109-96e7-4ca4-9867-67ae290b8569",
   "metadata": {},
   "outputs": [
    {
     "data": {
      "text/plain": [
       "MedicalSpecialistClassifer(\n",
       "  (reason_encoder): NewModel(\n",
       "    (embeddings): NewEmbeddings(\n",
       "      (word_embeddings): Embedding(250048, 768, padding_idx=1)\n",
       "      (rotary_emb): NTKScalingRotaryEmbedding()\n",
       "      (token_type_embeddings): Embedding(1, 768)\n",
       "      (LayerNorm): LayerNorm((768,), eps=1e-12, elementwise_affine=True)\n",
       "      (dropout): Dropout(p=0.1, inplace=False)\n",
       "    )\n",
       "    (encoder): NewEncoder(\n",
       "      (layer): ModuleList(\n",
       "        (0-11): 12 x NewLayer(\n",
       "          (attention): NewSdpaAttention(\n",
       "            (qkv_proj): Linear(in_features=768, out_features=2304, bias=True)\n",
       "            (dropout): Dropout(p=0.0, inplace=False)\n",
       "            (o_proj): Linear(in_features=768, out_features=768, bias=True)\n",
       "          )\n",
       "          (mlp): NewGatedMLP(\n",
       "            (up_gate_proj): Linear(in_features=768, out_features=6144, bias=False)\n",
       "            (down_proj): Linear(in_features=3072, out_features=768, bias=True)\n",
       "            (act_fn): GELUActivation()\n",
       "            (hidden_dropout): Dropout(p=0.1, inplace=False)\n",
       "          )\n",
       "          (attn_ln): LayerNorm((768,), eps=1e-12, elementwise_affine=True)\n",
       "          (mlp_ln): LayerNorm((768,), eps=1e-12, elementwise_affine=True)\n",
       "          (hidden_dropout): Dropout(p=0.1, inplace=False)\n",
       "        )\n",
       "      )\n",
       "    )\n",
       "  )\n",
       "  (relu): ReLU()\n",
       "  (dropout): Dropout(p=0.2, inplace=False)\n",
       "  (user_encoder): Sequential(\n",
       "    (0): Linear(in_features=2, out_features=128, bias=True)\n",
       "    (1): BatchNorm1d(128, eps=1e-05, momentum=0.1, affine=True, track_running_stats=True)\n",
       "    (2): ReLU()\n",
       "    (3): Dropout(p=0.2, inplace=False)\n",
       "    (4): Linear(in_features=128, out_features=256, bias=True)\n",
       "    (5): ReLU()\n",
       "  )\n",
       "  (hidden_layer1): Sequential(\n",
       "    (0): Linear(in_features=768, out_features=512, bias=True)\n",
       "    (1): BatchNorm1d(512, eps=1e-05, momentum=0.1, affine=True, track_running_stats=True)\n",
       "    (2): ReLU()\n",
       "    (3): Dropout(p=0.2, inplace=False)\n",
       "  )\n",
       "  (level1_output): Linear(in_features=512, out_features=17, bias=True)\n",
       "  (hidden_layer2): Sequential(\n",
       "    (0): Linear(in_features=1536, out_features=768, bias=True)\n",
       "    (1): BatchNorm1d(768, eps=1e-05, momentum=0.1, affine=True, track_running_stats=True)\n",
       "    (2): ReLU()\n",
       "    (3): Dropout(p=0.2, inplace=False)\n",
       "  )\n",
       "  (level2_output): Linear(in_features=768, out_features=17, bias=True)\n",
       ")"
      ]
     },
     "execution_count": 19,
     "metadata": {},
     "output_type": "execute_result"
    }
   ],
   "source": [
    "model"
   ]
  },
  {
   "cell_type": "code",
   "execution_count": 20,
   "id": "04c16068-ed27-4fdd-afbc-dba7ba615d9f",
   "metadata": {},
   "outputs": [],
   "source": [
    "optimizer = torch.optim.AdamW(model.parameters(), lr=2e-5)"
   ]
  },
  {
   "cell_type": "code",
   "execution_count": 21,
   "id": "369618a0-8d9a-4976-8331-82003c9d8796",
   "metadata": {},
   "outputs": [],
   "source": [
    "criterion = nn.CrossEntropyLoss()"
   ]
  },
  {
   "cell_type": "code",
   "execution_count": 22,
   "id": "3c232a3f-ad44-4c20-8de7-47fe31d456ed",
   "metadata": {},
   "outputs": [
    {
     "data": {
      "application/vnd.jupyter.widget-view+json": {
       "model_id": "f9b3dd294e6d442183c132e26c1a20ca",
       "version_major": 2,
       "version_minor": 0
      },
      "text/plain": [
       "  0%|          | 0/30 [00:00<?, ?it/s]"
      ]
     },
     "metadata": {},
     "output_type": "display_data"
    },
    {
     "data": {
      "application/vnd.jupyter.widget-view+json": {
       "model_id": "eb6e1778ac5e44ef9701fcedd069440f",
       "version_major": 2,
       "version_minor": 0
      },
      "text/plain": [
       "Training...:   0%|          | 0/367 [00:00<?, ?it/s]"
      ]
     },
     "metadata": {},
     "output_type": "display_data"
    },
    {
     "name": "stdout",
     "output_type": "stream",
     "text": [
      "Epoch 1/30:\n",
      "Train Loss:  4.7374\n",
      "Level 1 Accuracy: 33.34\n",
      "Final Accuracy (with Level 2 fallback):  54.84%\n",
      "\n"
     ]
    },
    {
     "data": {
      "application/vnd.jupyter.widget-view+json": {
       "model_id": "a9796b292b7c4bf9bfea01d9be465f31",
       "version_major": 2,
       "version_minor": 0
      },
      "text/plain": [
       "Validate...:   0%|          | 0/74 [00:00<?, ?it/s]"
      ]
     },
     "metadata": {},
     "output_type": "display_data"
    },
    {
     "name": "stdout",
     "output_type": "stream",
     "text": [
      "Validation loss: 4.0079\n",
      "Validation level 1 Accuracy: 56.86%\n",
      "Validation Final Accuracy (with Level 2 fallback): 72.55%\n",
      "\n",
      "Model saved.\n"
     ]
    },
    {
     "data": {
      "application/vnd.jupyter.widget-view+json": {
       "model_id": "f5cbfdd5089845c6b04a96cc2e02863c",
       "version_major": 2,
       "version_minor": 0
      },
      "text/plain": [
       "Training...:   0%|          | 0/367 [00:00<?, ?it/s]"
      ]
     },
     "metadata": {},
     "output_type": "display_data"
    },
    {
     "name": "stdout",
     "output_type": "stream",
     "text": [
      "Epoch 2/30:\n",
      "Train Loss:  3.8877\n",
      "Level 1 Accuracy: 56.11\n",
      "Final Accuracy (with Level 2 fallback):  72.12%\n",
      "\n"
     ]
    },
    {
     "data": {
      "application/vnd.jupyter.widget-view+json": {
       "model_id": "de98afb6d2d9483f982a2ce1fee7451b",
       "version_major": 2,
       "version_minor": 0
      },
      "text/plain": [
       "Validate...:   0%|          | 0/74 [00:00<?, ?it/s]"
      ]
     },
     "metadata": {},
     "output_type": "display_data"
    },
    {
     "name": "stdout",
     "output_type": "stream",
     "text": [
      "Validation loss: 3.4837\n",
      "Validation level 1 Accuracy: 62.83%\n",
      "Validation Final Accuracy (with Level 2 fallback): 78.26%\n",
      "\n",
      "Model saved.\n"
     ]
    },
    {
     "data": {
      "application/vnd.jupyter.widget-view+json": {
       "model_id": "63dba21f51ba4ae3b1d7606f368f0ac0",
       "version_major": 2,
       "version_minor": 0
      },
      "text/plain": [
       "Training...:   0%|          | 0/367 [00:00<?, ?it/s]"
      ]
     },
     "metadata": {},
     "output_type": "display_data"
    },
    {
     "name": "stdout",
     "output_type": "stream",
     "text": [
      "Epoch 3/30:\n",
      "Train Loss:  3.5952\n",
      "Level 1 Accuracy: 61.41\n",
      "Final Accuracy (with Level 2 fallback):  75.27%\n",
      "\n"
     ]
    },
    {
     "data": {
      "application/vnd.jupyter.widget-view+json": {
       "model_id": "906eaec835544ba4b737fa4ce49868b2",
       "version_major": 2,
       "version_minor": 0
      },
      "text/plain": [
       "Validate...:   0%|          | 0/74 [00:00<?, ?it/s]"
      ]
     },
     "metadata": {},
     "output_type": "display_data"
    },
    {
     "name": "stdout",
     "output_type": "stream",
     "text": [
      "Validation loss: 3.2384\n",
      "Validation level 1 Accuracy: 65.81%\n",
      "Validation Final Accuracy (with Level 2 fallback): 79.88%\n",
      "\n",
      "Model saved.\n"
     ]
    },
    {
     "data": {
      "application/vnd.jupyter.widget-view+json": {
       "model_id": "dfb79cab9bc84ae78f46c64970b18b80",
       "version_major": 2,
       "version_minor": 0
      },
      "text/plain": [
       "Training...:   0%|          | 0/367 [00:00<?, ?it/s]"
      ]
     },
     "metadata": {},
     "output_type": "display_data"
    },
    {
     "name": "stdout",
     "output_type": "stream",
     "text": [
      "Epoch 4/30:\n",
      "Train Loss:  3.4004\n",
      "Level 1 Accuracy: 63.78\n",
      "Final Accuracy (with Level 2 fallback):  77.20%\n",
      "\n"
     ]
    },
    {
     "data": {
      "application/vnd.jupyter.widget-view+json": {
       "model_id": "5f874c869c124db2bb8231e4b9a19e3b",
       "version_major": 2,
       "version_minor": 0
      },
      "text/plain": [
       "Validate...:   0%|          | 0/74 [00:00<?, ?it/s]"
      ]
     },
     "metadata": {},
     "output_type": "display_data"
    },
    {
     "name": "stdout",
     "output_type": "stream",
     "text": [
      "Validation loss: 3.0541\n",
      "Validation level 1 Accuracy: 66.58%\n",
      "Validation Final Accuracy (with Level 2 fallback): 80.90%\n",
      "\n",
      "Model saved.\n"
     ]
    },
    {
     "data": {
      "application/vnd.jupyter.widget-view+json": {
       "model_id": "9ec475a86b244a96970e32a8bb102a47",
       "version_major": 2,
       "version_minor": 0
      },
      "text/plain": [
       "Training...:   0%|          | 0/367 [00:00<?, ?it/s]"
      ]
     },
     "metadata": {},
     "output_type": "display_data"
    },
    {
     "name": "stdout",
     "output_type": "stream",
     "text": [
      "Epoch 5/30:\n",
      "Train Loss:  3.2556\n",
      "Level 1 Accuracy: 64.43\n",
      "Final Accuracy (with Level 2 fallback):  77.76%\n",
      "\n"
     ]
    },
    {
     "data": {
      "application/vnd.jupyter.widget-view+json": {
       "model_id": "e3cba9ffa2134a77bbc38e0e13f19e44",
       "version_major": 2,
       "version_minor": 0
      },
      "text/plain": [
       "Validate...:   0%|          | 0/74 [00:00<?, ?it/s]"
      ]
     },
     "metadata": {},
     "output_type": "display_data"
    },
    {
     "name": "stdout",
     "output_type": "stream",
     "text": [
      "Validation loss: 2.9233\n",
      "Validation level 1 Accuracy: 67.01%\n",
      "Validation Final Accuracy (with Level 2 fallback): 82.78%\n",
      "\n",
      "Model saved.\n"
     ]
    },
    {
     "data": {
      "application/vnd.jupyter.widget-view+json": {
       "model_id": "5db982b9218c41b9b526441b3f195cf8",
       "version_major": 2,
       "version_minor": 0
      },
      "text/plain": [
       "Training...:   0%|          | 0/367 [00:00<?, ?it/s]"
      ]
     },
     "metadata": {},
     "output_type": "display_data"
    },
    {
     "name": "stdout",
     "output_type": "stream",
     "text": [
      "Epoch 6/30:\n",
      "Train Loss:  3.1808\n",
      "Level 1 Accuracy: 64.63\n",
      "Final Accuracy (with Level 2 fallback):  78.27%\n",
      "\n"
     ]
    },
    {
     "data": {
      "application/vnd.jupyter.widget-view+json": {
       "model_id": "2cd7bcefbe57485c84a78bd4568900f5",
       "version_major": 2,
       "version_minor": 0
      },
      "text/plain": [
       "Validate...:   0%|          | 0/74 [00:00<?, ?it/s]"
      ]
     },
     "metadata": {},
     "output_type": "display_data"
    },
    {
     "name": "stdout",
     "output_type": "stream",
     "text": [
      "Validation loss: 2.8110\n",
      "Validation level 1 Accuracy: 68.12%\n",
      "Validation Final Accuracy (with Level 2 fallback): 82.61%\n",
      "\n",
      "Model saved.\n"
     ]
    },
    {
     "data": {
      "application/vnd.jupyter.widget-view+json": {
       "model_id": "6b9d7e0728de4528a6c8e67f3c7b5194",
       "version_major": 2,
       "version_minor": 0
      },
      "text/plain": [
       "Training...:   0%|          | 0/367 [00:00<?, ?it/s]"
      ]
     },
     "metadata": {},
     "output_type": "display_data"
    },
    {
     "name": "stdout",
     "output_type": "stream",
     "text": [
      "Epoch 7/30:\n",
      "Train Loss:  3.0775\n",
      "Level 1 Accuracy: 66.05\n",
      "Final Accuracy (with Level 2 fallback):  79.67%\n",
      "\n"
     ]
    },
    {
     "data": {
      "application/vnd.jupyter.widget-view+json": {
       "model_id": "83921e22c90344cba857a8b63f0780c8",
       "version_major": 2,
       "version_minor": 0
      },
      "text/plain": [
       "Validate...:   0%|          | 0/74 [00:00<?, ?it/s]"
      ]
     },
     "metadata": {},
     "output_type": "display_data"
    },
    {
     "name": "stdout",
     "output_type": "stream",
     "text": [
      "Validation loss: 2.7269\n",
      "Validation level 1 Accuracy: 69.65%\n",
      "Validation Final Accuracy (with Level 2 fallback): 84.57%\n",
      "\n",
      "Model saved.\n"
     ]
    },
    {
     "data": {
      "application/vnd.jupyter.widget-view+json": {
       "model_id": "02cbab827fcc43f482aa61dee8df7ab2",
       "version_major": 2,
       "version_minor": 0
      },
      "text/plain": [
       "Training...:   0%|          | 0/367 [00:00<?, ?it/s]"
      ]
     },
     "metadata": {},
     "output_type": "display_data"
    },
    {
     "name": "stdout",
     "output_type": "stream",
     "text": [
      "Epoch 8/30:\n",
      "Train Loss:  3.0175\n",
      "Level 1 Accuracy: 66.56\n",
      "Final Accuracy (with Level 2 fallback):  80.71%\n",
      "\n"
     ]
    },
    {
     "data": {
      "application/vnd.jupyter.widget-view+json": {
       "model_id": "87abb526e8774a9aa6a9a48452cf274c",
       "version_major": 2,
       "version_minor": 0
      },
      "text/plain": [
       "Validate...:   0%|          | 0/74 [00:00<?, ?it/s]"
      ]
     },
     "metadata": {},
     "output_type": "display_data"
    },
    {
     "name": "stdout",
     "output_type": "stream",
     "text": [
      "Validation loss: 2.6276\n",
      "Validation level 1 Accuracy: 69.74%\n",
      "Validation Final Accuracy (with Level 2 fallback): 86.02%\n",
      "\n",
      "Model saved.\n"
     ]
    },
    {
     "data": {
      "application/vnd.jupyter.widget-view+json": {
       "model_id": "d20d40c5519444c3961947fe5ebd9f5a",
       "version_major": 2,
       "version_minor": 0
      },
      "text/plain": [
       "Training...:   0%|          | 0/367 [00:00<?, ?it/s]"
      ]
     },
     "metadata": {},
     "output_type": "display_data"
    },
    {
     "name": "stdout",
     "output_type": "stream",
     "text": [
      "Epoch 9/30:\n",
      "Train Loss:  2.9254\n",
      "Level 1 Accuracy: 67.19\n",
      "Final Accuracy (with Level 2 fallback):  81.21%\n",
      "\n"
     ]
    },
    {
     "data": {
      "application/vnd.jupyter.widget-view+json": {
       "model_id": "2be08b28312744e68dca688ebc76d2af",
       "version_major": 2,
       "version_minor": 0
      },
      "text/plain": [
       "Validate...:   0%|          | 0/74 [00:00<?, ?it/s]"
      ]
     },
     "metadata": {},
     "output_type": "display_data"
    },
    {
     "name": "stdout",
     "output_type": "stream",
     "text": [
      "Validation loss: 2.5484\n",
      "Validation level 1 Accuracy: 69.65%\n",
      "Validation Final Accuracy (with Level 2 fallback): 85.93%\n",
      "\n",
      "Model saved.\n"
     ]
    },
    {
     "data": {
      "application/vnd.jupyter.widget-view+json": {
       "model_id": "d3234eb52008433a9d5e0f534158292e",
       "version_major": 2,
       "version_minor": 0
      },
      "text/plain": [
       "Training...:   0%|          | 0/367 [00:00<?, ?it/s]"
      ]
     },
     "metadata": {},
     "output_type": "display_data"
    },
    {
     "name": "stdout",
     "output_type": "stream",
     "text": [
      "Epoch 10/30:\n",
      "Train Loss:  2.9076\n",
      "Level 1 Accuracy: 66.73\n",
      "Final Accuracy (with Level 2 fallback):  81.36%\n",
      "\n"
     ]
    },
    {
     "data": {
      "application/vnd.jupyter.widget-view+json": {
       "model_id": "49e20225f15c44ceb62322cbbed2f1f2",
       "version_major": 2,
       "version_minor": 0
      },
      "text/plain": [
       "Validate...:   0%|          | 0/74 [00:00<?, ?it/s]"
      ]
     },
     "metadata": {},
     "output_type": "display_data"
    },
    {
     "name": "stdout",
     "output_type": "stream",
     "text": [
      "Validation loss: 2.4932\n",
      "Validation level 1 Accuracy: 70.08%\n",
      "Validation Final Accuracy (with Level 2 fallback): 87.04%\n",
      "\n",
      "Model saved.\n"
     ]
    },
    {
     "data": {
      "application/vnd.jupyter.widget-view+json": {
       "model_id": "f39979e8617c4d7394cf649327395213",
       "version_major": 2,
       "version_minor": 0
      },
      "text/plain": [
       "Training...:   0%|          | 0/367 [00:00<?, ?it/s]"
      ]
     },
     "metadata": {},
     "output_type": "display_data"
    },
    {
     "name": "stdout",
     "output_type": "stream",
     "text": [
      "Epoch 11/30:\n",
      "Train Loss:  2.8206\n",
      "Level 1 Accuracy: 67.85\n",
      "Final Accuracy (with Level 2 fallback):  82.44%\n",
      "\n"
     ]
    },
    {
     "data": {
      "application/vnd.jupyter.widget-view+json": {
       "model_id": "a7f307bc50054ba5bd59f427f106fdc7",
       "version_major": 2,
       "version_minor": 0
      },
      "text/plain": [
       "Validate...:   0%|          | 0/74 [00:00<?, ?it/s]"
      ]
     },
     "metadata": {},
     "output_type": "display_data"
    },
    {
     "name": "stdout",
     "output_type": "stream",
     "text": [
      "Validation loss: 2.4397\n",
      "Validation level 1 Accuracy: 70.76%\n",
      "Validation Final Accuracy (with Level 2 fallback): 87.72%\n",
      "\n",
      "Model saved.\n"
     ]
    },
    {
     "data": {
      "application/vnd.jupyter.widget-view+json": {
       "model_id": "2972ca49d2df48649c4e0a0e5762c348",
       "version_major": 2,
       "version_minor": 0
      },
      "text/plain": [
       "Training...:   0%|          | 0/367 [00:00<?, ?it/s]"
      ]
     },
     "metadata": {},
     "output_type": "display_data"
    },
    {
     "name": "stdout",
     "output_type": "stream",
     "text": [
      "Epoch 12/30:\n",
      "Train Loss:  2.7705\n",
      "Level 1 Accuracy: 67.70\n",
      "Final Accuracy (with Level 2 fallback):  83.27%\n",
      "\n"
     ]
    },
    {
     "data": {
      "application/vnd.jupyter.widget-view+json": {
       "model_id": "43f40ad20cdc459ca93bebc230a339da",
       "version_major": 2,
       "version_minor": 0
      },
      "text/plain": [
       "Validate...:   0%|          | 0/74 [00:00<?, ?it/s]"
      ]
     },
     "metadata": {},
     "output_type": "display_data"
    },
    {
     "name": "stdout",
     "output_type": "stream",
     "text": [
      "Validation loss: 2.3724\n",
      "Validation level 1 Accuracy: 71.10%\n",
      "Validation Final Accuracy (with Level 2 fallback): 88.24%\n",
      "\n",
      "Model saved.\n"
     ]
    },
    {
     "data": {
      "application/vnd.jupyter.widget-view+json": {
       "model_id": "d078fb0fa8c64bdc8b53544d40f09ee2",
       "version_major": 2,
       "version_minor": 0
      },
      "text/plain": [
       "Training...:   0%|          | 0/367 [00:00<?, ?it/s]"
      ]
     },
     "metadata": {},
     "output_type": "display_data"
    },
    {
     "name": "stdout",
     "output_type": "stream",
     "text": [
      "Epoch 13/30:\n",
      "Train Loss:  2.7072\n",
      "Level 1 Accuracy: 67.77\n",
      "Final Accuracy (with Level 2 fallback):  83.25%\n",
      "\n"
     ]
    },
    {
     "data": {
      "application/vnd.jupyter.widget-view+json": {
       "model_id": "156bf214041748a7a89862ac5dac786b",
       "version_major": 2,
       "version_minor": 0
      },
      "text/plain": [
       "Validate...:   0%|          | 0/74 [00:00<?, ?it/s]"
      ]
     },
     "metadata": {},
     "output_type": "display_data"
    },
    {
     "name": "stdout",
     "output_type": "stream",
     "text": [
      "Validation loss: 2.3138\n",
      "Validation level 1 Accuracy: 71.01%\n",
      "Validation Final Accuracy (with Level 2 fallback): 89.26%\n",
      "\n",
      "Model saved.\n"
     ]
    },
    {
     "data": {
      "application/vnd.jupyter.widget-view+json": {
       "model_id": "665b19fd4d8449839a519245c70b028d",
       "version_major": 2,
       "version_minor": 0
      },
      "text/plain": [
       "Training...:   0%|          | 0/367 [00:00<?, ?it/s]"
      ]
     },
     "metadata": {},
     "output_type": "display_data"
    },
    {
     "name": "stdout",
     "output_type": "stream",
     "text": [
      "Epoch 14/30:\n",
      "Train Loss:  2.6743\n",
      "Level 1 Accuracy: 68.37\n",
      "Final Accuracy (with Level 2 fallback):  84.06%\n",
      "\n"
     ]
    },
    {
     "data": {
      "application/vnd.jupyter.widget-view+json": {
       "model_id": "c6fc05202eee4d8fac4a7200db88334e",
       "version_major": 2,
       "version_minor": 0
      },
      "text/plain": [
       "Validate...:   0%|          | 0/74 [00:00<?, ?it/s]"
      ]
     },
     "metadata": {},
     "output_type": "display_data"
    },
    {
     "name": "stdout",
     "output_type": "stream",
     "text": [
      "Validation loss: 2.2554\n",
      "Validation level 1 Accuracy: 71.44%\n",
      "Validation Final Accuracy (with Level 2 fallback): 89.77%\n",
      "\n",
      "Model saved.\n"
     ]
    },
    {
     "data": {
      "application/vnd.jupyter.widget-view+json": {
       "model_id": "f8e1c7ae49784eac9c51e9db0c27f381",
       "version_major": 2,
       "version_minor": 0
      },
      "text/plain": [
       "Training...:   0%|          | 0/367 [00:00<?, ?it/s]"
      ]
     },
     "metadata": {},
     "output_type": "display_data"
    },
    {
     "name": "stdout",
     "output_type": "stream",
     "text": [
      "Epoch 15/30:\n",
      "Train Loss:  2.6853\n",
      "Level 1 Accuracy: 68.40\n",
      "Final Accuracy (with Level 2 fallback):  83.99%\n",
      "\n"
     ]
    },
    {
     "data": {
      "application/vnd.jupyter.widget-view+json": {
       "model_id": "82935d235e8a44be8c3600663cfbc28a",
       "version_major": 2,
       "version_minor": 0
      },
      "text/plain": [
       "Validate...:   0%|          | 0/74 [00:00<?, ?it/s]"
      ]
     },
     "metadata": {},
     "output_type": "display_data"
    },
    {
     "name": "stdout",
     "output_type": "stream",
     "text": [
      "Validation loss: 2.2108\n",
      "Validation level 1 Accuracy: 71.44%\n",
      "Validation Final Accuracy (with Level 2 fallback): 90.79%\n",
      "\n",
      "Model saved.\n"
     ]
    },
    {
     "data": {
      "application/vnd.jupyter.widget-view+json": {
       "model_id": "5cdea4895bb04e23b801424d1f9e78df",
       "version_major": 2,
       "version_minor": 0
      },
      "text/plain": [
       "Training...:   0%|          | 0/367 [00:00<?, ?it/s]"
      ]
     },
     "metadata": {},
     "output_type": "display_data"
    },
    {
     "name": "stdout",
     "output_type": "stream",
     "text": [
      "Epoch 16/30:\n",
      "Train Loss:  2.6309\n",
      "Level 1 Accuracy: 68.83\n",
      "Final Accuracy (with Level 2 fallback):  84.07%\n",
      "\n"
     ]
    },
    {
     "data": {
      "application/vnd.jupyter.widget-view+json": {
       "model_id": "c4fa9e3a0bba4c10afbee80631f5c3a2",
       "version_major": 2,
       "version_minor": 0
      },
      "text/plain": [
       "Validate...:   0%|          | 0/74 [00:00<?, ?it/s]"
      ]
     },
     "metadata": {},
     "output_type": "display_data"
    },
    {
     "name": "stdout",
     "output_type": "stream",
     "text": [
      "Validation loss: 2.1716\n",
      "Validation level 1 Accuracy: 71.95%\n",
      "Validation Final Accuracy (with Level 2 fallback): 91.39%\n",
      "\n",
      "Model saved.\n"
     ]
    },
    {
     "data": {
      "application/vnd.jupyter.widget-view+json": {
       "model_id": "8e92b3643c564666bc75e2cd2aa61d5a",
       "version_major": 2,
       "version_minor": 0
      },
      "text/plain": [
       "Training...:   0%|          | 0/367 [00:00<?, ?it/s]"
      ]
     },
     "metadata": {},
     "output_type": "display_data"
    },
    {
     "name": "stdout",
     "output_type": "stream",
     "text": [
      "Epoch 17/30:\n",
      "Train Loss:  2.5705\n",
      "Level 1 Accuracy: 69.25\n",
      "Final Accuracy (with Level 2 fallback):  85.20%\n",
      "\n"
     ]
    },
    {
     "data": {
      "application/vnd.jupyter.widget-view+json": {
       "model_id": "7d7ce9d672974b928d80592cffbd0ab1",
       "version_major": 2,
       "version_minor": 0
      },
      "text/plain": [
       "Validate...:   0%|          | 0/74 [00:00<?, ?it/s]"
      ]
     },
     "metadata": {},
     "output_type": "display_data"
    },
    {
     "name": "stdout",
     "output_type": "stream",
     "text": [
      "Validation loss: 2.1281\n",
      "Validation level 1 Accuracy: 72.29%\n",
      "Validation Final Accuracy (with Level 2 fallback): 91.05%\n",
      "\n",
      "Model saved.\n"
     ]
    },
    {
     "data": {
      "application/vnd.jupyter.widget-view+json": {
       "model_id": "8cc1eef06e2c4193b1f675f6f1711d32",
       "version_major": 2,
       "version_minor": 0
      },
      "text/plain": [
       "Training...:   0%|          | 0/367 [00:00<?, ?it/s]"
      ]
     },
     "metadata": {},
     "output_type": "display_data"
    },
    {
     "name": "stdout",
     "output_type": "stream",
     "text": [
      "Epoch 18/30:\n",
      "Train Loss:  2.5535\n",
      "Level 1 Accuracy: 69.29\n",
      "Final Accuracy (with Level 2 fallback):  85.59%\n",
      "\n"
     ]
    },
    {
     "data": {
      "application/vnd.jupyter.widget-view+json": {
       "model_id": "7ad812fa0b0a42f29193487b15a28856",
       "version_major": 2,
       "version_minor": 0
      },
      "text/plain": [
       "Validate...:   0%|          | 0/74 [00:00<?, ?it/s]"
      ]
     },
     "metadata": {},
     "output_type": "display_data"
    },
    {
     "name": "stdout",
     "output_type": "stream",
     "text": [
      "Validation loss: 2.0819\n",
      "Validation level 1 Accuracy: 71.87%\n",
      "Validation Final Accuracy (with Level 2 fallback): 91.30%\n",
      "\n",
      "Model saved.\n"
     ]
    },
    {
     "data": {
      "application/vnd.jupyter.widget-view+json": {
       "model_id": "27e650518cc045e9bbe994f103e58d22",
       "version_major": 2,
       "version_minor": 0
      },
      "text/plain": [
       "Training...:   0%|          | 0/367 [00:00<?, ?it/s]"
      ]
     },
     "metadata": {},
     "output_type": "display_data"
    },
    {
     "name": "stdout",
     "output_type": "stream",
     "text": [
      "Epoch 19/30:\n",
      "Train Loss:  2.5480\n",
      "Level 1 Accuracy: 69.15\n",
      "Final Accuracy (with Level 2 fallback):  85.52%\n",
      "\n"
     ]
    },
    {
     "data": {
      "application/vnd.jupyter.widget-view+json": {
       "model_id": "532cdc5f62b5454fa694a060a30028c6",
       "version_major": 2,
       "version_minor": 0
      },
      "text/plain": [
       "Validate...:   0%|          | 0/74 [00:00<?, ?it/s]"
      ]
     },
     "metadata": {},
     "output_type": "display_data"
    },
    {
     "name": "stdout",
     "output_type": "stream",
     "text": [
      "Validation loss: 2.0201\n",
      "Validation level 1 Accuracy: 72.55%\n",
      "Validation Final Accuracy (with Level 2 fallback): 92.92%\n",
      "\n",
      "Model saved.\n"
     ]
    },
    {
     "data": {
      "application/vnd.jupyter.widget-view+json": {
       "model_id": "9925621ff644479bb9f8651e729084c7",
       "version_major": 2,
       "version_minor": 0
      },
      "text/plain": [
       "Training...:   0%|          | 0/367 [00:00<?, ?it/s]"
      ]
     },
     "metadata": {},
     "output_type": "display_data"
    },
    {
     "name": "stdout",
     "output_type": "stream",
     "text": [
      "Epoch 20/30:\n",
      "Train Loss:  2.4663\n",
      "Level 1 Accuracy: 69.80\n",
      "Final Accuracy (with Level 2 fallback):  86.15%\n",
      "\n"
     ]
    },
    {
     "data": {
      "application/vnd.jupyter.widget-view+json": {
       "model_id": "69899c82fcb74fa48d1ba55892361ab0",
       "version_major": 2,
       "version_minor": 0
      },
      "text/plain": [
       "Validate...:   0%|          | 0/74 [00:00<?, ?it/s]"
      ]
     },
     "metadata": {},
     "output_type": "display_data"
    },
    {
     "name": "stdout",
     "output_type": "stream",
     "text": [
      "Validation loss: 1.9872\n",
      "Validation level 1 Accuracy: 72.89%\n",
      "Validation Final Accuracy (with Level 2 fallback): 93.01%\n",
      "\n",
      "Model saved.\n"
     ]
    },
    {
     "data": {
      "application/vnd.jupyter.widget-view+json": {
       "model_id": "6a5154ce4e25477e990839b14117dfec",
       "version_major": 2,
       "version_minor": 0
      },
      "text/plain": [
       "Training...:   0%|          | 0/367 [00:00<?, ?it/s]"
      ]
     },
     "metadata": {},
     "output_type": "display_data"
    },
    {
     "name": "stdout",
     "output_type": "stream",
     "text": [
      "Epoch 21/30:\n",
      "Train Loss:  2.4576\n",
      "Level 1 Accuracy: 69.97\n",
      "Final Accuracy (with Level 2 fallback):  86.53%\n",
      "\n"
     ]
    },
    {
     "data": {
      "application/vnd.jupyter.widget-view+json": {
       "model_id": "eb6cb85ee00249f0ac7d1977570fe278",
       "version_major": 2,
       "version_minor": 0
      },
      "text/plain": [
       "Validate...:   0%|          | 0/74 [00:00<?, ?it/s]"
      ]
     },
     "metadata": {},
     "output_type": "display_data"
    },
    {
     "name": "stdout",
     "output_type": "stream",
     "text": [
      "Validation loss: 1.9511\n",
      "Validation level 1 Accuracy: 72.89%\n",
      "Validation Final Accuracy (with Level 2 fallback): 93.27%\n",
      "\n",
      "Model saved.\n"
     ]
    },
    {
     "data": {
      "application/vnd.jupyter.widget-view+json": {
       "model_id": "4e76e1d33a584cd7a7640be814e70a8f",
       "version_major": 2,
       "version_minor": 0
      },
      "text/plain": [
       "Training...:   0%|          | 0/367 [00:00<?, ?it/s]"
      ]
     },
     "metadata": {},
     "output_type": "display_data"
    },
    {
     "name": "stdout",
     "output_type": "stream",
     "text": [
      "Epoch 22/30:\n",
      "Train Loss:  2.4266\n",
      "Level 1 Accuracy: 69.49\n",
      "Final Accuracy (with Level 2 fallback):  86.26%\n",
      "\n"
     ]
    },
    {
     "data": {
      "application/vnd.jupyter.widget-view+json": {
       "model_id": "095aaa7d09bb412a85dcbe8f7a45f65d",
       "version_major": 2,
       "version_minor": 0
      },
      "text/plain": [
       "Validate...:   0%|          | 0/74 [00:00<?, ?it/s]"
      ]
     },
     "metadata": {},
     "output_type": "display_data"
    },
    {
     "name": "stdout",
     "output_type": "stream",
     "text": [
      "Validation loss: 1.9194\n",
      "Validation level 1 Accuracy: 73.06%\n",
      "Validation Final Accuracy (with Level 2 fallback): 92.75%\n",
      "\n",
      "Model saved.\n"
     ]
    },
    {
     "data": {
      "application/vnd.jupyter.widget-view+json": {
       "model_id": "4aa5f04a605a45d4ae66ffe6dbb0c53f",
       "version_major": 2,
       "version_minor": 0
      },
      "text/plain": [
       "Training...:   0%|          | 0/367 [00:00<?, ?it/s]"
      ]
     },
     "metadata": {},
     "output_type": "display_data"
    },
    {
     "name": "stdout",
     "output_type": "stream",
     "text": [
      "Epoch 23/30:\n",
      "Train Loss:  2.3813\n",
      "Level 1 Accuracy: 70.53\n",
      "Final Accuracy (with Level 2 fallback):  87.62%\n",
      "\n"
     ]
    },
    {
     "data": {
      "application/vnd.jupyter.widget-view+json": {
       "model_id": "c3e03a57fa88435f9a4375556da130e4",
       "version_major": 2,
       "version_minor": 0
      },
      "text/plain": [
       "Validate...:   0%|          | 0/74 [00:00<?, ?it/s]"
      ]
     },
     "metadata": {},
     "output_type": "display_data"
    },
    {
     "name": "stdout",
     "output_type": "stream",
     "text": [
      "Validation loss: 1.8942\n",
      "Validation level 1 Accuracy: 73.06%\n",
      "Validation Final Accuracy (with Level 2 fallback): 93.52%\n",
      "\n",
      "Model saved.\n"
     ]
    },
    {
     "data": {
      "application/vnd.jupyter.widget-view+json": {
       "model_id": "97608c6bbc944e1f81b497647ace21a6",
       "version_major": 2,
       "version_minor": 0
      },
      "text/plain": [
       "Training...:   0%|          | 0/367 [00:00<?, ?it/s]"
      ]
     },
     "metadata": {},
     "output_type": "display_data"
    },
    {
     "name": "stdout",
     "output_type": "stream",
     "text": [
      "Epoch 24/30:\n",
      "Train Loss:  2.3636\n",
      "Level 1 Accuracy: 69.97\n",
      "Final Accuracy (with Level 2 fallback):  87.43%\n",
      "\n"
     ]
    },
    {
     "data": {
      "application/vnd.jupyter.widget-view+json": {
       "model_id": "472270c35936442eb9ffc85ee6944bb4",
       "version_major": 2,
       "version_minor": 0
      },
      "text/plain": [
       "Validate...:   0%|          | 0/74 [00:00<?, ?it/s]"
      ]
     },
     "metadata": {},
     "output_type": "display_data"
    },
    {
     "name": "stdout",
     "output_type": "stream",
     "text": [
      "Validation loss: 1.8475\n",
      "Validation level 1 Accuracy: 73.23%\n",
      "Validation Final Accuracy (with Level 2 fallback): 94.03%\n",
      "\n",
      "Model saved.\n"
     ]
    },
    {
     "data": {
      "application/vnd.jupyter.widget-view+json": {
       "model_id": "5a4eb8872fb34766b6f77eb613bdb903",
       "version_major": 2,
       "version_minor": 0
      },
      "text/plain": [
       "Training...:   0%|          | 0/367 [00:00<?, ?it/s]"
      ]
     },
     "metadata": {},
     "output_type": "display_data"
    },
    {
     "name": "stdout",
     "output_type": "stream",
     "text": [
      "Epoch 25/30:\n",
      "Train Loss:  2.3461\n",
      "Level 1 Accuracy: 70.41\n",
      "Final Accuracy (with Level 2 fallback):  87.76%\n",
      "\n"
     ]
    },
    {
     "data": {
      "application/vnd.jupyter.widget-view+json": {
       "model_id": "aacedbca37ad4bddaa48738f6038410c",
       "version_major": 2,
       "version_minor": 0
      },
      "text/plain": [
       "Validate...:   0%|          | 0/74 [00:00<?, ?it/s]"
      ]
     },
     "metadata": {},
     "output_type": "display_data"
    },
    {
     "name": "stdout",
     "output_type": "stream",
     "text": [
      "Validation loss: 1.7969\n",
      "Validation level 1 Accuracy: 73.57%\n",
      "Validation Final Accuracy (with Level 2 fallback): 94.29%\n",
      "\n",
      "Model saved.\n"
     ]
    },
    {
     "data": {
      "application/vnd.jupyter.widget-view+json": {
       "model_id": "bb8e2de2e4a941ed85972193de60b700",
       "version_major": 2,
       "version_minor": 0
      },
      "text/plain": [
       "Training...:   0%|          | 0/367 [00:00<?, ?it/s]"
      ]
     },
     "metadata": {},
     "output_type": "display_data"
    },
    {
     "name": "stdout",
     "output_type": "stream",
     "text": [
      "Epoch 26/30:\n",
      "Train Loss:  2.3041\n",
      "Level 1 Accuracy: 71.06\n",
      "Final Accuracy (with Level 2 fallback):  88.32%\n",
      "\n"
     ]
    },
    {
     "data": {
      "application/vnd.jupyter.widget-view+json": {
       "model_id": "99a0dfd9000c40dcaedcfa49abc1f490",
       "version_major": 2,
       "version_minor": 0
      },
      "text/plain": [
       "Validate...:   0%|          | 0/74 [00:00<?, ?it/s]"
      ]
     },
     "metadata": {},
     "output_type": "display_data"
    },
    {
     "name": "stdout",
     "output_type": "stream",
     "text": [
      "Validation loss: 1.7560\n",
      "Validation level 1 Accuracy: 73.91%\n",
      "Validation Final Accuracy (with Level 2 fallback): 94.54%\n",
      "\n",
      "Model saved.\n"
     ]
    },
    {
     "data": {
      "application/vnd.jupyter.widget-view+json": {
       "model_id": "c89cb943fdbe41faa1230d4086f5dd38",
       "version_major": 2,
       "version_minor": 0
      },
      "text/plain": [
       "Training...:   0%|          | 0/367 [00:00<?, ?it/s]"
      ]
     },
     "metadata": {},
     "output_type": "display_data"
    },
    {
     "name": "stdout",
     "output_type": "stream",
     "text": [
      "Epoch 27/30:\n",
      "Train Loss:  2.2685\n",
      "Level 1 Accuracy: 71.04\n",
      "Final Accuracy (with Level 2 fallback):  88.47%\n",
      "\n"
     ]
    },
    {
     "data": {
      "application/vnd.jupyter.widget-view+json": {
       "model_id": "34ccc177e1554049abbfe2970289ed4e",
       "version_major": 2,
       "version_minor": 0
      },
      "text/plain": [
       "Validate...:   0%|          | 0/74 [00:00<?, ?it/s]"
      ]
     },
     "metadata": {},
     "output_type": "display_data"
    },
    {
     "name": "stdout",
     "output_type": "stream",
     "text": [
      "Validation loss: 1.7222\n",
      "Validation level 1 Accuracy: 74.60%\n",
      "Validation Final Accuracy (with Level 2 fallback): 95.06%\n",
      "\n",
      "Model saved.\n"
     ]
    },
    {
     "data": {
      "application/vnd.jupyter.widget-view+json": {
       "model_id": "ba604b016e2645548336651d9f405dac",
       "version_major": 2,
       "version_minor": 0
      },
      "text/plain": [
       "Training...:   0%|          | 0/367 [00:00<?, ?it/s]"
      ]
     },
     "metadata": {},
     "output_type": "display_data"
    },
    {
     "name": "stdout",
     "output_type": "stream",
     "text": [
      "Epoch 28/30:\n",
      "Train Loss:  2.2585\n",
      "Level 1 Accuracy: 71.09\n",
      "Final Accuracy (with Level 2 fallback):  88.28%\n",
      "\n"
     ]
    },
    {
     "data": {
      "application/vnd.jupyter.widget-view+json": {
       "model_id": "72b078ea9ebe4dc1ae4f102a9a759032",
       "version_major": 2,
       "version_minor": 0
      },
      "text/plain": [
       "Validate...:   0%|          | 0/74 [00:00<?, ?it/s]"
      ]
     },
     "metadata": {},
     "output_type": "display_data"
    },
    {
     "name": "stdout",
     "output_type": "stream",
     "text": [
      "Validation loss: 1.6924\n",
      "Validation level 1 Accuracy: 74.17%\n",
      "Validation Final Accuracy (with Level 2 fallback): 94.80%\n",
      "\n",
      "Model saved.\n"
     ]
    },
    {
     "data": {
      "application/vnd.jupyter.widget-view+json": {
       "model_id": "9b659a5c68bb4285b47b2974d71f0771",
       "version_major": 2,
       "version_minor": 0
      },
      "text/plain": [
       "Training...:   0%|          | 0/367 [00:00<?, ?it/s]"
      ]
     },
     "metadata": {},
     "output_type": "display_data"
    },
    {
     "name": "stdout",
     "output_type": "stream",
     "text": [
      "Epoch 29/30:\n",
      "Train Loss:  2.2488\n",
      "Level 1 Accuracy: 71.66\n",
      "Final Accuracy (with Level 2 fallback):  88.85%\n",
      "\n"
     ]
    },
    {
     "data": {
      "application/vnd.jupyter.widget-view+json": {
       "model_id": "9ad6b0540a5b4d149a12c92599142df8",
       "version_major": 2,
       "version_minor": 0
      },
      "text/plain": [
       "Validate...:   0%|          | 0/74 [00:00<?, ?it/s]"
      ]
     },
     "metadata": {},
     "output_type": "display_data"
    },
    {
     "name": "stdout",
     "output_type": "stream",
     "text": [
      "Validation loss: 1.6410\n",
      "Validation level 1 Accuracy: 74.42%\n",
      "Validation Final Accuracy (with Level 2 fallback): 95.74%\n",
      "\n",
      "Model saved.\n"
     ]
    },
    {
     "data": {
      "application/vnd.jupyter.widget-view+json": {
       "model_id": "33ed4015b1c9415dac047c4635c3aa82",
       "version_major": 2,
       "version_minor": 0
      },
      "text/plain": [
       "Training...:   0%|          | 0/367 [00:00<?, ?it/s]"
      ]
     },
     "metadata": {},
     "output_type": "display_data"
    },
    {
     "name": "stdout",
     "output_type": "stream",
     "text": [
      "Epoch 30/30:\n",
      "Train Loss:  2.1954\n",
      "Level 1 Accuracy: 71.73\n",
      "Final Accuracy (with Level 2 fallback):  89.34%\n",
      "\n"
     ]
    },
    {
     "data": {
      "application/vnd.jupyter.widget-view+json": {
       "model_id": "df9f060f7c6d46ac867a53f0e6a75986",
       "version_major": 2,
       "version_minor": 0
      },
      "text/plain": [
       "Validate...:   0%|          | 0/74 [00:00<?, ?it/s]"
      ]
     },
     "metadata": {},
     "output_type": "display_data"
    },
    {
     "name": "stdout",
     "output_type": "stream",
     "text": [
      "Validation loss: 1.6189\n",
      "Validation level 1 Accuracy: 75.45%\n",
      "Validation Final Accuracy (with Level 2 fallback): 96.42%\n",
      "\n",
      "Model saved.\n"
     ]
    }
   ],
   "source": [
    "train(model, train_loader, val_loader, optimizer, criterion, device, num_epochs=30, patience=3)"
   ]
  },
  {
   "cell_type": "code",
   "execution_count": 69,
   "id": "3543f0bc-d6da-4698-8185-722e51e8505d",
   "metadata": {},
   "outputs": [],
   "source": [
    "new_model = MedicalSpecialistClassifer(num_specialists=len(specialist_encoder.classes_), user_feature_dim=2, load_pretrained=False, trust_remote_code=True)"
   ]
  },
  {
   "cell_type": "code",
   "execution_count": 77,
   "id": "45653a7f-fdd2-4779-80ba-b0301d7aee18",
   "metadata": {},
   "outputs": [],
   "source": [
    "import pickle\n",
    "\n",
    "# Save encoders to pickle files\n",
    "with open(\"specialist_encoder.pkl\", \"wb\") as f:\n",
    "    pickle.dump(specialist_encoder, f)\n",
    "    \n",
    "with open(\"age_encoder.pkl\", \"wb\") as f:\n",
    "    pickle.dump(age_encoder, f)\n",
    "    \n",
    "with open(\"gender_encoder.pkl\", \"wb\") as f:\n",
    "    pickle.dump(gender_encoder, f)\n"
   ]
  },
  {
   "cell_type": "code",
   "execution_count": null,
   "id": "a0399c93-2e8d-4cef-9565-076254f3af0f",
   "metadata": {},
   "outputs": [],
   "source": []
  },
  {
   "cell_type": "code",
   "execution_count": 76,
   "id": "40a2b1ff-8995-4aaa-8774-6027e3b27ddc",
   "metadata": {},
   "outputs": [
    {
     "data": {
      "text/plain": [
       "17"
      ]
     },
     "execution_count": 76,
     "metadata": {},
     "output_type": "execute_result"
    }
   ],
   "source": [
    "len(specialist_encoder.classes_)"
   ]
  },
  {
   "cell_type": "code",
   "execution_count": 70,
   "id": "1141db4f-c451-413d-a3ab-1cc3ac89deb4",
   "metadata": {},
   "outputs": [
    {
     "data": {
      "text/plain": [
       "MedicalSpecialistClassifer(\n",
       "  (reason_encoder): NewModel(\n",
       "    (embeddings): NewEmbeddings(\n",
       "      (word_embeddings): Embedding(250048, 768, padding_idx=1)\n",
       "      (rotary_emb): NTKScalingRotaryEmbedding()\n",
       "      (token_type_embeddings): Embedding(1, 768)\n",
       "      (LayerNorm): LayerNorm((768,), eps=1e-12, elementwise_affine=True)\n",
       "      (dropout): Dropout(p=0.1, inplace=False)\n",
       "    )\n",
       "    (encoder): NewEncoder(\n",
       "      (layer): ModuleList(\n",
       "        (0-11): 12 x NewLayer(\n",
       "          (attention): NewSdpaAttention(\n",
       "            (qkv_proj): Linear(in_features=768, out_features=2304, bias=True)\n",
       "            (dropout): Dropout(p=0.0, inplace=False)\n",
       "            (o_proj): Linear(in_features=768, out_features=768, bias=True)\n",
       "          )\n",
       "          (mlp): NewGatedMLP(\n",
       "            (up_gate_proj): Linear(in_features=768, out_features=6144, bias=False)\n",
       "            (down_proj): Linear(in_features=3072, out_features=768, bias=True)\n",
       "            (act_fn): GELUActivation()\n",
       "            (hidden_dropout): Dropout(p=0.1, inplace=False)\n",
       "          )\n",
       "          (attn_ln): LayerNorm((768,), eps=1e-12, elementwise_affine=True)\n",
       "          (mlp_ln): LayerNorm((768,), eps=1e-12, elementwise_affine=True)\n",
       "          (hidden_dropout): Dropout(p=0.1, inplace=False)\n",
       "        )\n",
       "      )\n",
       "    )\n",
       "  )\n",
       "  (relu): ReLU()\n",
       "  (dropout): Dropout(p=0.2, inplace=False)\n",
       "  (user_encoder): Sequential(\n",
       "    (0): Linear(in_features=2, out_features=128, bias=True)\n",
       "    (1): BatchNorm1d(128, eps=1e-05, momentum=0.1, affine=True, track_running_stats=True)\n",
       "    (2): ReLU()\n",
       "    (3): Dropout(p=0.2, inplace=False)\n",
       "    (4): Linear(in_features=128, out_features=256, bias=True)\n",
       "    (5): ReLU()\n",
       "  )\n",
       "  (hidden_layer1): Sequential(\n",
       "    (0): Linear(in_features=768, out_features=512, bias=True)\n",
       "    (1): BatchNorm1d(512, eps=1e-05, momentum=0.1, affine=True, track_running_stats=True)\n",
       "    (2): ReLU()\n",
       "    (3): Dropout(p=0.2, inplace=False)\n",
       "  )\n",
       "  (level1_output): Linear(in_features=512, out_features=17, bias=True)\n",
       "  (hidden_layer2): Sequential(\n",
       "    (0): Linear(in_features=1536, out_features=768, bias=True)\n",
       "    (1): BatchNorm1d(768, eps=1e-05, momentum=0.1, affine=True, track_running_stats=True)\n",
       "    (2): ReLU()\n",
       "    (3): Dropout(p=0.2, inplace=False)\n",
       "  )\n",
       "  (level2_output): Linear(in_features=768, out_features=17, bias=True)\n",
       ")"
      ]
     },
     "execution_count": 70,
     "metadata": {},
     "output_type": "execute_result"
    }
   ],
   "source": [
    "new_model"
   ]
  },
  {
   "cell_type": "code",
   "execution_count": 71,
   "id": "3fe3645f-10bc-413c-b47e-88f856cf6e63",
   "metadata": {},
   "outputs": [
    {
     "data": {
      "text/plain": [
       "<All keys matched successfully>"
      ]
     },
     "execution_count": 71,
     "metadata": {},
     "output_type": "execute_result"
    }
   ],
   "source": [
    "new_model.load_state_dict(torch.load(\"../notebooks/best_model.pt\"))"
   ]
  },
  {
   "cell_type": "code",
   "execution_count": 72,
   "id": "7869ff3a-606d-452d-ac97-cefa2f314c0a",
   "metadata": {},
   "outputs": [],
   "source": [
    "new_model.eval()\n",
    "reason_text = \"lười ăn, không tăng cân, constipation\"\n",
    "data = tokenizer(\n",
    "    reason_text,\n",
    "    padding='max_length',\n",
    "    truncation=True,\n",
    "    max_length=128,\n",
    "    return_tensors='pt'\n",
    ")\n",
    "age_category = \"child\"\n",
    "gender = \"male\"\n",
    "\n",
    "# Fix the tensor shape for user_info\n",
    "user_info = torch.tensor([[gender_encoder.transform([gender])[0], age_encoder.transform([age_category])[0]]], dtype=torch.float32)"
   ]
  },
  {
   "cell_type": "code",
   "execution_count": 73,
   "id": "6567deb4-a2d3-410f-a1cf-942be03f1631",
   "metadata": {},
   "outputs": [
    {
     "data": {
      "text/plain": [
       "({'input_ids': tensor([[     0,     96, 150365,   6687,      4,    687,  11122,  24376,      4,\n",
       "             158,      7,  30019,   2320,      2,      1,      1,      1,      1,\n",
       "               1,      1,      1,      1,      1,      1,      1,      1,      1,\n",
       "               1,      1,      1,      1,      1,      1,      1,      1,      1,\n",
       "               1,      1,      1,      1,      1,      1,      1,      1,      1,\n",
       "               1,      1,      1,      1,      1,      1,      1,      1,      1,\n",
       "               1,      1,      1,      1,      1,      1,      1,      1,      1,\n",
       "               1,      1,      1,      1,      1,      1,      1,      1,      1,\n",
       "               1,      1,      1,      1,      1,      1,      1,      1,      1,\n",
       "               1,      1,      1,      1,      1,      1,      1,      1,      1,\n",
       "               1,      1,      1,      1,      1,      1,      1,      1,      1,\n",
       "               1,      1,      1,      1,      1,      1,      1,      1,      1,\n",
       "               1,      1,      1,      1,      1,      1,      1,      1,      1,\n",
       "               1,      1,      1,      1,      1,      1,      1,      1,      1,\n",
       "               1,      1]]), 'attention_mask': tensor([[1, 1, 1, 1, 1, 1, 1, 1, 1, 1, 1, 1, 1, 1, 0, 0, 0, 0, 0, 0, 0, 0, 0, 0,\n",
       "          0, 0, 0, 0, 0, 0, 0, 0, 0, 0, 0, 0, 0, 0, 0, 0, 0, 0, 0, 0, 0, 0, 0, 0,\n",
       "          0, 0, 0, 0, 0, 0, 0, 0, 0, 0, 0, 0, 0, 0, 0, 0, 0, 0, 0, 0, 0, 0, 0, 0,\n",
       "          0, 0, 0, 0, 0, 0, 0, 0, 0, 0, 0, 0, 0, 0, 0, 0, 0, 0, 0, 0, 0, 0, 0, 0,\n",
       "          0, 0, 0, 0, 0, 0, 0, 0, 0, 0, 0, 0, 0, 0, 0, 0, 0, 0, 0, 0, 0, 0, 0, 0,\n",
       "          0, 0, 0, 0, 0, 0, 0, 0]])},\n",
       " tensor([[1., 1.]]))"
      ]
     },
     "execution_count": 73,
     "metadata": {},
     "output_type": "execute_result"
    }
   ],
   "source": [
    "data, user_info"
   ]
  },
  {
   "cell_type": "code",
   "execution_count": 74,
   "id": "f29a64d8-4fe7-48f5-b560-e95d9cd5609b",
   "metadata": {},
   "outputs": [
    {
     "data": {
      "text/plain": [
       "tensor([5])"
      ]
     },
     "execution_count": 74,
     "metadata": {},
     "output_type": "execute_result"
    }
   ],
   "source": [
    "new_model.predict(data['input_ids'], data['attention_mask'], user_info=user_info)"
   ]
  },
  {
   "cell_type": "code",
   "execution_count": 78,
   "id": "5ccd8608-947c-444c-92e5-35df4b6ed6bb",
   "metadata": {},
   "outputs": [
    {
     "name": "stderr",
     "output_type": "stream",
     "text": [
      "/home/nampq/projects/specialist-prediction/.venv/lib/python3.10/site-packages/sklearn/preprocessing/_label.py:151: DataConversionWarning: A column-vector y was passed when a 1d array was expected. Please change the shape of y to (n_samples, ), for example using ravel().\n",
      "  y = column_or_1d(y, warn=True)\n"
     ]
    }
   ],
   "source": [
    "res = specialist_encoder.inverse_transform([new_model.predict(data['input_ids'], data['attention_mask'], user_info)])"
   ]
  },
  {
   "cell_type": "code",
   "execution_count": 80,
   "id": "0eb242a2-f7b6-4fde-b1f9-c05f5eefc668",
   "metadata": {},
   "outputs": [
    {
     "data": {
      "text/plain": [
       "['nhi khoa']"
      ]
     },
     "execution_count": 80,
     "metadata": {},
     "output_type": "execute_result"
    }
   ],
   "source": [
    "res.tolist()"
   ]
  },
  {
   "cell_type": "code",
   "execution_count": null,
   "id": "cc71e0f4-0afc-4d3d-b31f-ae1007db841b",
   "metadata": {},
   "outputs": [],
   "source": []
  }
 ],
 "metadata": {
  "kernelspec": {
   "display_name": "Python 3 (ipykernel)",
   "language": "python",
   "name": "python3"
  },
  "language_info": {
   "codemirror_mode": {
    "name": "ipython",
    "version": 3
   },
   "file_extension": ".py",
   "mimetype": "text/x-python",
   "name": "python",
   "nbconvert_exporter": "python",
   "pygments_lexer": "ipython3",
   "version": "3.10.15"
  }
 },
 "nbformat": 4,
 "nbformat_minor": 5
}
