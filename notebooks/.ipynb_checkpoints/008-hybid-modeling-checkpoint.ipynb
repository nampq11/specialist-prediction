{
 "cells": [
  {
   "cell_type": "markdown",
   "id": "e031b3a0-ab78-46b5-aa9c-d13941214152",
   "metadata": {},
   "source": [
    "## Set up"
   ]
  },
  {
   "cell_type": "code",
   "execution_count": 1,
   "id": "78631d72-0379-4ccb-b426-f59fd4020f38",
   "metadata": {},
   "outputs": [],
   "source": [
    "%load_ext autoreload\n",
    "%autoreload 2"
   ]
  },
  {
   "cell_type": "code",
   "execution_count": 2,
   "id": "9aa7529d-0dcd-4f94-a4ce-68d53c39e848",
   "metadata": {},
   "outputs": [],
   "source": [
    "import sys\n",
    "\n",
    "sys.path.insert(0, '..')"
   ]
  },
  {
   "cell_type": "code",
   "execution_count": 3,
   "id": "27480ba0-d890-4a38-a402-b9b85d01d815",
   "metadata": {},
   "outputs": [],
   "source": [
    "import torch\n",
    "import pandas as pd\n",
    "import torch.nn as nn\n",
    "import torch.nn.functional as F\n",
    "from transformers import AutoModel, AutoTokenizer, AutoConfig"
   ]
  },
  {
   "cell_type": "code",
   "execution_count": 4,
   "id": "40454d78-ed52-4230-906c-e9f27f8ff0e6",
   "metadata": {},
   "outputs": [
    {
     "name": "stderr",
     "output_type": "stream",
     "text": [
      "/tmp/ipykernel_54320/1310802559.py:1: DtypeWarning: Columns (11) have mixed types. Specify dtype option on import or set low_memory=False.\n",
      "  df = pd.read_csv('../data/df_filtered_correction.csv', index_col=0)\n"
     ]
    },
    {
     "data": {
      "text/html": [
       "<div>\n",
       "<style scoped>\n",
       "    .dataframe tbody tr th:only-of-type {\n",
       "        vertical-align: middle;\n",
       "    }\n",
       "\n",
       "    .dataframe tbody tr th {\n",
       "        vertical-align: top;\n",
       "    }\n",
       "\n",
       "    .dataframe thead th {\n",
       "        text-align: right;\n",
       "    }\n",
       "</style>\n",
       "<table border=\"1\" class=\"dataframe\">\n",
       "  <thead>\n",
       "    <tr style=\"text-align: right;\">\n",
       "      <th></th>\n",
       "      <th>partner_id</th>\n",
       "      <th>specialist_id</th>\n",
       "      <th>status</th>\n",
       "      <th>gender</th>\n",
       "      <th>province_id</th>\n",
       "      <th>age</th>\n",
       "      <th>reason_combind</th>\n",
       "      <th>specialist_name</th>\n",
       "      <th>Unnamed: 8</th>\n",
       "      <th>Unnamed: 9</th>\n",
       "      <th>Unnamed: 10</th>\n",
       "      <th>age_category</th>\n",
       "      <th>predicted_specialist</th>\n",
       "      <th>prediction_probability</th>\n",
       "      <th>specialist_name_category</th>\n",
       "    </tr>\n",
       "  </thead>\n",
       "  <tbody>\n",
       "    <tr>\n",
       "      <th>0</th>\n",
       "      <td>23.0</td>\n",
       "      <td>67.0</td>\n",
       "      <td>2.0</td>\n",
       "      <td>0</td>\n",
       "      <td>38.0</td>\n",
       "      <td>25</td>\n",
       "      <td>muốn làm ivf</td>\n",
       "      <td>17</td>\n",
       "      <td>NaN</td>\n",
       "      <td>NaN</td>\n",
       "      <td>NaN</td>\n",
       "      <td>0</td>\n",
       "      <td>vô sinh - hiếm muộn</td>\n",
       "      <td>0.916650</td>\n",
       "      <td>vô sinh - hiếm muộn</td>\n",
       "    </tr>\n",
       "    <tr>\n",
       "      <th>1</th>\n",
       "      <td>23.0</td>\n",
       "      <td>67.0</td>\n",
       "      <td>2.0</td>\n",
       "      <td>0</td>\n",
       "      <td>27.0</td>\n",
       "      <td>26</td>\n",
       "      <td>mong con</td>\n",
       "      <td>17</td>\n",
       "      <td>NaN</td>\n",
       "      <td>NaN</td>\n",
       "      <td>NaN</td>\n",
       "      <td>0</td>\n",
       "      <td>vô sinh - hiếm muộn</td>\n",
       "      <td>0.995743</td>\n",
       "      <td>vô sinh - hiếm muộn</td>\n",
       "    </tr>\n",
       "    <tr>\n",
       "      <th>2</th>\n",
       "      <td>23.0</td>\n",
       "      <td>67.0</td>\n",
       "      <td>2.0</td>\n",
       "      <td>1</td>\n",
       "      <td>27.0</td>\n",
       "      <td>28</td>\n",
       "      <td>hiếm muộn</td>\n",
       "      <td>17</td>\n",
       "      <td>NaN</td>\n",
       "      <td>NaN</td>\n",
       "      <td>NaN</td>\n",
       "      <td>0</td>\n",
       "      <td>vô sinh - hiếm muộn</td>\n",
       "      <td>0.918476</td>\n",
       "      <td>vô sinh - hiếm muộn</td>\n",
       "    </tr>\n",
       "    <tr>\n",
       "      <th>3</th>\n",
       "      <td>23.0</td>\n",
       "      <td>67.0</td>\n",
       "      <td>2.0</td>\n",
       "      <td>0</td>\n",
       "      <td>31.0</td>\n",
       "      <td>26</td>\n",
       "      <td>khám vô sinh, hiếm muộn</td>\n",
       "      <td>17</td>\n",
       "      <td>NaN</td>\n",
       "      <td>NaN</td>\n",
       "      <td>NaN</td>\n",
       "      <td>0</td>\n",
       "      <td>vô sinh - hiếm muộn</td>\n",
       "      <td>0.899810</td>\n",
       "      <td>vô sinh - hiếm muộn</td>\n",
       "    </tr>\n",
       "    <tr>\n",
       "      <th>4</th>\n",
       "      <td>23.0</td>\n",
       "      <td>67.0</td>\n",
       "      <td>2.0</td>\n",
       "      <td>0</td>\n",
       "      <td>1.0</td>\n",
       "      <td>34</td>\n",
       "      <td>thả hơn 1 năm mà không có thai nên muốn siêu â...</td>\n",
       "      <td>17</td>\n",
       "      <td>NaN</td>\n",
       "      <td>NaN</td>\n",
       "      <td>NaN</td>\n",
       "      <td>0</td>\n",
       "      <td>vô sinh - hiếm muộn</td>\n",
       "      <td>0.988115</td>\n",
       "      <td>vô sinh - hiếm muộn</td>\n",
       "    </tr>\n",
       "  </tbody>\n",
       "</table>\n",
       "</div>"
      ],
      "text/plain": [
       "   partner_id  specialist_id  status  gender  province_id  age  \\\n",
       "0        23.0           67.0     2.0       0         38.0   25   \n",
       "1        23.0           67.0     2.0       0         27.0   26   \n",
       "2        23.0           67.0     2.0       1         27.0   28   \n",
       "3        23.0           67.0     2.0       0         31.0   26   \n",
       "4        23.0           67.0     2.0       0          1.0   34   \n",
       "\n",
       "                                      reason_combind  specialist_name  \\\n",
       "0                                       muốn làm ivf               17   \n",
       "1                                           mong con               17   \n",
       "2                                          hiếm muộn               17   \n",
       "3                            khám vô sinh, hiếm muộn               17   \n",
       "4  thả hơn 1 năm mà không có thai nên muốn siêu â...               17   \n",
       "\n",
       "   Unnamed: 8  Unnamed: 9 Unnamed: 10  age_category predicted_specialist  \\\n",
       "0         NaN         NaN         NaN             0  vô sinh - hiếm muộn   \n",
       "1         NaN         NaN         NaN             0  vô sinh - hiếm muộn   \n",
       "2         NaN         NaN         NaN             0  vô sinh - hiếm muộn   \n",
       "3         NaN         NaN         NaN             0  vô sinh - hiếm muộn   \n",
       "4         NaN         NaN         NaN             0  vô sinh - hiếm muộn   \n",
       "\n",
       "   prediction_probability specialist_name_category  \n",
       "0                0.916650      vô sinh - hiếm muộn  \n",
       "1                0.995743      vô sinh - hiếm muộn  \n",
       "2                0.918476      vô sinh - hiếm muộn  \n",
       "3                0.899810      vô sinh - hiếm muộn  \n",
       "4                0.988115      vô sinh - hiếm muộn  "
      ]
     },
     "execution_count": 4,
     "metadata": {},
     "output_type": "execute_result"
    }
   ],
   "source": [
    "df = pd.read_csv('../data/df_filtered_correction.csv', index_col=0)\n",
    "df.head()"
   ]
  },
  {
   "cell_type": "code",
   "execution_count": 5,
   "id": "b9a6808f-6aea-4ef5-b902-9ef7bbb4f60d",
   "metadata": {},
   "outputs": [],
   "source": [
    "df['gender'] = df['gender'].fillna('unknown')\n",
    "df['gender'] = df['gender'].replace({1.0: 'female', 0.0: 'male'})"
   ]
  },
  {
   "cell_type": "code",
   "execution_count": 6,
   "id": "d2011a8f-ed25-467f-8af1-33f3cf5513e4",
   "metadata": {},
   "outputs": [
    {
     "name": "stdout",
     "output_type": "stream",
     "text": [
      "age_category\n",
      "adult      38668\n",
      "child       5383\n",
      "unknown        1\n",
      "Name: count, dtype: int64\n"
     ]
    }
   ],
   "source": [
    "df['age'] = df['age'].fillna(0)\n",
    "df['age_category'] = df['age'].apply(lambda x: \n",
    "                                                     'unknown' if x == 0 else \n",
    "                                                     'child' if 0 < x <= 15 else \n",
    "                                                     'adult')\n",
    "# Display the results\n",
    "print(df['age_category'].value_counts())"
   ]
  },
  {
   "cell_type": "code",
   "execution_count": 7,
   "id": "70eb4fb4-afa6-469d-9bc1-7fe2ca137ff1",
   "metadata": {},
   "outputs": [
    {
     "data": {
      "text/plain": [
       "(array([17,  8,  4, 12, 14, 16, 13, 15,  7,  1, 10,  3,  5,  2, 11,  6,  0,\n",
       "         9]),\n",
       " 18)"
      ]
     },
     "execution_count": 7,
     "metadata": {},
     "output_type": "execute_result"
    }
   ],
   "source": [
    "df.specialist_name.unique(), len(df.specialist_name.unique())"
   ]
  },
  {
   "cell_type": "code",
   "execution_count": 8,
   "id": "903fd1fc-f412-4761-a911-446bd16eb325",
   "metadata": {},
   "outputs": [
    {
     "data": {
      "text/html": [
       "<div>\n",
       "<style scoped>\n",
       "    .dataframe tbody tr th:only-of-type {\n",
       "        vertical-align: middle;\n",
       "    }\n",
       "\n",
       "    .dataframe tbody tr th {\n",
       "        vertical-align: top;\n",
       "    }\n",
       "\n",
       "    .dataframe thead th {\n",
       "        text-align: right;\n",
       "    }\n",
       "</style>\n",
       "<table border=\"1\" class=\"dataframe\">\n",
       "  <thead>\n",
       "    <tr style=\"text-align: right;\">\n",
       "      <th></th>\n",
       "      <th>partner_id</th>\n",
       "      <th>specialist_id</th>\n",
       "      <th>status</th>\n",
       "      <th>gender</th>\n",
       "      <th>province_id</th>\n",
       "      <th>age</th>\n",
       "      <th>reason_combind</th>\n",
       "      <th>specialist_name</th>\n",
       "      <th>Unnamed: 8</th>\n",
       "      <th>Unnamed: 9</th>\n",
       "      <th>Unnamed: 10</th>\n",
       "      <th>age_category</th>\n",
       "      <th>predicted_specialist</th>\n",
       "      <th>prediction_probability</th>\n",
       "      <th>specialist_name_category</th>\n",
       "    </tr>\n",
       "  </thead>\n",
       "  <tbody>\n",
       "    <tr>\n",
       "      <th>0</th>\n",
       "      <td>23.0</td>\n",
       "      <td>67.0</td>\n",
       "      <td>2.0</td>\n",
       "      <td>male</td>\n",
       "      <td>38.0</td>\n",
       "      <td>25</td>\n",
       "      <td>muốn làm ivf</td>\n",
       "      <td>17</td>\n",
       "      <td>NaN</td>\n",
       "      <td>NaN</td>\n",
       "      <td>NaN</td>\n",
       "      <td>adult</td>\n",
       "      <td>vô sinh - hiếm muộn</td>\n",
       "      <td>0.916650</td>\n",
       "      <td>vô sinh - hiếm muộn</td>\n",
       "    </tr>\n",
       "    <tr>\n",
       "      <th>1</th>\n",
       "      <td>23.0</td>\n",
       "      <td>67.0</td>\n",
       "      <td>2.0</td>\n",
       "      <td>male</td>\n",
       "      <td>27.0</td>\n",
       "      <td>26</td>\n",
       "      <td>mong con</td>\n",
       "      <td>17</td>\n",
       "      <td>NaN</td>\n",
       "      <td>NaN</td>\n",
       "      <td>NaN</td>\n",
       "      <td>adult</td>\n",
       "      <td>vô sinh - hiếm muộn</td>\n",
       "      <td>0.995743</td>\n",
       "      <td>vô sinh - hiếm muộn</td>\n",
       "    </tr>\n",
       "    <tr>\n",
       "      <th>2</th>\n",
       "      <td>23.0</td>\n",
       "      <td>67.0</td>\n",
       "      <td>2.0</td>\n",
       "      <td>female</td>\n",
       "      <td>27.0</td>\n",
       "      <td>28</td>\n",
       "      <td>hiếm muộn</td>\n",
       "      <td>17</td>\n",
       "      <td>NaN</td>\n",
       "      <td>NaN</td>\n",
       "      <td>NaN</td>\n",
       "      <td>adult</td>\n",
       "      <td>vô sinh - hiếm muộn</td>\n",
       "      <td>0.918476</td>\n",
       "      <td>vô sinh - hiếm muộn</td>\n",
       "    </tr>\n",
       "    <tr>\n",
       "      <th>3</th>\n",
       "      <td>23.0</td>\n",
       "      <td>67.0</td>\n",
       "      <td>2.0</td>\n",
       "      <td>male</td>\n",
       "      <td>31.0</td>\n",
       "      <td>26</td>\n",
       "      <td>khám vô sinh, hiếm muộn</td>\n",
       "      <td>17</td>\n",
       "      <td>NaN</td>\n",
       "      <td>NaN</td>\n",
       "      <td>NaN</td>\n",
       "      <td>adult</td>\n",
       "      <td>vô sinh - hiếm muộn</td>\n",
       "      <td>0.899810</td>\n",
       "      <td>vô sinh - hiếm muộn</td>\n",
       "    </tr>\n",
       "    <tr>\n",
       "      <th>4</th>\n",
       "      <td>23.0</td>\n",
       "      <td>67.0</td>\n",
       "      <td>2.0</td>\n",
       "      <td>male</td>\n",
       "      <td>1.0</td>\n",
       "      <td>34</td>\n",
       "      <td>thả hơn 1 năm mà không có thai nên muốn siêu â...</td>\n",
       "      <td>17</td>\n",
       "      <td>NaN</td>\n",
       "      <td>NaN</td>\n",
       "      <td>NaN</td>\n",
       "      <td>adult</td>\n",
       "      <td>vô sinh - hiếm muộn</td>\n",
       "      <td>0.988115</td>\n",
       "      <td>vô sinh - hiếm muộn</td>\n",
       "    </tr>\n",
       "  </tbody>\n",
       "</table>\n",
       "</div>"
      ],
      "text/plain": [
       "   partner_id  specialist_id  status  gender  province_id  age  \\\n",
       "0        23.0           67.0     2.0    male         38.0   25   \n",
       "1        23.0           67.0     2.0    male         27.0   26   \n",
       "2        23.0           67.0     2.0  female         27.0   28   \n",
       "3        23.0           67.0     2.0    male         31.0   26   \n",
       "4        23.0           67.0     2.0    male          1.0   34   \n",
       "\n",
       "                                      reason_combind  specialist_name  \\\n",
       "0                                       muốn làm ivf               17   \n",
       "1                                           mong con               17   \n",
       "2                                          hiếm muộn               17   \n",
       "3                            khám vô sinh, hiếm muộn               17   \n",
       "4  thả hơn 1 năm mà không có thai nên muốn siêu â...               17   \n",
       "\n",
       "   Unnamed: 8  Unnamed: 9 Unnamed: 10 age_category predicted_specialist  \\\n",
       "0         NaN         NaN         NaN        adult  vô sinh - hiếm muộn   \n",
       "1         NaN         NaN         NaN        adult  vô sinh - hiếm muộn   \n",
       "2         NaN         NaN         NaN        adult  vô sinh - hiếm muộn   \n",
       "3         NaN         NaN         NaN        adult  vô sinh - hiếm muộn   \n",
       "4         NaN         NaN         NaN        adult  vô sinh - hiếm muộn   \n",
       "\n",
       "   prediction_probability specialist_name_category  \n",
       "0                0.916650      vô sinh - hiếm muộn  \n",
       "1                0.995743      vô sinh - hiếm muộn  \n",
       "2                0.918476      vô sinh - hiếm muộn  \n",
       "3                0.899810      vô sinh - hiếm muộn  \n",
       "4                0.988115      vô sinh - hiếm muộn  "
      ]
     },
     "execution_count": 8,
     "metadata": {},
     "output_type": "execute_result"
    }
   ],
   "source": [
    "df.head()"
   ]
  },
  {
   "cell_type": "code",
   "execution_count": 9,
   "id": "0f81de87-564e-44da-af5f-8a400e8a6445",
   "metadata": {},
   "outputs": [
    {
     "name": "stdout",
     "output_type": "stream",
     "text": [
      "number of samples per class: specialist_id\n",
      "1.0     8039\n",
      "18.0    5152\n",
      "11.0    5071\n",
      "22.0    4383\n",
      "4.0     3609\n",
      "27.0    3021\n",
      "3.0     2888\n",
      "26.0    2003\n",
      "17.0    1702\n",
      "29.0    1583\n",
      "19.0    1375\n",
      "15.0    1177\n",
      "5.0     1069\n",
      "32.0    1057\n",
      "21.0     706\n",
      "43.0     634\n",
      "33.0     313\n",
      "67.0     249\n",
      "Name: count, dtype: int64\n"
     ]
    }
   ],
   "source": [
    "class_counts = df['specialist_id'].value_counts()\n",
    "print(f'number of samples per class: {class_counts}')"
   ]
  },
  {
   "cell_type": "code",
   "execution_count": 10,
   "id": "8c5ac32b-ccd7-48a8-a4b7-d1b03d039496",
   "metadata": {},
   "outputs": [],
   "source": [
    "import numpy as np\n",
    "from sklearn.utils.class_weight import compute_class_weight\n",
    "\n",
    "y = df['specialist_name']\n",
    "weight_class = compute_class_weight(class_weight=\"balanced\", classes=np.unique(y), y=y)"
   ]
  },
  {
   "cell_type": "code",
   "execution_count": 11,
   "id": "6893b0a6-22ea-4670-a500-1bb4325563db",
   "metadata": {},
   "outputs": [
    {
     "data": {
      "text/plain": [
       "(array([1.53245669, 0.30834488, 0.50037484, 3.83594566, 1.29488536,\n",
       "        7.69601677, 2.15624082, 1.46196734, 1.76193904, 0.8106437 ,\n",
       "        0.6694019 , 0.46740514, 2.00109022, 0.8404304 , 0.55646506,\n",
       "        3.2075142 , 2.21077989, 9.09789343]),\n",
       " 18)"
      ]
     },
     "execution_count": 11,
     "metadata": {},
     "output_type": "execute_result"
    }
   ],
   "source": [
    "weight_class, len(weight_class)"
   ]
  },
  {
   "cell_type": "code",
   "execution_count": 12,
   "id": "040ebe57-174a-4a78-bfcd-9affc9f961f5",
   "metadata": {},
   "outputs": [
    {
     "data": {
      "text/plain": [
       "numpy.float64"
      ]
     },
     "execution_count": 12,
     "metadata": {},
     "output_type": "execute_result"
    }
   ],
   "source": [
    "type(weight_class[0])"
   ]
  },
  {
   "cell_type": "code",
   "execution_count": 13,
   "id": "d8ea308f-0ffd-4817-9f51-692a0d99c7a0",
   "metadata": {},
   "outputs": [
    {
     "data": {
      "text/plain": [
       "(array([17,  8,  4, 12, 14, 16, 13, 15,  7,  1, 10,  3,  5,  2, 11,  6,  0,\n",
       "         9]),\n",
       " 18,\n",
       " (44052, 15))"
      ]
     },
     "execution_count": 13,
     "metadata": {},
     "output_type": "execute_result"
    }
   ],
   "source": [
    "df.specialist_name.unique(), len(df.specialist_name.unique()), df.shape"
   ]
  },
  {
   "cell_type": "code",
   "execution_count": 14,
   "id": "63f9280a-3c45-450f-9f8d-c066e0e29066",
   "metadata": {},
   "outputs": [
    {
     "data": {
      "text/plain": [
       "18"
      ]
     },
     "execution_count": 14,
     "metadata": {},
     "output_type": "execute_result"
    }
   ],
   "source": [
    "len(df.specialist_name.unique())"
   ]
  },
  {
   "cell_type": "code",
   "execution_count": 15,
   "id": "4ef552ab-5a24-4df8-9fe0-b1040681f5d2",
   "metadata": {},
   "outputs": [
    {
     "data": {
      "text/plain": [
       "partner_id                     21\n",
       "specialist_id                  21\n",
       "status                         21\n",
       "gender                          0\n",
       "province_id                     1\n",
       "age                             0\n",
       "reason_combind                  0\n",
       "specialist_name                 0\n",
       "Unnamed: 8                  44052\n",
       "Unnamed: 9                  44052\n",
       "Unnamed: 10                 44051\n",
       "age_category                    0\n",
       "predicted_specialist            0\n",
       "prediction_probability          0\n",
       "specialist_name_category        0\n",
       "dtype: int64"
      ]
     },
     "execution_count": 15,
     "metadata": {},
     "output_type": "execute_result"
    }
   ],
   "source": [
    "df.isnull().sum()"
   ]
  },
  {
   "cell_type": "code",
   "execution_count": 16,
   "id": "2a5250e1-5617-4710-bc29-f44b136b7ee4",
   "metadata": {},
   "outputs": [],
   "source": [
    "class MedicalSpecialistClassifer(nn.Module):\n",
    "    def __init__(self, num_specialists: int, model_name: str = \"BookingCare/gte-multilingual-base-v2.1\", user_feature_dim=2, dropout=0.2, load_pretrained=True, trust_remote_code=False):\n",
    "        super(MedicalSpecialistClassifer, self).__init__()\n",
    "\n",
    "        config = AutoConfig.from_pretrained(model_name, trust_remote_code=trust_remote_code)\n",
    "        if load_pretrained:\n",
    "            self.reason_encoder = AutoModel.from_pretrained(model_name, config=config, trust_remote_code=True)\n",
    "        else:\n",
    "            self.reason_encoder = AutoModel.from_config(config, trust_remote_code=True)\n",
    "        \n",
    "        for param in self.reason_encoder.parameters():\n",
    "            param.requires_grad = False\n",
    "        self.reason_encoder_hidden_dim = self.reason_encoder.config.hidden_size\n",
    "        \n",
    "        self.relu = nn.ReLU()\n",
    "        self.dropout = nn.Dropout(p=dropout)\n",
    "        \n",
    "        self.user_encoder = nn.Sequential(\n",
    "            nn.Linear(user_feature_dim, 128),\n",
    "            nn.BatchNorm1d(128),\n",
    "            self.relu,\n",
    "            self.dropout,\n",
    "            nn.Linear(128, 256),\n",
    "            self.relu\n",
    "        )\n",
    "\n",
    "        self.hidden_layer1 = nn.Sequential(\n",
    "            nn.Linear(self.reason_encoder_hidden_dim, 512),\n",
    "            nn.BatchNorm1d(512),\n",
    "            self.relu,\n",
    "            self.dropout,\n",
    "        )\n",
    "\n",
    "        self.level1_output = nn.Linear(512, num_specialists)\n",
    "\n",
    "        self.hidden_layer2 = nn.Sequential(\n",
    "            nn.Linear(self.reason_encoder_hidden_dim + 256 + 512, 768),\n",
    "            nn.BatchNorm1d(768),\n",
    "            self.relu,\n",
    "            self.dropout\n",
    "        )\n",
    "        self.level2_output = nn.Linear(768, num_specialists)\n",
    "\n",
    "    def forward(self, reason_text_ids, reason_text_mask, user_info=None):\n",
    "        reason_outputs = self.reason_encoder(reason_text_ids, attention_mask=reason_text_mask)\n",
    "        reason_embedding = reason_outputs.last_hidden_state[:, 0, :]\n",
    "\n",
    "        hidden1 = self.hidden_layer1(reason_embedding)\n",
    "\n",
    "        level1_logits = self.level1_output(hidden1)\n",
    "\n",
    "        if user_info is None:\n",
    "            return level1_logits, None\n",
    "\n",
    "        user_features = self.user_encoder(user_info)\n",
    "\n",
    "        combined_features = torch.cat((reason_embedding, hidden1, user_features), dim=1)\n",
    "\n",
    "        hidden2 = self.hidden_layer2(combined_features)\n",
    "        level2_logits = self.level2_output(hidden2)\n",
    "\n",
    "        return level1_logits, level2_logits\n",
    "\n",
    "    def predict(self, reason_text_ids, reason_text_mask, user_info=None, threshold=0.7):\n",
    "        self.eval()\n",
    "        with torch.no_grad():\n",
    "            level1_logits, level2_logits = self.forward(reason_text_ids, reason_text_mask, user_info)\n",
    "            level1_probs = F.softmax(level1_logits, dim=1)\n",
    "            max_probs, preds = torch.max(level1_probs, dim=1)\n",
    "            if max_probs > threshold:\n",
    "                print('stage 1:')\n",
    "                return max_probs, preds\n",
    "                \n",
    "            final_preds = preds.clone()\n",
    "\n",
    "            if user_info is not None and level2_logits is not None:\n",
    "                level2_probs = F.softmax(level2_logits, dim=1)\n",
    "                max_probs, preds = torch.max(level2_probs, dim=1)\n",
    "                print('stage 2:')\n",
    "                return max_probs, preds\n",
    "\n",
    "            return max_probs, final_preds"
   ]
  },
  {
   "cell_type": "code",
   "execution_count": 17,
   "id": "32070d38-7bfc-4212-8182-39a86b43dc32",
   "metadata": {},
   "outputs": [],
   "source": [
    "from torch.utils.data import Dataset, DataLoader\n",
    "from sklearn.preprocessing import LabelEncoder\n",
    "\n",
    "class MedicalDataFrameDataset(Dataset):\n",
    "    def __init__(self, df, tokenizer):\n",
    "        self.df = df.reset_index(drop=True)\n",
    "        self.tokenizer = tokenizer\n",
    "        self.max_length = 128\n",
    "        \n",
    "    def __len__(self):\n",
    "        return len(self.df)\n",
    "\n",
    "    def __getitem__(self, idx):\n",
    "        row = self.df.iloc[idx]\n",
    "        reason_text = str(row['reason_combind'])  # Ensure reason_text is a string\n",
    "        user_info = torch.tensor([row['gender'], row['age_category']], dtype=torch.float32)\n",
    "        # user_info = None\n",
    "        label = row['specialist_name']\n",
    "        encoded = self.tokenizer(\n",
    "            [reason_text],  # Wrap reason_text in a list to ensure correct input type\n",
    "            padding='max_length',\n",
    "            truncation=True,\n",
    "            max_length=self.max_length,\n",
    "            return_tensors='pt'\n",
    "        )\n",
    "        return {\n",
    "            \"reason_text_ids\": encoded['input_ids'].squeeze(0),\n",
    "            \"reason_text_mask\": encoded['attention_mask'].squeeze(0),\n",
    "            \"user_info\": user_info,\n",
    "            \"labels\": torch.tensor(label, dtype=torch.long)\n",
    "        }\n"
   ]
  },
  {
   "cell_type": "code",
   "execution_count": 18,
   "id": "f4592abd-88eb-4328-8386-e533bb94cacd",
   "metadata": {},
   "outputs": [],
   "source": [
    "from tqdm.notebook import tqdm\n",
    "\n",
    "def train_stage_1(model, train_loader, val_loader, optimizer, criterion, device, num_epochs=5, patience=2, save_path=\"best_model.pt\"):\n",
    "    model.to(device)\n",
    "    best_val_loss = float('inf')\n",
    "    patience_counter = 0\n",
    "\n",
    "    for epoch in tqdm(range(num_epochs)):\n",
    "        model.train()\n",
    "        running_loss = 0.0\n",
    "        correct_level1 = 0\n",
    "        total = 0\n",
    "\n",
    "        for batch in tqdm(train_loader, desc=\"Training...\"):\n",
    "            reason_text_ids = batch['reason_text_ids'].to(device)\n",
    "            reason_text_mask = batch['reason_text_mask'].to(device)\n",
    "            labels = batch['labels'].to(device)\n",
    "\n",
    "            optimizer.zero_grad()\n",
    "            level1_logits, level2_logits = model(\n",
    "                reason_text_ids,\n",
    "                reason_text_mask,\n",
    "            )\n",
    "\n",
    "            _, level1_preds = torch.max(level1_logits, dim=1)\n",
    "            correct_mask = (level1_preds == labels)\n",
    "            loss = criterion(level1_logits, labels)\n",
    "\n",
    "            loss.backward()\n",
    "            optimizer.step()\n",
    "\n",
    "            running_loss += loss.item()\n",
    "            correct_level1 += correct_mask.sum().item()\n",
    "\n",
    "            total += labels.size(0)\n",
    "\n",
    "        print(f\"Epoch {epoch+1}/{num_epochs}:\")\n",
    "        print(f\"Train Loss: {running_loss / len(train_loader): .4f}\")\n",
    "        print(f\"Level 1 Accuracy: {100 * correct_level1 / total:.2f}%\")\n",
    "\n",
    "        # validation\n",
    "        model.eval()\n",
    "        val_loss = 0.0\n",
    "        correct_level1 = 0\n",
    "        total = 0\n",
    "        with torch.no_grad():\n",
    "            for batch in tqdm(val_loader, desc='Validate...'):\n",
    "                reason_text_ids = batch['reason_text_ids'].to(device)\n",
    "                reason_text_mask = batch['reason_text_mask'].to(device)\n",
    "                    \n",
    "                labels = batch['labels'].to(device)\n",
    "\n",
    "                level1_logits, level2_logits = model(\n",
    "                    reason_text_ids,\n",
    "                    reason_text_mask,\n",
    "                )\n",
    "\n",
    "                _, level1_preds = torch.max(level1_logits, dim=1)\n",
    "                correct_mask = (level1_preds == labels)\n",
    "                loss = criterion(level1_logits, labels)\n",
    "\n",
    "                val_loss += loss.item()\n",
    "                correct_level1 += correct_mask.sum().item()\n",
    "\n",
    "                total += labels.size(0)\n",
    "        \n",
    "        avg_val_loss = val_loss / len(val_loader)\n",
    "        print(f\"Validation loss: {avg_val_loss:.4f}\")\n",
    "        print(f\"Validation level 1 Accuracy: {100 * correct_level1 / total:.2f}%\")\n",
    "\n",
    "        if avg_val_loss < best_val_loss:\n",
    "            best_val_loss = avg_val_loss\n",
    "            patience_counter = 0\n",
    "            torch.save(model.state_dict(), save_path)\n",
    "            print(\"Model saved.\")\n",
    "        else:\n",
    "            patience_counter += 1\n",
    "            if patience_counter >= patience:\n",
    "                print(\"Early stopping triggered.\")\n",
    "                break                "
   ]
  },
  {
   "cell_type": "code",
   "execution_count": 19,
   "id": "c2d3fde2-0712-4eb1-b378-d9476d341ad7",
   "metadata": {},
   "outputs": [],
   "source": [
    "# from tqdm.notebook import tqdm\n",
    "\n",
    "# def train_stage_2(model, train_loader, val_loader, optimizer, criterion, device, num_epochs=5, patience=2, save_path=\"best_model.pt\"):\n",
    "#     model.to(device)\n",
    "#     best_val_loss = float('inf')\n",
    "#     patience_counter = 0\n",
    "\n",
    "#     for epoch in tqdm(range(num_epochs)):\n",
    "#         model.train()\n",
    "#         running_loss = 0.0\n",
    "#         correct_level1 = 0\n",
    "#         correct_combined = 0\n",
    "#         total = 0\n",
    "\n",
    "#         for batch in tqdm(train_loader, desc=\"Training...\"):\n",
    "#             reason_text_ids = batch['reason_text_ids'].to(device)\n",
    "#             reason_text_mask = batch['reason_text_mask'].to(device)\n",
    "#             user_info = batch.get('user_info', None)\n",
    "\n",
    "#             if user_info is not None:\n",
    "#                 user_info = user_info.to(device)\n",
    "#             labels = batch['labels'].to(device)\n",
    "\n",
    "#             optimizer.zero_grad()\n",
    "#             level1_logits, level2_logits = model(\n",
    "#                 reason_text_ids,\n",
    "#                 reason_text_mask,\n",
    "#                 user_info\n",
    "#             )\n",
    "\n",
    "#             probs, level1_preds = torch.max(level1_logits, dim=1)\n",
    "#             correct_mask = (level1_preds == labels)\n",
    "#             loss = criterion(level1_logits, labels)\n",
    "\n",
    "#             if level2_logits is not None and (~correct_mask).any():\n",
    "#                 incorrect_indices = (~correct_mask).nonzero(as_tuple=True)[0]\n",
    "#                 level2_loss = criterion(level2_logits[incorrect_indices], labels[incorrect_indices])\n",
    "#                 loss += level2_loss\n",
    "\n",
    "#             loss.backward()\n",
    "#             optimizer.step()\n",
    "\n",
    "#             running_loss += loss.item()\n",
    "#             correct_level1 += correct_mask.sum().item()\n",
    "\n",
    "#             if level2_logits is not specialist_name_categoryNone:\n",
    "#                 probs, level2_preds = torch.max(level2_logits, dim=1)\n",
    "#                 final_preds = torch.where(correct_mask, level1_preds, level2_preds)\n",
    "#             else:\n",
    "#                 final_preds = level1_preds\n",
    "\n",
    "#             correct_combined += (final_preds == labels).sum().item()\n",
    "#             total += labels.size(0)\n",
    "\n",
    "#         print(f\"Epoch {epoch+1}/{num_epochs}:\")\n",
    "#         print(f\"Train Loss: {running_loss / len(train_loader): .4f}\")\n",
    "#         print(f\"Level 1 Accuracy: {100 * correct_level1 / total:.2f}\")\n",
    "#         print(f\"Final Accuracy (with Level 2 fallback): {100 * correct_combined / total: .2f}%\\n\")\n",
    "\n",
    "#         # validation\n",
    "#         model.eval()\n",
    "#         val_loss = 0.0\n",
    "#         correct_level1 = 0\n",
    "#         correct_combined = 0\n",
    "#         total = 0\n",
    "#         with torch.no_grad():\n",
    "#             for batch in tqdm(val_loader, desc='Validate...'):\n",
    "#                 reason_text_ids = batch['reason_text_ids'].to(device)\n",
    "#                 reason_text_mask = batch['reason_text_mask'].to(device)\n",
    "#                 user_info = batch.get('user_info', None)\n",
    "#                 if user_info is not None:\n",
    "#                     user_info = user_info.to(device)\n",
    "\n",
    "#                 labels = batch['labels'].to(device)\n",
    "\n",
    "#                 level1_logits, level2_logits = model(\n",
    "#                     reason_text_ids,\n",
    "#                     reason_text_mask,\n",
    "#                     user_info\n",
    "#                 )\n",
    "\n",
    "#                 _, level1_preds = torch.max(level1_logits, dim=1)\n",
    "#                 correct_mask = (level1_preds == labels)\n",
    "#                 loss = criterion(level1_logits, labels)\n",
    "#                 if level2_logits is not None and (~correct_mask).any():\n",
    "#                     incorrect_indices = (~correct_mask).nonzero(as_tuple=True)[0]\n",
    "#                     level2_loss = criterion(level2_logits[incorrect_indices], labels[incorrect_indices])\n",
    "#                     loss += level2_loss\n",
    "\n",
    "#                 val_loss += loss.item()\n",
    "#                 correct_level1 += correct_mask.sum().item()\n",
    "\n",
    "#                 if level2_logits is not None:\n",
    "#                     _, level2_preds = torch.max(level2_logits, dim=1)\n",
    "#                     final_preds = torch.where(correct_mask, level1_preds, level2_preds)\n",
    "#                 else:\n",
    "#                     final_preds = level1_preds\n",
    "\n",
    "#                 correct_combined += (final_preds == labels).sum().item()\n",
    "#                 total += labels.size(0)\n",
    "        \n",
    "#         avg_val_loss = val_loss / len(val_loader)\n",
    "#         print(f\"Validation loss: {avg_val_loss:.4f}\")\n",
    "#         print(f\"Validation level 1 Accuracy: {100 * correct_level1 / total:.2f}%\")\n",
    "#         print(f\"Validation Final Accuracy (with Level 2 fallback): {100 * correct_combined / total:.2f}%\\n\")\n",
    "\n",
    "#         if avg_val_loss < best_val_loss:\n",
    "#             best_val_loss = avg_val_loss\n",
    "#             patience_counter = 0\n",
    "#             torch.save(model.state_dict(), save_path)\n",
    "#             print(\"Model saved.\")\n",
    "#         else:\n",
    "#             patience_counter += 1\n",
    "#             if patience_counter >= patience:\n",
    "#                 print(\"Early stopping triggered.\")\n",
    "#                 break                "
   ]
  },
  {
   "cell_type": "code",
   "execution_count": 20,
   "id": "a5fbecc8-71a7-45e4-a97e-d7b8b47d89bc",
   "metadata": {},
   "outputs": [],
   "source": [
    "device = torch.device(\"cuda\" if torch.cuda.is_available() else \"cpu\")"
   ]
  },
  {
   "cell_type": "code",
   "execution_count": 21,
   "id": "5eb2f700-b6db-4c24-8cce-f0c4a2ff0930",
   "metadata": {},
   "outputs": [
    {
     "data": {
      "text/plain": [
       "device(type='cuda')"
      ]
     },
     "execution_count": 21,
     "metadata": {},
     "output_type": "execute_result"
    }
   ],
   "source": [
    "device"
   ]
  },
  {
   "cell_type": "code",
   "execution_count": 22,
   "id": "dc394ddc-4192-476c-b176-818e810b4ead",
   "metadata": {},
   "outputs": [],
   "source": [
    "tokenizer = AutoTokenizer.from_pretrained('../models/BookingCare/gte-multilingual-base-v2.1/')"
   ]
  },
  {
   "cell_type": "code",
   "execution_count": 23,
   "id": "442c411c-0c10-4b32-aaf5-88bad7c687dd",
   "metadata": {},
   "outputs": [],
   "source": [
    "specialist_encoder = LabelEncoder()\n",
    "age_encoder = LabelEncoder()\n",
    "gender_encoder = LabelEncoder()\n",
    "df['age_category'] = age_encoder.fit_transform(df['age_category'])\n",
    "df['gender'] = gender_encoder.fit_transform(df['gender'])\n",
    "df['specialist_name'] = specialist_encoder.fit_transform(df['specialist_name_category'])"
   ]
  },
  {
   "cell_type": "code",
   "execution_count": 24,
   "id": "b18363e1-65f1-495b-a71a-3d00ff5471ba",
   "metadata": {},
   "outputs": [
    {
     "data": {
      "text/html": [
       "<div>\n",
       "<style scoped>\n",
       "    .dataframe tbody tr th:only-of-type {\n",
       "        vertical-align: middle;\n",
       "    }\n",
       "\n",
       "    .dataframe tbody tr th {\n",
       "        vertical-align: top;\n",
       "    }\n",
       "\n",
       "    .dataframe thead th {\n",
       "        text-align: right;\n",
       "    }\n",
       "</style>\n",
       "<table border=\"1\" class=\"dataframe\">\n",
       "  <thead>\n",
       "    <tr style=\"text-align: right;\">\n",
       "      <th></th>\n",
       "      <th>partner_id</th>\n",
       "      <th>specialist_id</th>\n",
       "      <th>status</th>\n",
       "      <th>gender</th>\n",
       "      <th>province_id</th>\n",
       "      <th>age</th>\n",
       "      <th>reason_combind</th>\n",
       "      <th>specialist_name</th>\n",
       "      <th>Unnamed: 8</th>\n",
       "      <th>Unnamed: 9</th>\n",
       "      <th>Unnamed: 10</th>\n",
       "      <th>age_category</th>\n",
       "      <th>predicted_specialist</th>\n",
       "      <th>prediction_probability</th>\n",
       "      <th>specialist_name_category</th>\n",
       "    </tr>\n",
       "  </thead>\n",
       "  <tbody>\n",
       "    <tr>\n",
       "      <th>0</th>\n",
       "      <td>23.0</td>\n",
       "      <td>67.0</td>\n",
       "      <td>2.0</td>\n",
       "      <td>1</td>\n",
       "      <td>38.0</td>\n",
       "      <td>25</td>\n",
       "      <td>muốn làm ivf</td>\n",
       "      <td>17</td>\n",
       "      <td>NaN</td>\n",
       "      <td>NaN</td>\n",
       "      <td>NaN</td>\n",
       "      <td>0</td>\n",
       "      <td>vô sinh - hiếm muộn</td>\n",
       "      <td>0.916650</td>\n",
       "      <td>vô sinh - hiếm muộn</td>\n",
       "    </tr>\n",
       "    <tr>\n",
       "      <th>1</th>\n",
       "      <td>23.0</td>\n",
       "      <td>67.0</td>\n",
       "      <td>2.0</td>\n",
       "      <td>1</td>\n",
       "      <td>27.0</td>\n",
       "      <td>26</td>\n",
       "      <td>mong con</td>\n",
       "      <td>17</td>\n",
       "      <td>NaN</td>\n",
       "      <td>NaN</td>\n",
       "      <td>NaN</td>\n",
       "      <td>0</td>\n",
       "      <td>vô sinh - hiếm muộn</td>\n",
       "      <td>0.995743</td>\n",
       "      <td>vô sinh - hiếm muộn</td>\n",
       "    </tr>\n",
       "    <tr>\n",
       "      <th>2</th>\n",
       "      <td>23.0</td>\n",
       "      <td>67.0</td>\n",
       "      <td>2.0</td>\n",
       "      <td>0</td>\n",
       "      <td>27.0</td>\n",
       "      <td>28</td>\n",
       "      <td>hiếm muộn</td>\n",
       "      <td>17</td>\n",
       "      <td>NaN</td>\n",
       "      <td>NaN</td>\n",
       "      <td>NaN</td>\n",
       "      <td>0</td>\n",
       "      <td>vô sinh - hiếm muộn</td>\n",
       "      <td>0.918476</td>\n",
       "      <td>vô sinh - hiếm muộn</td>\n",
       "    </tr>\n",
       "    <tr>\n",
       "      <th>3</th>\n",
       "      <td>23.0</td>\n",
       "      <td>67.0</td>\n",
       "      <td>2.0</td>\n",
       "      <td>1</td>\n",
       "      <td>31.0</td>\n",
       "      <td>26</td>\n",
       "      <td>khám vô sinh, hiếm muộn</td>\n",
       "      <td>17</td>\n",
       "      <td>NaN</td>\n",
       "      <td>NaN</td>\n",
       "      <td>NaN</td>\n",
       "      <td>0</td>\n",
       "      <td>vô sinh - hiếm muộn</td>\n",
       "      <td>0.899810</td>\n",
       "      <td>vô sinh - hiếm muộn</td>\n",
       "    </tr>\n",
       "    <tr>\n",
       "      <th>4</th>\n",
       "      <td>23.0</td>\n",
       "      <td>67.0</td>\n",
       "      <td>2.0</td>\n",
       "      <td>1</td>\n",
       "      <td>1.0</td>\n",
       "      <td>34</td>\n",
       "      <td>thả hơn 1 năm mà không có thai nên muốn siêu â...</td>\n",
       "      <td>17</td>\n",
       "      <td>NaN</td>\n",
       "      <td>NaN</td>\n",
       "      <td>NaN</td>\n",
       "      <td>0</td>\n",
       "      <td>vô sinh - hiếm muộn</td>\n",
       "      <td>0.988115</td>\n",
       "      <td>vô sinh - hiếm muộn</td>\n",
       "    </tr>\n",
       "    <tr>\n",
       "      <th>...</th>\n",
       "      <td>...</td>\n",
       "      <td>...</td>\n",
       "      <td>...</td>\n",
       "      <td>...</td>\n",
       "      <td>...</td>\n",
       "      <td>...</td>\n",
       "      <td>...</td>\n",
       "      <td>...</td>\n",
       "      <td>...</td>\n",
       "      <td>...</td>\n",
       "      <td>...</td>\n",
       "      <td>...</td>\n",
       "      <td>...</td>\n",
       "      <td>...</td>\n",
       "      <td>...</td>\n",
       "    </tr>\n",
       "    <tr>\n",
       "      <th>53284</th>\n",
       "      <td>372.0</td>\n",
       "      <td>29.0</td>\n",
       "      <td>2.0</td>\n",
       "      <td>1</td>\n",
       "      <td>79.0</td>\n",
       "      <td>51</td>\n",
       "      <td>mắt trái đau cộm</td>\n",
       "      <td>0</td>\n",
       "      <td>NaN</td>\n",
       "      <td>NaN</td>\n",
       "      <td>NaN</td>\n",
       "      <td>0</td>\n",
       "      <td>chuyên khoa mắt</td>\n",
       "      <td>0.998472</td>\n",
       "      <td>chuyên khoa mắt</td>\n",
       "    </tr>\n",
       "    <tr>\n",
       "      <th>53285</th>\n",
       "      <td>111.0</td>\n",
       "      <td>29.0</td>\n",
       "      <td>2.0</td>\n",
       "      <td>1</td>\n",
       "      <td>79.0</td>\n",
       "      <td>58</td>\n",
       "      <td>kính áp tròng ko lấy ra được</td>\n",
       "      <td>0</td>\n",
       "      <td>NaN</td>\n",
       "      <td>NaN</td>\n",
       "      <td>NaN</td>\n",
       "      <td>0</td>\n",
       "      <td>chuyên khoa mắt</td>\n",
       "      <td>0.999552</td>\n",
       "      <td>chuyên khoa mắt</td>\n",
       "    </tr>\n",
       "    <tr>\n",
       "      <th>53286</th>\n",
       "      <td>85.0</td>\n",
       "      <td>17.0</td>\n",
       "      <td>2.0</td>\n",
       "      <td>0</td>\n",
       "      <td>27.0</td>\n",
       "      <td>34</td>\n",
       "      <td>tái khám mắt</td>\n",
       "      <td>0</td>\n",
       "      <td>NaN</td>\n",
       "      <td>NaN</td>\n",
       "      <td>NaN</td>\n",
       "      <td>0</td>\n",
       "      <td>chuyên khoa mắt</td>\n",
       "      <td>0.818044</td>\n",
       "      <td>chuyên khoa mắt</td>\n",
       "    </tr>\n",
       "    <tr>\n",
       "      <th>53287</th>\n",
       "      <td>85.0</td>\n",
       "      <td>17.0</td>\n",
       "      <td>2.0</td>\n",
       "      <td>0</td>\n",
       "      <td>30.0</td>\n",
       "      <td>50</td>\n",
       "      <td>khám mắt bs tung</td>\n",
       "      <td>0</td>\n",
       "      <td>NaN</td>\n",
       "      <td>NaN</td>\n",
       "      <td>NaN</td>\n",
       "      <td>0</td>\n",
       "      <td>chuyên khoa mắt</td>\n",
       "      <td>0.981538</td>\n",
       "      <td>chuyên khoa mắt</td>\n",
       "    </tr>\n",
       "    <tr>\n",
       "      <th>53288</th>\n",
       "      <td>85.0</td>\n",
       "      <td>17.0</td>\n",
       "      <td>2.0</td>\n",
       "      <td>0</td>\n",
       "      <td>1.0</td>\n",
       "      <td>49</td>\n",
       "      <td>khám mắt bị mờ sau mổ u hốc mắt</td>\n",
       "      <td>0</td>\n",
       "      <td>NaN</td>\n",
       "      <td>NaN</td>\n",
       "      <td>NaN</td>\n",
       "      <td>0</td>\n",
       "      <td>chuyên khoa mắt</td>\n",
       "      <td>0.989269</td>\n",
       "      <td>chuyên khoa mắt</td>\n",
       "    </tr>\n",
       "  </tbody>\n",
       "</table>\n",
       "<p>44052 rows × 15 columns</p>\n",
       "</div>"
      ],
      "text/plain": [
       "       partner_id  specialist_id  status  gender  province_id  age  \\\n",
       "0            23.0           67.0     2.0       1         38.0   25   \n",
       "1            23.0           67.0     2.0       1         27.0   26   \n",
       "2            23.0           67.0     2.0       0         27.0   28   \n",
       "3            23.0           67.0     2.0       1         31.0   26   \n",
       "4            23.0           67.0     2.0       1          1.0   34   \n",
       "...           ...            ...     ...     ...          ...  ...   \n",
       "53284       372.0           29.0     2.0       1         79.0   51   \n",
       "53285       111.0           29.0     2.0       1         79.0   58   \n",
       "53286        85.0           17.0     2.0       0         27.0   34   \n",
       "53287        85.0           17.0     2.0       0         30.0   50   \n",
       "53288        85.0           17.0     2.0       0          1.0   49   \n",
       "\n",
       "                                          reason_combind  specialist_name  \\\n",
       "0                                           muốn làm ivf               17   \n",
       "1                                               mong con               17   \n",
       "2                                              hiếm muộn               17   \n",
       "3                                khám vô sinh, hiếm muộn               17   \n",
       "4      thả hơn 1 năm mà không có thai nên muốn siêu â...               17   \n",
       "...                                                  ...              ...   \n",
       "53284                                   mắt trái đau cộm                0   \n",
       "53285                       kính áp tròng ko lấy ra được                0   \n",
       "53286                                       tái khám mắt                0   \n",
       "53287                                   khám mắt bs tung                0   \n",
       "53288                    khám mắt bị mờ sau mổ u hốc mắt                0   \n",
       "\n",
       "       Unnamed: 8  Unnamed: 9 Unnamed: 10  age_category predicted_specialist  \\\n",
       "0             NaN         NaN         NaN             0  vô sinh - hiếm muộn   \n",
       "1             NaN         NaN         NaN             0  vô sinh - hiếm muộn   \n",
       "2             NaN         NaN         NaN             0  vô sinh - hiếm muộn   \n",
       "3             NaN         NaN         NaN             0  vô sinh - hiếm muộn   \n",
       "4             NaN         NaN         NaN             0  vô sinh - hiếm muộn   \n",
       "...           ...         ...         ...           ...                  ...   \n",
       "53284         NaN         NaN         NaN             0      chuyên khoa mắt   \n",
       "53285         NaN         NaN         NaN             0      chuyên khoa mắt   \n",
       "53286         NaN         NaN         NaN             0      chuyên khoa mắt   \n",
       "53287         NaN         NaN         NaN             0      chuyên khoa mắt   \n",
       "53288         NaN         NaN         NaN             0      chuyên khoa mắt   \n",
       "\n",
       "       prediction_probability specialist_name_category  \n",
       "0                    0.916650      vô sinh - hiếm muộn  \n",
       "1                    0.995743      vô sinh - hiếm muộn  \n",
       "2                    0.918476      vô sinh - hiếm muộn  \n",
       "3                    0.899810      vô sinh - hiếm muộn  \n",
       "4                    0.988115      vô sinh - hiếm muộn  \n",
       "...                       ...                      ...  \n",
       "53284                0.998472          chuyên khoa mắt  \n",
       "53285                0.999552          chuyên khoa mắt  \n",
       "53286                0.818044          chuyên khoa mắt  \n",
       "53287                0.981538          chuyên khoa mắt  \n",
       "53288                0.989269          chuyên khoa mắt  \n",
       "\n",
       "[44052 rows x 15 columns]"
      ]
     },
     "execution_count": 24,
     "metadata": {},
     "output_type": "execute_result"
    }
   ],
   "source": [
    "df"
   ]
  },
  {
   "cell_type": "code",
   "execution_count": 25,
   "id": "91b48e69-961e-4890-b9a5-83de3f9b8af3",
   "metadata": {},
   "outputs": [],
   "source": [
    "dataset = MedicalDataFrameDataset(df, tokenizer)"
   ]
  },
  {
   "cell_type": "code",
   "execution_count": 26,
   "id": "d7c66db4-edc2-4531-9b09-6162430b02a3",
   "metadata": {},
   "outputs": [
    {
     "data": {
      "text/plain": [
       "{'reason_text_ids': tensor([   0, 6542, 1839,   17,  334,  420,    2,    1,    1,    1,    1,    1,\n",
       "            1,    1,    1,    1,    1,    1,    1,    1,    1,    1,    1,    1,\n",
       "            1,    1,    1,    1,    1,    1,    1,    1,    1,    1,    1,    1,\n",
       "            1,    1,    1,    1,    1,    1,    1,    1,    1,    1,    1,    1,\n",
       "            1,    1,    1,    1,    1,    1,    1,    1,    1,    1,    1,    1,\n",
       "            1,    1,    1,    1,    1,    1,    1,    1,    1,    1,    1,    1,\n",
       "            1,    1,    1,    1,    1,    1,    1,    1,    1,    1,    1,    1,\n",
       "            1,    1,    1,    1,    1,    1,    1,    1,    1,    1,    1,    1,\n",
       "            1,    1,    1,    1,    1,    1,    1,    1,    1,    1,    1,    1,\n",
       "            1,    1,    1,    1,    1,    1,    1,    1,    1,    1,    1,    1,\n",
       "            1,    1,    1,    1,    1,    1,    1,    1]),\n",
       " 'reason_text_mask': tensor([1, 1, 1, 1, 1, 1, 1, 0, 0, 0, 0, 0, 0, 0, 0, 0, 0, 0, 0, 0, 0, 0, 0, 0,\n",
       "         0, 0, 0, 0, 0, 0, 0, 0, 0, 0, 0, 0, 0, 0, 0, 0, 0, 0, 0, 0, 0, 0, 0, 0,\n",
       "         0, 0, 0, 0, 0, 0, 0, 0, 0, 0, 0, 0, 0, 0, 0, 0, 0, 0, 0, 0, 0, 0, 0, 0,\n",
       "         0, 0, 0, 0, 0, 0, 0, 0, 0, 0, 0, 0, 0, 0, 0, 0, 0, 0, 0, 0, 0, 0, 0, 0,\n",
       "         0, 0, 0, 0, 0, 0, 0, 0, 0, 0, 0, 0, 0, 0, 0, 0, 0, 0, 0, 0, 0, 0, 0, 0,\n",
       "         0, 0, 0, 0, 0, 0, 0, 0]),\n",
       " 'user_info': tensor([1., 0.]),\n",
       " 'labels': tensor(17)}"
      ]
     },
     "execution_count": 26,
     "metadata": {},
     "output_type": "execute_result"
    }
   ],
   "source": [
    "dataset.__getitem__(0)"
   ]
  },
  {
   "cell_type": "code",
   "execution_count": 27,
   "id": "6210f789-54dd-48d2-b091-94a6a7a49848",
   "metadata": {},
   "outputs": [],
   "source": [
    "train_size = int(0.8 * len(dataset))\n",
    "val_size = len(dataset) - train_size\n",
    "\n",
    "train_dataset, val_dataset = torch.utils.data.random_split(dataset, [train_size, val_size])\n",
    "\n",
    "train_loader = DataLoader(dataset, batch_size=64, shuffle=True)\n",
    "val_loader = DataLoader(val_dataset, batch_size=64)"
   ]
  },
  {
   "cell_type": "code",
   "execution_count": 29,
   "id": "e3aa9ff1-15f9-4032-ab65-686d1f8f82b9",
   "metadata": {},
   "outputs": [],
   "source": [
    "model = MedicalSpecialistClassifer(model_name = \"../models/BookingCare/gte-multilingual-base-v2.1/\",num_specialists=len(specialist_encoder.classes_), user_feature_dim=2, load_pretrained=True, trust_remote_code=True)"
   ]
  },
  {
   "cell_type": "code",
   "execution_count": 29,
   "id": "6be37109-96e7-4ca4-9867-67ae290b8569",
   "metadata": {},
   "outputs": [
    {
     "data": {
      "text/plain": [
       "MedicalSpecialistClassifer(\n",
       "  (reason_encoder): NewModel(\n",
       "    (embeddings): NewEmbeddings(\n",
       "      (word_embeddings): Embedding(250048, 768, padding_idx=1)\n",
       "      (rotary_emb): NTKScalingRotaryEmbedding()\n",
       "      (token_type_embeddings): Embedding(1, 768)\n",
       "      (LayerNorm): LayerNorm((768,), eps=1e-12, elementwise_affine=True)\n",
       "      (dropout): Dropout(p=0.1, inplace=False)\n",
       "    )\n",
       "    (encoder): NewEncoder(\n",
       "      (layer): ModuleList(\n",
       "        (0-11): 12 x NewLayer(\n",
       "          (attention): NewSdpaAttention(\n",
       "            (qkv_proj): Linear(in_features=768, out_features=2304, bias=True)\n",
       "            (dropout): Dropout(p=0.0, inplace=False)\n",
       "            (o_proj): Linear(in_features=768, out_features=768, bias=True)\n",
       "          )\n",
       "          (mlp): NewGatedMLP(\n",
       "            (up_gate_proj): Linear(in_features=768, out_features=6144, bias=False)\n",
       "            (down_proj): Linear(in_features=3072, out_features=768, bias=True)\n",
       "            (act_fn): GELUActivation()\n",
       "            (hidden_dropout): Dropout(p=0.1, inplace=False)\n",
       "          )\n",
       "          (attn_ln): LayerNorm((768,), eps=1e-12, elementwise_affine=True)\n",
       "          (mlp_ln): LayerNorm((768,), eps=1e-12, elementwise_affine=True)\n",
       "          (hidden_dropout): Dropout(p=0.1, inplace=False)\n",
       "        )\n",
       "      )\n",
       "    )\n",
       "  )\n",
       "  (relu): ReLU()\n",
       "  (dropout): Dropout(p=0.2, inplace=False)\n",
       "  (user_encoder): Sequential(\n",
       "    (0): Linear(in_features=2, out_features=128, bias=True)\n",
       "    (1): BatchNorm1d(128, eps=1e-05, momentum=0.1, affine=True, track_running_stats=True)\n",
       "    (2): ReLU()\n",
       "    (3): Dropout(p=0.2, inplace=False)\n",
       "    (4): Linear(in_features=128, out_features=256, bias=True)\n",
       "    (5): ReLU()\n",
       "  )\n",
       "  (hidden_layer1): Sequential(\n",
       "    (0): Linear(in_features=768, out_features=512, bias=True)\n",
       "    (1): BatchNorm1d(512, eps=1e-05, momentum=0.1, affine=True, track_running_stats=True)\n",
       "    (2): ReLU()\n",
       "    (3): Dropout(p=0.2, inplace=False)\n",
       "  )\n",
       "  (level1_output): Linear(in_features=512, out_features=18, bias=True)\n",
       "  (hidden_layer2): Sequential(\n",
       "    (0): Linear(in_features=1536, out_features=768, bias=True)\n",
       "    (1): BatchNorm1d(768, eps=1e-05, momentum=0.1, affine=True, track_running_stats=True)\n",
       "    (2): ReLU()\n",
       "    (3): Dropout(p=0.2, inplace=False)\n",
       "  )\n",
       "  (level2_output): Linear(in_features=768, out_features=18, bias=True)\n",
       ")"
      ]
     },
     "execution_count": 29,
     "metadata": {},
     "output_type": "execute_result"
    }
   ],
   "source": [
    "model"
   ]
  },
  {
   "cell_type": "code",
   "execution_count": 30,
   "id": "185d13cb-1746-4fae-9fcc-ca883759986f",
   "metadata": {},
   "outputs": [],
   "source": [
    "for p in model.level2_output.parameters():\n",
    "    p.requires_grad = False\n",
    "for p in model.hidden_layer2.parameters():\n",
    "    p.requires_grad = False"
   ]
  },
  {
   "cell_type": "code",
   "execution_count": 31,
   "id": "04c16068-ed27-4fdd-afbc-dba7ba615d9f",
   "metadata": {},
   "outputs": [],
   "source": [
    "optimizer = torch.optim.AdamW(model.parameters(), lr=2e-4)"
   ]
  },
  {
   "cell_type": "code",
   "execution_count": 32,
   "id": "49c413de-c46d-48c3-9e82-6341ed6fd6c4",
   "metadata": {},
   "outputs": [],
   "source": [
    "weight_class = torch.tensor(weight_class, dtype=torch.float).to(device)"
   ]
  },
  {
   "cell_type": "code",
   "execution_count": 33,
   "id": "369618a0-8d9a-4976-8331-82003c9d8796",
   "metadata": {},
   "outputs": [],
   "source": [
    "criterion = nn.CrossEntropyLoss(weight=weight_class)"
   ]
  },
  {
   "cell_type": "code",
   "execution_count": 34,
   "id": "3c232a3f-ad44-4c20-8de7-47fe31d456ed",
   "metadata": {},
   "outputs": [
    {
     "data": {
      "application/vnd.jupyter.widget-view+json": {
       "model_id": "9098cd354de747d79a629f57b4f42bf0",
       "version_major": 2,
       "version_minor": 0
      },
      "text/plain": [
       "  0%|          | 0/50 [00:00<?, ?it/s]"
      ]
     },
     "metadata": {},
     "output_type": "display_data"
    },
    {
     "data": {
      "application/vnd.jupyter.widget-view+json": {
       "model_id": "307333e35e9c4b45b702fa1526a75079",
       "version_major": 2,
       "version_minor": 0
      },
      "text/plain": [
       "Training...:   0%|          | 0/689 [00:00<?, ?it/s]"
      ]
     },
     "metadata": {},
     "output_type": "display_data"
    },
    {
     "name": "stdout",
     "output_type": "stream",
     "text": [
      "Epoch 1/50:\n",
      "Train Loss:  0.8487\n",
      "Level 1 Accuracy: 79.50%\n"
     ]
    },
    {
     "data": {
      "application/vnd.jupyter.widget-view+json": {
       "model_id": "3f91172b1e214274a68442d8313c3ad0",
       "version_major": 2,
       "version_minor": 0
      },
      "text/plain": [
       "Validate...:   0%|          | 0/138 [00:00<?, ?it/s]"
      ]
     },
     "metadata": {},
     "output_type": "display_data"
    },
    {
     "name": "stdout",
     "output_type": "stream",
     "text": [
      "Validation loss: 0.5345\n",
      "Validation level 1 Accuracy: 85.68%\n",
      "Model saved.\n"
     ]
    },
    {
     "data": {
      "application/vnd.jupyter.widget-view+json": {
       "model_id": "1c064dd0b211431894f80b67018453cd",
       "version_major": 2,
       "version_minor": 0
      },
      "text/plain": [
       "Training...:   0%|          | 0/689 [00:00<?, ?it/s]"
      ]
     },
     "metadata": {},
     "output_type": "display_data"
    },
    {
     "name": "stdout",
     "output_type": "stream",
     "text": [
      "Epoch 2/50:\n",
      "Train Loss:  0.5965\n",
      "Level 1 Accuracy: 83.98%\n"
     ]
    },
    {
     "data": {
      "application/vnd.jupyter.widget-view+json": {
       "model_id": "fedcccb3684549e2ac8e088f51c9ebaa",
       "version_major": 2,
       "version_minor": 0
      },
      "text/plain": [
       "Validate...:   0%|          | 0/138 [00:00<?, ?it/s]"
      ]
     },
     "metadata": {},
     "output_type": "display_data"
    },
    {
     "name": "stdout",
     "output_type": "stream",
     "text": [
      "Validation loss: 0.4429\n",
      "Validation level 1 Accuracy: 87.77%\n",
      "Model saved.\n"
     ]
    },
    {
     "data": {
      "application/vnd.jupyter.widget-view+json": {
       "model_id": "8c2a6a4007f14c78baa700f2094476e6",
       "version_major": 2,
       "version_minor": 0
      },
      "text/plain": [
       "Training...:   0%|          | 0/689 [00:00<?, ?it/s]"
      ]
     },
     "metadata": {},
     "output_type": "display_data"
    },
    {
     "name": "stdout",
     "output_type": "stream",
     "text": [
      "Epoch 3/50:\n",
      "Train Loss:  0.5334\n",
      "Level 1 Accuracy: 85.38%\n"
     ]
    },
    {
     "data": {
      "application/vnd.jupyter.widget-view+json": {
       "model_id": "c641683ead5940dca3788b7a64d94566",
       "version_major": 2,
       "version_minor": 0
      },
      "text/plain": [
       "Validate...:   0%|          | 0/138 [00:00<?, ?it/s]"
      ]
     },
     "metadata": {},
     "output_type": "display_data"
    },
    {
     "name": "stdout",
     "output_type": "stream",
     "text": [
      "Validation loss: 0.3947\n",
      "Validation level 1 Accuracy: 89.33%\n",
      "Model saved.\n"
     ]
    },
    {
     "data": {
      "application/vnd.jupyter.widget-view+json": {
       "model_id": "e3f61ced59e248edbf2a1bcfc54965b5",
       "version_major": 2,
       "version_minor": 0
      },
      "text/plain": [
       "Training...:   0%|          | 0/689 [00:00<?, ?it/s]"
      ]
     },
     "metadata": {},
     "output_type": "display_data"
    },
    {
     "name": "stdout",
     "output_type": "stream",
     "text": [
      "Epoch 4/50:\n",
      "Train Loss:  0.4935\n",
      "Level 1 Accuracy: 86.24%\n"
     ]
    },
    {
     "data": {
      "application/vnd.jupyter.widget-view+json": {
       "model_id": "5b8d56e110a74e259a26862c4f2dbf20",
       "version_major": 2,
       "version_minor": 0
      },
      "text/plain": [
       "Validate...:   0%|          | 0/138 [00:00<?, ?it/s]"
      ]
     },
     "metadata": {},
     "output_type": "display_data"
    },
    {
     "name": "stdout",
     "output_type": "stream",
     "text": [
      "Validation loss: 0.3504\n",
      "Validation level 1 Accuracy: 89.81%\n",
      "Model saved.\n"
     ]
    },
    {
     "data": {
      "application/vnd.jupyter.widget-view+json": {
       "model_id": "b430dc1f17d142949bce9aac5420ff52",
       "version_major": 2,
       "version_minor": 0
      },
      "text/plain": [
       "Training...:   0%|          | 0/689 [00:00<?, ?it/s]"
      ]
     },
     "metadata": {},
     "output_type": "display_data"
    },
    {
     "name": "stdout",
     "output_type": "stream",
     "text": [
      "Epoch 5/50:\n",
      "Train Loss:  0.4532\n",
      "Level 1 Accuracy: 86.98%\n"
     ]
    },
    {
     "data": {
      "application/vnd.jupyter.widget-view+json": {
       "model_id": "240442cfba6247c9aa153def881a8670",
       "version_major": 2,
       "version_minor": 0
      },
      "text/plain": [
       "Validate...:   0%|          | 0/138 [00:00<?, ?it/s]"
      ]
     },
     "metadata": {},
     "output_type": "display_data"
    },
    {
     "name": "stdout",
     "output_type": "stream",
     "text": [
      "Validation loss: 0.3165\n",
      "Validation level 1 Accuracy: 90.74%\n",
      "Model saved.\n"
     ]
    },
    {
     "data": {
      "application/vnd.jupyter.widget-view+json": {
       "model_id": "0572869c71ab46548b5d30f307761fa3",
       "version_major": 2,
       "version_minor": 0
      },
      "text/plain": [
       "Training...:   0%|          | 0/689 [00:00<?, ?it/s]"
      ]
     },
     "metadata": {},
     "output_type": "display_data"
    },
    {
     "name": "stdout",
     "output_type": "stream",
     "text": [
      "Epoch 6/50:\n",
      "Train Loss:  0.4305\n",
      "Level 1 Accuracy: 87.46%\n"
     ]
    },
    {
     "data": {
      "application/vnd.jupyter.widget-view+json": {
       "model_id": "141a2b43081e48cb953817c3623c51c1",
       "version_major": 2,
       "version_minor": 0
      },
      "text/plain": [
       "Validate...:   0%|          | 0/138 [00:00<?, ?it/s]"
      ]
     },
     "metadata": {},
     "output_type": "display_data"
    },
    {
     "name": "stdout",
     "output_type": "stream",
     "text": [
      "Validation loss: 0.2864\n",
      "Validation level 1 Accuracy: 91.52%\n",
      "Model saved.\n"
     ]
    },
    {
     "data": {
      "application/vnd.jupyter.widget-view+json": {
       "model_id": "ab734cc0e98a48f0adef50113aa697fb",
       "version_major": 2,
       "version_minor": 0
      },
      "text/plain": [
       "Training...:   0%|          | 0/689 [00:00<?, ?it/s]"
      ]
     },
     "metadata": {},
     "output_type": "display_data"
    },
    {
     "name": "stdout",
     "output_type": "stream",
     "text": [
      "Epoch 7/50:\n",
      "Train Loss:  0.4097\n",
      "Level 1 Accuracy: 87.86%\n"
     ]
    },
    {
     "data": {
      "application/vnd.jupyter.widget-view+json": {
       "model_id": "fd0f1082d518422c94fc5348f6049a50",
       "version_major": 2,
       "version_minor": 0
      },
      "text/plain": [
       "Validate...:   0%|          | 0/138 [00:00<?, ?it/s]"
      ]
     },
     "metadata": {},
     "output_type": "display_data"
    },
    {
     "name": "stdout",
     "output_type": "stream",
     "text": [
      "Validation loss: 0.2691\n",
      "Validation level 1 Accuracy: 92.32%\n",
      "Model saved.\n"
     ]
    },
    {
     "data": {
      "application/vnd.jupyter.widget-view+json": {
       "model_id": "8ad966328ee946d7b98dd8bcf439fec7",
       "version_major": 2,
       "version_minor": 0
      },
      "text/plain": [
       "Training...:   0%|          | 0/689 [00:00<?, ?it/s]"
      ]
     },
     "metadata": {},
     "output_type": "display_data"
    },
    {
     "name": "stdout",
     "output_type": "stream",
     "text": [
      "Epoch 8/50:\n",
      "Train Loss:  0.3879\n",
      "Level 1 Accuracy: 88.31%\n"
     ]
    },
    {
     "data": {
      "application/vnd.jupyter.widget-view+json": {
       "model_id": "462e6a2d9e9d42b3868625fdab190414",
       "version_major": 2,
       "version_minor": 0
      },
      "text/plain": [
       "Validate...:   0%|          | 0/138 [00:00<?, ?it/s]"
      ]
     },
     "metadata": {},
     "output_type": "display_data"
    },
    {
     "name": "stdout",
     "output_type": "stream",
     "text": [
      "Validation loss: 0.2465\n",
      "Validation level 1 Accuracy: 92.53%\n",
      "Model saved.\n"
     ]
    },
    {
     "data": {
      "application/vnd.jupyter.widget-view+json": {
       "model_id": "301e4c9236404d9cbc2190d533e0e6b9",
       "version_major": 2,
       "version_minor": 0
      },
      "text/plain": [
       "Training...:   0%|          | 0/689 [00:00<?, ?it/s]"
      ]
     },
     "metadata": {},
     "output_type": "display_data"
    },
    {
     "name": "stdout",
     "output_type": "stream",
     "text": [
      "Epoch 9/50:\n",
      "Train Loss:  0.3716\n",
      "Level 1 Accuracy: 88.68%\n"
     ]
    },
    {
     "data": {
      "application/vnd.jupyter.widget-view+json": {
       "model_id": "be72d0658a3c4bfcb30a45d59fd1bd36",
       "version_major": 2,
       "version_minor": 0
      },
      "text/plain": [
       "Validate...:   0%|          | 0/138 [00:00<?, ?it/s]"
      ]
     },
     "metadata": {},
     "output_type": "display_data"
    },
    {
     "name": "stdout",
     "output_type": "stream",
     "text": [
      "Validation loss: 0.2394\n",
      "Validation level 1 Accuracy: 91.83%\n",
      "Model saved.\n"
     ]
    },
    {
     "data": {
      "application/vnd.jupyter.widget-view+json": {
       "model_id": "78636d60137f4dd3b2d98ff3b8ff9d97",
       "version_major": 2,
       "version_minor": 0
      },
      "text/plain": [
       "Training...:   0%|          | 0/689 [00:00<?, ?it/s]"
      ]
     },
     "metadata": {},
     "output_type": "display_data"
    },
    {
     "name": "stdout",
     "output_type": "stream",
     "text": [
      "Epoch 10/50:\n",
      "Train Loss:  0.3584\n",
      "Level 1 Accuracy: 88.83%\n"
     ]
    },
    {
     "data": {
      "application/vnd.jupyter.widget-view+json": {
       "model_id": "22e7fe5f56884f848b8acd180cce0eaf",
       "version_major": 2,
       "version_minor": 0
      },
      "text/plain": [
       "Validate...:   0%|          | 0/138 [00:00<?, ?it/s]"
      ]
     },
     "metadata": {},
     "output_type": "display_data"
    },
    {
     "name": "stdout",
     "output_type": "stream",
     "text": [
      "Validation loss: 0.2143\n",
      "Validation level 1 Accuracy: 93.13%\n",
      "Model saved.\n"
     ]
    },
    {
     "data": {
      "application/vnd.jupyter.widget-view+json": {
       "model_id": "a669850466ca46f4aa13af447ad55b08",
       "version_major": 2,
       "version_minor": 0
      },
      "text/plain": [
       "Training...:   0%|          | 0/689 [00:00<?, ?it/s]"
      ]
     },
     "metadata": {},
     "output_type": "display_data"
    },
    {
     "name": "stdout",
     "output_type": "stream",
     "text": [
      "Epoch 11/50:\n",
      "Train Loss:  0.3438\n",
      "Level 1 Accuracy: 89.18%\n"
     ]
    },
    {
     "data": {
      "application/vnd.jupyter.widget-view+json": {
       "model_id": "e3b3ef666fd44226844eb203c7a14194",
       "version_major": 2,
       "version_minor": 0
      },
      "text/plain": [
       "Validate...:   0%|          | 0/138 [00:00<?, ?it/s]"
      ]
     },
     "metadata": {},
     "output_type": "display_data"
    },
    {
     "name": "stdout",
     "output_type": "stream",
     "text": [
      "Validation loss: 0.2005\n",
      "Validation level 1 Accuracy: 93.91%\n",
      "Model saved.\n"
     ]
    },
    {
     "data": {
      "application/vnd.jupyter.widget-view+json": {
       "model_id": "07adc24c5ef64868b5b1cdfc65543de5",
       "version_major": 2,
       "version_minor": 0
      },
      "text/plain": [
       "Training...:   0%|          | 0/689 [00:00<?, ?it/s]"
      ]
     },
     "metadata": {},
     "output_type": "display_data"
    },
    {
     "name": "stdout",
     "output_type": "stream",
     "text": [
      "Epoch 12/50:\n",
      "Train Loss:  0.3265\n",
      "Level 1 Accuracy: 89.59%\n"
     ]
    },
    {
     "data": {
      "application/vnd.jupyter.widget-view+json": {
       "model_id": "4bcd533e659a4a3f87e8dfe2e14655b4",
       "version_major": 2,
       "version_minor": 0
      },
      "text/plain": [
       "Validate...:   0%|          | 0/138 [00:00<?, ?it/s]"
      ]
     },
     "metadata": {},
     "output_type": "display_data"
    },
    {
     "name": "stdout",
     "output_type": "stream",
     "text": [
      "Validation loss: 0.1894\n",
      "Validation level 1 Accuracy: 93.97%\n",
      "Model saved.\n"
     ]
    },
    {
     "data": {
      "application/vnd.jupyter.widget-view+json": {
       "model_id": "e479824792444548b193920a02b56d7e",
       "version_major": 2,
       "version_minor": 0
      },
      "text/plain": [
       "Training...:   0%|          | 0/689 [00:00<?, ?it/s]"
      ]
     },
     "metadata": {},
     "output_type": "display_data"
    },
    {
     "name": "stdout",
     "output_type": "stream",
     "text": [
      "Epoch 13/50:\n",
      "Train Loss:  0.3164\n",
      "Level 1 Accuracy: 89.78%\n"
     ]
    },
    {
     "data": {
      "application/vnd.jupyter.widget-view+json": {
       "model_id": "00fa0950689946f2a3888d8bc1e517c2",
       "version_major": 2,
       "version_minor": 0
      },
      "text/plain": [
       "Validate...:   0%|          | 0/138 [00:00<?, ?it/s]"
      ]
     },
     "metadata": {},
     "output_type": "display_data"
    },
    {
     "name": "stdout",
     "output_type": "stream",
     "text": [
      "Validation loss: 0.1741\n",
      "Validation level 1 Accuracy: 94.59%\n",
      "Model saved.\n"
     ]
    },
    {
     "data": {
      "application/vnd.jupyter.widget-view+json": {
       "model_id": "8574452899bd4c98ac87826f42cf3d83",
       "version_major": 2,
       "version_minor": 0
      },
      "text/plain": [
       "Training...:   0%|          | 0/689 [00:00<?, ?it/s]"
      ]
     },
     "metadata": {},
     "output_type": "display_data"
    },
    {
     "name": "stdout",
     "output_type": "stream",
     "text": [
      "Epoch 14/50:\n",
      "Train Loss:  0.3049\n",
      "Level 1 Accuracy: 89.98%\n"
     ]
    },
    {
     "data": {
      "application/vnd.jupyter.widget-view+json": {
       "model_id": "70185498ff174546a418021ebd1bf37d",
       "version_major": 2,
       "version_minor": 0
      },
      "text/plain": [
       "Validate...:   0%|          | 0/138 [00:00<?, ?it/s]"
      ]
     },
     "metadata": {},
     "output_type": "display_data"
    },
    {
     "name": "stdout",
     "output_type": "stream",
     "text": [
      "Validation loss: 0.1643\n",
      "Validation level 1 Accuracy: 95.05%\n",
      "Model saved.\n"
     ]
    },
    {
     "data": {
      "application/vnd.jupyter.widget-view+json": {
       "model_id": "33b99669cc054d41ba556d9d05f94a0a",
       "version_major": 2,
       "version_minor": 0
      },
      "text/plain": [
       "Training...:   0%|          | 0/689 [00:00<?, ?it/s]"
      ]
     },
     "metadata": {},
     "output_type": "display_data"
    },
    {
     "name": "stdout",
     "output_type": "stream",
     "text": [
      "Epoch 15/50:\n",
      "Train Loss:  0.2922\n",
      "Level 1 Accuracy: 90.29%\n"
     ]
    },
    {
     "data": {
      "application/vnd.jupyter.widget-view+json": {
       "model_id": "4fd62b3b78be4dc4bb60da8f66aebb4b",
       "version_major": 2,
       "version_minor": 0
      },
      "text/plain": [
       "Validate...:   0%|          | 0/138 [00:00<?, ?it/s]"
      ]
     },
     "metadata": {},
     "output_type": "display_data"
    },
    {
     "name": "stdout",
     "output_type": "stream",
     "text": [
      "Validation loss: 0.1536\n",
      "Validation level 1 Accuracy: 94.65%\n",
      "Model saved.\n"
     ]
    },
    {
     "data": {
      "application/vnd.jupyter.widget-view+json": {
       "model_id": "f79c17c289a34a24b04a6b204ae18d62",
       "version_major": 2,
       "version_minor": 0
      },
      "text/plain": [
       "Training...:   0%|          | 0/689 [00:00<?, ?it/s]"
      ]
     },
     "metadata": {},
     "output_type": "display_data"
    },
    {
     "name": "stdout",
     "output_type": "stream",
     "text": [
      "Epoch 16/50:\n",
      "Train Loss:  0.2880\n",
      "Level 1 Accuracy: 90.50%\n"
     ]
    },
    {
     "data": {
      "application/vnd.jupyter.widget-view+json": {
       "model_id": "081b23c5527a4d768434b5d68f63aa13",
       "version_major": 2,
       "version_minor": 0
      },
      "text/plain": [
       "Validate...:   0%|          | 0/138 [00:00<?, ?it/s]"
      ]
     },
     "metadata": {},
     "output_type": "display_data"
    },
    {
     "name": "stdout",
     "output_type": "stream",
     "text": [
      "Validation loss: 0.1470\n",
      "Validation level 1 Accuracy: 95.31%\n",
      "Model saved.\n"
     ]
    },
    {
     "data": {
      "application/vnd.jupyter.widget-view+json": {
       "model_id": "385e9862afc64ab9a5aa151932551b2d",
       "version_major": 2,
       "version_minor": 0
      },
      "text/plain": [
       "Training...:   0%|          | 0/689 [00:00<?, ?it/s]"
      ]
     },
     "metadata": {},
     "output_type": "display_data"
    },
    {
     "name": "stdout",
     "output_type": "stream",
     "text": [
      "Epoch 17/50:\n",
      "Train Loss:  0.2799\n",
      "Level 1 Accuracy: 90.64%\n"
     ]
    },
    {
     "data": {
      "application/vnd.jupyter.widget-view+json": {
       "model_id": "8cf049658f774f4f9cbeabc8182b43f0",
       "version_major": 2,
       "version_minor": 0
      },
      "text/plain": [
       "Validate...:   0%|          | 0/138 [00:00<?, ?it/s]"
      ]
     },
     "metadata": {},
     "output_type": "display_data"
    },
    {
     "name": "stdout",
     "output_type": "stream",
     "text": [
      "Validation loss: 0.1318\n",
      "Validation level 1 Accuracy: 95.73%\n",
      "Model saved.\n"
     ]
    },
    {
     "data": {
      "application/vnd.jupyter.widget-view+json": {
       "model_id": "6bd1607b375d42adaa8417a3192acc3b",
       "version_major": 2,
       "version_minor": 0
      },
      "text/plain": [
       "Training...:   0%|          | 0/689 [00:00<?, ?it/s]"
      ]
     },
     "metadata": {},
     "output_type": "display_data"
    },
    {
     "name": "stdout",
     "output_type": "stream",
     "text": [
      "Epoch 18/50:\n",
      "Train Loss:  0.2635\n",
      "Level 1 Accuracy: 91.06%\n"
     ]
    },
    {
     "data": {
      "application/vnd.jupyter.widget-view+json": {
       "model_id": "0993e03d75354840ba28323756565687",
       "version_major": 2,
       "version_minor": 0
      },
      "text/plain": [
       "Validate...:   0%|          | 0/138 [00:00<?, ?it/s]"
      ]
     },
     "metadata": {},
     "output_type": "display_data"
    },
    {
     "name": "stdout",
     "output_type": "stream",
     "text": [
      "Validation loss: 0.1288\n",
      "Validation level 1 Accuracy: 95.87%\n",
      "Model saved.\n"
     ]
    },
    {
     "data": {
      "application/vnd.jupyter.widget-view+json": {
       "model_id": "b7ab13d0d242411180ddde86ed32103b",
       "version_major": 2,
       "version_minor": 0
      },
      "text/plain": [
       "Training...:   0%|          | 0/689 [00:00<?, ?it/s]"
      ]
     },
     "metadata": {},
     "output_type": "display_data"
    },
    {
     "name": "stdout",
     "output_type": "stream",
     "text": [
      "Epoch 19/50:\n",
      "Train Loss:  0.2599\n",
      "Level 1 Accuracy: 91.19%\n"
     ]
    },
    {
     "data": {
      "application/vnd.jupyter.widget-view+json": {
       "model_id": "88208d0a1ea942568e68113b99662393",
       "version_major": 2,
       "version_minor": 0
      },
      "text/plain": [
       "Validate...:   0%|          | 0/138 [00:00<?, ?it/s]"
      ]
     },
     "metadata": {},
     "output_type": "display_data"
    },
    {
     "name": "stdout",
     "output_type": "stream",
     "text": [
      "Validation loss: 0.1260\n",
      "Validation level 1 Accuracy: 95.80%\n",
      "Model saved.\n"
     ]
    },
    {
     "data": {
      "application/vnd.jupyter.widget-view+json": {
       "model_id": "8d4770af197e40ae82706655c2d8e954",
       "version_major": 2,
       "version_minor": 0
      },
      "text/plain": [
       "Training...:   0%|          | 0/689 [00:00<?, ?it/s]"
      ]
     },
     "metadata": {},
     "output_type": "display_data"
    },
    {
     "name": "stdout",
     "output_type": "stream",
     "text": [
      "Epoch 20/50:\n",
      "Train Loss:  0.2538\n",
      "Level 1 Accuracy: 91.39%\n"
     ]
    },
    {
     "data": {
      "application/vnd.jupyter.widget-view+json": {
       "model_id": "51c08f3d0c0b4911ac56e31f12a4fc24",
       "version_major": 2,
       "version_minor": 0
      },
      "text/plain": [
       "Validate...:   0%|          | 0/138 [00:00<?, ?it/s]"
      ]
     },
     "metadata": {},
     "output_type": "display_data"
    },
    {
     "name": "stdout",
     "output_type": "stream",
     "text": [
      "Validation loss: 0.1109\n",
      "Validation level 1 Accuracy: 96.21%\n",
      "Model saved.\n"
     ]
    },
    {
     "data": {
      "application/vnd.jupyter.widget-view+json": {
       "model_id": "db64c495ce95450e8ebf91459b9d868b",
       "version_major": 2,
       "version_minor": 0
      },
      "text/plain": [
       "Training...:   0%|          | 0/689 [00:00<?, ?it/s]"
      ]
     },
     "metadata": {},
     "output_type": "display_data"
    },
    {
     "name": "stdout",
     "output_type": "stream",
     "text": [
      "Epoch 21/50:\n",
      "Train Loss:  0.2474\n",
      "Level 1 Accuracy: 91.59%\n"
     ]
    },
    {
     "data": {
      "application/vnd.jupyter.widget-view+json": {
       "model_id": "36a2063d400443209ff9a3c8f22a94b6",
       "version_major": 2,
       "version_minor": 0
      },
      "text/plain": [
       "Validate...:   0%|          | 0/138 [00:00<?, ?it/s]"
      ]
     },
     "metadata": {},
     "output_type": "display_data"
    },
    {
     "name": "stdout",
     "output_type": "stream",
     "text": [
      "Validation loss: 0.1213\n",
      "Validation level 1 Accuracy: 95.83%\n",
      "Early stopping triggered.\n"
     ]
    }
   ],
   "source": [
    "train_stage_1(model, train_loader, val_loader, optimizer, criterion, device, num_epochs=50, patience=1)"
   ]
  },
  {
   "cell_type": "code",
   "execution_count": 28,
   "id": "3543f0bc-d6da-4698-8185-722e51e8505d",
   "metadata": {},
   "outputs": [],
   "source": [
    "new_model = MedicalSpecialistClassifer(num_specialists=len(specialist_encoder.classes_), user_feature_dim=2, load_pretrained=False, trust_remote_code=True)"
   ]
  },
  {
   "cell_type": "code",
   "execution_count": 29,
   "id": "45653a7f-fdd2-4779-80ba-b0301d7aee18",
   "metadata": {},
   "outputs": [],
   "source": [
    "import pickle\n",
    "\n",
    "# Save encoders to pickle files\n",
    "with open(\"specialist_encoder.pkl\", \"wb\") as f:\n",
    "    pickle.dump(specialist_encoder, f)\n",
    "    \n",
    "with open(\"age_encoder.pkl\", \"wb\") as f:\n",
    "    pickle.dump(age_encoder, f)\n",
    "    \n",
    "with open(\"gender_encoder.pkl\", \"wb\") as f:\n",
    "    pickle.dump(gender_encoder, f)\n"
   ]
  },
  {
   "cell_type": "code",
   "execution_count": 30,
   "id": "40a2b1ff-8995-4aaa-8774-6027e3b27ddc",
   "metadata": {},
   "outputs": [
    {
     "data": {
      "text/plain": [
       "(18,\n",
       " array(['chuyên khoa mắt', 'cơ xương khớp', 'da liễu', 'hô hấp - phổi',\n",
       "        'nam học', 'nha khoa', 'nhi khoa', 'nội khoa', 'sản phụ khoa',\n",
       "        'sức khỏe tâm thần', 'tai mũi họng', 'thần kinh',\n",
       "        'thận - tiết niệu', 'tim mạch', 'tiêu hóa',\n",
       "        'tiểu đường - nội tiết', 'ung bướu', 'vô sinh - hiếm muộn'],\n",
       "       dtype=object))"
      ]
     },
     "execution_count": 30,
     "metadata": {},
     "output_type": "execute_result"
    }
   ],
   "source": [
    "len(specialist_encoder.classes_), specialist_encoder.classes_"
   ]
  },
  {
   "cell_type": "code",
   "execution_count": 31,
   "id": "1141db4f-c451-413d-a3ab-1cc3ac89deb4",
   "metadata": {},
   "outputs": [
    {
     "data": {
      "text/plain": [
       "MedicalSpecialistClassifer(\n",
       "  (reason_encoder): NewModel(\n",
       "    (embeddings): NewEmbeddings(\n",
       "      (word_embeddings): Embedding(250048, 768, padding_idx=1)\n",
       "      (rotary_emb): NTKScalingRotaryEmbedding()\n",
       "      (token_type_embeddings): Embedding(1, 768)\n",
       "      (LayerNorm): LayerNorm((768,), eps=1e-12, elementwise_affine=True)\n",
       "      (dropout): Dropout(p=0.1, inplace=False)\n",
       "    )\n",
       "    (encoder): NewEncoder(\n",
       "      (layer): ModuleList(\n",
       "        (0-11): 12 x NewLayer(\n",
       "          (attention): NewSdpaAttention(\n",
       "            (qkv_proj): Linear(in_features=768, out_features=2304, bias=True)\n",
       "            (dropout): Dropout(p=0.0, inplace=False)\n",
       "            (o_proj): Linear(in_features=768, out_features=768, bias=True)\n",
       "          )\n",
       "          (mlp): NewGatedMLP(\n",
       "            (up_gate_proj): Linear(in_features=768, out_features=6144, bias=False)\n",
       "            (down_proj): Linear(in_features=3072, out_features=768, bias=True)\n",
       "            (act_fn): GELUActivation()\n",
       "            (hidden_dropout): Dropout(p=0.1, inplace=False)\n",
       "          )\n",
       "          (attn_ln): LayerNorm((768,), eps=1e-12, elementwise_affine=True)\n",
       "          (mlp_ln): LayerNorm((768,), eps=1e-12, elementwise_affine=True)\n",
       "          (hidden_dropout): Dropout(p=0.1, inplace=False)\n",
       "        )\n",
       "      )\n",
       "    )\n",
       "  )\n",
       "  (relu): ReLU()\n",
       "  (dropout): Dropout(p=0.2, inplace=False)\n",
       "  (user_encoder): Sequential(\n",
       "    (0): Linear(in_features=2, out_features=128, bias=True)\n",
       "    (1): BatchNorm1d(128, eps=1e-05, momentum=0.1, affine=True, track_running_stats=True)\n",
       "    (2): ReLU()\n",
       "    (3): Dropout(p=0.2, inplace=False)\n",
       "    (4): Linear(in_features=128, out_features=256, bias=True)\n",
       "    (5): ReLU()\n",
       "  )\n",
       "  (hidden_layer1): Sequential(\n",
       "    (0): Linear(in_features=768, out_features=512, bias=True)\n",
       "    (1): BatchNorm1d(512, eps=1e-05, momentum=0.1, affine=True, track_running_stats=True)\n",
       "    (2): ReLU()\n",
       "    (3): Dropout(p=0.2, inplace=False)\n",
       "  )\n",
       "  (level1_output): Linear(in_features=512, out_features=18, bias=True)\n",
       "  (hidden_layer2): Sequential(\n",
       "    (0): Linear(in_features=1536, out_features=768, bias=True)\n",
       "    (1): BatchNorm1d(768, eps=1e-05, momentum=0.1, affine=True, track_running_stats=True)\n",
       "    (2): ReLU()\n",
       "    (3): Dropout(p=0.2, inplace=False)\n",
       "  )\n",
       "  (level2_output): Linear(in_features=768, out_features=18, bias=True)\n",
       ")"
      ]
     },
     "execution_count": 31,
     "metadata": {},
     "output_type": "execute_result"
    }
   ],
   "source": [
    "new_model"
   ]
  },
  {
   "cell_type": "code",
   "execution_count": 32,
   "id": "3fe3645f-10bc-413c-b47e-88f856cf6e63",
   "metadata": {},
   "outputs": [
    {
     "data": {
      "text/plain": [
       "<All keys matched successfully>"
      ]
     },
     "execution_count": 32,
     "metadata": {},
     "output_type": "execute_result"
    }
   ],
   "source": [
    "new_model.load_state_dict(torch.load(\"../notebooks/best_model.pt\"))"
   ]
  },
  {
   "cell_type": "code",
   "execution_count": 33,
   "id": "7869ff3a-606d-452d-ac97-cefa2f314c0a",
   "metadata": {},
   "outputs": [],
   "source": [
    "new_model.eval()\n",
    "reason_text = \"tê bì chân tay và đau đầu ngón chân\"\n",
    "data = tokenizer(\n",
    "    reason_text,\n",
    "    padding='max_length',\n",
    "    truncation=True,\n",
    "    max_length=128,\n",
    "    return_tensors='pt'\n",
    ")\n",
    "age_category = \"child\"\n",
    "gender = \"male\""
   ]
  },
  {
   "cell_type": "code",
   "execution_count": 34,
   "id": "72d81fea-5ad6-482d-a991-9fca0b50392f",
   "metadata": {},
   "outputs": [],
   "source": [
    "# Fix the tensor shape for user_info\n",
    "user_info = torch.tensor([[gender_encoder.transform([gender])[0], age_encoder.transform([age_category])[0]]], dtype=torch.float32)"
   ]
  },
  {
   "cell_type": "code",
   "execution_count": 35,
   "id": "6567deb4-a2d3-410f-a1cf-942be03f1631",
   "metadata": {},
   "outputs": [
    {
     "data": {
      "text/plain": [
       "({'input_ids': tensor([[     0,  10968, 167720,  18973,   6329,    544,  24859,   2494, 157944,\n",
       "           18973,      2,      1,      1,      1,      1,      1,      1,      1,\n",
       "               1,      1,      1,      1,      1,      1,      1,      1,      1,\n",
       "               1,      1,      1,      1,      1,      1,      1,      1,      1,\n",
       "               1,      1,      1,      1,      1,      1,      1,      1,      1,\n",
       "               1,      1,      1,      1,      1,      1,      1,      1,      1,\n",
       "               1,      1,      1,      1,      1,      1,      1,      1,      1,\n",
       "               1,      1,      1,      1,      1,      1,      1,      1,      1,\n",
       "               1,      1,      1,      1,      1,      1,      1,      1,      1,\n",
       "               1,      1,      1,      1,      1,      1,      1,      1,      1,\n",
       "               1,      1,      1,      1,      1,      1,      1,      1,      1,\n",
       "               1,      1,      1,      1,      1,      1,      1,      1,      1,\n",
       "               1,      1,      1,      1,      1,      1,      1,      1,      1,\n",
       "               1,      1,      1,      1,      1,      1,      1,      1,      1,\n",
       "               1,      1]]), 'attention_mask': tensor([[1, 1, 1, 1, 1, 1, 1, 1, 1, 1, 1, 0, 0, 0, 0, 0, 0, 0, 0, 0, 0, 0, 0, 0,\n",
       "          0, 0, 0, 0, 0, 0, 0, 0, 0, 0, 0, 0, 0, 0, 0, 0, 0, 0, 0, 0, 0, 0, 0, 0,\n",
       "          0, 0, 0, 0, 0, 0, 0, 0, 0, 0, 0, 0, 0, 0, 0, 0, 0, 0, 0, 0, 0, 0, 0, 0,\n",
       "          0, 0, 0, 0, 0, 0, 0, 0, 0, 0, 0, 0, 0, 0, 0, 0, 0, 0, 0, 0, 0, 0, 0, 0,\n",
       "          0, 0, 0, 0, 0, 0, 0, 0, 0, 0, 0, 0, 0, 0, 0, 0, 0, 0, 0, 0, 0, 0, 0, 0,\n",
       "          0, 0, 0, 0, 0, 0, 0, 0]])},\n",
       " tensor([[1., 1.]]))"
      ]
     },
     "execution_count": 35,
     "metadata": {},
     "output_type": "execute_result"
    }
   ],
   "source": [
    "data, user_info"
   ]
  },
  {
   "cell_type": "code",
   "execution_count": 36,
   "id": "f29a64d8-4fe7-48f5-b560-e95d9cd5609b",
   "metadata": {},
   "outputs": [
    {
     "name": "stdout",
     "output_type": "stream",
     "text": [
      "(tensor([0.5914]), tensor([1]))\n",
      "['cơ xương khớp']\n"
     ]
    },
    {
     "name": "stderr",
     "output_type": "stream",
     "text": [
      "/home/ubuntu/specialist-prediction/.venv/lib/python3.10/site-packages/sklearn/preprocessing/_label.py:151: DataConversionWarning: A column-vector y was passed when a 1d array was expected. Please change the shape of y to (n_samples, ), for example using ravel().\n",
      "  y = column_or_1d(y, warn=True)\n"
     ]
    }
   ],
   "source": [
    "print(new_model.predict(data['input_ids'], data['attention_mask'], user_info=None))\n",
    "\n",
    "res = specialist_encoder.inverse_transform([new_model.predict(data['input_ids'], data['attention_mask'], user_info=None)[1]])\n",
    "print(res.tolist())"
   ]
  },
  {
   "cell_type": "code",
   "execution_count": 37,
   "id": "5ccd8608-947c-444c-92e5-35df4b6ed6bb",
   "metadata": {},
   "outputs": [
    {
     "name": "stdout",
     "output_type": "stream",
     "text": [
      "stage 2:\n",
      "(tensor([0.0735]), tensor([12]))\n",
      "stage 2:\n"
     ]
    },
    {
     "name": "stderr",
     "output_type": "stream",
     "text": [
      "/home/ubuntu/specialist-prediction/.venv/lib/python3.10/site-packages/sklearn/preprocessing/_label.py:151: DataConversionWarning: A column-vector y was passed when a 1d array was expected. Please change the shape of y to (n_samples, ), for example using ravel().\n",
      "  y = column_or_1d(y, warn=True)\n"
     ]
    },
    {
     "data": {
      "text/plain": [
       "['thận - tiết niệu']"
      ]
     },
     "execution_count": 37,
     "metadata": {},
     "output_type": "execute_result"
    }
   ],
   "source": [
    "print(new_model.predict(data['input_ids'], data['attention_mask'], user_info=user_info))\n",
    "res = specialist_encoder.inverse_transform([new_model.predict(data['input_ids'], data['attention_mask'], user_info=user_info)[1]])\n",
    "res.tolist()"
   ]
  },
  {
   "cell_type": "code",
   "execution_count": 38,
   "id": "0eb242a2-f7b6-4fde-b1f9-c05f5eefc668",
   "metadata": {},
   "outputs": [
    {
     "data": {
      "text/plain": [
       "['thận - tiết niệu']"
      ]
     },
     "execution_count": 38,
     "metadata": {},
     "output_type": "execute_result"
    }
   ],
   "source": [
    "res.tolist()"
   ]
  },
  {
   "cell_type": "code",
   "execution_count": 39,
   "id": "cc71e0f4-0afc-4d3d-b31f-ae1007db841b",
   "metadata": {},
   "outputs": [
    {
     "data": {
      "application/vnd.jupyter.widget-view+json": {
       "model_id": "6dd497f81c3d414780f5efe9d9e9d659",
       "version_major": 2,
       "version_minor": 0
      },
      "text/plain": [
       "  0%|          | 0/689 [00:00<?, ?it/s]"
      ]
     },
     "metadata": {},
     "output_type": "display_data"
    },
    {
     "data": {
      "text/html": [
       "<div>\n",
       "<style scoped>\n",
       "    .dataframe tbody tr th:only-of-type {\n",
       "        vertical-align: middle;\n",
       "    }\n",
       "\n",
       "    .dataframe tbody tr th {\n",
       "        vertical-align: top;\n",
       "    }\n",
       "\n",
       "    .dataframe thead th {\n",
       "        text-align: right;\n",
       "    }\n",
       "</style>\n",
       "<table border=\"1\" class=\"dataframe\">\n",
       "  <thead>\n",
       "    <tr style=\"text-align: right;\">\n",
       "      <th></th>\n",
       "      <th>partner_id</th>\n",
       "      <th>specialist_id</th>\n",
       "      <th>status</th>\n",
       "      <th>gender</th>\n",
       "      <th>province_id</th>\n",
       "      <th>age</th>\n",
       "      <th>reason_combind</th>\n",
       "      <th>specialist_name</th>\n",
       "      <th>Unnamed: 8</th>\n",
       "      <th>Unnamed: 9</th>\n",
       "      <th>Unnamed: 10</th>\n",
       "      <th>age_category</th>\n",
       "      <th>predicted_specialist</th>\n",
       "      <th>prediction_probability</th>\n",
       "      <th>specialist_name_category</th>\n",
       "    </tr>\n",
       "  </thead>\n",
       "  <tbody>\n",
       "    <tr>\n",
       "      <th>0</th>\n",
       "      <td>23.0</td>\n",
       "      <td>67.0</td>\n",
       "      <td>2.0</td>\n",
       "      <td>1</td>\n",
       "      <td>38.0</td>\n",
       "      <td>25</td>\n",
       "      <td>muốn làm ivf</td>\n",
       "      <td>17</td>\n",
       "      <td>NaN</td>\n",
       "      <td>NaN</td>\n",
       "      <td>NaN</td>\n",
       "      <td>0</td>\n",
       "      <td>vô sinh - hiếm muộn</td>\n",
       "      <td>0.999931</td>\n",
       "      <td>vô sinh - hiếm muộn</td>\n",
       "    </tr>\n",
       "    <tr>\n",
       "      <th>1</th>\n",
       "      <td>23.0</td>\n",
       "      <td>67.0</td>\n",
       "      <td>2.0</td>\n",
       "      <td>1</td>\n",
       "      <td>27.0</td>\n",
       "      <td>26</td>\n",
       "      <td>mong con</td>\n",
       "      <td>17</td>\n",
       "      <td>NaN</td>\n",
       "      <td>NaN</td>\n",
       "      <td>NaN</td>\n",
       "      <td>0</td>\n",
       "      <td>vô sinh - hiếm muộn</td>\n",
       "      <td>0.996000</td>\n",
       "      <td>vô sinh - hiếm muộn</td>\n",
       "    </tr>\n",
       "    <tr>\n",
       "      <th>2</th>\n",
       "      <td>23.0</td>\n",
       "      <td>67.0</td>\n",
       "      <td>2.0</td>\n",
       "      <td>0</td>\n",
       "      <td>27.0</td>\n",
       "      <td>28</td>\n",
       "      <td>hiếm muộn</td>\n",
       "      <td>17</td>\n",
       "      <td>NaN</td>\n",
       "      <td>NaN</td>\n",
       "      <td>NaN</td>\n",
       "      <td>0</td>\n",
       "      <td>vô sinh - hiếm muộn</td>\n",
       "      <td>0.999961</td>\n",
       "      <td>vô sinh - hiếm muộn</td>\n",
       "    </tr>\n",
       "    <tr>\n",
       "      <th>3</th>\n",
       "      <td>23.0</td>\n",
       "      <td>67.0</td>\n",
       "      <td>2.0</td>\n",
       "      <td>1</td>\n",
       "      <td>31.0</td>\n",
       "      <td>26</td>\n",
       "      <td>khám vô sinh, hiếm muộn</td>\n",
       "      <td>17</td>\n",
       "      <td>NaN</td>\n",
       "      <td>NaN</td>\n",
       "      <td>NaN</td>\n",
       "      <td>0</td>\n",
       "      <td>vô sinh - hiếm muộn</td>\n",
       "      <td>0.999779</td>\n",
       "      <td>vô sinh - hiếm muộn</td>\n",
       "    </tr>\n",
       "    <tr>\n",
       "      <th>4</th>\n",
       "      <td>23.0</td>\n",
       "      <td>67.0</td>\n",
       "      <td>2.0</td>\n",
       "      <td>1</td>\n",
       "      <td>1.0</td>\n",
       "      <td>34</td>\n",
       "      <td>thả hơn 1 năm mà không có thai nên muốn siêu â...</td>\n",
       "      <td>17</td>\n",
       "      <td>NaN</td>\n",
       "      <td>NaN</td>\n",
       "      <td>NaN</td>\n",
       "      <td>0</td>\n",
       "      <td>vô sinh - hiếm muộn</td>\n",
       "      <td>0.989727</td>\n",
       "      <td>vô sinh - hiếm muộn</td>\n",
       "    </tr>\n",
       "  </tbody>\n",
       "</table>\n",
       "</div>"
      ],
      "text/plain": [
       "   partner_id  specialist_id  status  gender  province_id  age  \\\n",
       "0        23.0           67.0     2.0       1         38.0   25   \n",
       "1        23.0           67.0     2.0       1         27.0   26   \n",
       "2        23.0           67.0     2.0       0         27.0   28   \n",
       "3        23.0           67.0     2.0       1         31.0   26   \n",
       "4        23.0           67.0     2.0       1          1.0   34   \n",
       "\n",
       "                                      reason_combind  specialist_name  \\\n",
       "0                                       muốn làm ivf               17   \n",
       "1                                           mong con               17   \n",
       "2                                          hiếm muộn               17   \n",
       "3                            khám vô sinh, hiếm muộn               17   \n",
       "4  thả hơn 1 năm mà không có thai nên muốn siêu â...               17   \n",
       "\n",
       "   Unnamed: 8  Unnamed: 9 Unnamed: 10  age_category predicted_specialist  \\\n",
       "0         NaN         NaN         NaN             0  vô sinh - hiếm muộn   \n",
       "1         NaN         NaN         NaN             0  vô sinh - hiếm muộn   \n",
       "2         NaN         NaN         NaN             0  vô sinh - hiếm muộn   \n",
       "3         NaN         NaN         NaN             0  vô sinh - hiếm muộn   \n",
       "4         NaN         NaN         NaN             0  vô sinh - hiếm muộn   \n",
       "\n",
       "   prediction_probability specialist_name_category  \n",
       "0                0.999931      vô sinh - hiếm muộn  \n",
       "1                0.996000      vô sinh - hiếm muộn  \n",
       "2                0.999961      vô sinh - hiếm muộn  \n",
       "3                0.999779      vô sinh - hiếm muộn  \n",
       "4                0.989727      vô sinh - hiếm muộn  "
      ]
     },
     "execution_count": 39,
     "metadata": {},
     "output_type": "execute_result"
    }
   ],
   "source": [
    "def batch_predict_with_probs(model, tokenizer, df, specialist_encoder, gender_encoder, age_encoder, batch_size=64, device=\"gpu\"):\n",
    "    model.to(device)\n",
    "    model.eval()\n",
    "    predictions = []\n",
    "    probabilities = []\n",
    "\n",
    "    with torch.no_grad():\n",
    "        for i in tqdm(range(0, len(df), batch_size)):\n",
    "            batch_df = df.iloc[i:i+batch_size]\n",
    "            reason_texts = [str(text) for text in batch_df['reason_combind'].tolist()]  # Ensure all inputs are strings\n",
    "            genders = batch_df['gender'].tolist()\n",
    "            age_categories = batch_df['age_category'].tolist()\n",
    "\n",
    "            encoded = tokenizer(\n",
    "                reason_texts,\n",
    "                padding='max_length',\n",
    "                truncation=True,\n",
    "                max_length=128,\n",
    "                return_tensors='pt'\n",
    "            )\n",
    "\n",
    "            reason_text_ids = encoded['input_ids'].to(device)\n",
    "            reason_text_mask = encoded['attention_mask'].to(device)\n",
    "\n",
    "            level1_logits, level2_logits = model(reason_text_ids, reason_text_mask)\n",
    "            probs = F.softmax(level1_logits, dim=1)\n",
    "            max_probs, preds = torch.max(probs, dim=1)\n",
    "            decoded_preds = specialist_encoder.inverse_transform(preds.cpu().numpy())\n",
    "            predictions.extend(decoded_preds)\n",
    "            probabilities.extend(max_probs.cpu().numpy())\n",
    "\n",
    "    df['predicted_specialist'] = predictions\n",
    "    df['prediction_probability'] = probabilities\n",
    "    return df\n",
    "\n",
    "# Apply batch prediction with probabilities to the dataframe\n",
    "df = batch_predict_with_probs(new_model, tokenizer, df, specialist_encoder, gender_encoder, age_encoder, batch_size=64, device=device)\n",
    "df.head()\n"
   ]
  },
  {
   "cell_type": "code",
   "execution_count": 40,
   "id": "43624447-662e-4898-9057-4d67e8b2e8fc",
   "metadata": {},
   "outputs": [],
   "source": [
    "df['specialist_name_category'] = df['specialist_name'].apply(lambda x: specialist_encoder.inverse_transform([x])[0])"
   ]
  },
  {
   "cell_type": "code",
   "execution_count": 41,
   "id": "152dd4ac-9b36-4446-bcd5-c6208f22ef66",
   "metadata": {},
   "outputs": [
    {
     "data": {
      "text/html": [
       "<div>\n",
       "<style scoped>\n",
       "    .dataframe tbody tr th:only-of-type {\n",
       "        vertical-align: middle;\n",
       "    }\n",
       "\n",
       "    .dataframe tbody tr th {\n",
       "        vertical-align: top;\n",
       "    }\n",
       "\n",
       "    .dataframe thead th {\n",
       "        text-align: right;\n",
       "    }\n",
       "</style>\n",
       "<table border=\"1\" class=\"dataframe\">\n",
       "  <thead>\n",
       "    <tr style=\"text-align: right;\">\n",
       "      <th></th>\n",
       "      <th>partner_id</th>\n",
       "      <th>specialist_id</th>\n",
       "      <th>status</th>\n",
       "      <th>gender</th>\n",
       "      <th>province_id</th>\n",
       "      <th>age</th>\n",
       "      <th>reason_combind</th>\n",
       "      <th>specialist_name</th>\n",
       "      <th>Unnamed: 8</th>\n",
       "      <th>Unnamed: 9</th>\n",
       "      <th>Unnamed: 10</th>\n",
       "      <th>age_category</th>\n",
       "      <th>predicted_specialist</th>\n",
       "      <th>prediction_probability</th>\n",
       "      <th>specialist_name_category</th>\n",
       "    </tr>\n",
       "  </thead>\n",
       "  <tbody>\n",
       "    <tr>\n",
       "      <th>0</th>\n",
       "      <td>23.0</td>\n",
       "      <td>67.0</td>\n",
       "      <td>2.0</td>\n",
       "      <td>1</td>\n",
       "      <td>38.0</td>\n",
       "      <td>25</td>\n",
       "      <td>muốn làm ivf</td>\n",
       "      <td>17</td>\n",
       "      <td>NaN</td>\n",
       "      <td>NaN</td>\n",
       "      <td>NaN</td>\n",
       "      <td>0</td>\n",
       "      <td>vô sinh - hiếm muộn</td>\n",
       "      <td>0.999931</td>\n",
       "      <td>vô sinh - hiếm muộn</td>\n",
       "    </tr>\n",
       "    <tr>\n",
       "      <th>1</th>\n",
       "      <td>23.0</td>\n",
       "      <td>67.0</td>\n",
       "      <td>2.0</td>\n",
       "      <td>1</td>\n",
       "      <td>27.0</td>\n",
       "      <td>26</td>\n",
       "      <td>mong con</td>\n",
       "      <td>17</td>\n",
       "      <td>NaN</td>\n",
       "      <td>NaN</td>\n",
       "      <td>NaN</td>\n",
       "      <td>0</td>\n",
       "      <td>vô sinh - hiếm muộn</td>\n",
       "      <td>0.996000</td>\n",
       "      <td>vô sinh - hiếm muộn</td>\n",
       "    </tr>\n",
       "    <tr>\n",
       "      <th>2</th>\n",
       "      <td>23.0</td>\n",
       "      <td>67.0</td>\n",
       "      <td>2.0</td>\n",
       "      <td>0</td>\n",
       "      <td>27.0</td>\n",
       "      <td>28</td>\n",
       "      <td>hiếm muộn</td>\n",
       "      <td>17</td>\n",
       "      <td>NaN</td>\n",
       "      <td>NaN</td>\n",
       "      <td>NaN</td>\n",
       "      <td>0</td>\n",
       "      <td>vô sinh - hiếm muộn</td>\n",
       "      <td>0.999961</td>\n",
       "      <td>vô sinh - hiếm muộn</td>\n",
       "    </tr>\n",
       "    <tr>\n",
       "      <th>3</th>\n",
       "      <td>23.0</td>\n",
       "      <td>67.0</td>\n",
       "      <td>2.0</td>\n",
       "      <td>1</td>\n",
       "      <td>31.0</td>\n",
       "      <td>26</td>\n",
       "      <td>khám vô sinh, hiếm muộn</td>\n",
       "      <td>17</td>\n",
       "      <td>NaN</td>\n",
       "      <td>NaN</td>\n",
       "      <td>NaN</td>\n",
       "      <td>0</td>\n",
       "      <td>vô sinh - hiếm muộn</td>\n",
       "      <td>0.999779</td>\n",
       "      <td>vô sinh - hiếm muộn</td>\n",
       "    </tr>\n",
       "    <tr>\n",
       "      <th>4</th>\n",
       "      <td>23.0</td>\n",
       "      <td>67.0</td>\n",
       "      <td>2.0</td>\n",
       "      <td>1</td>\n",
       "      <td>1.0</td>\n",
       "      <td>34</td>\n",
       "      <td>thả hơn 1 năm mà không có thai nên muốn siêu â...</td>\n",
       "      <td>17</td>\n",
       "      <td>NaN</td>\n",
       "      <td>NaN</td>\n",
       "      <td>NaN</td>\n",
       "      <td>0</td>\n",
       "      <td>vô sinh - hiếm muộn</td>\n",
       "      <td>0.989727</td>\n",
       "      <td>vô sinh - hiếm muộn</td>\n",
       "    </tr>\n",
       "  </tbody>\n",
       "</table>\n",
       "</div>"
      ],
      "text/plain": [
       "   partner_id  specialist_id  status  gender  province_id  age  \\\n",
       "0        23.0           67.0     2.0       1         38.0   25   \n",
       "1        23.0           67.0     2.0       1         27.0   26   \n",
       "2        23.0           67.0     2.0       0         27.0   28   \n",
       "3        23.0           67.0     2.0       1         31.0   26   \n",
       "4        23.0           67.0     2.0       1          1.0   34   \n",
       "\n",
       "                                      reason_combind  specialist_name  \\\n",
       "0                                       muốn làm ivf               17   \n",
       "1                                           mong con               17   \n",
       "2                                          hiếm muộn               17   \n",
       "3                            khám vô sinh, hiếm muộn               17   \n",
       "4  thả hơn 1 năm mà không có thai nên muốn siêu â...               17   \n",
       "\n",
       "   Unnamed: 8  Unnamed: 9 Unnamed: 10  age_category predicted_specialist  \\\n",
       "0         NaN         NaN         NaN             0  vô sinh - hiếm muộn   \n",
       "1         NaN         NaN         NaN             0  vô sinh - hiếm muộn   \n",
       "2         NaN         NaN         NaN             0  vô sinh - hiếm muộn   \n",
       "3         NaN         NaN         NaN             0  vô sinh - hiếm muộn   \n",
       "4         NaN         NaN         NaN             0  vô sinh - hiếm muộn   \n",
       "\n",
       "   prediction_probability specialist_name_category  \n",
       "0                0.999931      vô sinh - hiếm muộn  \n",
       "1                0.996000      vô sinh - hiếm muộn  \n",
       "2                0.999961      vô sinh - hiếm muộn  \n",
       "3                0.999779      vô sinh - hiếm muộn  \n",
       "4                0.989727      vô sinh - hiếm muộn  "
      ]
     },
     "execution_count": 41,
     "metadata": {},
     "output_type": "execute_result"
    }
   ],
   "source": [
    "df.head()"
   ]
  },
  {
   "cell_type": "code",
   "execution_count": 42,
   "id": "16c0dd2e-0d64-47d7-9419-c8c4371e7301",
   "metadata": {},
   "outputs": [
    {
     "data": {
      "text/html": [
       "<div>\n",
       "<style scoped>\n",
       "    .dataframe tbody tr th:only-of-type {\n",
       "        vertical-align: middle;\n",
       "    }\n",
       "\n",
       "    .dataframe tbody tr th {\n",
       "        vertical-align: top;\n",
       "    }\n",
       "\n",
       "    .dataframe thead th {\n",
       "        text-align: right;\n",
       "    }\n",
       "</style>\n",
       "<table border=\"1\" class=\"dataframe\">\n",
       "  <thead>\n",
       "    <tr style=\"text-align: right;\">\n",
       "      <th></th>\n",
       "      <th>partner_id</th>\n",
       "      <th>specialist_id</th>\n",
       "      <th>status</th>\n",
       "      <th>gender</th>\n",
       "      <th>province_id</th>\n",
       "      <th>age</th>\n",
       "      <th>reason_combind</th>\n",
       "      <th>specialist_name</th>\n",
       "      <th>Unnamed: 8</th>\n",
       "      <th>Unnamed: 9</th>\n",
       "      <th>Unnamed: 10</th>\n",
       "      <th>age_category</th>\n",
       "      <th>predicted_specialist</th>\n",
       "      <th>prediction_probability</th>\n",
       "      <th>specialist_name_category</th>\n",
       "    </tr>\n",
       "  </thead>\n",
       "  <tbody>\n",
       "    <tr>\n",
       "      <th>54</th>\n",
       "      <td>74.0</td>\n",
       "      <td>67.0</td>\n",
       "      <td>2.0</td>\n",
       "      <td>0</td>\n",
       "      <td>27.0</td>\n",
       "      <td>28</td>\n",
       "      <td>khám rối loạn cương dương</td>\n",
       "      <td>17</td>\n",
       "      <td>NaN</td>\n",
       "      <td>NaN</td>\n",
       "      <td>NaN</td>\n",
       "      <td>0</td>\n",
       "      <td>nam học</td>\n",
       "      <td>0.800052</td>\n",
       "      <td>vô sinh - hiếm muộn</td>\n",
       "    </tr>\n",
       "    <tr>\n",
       "      <th>64</th>\n",
       "      <td>23.0</td>\n",
       "      <td>67.0</td>\n",
       "      <td>2.0</td>\n",
       "      <td>1</td>\n",
       "      <td>24.0</td>\n",
       "      <td>24</td>\n",
       "      <td>khám tổng quát tiền hôn nhân</td>\n",
       "      <td>17</td>\n",
       "      <td>NaN</td>\n",
       "      <td>NaN</td>\n",
       "      <td>NaN</td>\n",
       "      <td>0</td>\n",
       "      <td>nội khoa</td>\n",
       "      <td>0.498562</td>\n",
       "      <td>vô sinh - hiếm muộn</td>\n",
       "    </tr>\n",
       "    <tr>\n",
       "      <th>317</th>\n",
       "      <td>136.0</td>\n",
       "      <td>15.0</td>\n",
       "      <td>2.0</td>\n",
       "      <td>1</td>\n",
       "      <td>25.0</td>\n",
       "      <td>63</td>\n",
       "      <td>u tuyến thượng thận</td>\n",
       "      <td>16</td>\n",
       "      <td>NaN</td>\n",
       "      <td>NaN</td>\n",
       "      <td>NaN</td>\n",
       "      <td>0</td>\n",
       "      <td>thận - tiết niệu</td>\n",
       "      <td>0.569241</td>\n",
       "      <td>ung bướu</td>\n",
       "    </tr>\n",
       "    <tr>\n",
       "      <th>356</th>\n",
       "      <td>136.0</td>\n",
       "      <td>15.0</td>\n",
       "      <td>2.0</td>\n",
       "      <td>0</td>\n",
       "      <td>1.0</td>\n",
       "      <td>37</td>\n",
       "      <td>khi khám sk định kỳ ở bv thu cúc. bs siêu âm t...</td>\n",
       "      <td>16</td>\n",
       "      <td>NaN</td>\n",
       "      <td>NaN</td>\n",
       "      <td>NaN</td>\n",
       "      <td>0</td>\n",
       "      <td>tiểu đường - nội tiết</td>\n",
       "      <td>0.594719</td>\n",
       "      <td>ung bướu</td>\n",
       "    </tr>\n",
       "    <tr>\n",
       "      <th>359</th>\n",
       "      <td>136.0</td>\n",
       "      <td>15.0</td>\n",
       "      <td>2.0</td>\n",
       "      <td>0</td>\n",
       "      <td>31.0</td>\n",
       "      <td>43</td>\n",
       "      <td>kiểm tra vòm họng. đã khám kiểm tra ở bv thành...</td>\n",
       "      <td>16</td>\n",
       "      <td>NaN</td>\n",
       "      <td>NaN</td>\n",
       "      <td>NaN</td>\n",
       "      <td>0</td>\n",
       "      <td>tai mũi họng</td>\n",
       "      <td>0.862965</td>\n",
       "      <td>ung bướu</td>\n",
       "    </tr>\n",
       "    <tr>\n",
       "      <th>...</th>\n",
       "      <td>...</td>\n",
       "      <td>...</td>\n",
       "      <td>...</td>\n",
       "      <td>...</td>\n",
       "      <td>...</td>\n",
       "      <td>...</td>\n",
       "      <td>...</td>\n",
       "      <td>...</td>\n",
       "      <td>...</td>\n",
       "      <td>...</td>\n",
       "      <td>...</td>\n",
       "      <td>...</td>\n",
       "      <td>...</td>\n",
       "      <td>...</td>\n",
       "      <td>...</td>\n",
       "    </tr>\n",
       "    <tr>\n",
       "      <th>52670</th>\n",
       "      <td>372.0</td>\n",
       "      <td>29.0</td>\n",
       "      <td>2.0</td>\n",
       "      <td>0</td>\n",
       "      <td>77.0</td>\n",
       "      <td>8</td>\n",
       "      <td>nhược thị, teo dây thần kinh</td>\n",
       "      <td>0</td>\n",
       "      <td>NaN</td>\n",
       "      <td>NaN</td>\n",
       "      <td>NaN</td>\n",
       "      <td>1</td>\n",
       "      <td>thần kinh</td>\n",
       "      <td>0.795732</td>\n",
       "      <td>chuyên khoa mắt</td>\n",
       "    </tr>\n",
       "    <tr>\n",
       "      <th>52839</th>\n",
       "      <td>50.0</td>\n",
       "      <td>29.0</td>\n",
       "      <td>2.0</td>\n",
       "      <td>1</td>\n",
       "      <td>1.0</td>\n",
       "      <td>33</td>\n",
       "      <td>đau hốc mắt dữ dội, chảy nước mắt, chóng mặt b...</td>\n",
       "      <td>0</td>\n",
       "      <td>NaN</td>\n",
       "      <td>NaN</td>\n",
       "      <td>NaN</td>\n",
       "      <td>0</td>\n",
       "      <td>thần kinh</td>\n",
       "      <td>0.523397</td>\n",
       "      <td>chuyên khoa mắt</td>\n",
       "    </tr>\n",
       "    <tr>\n",
       "      <th>53024</th>\n",
       "      <td>111.0</td>\n",
       "      <td>29.0</td>\n",
       "      <td>2.0</td>\n",
       "      <td>0</td>\n",
       "      <td>74.0</td>\n",
       "      <td>47</td>\n",
       "      <td>nhức mỏi mắt,ù tai.</td>\n",
       "      <td>0</td>\n",
       "      <td>NaN</td>\n",
       "      <td>NaN</td>\n",
       "      <td>NaN</td>\n",
       "      <td>0</td>\n",
       "      <td>tai mũi họng</td>\n",
       "      <td>0.489748</td>\n",
       "      <td>chuyên khoa mắt</td>\n",
       "    </tr>\n",
       "    <tr>\n",
       "      <th>53081</th>\n",
       "      <td>423.0</td>\n",
       "      <td>29.0</td>\n",
       "      <td>2.0</td>\n",
       "      <td>1</td>\n",
       "      <td>79.0</td>\n",
       "      <td>22</td>\n",
       "      <td>bị zona thần kinh, đỏ mắt</td>\n",
       "      <td>0</td>\n",
       "      <td>NaN</td>\n",
       "      <td>NaN</td>\n",
       "      <td>NaN</td>\n",
       "      <td>0</td>\n",
       "      <td>da liễu</td>\n",
       "      <td>0.875973</td>\n",
       "      <td>chuyên khoa mắt</td>\n",
       "    </tr>\n",
       "    <tr>\n",
       "      <th>53101</th>\n",
       "      <td>172.0</td>\n",
       "      <td>29.0</td>\n",
       "      <td>2.0</td>\n",
       "      <td>1</td>\n",
       "      <td>40.0</td>\n",
       "      <td>28</td>\n",
       "      <td>rối loạn nội tiết mắt</td>\n",
       "      <td>0</td>\n",
       "      <td>NaN</td>\n",
       "      <td>NaN</td>\n",
       "      <td>NaN</td>\n",
       "      <td>0</td>\n",
       "      <td>tiểu đường - nội tiết</td>\n",
       "      <td>0.537403</td>\n",
       "      <td>chuyên khoa mắt</td>\n",
       "    </tr>\n",
       "  </tbody>\n",
       "</table>\n",
       "<p>1712 rows × 15 columns</p>\n",
       "</div>"
      ],
      "text/plain": [
       "       partner_id  specialist_id  status  gender  province_id  age  \\\n",
       "54           74.0           67.0     2.0       0         27.0   28   \n",
       "64           23.0           67.0     2.0       1         24.0   24   \n",
       "317         136.0           15.0     2.0       1         25.0   63   \n",
       "356         136.0           15.0     2.0       0          1.0   37   \n",
       "359         136.0           15.0     2.0       0         31.0   43   \n",
       "...           ...            ...     ...     ...          ...  ...   \n",
       "52670       372.0           29.0     2.0       0         77.0    8   \n",
       "52839        50.0           29.0     2.0       1          1.0   33   \n",
       "53024       111.0           29.0     2.0       0         74.0   47   \n",
       "53081       423.0           29.0     2.0       1         79.0   22   \n",
       "53101       172.0           29.0     2.0       1         40.0   28   \n",
       "\n",
       "                                          reason_combind  specialist_name  \\\n",
       "54                             khám rối loạn cương dương               17   \n",
       "64                          khám tổng quát tiền hôn nhân               17   \n",
       "317                                  u tuyến thượng thận               16   \n",
       "356    khi khám sk định kỳ ở bv thu cúc. bs siêu âm t...               16   \n",
       "359    kiểm tra vòm họng. đã khám kiểm tra ở bv thành...               16   \n",
       "...                                                  ...              ...   \n",
       "52670                       nhược thị, teo dây thần kinh                0   \n",
       "52839  đau hốc mắt dữ dội, chảy nước mắt, chóng mặt b...                0   \n",
       "53024                                nhức mỏi mắt,ù tai.                0   \n",
       "53081                          bị zona thần kinh, đỏ mắt                0   \n",
       "53101                              rối loạn nội tiết mắt                0   \n",
       "\n",
       "       Unnamed: 8  Unnamed: 9 Unnamed: 10  age_category  \\\n",
       "54            NaN         NaN         NaN             0   \n",
       "64            NaN         NaN         NaN             0   \n",
       "317           NaN         NaN         NaN             0   \n",
       "356           NaN         NaN         NaN             0   \n",
       "359           NaN         NaN         NaN             0   \n",
       "...           ...         ...         ...           ...   \n",
       "52670         NaN         NaN         NaN             1   \n",
       "52839         NaN         NaN         NaN             0   \n",
       "53024         NaN         NaN         NaN             0   \n",
       "53081         NaN         NaN         NaN             0   \n",
       "53101         NaN         NaN         NaN             0   \n",
       "\n",
       "        predicted_specialist  prediction_probability specialist_name_category  \n",
       "54                   nam học                0.800052      vô sinh - hiếm muộn  \n",
       "64                  nội khoa                0.498562      vô sinh - hiếm muộn  \n",
       "317         thận - tiết niệu                0.569241                 ung bướu  \n",
       "356    tiểu đường - nội tiết                0.594719                 ung bướu  \n",
       "359             tai mũi họng                0.862965                 ung bướu  \n",
       "...                      ...                     ...                      ...  \n",
       "52670              thần kinh                0.795732          chuyên khoa mắt  \n",
       "52839              thần kinh                0.523397          chuyên khoa mắt  \n",
       "53024           tai mũi họng                0.489748          chuyên khoa mắt  \n",
       "53081                da liễu                0.875973          chuyên khoa mắt  \n",
       "53101  tiểu đường - nội tiết                0.537403          chuyên khoa mắt  \n",
       "\n",
       "[1712 rows x 15 columns]"
      ]
     },
     "execution_count": 42,
     "metadata": {},
     "output_type": "execute_result"
    }
   ],
   "source": [
    "df_wrong_predictions = df[df['specialist_name_category'] != df['predicted_specialist']]\n",
    "df_wrong_predictions"
   ]
  },
  {
   "cell_type": "code",
   "execution_count": 192,
   "id": "90b0726b-cba4-4da3-8efc-fa2aeab4d0dc",
   "metadata": {},
   "outputs": [
    {
     "data": {
      "text/plain": [
       "(7510, 12)"
      ]
     },
     "execution_count": 192,
     "metadata": {},
     "output_type": "execute_result"
    }
   ],
   "source": [
    "df.shape"
   ]
  },
  {
   "cell_type": "code",
   "execution_count": 43,
   "id": "6381d15a-d42c-40ab-b7c0-2c87132886c4",
   "metadata": {},
   "outputs": [
    {
     "data": {
      "text/html": [
       "<div>\n",
       "<style scoped>\n",
       "    .dataframe tbody tr th:only-of-type {\n",
       "        vertical-align: middle;\n",
       "    }\n",
       "\n",
       "    .dataframe tbody tr th {\n",
       "        vertical-align: top;\n",
       "    }\n",
       "\n",
       "    .dataframe thead th {\n",
       "        text-align: right;\n",
       "    }\n",
       "</style>\n",
       "<table border=\"1\" class=\"dataframe\">\n",
       "  <thead>\n",
       "    <tr style=\"text-align: right;\">\n",
       "      <th></th>\n",
       "      <th>partner_id</th>\n",
       "      <th>specialist_id</th>\n",
       "      <th>status</th>\n",
       "      <th>gender</th>\n",
       "      <th>province_id</th>\n",
       "      <th>age</th>\n",
       "      <th>reason_combind</th>\n",
       "      <th>specialist_name</th>\n",
       "      <th>Unnamed: 8</th>\n",
       "      <th>Unnamed: 9</th>\n",
       "      <th>Unnamed: 10</th>\n",
       "      <th>age_category</th>\n",
       "      <th>predicted_specialist</th>\n",
       "      <th>prediction_probability</th>\n",
       "      <th>specialist_name_category</th>\n",
       "    </tr>\n",
       "  </thead>\n",
       "  <tbody>\n",
       "    <tr>\n",
       "      <th>54</th>\n",
       "      <td>74.0</td>\n",
       "      <td>67.0</td>\n",
       "      <td>2.0</td>\n",
       "      <td>0</td>\n",
       "      <td>27.0</td>\n",
       "      <td>28</td>\n",
       "      <td>khám rối loạn cương dương</td>\n",
       "      <td>17</td>\n",
       "      <td>NaN</td>\n",
       "      <td>NaN</td>\n",
       "      <td>NaN</td>\n",
       "      <td>0</td>\n",
       "      <td>nam học</td>\n",
       "      <td>0.800052</td>\n",
       "      <td>vô sinh - hiếm muộn</td>\n",
       "    </tr>\n",
       "    <tr>\n",
       "      <th>64</th>\n",
       "      <td>23.0</td>\n",
       "      <td>67.0</td>\n",
       "      <td>2.0</td>\n",
       "      <td>1</td>\n",
       "      <td>24.0</td>\n",
       "      <td>24</td>\n",
       "      <td>khám tổng quát tiền hôn nhân</td>\n",
       "      <td>17</td>\n",
       "      <td>NaN</td>\n",
       "      <td>NaN</td>\n",
       "      <td>NaN</td>\n",
       "      <td>0</td>\n",
       "      <td>nội khoa</td>\n",
       "      <td>0.498562</td>\n",
       "      <td>vô sinh - hiếm muộn</td>\n",
       "    </tr>\n",
       "    <tr>\n",
       "      <th>317</th>\n",
       "      <td>136.0</td>\n",
       "      <td>15.0</td>\n",
       "      <td>2.0</td>\n",
       "      <td>1</td>\n",
       "      <td>25.0</td>\n",
       "      <td>63</td>\n",
       "      <td>u tuyến thượng thận</td>\n",
       "      <td>16</td>\n",
       "      <td>NaN</td>\n",
       "      <td>NaN</td>\n",
       "      <td>NaN</td>\n",
       "      <td>0</td>\n",
       "      <td>thận - tiết niệu</td>\n",
       "      <td>0.569241</td>\n",
       "      <td>ung bướu</td>\n",
       "    </tr>\n",
       "    <tr>\n",
       "      <th>356</th>\n",
       "      <td>136.0</td>\n",
       "      <td>15.0</td>\n",
       "      <td>2.0</td>\n",
       "      <td>0</td>\n",
       "      <td>1.0</td>\n",
       "      <td>37</td>\n",
       "      <td>khi khám sk định kỳ ở bv thu cúc. bs siêu âm t...</td>\n",
       "      <td>16</td>\n",
       "      <td>NaN</td>\n",
       "      <td>NaN</td>\n",
       "      <td>NaN</td>\n",
       "      <td>0</td>\n",
       "      <td>tiểu đường - nội tiết</td>\n",
       "      <td>0.594719</td>\n",
       "      <td>ung bướu</td>\n",
       "    </tr>\n",
       "    <tr>\n",
       "      <th>359</th>\n",
       "      <td>136.0</td>\n",
       "      <td>15.0</td>\n",
       "      <td>2.0</td>\n",
       "      <td>0</td>\n",
       "      <td>31.0</td>\n",
       "      <td>43</td>\n",
       "      <td>kiểm tra vòm họng. đã khám kiểm tra ở bv thành...</td>\n",
       "      <td>16</td>\n",
       "      <td>NaN</td>\n",
       "      <td>NaN</td>\n",
       "      <td>NaN</td>\n",
       "      <td>0</td>\n",
       "      <td>tai mũi họng</td>\n",
       "      <td>0.862965</td>\n",
       "      <td>ung bướu</td>\n",
       "    </tr>\n",
       "    <tr>\n",
       "      <th>...</th>\n",
       "      <td>...</td>\n",
       "      <td>...</td>\n",
       "      <td>...</td>\n",
       "      <td>...</td>\n",
       "      <td>...</td>\n",
       "      <td>...</td>\n",
       "      <td>...</td>\n",
       "      <td>...</td>\n",
       "      <td>...</td>\n",
       "      <td>...</td>\n",
       "      <td>...</td>\n",
       "      <td>...</td>\n",
       "      <td>...</td>\n",
       "      <td>...</td>\n",
       "      <td>...</td>\n",
       "    </tr>\n",
       "    <tr>\n",
       "      <th>53211</th>\n",
       "      <td>442.0</td>\n",
       "      <td>29.0</td>\n",
       "      <td>2.0</td>\n",
       "      <td>1</td>\n",
       "      <td>79.0</td>\n",
       "      <td>46</td>\n",
       "      <td>đo độ loạn</td>\n",
       "      <td>0</td>\n",
       "      <td>NaN</td>\n",
       "      <td>NaN</td>\n",
       "      <td>NaN</td>\n",
       "      <td>0</td>\n",
       "      <td>chuyên khoa mắt</td>\n",
       "      <td>0.828534</td>\n",
       "      <td>chuyên khoa mắt</td>\n",
       "    </tr>\n",
       "    <tr>\n",
       "      <th>53217</th>\n",
       "      <td>241.0</td>\n",
       "      <td>29.0</td>\n",
       "      <td>2.0</td>\n",
       "      <td>1</td>\n",
       "      <td>37.0</td>\n",
       "      <td>59</td>\n",
       "      <td>mắt mờ, mộng mắt, bệnh nhân bị tiều đường tuýp...</td>\n",
       "      <td>0</td>\n",
       "      <td>NaN</td>\n",
       "      <td>NaN</td>\n",
       "      <td>NaN</td>\n",
       "      <td>0</td>\n",
       "      <td>chuyên khoa mắt</td>\n",
       "      <td>0.882307</td>\n",
       "      <td>chuyên khoa mắt</td>\n",
       "    </tr>\n",
       "    <tr>\n",
       "      <th>53264</th>\n",
       "      <td>387.0</td>\n",
       "      <td>29.0</td>\n",
       "      <td>2.0</td>\n",
       "      <td>0</td>\n",
       "      <td>79.0</td>\n",
       "      <td>35</td>\n",
       "      <td>nằm ngủ, ngồi dậy thấy có cái dãy đen. sau đó,...</td>\n",
       "      <td>0</td>\n",
       "      <td>NaN</td>\n",
       "      <td>NaN</td>\n",
       "      <td>NaN</td>\n",
       "      <td>0</td>\n",
       "      <td>chuyên khoa mắt</td>\n",
       "      <td>0.752651</td>\n",
       "      <td>chuyên khoa mắt</td>\n",
       "    </tr>\n",
       "    <tr>\n",
       "      <th>53267</th>\n",
       "      <td>111.0</td>\n",
       "      <td>29.0</td>\n",
       "      <td>2.0</td>\n",
       "      <td>1</td>\n",
       "      <td>89.0</td>\n",
       "      <td>46</td>\n",
       "      <td>khám tổng quát định kì và khám mắt bị viêm</td>\n",
       "      <td>0</td>\n",
       "      <td>NaN</td>\n",
       "      <td>NaN</td>\n",
       "      <td>NaN</td>\n",
       "      <td>0</td>\n",
       "      <td>chuyên khoa mắt</td>\n",
       "      <td>0.643016</td>\n",
       "      <td>chuyên khoa mắt</td>\n",
       "    </tr>\n",
       "    <tr>\n",
       "      <th>53276</th>\n",
       "      <td>47.0</td>\n",
       "      <td>29.0</td>\n",
       "      <td>2.0</td>\n",
       "      <td>0</td>\n",
       "      <td>1.0</td>\n",
       "      <td>60</td>\n",
       "      <td>cháu khi bú ti, hoặc hoạt động cơ miệng thì mắ...</td>\n",
       "      <td>0</td>\n",
       "      <td>NaN</td>\n",
       "      <td>NaN</td>\n",
       "      <td>NaN</td>\n",
       "      <td>0</td>\n",
       "      <td>chuyên khoa mắt</td>\n",
       "      <td>0.846965</td>\n",
       "      <td>chuyên khoa mắt</td>\n",
       "    </tr>\n",
       "  </tbody>\n",
       "</table>\n",
       "<p>9222 rows × 15 columns</p>\n",
       "</div>"
      ],
      "text/plain": [
       "       partner_id  specialist_id  status  gender  province_id  age  \\\n",
       "54           74.0           67.0     2.0       0         27.0   28   \n",
       "64           23.0           67.0     2.0       1         24.0   24   \n",
       "317         136.0           15.0     2.0       1         25.0   63   \n",
       "356         136.0           15.0     2.0       0          1.0   37   \n",
       "359         136.0           15.0     2.0       0         31.0   43   \n",
       "...           ...            ...     ...     ...          ...  ...   \n",
       "53211       442.0           29.0     2.0       1         79.0   46   \n",
       "53217       241.0           29.0     2.0       1         37.0   59   \n",
       "53264       387.0           29.0     2.0       0         79.0   35   \n",
       "53267       111.0           29.0     2.0       1         89.0   46   \n",
       "53276        47.0           29.0     2.0       0          1.0   60   \n",
       "\n",
       "                                          reason_combind  specialist_name  \\\n",
       "54                             khám rối loạn cương dương               17   \n",
       "64                          khám tổng quát tiền hôn nhân               17   \n",
       "317                                  u tuyến thượng thận               16   \n",
       "356    khi khám sk định kỳ ở bv thu cúc. bs siêu âm t...               16   \n",
       "359    kiểm tra vòm họng. đã khám kiểm tra ở bv thành...               16   \n",
       "...                                                  ...              ...   \n",
       "53211                                         đo độ loạn                0   \n",
       "53217  mắt mờ, mộng mắt, bệnh nhân bị tiều đường tuýp...                0   \n",
       "53264  nằm ngủ, ngồi dậy thấy có cái dãy đen. sau đó,...                0   \n",
       "53267         khám tổng quát định kì và khám mắt bị viêm                0   \n",
       "53276  cháu khi bú ti, hoặc hoạt động cơ miệng thì mắ...                0   \n",
       "\n",
       "       Unnamed: 8  Unnamed: 9 Unnamed: 10  age_category  \\\n",
       "54            NaN         NaN         NaN             0   \n",
       "64            NaN         NaN         NaN             0   \n",
       "317           NaN         NaN         NaN             0   \n",
       "356           NaN         NaN         NaN             0   \n",
       "359           NaN         NaN         NaN             0   \n",
       "...           ...         ...         ...           ...   \n",
       "53211         NaN         NaN         NaN             0   \n",
       "53217         NaN         NaN         NaN             0   \n",
       "53264         NaN         NaN         NaN             0   \n",
       "53267         NaN         NaN         NaN             0   \n",
       "53276         NaN         NaN         NaN             0   \n",
       "\n",
       "        predicted_specialist  prediction_probability specialist_name_category  \n",
       "54                   nam học                0.800052      vô sinh - hiếm muộn  \n",
       "64                  nội khoa                0.498562      vô sinh - hiếm muộn  \n",
       "317         thận - tiết niệu                0.569241                 ung bướu  \n",
       "356    tiểu đường - nội tiết                0.594719                 ung bướu  \n",
       "359             tai mũi họng                0.862965                 ung bướu  \n",
       "...                      ...                     ...                      ...  \n",
       "53211        chuyên khoa mắt                0.828534          chuyên khoa mắt  \n",
       "53217        chuyên khoa mắt                0.882307          chuyên khoa mắt  \n",
       "53264        chuyên khoa mắt                0.752651          chuyên khoa mắt  \n",
       "53267        chuyên khoa mắt                0.643016          chuyên khoa mắt  \n",
       "53276        chuyên khoa mắt                0.846965          chuyên khoa mắt  \n",
       "\n",
       "[9222 rows x 15 columns]"
      ]
     },
     "execution_count": 43,
     "metadata": {},
     "output_type": "execute_result"
    }
   ],
   "source": [
    "df_low_confidence_correct = df[\n",
    "    (df['specialist_name_category'] == df['predicted_specialist']) & \n",
    "    (df['prediction_probability'] < 0.9)\n",
    "]\n",
    "\n",
    "# Combine both filters into a single DataFrame\n",
    "df_filtered = pd.concat([df_wrong_predictions, df_low_confidence_correct])\n",
    "df_filtered"
   ]
  },
  {
   "cell_type": "code",
   "execution_count": 44,
   "id": "f4f80e4b-469e-46b6-bd4e-e5011e34d84b",
   "metadata": {},
   "outputs": [
    {
     "data": {
      "text/html": [
       "<div>\n",
       "<style scoped>\n",
       "    .dataframe tbody tr th:only-of-type {\n",
       "        vertical-align: middle;\n",
       "    }\n",
       "\n",
       "    .dataframe tbody tr th {\n",
       "        vertical-align: top;\n",
       "    }\n",
       "\n",
       "    .dataframe thead th {\n",
       "        text-align: right;\n",
       "    }\n",
       "</style>\n",
       "<table border=\"1\" class=\"dataframe\">\n",
       "  <thead>\n",
       "    <tr style=\"text-align: right;\">\n",
       "      <th></th>\n",
       "      <th>partner_id</th>\n",
       "      <th>specialist_id</th>\n",
       "      <th>status</th>\n",
       "      <th>gender</th>\n",
       "      <th>province_id</th>\n",
       "      <th>age</th>\n",
       "      <th>reason_combind</th>\n",
       "      <th>specialist_name</th>\n",
       "      <th>Unnamed: 8</th>\n",
       "      <th>Unnamed: 9</th>\n",
       "      <th>Unnamed: 10</th>\n",
       "      <th>age_category</th>\n",
       "      <th>predicted_specialist</th>\n",
       "      <th>prediction_probability</th>\n",
       "      <th>specialist_name_category</th>\n",
       "    </tr>\n",
       "  </thead>\n",
       "  <tbody>\n",
       "    <tr>\n",
       "      <th>0</th>\n",
       "      <td>23.0</td>\n",
       "      <td>67.0</td>\n",
       "      <td>2.0</td>\n",
       "      <td>1</td>\n",
       "      <td>38.0</td>\n",
       "      <td>25</td>\n",
       "      <td>muốn làm ivf</td>\n",
       "      <td>17</td>\n",
       "      <td>NaN</td>\n",
       "      <td>NaN</td>\n",
       "      <td>NaN</td>\n",
       "      <td>0</td>\n",
       "      <td>vô sinh - hiếm muộn</td>\n",
       "      <td>0.999931</td>\n",
       "      <td>vô sinh - hiếm muộn</td>\n",
       "    </tr>\n",
       "    <tr>\n",
       "      <th>1</th>\n",
       "      <td>23.0</td>\n",
       "      <td>67.0</td>\n",
       "      <td>2.0</td>\n",
       "      <td>1</td>\n",
       "      <td>27.0</td>\n",
       "      <td>26</td>\n",
       "      <td>mong con</td>\n",
       "      <td>17</td>\n",
       "      <td>NaN</td>\n",
       "      <td>NaN</td>\n",
       "      <td>NaN</td>\n",
       "      <td>0</td>\n",
       "      <td>vô sinh - hiếm muộn</td>\n",
       "      <td>0.996000</td>\n",
       "      <td>vô sinh - hiếm muộn</td>\n",
       "    </tr>\n",
       "    <tr>\n",
       "      <th>2</th>\n",
       "      <td>23.0</td>\n",
       "      <td>67.0</td>\n",
       "      <td>2.0</td>\n",
       "      <td>0</td>\n",
       "      <td>27.0</td>\n",
       "      <td>28</td>\n",
       "      <td>hiếm muộn</td>\n",
       "      <td>17</td>\n",
       "      <td>NaN</td>\n",
       "      <td>NaN</td>\n",
       "      <td>NaN</td>\n",
       "      <td>0</td>\n",
       "      <td>vô sinh - hiếm muộn</td>\n",
       "      <td>0.999961</td>\n",
       "      <td>vô sinh - hiếm muộn</td>\n",
       "    </tr>\n",
       "    <tr>\n",
       "      <th>3</th>\n",
       "      <td>23.0</td>\n",
       "      <td>67.0</td>\n",
       "      <td>2.0</td>\n",
       "      <td>1</td>\n",
       "      <td>31.0</td>\n",
       "      <td>26</td>\n",
       "      <td>khám vô sinh, hiếm muộn</td>\n",
       "      <td>17</td>\n",
       "      <td>NaN</td>\n",
       "      <td>NaN</td>\n",
       "      <td>NaN</td>\n",
       "      <td>0</td>\n",
       "      <td>vô sinh - hiếm muộn</td>\n",
       "      <td>0.999779</td>\n",
       "      <td>vô sinh - hiếm muộn</td>\n",
       "    </tr>\n",
       "    <tr>\n",
       "      <th>4</th>\n",
       "      <td>23.0</td>\n",
       "      <td>67.0</td>\n",
       "      <td>2.0</td>\n",
       "      <td>1</td>\n",
       "      <td>1.0</td>\n",
       "      <td>34</td>\n",
       "      <td>thả hơn 1 năm mà không có thai nên muốn siêu â...</td>\n",
       "      <td>17</td>\n",
       "      <td>NaN</td>\n",
       "      <td>NaN</td>\n",
       "      <td>NaN</td>\n",
       "      <td>0</td>\n",
       "      <td>vô sinh - hiếm muộn</td>\n",
       "      <td>0.989727</td>\n",
       "      <td>vô sinh - hiếm muộn</td>\n",
       "    </tr>\n",
       "    <tr>\n",
       "      <th>...</th>\n",
       "      <td>...</td>\n",
       "      <td>...</td>\n",
       "      <td>...</td>\n",
       "      <td>...</td>\n",
       "      <td>...</td>\n",
       "      <td>...</td>\n",
       "      <td>...</td>\n",
       "      <td>...</td>\n",
       "      <td>...</td>\n",
       "      <td>...</td>\n",
       "      <td>...</td>\n",
       "      <td>...</td>\n",
       "      <td>...</td>\n",
       "      <td>...</td>\n",
       "      <td>...</td>\n",
       "    </tr>\n",
       "    <tr>\n",
       "      <th>53284</th>\n",
       "      <td>372.0</td>\n",
       "      <td>29.0</td>\n",
       "      <td>2.0</td>\n",
       "      <td>1</td>\n",
       "      <td>79.0</td>\n",
       "      <td>51</td>\n",
       "      <td>mắt trái đau cộm</td>\n",
       "      <td>0</td>\n",
       "      <td>NaN</td>\n",
       "      <td>NaN</td>\n",
       "      <td>NaN</td>\n",
       "      <td>0</td>\n",
       "      <td>chuyên khoa mắt</td>\n",
       "      <td>0.999778</td>\n",
       "      <td>chuyên khoa mắt</td>\n",
       "    </tr>\n",
       "    <tr>\n",
       "      <th>53285</th>\n",
       "      <td>111.0</td>\n",
       "      <td>29.0</td>\n",
       "      <td>2.0</td>\n",
       "      <td>1</td>\n",
       "      <td>79.0</td>\n",
       "      <td>58</td>\n",
       "      <td>kính áp tròng ko lấy ra được</td>\n",
       "      <td>0</td>\n",
       "      <td>NaN</td>\n",
       "      <td>NaN</td>\n",
       "      <td>NaN</td>\n",
       "      <td>0</td>\n",
       "      <td>chuyên khoa mắt</td>\n",
       "      <td>0.999886</td>\n",
       "      <td>chuyên khoa mắt</td>\n",
       "    </tr>\n",
       "    <tr>\n",
       "      <th>53286</th>\n",
       "      <td>85.0</td>\n",
       "      <td>17.0</td>\n",
       "      <td>2.0</td>\n",
       "      <td>0</td>\n",
       "      <td>27.0</td>\n",
       "      <td>34</td>\n",
       "      <td>tái khám mắt</td>\n",
       "      <td>0</td>\n",
       "      <td>NaN</td>\n",
       "      <td>NaN</td>\n",
       "      <td>NaN</td>\n",
       "      <td>0</td>\n",
       "      <td>chuyên khoa mắt</td>\n",
       "      <td>0.997959</td>\n",
       "      <td>chuyên khoa mắt</td>\n",
       "    </tr>\n",
       "    <tr>\n",
       "      <th>53287</th>\n",
       "      <td>85.0</td>\n",
       "      <td>17.0</td>\n",
       "      <td>2.0</td>\n",
       "      <td>0</td>\n",
       "      <td>30.0</td>\n",
       "      <td>50</td>\n",
       "      <td>khám mắt bs tung</td>\n",
       "      <td>0</td>\n",
       "      <td>NaN</td>\n",
       "      <td>NaN</td>\n",
       "      <td>NaN</td>\n",
       "      <td>0</td>\n",
       "      <td>chuyên khoa mắt</td>\n",
       "      <td>0.920980</td>\n",
       "      <td>chuyên khoa mắt</td>\n",
       "    </tr>\n",
       "    <tr>\n",
       "      <th>53288</th>\n",
       "      <td>85.0</td>\n",
       "      <td>17.0</td>\n",
       "      <td>2.0</td>\n",
       "      <td>0</td>\n",
       "      <td>1.0</td>\n",
       "      <td>49</td>\n",
       "      <td>khám mắt bị mờ sau mổ u hốc mắt</td>\n",
       "      <td>0</td>\n",
       "      <td>NaN</td>\n",
       "      <td>NaN</td>\n",
       "      <td>NaN</td>\n",
       "      <td>0</td>\n",
       "      <td>chuyên khoa mắt</td>\n",
       "      <td>0.999576</td>\n",
       "      <td>chuyên khoa mắt</td>\n",
       "    </tr>\n",
       "  </tbody>\n",
       "</table>\n",
       "<p>42340 rows × 15 columns</p>\n",
       "</div>"
      ],
      "text/plain": [
       "       partner_id  specialist_id  status  gender  province_id  age  \\\n",
       "0            23.0           67.0     2.0       1         38.0   25   \n",
       "1            23.0           67.0     2.0       1         27.0   26   \n",
       "2            23.0           67.0     2.0       0         27.0   28   \n",
       "3            23.0           67.0     2.0       1         31.0   26   \n",
       "4            23.0           67.0     2.0       1          1.0   34   \n",
       "...           ...            ...     ...     ...          ...  ...   \n",
       "53284       372.0           29.0     2.0       1         79.0   51   \n",
       "53285       111.0           29.0     2.0       1         79.0   58   \n",
       "53286        85.0           17.0     2.0       0         27.0   34   \n",
       "53287        85.0           17.0     2.0       0         30.0   50   \n",
       "53288        85.0           17.0     2.0       0          1.0   49   \n",
       "\n",
       "                                          reason_combind  specialist_name  \\\n",
       "0                                           muốn làm ivf               17   \n",
       "1                                               mong con               17   \n",
       "2                                              hiếm muộn               17   \n",
       "3                                khám vô sinh, hiếm muộn               17   \n",
       "4      thả hơn 1 năm mà không có thai nên muốn siêu â...               17   \n",
       "...                                                  ...              ...   \n",
       "53284                                   mắt trái đau cộm                0   \n",
       "53285                       kính áp tròng ko lấy ra được                0   \n",
       "53286                                       tái khám mắt                0   \n",
       "53287                                   khám mắt bs tung                0   \n",
       "53288                    khám mắt bị mờ sau mổ u hốc mắt                0   \n",
       "\n",
       "       Unnamed: 8  Unnamed: 9 Unnamed: 10  age_category predicted_specialist  \\\n",
       "0             NaN         NaN         NaN             0  vô sinh - hiếm muộn   \n",
       "1             NaN         NaN         NaN             0  vô sinh - hiếm muộn   \n",
       "2             NaN         NaN         NaN             0  vô sinh - hiếm muộn   \n",
       "3             NaN         NaN         NaN             0  vô sinh - hiếm muộn   \n",
       "4             NaN         NaN         NaN             0  vô sinh - hiếm muộn   \n",
       "...           ...         ...         ...           ...                  ...   \n",
       "53284         NaN         NaN         NaN             0      chuyên khoa mắt   \n",
       "53285         NaN         NaN         NaN             0      chuyên khoa mắt   \n",
       "53286         NaN         NaN         NaN             0      chuyên khoa mắt   \n",
       "53287         NaN         NaN         NaN             0      chuyên khoa mắt   \n",
       "53288         NaN         NaN         NaN             0      chuyên khoa mắt   \n",
       "\n",
       "       prediction_probability specialist_name_category  \n",
       "0                    0.999931      vô sinh - hiếm muộn  \n",
       "1                    0.996000      vô sinh - hiếm muộn  \n",
       "2                    0.999961      vô sinh - hiếm muộn  \n",
       "3                    0.999779      vô sinh - hiếm muộn  \n",
       "4                    0.989727      vô sinh - hiếm muộn  \n",
       "...                       ...                      ...  \n",
       "53284                0.999778          chuyên khoa mắt  \n",
       "53285                0.999886          chuyên khoa mắt  \n",
       "53286                0.997959          chuyên khoa mắt  \n",
       "53287                0.920980          chuyên khoa mắt  \n",
       "53288                0.999576          chuyên khoa mắt  \n",
       "\n",
       "[42340 rows x 15 columns]"
      ]
     },
     "execution_count": 44,
     "metadata": {},
     "output_type": "execute_result"
    }
   ],
   "source": [
    "df_correct_predictions = df[df['specialist_name_category'] == df['predicted_specialist']]\n",
    "df_correct_predictions"
   ]
  },
  {
   "cell_type": "code",
   "execution_count": 45,
   "id": "76eaad5c-4b26-403e-a158-004f573dfb1e",
   "metadata": {},
   "outputs": [],
   "source": [
    "df_correct_predictions.to_csv('../data/df_filtered_correction_v1.csv')"
   ]
  },
  {
   "cell_type": "code",
   "execution_count": 46,
   "id": "eeecc702-8f9f-4f0b-bd70-892de620d3dd",
   "metadata": {},
   "outputs": [],
   "source": [
    "df_filtered.to_csv('../data/filtered_predictions_v4.csv', index=False)"
   ]
  },
  {
   "cell_type": "code",
   "execution_count": 47,
   "id": "bfc884e6-c9fd-45fe-b1e8-b68e860ff84e",
   "metadata": {},
   "outputs": [
    {
     "data": {
      "text/plain": [
       "(7510, 15)"
      ]
     },
     "execution_count": 47,
     "metadata": {},
     "output_type": "execute_result"
    }
   ],
   "source": [
    "df_low_confidence_correct.shape"
   ]
  },
  {
   "cell_type": "code",
   "execution_count": 48,
   "id": "2b6ab7e5-f892-4bb4-9931-69745902f090",
   "metadata": {},
   "outputs": [
    {
     "data": {
      "text/plain": [
       "(array([17,  4, 16, 13, 14,  7, 15, 10,  2,  8,  3,  1, 11, 12,  9,  6,  5,\n",
       "         0]),\n",
       " 18)"
      ]
     },
     "execution_count": 48,
     "metadata": {},
     "output_type": "execute_result"
    }
   ],
   "source": [
    "df_low_confidence_correct.specialist_name.unique(), len(df_low_confidence_correct.specialist_name.unique())"
   ]
  },
  {
   "cell_type": "code",
   "execution_count": 49,
   "id": "a02abf2e-5dc1-40ec-bf39-e975698b0aff",
   "metadata": {},
   "outputs": [
    {
     "data": {
      "text/plain": [
       "(1712, 15)"
      ]
     },
     "execution_count": 49,
     "metadata": {},
     "output_type": "execute_result"
    }
   ],
   "source": [
    "df_wrong_predictions.shape"
   ]
  },
  {
   "cell_type": "code",
   "execution_count": 50,
   "id": "45e3f16b-725a-41d8-a835-060d8afc8a93",
   "metadata": {},
   "outputs": [
    {
     "data": {
      "text/html": [
       "<div>\n",
       "<style scoped>\n",
       "    .dataframe tbody tr th:only-of-type {\n",
       "        vertical-align: middle;\n",
       "    }\n",
       "\n",
       "    .dataframe tbody tr th {\n",
       "        vertical-align: top;\n",
       "    }\n",
       "\n",
       "    .dataframe thead th {\n",
       "        text-align: right;\n",
       "    }\n",
       "</style>\n",
       "<table border=\"1\" class=\"dataframe\">\n",
       "  <thead>\n",
       "    <tr style=\"text-align: right;\">\n",
       "      <th></th>\n",
       "      <th>partner_id</th>\n",
       "      <th>specialist_id</th>\n",
       "      <th>status</th>\n",
       "      <th>gender</th>\n",
       "      <th>province_id</th>\n",
       "      <th>age</th>\n",
       "      <th>reason_combind</th>\n",
       "      <th>specialist_name</th>\n",
       "      <th>Unnamed: 8</th>\n",
       "      <th>Unnamed: 9</th>\n",
       "      <th>Unnamed: 10</th>\n",
       "      <th>age_category</th>\n",
       "      <th>predicted_specialist</th>\n",
       "      <th>prediction_probability</th>\n",
       "      <th>specialist_name_category</th>\n",
       "    </tr>\n",
       "  </thead>\n",
       "  <tbody>\n",
       "    <tr>\n",
       "      <th>52670</th>\n",
       "      <td>372.0</td>\n",
       "      <td>29.0</td>\n",
       "      <td>2.0</td>\n",
       "      <td>0</td>\n",
       "      <td>77.0</td>\n",
       "      <td>8</td>\n",
       "      <td>nhược thị, teo dây thần kinh</td>\n",
       "      <td>0</td>\n",
       "      <td>NaN</td>\n",
       "      <td>NaN</td>\n",
       "      <td>NaN</td>\n",
       "      <td>1</td>\n",
       "      <td>thần kinh</td>\n",
       "      <td>0.795732</td>\n",
       "      <td>chuyên khoa mắt</td>\n",
       "    </tr>\n",
       "    <tr>\n",
       "      <th>52839</th>\n",
       "      <td>50.0</td>\n",
       "      <td>29.0</td>\n",
       "      <td>2.0</td>\n",
       "      <td>1</td>\n",
       "      <td>1.0</td>\n",
       "      <td>33</td>\n",
       "      <td>đau hốc mắt dữ dội, chảy nước mắt, chóng mặt b...</td>\n",
       "      <td>0</td>\n",
       "      <td>NaN</td>\n",
       "      <td>NaN</td>\n",
       "      <td>NaN</td>\n",
       "      <td>0</td>\n",
       "      <td>thần kinh</td>\n",
       "      <td>0.523397</td>\n",
       "      <td>chuyên khoa mắt</td>\n",
       "    </tr>\n",
       "    <tr>\n",
       "      <th>53024</th>\n",
       "      <td>111.0</td>\n",
       "      <td>29.0</td>\n",
       "      <td>2.0</td>\n",
       "      <td>0</td>\n",
       "      <td>74.0</td>\n",
       "      <td>47</td>\n",
       "      <td>nhức mỏi mắt,ù tai.</td>\n",
       "      <td>0</td>\n",
       "      <td>NaN</td>\n",
       "      <td>NaN</td>\n",
       "      <td>NaN</td>\n",
       "      <td>0</td>\n",
       "      <td>tai mũi họng</td>\n",
       "      <td>0.489748</td>\n",
       "      <td>chuyên khoa mắt</td>\n",
       "    </tr>\n",
       "    <tr>\n",
       "      <th>53081</th>\n",
       "      <td>423.0</td>\n",
       "      <td>29.0</td>\n",
       "      <td>2.0</td>\n",
       "      <td>1</td>\n",
       "      <td>79.0</td>\n",
       "      <td>22</td>\n",
       "      <td>bị zona thần kinh, đỏ mắt</td>\n",
       "      <td>0</td>\n",
       "      <td>NaN</td>\n",
       "      <td>NaN</td>\n",
       "      <td>NaN</td>\n",
       "      <td>0</td>\n",
       "      <td>da liễu</td>\n",
       "      <td>0.875973</td>\n",
       "      <td>chuyên khoa mắt</td>\n",
       "    </tr>\n",
       "    <tr>\n",
       "      <th>53101</th>\n",
       "      <td>172.0</td>\n",
       "      <td>29.0</td>\n",
       "      <td>2.0</td>\n",
       "      <td>1</td>\n",
       "      <td>40.0</td>\n",
       "      <td>28</td>\n",
       "      <td>rối loạn nội tiết mắt</td>\n",
       "      <td>0</td>\n",
       "      <td>NaN</td>\n",
       "      <td>NaN</td>\n",
       "      <td>NaN</td>\n",
       "      <td>0</td>\n",
       "      <td>tiểu đường - nội tiết</td>\n",
       "      <td>0.537403</td>\n",
       "      <td>chuyên khoa mắt</td>\n",
       "    </tr>\n",
       "  </tbody>\n",
       "</table>\n",
       "</div>"
      ],
      "text/plain": [
       "       partner_id  specialist_id  status  gender  province_id  age  \\\n",
       "52670       372.0           29.0     2.0       0         77.0    8   \n",
       "52839        50.0           29.0     2.0       1          1.0   33   \n",
       "53024       111.0           29.0     2.0       0         74.0   47   \n",
       "53081       423.0           29.0     2.0       1         79.0   22   \n",
       "53101       172.0           29.0     2.0       1         40.0   28   \n",
       "\n",
       "                                          reason_combind  specialist_name  \\\n",
       "52670                       nhược thị, teo dây thần kinh                0   \n",
       "52839  đau hốc mắt dữ dội, chảy nước mắt, chóng mặt b...                0   \n",
       "53024                                nhức mỏi mắt,ù tai.                0   \n",
       "53081                          bị zona thần kinh, đỏ mắt                0   \n",
       "53101                              rối loạn nội tiết mắt                0   \n",
       "\n",
       "       Unnamed: 8  Unnamed: 9 Unnamed: 10  age_category  \\\n",
       "52670         NaN         NaN         NaN             1   \n",
       "52839         NaN         NaN         NaN             0   \n",
       "53024         NaN         NaN         NaN             0   \n",
       "53081         NaN         NaN         NaN             0   \n",
       "53101         NaN         NaN         NaN             0   \n",
       "\n",
       "        predicted_specialist  prediction_probability specialist_name_category  \n",
       "52670              thần kinh                0.795732          chuyên khoa mắt  \n",
       "52839              thần kinh                0.523397          chuyên khoa mắt  \n",
       "53024           tai mũi họng                0.489748          chuyên khoa mắt  \n",
       "53081                da liễu                0.875973          chuyên khoa mắt  \n",
       "53101  tiểu đường - nội tiết                0.537403          chuyên khoa mắt  "
      ]
     },
     "execution_count": 50,
     "metadata": {},
     "output_type": "execute_result"
    }
   ],
   "source": [
    "df_wrong_predictions.tail()"
   ]
  },
  {
   "cell_type": "code",
   "execution_count": 53,
   "id": "49329a04-e672-48cd-992b-a5f16b014d7e",
   "metadata": {},
   "outputs": [
    {
     "data": {
      "text/plain": [
       "(9222, 15)"
      ]
     },
     "execution_count": 53,
     "metadata": {},
     "output_type": "execute_result"
    }
   ],
   "source": [
    "df_filtered.shape"
   ]
  },
  {
   "cell_type": "code",
   "execution_count": 54,
   "id": "185acac0-f889-4ba4-82e4-da73cb295b8a",
   "metadata": {},
   "outputs": [
    {
     "name": "stdout",
     "output_type": "stream",
     "text": [
      "specialist_name_category\n",
      "cơ xương khớp            1357\n",
      "tiêu hóa                 1297\n",
      "thần kinh                1230\n",
      "da liễu                   972\n",
      "tai mũi họng              652\n",
      "tim mạch                  651\n",
      "nội khoa                  539\n",
      "nhi khoa                  460\n",
      "sức khỏe tâm thần         419\n",
      "nam học                   392\n",
      "ung bướu                  357\n",
      "sản phụ khoa              313\n",
      "thận - tiết niệu          194\n",
      "tiểu đường - nội tiết     185\n",
      "chuyên khoa mắt            98\n",
      "hô hấp - phổi              78\n",
      "vô sinh - hiếm muộn        27\n",
      "nha khoa                    1\n",
      "Name: count, dtype: int64\n"
     ]
    }
   ],
   "source": [
    "# Count the number of occurrences per class in df_filtered\n",
    "class_counts = df_filtered['specialist_name_category'].value_counts()\n",
    "print(class_counts)\n"
   ]
  },
  {
   "cell_type": "code",
   "execution_count": 55,
   "id": "d74c1f47-385f-4f57-94b1-350b11dd8636",
   "metadata": {},
   "outputs": [
    {
     "data": {
      "text/plain": [
       "Index(['partner_id', 'specialist_id', 'status', 'gender', 'province_id', 'age',\n",
       "       'reason_combind', 'specialist_name', 'Unnamed: 8', 'Unnamed: 9',\n",
       "       'Unnamed: 10', 'age_category', 'predicted_specialist',\n",
       "       'prediction_probability', 'specialist_name_category'],\n",
       "      dtype='object')"
      ]
     },
     "execution_count": 55,
     "metadata": {},
     "output_type": "execute_result"
    }
   ],
   "source": [
    "df_filtered.columns"
   ]
  },
  {
   "cell_type": "code",
   "execution_count": 56,
   "id": "72d070b9-53eb-4235-a9c1-a00d3d44b191",
   "metadata": {},
   "outputs": [],
   "source": [
    "# Calculate the average count of samples across all classes in df_filtered\n",
    "avg_class_count = int(df_filtered['specialist_name_category'].value_counts().mean())\n",
    "\n",
    "# Identify classes with less than the average count\n",
    "classes_below_avg = df_filtered['specialist_name_category'].value_counts()\n",
    "classes_below_avg = classes_below_avg[classes_below_avg < avg_class_count].index\n",
    "\n",
    "# Add samples to classes with less than the average count\n",
    "for cls in classes_below_avg:\n",
    "    class_samples = df_correct_predictions[df_correct_predictions['specialist_name_category'] == cls]\n",
    "    additional_samples = class_samples.sample(\n",
    "        n=(avg_class_count - len(df_filtered[df_filtered['specialist_name_category'] == cls])),\n",
    "        replace=True,\n",
    "        random_state=42\n",
    "    )\n",
    "    df_filtered = pd.concat([df_filtered, additional_samples])\n",
    "\n",
    "# Reset index after adding samples\n",
    "df_filtered = df_filtered.drop_duplicates().reset_index(drop=True)"
   ]
  },
  {
   "cell_type": "code",
   "execution_count": 57,
   "id": "57245d0d-c170-4458-9ceb-4462eab55961",
   "metadata": {},
   "outputs": [
    {
     "data": {
      "text/plain": [
       "(11144, 15)"
      ]
     },
     "execution_count": 57,
     "metadata": {},
     "output_type": "execute_result"
    }
   ],
   "source": [
    "df_filtered.shape"
   ]
  },
  {
   "cell_type": "code",
   "execution_count": 159,
   "id": "fe25672a-abaf-4558-bd47-0bd6d51d1df0",
   "metadata": {},
   "outputs": [],
   "source": [
    "import pandas as pd\n",
    "\n",
    "def augment_gender_versions_conditional(df):\n",
    "    df_augmented = []\n",
    "\n",
    "    for _, row in df.iterrows():\n",
    "        specialist = str(row['specialist_name']).lower()\n",
    "        current_gender = str(row['gender']).lower()\n",
    "        \n",
    "        # Luôn thêm dòng gốc\n",
    "        df_augmented.append(row.copy())\n",
    "\n",
    "        if 'sản phụ khoa' in specialist:\n",
    "            # Chỉ thêm 'female' nếu gender gốc không phải female\n",
    "            if current_gender != 1:\n",
    "                new_row = row.copy()\n",
    "                new_row['gender'] = 1\n",
    "                df_augmented.append(new_row)\n",
    "        elif 'nam học' in specialist:\n",
    "            if current_gender != 0:\n",
    "                new_row = row.copy()\n",
    "                new_row['gender'] = 0\n",
    "        else:\n",
    "            # Thêm bản ngược lại với gender hiện tại\n",
    "            opposite_gender = 0 if current_gender == 1 else 0\n",
    "            new_row = row.copy()\n",
    "            new_row['gender'] = opposite_gender\n",
    "            df_augmented.append(new_row)\n",
    "\n",
    "    return pd.DataFrame(df_augmented)\n"
   ]
  },
  {
   "cell_type": "code",
   "execution_count": 160,
   "id": "e96af6f1-0e7c-4a93-8a99-b0436e0319a2",
   "metadata": {},
   "outputs": [],
   "source": [
    "df_filtered = augment_data(df_filtered)"
   ]
  },
  {
   "cell_type": "code",
   "execution_count": 161,
   "id": "5196ff21-3b8d-48ce-aa55-8769eb5168b7",
   "metadata": {},
   "outputs": [
    {
     "data": {
      "text/plain": [
       "(22288, 15)"
      ]
     },
     "execution_count": 161,
     "metadata": {},
     "output_type": "execute_result"
    }
   ],
   "source": [
    "df_filtered.shape"
   ]
  },
  {
   "cell_type": "code",
   "execution_count": 162,
   "id": "43616b55-a106-4a0c-8ab1-206593a9e800",
   "metadata": {},
   "outputs": [
    {
     "name": "stdout",
     "output_type": "stream",
     "text": [
      "specialist_name_category\n",
      "cơ xương khớp            2714\n",
      "tiêu hóa                 2594\n",
      "thần kinh                2460\n",
      "da liễu                  1944\n",
      "tai mũi họng             1304\n",
      "tim mạch                 1302\n",
      "nội khoa                 1078\n",
      "sức khỏe tâm thần        1012\n",
      "nam học                   978\n",
      "nhi khoa                  978\n",
      "sản phụ khoa              930\n",
      "ung bướu                  920\n",
      "chuyên khoa mắt           862\n",
      "thận - tiết niệu          838\n",
      "tiểu đường - nội tiết     762\n",
      "hô hấp - phổi             670\n",
      "nha khoa                  494\n",
      "vô sinh - hiếm muộn       448\n",
      "Name: count, dtype: int64\n"
     ]
    }
   ],
   "source": [
    "# Count the number of occurrences per class in df_filtered\n",
    "class_counts = df_filtered['specialist_name_category'].value_counts()\n",
    "print(class_counts)"
   ]
  },
  {
   "cell_type": "code",
   "execution_count": 163,
   "id": "eafe80cf-4fbf-40c6-98dc-8518423419f1",
   "metadata": {},
   "outputs": [
    {
     "data": {
      "text/html": [
       "<div>\n",
       "<style scoped>\n",
       "    .dataframe tbody tr th:only-of-type {\n",
       "        vertical-align: middle;\n",
       "    }\n",
       "\n",
       "    .dataframe tbody tr th {\n",
       "        vertical-align: top;\n",
       "    }\n",
       "\n",
       "    .dataframe thead th {\n",
       "        text-align: right;\n",
       "    }\n",
       "</style>\n",
       "<table border=\"1\" class=\"dataframe\">\n",
       "  <thead>\n",
       "    <tr style=\"text-align: right;\">\n",
       "      <th></th>\n",
       "      <th>partner_id</th>\n",
       "      <th>specialist_id</th>\n",
       "      <th>status</th>\n",
       "      <th>gender</th>\n",
       "      <th>province_id</th>\n",
       "      <th>age</th>\n",
       "      <th>reason_combind</th>\n",
       "      <th>specialist_name</th>\n",
       "      <th>Unnamed: 8</th>\n",
       "      <th>Unnamed: 9</th>\n",
       "      <th>Unnamed: 10</th>\n",
       "      <th>age_category</th>\n",
       "      <th>predicted_specialist</th>\n",
       "      <th>prediction_probability</th>\n",
       "      <th>specialist_name_category</th>\n",
       "    </tr>\n",
       "  </thead>\n",
       "  <tbody>\n",
       "    <tr>\n",
       "      <th>0</th>\n",
       "      <td>74.0</td>\n",
       "      <td>67.0</td>\n",
       "      <td>2.0</td>\n",
       "      <td>1</td>\n",
       "      <td>27.0</td>\n",
       "      <td>28</td>\n",
       "      <td>khám rối loạn cương dương</td>\n",
       "      <td>17</td>\n",
       "      <td>NaN</td>\n",
       "      <td>NaN</td>\n",
       "      <td>NaN</td>\n",
       "      <td>0</td>\n",
       "      <td>nam học</td>\n",
       "      <td>0.800052</td>\n",
       "      <td>vô sinh - hiếm muộn</td>\n",
       "    </tr>\n",
       "    <tr>\n",
       "      <th>1</th>\n",
       "      <td>23.0</td>\n",
       "      <td>67.0</td>\n",
       "      <td>2.0</td>\n",
       "      <td>1</td>\n",
       "      <td>24.0</td>\n",
       "      <td>24</td>\n",
       "      <td>khám tổng quát tiền hôn nhân</td>\n",
       "      <td>17</td>\n",
       "      <td>NaN</td>\n",
       "      <td>NaN</td>\n",
       "      <td>NaN</td>\n",
       "      <td>0</td>\n",
       "      <td>nội khoa</td>\n",
       "      <td>0.498562</td>\n",
       "      <td>vô sinh - hiếm muộn</td>\n",
       "    </tr>\n",
       "    <tr>\n",
       "      <th>2</th>\n",
       "      <td>136.0</td>\n",
       "      <td>15.0</td>\n",
       "      <td>2.0</td>\n",
       "      <td>1</td>\n",
       "      <td>25.0</td>\n",
       "      <td>63</td>\n",
       "      <td>u tuyến thượng thận</td>\n",
       "      <td>16</td>\n",
       "      <td>NaN</td>\n",
       "      <td>NaN</td>\n",
       "      <td>NaN</td>\n",
       "      <td>0</td>\n",
       "      <td>thận - tiết niệu</td>\n",
       "      <td>0.569241</td>\n",
       "      <td>ung bướu</td>\n",
       "    </tr>\n",
       "    <tr>\n",
       "      <th>3</th>\n",
       "      <td>136.0</td>\n",
       "      <td>15.0</td>\n",
       "      <td>2.0</td>\n",
       "      <td>1</td>\n",
       "      <td>1.0</td>\n",
       "      <td>37</td>\n",
       "      <td>khi khám sk định kỳ ở bv thu cúc. bs siêu âm t...</td>\n",
       "      <td>16</td>\n",
       "      <td>NaN</td>\n",
       "      <td>NaN</td>\n",
       "      <td>NaN</td>\n",
       "      <td>0</td>\n",
       "      <td>tiểu đường - nội tiết</td>\n",
       "      <td>0.594719</td>\n",
       "      <td>ung bướu</td>\n",
       "    </tr>\n",
       "    <tr>\n",
       "      <th>4</th>\n",
       "      <td>136.0</td>\n",
       "      <td>15.0</td>\n",
       "      <td>2.0</td>\n",
       "      <td>1</td>\n",
       "      <td>31.0</td>\n",
       "      <td>43</td>\n",
       "      <td>kiểm tra vòm họng. đã khám kiểm tra ở bv thành...</td>\n",
       "      <td>16</td>\n",
       "      <td>NaN</td>\n",
       "      <td>NaN</td>\n",
       "      <td>NaN</td>\n",
       "      <td>0</td>\n",
       "      <td>tai mũi họng</td>\n",
       "      <td>0.862965</td>\n",
       "      <td>ung bướu</td>\n",
       "    </tr>\n",
       "  </tbody>\n",
       "</table>\n",
       "</div>"
      ],
      "text/plain": [
       "   partner_id  specialist_id  status  gender  province_id  age  \\\n",
       "0        74.0           67.0     2.0       1         27.0   28   \n",
       "1        23.0           67.0     2.0       1         24.0   24   \n",
       "2       136.0           15.0     2.0       1         25.0   63   \n",
       "3       136.0           15.0     2.0       1          1.0   37   \n",
       "4       136.0           15.0     2.0       1         31.0   43   \n",
       "\n",
       "                                      reason_combind  specialist_name  \\\n",
       "0                          khám rối loạn cương dương               17   \n",
       "1                       khám tổng quát tiền hôn nhân               17   \n",
       "2                                u tuyến thượng thận               16   \n",
       "3  khi khám sk định kỳ ở bv thu cúc. bs siêu âm t...               16   \n",
       "4  kiểm tra vòm họng. đã khám kiểm tra ở bv thành...               16   \n",
       "\n",
       "   Unnamed: 8  Unnamed: 9 Unnamed: 10  age_category   predicted_specialist  \\\n",
       "0         NaN         NaN         NaN             0                nam học   \n",
       "1         NaN         NaN         NaN             0               nội khoa   \n",
       "2         NaN         NaN         NaN             0       thận - tiết niệu   \n",
       "3         NaN         NaN         NaN             0  tiểu đường - nội tiết   \n",
       "4         NaN         NaN         NaN             0           tai mũi họng   \n",
       "\n",
       "   prediction_probability specialist_name_category  \n",
       "0                0.800052      vô sinh - hiếm muộn  \n",
       "1                0.498562      vô sinh - hiếm muộn  \n",
       "2                0.569241                 ung bướu  \n",
       "3                0.594719                 ung bướu  \n",
       "4                0.862965                 ung bướu  "
      ]
     },
     "execution_count": 163,
     "metadata": {},
     "output_type": "execute_result"
    }
   ],
   "source": [
    "df_filtered.head()"
   ]
  },
  {
   "cell_type": "markdown",
   "id": "6ddbd531-41d0-458d-8ab6-1d3bd4f41ee5",
   "metadata": {},
   "source": [
    "## Training stage 2"
   ]
  },
  {
   "cell_type": "code",
   "execution_count": 164,
   "id": "443412c4-9791-4a20-8f53-c9c3ce7cb6e4",
   "metadata": {},
   "outputs": [],
   "source": [
    "from tqdm.notebook import tqdm\n",
    "\n",
    "def train_stage_2(model, train_loader, val_loader, optimizer, criterion, device, num_epochs=5, patience=2, save_path=\"best_model.pt\"):\n",
    "    model.to(device)\n",
    "    best_val_loss = float('inf')\n",
    "    patience_counter = 0\n",
    "\n",
    "    for epoch in tqdm(range(num_epochs)):\n",
    "        model.train()\n",
    "        running_loss = 0.0\n",
    "        correct_level2 = 0\n",
    "        total = 0\n",
    "\n",
    "        for batch in tqdm(train_loader, desc=\"Training...\"):\n",
    "            reason_text_ids = batch['reason_text_ids'].to(device)\n",
    "            reason_text_mask = batch['reason_text_mask'].to(device)\n",
    "            labels = batch['labels'].to(device)\n",
    "            user_info = batch.get('user_info', None)\n",
    "\n",
    "            if user_info is not None:\n",
    "                user_info = user_info.to(device)\n",
    "\n",
    "            optimizer.zero_grad()\n",
    "            level1_logits, level2_logits = model(\n",
    "                reason_text_ids,\n",
    "                reason_text_mask,\n",
    "                user_info\n",
    "            )\n",
    "\n",
    "            _, level2_preds = torch.max(level2_logits, dim=1)\n",
    "            correct_mask = (level2_preds == labels)\n",
    "            loss = criterion(level2_logits, labels)\n",
    "\n",
    "            loss.backward()\n",
    "            optimizer.step()\n",
    "\n",
    "            running_loss += loss.item()\n",
    "            correct_level2 += correct_mask.sum().item()\n",
    "\n",
    "            total += labels.size(0)\n",
    "\n",
    "        print(f\"Epoch {epoch+1}/{num_epochs}:\")\n",
    "        print(f\"Train Loss: {running_loss / len(train_loader): .4f}\")\n",
    "        print(f\"Level 2 Accuracy: {100 * correct_level2 / total:.2f}%\")\n",
    "\n",
    "        # validation\n",
    "        model.eval()\n",
    "        val_loss = 0.0\n",
    "        correct_level2 = 0\n",
    "        total = 0\n",
    "        with torch.no_grad():\n",
    "            for batch in tqdm(val_loader, desc='Validate...'):\n",
    "                reason_text_ids = batch['reason_text_ids'].to(device)\n",
    "                reason_text_mask = batch['reason_text_mask'].to(device)\n",
    "                user_info = batch.get('user_info', None)\n",
    "                if user_info is not None:\n",
    "                    user_info = user_info.to(device)\n",
    "                    \n",
    "                labels = batch['labels'].to(device)\n",
    "\n",
    "                level1_logits, level2_logits = model(\n",
    "                    reason_text_ids,\n",
    "                    reason_text_mask,\n",
    "                    user_info\n",
    "                )\n",
    "\n",
    "                _, level2_preds = torch.max(level2_logits, dim=1)\n",
    "                correct_mask = (level2_preds == labels)\n",
    "                loss = criterion(level2_logits, labels)\n",
    "\n",
    "                val_loss += loss.item()\n",
    "                correct_level2 += correct_mask.sum().item()\n",
    "\n",
    "                total += labels.size(0)\n",
    "        \n",
    "        avg_val_loss = val_loss / len(val_loader)\n",
    "        print(f\"Validation loss: {avg_val_loss:.4f}\")\n",
    "        print(f\"Validation level 2 Accuracy: {100 * correct_level2 / total:.2f}%\")\n",
    "\n",
    "        if avg_val_loss < best_val_loss:\n",
    "            best_val_loss = avg_val_loss\n",
    "            patience_counter = 0\n",
    "            torch.save(model.state_dict(), save_path)\n",
    "            print(\"Model saved.\")\n",
    "        else:\n",
    "            patience_counter += 1\n",
    "            if patience_counter >= patience:\n",
    "                print(\"Early stopping triggered.\")\n",
    "                break                "
   ]
  },
  {
   "cell_type": "code",
   "execution_count": 165,
   "id": "c55b0f3a-7a29-43fa-8122-63c0d5c7db01",
   "metadata": {},
   "outputs": [],
   "source": [
    "model = MedicalSpecialistClassifer(num_specialists=len(specialist_encoder.classes_), user_feature_dim=2, load_pretrained=False, trust_remote_code=True)"
   ]
  },
  {
   "cell_type": "code",
   "execution_count": 166,
   "id": "36327102-3d0a-4c7c-a912-b4f1c01a0d96",
   "metadata": {},
   "outputs": [
    {
     "data": {
      "text/plain": [
       "<All keys matched successfully>"
      ]
     },
     "execution_count": 166,
     "metadata": {},
     "output_type": "execute_result"
    }
   ],
   "source": [
    "model.load_state_dict(torch.load('../notebooks/best_model.pt'))"
   ]
  },
  {
   "cell_type": "code",
   "execution_count": 167,
   "id": "ca9b51e4-5c1c-4a61-9b48-920b33b2704d",
   "metadata": {},
   "outputs": [],
   "source": [
    "for p in model.level1_output.parameters():\n",
    "    p.requires_grad = False\n",
    "for p in model.hidden_layer1.parameters():\n",
    "    p.requires_grad = False"
   ]
  },
  {
   "cell_type": "code",
   "execution_count": 168,
   "id": "ba67b36a-e0e8-4949-a88f-8ffdb00ea737",
   "metadata": {},
   "outputs": [],
   "source": [
    "dataset = MedicalDataFrameDataset(df_filtered, tokenizer)"
   ]
  },
  {
   "cell_type": "code",
   "execution_count": 169,
   "id": "c24df271-e918-405b-9a7d-af3aae94ab29",
   "metadata": {},
   "outputs": [
    {
     "data": {
      "text/plain": [
       "(array([17, 16, 13, 14, 12, 15, 11,  7, 10,  2,  9,  8,  6,  4,  3,  1,  0,\n",
       "         5]),\n",
       " 18)"
      ]
     },
     "execution_count": 169,
     "metadata": {},
     "output_type": "execute_result"
    }
   ],
   "source": [
    "df_filtered.specialist_name.unique(), len(df_filtered.specialist_name.unique()),"
   ]
  },
  {
   "cell_type": "code",
   "execution_count": 170,
   "id": "43f0e0ed-c707-4dfe-a5e8-6bb3a3628993",
   "metadata": {},
   "outputs": [],
   "source": [
    "train_size = int(0.8 * len(dataset))\n",
    "val_size = len(dataset) - train_size\n",
    "\n",
    "train_dataset, val_dataset = torch.utils.data.random_split(dataset, [train_size, val_size])\n",
    "\n",
    "train_loader = DataLoader(dataset, batch_size=16, shuffle=True)\n",
    "val_loader = DataLoader(val_dataset, batch_size=16)"
   ]
  },
  {
   "cell_type": "code",
   "execution_count": 171,
   "id": "64434e4b-c716-4552-b122-a1e6392aaf2e",
   "metadata": {},
   "outputs": [],
   "source": [
    "optimizer = torch.optim.AdamW(model.parameters(), lr=2e-4)"
   ]
  },
  {
   "cell_type": "code",
   "execution_count": 172,
   "id": "49bc2e0b-2cdd-48b9-8f86-89451551b452",
   "metadata": {},
   "outputs": [],
   "source": [
    "import numpy as np\n",
    "from sklearn.utils.class_weight import compute_class_weight\n",
    "\n",
    "y = df_filtered['specialist_name']\n",
    "weight_class = compute_class_weight(class_weight=\"balanced\", classes=np.unique(y), y=y)"
   ]
  },
  {
   "cell_type": "code",
   "execution_count": 173,
   "id": "a1456d36-4760-43af-83dd-afdef8522558",
   "metadata": {},
   "outputs": [
    {
     "data": {
      "text/plain": [
       "tensor([1.4365, 0.4562, 0.6369, 1.8481, 1.2661, 2.5065, 1.2661, 1.1486, 1.3314,\n",
       "        1.2235, 0.9496, 0.5033, 1.4776, 0.9510, 0.4773, 1.6250, 1.3459, 2.7639],\n",
       "       device='cuda:0')"
      ]
     },
     "execution_count": 173,
     "metadata": {},
     "output_type": "execute_result"
    }
   ],
   "source": [
    "weight_class = torch.tensor(weight_class, dtype=torch.float).to(device)\n",
    "weight_class"
   ]
  },
  {
   "cell_type": "code",
   "execution_count": 174,
   "id": "c6e379bd-d2d5-4033-9577-50a77cbd9e54",
   "metadata": {},
   "outputs": [],
   "source": [
    "criterion = nn.CrossEntropyLoss(weight=weight_class)"
   ]
  },
  {
   "cell_type": "code",
   "execution_count": 175,
   "id": "dde41d14-6b95-44b4-8046-a73ff494b56b",
   "metadata": {},
   "outputs": [
    {
     "data": {
      "application/vnd.jupyter.widget-view+json": {
       "model_id": "03e51d60b89143e5a20abf881f670f03",
       "version_major": 2,
       "version_minor": 0
      },
      "text/plain": [
       "  0%|          | 0/50 [00:00<?, ?it/s]"
      ]
     },
     "metadata": {},
     "output_type": "display_data"
    },
    {
     "data": {
      "application/vnd.jupyter.widget-view+json": {
       "model_id": "8e44ee8ddfaa45138260b7cf3dc9706b",
       "version_major": 2,
       "version_minor": 0
      },
      "text/plain": [
       "Training...:   0%|          | 0/1393 [00:00<?, ?it/s]"
      ]
     },
     "metadata": {},
     "output_type": "display_data"
    },
    {
     "name": "stdout",
     "output_type": "stream",
     "text": [
      "Epoch 1/50:\n",
      "Train Loss:  1.0286\n",
      "Level 2 Accuracy: 62.42%\n"
     ]
    },
    {
     "data": {
      "application/vnd.jupyter.widget-view+json": {
       "model_id": "e677851290d54976842bf67796c47eef",
       "version_major": 2,
       "version_minor": 0
      },
      "text/plain": [
       "Validate...:   0%|          | 0/279 [00:00<?, ?it/s]"
      ]
     },
     "metadata": {},
     "output_type": "display_data"
    },
    {
     "name": "stdout",
     "output_type": "stream",
     "text": [
      "Validation loss: 0.5232\n",
      "Validation level 2 Accuracy: 79.90%\n",
      "Model saved.\n"
     ]
    },
    {
     "data": {
      "application/vnd.jupyter.widget-view+json": {
       "model_id": "c53ac14a8ab14a6ca3a0615332a90c70",
       "version_major": 2,
       "version_minor": 0
      },
      "text/plain": [
       "Training...:   0%|          | 0/1393 [00:00<?, ?it/s]"
      ]
     },
     "metadata": {},
     "output_type": "display_data"
    },
    {
     "name": "stdout",
     "output_type": "stream",
     "text": [
      "Epoch 2/50:\n",
      "Train Loss:  0.7501\n",
      "Level 2 Accuracy: 70.28%\n"
     ]
    },
    {
     "data": {
      "application/vnd.jupyter.widget-view+json": {
       "model_id": "24c6bd62f9634d49bfed3222f368e435",
       "version_major": 2,
       "version_minor": 0
      },
      "text/plain": [
       "Validate...:   0%|          | 0/279 [00:00<?, ?it/s]"
      ]
     },
     "metadata": {},
     "output_type": "display_data"
    },
    {
     "name": "stdout",
     "output_type": "stream",
     "text": [
      "Validation loss: 0.3665\n",
      "Validation level 2 Accuracy: 88.43%\n",
      "Model saved.\n"
     ]
    },
    {
     "data": {
      "application/vnd.jupyter.widget-view+json": {
       "model_id": "9544a237ddd3411183d3fa4c1167987b",
       "version_major": 2,
       "version_minor": 0
      },
      "text/plain": [
       "Training...:   0%|          | 0/1393 [00:00<?, ?it/s]"
      ]
     },
     "metadata": {},
     "output_type": "display_data"
    },
    {
     "name": "stdout",
     "output_type": "stream",
     "text": [
      "Epoch 3/50:\n",
      "Train Loss:  0.6536\n",
      "Level 2 Accuracy: 73.61%\n"
     ]
    },
    {
     "data": {
      "application/vnd.jupyter.widget-view+json": {
       "model_id": "5b0dc94b29aa4ce8b29fe44c071d96fc",
       "version_major": 2,
       "version_minor": 0
      },
      "text/plain": [
       "Validate...:   0%|          | 0/279 [00:00<?, ?it/s]"
      ]
     },
     "metadata": {},
     "output_type": "display_data"
    },
    {
     "name": "stdout",
     "output_type": "stream",
     "text": [
      "Validation loss: 0.2947\n",
      "Validation level 2 Accuracy: 90.42%\n",
      "Model saved.\n"
     ]
    },
    {
     "data": {
      "application/vnd.jupyter.widget-view+json": {
       "model_id": "189d76099d8b402b9d43b814677218c7",
       "version_major": 2,
       "version_minor": 0
      },
      "text/plain": [
       "Training...:   0%|          | 0/1393 [00:00<?, ?it/s]"
      ]
     },
     "metadata": {},
     "output_type": "display_data"
    },
    {
     "name": "stdout",
     "output_type": "stream",
     "text": [
      "Epoch 4/50:\n",
      "Train Loss:  0.6042\n",
      "Level 2 Accuracy: 75.66%\n"
     ]
    },
    {
     "data": {
      "application/vnd.jupyter.widget-view+json": {
       "model_id": "2c5f0f379b224a6d89a373a84df5533d",
       "version_major": 2,
       "version_minor": 0
      },
      "text/plain": [
       "Validate...:   0%|          | 0/279 [00:00<?, ?it/s]"
      ]
     },
     "metadata": {},
     "output_type": "display_data"
    },
    {
     "name": "stdout",
     "output_type": "stream",
     "text": [
      "Validation loss: 0.2518\n",
      "Validation level 2 Accuracy: 92.37%\n",
      "Model saved.\n"
     ]
    },
    {
     "data": {
      "application/vnd.jupyter.widget-view+json": {
       "model_id": "bffb4be509b645cc96c543f02b546dfe",
       "version_major": 2,
       "version_minor": 0
      },
      "text/plain": [
       "Training...:   0%|          | 0/1393 [00:00<?, ?it/s]"
      ]
     },
     "metadata": {},
     "output_type": "display_data"
    },
    {
     "name": "stdout",
     "output_type": "stream",
     "text": [
      "Epoch 5/50:\n",
      "Train Loss:  0.5488\n",
      "Level 2 Accuracy: 77.80%\n"
     ]
    },
    {
     "data": {
      "application/vnd.jupyter.widget-view+json": {
       "model_id": "594cad8f8e4a43a695eaf0cb38a18dce",
       "version_major": 2,
       "version_minor": 0
      },
      "text/plain": [
       "Validate...:   0%|          | 0/279 [00:00<?, ?it/s]"
      ]
     },
     "metadata": {},
     "output_type": "display_data"
    },
    {
     "name": "stdout",
     "output_type": "stream",
     "text": [
      "Validation loss: 0.2462\n",
      "Validation level 2 Accuracy: 90.89%\n",
      "Model saved.\n"
     ]
    },
    {
     "data": {
      "application/vnd.jupyter.widget-view+json": {
       "model_id": "619541f489e64da5982c7d33378dc0d5",
       "version_major": 2,
       "version_minor": 0
      },
      "text/plain": [
       "Training...:   0%|          | 0/1393 [00:00<?, ?it/s]"
      ]
     },
     "metadata": {},
     "output_type": "display_data"
    },
    {
     "name": "stdout",
     "output_type": "stream",
     "text": [
      "Epoch 6/50:\n",
      "Train Loss:  0.5248\n",
      "Level 2 Accuracy: 78.25%\n"
     ]
    },
    {
     "data": {
      "application/vnd.jupyter.widget-view+json": {
       "model_id": "0ef27e6a3678472b8c8fd9136b9eedc5",
       "version_major": 2,
       "version_minor": 0
      },
      "text/plain": [
       "Validate...:   0%|          | 0/279 [00:00<?, ?it/s]"
      ]
     },
     "metadata": {},
     "output_type": "display_data"
    },
    {
     "name": "stdout",
     "output_type": "stream",
     "text": [
      "Validation loss: 0.1966\n",
      "Validation level 2 Accuracy: 93.74%\n",
      "Model saved.\n"
     ]
    },
    {
     "data": {
      "application/vnd.jupyter.widget-view+json": {
       "model_id": "6333fa67d4b248de9e2ff4d46f3b2fd2",
       "version_major": 2,
       "version_minor": 0
      },
      "text/plain": [
       "Training...:   0%|          | 0/1393 [00:00<?, ?it/s]"
      ]
     },
     "metadata": {},
     "output_type": "display_data"
    },
    {
     "name": "stdout",
     "output_type": "stream",
     "text": [
      "Epoch 7/50:\n",
      "Train Loss:  0.4976\n",
      "Level 2 Accuracy: 79.20%\n"
     ]
    },
    {
     "data": {
      "application/vnd.jupyter.widget-view+json": {
       "model_id": "7ffb394d951e48958c6f0ddb7526bb7f",
       "version_major": 2,
       "version_minor": 0
      },
      "text/plain": [
       "Validate...:   0%|          | 0/279 [00:00<?, ?it/s]"
      ]
     },
     "metadata": {},
     "output_type": "display_data"
    },
    {
     "name": "stdout",
     "output_type": "stream",
     "text": [
      "Validation loss: 0.1827\n",
      "Validation level 2 Accuracy: 93.81%\n",
      "Model saved.\n"
     ]
    },
    {
     "data": {
      "application/vnd.jupyter.widget-view+json": {
       "model_id": "c89abd1209ba408aa3438e2a82bdfea6",
       "version_major": 2,
       "version_minor": 0
      },
      "text/plain": [
       "Training...:   0%|          | 0/1393 [00:00<?, ?it/s]"
      ]
     },
     "metadata": {},
     "output_type": "display_data"
    },
    {
     "name": "stdout",
     "output_type": "stream",
     "text": [
      "Epoch 8/50:\n",
      "Train Loss:  0.4743\n",
      "Level 2 Accuracy: 79.97%\n"
     ]
    },
    {
     "data": {
      "application/vnd.jupyter.widget-view+json": {
       "model_id": "713b7f791b41432d8a529e0cf2919c82",
       "version_major": 2,
       "version_minor": 0
      },
      "text/plain": [
       "Validate...:   0%|          | 0/279 [00:00<?, ?it/s]"
      ]
     },
     "metadata": {},
     "output_type": "display_data"
    },
    {
     "name": "stdout",
     "output_type": "stream",
     "text": [
      "Validation loss: 0.1611\n",
      "Validation level 2 Accuracy: 95.15%\n",
      "Model saved.\n"
     ]
    },
    {
     "data": {
      "application/vnd.jupyter.widget-view+json": {
       "model_id": "0283568ce65d4084a1076f76b378d2ce",
       "version_major": 2,
       "version_minor": 0
      },
      "text/plain": [
       "Training...:   0%|          | 0/1393 [00:00<?, ?it/s]"
      ]
     },
     "metadata": {},
     "output_type": "display_data"
    },
    {
     "name": "stdout",
     "output_type": "stream",
     "text": [
      "Epoch 9/50:\n",
      "Train Loss:  0.4529\n",
      "Level 2 Accuracy: 81.18%\n"
     ]
    },
    {
     "data": {
      "application/vnd.jupyter.widget-view+json": {
       "model_id": "67f7c92185fe45219b8ab6fb8f839cd5",
       "version_major": 2,
       "version_minor": 0
      },
      "text/plain": [
       "Validate...:   0%|          | 0/279 [00:00<?, ?it/s]"
      ]
     },
     "metadata": {},
     "output_type": "display_data"
    },
    {
     "name": "stdout",
     "output_type": "stream",
     "text": [
      "Validation loss: 0.1421\n",
      "Validation level 2 Accuracy: 95.65%\n",
      "Model saved.\n"
     ]
    },
    {
     "data": {
      "application/vnd.jupyter.widget-view+json": {
       "model_id": "f01aacb6cc17495fbd151f316e45acfd",
       "version_major": 2,
       "version_minor": 0
      },
      "text/plain": [
       "Training...:   0%|          | 0/1393 [00:00<?, ?it/s]"
      ]
     },
     "metadata": {},
     "output_type": "display_data"
    },
    {
     "name": "stdout",
     "output_type": "stream",
     "text": [
      "Epoch 10/50:\n",
      "Train Loss:  0.4385\n",
      "Level 2 Accuracy: 81.77%\n"
     ]
    },
    {
     "data": {
      "application/vnd.jupyter.widget-view+json": {
       "model_id": "4a0c518d5a724158960db8541dbb6144",
       "version_major": 2,
       "version_minor": 0
      },
      "text/plain": [
       "Validate...:   0%|          | 0/279 [00:00<?, ?it/s]"
      ]
     },
     "metadata": {},
     "output_type": "display_data"
    },
    {
     "name": "stdout",
     "output_type": "stream",
     "text": [
      "Validation loss: 0.1355\n",
      "Validation level 2 Accuracy: 95.67%\n",
      "Model saved.\n"
     ]
    },
    {
     "data": {
      "application/vnd.jupyter.widget-view+json": {
       "model_id": "39d5a9c74173401ebc3802277efa3f5a",
       "version_major": 2,
       "version_minor": 0
      },
      "text/plain": [
       "Training...:   0%|          | 0/1393 [00:00<?, ?it/s]"
      ]
     },
     "metadata": {},
     "output_type": "display_data"
    },
    {
     "name": "stdout",
     "output_type": "stream",
     "text": [
      "Epoch 11/50:\n",
      "Train Loss:  0.4290\n",
      "Level 2 Accuracy: 82.21%\n"
     ]
    },
    {
     "data": {
      "application/vnd.jupyter.widget-view+json": {
       "model_id": "68fbe172c7c6409286dc2e0b48107e09",
       "version_major": 2,
       "version_minor": 0
      },
      "text/plain": [
       "Validate...:   0%|          | 0/279 [00:00<?, ?it/s]"
      ]
     },
     "metadata": {},
     "output_type": "display_data"
    },
    {
     "name": "stdout",
     "output_type": "stream",
     "text": [
      "Validation loss: 0.1394\n",
      "Validation level 2 Accuracy: 94.84%\n"
     ]
    },
    {
     "data": {
      "application/vnd.jupyter.widget-view+json": {
       "model_id": "20176e4da1d34913a3797aa651153434",
       "version_major": 2,
       "version_minor": 0
      },
      "text/plain": [
       "Training...:   0%|          | 0/1393 [00:00<?, ?it/s]"
      ]
     },
     "metadata": {},
     "output_type": "display_data"
    },
    {
     "name": "stdout",
     "output_type": "stream",
     "text": [
      "Epoch 12/50:\n",
      "Train Loss:  0.4093\n",
      "Level 2 Accuracy: 82.89%\n"
     ]
    },
    {
     "data": {
      "application/vnd.jupyter.widget-view+json": {
       "model_id": "dc4ce5a532604d2c89f06880402321df",
       "version_major": 2,
       "version_minor": 0
      },
      "text/plain": [
       "Validate...:   0%|          | 0/279 [00:00<?, ?it/s]"
      ]
     },
     "metadata": {},
     "output_type": "display_data"
    },
    {
     "name": "stdout",
     "output_type": "stream",
     "text": [
      "Validation loss: 0.1161\n",
      "Validation level 2 Accuracy: 96.84%\n",
      "Model saved.\n"
     ]
    },
    {
     "data": {
      "application/vnd.jupyter.widget-view+json": {
       "model_id": "e7d677dd7dc747819ffb205824e0ab96",
       "version_major": 2,
       "version_minor": 0
      },
      "text/plain": [
       "Training...:   0%|          | 0/1393 [00:00<?, ?it/s]"
      ]
     },
     "metadata": {},
     "output_type": "display_data"
    },
    {
     "name": "stdout",
     "output_type": "stream",
     "text": [
      "Epoch 13/50:\n",
      "Train Loss:  0.3945\n",
      "Level 2 Accuracy: 83.66%\n"
     ]
    },
    {
     "data": {
      "application/vnd.jupyter.widget-view+json": {
       "model_id": "6138ce0dd8954fffabf2c28f6ff98ca9",
       "version_major": 2,
       "version_minor": 0
      },
      "text/plain": [
       "Validate...:   0%|          | 0/279 [00:00<?, ?it/s]"
      ]
     },
     "metadata": {},
     "output_type": "display_data"
    },
    {
     "name": "stdout",
     "output_type": "stream",
     "text": [
      "Validation loss: 0.1095\n",
      "Validation level 2 Accuracy: 96.46%\n",
      "Model saved.\n"
     ]
    },
    {
     "data": {
      "application/vnd.jupyter.widget-view+json": {
       "model_id": "66a117657b8a464e84fc174bed0e5883",
       "version_major": 2,
       "version_minor": 0
      },
      "text/plain": [
       "Training...:   0%|          | 0/1393 [00:00<?, ?it/s]"
      ]
     },
     "metadata": {},
     "output_type": "display_data"
    },
    {
     "name": "stdout",
     "output_type": "stream",
     "text": [
      "Epoch 14/50:\n",
      "Train Loss:  0.3839\n",
      "Level 2 Accuracy: 83.89%\n"
     ]
    },
    {
     "data": {
      "application/vnd.jupyter.widget-view+json": {
       "model_id": "c3d1620a22854af9a72b2dec71e24aea",
       "version_major": 2,
       "version_minor": 0
      },
      "text/plain": [
       "Validate...:   0%|          | 0/279 [00:00<?, ?it/s]"
      ]
     },
     "metadata": {},
     "output_type": "display_data"
    },
    {
     "name": "stdout",
     "output_type": "stream",
     "text": [
      "Validation loss: 0.1163\n",
      "Validation level 2 Accuracy: 95.87%\n"
     ]
    },
    {
     "data": {
      "application/vnd.jupyter.widget-view+json": {
       "model_id": "cbe0594e8e0b43b8b8cb9766e712ed11",
       "version_major": 2,
       "version_minor": 0
      },
      "text/plain": [
       "Training...:   0%|          | 0/1393 [00:00<?, ?it/s]"
      ]
     },
     "metadata": {},
     "output_type": "display_data"
    },
    {
     "name": "stdout",
     "output_type": "stream",
     "text": [
      "Epoch 15/50:\n",
      "Train Loss:  0.3775\n",
      "Level 2 Accuracy: 84.34%\n"
     ]
    },
    {
     "data": {
      "application/vnd.jupyter.widget-view+json": {
       "model_id": "995008d23dd04cb893322c2d725b7284",
       "version_major": 2,
       "version_minor": 0
      },
      "text/plain": [
       "Validate...:   0%|          | 0/279 [00:00<?, ?it/s]"
      ]
     },
     "metadata": {},
     "output_type": "display_data"
    },
    {
     "name": "stdout",
     "output_type": "stream",
     "text": [
      "Validation loss: 0.0914\n",
      "Validation level 2 Accuracy: 97.42%\n",
      "Model saved.\n"
     ]
    },
    {
     "data": {
      "application/vnd.jupyter.widget-view+json": {
       "model_id": "77f75881c6d746bcacd4fa2497d2b02e",
       "version_major": 2,
       "version_minor": 0
      },
      "text/plain": [
       "Training...:   0%|          | 0/1393 [00:00<?, ?it/s]"
      ]
     },
     "metadata": {},
     "output_type": "display_data"
    },
    {
     "name": "stdout",
     "output_type": "stream",
     "text": [
      "Epoch 16/50:\n",
      "Train Loss:  0.3538\n",
      "Level 2 Accuracy: 85.08%\n"
     ]
    },
    {
     "data": {
      "application/vnd.jupyter.widget-view+json": {
       "model_id": "392dd7b87f1848bba923a5f8d9867ad4",
       "version_major": 2,
       "version_minor": 0
      },
      "text/plain": [
       "Validate...:   0%|          | 0/279 [00:00<?, ?it/s]"
      ]
     },
     "metadata": {},
     "output_type": "display_data"
    },
    {
     "name": "stdout",
     "output_type": "stream",
     "text": [
      "Validation loss: 0.0899\n",
      "Validation level 2 Accuracy: 97.58%\n",
      "Model saved.\n"
     ]
    },
    {
     "data": {
      "application/vnd.jupyter.widget-view+json": {
       "model_id": "b4e94ec75d0945b089c2609558d69a0b",
       "version_major": 2,
       "version_minor": 0
      },
      "text/plain": [
       "Training...:   0%|          | 0/1393 [00:00<?, ?it/s]"
      ]
     },
     "metadata": {},
     "output_type": "display_data"
    },
    {
     "ename": "KeyboardInterrupt",
     "evalue": "",
     "output_type": "error",
     "traceback": [
      "\u001b[0;31m---------------------------------------------------------------------------\u001b[0m",
      "\u001b[0;31mKeyboardInterrupt\u001b[0m                         Traceback (most recent call last)",
      "Cell \u001b[0;32mIn[175], line 1\u001b[0m\n\u001b[0;32m----> 1\u001b[0m \u001b[43mtrain_stage_2\u001b[49m\u001b[43m(\u001b[49m\u001b[43mmodel\u001b[49m\u001b[43m,\u001b[49m\u001b[43m \u001b[49m\u001b[43mtrain_loader\u001b[49m\u001b[43m,\u001b[49m\u001b[43m \u001b[49m\u001b[43mval_loader\u001b[49m\u001b[43m,\u001b[49m\u001b[43m \u001b[49m\u001b[43moptimizer\u001b[49m\u001b[43m,\u001b[49m\u001b[43m \u001b[49m\u001b[43mcriterion\u001b[49m\u001b[43m,\u001b[49m\u001b[43m \u001b[49m\u001b[43mdevice\u001b[49m\u001b[43m,\u001b[49m\u001b[43m \u001b[49m\u001b[43mnum_epochs\u001b[49m\u001b[38;5;241;43m=\u001b[39;49m\u001b[38;5;241;43m50\u001b[39;49m\u001b[43m,\u001b[49m\u001b[43m \u001b[49m\u001b[43mpatience\u001b[49m\u001b[38;5;241;43m=\u001b[39;49m\u001b[38;5;241;43m2\u001b[39;49m\u001b[43m,\u001b[49m\u001b[43m \u001b[49m\u001b[43msave_path\u001b[49m\u001b[38;5;241;43m=\u001b[39;49m\u001b[38;5;124;43m\"\u001b[39;49m\u001b[38;5;124;43mbest_model_stage_2.pt\u001b[39;49m\u001b[38;5;124;43m\"\u001b[39;49m\u001b[43m)\u001b[49m\n",
      "Cell \u001b[0;32mIn[164], line 37\u001b[0m, in \u001b[0;36mtrain_stage_2\u001b[0;34m(model, train_loader, val_loader, optimizer, criterion, device, num_epochs, patience, save_path)\u001b[0m\n\u001b[1;32m     34\u001b[0m loss\u001b[38;5;241m.\u001b[39mbackward()\n\u001b[1;32m     35\u001b[0m optimizer\u001b[38;5;241m.\u001b[39mstep()\n\u001b[0;32m---> 37\u001b[0m running_loss \u001b[38;5;241m+\u001b[39m\u001b[38;5;241m=\u001b[39m \u001b[43mloss\u001b[49m\u001b[38;5;241;43m.\u001b[39;49m\u001b[43mitem\u001b[49m\u001b[43m(\u001b[49m\u001b[43m)\u001b[49m\n\u001b[1;32m     38\u001b[0m correct_level2 \u001b[38;5;241m+\u001b[39m\u001b[38;5;241m=\u001b[39m correct_mask\u001b[38;5;241m.\u001b[39msum()\u001b[38;5;241m.\u001b[39mitem()\n\u001b[1;32m     40\u001b[0m total \u001b[38;5;241m+\u001b[39m\u001b[38;5;241m=\u001b[39m labels\u001b[38;5;241m.\u001b[39msize(\u001b[38;5;241m0\u001b[39m)\n",
      "\u001b[0;31mKeyboardInterrupt\u001b[0m: "
     ]
    }
   ],
   "source": [
    "train_stage_2(model, train_loader, val_loader, optimizer, criterion, device, num_epochs=50, patience=2, save_path=\"best_model_stage_2.pt\")"
   ]
  },
  {
   "cell_type": "code",
   "execution_count": 128,
   "id": "604c433c-9038-4248-97a8-59a727449cab",
   "metadata": {},
   "outputs": [],
   "source": [
    "def batch_predict_with_probs_user_info(model, tokenizer, df, specialist_encoder, gender_encoder, age_encoder, batch_size=64, device=\"gpu\"):\n",
    "    model.to(device)\n",
    "    model.eval()\n",
    "    predictions = []\n",
    "    probabilities = []\n",
    "\n",
    "    with torch.no_grad():\n",
    "        for i in tqdm(range(0, len(df), batch_size)):\n",
    "            batch_df = df.iloc[i:i+batch_size]\n",
    "            reason_texts = [str(text) for text in batch_df['reason_combind'].tolist()]  # Ensure all inputs are strings\n",
    "            genders = batch_df['gender'].tolist()\n",
    "            age_categories = batch_df['age_category'].tolist()\n",
    "\n",
    "            encoded = tokenizer(\n",
    "                reason_texts,\n",
    "                padding='max_length',\n",
    "                truncation=True,\n",
    "                max_length=128,\n",
    "                return_tensors='pt'\n",
    "            )\n",
    "\n",
    "            reason_text_ids = encoded['input_ids'].to(device)\n",
    "            reason_text_mask = encoded['attention_mask'].to(device)\n",
    "\n",
    "            user_info = torch.tensor(\n",
    "                [[gender, age_category] for gender, age_category in zip(genders, age_categories)],\n",
    "                dtype=torch.float32\n",
    "            ).to(device)\n",
    "\n",
    "\n",
    "            level1_logits, level2_logits = model(reason_text_ids, reason_text_mask, user_info)\n",
    "            # print(level2_logits)\n",
    "            probs = F.softmax(level2_logits, dim=1)\n",
    "            max_probs, preds = torch.max(probs, dim=1)\n",
    "            decoded_preds = specialist_encoder.inverse_transform(preds.cpu().numpy())\n",
    "            predictions.extend(decoded_preds)\n",
    "            probabilities.extend(max_probs.cpu().numpy())\n",
    "\n",
    "    df['predicted_specialist'] = predictions\n",
    "    df['prediction_probability'] = probabilities\n",
    "    return df"
   ]
  },
  {
   "cell_type": "code",
   "execution_count": 129,
   "id": "a21960c8-f651-4895-bc60-e124c2e87d64",
   "metadata": {},
   "outputs": [],
   "source": [
    "df_low_confidence_correct = df_low_confidence_correct[['partner_id', 'specialist_id', 'status', 'gender', 'province_id', 'age', 'reason_combind', 'specialist_name', 'age_category', 'specialist_name_category']]"
   ]
  },
  {
   "cell_type": "code",
   "execution_count": 133,
   "id": "b44dd66f-6068-4fef-822a-520573f9fa3d",
   "metadata": {},
   "outputs": [
    {
     "data": {
      "application/vnd.jupyter.widget-view+json": {
       "model_id": "0527b14286c343c58e357eb9f674fd8e",
       "version_major": 2,
       "version_minor": 0
      },
      "text/plain": [
       "  0%|          | 0/118 [00:00<?, ?it/s]"
      ]
     },
     "metadata": {},
     "output_type": "display_data"
    }
   ],
   "source": [
    "df = batch_predict_with_probs_user_info(model, tokenizer, df_low_confidence_correct, specialist_encoder, gender_encoder, age_encoder, batch_size=64, device=device)"
   ]
  },
  {
   "cell_type": "code",
   "execution_count": 145,
   "id": "6d14034e-b9b5-41a5-9ba1-1aa95cfecf57",
   "metadata": {},
   "outputs": [
    {
     "data": {
      "text/html": [
       "<div>\n",
       "<style scoped>\n",
       "    .dataframe tbody tr th:only-of-type {\n",
       "        vertical-align: middle;\n",
       "    }\n",
       "\n",
       "    .dataframe tbody tr th {\n",
       "        vertical-align: top;\n",
       "    }\n",
       "\n",
       "    .dataframe thead th {\n",
       "        text-align: right;\n",
       "    }\n",
       "</style>\n",
       "<table border=\"1\" class=\"dataframe\">\n",
       "  <thead>\n",
       "    <tr style=\"text-align: right;\">\n",
       "      <th></th>\n",
       "      <th>partner_id</th>\n",
       "      <th>specialist_id</th>\n",
       "      <th>status</th>\n",
       "      <th>gender</th>\n",
       "      <th>province_id</th>\n",
       "      <th>age</th>\n",
       "      <th>reason_combind</th>\n",
       "      <th>specialist_name</th>\n",
       "      <th>age_category</th>\n",
       "      <th>specialist_name_category</th>\n",
       "      <th>predicted_specialist</th>\n",
       "      <th>prediction_probability</th>\n",
       "    </tr>\n",
       "  </thead>\n",
       "  <tbody>\n",
       "    <tr>\n",
       "      <th>45294</th>\n",
       "      <td>96.0</td>\n",
       "      <td>1.0</td>\n",
       "      <td>2.0</td>\n",
       "      <td>1</td>\n",
       "      <td>79.0</td>\n",
       "      <td>30</td>\n",
       "      <td>đau buốt từ thắt lưng chạy dài mặt sau chân trái</td>\n",
       "      <td>1</td>\n",
       "      <td>0</td>\n",
       "      <td>cơ xương khớp</td>\n",
       "      <td>thận - tiết niệu</td>\n",
       "      <td>0.469107</td>\n",
       "    </tr>\n",
       "    <tr>\n",
       "      <th>47006</th>\n",
       "      <td>10.0</td>\n",
       "      <td>1.0</td>\n",
       "      <td>2.0</td>\n",
       "      <td>0</td>\n",
       "      <td>42.0</td>\n",
       "      <td>35</td>\n",
       "      <td>bị đau vùng thắt lương, trước ngực, đau vai và cổ</td>\n",
       "      <td>1</td>\n",
       "      <td>0</td>\n",
       "      <td>cơ xương khớp</td>\n",
       "      <td>tim mạch</td>\n",
       "      <td>0.484113</td>\n",
       "    </tr>\n",
       "    <tr>\n",
       "      <th>49605</th>\n",
       "      <td>111.0</td>\n",
       "      <td>1.0</td>\n",
       "      <td>2.0</td>\n",
       "      <td>0</td>\n",
       "      <td>54.0</td>\n",
       "      <td>34</td>\n",
       "      <td>đau nhức mỏi</td>\n",
       "      <td>1</td>\n",
       "      <td>0</td>\n",
       "      <td>cơ xương khớp</td>\n",
       "      <td>nội khoa</td>\n",
       "      <td>0.470966</td>\n",
       "    </tr>\n",
       "    <tr>\n",
       "      <th>49621</th>\n",
       "      <td>10.0</td>\n",
       "      <td>1.0</td>\n",
       "      <td>2.0</td>\n",
       "      <td>0</td>\n",
       "      <td>1.0</td>\n",
       "      <td>34</td>\n",
       "      <td>đau thắt lưng không rõ nguyên nhân</td>\n",
       "      <td>1</td>\n",
       "      <td>0</td>\n",
       "      <td>cơ xương khớp</td>\n",
       "      <td>thận - tiết niệu</td>\n",
       "      <td>0.493172</td>\n",
       "    </tr>\n",
       "    <tr>\n",
       "      <th>52006</th>\n",
       "      <td>65.0</td>\n",
       "      <td>29.0</td>\n",
       "      <td>2.0</td>\n",
       "      <td>1</td>\n",
       "      <td>1.0</td>\n",
       "      <td>35</td>\n",
       "      <td>ngứa, rát, chảy nước mắt</td>\n",
       "      <td>0</td>\n",
       "      <td>0</td>\n",
       "      <td>chuyên khoa mắt</td>\n",
       "      <td>sản phụ khoa</td>\n",
       "      <td>0.467213</td>\n",
       "    </tr>\n",
       "  </tbody>\n",
       "</table>\n",
       "</div>"
      ],
      "text/plain": [
       "       partner_id  specialist_id  status  gender  province_id  age  \\\n",
       "45294        96.0            1.0     2.0       1         79.0   30   \n",
       "47006        10.0            1.0     2.0       0         42.0   35   \n",
       "49605       111.0            1.0     2.0       0         54.0   34   \n",
       "49621        10.0            1.0     2.0       0          1.0   34   \n",
       "52006        65.0           29.0     2.0       1          1.0   35   \n",
       "\n",
       "                                          reason_combind  specialist_name  \\\n",
       "45294   đau buốt từ thắt lưng chạy dài mặt sau chân trái                1   \n",
       "47006  bị đau vùng thắt lương, trước ngực, đau vai và cổ                1   \n",
       "49605                                     đau nhức mỏi                1   \n",
       "49621                 đau thắt lưng không rõ nguyên nhân                1   \n",
       "52006                           ngứa, rát, chảy nước mắt                0   \n",
       "\n",
       "       age_category specialist_name_category predicted_specialist  \\\n",
       "45294             0            cơ xương khớp     thận - tiết niệu   \n",
       "47006             0            cơ xương khớp             tim mạch   \n",
       "49605             0            cơ xương khớp             nội khoa   \n",
       "49621             0            cơ xương khớp     thận - tiết niệu   \n",
       "52006             0          chuyên khoa mắt         sản phụ khoa   \n",
       "\n",
       "       prediction_probability  \n",
       "45294                0.469107  \n",
       "47006                0.484113  \n",
       "49605                0.470966  \n",
       "49621                0.493172  \n",
       "52006                0.467213  "
      ]
     },
     "execution_count": 145,
     "metadata": {},
     "output_type": "execute_result"
    }
   ],
   "source": [
    "df_correct = df[df['specialist_name_category'] == df['predicted_specialist']]\n",
    "df_correct.tail()\n",
    "\n",
    "df_incorrect = df[(df['specialist_name_category'] != df['predicted_specialist']) & (df['prediction_probability'] < 0.5)]\n",
    "df_incorrect.tail()"
   ]
  },
  {
   "cell_type": "code",
   "execution_count": 135,
   "id": "e091f0ad-8d52-4e58-ab3c-657ab2dae575",
   "metadata": {},
   "outputs": [],
   "source": [
    "model = model.to(\"cpu\")"
   ]
  },
  {
   "cell_type": "code",
   "execution_count": 146,
   "id": "17a75f71-f78e-4cc8-a5b2-9b254d6c35a5",
   "metadata": {},
   "outputs": [],
   "source": [
    "model.eval()\n",
    "reason_text = \"đau nhức mỏi\"\n",
    "data = tokenizer(\n",
    "    reason_text,\n",
    "    padding='max_length',\n",
    "    truncation=True,\n",
    "    max_length=128,\n",
    "    return_tensors='pt'\n",
    ")\n",
    "age_category = \"adult\"\n",
    "gender = \"male\""
   ]
  },
  {
   "cell_type": "code",
   "execution_count": 147,
   "id": "716cee04-8434-4426-a112-3723c47780e0",
   "metadata": {},
   "outputs": [],
   "source": [
    "# Fix the tensor shape for user_info\n",
    "user_info = torch.tensor([[gender_encoder.transform([gender])[0], age_encoder.transform([age_category])[0]]], dtype=torch.float32)"
   ]
  },
  {
   "cell_type": "code",
   "execution_count": 148,
   "id": "0f531448-5c32-422b-a073-f9cda649d219",
   "metadata": {},
   "outputs": [
    {
     "name": "stdout",
     "output_type": "stream",
     "text": [
      "(tensor([0.6116]), tensor([1]))\n",
      "['cơ xương khớp']\n"
     ]
    },
    {
     "name": "stderr",
     "output_type": "stream",
     "text": [
      "/home/ubuntu/specialist-prediction/.venv/lib/python3.10/site-packages/sklearn/preprocessing/_label.py:151: DataConversionWarning: A column-vector y was passed when a 1d array was expected. Please change the shape of y to (n_samples, ), for example using ravel().\n",
      "  y = column_or_1d(y, warn=True)\n"
     ]
    }
   ],
   "source": [
    "print(model.predict(data['input_ids'], data['attention_mask'], user_info=None))\n",
    "\n",
    "res = specialist_encoder.inverse_transform([model.predict(data['input_ids'], data['attention_mask'], user_info=None)[1]])\n",
    "print(res.tolist())"
   ]
  },
  {
   "cell_type": "code",
   "execution_count": 149,
   "id": "82641dc3-a10a-4bc5-bb49-e5c15c1d87fe",
   "metadata": {},
   "outputs": [
    {
     "name": "stdout",
     "output_type": "stream",
     "text": [
      "stage 2:\n",
      "(tensor([0.4265]), tensor([7]))\n",
      "stage 2:\n",
      "['nội khoa']\n"
     ]
    },
    {
     "name": "stderr",
     "output_type": "stream",
     "text": [
      "/home/ubuntu/specialist-prediction/.venv/lib/python3.10/site-packages/sklearn/preprocessing/_label.py:151: DataConversionWarning: A column-vector y was passed when a 1d array was expected. Please change the shape of y to (n_samples, ), for example using ravel().\n",
      "  y = column_or_1d(y, warn=True)\n"
     ]
    }
   ],
   "source": [
    "print(model.predict(data['input_ids'], data['attention_mask'], user_info=user_info))\n",
    "\n",
    "res = specialist_encoder.inverse_transform([model.predict(data['input_ids'], data['attention_mask'], user_info=user_info)[1]])\n",
    "print(res.tolist())"
   ]
  },
  {
   "cell_type": "code",
   "execution_count": null,
   "id": "51558007-dab4-4850-a7ab-099e9b95e6e3",
   "metadata": {},
   "outputs": [],
   "source": []
  }
 ],
 "metadata": {
  "kernelspec": {
   "display_name": "Python 3 (ipykernel)",
   "language": "python",
   "name": "python3"
  },
  "language_info": {
   "codemirror_mode": {
    "name": "ipython",
    "version": 3
   },
   "file_extension": ".py",
   "mimetype": "text/x-python",
   "name": "python",
   "nbconvert_exporter": "python",
   "pygments_lexer": "ipython3",
   "version": "3.10.12"
  }
 },
 "nbformat": 4,
 "nbformat_minor": 5
}
