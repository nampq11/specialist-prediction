{
 "cells": [
  {
   "cell_type": "code",
   "execution_count": 1,
   "id": "280505ec-7d9b-43c3-a615-4172e653aa71",
   "metadata": {},
   "outputs": [],
   "source": [
    "%load_ext autoreload\n",
    "%autoreload 2"
   ]
  },
  {
   "cell_type": "code",
   "execution_count": 2,
   "id": "bb4c4e88-8438-411b-992e-7ac8a48d0843",
   "metadata": {},
   "outputs": [],
   "source": [
    "from openai import OpenAI\n",
    "import pandas as pd\n",
    "from together import Together\n",
    "from tqdm.notebook import tqdm\n",
    "from typing import Optional\n",
    "from tenacity import retry, stop_after_attempt, wait_random_exponential\n",
    "\n",
    "# Modify OpenAI's API key and API base to use vLLM's API server.\n",
    "# openai_api_key = \"EMPTY\"\n",
    "# openai_api_base = \"https://0e25-35-226-172-239.ngrok-free.app/v1\"\n",
    "\n",
    "# client = OpenAI(\n",
    "#     api_key=openai_api_key,\n",
    "#     base_url=openai_api_base,\n",
    "# )\n",
    "\n",
    "# models = client.models.list()\n",
    "# model = models.data[0].id\n",
    "# client = Together(\n",
    "#     api_key=\"95981b63ee8bc37a47e013a2946aecab679285179eb3a3c24e1179e38e75c434\"\n",
    "# )\n",
    "# model=\"meta-llama/Llama-3.3-70B-Instruct-Turbo-Free\""
   ]
  },
  {
   "cell_type": "code",
   "execution_count": 10,
   "id": "da6790c8-f810-4850-acaf-43a1c122385f",
   "metadata": {},
   "outputs": [
    {
     "data": {
      "text/plain": [
       "['vi', 'zh-cn']"
      ]
     },
     "execution_count": 10,
     "metadata": {},
     "output_type": "execute_result"
    }
   ],
   "source": [
    "from langdetect import detect\n",
    "\n",
    "[detect(text) for text in [\"tiểu buốt\", \"bí尿急和阻塞三年\"]]"
   ]
  },
  {
   "cell_type": "code",
   "execution_count": 4,
   "id": "35623944-1f8e-4188-b9f7-a140ac7a8414",
   "metadata": {},
   "outputs": [],
   "source": [
    "# messages = [{\"role\": \"user\", \"content\": \"write sample python code\"}]\n",
    "# # For granite, add: `extra_body={\"chat_template_kwargs\": {\"thinking\": True}}`\n",
    "# stream = client.chat.completions.create(model=model,\n",
    "#                                         messages=messages,\n",
    "#                                         stream=True)\n",
    "\n",
    "# print(\"client: Start streaming chat completions...\")\n",
    "# printed_reasoning_content = False\n",
    "# printed_content = False\n",
    "\n",
    "# for chunk in stream:\n",
    "#     reasoning_content = None\n",
    "#     content = None\n",
    "#     # Check the content is reasoning_content or content\n",
    "#     if hasattr(chunk.choices[0].delta, \"reasoning_content\"):\n",
    "#         reasoning_content = chunk.choices[0].delta.reasoning_content\n",
    "#     elif hasattr(chunk.choices[0].delta, \"content\"):\n",
    "#         content = chunk.choices[0].delta.content\n",
    "\n",
    "#     if reasoning_content is not None:\n",
    "#         if not printed_reasoning_content:\n",
    "#             printed_reasoning_content = True\n",
    "#             print(\"reasoning_content:\", end=\"\", flush=True)\n",
    "#         print(reasoning_content, end=\"\", flush=True)\n",
    "#     elif content is not None:\n",
    "#         if not printed_content:\n",
    "#             printed_content = True\n",
    "#             print(\"\\ncontent:\", end=\"\", flush=True)\n",
    "#         # Extract and print the content\n",
    "#         print(content, end=\"\", flush=True)"
   ]
  },
  {
   "cell_type": "code",
   "execution_count": 5,
   "id": "20d28e3b-2e14-4c1f-8138-d566d874b3a2",
   "metadata": {},
   "outputs": [],
   "source": [
    "system_prompt = \"\"\"BBạn là hệ thống chuyển đổi lý do khám thành triệu chứng và bệnh CHỈ khi thực sự tồn tại.\n",
    "\n",
    "# Quy tắc chuyển đổi:\n",
    "1. Chỉ chuyển đổi khi có tình trạng y tế thực tế\n",
    "2. Sửa lỗi chính tả trước khi định dạng\n",
    "3. Định dạng: \"triệu chứng1, triệu chứng2, bệnh1, bệnh2\"\n",
    "4. Trả về null khi:\n",
    "   - Triệu chứng/bệnh không phù hợp chuyên khoa\n",
    "   - Không có triệu chứng hiện tại (trừ chuyên khoa \"nội khoa\")\n",
    "   - Phẫu thuật quá khứ không kèm triệu chứng (\"đã mổ...\")\n",
    "   - Tiền sử bệnh không kèm triệu chứng hiện tại\n",
    "   - Thông tin không phải triệu chứng/bệnh\n",
    "5. Đặc biệt: Với \"nội khoa\", chấp nhận \"khám tổng quát\" như nguyên bản\n",
    "\n",
    "# Trả về null cho:\n",
    "- Tiền sử phẫu thuật không triệu chứng\n",
    "- Khám định kỳ (trừ \"nội khoa\")\n",
    "- Tái khám\n",
    "- Yêu cầu hành chính\n",
    "- Thủ thuật quá khứ không triệu chứng\n",
    "- Yêu cầu hồ sơ\n",
    "- Kết quả xét nghiệm không triệu chứng\n",
    "\n",
    "# Ví dụ:\n",
    "1. Đầu vào: \"Đau đầu, chóng mặt, buồn nôn\" (Chuyên khoa: Thần kinh)\n",
    "   Đầu ra: {\"result\": \"đau đầu, chóng mặt, buồn nôn\"}\n",
    "\n",
    "2. Đầu vào: \"Xuất huyết dạ dày, đau bung\" (Chuyên khoa: Tiêu hóa)\n",
    "   Đầu ra: {\"result\": \"xuất huyết dạ dày, đau bụng\"}\n",
    "\n",
    "3. Đầu vào: \"Khám tổng quát\" (Chuyên khoa: Nội khoa)\n",
    "   Đầu ra: {\"result\": \"khám tổng quát\"}\n",
    "\n",
    "4. Đầu vào: \"Đã mổ ruột thừa 2 năm trước\" (Chuyên khoa: Ngoại khoa)\n",
    "   Đầu ra: {\"result\": null}\n",
    "\n",
    "5. Đầu vào: \"Khó thở, nghi ngờ hen suyễn\" (Chuyên khoa: Hô hấp)\n",
    "   Đầu ra: {\"result\": \"khó thở, hen suyễn\"}\n",
    "\n",
    "6. Đầu vào: \"Xin giấy chứng nhận sức khỏe\" (Chuyên khoa: Nội khoa)\n",
    "   Đầu ra: {\"result\": null}\n",
    "\n",
    "7. Đầu vào: \"Ho, sốt cao, viêm phổi\" (Chuyên khoa: Nhi)\n",
    "   Đầu ra: {\"result\": \"ho, sốt cao, viêm phổi\"}\n",
    "\n",
    "# Phản hồi:\n",
    "{\n",
    "    \"result\": \"Các triệu chứng/bệnh đã xử lý hoặc null\"\n",
    "}\n",
    "\"\"\""
   ]
  },
  {
   "cell_type": "code",
   "execution_count": 6,
   "id": "fcb47984-cc0c-4b04-920a-5c23c0585a4e",
   "metadata": {},
   "outputs": [],
   "source": [
    "reason = \"khám tổng quát\"\n",
    "specialist = \"nội khoa\""
   ]
  },
  {
   "cell_type": "code",
   "execution_count": 7,
   "id": "c46d91e0-d29b-4bdc-8d24-54607cb4d7c7",
   "metadata": {},
   "outputs": [],
   "source": [
    "# user_prompt = f\"Reason: {reason}\\nSpecialist: {specialist}\"\n",
    "\n",
    "# completion = client.chat.completions.create(\n",
    "#   model=model,\n",
    "#   messages=[\n",
    "#     {\n",
    "#         \"role\": \"system\",\n",
    "#         \"content\": system_prompt\n",
    "#     },\n",
    "#     {\n",
    "#       \"role\": \"user\",\n",
    "#       \"content\": user_prompt\n",
    "#     }\n",
    "#   ],\n",
    "#   stream=True,\n",
    "# )\n",
    "# for chunk in completion:\n",
    "#     if chunk.choices[0].delta.content:\n",
    "#         print(chunk.choices[0].delta.content, end=\"\", flush=True)\n",
    "# print()"
   ]
  },
  {
   "cell_type": "code",
   "execution_count": 8,
   "id": "08270e54-3675-42fa-bb3a-87f2963e0903",
   "metadata": {},
   "outputs": [],
   "source": [
    "import json\n",
    "from langdetect import detect\n",
    "\n",
    "model=\"Qwen/Qwen2.5-14B-Instruct-AWQ\"\n",
    "\n",
    "@retry(stop=stop_after_attempt(3), wait=wait_random_exponential(min=1, max=60))\n",
    "def reason_handle(client, reason: str, specialist: str) -> Optional[str]:\n",
    "    user_prompt = f\"Reason: {reason}\\nSpecialist: {specialist}\"\n",
    "    try:\n",
    "        response = client.chat.completions.create(\n",
    "            model=model,\n",
    "            messages=[\n",
    "                {\"role\": \"system\", \"content\": system_prompt},\n",
    "                {\"role\": \"user\", \"content\": user_prompt}\n",
    "            ],\n",
    "            response_format={\"type\": \"json_object\"},\n",
    "            max_completion_tokens=256,\n",
    "            temperature=0.2\n",
    "        )\n",
    "        result = json.loads(response.choices[0].message.content)\n",
    "        languages = [detect(text) for text in result.get('result').split(',')]\n",
    "        while detect:\n",
    "            \n",
    "        print('result after generate: ', result)\n",
    "        return result.get('result')\n",
    "        \n",
    "    except Exception as e:\n",
    "        print(f\"Error generating question: {e}\")\n",
    "        return None"
   ]
  },
  {
   "cell_type": "code",
   "execution_count": 9,
   "id": "9d4d8b72-db1d-4d7c-8df4-e70be82795e3",
   "metadata": {},
   "outputs": [],
   "source": [
    "# Function to apply generate_question to the entire DataFrame\n",
    "def process_dataframe(client, df, start_idx=0, end_idx=None, output_path='../data/processed_questions.csv'):\n",
    "    \"\"\"\n",
    "    Process the dataframe by applying generate_question function to each row\n",
    "    \n",
    "    Args:\n",
    "        client: API client instance\n",
    "        df (DataFrame): Input dataframe\n",
    "        start_idx (int): Starting index to process from\n",
    "        end_idx (int): Ending index (exclusive), if None process until the end\n",
    "        output_path (str): Path to save the processed dataframe\n",
    "    \n",
    "    Returns:\n",
    "        DataFrame: The processed dataframe with user_question column\n",
    "    \"\"\"\n",
    "    # Make a copy of the dataframe or slice it if needed\n",
    "    if end_idx is None:\n",
    "        processed_df = df.iloc[start_idx:].copy()\n",
    "    else:\n",
    "        processed_df = df.iloc[start_idx:end_idx].copy()\n",
    "    \n",
    "    # Initialize symptoms/diseases column if it doesn't exist\n",
    "    if 'symptoms/diseases' not in processed_df.columns:\n",
    "        processed_df['symptoms/diseases'] = None\n",
    "    \n",
    "    # Apply the generate_question function to each row using a for loop with tqdm\n",
    "    for idx in tqdm(processed_df.index, desc=\"Handle reason combind\"):\n",
    "        reason = processed_df.loc[idx, 'reason_combind']\n",
    "        specialist = processed_df.loc[idx, 'specialist_name']\n",
    "        result = reason_handle(client, reason=reason, specialist=specialist)\n",
    "        processed_df.loc[idx, 'symptoms/diseases'] = result\n",
    "        # Print the generated question for visibility\n",
    "        if result:\n",
    "            print(f\"Input: {reason} | {specialist} | Output: {result}\")\n",
    "        \n",
    "        # Save after every 500 records\n",
    "        if (idx - processed_df.index[0] + 1) % 500 == 0:\n",
    "            interim_path = output_path.replace('.csv', f'_interim_{idx}.csv')\n",
    "            processed_df.to_csv(interim_path, index=True)\n",
    "            print(f\"Saved interim results at index {idx} to {interim_path}\")\n",
    "    \n",
    "    # Display the results\n",
    "    print(f\"Generated questions for {processed_df['symptoms/diseases'].notna().sum()} out of {len(processed_df)} rows\")\n",
    "    print(f\"Number of null questions: {processed_df['symptoms/diseases'].isna().sum()}\")\n",
    "    \n",
    "    # Save the final processed data\n",
    "    processed_df.to_csv(output_path, index=True)\n",
    "    \n",
    "    return processed_df"
   ]
  },
  {
   "cell_type": "code",
   "execution_count": 10,
   "id": "d6cac883-08c3-4b8c-a808-8a1fd130b558",
   "metadata": {},
   "outputs": [],
   "source": [
    "import threading\n",
    "import concurrent.futures\n",
    "\n",
    "openai_api_base = \"https://321e-34-46-216-50.ngrok-free.app/v1\"\n",
    "\n",
    "def process_data_thread(api_key: str, df, output_path: str, thread_name: str):\n",
    "    print(f\"Starting {thread_name}\")\n",
    "    client = OpenAI(\n",
    "        api_key=api_key,\n",
    "        base_url=openai_api_base,\n",
    "    )\n",
    "    \n",
    "    # Convert index to numeric if it's string to avoid the TypeError\n",
    "    if df.index.dtype == 'object':\n",
    "        df = df.reset_index(drop=True)\n",
    "        \n",
    "    result_df = process_dataframe(client, df, output_path=output_path)\n",
    "    print(f\"Completed {thread_name}\")\n",
    "    return result_df"
   ]
  },
  {
   "cell_type": "code",
   "execution_count": null,
   "id": "348e3e8f-8b68-4015-8cbf-7fb72a8d1b4d",
   "metadata": {},
   "outputs": [
    {
     "name": "stdout",
     "output_type": "stream",
     "text": [
      "Starting co xuong khop thread\n",
      "Starting tim mach thread\n"
     ]
    },
    {
     "data": {
      "application/vnd.jupyter.widget-view+json": {
       "model_id": "ef35422344fb44a29f8b9cc27c29cf63",
       "version_major": 2,
       "version_minor": 0
      },
      "text/plain": [
       "Handle reason combind:   0%|          | 0/3173 [00:00<?, ?it/s]"
      ]
     },
     "metadata": {},
     "output_type": "display_data"
    },
    {
     "data": {
      "application/vnd.jupyter.widget-view+json": {
       "model_id": "a64ec709882a43b0b855a724953dffa4",
       "version_major": 2,
       "version_minor": 0
      },
      "text/plain": [
       "Handle reason combind:   0%|          | 0/8978 [00:00<?, ?it/s]"
      ]
     },
     "metadata": {},
     "output_type": "display_data"
    },
    {
     "name": "stdout",
     "output_type": "stream",
     "text": [
      "result after generate:  {'result': 'đau lưng, ngồi lâu cứng lưng'}\n",
      "Input: đau lưng nhiều, ngồi lâu cứng lưng | cơ xương khớp | Output: đau lưng, ngồi lâu cứng lưng\n",
      "result after generate:  {'result': 'hở van tim 3 lá, ngoại tâm thu'}\n",
      "Input: hở van tim 3 lá,ngoại tâm thu | tim mạch | Output: hở van tim 3 lá, ngoại tâm thu\n"
     ]
    }
   ],
   "source": [
    "# Load the datasets\n",
    "co_xuong_khop = pd.read_csv('../data/data_version1/reason_specialist - cơ xương khớp.csv')\n",
    "tim_mach = pd.read_csv('../data/data_version1/reason_specialist - tim mạch.csv')\n",
    "\n",
    "# Reset index to make sure we're working with numeric indices\n",
    "co_xuong_khop = co_xuong_khop.reset_index(drop=True)\n",
    "tim_mach = tim_mach.reset_index(drop=True)\n",
    "\n",
    "# API keys\n",
    "api_key1 = \"95981b63ee8bc37a47e013a2946aecab679285179eb3a3c24e1179e38e75c434\"\n",
    "api_key2 = \"984a9676fb29b00a470440df6d9b93e03a9b35a345f3a324bbeb5fb7a9f46c84\"\n",
    "\n",
    "# Create and start threads\n",
    "thread_1 = threading.Thread(\n",
    "    target=process_data_thread, \n",
    "    args=(api_key1, co_xuong_khop, '../data/data_version2/co_xuong_khop.csv', 'co xuong khop thread')\n",
    ")\n",
    "\n",
    "thread_2 = threading.Thread(\n",
    "    target=process_data_thread, \n",
    "    args=(api_key2, tim_mach, '../data/data_version2/tim_mach.csv', 'tim mach thread')\n",
    ")\n",
    "\n",
    "# Start threads\n",
    "thread_1.start()\n",
    "thread_2.start()\n",
    "\n",
    "# Wait for threads to complete\n",
    "thread_1.join()\n",
    "thread_2.join()\n",
    "\n",
    "print(\"All threads completed\")\n"
   ]
  },
  {
   "cell_type": "code",
   "execution_count": 11,
   "id": "e1d32aca-2b7c-4e23-9836-e0b58ca0b117",
   "metadata": {
    "scrolled": true
   },
   "outputs": [
    {
     "name": "stdout",
     "output_type": "stream",
     "text": [
      "Found 13 CSV files to process: ['reason_specialist - thần kinh.csv', 'reason_specialist - vô sinh hiếm muộn.csv', 'reason_specialist - thận tiết niệu.csv', 'reason_specialist - ung bướu.csv', 'reason_specialist - hô hấp phổi.csv', 'reason_specialist - chuyên khoa mắt.csv', 'reason_specialist - nha khoa.csv', 'reason_specialist - tiêu hóa.csv', 'reason_specialist - sức khỏe tâm thần.csv', 'reason_specialist - tiểu đường nội tiết.csv', 'reason_specialist - nam học.csv', 'reason_specialist - da liễu.csv', 'reason_specialist - sản phụ khoa.csv']\n",
      "Starting thần kinh thread\n",
      "Starting vô sinh hiếm muộn thread\n",
      "Starting thận tiết niệu thread\n",
      "Starting ung bướu thread\n",
      "Starting hô hấp phổi thread\n",
      "Starting chuyên khoa mắt thread\n",
      "Starting nha khoa thread\n",
      "Starting tiêu hóa thread\n",
      "Starting sức khỏe tâm thần thread\n",
      "Starting tiểu đường nội tiết thread\n",
      "Starting nam học thread\n",
      "Starting da liễu thread\n",
      "Starting sản phụ khoa thread\n"
     ]
    },
    {
     "data": {
      "application/vnd.jupyter.widget-view+json": {
       "model_id": "951e8b0729cc4b4d8271f2e09cdabe62",
       "version_major": 2,
       "version_minor": 0
      },
      "text/plain": [
       "Handle reason combind:   0%|          | 0/1361 [00:00<?, ?it/s]"
      ]
     },
     "metadata": {},
     "output_type": "display_data"
    },
    {
     "data": {
      "application/vnd.jupyter.widget-view+json": {
       "model_id": "0a7d9b0c798d423790779b3237f0597b",
       "version_major": 2,
       "version_minor": 0
      },
      "text/plain": [
       "Handle reason combind:   0%|          | 0/1099 [00:00<?, ?it/s]"
      ]
     },
     "metadata": {},
     "output_type": "display_data"
    },
    {
     "data": {
      "application/vnd.jupyter.widget-view+json": {
       "model_id": "e3bfe8f8c558468496df0459a86cae3c",
       "version_major": 2,
       "version_minor": 0
      },
      "text/plain": [
       "Handle reason combind:   0%|          | 0/650 [00:00<?, ?it/s]"
      ]
     },
     "metadata": {},
     "output_type": "display_data"
    },
    {
     "data": {
      "application/vnd.jupyter.widget-view+json": {
       "model_id": "c7fcfe60111a4d028418a0b4f851fc7e",
       "version_major": 2,
       "version_minor": 0
      },
      "text/plain": [
       "Handle reason combind:   0%|          | 0/253 [00:00<?, ?it/s]"
      ]
     },
     "metadata": {},
     "output_type": "display_data"
    },
    {
     "data": {
      "application/vnd.jupyter.widget-view+json": {
       "model_id": "ed786f52deb1432caf45465b63c94617",
       "version_major": 2,
       "version_minor": 0
      },
      "text/plain": [
       "Handle reason combind:   0%|          | 0/5456 [00:00<?, ?it/s]"
      ]
     },
     "metadata": {},
     "output_type": "display_data"
    },
    {
     "data": {
      "application/vnd.jupyter.widget-view+json": {
       "model_id": "0f3836dc7a8b41d3b5ec648fa4632360",
       "version_major": 2,
       "version_minor": 0
      },
      "text/plain": [
       "Handle reason combind:   0%|          | 0/1589 [00:00<?, ?it/s]"
      ]
     },
     "metadata": {},
     "output_type": "display_data"
    },
    {
     "data": {
      "application/vnd.jupyter.widget-view+json": {
       "model_id": "c2bd4cbd576f4571b1b86b57542985f2",
       "version_major": 2,
       "version_minor": 0
      },
      "text/plain": [
       "Handle reason combind:   0%|          | 0/7528 [00:00<?, ?it/s]"
      ]
     },
     "metadata": {},
     "output_type": "display_data"
    },
    {
     "data": {
      "application/vnd.jupyter.widget-view+json": {
       "model_id": "77f81932be3945eeb32d50d20ee038bb",
       "version_major": 2,
       "version_minor": 0
      },
      "text/plain": [
       "Handle reason combind:   0%|          | 0/1603 [00:00<?, ?it/s]"
      ]
     },
     "metadata": {},
     "output_type": "display_data"
    },
    {
     "data": {
      "application/vnd.jupyter.widget-view+json": {
       "model_id": "9c4bbf1b26094192aa3a84411e8ab23b",
       "version_major": 2,
       "version_minor": 0
      },
      "text/plain": [
       "Handle reason combind:   0%|          | 0/5101 [00:00<?, ?it/s]"
      ]
     },
     "metadata": {},
     "output_type": "display_data"
    },
    {
     "data": {
      "application/vnd.jupyter.widget-view+json": {
       "model_id": "20f69b530f524bdca678e32828d968f4",
       "version_major": 2,
       "version_minor": 0
      },
      "text/plain": [
       "Handle reason combind:   0%|          | 0/761 [00:00<?, ?it/s]"
      ]
     },
     "metadata": {},
     "output_type": "display_data"
    },
    {
     "data": {
      "application/vnd.jupyter.widget-view+json": {
       "model_id": "df8a566aae994909b0242be8fe4378cf",
       "version_major": 2,
       "version_minor": 0
      },
      "text/plain": [
       "Handle reason combind:   0%|          | 0/2310 [00:00<?, ?it/s]"
      ]
     },
     "metadata": {},
     "output_type": "display_data"
    },
    {
     "data": {
      "application/vnd.jupyter.widget-view+json": {
       "model_id": "ba17d5e94363403c9b1ccfc99d366648",
       "version_major": 2,
       "version_minor": 0
      },
      "text/plain": [
       "Handle reason combind:   0%|          | 0/313 [00:00<?, ?it/s]"
      ]
     },
     "metadata": {},
     "output_type": "display_data"
    },
    {
     "data": {
      "application/vnd.jupyter.widget-view+json": {
       "model_id": "13b1b18669bc43f88b3e0cf24ab1d3b8",
       "version_major": 2,
       "version_minor": 0
      },
      "text/plain": [
       "Handle reason combind:   0%|          | 0/3320 [00:00<?, ?it/s]"
      ]
     },
     "metadata": {},
     "output_type": "display_data"
    },
    {
     "name": "stdout",
     "output_type": "stream",
     "text": [
      "result after generate:  {'result': None}\n",
      "result after generate:  {'result': None}\n",
      "result after generate:  {'result': None}\n",
      "result after generate:  {'result': 'mất ngủ'}\n",
      "Input: mất ngủ | thần kinh | Output: mất ngủ\n",
      "result after generate:  {'result': 'tiểu đường'}\n",
      "Input: khám bệnh tiểu đường | tiểu đường - nội tiết | Output: tiểu đường\n",
      "result after generate:  {'result': 'đau bụng'}\n",
      "Input: đau bụng từng cơn | tiêu hoá | Output: đau bụng\n",
      "result after generate:  {'result': 'sâu răng sữa'}\n",
      "Input: sâu răng sữa | nha khoa | Output: sâu răng sữa\n",
      "result after generate:  {'result': 'khám nam học'}\n",
      "Input: muốn khám nam học | nam học | Output: khám nam học\n",
      "result after generate:  {'result': 'muốn làm ivf'}\n",
      "Input: muốn làm ivf | vô sinh - hiếm muộn | Output: muốn làm ivf\n",
      "result after generate:  {'result': 'bị hạch ở bẹn'}\n",
      "Input: bị hạch ở bẹn | ung bướu | Output: bị hạch ở bẹn\n",
      "result after generate:  {'result': 'ngửa đầu, tróc vẩy da đầu'}\n",
      "Input: ngửa đầu, tróc vẩy da đầu | da liễu | Output: ngửa đầu, tróc vẩy da đầu\n",
      "result after generate:  {'result': 'khó thở, nhanh mệt khi vận động'}\n",
      "Input: khó thở, nhanh mệt khi vận động | hô hấp - phổi | Output: khó thở, nhanh mệt khi vận động\n",
      "result after generate:  {'result': 'tiểu buốt, bí尿急和阻塞三年'}\n",
      "Input: bị tiểu buốt và dắt 3 năm | thận - tiết niệu | Output: tiểu buốt, bí尿急和阻塞三年\n",
      "result after generate:  {'result': None}\n",
      "result after generate:  {'result': 'đau bụng'}\n",
      "Input: đau bủng kéo dài | tiêu hoá | Output: đau bụng\n",
      "result after generate:  {'result': 'mày đay'}\n",
      "Input: da liễu bị mày đay | da liễu | Output: mày đay\n",
      "result after generate:  {'result': 'khám phụ khoa'}\n",
      "Input: khám phụ khoa | sản phụ khoa | Output: khám phụ khoa\n",
      "result after generate:  {'result': 'chấn động tâm lý'}\n",
      "Input: có chấn động tâm lý | sức khỏe tâm thần | Output: chấn động tâm lý\n",
      "result after generate:  {'result': 'vấn đề sinh sản nam'}\n",
      "Input: vấn đề sinh sản nam | nam học | Output: vấn đề sinh sản nam\n",
      "result after generate:  {'result': 'sâu răng, sứt răng'}\n",
      "Input: sâu răng, sứt răng | nha khoa | Output: sâu răng, sứt răng\n",
      "result after generate:  {'result': 'rối loạn thần kinh thực vật'}\n",
      "Input: rối loạn thần kinh thực vật | thần kinh | Output: rối loạn thần kinh thực vật\n",
      "result after generate:  {'result': 'nghi ngờ glaucom góc mở'}\n",
      "Input: nghi ngờ glocom góc mở | chuyên khoa mắt | Output: nghi ngờ glaucom góc mở\n",
      "result after generate:  {'result': None}\n"
     ]
    },
    {
     "ename": "KeyboardInterrupt",
     "evalue": "",
     "output_type": "error",
     "traceback": [
      "\u001b[0;31m---------------------------------------------------------------------------\u001b[0m",
      "\u001b[0;31mKeyboardInterrupt\u001b[0m                         Traceback (most recent call last)",
      "Cell \u001b[0;32mIn[11], line 49\u001b[0m\n\u001b[1;32m     46\u001b[0m         thread\u001b[38;5;241m.\u001b[39mjoin()\n\u001b[1;32m     48\u001b[0m \u001b[38;5;66;03m# Start processing\u001b[39;00m\n\u001b[0;32m---> 49\u001b[0m \u001b[43mprocess_all_files\u001b[49m\u001b[43m(\u001b[49m\u001b[43m)\u001b[49m\n\u001b[1;32m     50\u001b[0m \u001b[38;5;28mprint\u001b[39m(\u001b[38;5;124m\"\u001b[39m\u001b[38;5;124mAll files processed successfully\u001b[39m\u001b[38;5;124m\"\u001b[39m)\n",
      "Cell \u001b[0;32mIn[11], line 46\u001b[0m, in \u001b[0;36mprocess_all_files\u001b[0;34m()\u001b[0m\n\u001b[1;32m     44\u001b[0m \u001b[38;5;66;03m# Wait for all threads to complete\u001b[39;00m\n\u001b[1;32m     45\u001b[0m \u001b[38;5;28;01mfor\u001b[39;00m thread \u001b[38;5;129;01min\u001b[39;00m threads:\n\u001b[0;32m---> 46\u001b[0m     \u001b[43mthread\u001b[49m\u001b[38;5;241;43m.\u001b[39;49m\u001b[43mjoin\u001b[49m\u001b[43m(\u001b[49m\u001b[43m)\u001b[49m\n",
      "File \u001b[0;32m~/.pyenv/versions/3.10.15/lib/python3.10/threading.py:1096\u001b[0m, in \u001b[0;36mThread.join\u001b[0;34m(self, timeout)\u001b[0m\n\u001b[1;32m   1093\u001b[0m     \u001b[38;5;28;01mraise\u001b[39;00m \u001b[38;5;167;01mRuntimeError\u001b[39;00m(\u001b[38;5;124m\"\u001b[39m\u001b[38;5;124mcannot join current thread\u001b[39m\u001b[38;5;124m\"\u001b[39m)\n\u001b[1;32m   1095\u001b[0m \u001b[38;5;28;01mif\u001b[39;00m timeout \u001b[38;5;129;01mis\u001b[39;00m \u001b[38;5;28;01mNone\u001b[39;00m:\n\u001b[0;32m-> 1096\u001b[0m     \u001b[38;5;28;43mself\u001b[39;49m\u001b[38;5;241;43m.\u001b[39;49m\u001b[43m_wait_for_tstate_lock\u001b[49m\u001b[43m(\u001b[49m\u001b[43m)\u001b[49m\n\u001b[1;32m   1097\u001b[0m \u001b[38;5;28;01melse\u001b[39;00m:\n\u001b[1;32m   1098\u001b[0m     \u001b[38;5;66;03m# the behavior of a negative timeout isn't documented, but\u001b[39;00m\n\u001b[1;32m   1099\u001b[0m     \u001b[38;5;66;03m# historically .join(timeout=x) for x<0 has acted as if timeout=0\u001b[39;00m\n\u001b[1;32m   1100\u001b[0m     \u001b[38;5;28mself\u001b[39m\u001b[38;5;241m.\u001b[39m_wait_for_tstate_lock(timeout\u001b[38;5;241m=\u001b[39m\u001b[38;5;28mmax\u001b[39m(timeout, \u001b[38;5;241m0\u001b[39m))\n",
      "File \u001b[0;32m~/.pyenv/versions/3.10.15/lib/python3.10/threading.py:1116\u001b[0m, in \u001b[0;36mThread._wait_for_tstate_lock\u001b[0;34m(self, block, timeout)\u001b[0m\n\u001b[1;32m   1113\u001b[0m     \u001b[38;5;28;01mreturn\u001b[39;00m\n\u001b[1;32m   1115\u001b[0m \u001b[38;5;28;01mtry\u001b[39;00m:\n\u001b[0;32m-> 1116\u001b[0m     \u001b[38;5;28;01mif\u001b[39;00m \u001b[43mlock\u001b[49m\u001b[38;5;241;43m.\u001b[39;49m\u001b[43macquire\u001b[49m\u001b[43m(\u001b[49m\u001b[43mblock\u001b[49m\u001b[43m,\u001b[49m\u001b[43m \u001b[49m\u001b[43mtimeout\u001b[49m\u001b[43m)\u001b[49m:\n\u001b[1;32m   1117\u001b[0m         lock\u001b[38;5;241m.\u001b[39mrelease()\n\u001b[1;32m   1118\u001b[0m         \u001b[38;5;28mself\u001b[39m\u001b[38;5;241m.\u001b[39m_stop()\n",
      "\u001b[0;31mKeyboardInterrupt\u001b[0m: "
     ]
    },
    {
     "name": "stdout",
     "output_type": "stream",
     "text": [
      "result after generate:  {'result': 'tức bụng dưới'}\n",
      "Input: tức bụng dưới | thận - tiết niệu | Output: tức bụng dưới\n",
      "result after generate:  {'result': 'run chân tay, tim đập nhanh, huyết áp cao'}\n",
      "Input: run chân tay, tim đập nhanh, huyết áp cao. tiền sử baradow | ung bướu | Output: run chân tay, tim đập nhanh, huyết áp cao\n",
      "result after generate:  {'result': 'ngón chân thâm tím, đau buốt, biến chứng tiểu đường'}\n",
      "Input: biến chứng tiểu đường, ngón chân thâm tím, đau buốt | tiểu đường - nội tiết | Output: ngón chân thâm tím, đau buốt, biến chứng tiểu đường\n",
      "result after generate:  {'result': 'hiếm muộn'}\n",
      "Input: hiếm muộn | vô sinh - hiếm muộn | Output: hiếm muộn\n",
      "result after generate:  {'result': 'khó thở, tức ngực'}\n",
      "Input: khó thở, tức ngực. | hô hấp - phổi | Output: khó thở, tức ngực\n"
     ]
    }
   ],
   "source": [
    "import os\n",
    "import pandas as pd\n",
    "import threading\n",
    "\n",
    "# Get all CSV files in data_version1 directory\n",
    "csv_files = []\n",
    "api_key1 = \"95981b63ee8bc37a47e013a2946aecab679285179eb3a3c24e1179e38e75c434\"\n",
    "api_key2 = \"984a9676fb29b00a470440df6d9b93e03a9b35a345f3a324bbeb5fb7a9f46c84\"\n",
    "excluded_files = ['cơ xương khớp', 'tim mạch', 'nhi khoa', 'nội khoa', 'tai mũi họng']\n",
    "\n",
    "for file in os.listdir('../data/data_version1/'):\n",
    "    if file.endswith('.csv') and file.startswith('reason_specialist'):\n",
    "        # Check if the file is in excluded list\n",
    "        if not any(excluded in file for excluded in excluded_files):\n",
    "            csv_files.append(file)\n",
    "\n",
    "print(f\"Found {len(csv_files)} CSV files to process: {csv_files}\")\n",
    "\n",
    "# Process each file in a separate thread\n",
    "def process_all_files():\n",
    "    threads = []\n",
    "    \n",
    "    for i, file in enumerate(csv_files):\n",
    "        # Read the file\n",
    "        file_path = f'../data/data_version1/{file}'\n",
    "        df = pd.read_csv(file_path)\n",
    "        df = df.reset_index(drop=True)\n",
    "        \n",
    "        # Extract the specialist name from filename\n",
    "        specialist = file.replace('reason_specialist - ', '').replace('.csv', '')\n",
    "        output_path = f'../data/data_version2/{specialist}.csv'\n",
    "        \n",
    "        # Alternate between API keys for load balancing\n",
    "        api_key = api_key1 if i % 2 == 0 else api_key2\n",
    "        \n",
    "        # Create and start a thread for processing this file\n",
    "        thread = threading.Thread(\n",
    "            target=process_data_thread,\n",
    "            args=(api_key, df, output_path, f\"{specialist} thread\")\n",
    "        )\n",
    "        threads.append(thread)\n",
    "        thread.start()\n",
    "    \n",
    "    # Wait for all threads to complete\n",
    "    for thread in threads:\n",
    "        thread.join()\n",
    "\n",
    "# Start processing\n",
    "process_all_files()\n",
    "print(\"All files processed successfully\")\n"
   ]
  },
  {
   "cell_type": "code",
   "execution_count": null,
   "id": "92eb32cd-255e-4f65-928a-5747d34a9943",
   "metadata": {},
   "outputs": [],
   "source": []
  }
 ],
 "metadata": {
  "kernelspec": {
   "display_name": "Python 3 (ipykernel)",
   "language": "python",
   "name": "python3"
  },
  "language_info": {
   "codemirror_mode": {
    "name": "ipython",
    "version": 3
   },
   "file_extension": ".py",
   "mimetype": "text/x-python",
   "name": "python",
   "nbconvert_exporter": "python",
   "pygments_lexer": "ipython3",
   "version": "3.10.15"
  }
 },
 "nbformat": 4,
 "nbformat_minor": 5
}
