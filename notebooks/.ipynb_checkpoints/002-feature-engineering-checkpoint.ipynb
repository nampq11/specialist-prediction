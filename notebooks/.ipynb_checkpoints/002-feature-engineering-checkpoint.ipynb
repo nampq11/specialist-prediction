{
 "cells": [
  {
   "cell_type": "code",
   "execution_count": 1,
   "id": "e91349cf-7203-4d84-9701-eb370900ee4b",
   "metadata": {
    "editable": true,
    "slideshow": {
     "slide_type": ""
    },
    "tags": []
   },
   "outputs": [],
   "source": [
    "%load_ext autoreload\n",
    "%autoreload 2"
   ]
  },
  {
   "cell_type": "code",
   "execution_count": 80,
   "id": "314908c2-d289-48f7-9e9e-50093ab11886",
   "metadata": {},
   "outputs": [],
   "source": [
    "import sys\n",
    "\n",
    "sys.path.insert(0, '..')"
   ]
  },
  {
   "cell_type": "code",
   "execution_count": 81,
   "id": "4ce244e7-3ee8-4702-88d5-42b1ec516fa1",
   "metadata": {},
   "outputs": [],
   "source": [
    "import pandas as pd\n",
    "from tqdm.notebook import tqdm"
   ]
  },
  {
   "cell_type": "code",
   "execution_count": 82,
   "id": "a9e9adcd-8d40-4129-9cf9-c8e5c2d7564d",
   "metadata": {},
   "outputs": [],
   "source": [
    "from src.features.embeddings import get_specialist_id, get_specialist_ids"
   ]
  },
  {
   "cell_type": "code",
   "execution_count": 83,
   "id": "9fb75982-77d7-41aa-97af-8d017a179e3c",
   "metadata": {},
   "outputs": [
    {
     "name": "stderr",
     "output_type": "stream",
     "text": [
      "/tmp/ipykernel_204100/689184570.py:1: DtypeWarning: Columns (7) have mixed types. Specify dtype option on import or set low_memory=False.\n",
      "  df = pd.read_csv('../data/data_cleaned.csv', index_col=0)\n"
     ]
    }
   ],
   "source": [
    "df = pd.read_csv('../data/data_cleaned.csv', index_col=0)"
   ]
  },
  {
   "cell_type": "code",
   "execution_count": 84,
   "id": "467818c3-48bd-423f-9143-2fcf1821fe3c",
   "metadata": {},
   "outputs": [
    {
     "data": {
      "text/html": [
       "<div>\n",
       "<style scoped>\n",
       "    .dataframe tbody tr th:only-of-type {\n",
       "        vertical-align: middle;\n",
       "    }\n",
       "\n",
       "    .dataframe tbody tr th {\n",
       "        vertical-align: top;\n",
       "    }\n",
       "\n",
       "    .dataframe thead th {\n",
       "        text-align: right;\n",
       "    }\n",
       "</style>\n",
       "<table border=\"1\" class=\"dataframe\">\n",
       "  <thead>\n",
       "    <tr style=\"text-align: right;\">\n",
       "      <th></th>\n",
       "      <th>code</th>\n",
       "      <th>partner_id</th>\n",
       "      <th>clinic_id</th>\n",
       "      <th>specialist_id</th>\n",
       "      <th>schedule_type</th>\n",
       "      <th>status</th>\n",
       "      <th>phone</th>\n",
       "      <th>name</th>\n",
       "      <th>gender</th>\n",
       "      <th>address</th>\n",
       "      <th>province_id</th>\n",
       "      <th>age</th>\n",
       "      <th>reason_combind</th>\n",
       "    </tr>\n",
       "  </thead>\n",
       "  <tbody>\n",
       "    <tr>\n",
       "      <th>0</th>\n",
       "      <td>1</td>\n",
       "      <td>2</td>\n",
       "      <td>0</td>\n",
       "      <td>22</td>\n",
       "      <td>1.0</td>\n",
       "      <td>2</td>\n",
       "      <td>0978868343</td>\n",
       "      <td>Nguyễn Mạnh Kiểm</td>\n",
       "      <td>NaN</td>\n",
       "      <td>La Khê - Hà Đông - Hà Nội</td>\n",
       "      <td>1.0</td>\n",
       "      <td>38</td>\n",
       "      <td>Khám tiêu hóa</td>\n",
       "    </tr>\n",
       "    <tr>\n",
       "      <th>1</th>\n",
       "      <td>3</td>\n",
       "      <td>2</td>\n",
       "      <td>49</td>\n",
       "      <td>1</td>\n",
       "      <td>1.0</td>\n",
       "      <td>2</td>\n",
       "      <td>0961802111</td>\n",
       "      <td>Trịnh Thị Màu</td>\n",
       "      <td>NaN</td>\n",
       "      <td>Từ Liêm-Hà Nội</td>\n",
       "      <td>1.0</td>\n",
       "      <td>29</td>\n",
       "      <td>Đau lưng nhiều,ngồi lâu cứng lưng</td>\n",
       "    </tr>\n",
       "    <tr>\n",
       "      <th>2</th>\n",
       "      <td>4</td>\n",
       "      <td>4</td>\n",
       "      <td>0</td>\n",
       "      <td>3</td>\n",
       "      <td>1.0</td>\n",
       "      <td>2</td>\n",
       "      <td>0969193662</td>\n",
       "      <td>Trần Thị Thao</td>\n",
       "      <td>NaN</td>\n",
       "      <td>Vinh-Nghệ An</td>\n",
       "      <td>40.0</td>\n",
       "      <td>29</td>\n",
       "      <td>Hở van tim 3 lá,ngoại tâm thu</td>\n",
       "    </tr>\n",
       "    <tr>\n",
       "      <th>3</th>\n",
       "      <td>5</td>\n",
       "      <td>17</td>\n",
       "      <td>3</td>\n",
       "      <td>3</td>\n",
       "      <td>1.0</td>\n",
       "      <td>2</td>\n",
       "      <td>0982398253</td>\n",
       "      <td>Nguyễn Đức Toàn</td>\n",
       "      <td>NaN</td>\n",
       "      <td>Sa Pa -Lào Cai</td>\n",
       "      <td>10.0</td>\n",
       "      <td>40</td>\n",
       "      <td>Đau tức ngực bên trái,cảm giác hồi hộp</td>\n",
       "    </tr>\n",
       "    <tr>\n",
       "      <th>4</th>\n",
       "      <td>7</td>\n",
       "      <td>17</td>\n",
       "      <td>3</td>\n",
       "      <td>3</td>\n",
       "      <td>1.0</td>\n",
       "      <td>2</td>\n",
       "      <td>0904842488</td>\n",
       "      <td>Lê Thị Tuyết Sinh</td>\n",
       "      <td>NaN</td>\n",
       "      <td>Hoà Bình</td>\n",
       "      <td>NaN</td>\n",
       "      <td>70</td>\n",
       "      <td>Cao huyết áp</td>\n",
       "    </tr>\n",
       "    <tr>\n",
       "      <th>...</th>\n",
       "      <td>...</td>\n",
       "      <td>...</td>\n",
       "      <td>...</td>\n",
       "      <td>...</td>\n",
       "      <td>...</td>\n",
       "      <td>...</td>\n",
       "      <td>...</td>\n",
       "      <td>...</td>\n",
       "      <td>...</td>\n",
       "      <td>...</td>\n",
       "      <td>...</td>\n",
       "      <td>...</td>\n",
       "      <td>...</td>\n",
       "    </tr>\n",
       "    <tr>\n",
       "      <th>154467</th>\n",
       "      <td>mc92</td>\n",
       "      <td>10</td>\n",
       "      <td>1543</td>\n",
       "      <td>1</td>\n",
       "      <td>1.0</td>\n",
       "      <td>2</td>\n",
       "      <td>982760266</td>\n",
       "      <td>Nguyễn Văn Tuyến</td>\n",
       "      <td>0.0</td>\n",
       "      <td>0</td>\n",
       "      <td>27.0</td>\n",
       "      <td>0</td>\n",
       "      <td>Khám lại khớp gối\\n</td>\n",
       "    </tr>\n",
       "    <tr>\n",
       "      <th>154468</th>\n",
       "      <td>mc93</td>\n",
       "      <td>111</td>\n",
       "      <td>1822</td>\n",
       "      <td>17</td>\n",
       "      <td>1.0</td>\n",
       "      <td>2</td>\n",
       "      <td>962238486</td>\n",
       "      <td>Nguyễn Thị Nguyệt</td>\n",
       "      <td>1.0</td>\n",
       "      <td>0</td>\n",
       "      <td>74.0</td>\n",
       "      <td>0</td>\n",
       "      <td>0</td>\n",
       "    </tr>\n",
       "    <tr>\n",
       "      <th>154469</th>\n",
       "      <td>mc94</td>\n",
       "      <td>8</td>\n",
       "      <td>1655</td>\n",
       "      <td>10</td>\n",
       "      <td>1.0</td>\n",
       "      <td>2</td>\n",
       "      <td>334275683</td>\n",
       "      <td>Lê Mai Chjnh</td>\n",
       "      <td>1.0</td>\n",
       "      <td>NaN</td>\n",
       "      <td>1.0</td>\n",
       "      <td>0</td>\n",
       "      <td>Cấy que tranh thai</td>\n",
       "    </tr>\n",
       "    <tr>\n",
       "      <th>154471</th>\n",
       "      <td>mc96</td>\n",
       "      <td>111</td>\n",
       "      <td>1822</td>\n",
       "      <td>17</td>\n",
       "      <td>1.0</td>\n",
       "      <td>2</td>\n",
       "      <td>367413628</td>\n",
       "      <td>Nguyễn Thị Liễu</td>\n",
       "      <td>1.0</td>\n",
       "      <td>0</td>\n",
       "      <td>66.0</td>\n",
       "      <td>0</td>\n",
       "      <td>Tái khám</td>\n",
       "    </tr>\n",
       "    <tr>\n",
       "      <th>154473</th>\n",
       "      <td>mW02</td>\n",
       "      <td>111</td>\n",
       "      <td>1824</td>\n",
       "      <td>21</td>\n",
       "      <td>1.0</td>\n",
       "      <td>2</td>\n",
       "      <td>356200634</td>\n",
       "      <td>Phạm Thị Ánh</td>\n",
       "      <td>1.0</td>\n",
       "      <td>0</td>\n",
       "      <td>77.0</td>\n",
       "      <td>0</td>\n",
       "      <td>Tái khám</td>\n",
       "    </tr>\n",
       "  </tbody>\n",
       "</table>\n",
       "<p>143169 rows × 13 columns</p>\n",
       "</div>"
      ],
      "text/plain": [
       "        code  partner_id  clinic_id  specialist_id  schedule_type  status  \\\n",
       "0          1           2          0             22            1.0       2   \n",
       "1          3           2         49              1            1.0       2   \n",
       "2          4           4          0              3            1.0       2   \n",
       "3          5          17          3              3            1.0       2   \n",
       "4          7          17          3              3            1.0       2   \n",
       "...      ...         ...        ...            ...            ...     ...   \n",
       "154467  mc92          10       1543              1            1.0       2   \n",
       "154468  mc93         111       1822             17            1.0       2   \n",
       "154469  mc94           8       1655             10            1.0       2   \n",
       "154471  mc96         111       1822             17            1.0       2   \n",
       "154473  mW02         111       1824             21            1.0       2   \n",
       "\n",
       "             phone                 name  gender                       address  \\\n",
       "0       0978868343     Nguyễn Mạnh Kiểm     NaN  La Khê - Hà Đông - Hà Nội   \n",
       "1       0961802111     Trịnh Thị Màu     NaN             Từ Liêm-Hà Nội   \n",
       "2       0969193662      Trần Thị Thao     NaN                 Vinh-Nghệ An   \n",
       "3       0982398253   Nguyễn Đức Toàn     NaN               Sa Pa -Lào Cai   \n",
       "4       0904842488  Lê Thị Tuyết Sinh     NaN                    Hoà Bình   \n",
       "...            ...                  ...     ...                           ...   \n",
       "154467   982760266     Nguyễn Văn Tuyến     0.0                             0   \n",
       "154468   962238486    Nguyễn Thị Nguyệt     1.0                             0   \n",
       "154469   334275683         Lê Mai Chjnh     1.0                           NaN   \n",
       "154471   367413628      Nguyễn Thị Liễu     1.0                             0   \n",
       "154473   356200634         Phạm Thị Ánh     1.0                             0   \n",
       "\n",
       "        province_id  age                                 reason_combind  \n",
       "0               1.0   38                                Khám tiêu hóa  \n",
       "1               1.0   29           Đau lưng nhiều,ngồi lâu cứng lưng  \n",
       "2              40.0   29               Hở van tim 3 lá,ngoại tâm thu  \n",
       "3              10.0   40  Đau tức ngực bên trái,cảm giác hồi hộp  \n",
       "4               NaN   70                                 Cao huyết áp  \n",
       "...             ...  ...                                            ...  \n",
       "154467         27.0    0                            Khám lại khớp gối\\n  \n",
       "154468         74.0    0                                              0  \n",
       "154469          1.0    0                             Cấy que tranh thai  \n",
       "154471         66.0    0                                       Tái khám  \n",
       "154473         77.0    0                                      Tái khám   \n",
       "\n",
       "[143169 rows x 13 columns]"
      ]
     },
     "execution_count": 84,
     "metadata": {},
     "output_type": "execute_result"
    }
   ],
   "source": [
    "df"
   ]
  },
  {
   "cell_type": "code",
   "execution_count": 8,
   "id": "30b6fbe3-de12-4f82-977a-167a3337328e",
   "metadata": {},
   "outputs": [],
   "source": [
    "df['reason_combind'] = df['reason_combind'].str.lower().str.strip()"
   ]
  },
  {
   "cell_type": "code",
   "execution_count": 9,
   "id": "3f0662b4-c86a-4fad-9f9f-fd1b23509282",
   "metadata": {},
   "outputs": [
    {
     "data": {
      "text/html": [
       "<div>\n",
       "<style scoped>\n",
       "    .dataframe tbody tr th:only-of-type {\n",
       "        vertical-align: middle;\n",
       "    }\n",
       "\n",
       "    .dataframe tbody tr th {\n",
       "        vertical-align: top;\n",
       "    }\n",
       "\n",
       "    .dataframe thead th {\n",
       "        text-align: right;\n",
       "    }\n",
       "</style>\n",
       "<table border=\"1\" class=\"dataframe\">\n",
       "  <thead>\n",
       "    <tr style=\"text-align: right;\">\n",
       "      <th></th>\n",
       "      <th>code</th>\n",
       "      <th>partner_id</th>\n",
       "      <th>clinic_id</th>\n",
       "      <th>specialist_id</th>\n",
       "      <th>schedule_type</th>\n",
       "      <th>status</th>\n",
       "      <th>phone</th>\n",
       "      <th>name</th>\n",
       "      <th>gender</th>\n",
       "      <th>address</th>\n",
       "      <th>province_id</th>\n",
       "      <th>age</th>\n",
       "      <th>reason_combind</th>\n",
       "    </tr>\n",
       "  </thead>\n",
       "  <tbody>\n",
       "    <tr>\n",
       "      <th>0</th>\n",
       "      <td>1</td>\n",
       "      <td>2</td>\n",
       "      <td>0</td>\n",
       "      <td>22</td>\n",
       "      <td>1.0</td>\n",
       "      <td>2</td>\n",
       "      <td>0978868343</td>\n",
       "      <td>Nguyễn Mạnh Kiểm</td>\n",
       "      <td>NaN</td>\n",
       "      <td>La Khê - Hà Đông - Hà Nội</td>\n",
       "      <td>1.0</td>\n",
       "      <td>38</td>\n",
       "      <td>khám tiêu hóa</td>\n",
       "    </tr>\n",
       "    <tr>\n",
       "      <th>1</th>\n",
       "      <td>3</td>\n",
       "      <td>2</td>\n",
       "      <td>49</td>\n",
       "      <td>1</td>\n",
       "      <td>1.0</td>\n",
       "      <td>2</td>\n",
       "      <td>0961802111</td>\n",
       "      <td>Trịnh Thị Màu</td>\n",
       "      <td>NaN</td>\n",
       "      <td>Từ Liêm-Hà Nội</td>\n",
       "      <td>1.0</td>\n",
       "      <td>29</td>\n",
       "      <td>đau lưng nhiều,ngồi lâu cứng lưng</td>\n",
       "    </tr>\n",
       "    <tr>\n",
       "      <th>2</th>\n",
       "      <td>4</td>\n",
       "      <td>4</td>\n",
       "      <td>0</td>\n",
       "      <td>3</td>\n",
       "      <td>1.0</td>\n",
       "      <td>2</td>\n",
       "      <td>0969193662</td>\n",
       "      <td>Trần Thị Thao</td>\n",
       "      <td>NaN</td>\n",
       "      <td>Vinh-Nghệ An</td>\n",
       "      <td>40.0</td>\n",
       "      <td>29</td>\n",
       "      <td>hở van tim 3 lá,ngoại tâm thu</td>\n",
       "    </tr>\n",
       "    <tr>\n",
       "      <th>3</th>\n",
       "      <td>5</td>\n",
       "      <td>17</td>\n",
       "      <td>3</td>\n",
       "      <td>3</td>\n",
       "      <td>1.0</td>\n",
       "      <td>2</td>\n",
       "      <td>0982398253</td>\n",
       "      <td>Nguyễn Đức Toàn</td>\n",
       "      <td>NaN</td>\n",
       "      <td>Sa Pa -Lào Cai</td>\n",
       "      <td>10.0</td>\n",
       "      <td>40</td>\n",
       "      <td>đau tức ngực bên trái,cảm giác hồi hộp</td>\n",
       "    </tr>\n",
       "    <tr>\n",
       "      <th>4</th>\n",
       "      <td>7</td>\n",
       "      <td>17</td>\n",
       "      <td>3</td>\n",
       "      <td>3</td>\n",
       "      <td>1.0</td>\n",
       "      <td>2</td>\n",
       "      <td>0904842488</td>\n",
       "      <td>Lê Thị Tuyết Sinh</td>\n",
       "      <td>NaN</td>\n",
       "      <td>Hoà Bình</td>\n",
       "      <td>NaN</td>\n",
       "      <td>70</td>\n",
       "      <td>cao huyết áp</td>\n",
       "    </tr>\n",
       "    <tr>\n",
       "      <th>...</th>\n",
       "      <td>...</td>\n",
       "      <td>...</td>\n",
       "      <td>...</td>\n",
       "      <td>...</td>\n",
       "      <td>...</td>\n",
       "      <td>...</td>\n",
       "      <td>...</td>\n",
       "      <td>...</td>\n",
       "      <td>...</td>\n",
       "      <td>...</td>\n",
       "      <td>...</td>\n",
       "      <td>...</td>\n",
       "      <td>...</td>\n",
       "    </tr>\n",
       "    <tr>\n",
       "      <th>154467</th>\n",
       "      <td>mc92</td>\n",
       "      <td>10</td>\n",
       "      <td>1543</td>\n",
       "      <td>1</td>\n",
       "      <td>1.0</td>\n",
       "      <td>2</td>\n",
       "      <td>982760266</td>\n",
       "      <td>Nguyễn Văn Tuyến</td>\n",
       "      <td>0.0</td>\n",
       "      <td>0</td>\n",
       "      <td>27.0</td>\n",
       "      <td>0</td>\n",
       "      <td>khám lại khớp gối</td>\n",
       "    </tr>\n",
       "    <tr>\n",
       "      <th>154468</th>\n",
       "      <td>mc93</td>\n",
       "      <td>111</td>\n",
       "      <td>1822</td>\n",
       "      <td>17</td>\n",
       "      <td>1.0</td>\n",
       "      <td>2</td>\n",
       "      <td>962238486</td>\n",
       "      <td>Nguyễn Thị Nguyệt</td>\n",
       "      <td>1.0</td>\n",
       "      <td>0</td>\n",
       "      <td>74.0</td>\n",
       "      <td>0</td>\n",
       "      <td>0</td>\n",
       "    </tr>\n",
       "    <tr>\n",
       "      <th>154469</th>\n",
       "      <td>mc94</td>\n",
       "      <td>8</td>\n",
       "      <td>1655</td>\n",
       "      <td>10</td>\n",
       "      <td>1.0</td>\n",
       "      <td>2</td>\n",
       "      <td>334275683</td>\n",
       "      <td>Lê Mai Chjnh</td>\n",
       "      <td>1.0</td>\n",
       "      <td>NaN</td>\n",
       "      <td>1.0</td>\n",
       "      <td>0</td>\n",
       "      <td>cấy que tranh thai</td>\n",
       "    </tr>\n",
       "    <tr>\n",
       "      <th>154471</th>\n",
       "      <td>mc96</td>\n",
       "      <td>111</td>\n",
       "      <td>1822</td>\n",
       "      <td>17</td>\n",
       "      <td>1.0</td>\n",
       "      <td>2</td>\n",
       "      <td>367413628</td>\n",
       "      <td>Nguyễn Thị Liễu</td>\n",
       "      <td>1.0</td>\n",
       "      <td>0</td>\n",
       "      <td>66.0</td>\n",
       "      <td>0</td>\n",
       "      <td>tái khám</td>\n",
       "    </tr>\n",
       "    <tr>\n",
       "      <th>154473</th>\n",
       "      <td>mW02</td>\n",
       "      <td>111</td>\n",
       "      <td>1824</td>\n",
       "      <td>21</td>\n",
       "      <td>1.0</td>\n",
       "      <td>2</td>\n",
       "      <td>356200634</td>\n",
       "      <td>Phạm Thị Ánh</td>\n",
       "      <td>1.0</td>\n",
       "      <td>0</td>\n",
       "      <td>77.0</td>\n",
       "      <td>0</td>\n",
       "      <td>tái khám</td>\n",
       "    </tr>\n",
       "  </tbody>\n",
       "</table>\n",
       "<p>143169 rows × 13 columns</p>\n",
       "</div>"
      ],
      "text/plain": [
       "        code  partner_id  clinic_id  specialist_id  schedule_type  status  \\\n",
       "0          1           2          0             22            1.0       2   \n",
       "1          3           2         49              1            1.0       2   \n",
       "2          4           4          0              3            1.0       2   \n",
       "3          5          17          3              3            1.0       2   \n",
       "4          7          17          3              3            1.0       2   \n",
       "...      ...         ...        ...            ...            ...     ...   \n",
       "154467  mc92          10       1543              1            1.0       2   \n",
       "154468  mc93         111       1822             17            1.0       2   \n",
       "154469  mc94           8       1655             10            1.0       2   \n",
       "154471  mc96         111       1822             17            1.0       2   \n",
       "154473  mW02         111       1824             21            1.0       2   \n",
       "\n",
       "             phone                 name  gender                       address  \\\n",
       "0       0978868343     Nguyễn Mạnh Kiểm     NaN  La Khê - Hà Đông - Hà Nội   \n",
       "1       0961802111     Trịnh Thị Màu     NaN             Từ Liêm-Hà Nội   \n",
       "2       0969193662      Trần Thị Thao     NaN                 Vinh-Nghệ An   \n",
       "3       0982398253   Nguyễn Đức Toàn     NaN               Sa Pa -Lào Cai   \n",
       "4       0904842488  Lê Thị Tuyết Sinh     NaN                    Hoà Bình   \n",
       "...            ...                  ...     ...                           ...   \n",
       "154467   982760266     Nguyễn Văn Tuyến     0.0                             0   \n",
       "154468   962238486    Nguyễn Thị Nguyệt     1.0                             0   \n",
       "154469   334275683         Lê Mai Chjnh     1.0                           NaN   \n",
       "154471   367413628      Nguyễn Thị Liễu     1.0                             0   \n",
       "154473   356200634         Phạm Thị Ánh     1.0                             0   \n",
       "\n",
       "        province_id  age                                 reason_combind  \n",
       "0               1.0   38                                khám tiêu hóa  \n",
       "1               1.0   29           đau lưng nhiều,ngồi lâu cứng lưng  \n",
       "2              40.0   29               hở van tim 3 lá,ngoại tâm thu  \n",
       "3              10.0   40  đau tức ngực bên trái,cảm giác hồi hộp  \n",
       "4               NaN   70                                 cao huyết áp  \n",
       "...             ...  ...                                            ...  \n",
       "154467         27.0    0                              khám lại khớp gối  \n",
       "154468         74.0    0                                              0  \n",
       "154469          1.0    0                             cấy que tranh thai  \n",
       "154471         66.0    0                                       tái khám  \n",
       "154473         77.0    0                                       tái khám  \n",
       "\n",
       "[143169 rows x 13 columns]"
      ]
     },
     "execution_count": 9,
     "metadata": {},
     "output_type": "execute_result"
    }
   ],
   "source": [
    "df"
   ]
  },
  {
   "cell_type": "code",
   "execution_count": 10,
   "id": "2742ed9d-f0cd-4eb7-9ab9-92f6c9bb3d68",
   "metadata": {},
   "outputs": [
    {
     "name": "stdout",
     "output_type": "stream",
     "text": [
      "Number of rows with 'tai kham': 7063\n"
     ]
    }
   ],
   "source": [
    "count_tai_kham = (df['reason_combind'] == \"tái khám\").sum()\n",
    "print(f\"Number of rows with 'tai kham': {count_tai_kham}\")"
   ]
  },
  {
   "cell_type": "code",
   "execution_count": 11,
   "id": "d67b72e3-e78d-438f-a30b-7a7a27158bae",
   "metadata": {},
   "outputs": [],
   "source": [
    "df_filtered = df[df['reason_combind'] != 'tái khám']"
   ]
  },
  {
   "cell_type": "code",
   "execution_count": 12,
   "id": "3ee05ab4-41ff-4b31-8987-32ecae948fc6",
   "metadata": {},
   "outputs": [
    {
     "data": {
      "text/plain": [
       "(136106, 13)"
      ]
     },
     "execution_count": 12,
     "metadata": {},
     "output_type": "execute_result"
    }
   ],
   "source": [
    "df_filtered.shape"
   ]
  },
  {
   "cell_type": "code",
   "execution_count": 13,
   "id": "4fc35303-63a5-4f6d-b51a-e857a4d19deb",
   "metadata": {},
   "outputs": [
    {
     "data": {
      "text/html": [
       "<div>\n",
       "<style scoped>\n",
       "    .dataframe tbody tr th:only-of-type {\n",
       "        vertical-align: middle;\n",
       "    }\n",
       "\n",
       "    .dataframe tbody tr th {\n",
       "        vertical-align: top;\n",
       "    }\n",
       "\n",
       "    .dataframe thead th {\n",
       "        text-align: right;\n",
       "    }\n",
       "</style>\n",
       "<table border=\"1\" class=\"dataframe\">\n",
       "  <thead>\n",
       "    <tr style=\"text-align: right;\">\n",
       "      <th></th>\n",
       "      <th>code</th>\n",
       "      <th>partner_id</th>\n",
       "      <th>clinic_id</th>\n",
       "      <th>specialist_id</th>\n",
       "      <th>schedule_type</th>\n",
       "      <th>status</th>\n",
       "      <th>phone</th>\n",
       "      <th>name</th>\n",
       "      <th>gender</th>\n",
       "      <th>address</th>\n",
       "      <th>province_id</th>\n",
       "      <th>age</th>\n",
       "      <th>reason_combind</th>\n",
       "    </tr>\n",
       "  </thead>\n",
       "  <tbody>\n",
       "    <tr>\n",
       "      <th>0</th>\n",
       "      <td>1</td>\n",
       "      <td>2</td>\n",
       "      <td>0</td>\n",
       "      <td>22</td>\n",
       "      <td>1.0</td>\n",
       "      <td>2</td>\n",
       "      <td>0978868343</td>\n",
       "      <td>Nguyễn Mạnh Kiểm</td>\n",
       "      <td>NaN</td>\n",
       "      <td>La Khê - Hà Đông - Hà Nội</td>\n",
       "      <td>1.0</td>\n",
       "      <td>38</td>\n",
       "      <td>khám tiêu hóa</td>\n",
       "    </tr>\n",
       "    <tr>\n",
       "      <th>1</th>\n",
       "      <td>3</td>\n",
       "      <td>2</td>\n",
       "      <td>49</td>\n",
       "      <td>1</td>\n",
       "      <td>1.0</td>\n",
       "      <td>2</td>\n",
       "      <td>0961802111</td>\n",
       "      <td>Trịnh Thị Màu</td>\n",
       "      <td>NaN</td>\n",
       "      <td>Từ Liêm-Hà Nội</td>\n",
       "      <td>1.0</td>\n",
       "      <td>29</td>\n",
       "      <td>đau lưng nhiều,ngồi lâu cứng lưng</td>\n",
       "    </tr>\n",
       "    <tr>\n",
       "      <th>2</th>\n",
       "      <td>4</td>\n",
       "      <td>4</td>\n",
       "      <td>0</td>\n",
       "      <td>3</td>\n",
       "      <td>1.0</td>\n",
       "      <td>2</td>\n",
       "      <td>0969193662</td>\n",
       "      <td>Trần Thị Thao</td>\n",
       "      <td>NaN</td>\n",
       "      <td>Vinh-Nghệ An</td>\n",
       "      <td>40.0</td>\n",
       "      <td>29</td>\n",
       "      <td>hở van tim 3 lá,ngoại tâm thu</td>\n",
       "    </tr>\n",
       "    <tr>\n",
       "      <th>3</th>\n",
       "      <td>5</td>\n",
       "      <td>17</td>\n",
       "      <td>3</td>\n",
       "      <td>3</td>\n",
       "      <td>1.0</td>\n",
       "      <td>2</td>\n",
       "      <td>0982398253</td>\n",
       "      <td>Nguyễn Đức Toàn</td>\n",
       "      <td>NaN</td>\n",
       "      <td>Sa Pa -Lào Cai</td>\n",
       "      <td>10.0</td>\n",
       "      <td>40</td>\n",
       "      <td>đau tức ngực bên trái,cảm giác hồi hộp</td>\n",
       "    </tr>\n",
       "    <tr>\n",
       "      <th>4</th>\n",
       "      <td>7</td>\n",
       "      <td>17</td>\n",
       "      <td>3</td>\n",
       "      <td>3</td>\n",
       "      <td>1.0</td>\n",
       "      <td>2</td>\n",
       "      <td>0904842488</td>\n",
       "      <td>Lê Thị Tuyết Sinh</td>\n",
       "      <td>NaN</td>\n",
       "      <td>Hoà Bình</td>\n",
       "      <td>NaN</td>\n",
       "      <td>70</td>\n",
       "      <td>cao huyết áp</td>\n",
       "    </tr>\n",
       "  </tbody>\n",
       "</table>\n",
       "</div>"
      ],
      "text/plain": [
       "  code  partner_id  clinic_id  specialist_id  schedule_type  status  \\\n",
       "0    1           2          0             22            1.0       2   \n",
       "1    3           2         49              1            1.0       2   \n",
       "2    4           4          0              3            1.0       2   \n",
       "3    5          17          3              3            1.0       2   \n",
       "4    7          17          3              3            1.0       2   \n",
       "\n",
       "        phone                 name  gender                       address  \\\n",
       "0  0978868343     Nguyễn Mạnh Kiểm     NaN  La Khê - Hà Đông - Hà Nội   \n",
       "1  0961802111     Trịnh Thị Màu     NaN             Từ Liêm-Hà Nội   \n",
       "2  0969193662      Trần Thị Thao     NaN                 Vinh-Nghệ An   \n",
       "3  0982398253   Nguyễn Đức Toàn     NaN               Sa Pa -Lào Cai   \n",
       "4  0904842488  Lê Thị Tuyết Sinh     NaN                    Hoà Bình   \n",
       "\n",
       "   province_id  age                                 reason_combind  \n",
       "0          1.0   38                                khám tiêu hóa  \n",
       "1          1.0   29           đau lưng nhiều,ngồi lâu cứng lưng  \n",
       "2         40.0   29               hở van tim 3 lá,ngoại tâm thu  \n",
       "3         10.0   40  đau tức ngực bên trái,cảm giác hồi hộp  \n",
       "4          NaN   70                                 cao huyết áp  "
      ]
     },
     "execution_count": 13,
     "metadata": {},
     "output_type": "execute_result"
    }
   ],
   "source": [
    "df_filtered.head()"
   ]
  },
  {
   "cell_type": "code",
   "execution_count": 14,
   "id": "7d0e9593-2b0c-420f-a3e9-c422a5a1a636",
   "metadata": {},
   "outputs": [
    {
     "data": {
      "text/html": [
       "<div>\n",
       "<style scoped>\n",
       "    .dataframe tbody tr th:only-of-type {\n",
       "        vertical-align: middle;\n",
       "    }\n",
       "\n",
       "    .dataframe tbody tr th {\n",
       "        vertical-align: top;\n",
       "    }\n",
       "\n",
       "    .dataframe thead th {\n",
       "        text-align: right;\n",
       "    }\n",
       "</style>\n",
       "<table border=\"1\" class=\"dataframe\">\n",
       "  <thead>\n",
       "    <tr style=\"text-align: right;\">\n",
       "      <th></th>\n",
       "      <th>partner_id</th>\n",
       "      <th>clinic_id</th>\n",
       "      <th>specialist_id</th>\n",
       "      <th>schedule_type</th>\n",
       "      <th>status</th>\n",
       "      <th>gender</th>\n",
       "      <th>province_id</th>\n",
       "      <th>age</th>\n",
       "    </tr>\n",
       "  </thead>\n",
       "  <tbody>\n",
       "    <tr>\n",
       "      <th>count</th>\n",
       "      <td>136106.000000</td>\n",
       "      <td>136106.000000</td>\n",
       "      <td>136106.000000</td>\n",
       "      <td>135931.000000</td>\n",
       "      <td>136106.0</td>\n",
       "      <td>132851.000000</td>\n",
       "      <td>135927.000000</td>\n",
       "      <td>136106.000000</td>\n",
       "    </tr>\n",
       "    <tr>\n",
       "      <th>mean</th>\n",
       "      <td>89.339882</td>\n",
       "      <td>917.502814</td>\n",
       "      <td>18.960406</td>\n",
       "      <td>0.999993</td>\n",
       "      <td>2.0</td>\n",
       "      <td>0.523564</td>\n",
       "      <td>31.795530</td>\n",
       "      <td>27.465262</td>\n",
       "    </tr>\n",
       "    <tr>\n",
       "      <th>std</th>\n",
       "      <td>102.395916</td>\n",
       "      <td>860.236075</td>\n",
       "      <td>14.733063</td>\n",
       "      <td>0.016498</td>\n",
       "      <td>0.0</td>\n",
       "      <td>0.499446</td>\n",
       "      <td>31.958318</td>\n",
       "      <td>23.090929</td>\n",
       "    </tr>\n",
       "    <tr>\n",
       "      <th>min</th>\n",
       "      <td>0.000000</td>\n",
       "      <td>0.000000</td>\n",
       "      <td>0.000000</td>\n",
       "      <td>-1.000000</td>\n",
       "      <td>2.0</td>\n",
       "      <td>0.000000</td>\n",
       "      <td>1.000000</td>\n",
       "      <td>-70.000000</td>\n",
       "    </tr>\n",
       "    <tr>\n",
       "      <th>25%</th>\n",
       "      <td>10.000000</td>\n",
       "      <td>174.000000</td>\n",
       "      <td>4.000000</td>\n",
       "      <td>1.000000</td>\n",
       "      <td>2.0</td>\n",
       "      <td>0.000000</td>\n",
       "      <td>1.000000</td>\n",
       "      <td>0.000000</td>\n",
       "    </tr>\n",
       "    <tr>\n",
       "      <th>50%</th>\n",
       "      <td>49.000000</td>\n",
       "      <td>611.000000</td>\n",
       "      <td>18.000000</td>\n",
       "      <td>1.000000</td>\n",
       "      <td>2.0</td>\n",
       "      <td>1.000000</td>\n",
       "      <td>26.000000</td>\n",
       "      <td>28.000000</td>\n",
       "    </tr>\n",
       "    <tr>\n",
       "      <th>75%</th>\n",
       "      <td>112.000000</td>\n",
       "      <td>1539.000000</td>\n",
       "      <td>27.000000</td>\n",
       "      <td>1.000000</td>\n",
       "      <td>2.0</td>\n",
       "      <td>1.000000</td>\n",
       "      <td>68.000000</td>\n",
       "      <td>44.000000</td>\n",
       "    </tr>\n",
       "    <tr>\n",
       "      <th>max</th>\n",
       "      <td>530.000000</td>\n",
       "      <td>4134.000000</td>\n",
       "      <td>116.000000</td>\n",
       "      <td>4.000000</td>\n",
       "      <td>2.0</td>\n",
       "      <td>1.000000</td>\n",
       "      <td>96.000000</td>\n",
       "      <td>230.000000</td>\n",
       "    </tr>\n",
       "  </tbody>\n",
       "</table>\n",
       "</div>"
      ],
      "text/plain": [
       "          partner_id      clinic_id  specialist_id  schedule_type    status  \\\n",
       "count  136106.000000  136106.000000  136106.000000  135931.000000  136106.0   \n",
       "mean       89.339882     917.502814      18.960406       0.999993       2.0   \n",
       "std       102.395916     860.236075      14.733063       0.016498       0.0   \n",
       "min         0.000000       0.000000       0.000000      -1.000000       2.0   \n",
       "25%        10.000000     174.000000       4.000000       1.000000       2.0   \n",
       "50%        49.000000     611.000000      18.000000       1.000000       2.0   \n",
       "75%       112.000000    1539.000000      27.000000       1.000000       2.0   \n",
       "max       530.000000    4134.000000     116.000000       4.000000       2.0   \n",
       "\n",
       "              gender    province_id            age  \n",
       "count  132851.000000  135927.000000  136106.000000  \n",
       "mean        0.523564      31.795530      27.465262  \n",
       "std         0.499446      31.958318      23.090929  \n",
       "min         0.000000       1.000000     -70.000000  \n",
       "25%         0.000000       1.000000       0.000000  \n",
       "50%         1.000000      26.000000      28.000000  \n",
       "75%         1.000000      68.000000      44.000000  \n",
       "max         1.000000      96.000000     230.000000  "
      ]
     },
     "execution_count": 14,
     "metadata": {},
     "output_type": "execute_result"
    }
   ],
   "source": [
    "df_filtered.describe()"
   ]
  },
  {
   "cell_type": "code",
   "execution_count": 15,
   "id": "29959797-9e5d-47e7-ba59-c562a2de2220",
   "metadata": {},
   "outputs": [],
   "source": [
    "features = df_filtered.drop(columns=['code', 'clinic_id', 'schedule_type', 'phone', 'name', 'address'])"
   ]
  },
  {
   "cell_type": "code",
   "execution_count": 16,
   "id": "f568e4a1-15a7-46d3-8ff8-22b1fa7a8e5c",
   "metadata": {},
   "outputs": [],
   "source": [
    "features['province_id'] = features['province_id'].fillna(-1).astype(int)"
   ]
  },
  {
   "cell_type": "code",
   "execution_count": 17,
   "id": "d8013853-0af5-4ec6-9c1b-c5726aa386b2",
   "metadata": {},
   "outputs": [
    {
     "data": {
      "text/html": [
       "<div>\n",
       "<style scoped>\n",
       "    .dataframe tbody tr th:only-of-type {\n",
       "        vertical-align: middle;\n",
       "    }\n",
       "\n",
       "    .dataframe tbody tr th {\n",
       "        vertical-align: top;\n",
       "    }\n",
       "\n",
       "    .dataframe thead th {\n",
       "        text-align: right;\n",
       "    }\n",
       "</style>\n",
       "<table border=\"1\" class=\"dataframe\">\n",
       "  <thead>\n",
       "    <tr style=\"text-align: right;\">\n",
       "      <th></th>\n",
       "      <th>partner_id</th>\n",
       "      <th>specialist_id</th>\n",
       "      <th>status</th>\n",
       "      <th>gender</th>\n",
       "      <th>province_id</th>\n",
       "      <th>age</th>\n",
       "      <th>reason_combind</th>\n",
       "    </tr>\n",
       "  </thead>\n",
       "  <tbody>\n",
       "    <tr>\n",
       "      <th>0</th>\n",
       "      <td>2</td>\n",
       "      <td>22</td>\n",
       "      <td>2</td>\n",
       "      <td>NaN</td>\n",
       "      <td>1</td>\n",
       "      <td>38</td>\n",
       "      <td>khám tiêu hóa</td>\n",
       "    </tr>\n",
       "    <tr>\n",
       "      <th>1</th>\n",
       "      <td>2</td>\n",
       "      <td>1</td>\n",
       "      <td>2</td>\n",
       "      <td>NaN</td>\n",
       "      <td>1</td>\n",
       "      <td>29</td>\n",
       "      <td>đau lưng nhiều,ngồi lâu cứng lưng</td>\n",
       "    </tr>\n",
       "    <tr>\n",
       "      <th>2</th>\n",
       "      <td>4</td>\n",
       "      <td>3</td>\n",
       "      <td>2</td>\n",
       "      <td>NaN</td>\n",
       "      <td>40</td>\n",
       "      <td>29</td>\n",
       "      <td>hở van tim 3 lá,ngoại tâm thu</td>\n",
       "    </tr>\n",
       "    <tr>\n",
       "      <th>3</th>\n",
       "      <td>17</td>\n",
       "      <td>3</td>\n",
       "      <td>2</td>\n",
       "      <td>NaN</td>\n",
       "      <td>10</td>\n",
       "      <td>40</td>\n",
       "      <td>đau tức ngực bên trái,cảm giác hồi hộp</td>\n",
       "    </tr>\n",
       "    <tr>\n",
       "      <th>4</th>\n",
       "      <td>17</td>\n",
       "      <td>3</td>\n",
       "      <td>2</td>\n",
       "      <td>NaN</td>\n",
       "      <td>-1</td>\n",
       "      <td>70</td>\n",
       "      <td>cao huyết áp</td>\n",
       "    </tr>\n",
       "    <tr>\n",
       "      <th>...</th>\n",
       "      <td>...</td>\n",
       "      <td>...</td>\n",
       "      <td>...</td>\n",
       "      <td>...</td>\n",
       "      <td>...</td>\n",
       "      <td>...</td>\n",
       "      <td>...</td>\n",
       "    </tr>\n",
       "    <tr>\n",
       "      <th>154465</th>\n",
       "      <td>414</td>\n",
       "      <td>1</td>\n",
       "      <td>2</td>\n",
       "      <td>1.0</td>\n",
       "      <td>1</td>\n",
       "      <td>0</td>\n",
       "      <td>trượt chân, ngã ngồi đau khu xương cụt</td>\n",
       "    </tr>\n",
       "    <tr>\n",
       "      <th>154466</th>\n",
       "      <td>32</td>\n",
       "      <td>11</td>\n",
       "      <td>2</td>\n",
       "      <td>0.0</td>\n",
       "      <td>1</td>\n",
       "      <td>0</td>\n",
       "      <td>mụn trứng cá</td>\n",
       "    </tr>\n",
       "    <tr>\n",
       "      <th>154467</th>\n",
       "      <td>10</td>\n",
       "      <td>1</td>\n",
       "      <td>2</td>\n",
       "      <td>0.0</td>\n",
       "      <td>27</td>\n",
       "      <td>0</td>\n",
       "      <td>khám lại khớp gối</td>\n",
       "    </tr>\n",
       "    <tr>\n",
       "      <th>154468</th>\n",
       "      <td>111</td>\n",
       "      <td>17</td>\n",
       "      <td>2</td>\n",
       "      <td>1.0</td>\n",
       "      <td>74</td>\n",
       "      <td>0</td>\n",
       "      <td>0</td>\n",
       "    </tr>\n",
       "    <tr>\n",
       "      <th>154469</th>\n",
       "      <td>8</td>\n",
       "      <td>10</td>\n",
       "      <td>2</td>\n",
       "      <td>1.0</td>\n",
       "      <td>1</td>\n",
       "      <td>0</td>\n",
       "      <td>cấy que tranh thai</td>\n",
       "    </tr>\n",
       "  </tbody>\n",
       "</table>\n",
       "<p>136106 rows × 7 columns</p>\n",
       "</div>"
      ],
      "text/plain": [
       "        partner_id  specialist_id  status  gender  province_id  age  \\\n",
       "0                2             22       2     NaN            1   38   \n",
       "1                2              1       2     NaN            1   29   \n",
       "2                4              3       2     NaN           40   29   \n",
       "3               17              3       2     NaN           10   40   \n",
       "4               17              3       2     NaN           -1   70   \n",
       "...            ...            ...     ...     ...          ...  ...   \n",
       "154465         414              1       2     1.0            1    0   \n",
       "154466          32             11       2     0.0            1    0   \n",
       "154467          10              1       2     0.0           27    0   \n",
       "154468         111             17       2     1.0           74    0   \n",
       "154469           8             10       2     1.0            1    0   \n",
       "\n",
       "                                       reason_combind  \n",
       "0                                     khám tiêu hóa  \n",
       "1                đau lưng nhiều,ngồi lâu cứng lưng  \n",
       "2                    hở van tim 3 lá,ngoại tâm thu  \n",
       "3       đau tức ngực bên trái,cảm giác hồi hộp  \n",
       "4                                      cao huyết áp  \n",
       "...                                               ...  \n",
       "154465         trượt chân, ngã ngồi đau khu xương cụt  \n",
       "154466                                   mụn trứng cá  \n",
       "154467                              khám lại khớp gối  \n",
       "154468                                              0  \n",
       "154469                             cấy que tranh thai  \n",
       "\n",
       "[136106 rows x 7 columns]"
      ]
     },
     "execution_count": 17,
     "metadata": {},
     "output_type": "execute_result"
    }
   ],
   "source": [
    "features"
   ]
  },
  {
   "cell_type": "code",
   "execution_count": 18,
   "id": "e90e195d-72a4-4ac1-8561-843e7562a280",
   "metadata": {},
   "outputs": [
    {
     "data": {
      "text/html": [
       "<div>\n",
       "<style scoped>\n",
       "    .dataframe tbody tr th:only-of-type {\n",
       "        vertical-align: middle;\n",
       "    }\n",
       "\n",
       "    .dataframe tbody tr th {\n",
       "        vertical-align: top;\n",
       "    }\n",
       "\n",
       "    .dataframe thead th {\n",
       "        text-align: right;\n",
       "    }\n",
       "</style>\n",
       "<table border=\"1\" class=\"dataframe\">\n",
       "  <thead>\n",
       "    <tr style=\"text-align: right;\">\n",
       "      <th></th>\n",
       "      <th>partner_id</th>\n",
       "      <th>specialist_id</th>\n",
       "      <th>status</th>\n",
       "      <th>gender</th>\n",
       "      <th>province_id</th>\n",
       "      <th>age</th>\n",
       "    </tr>\n",
       "  </thead>\n",
       "  <tbody>\n",
       "    <tr>\n",
       "      <th>count</th>\n",
       "      <td>136106.000000</td>\n",
       "      <td>136106.000000</td>\n",
       "      <td>136106.0</td>\n",
       "      <td>132851.000000</td>\n",
       "      <td>136106.000000</td>\n",
       "      <td>136106.000000</td>\n",
       "    </tr>\n",
       "    <tr>\n",
       "      <th>mean</th>\n",
       "      <td>89.339882</td>\n",
       "      <td>18.960406</td>\n",
       "      <td>2.0</td>\n",
       "      <td>0.523564</td>\n",
       "      <td>31.752399</td>\n",
       "      <td>27.465262</td>\n",
       "    </tr>\n",
       "    <tr>\n",
       "      <th>std</th>\n",
       "      <td>102.395916</td>\n",
       "      <td>14.733063</td>\n",
       "      <td>0.0</td>\n",
       "      <td>0.499446</td>\n",
       "      <td>31.959404</td>\n",
       "      <td>23.090929</td>\n",
       "    </tr>\n",
       "    <tr>\n",
       "      <th>min</th>\n",
       "      <td>0.000000</td>\n",
       "      <td>0.000000</td>\n",
       "      <td>2.0</td>\n",
       "      <td>0.000000</td>\n",
       "      <td>-1.000000</td>\n",
       "      <td>-70.000000</td>\n",
       "    </tr>\n",
       "    <tr>\n",
       "      <th>25%</th>\n",
       "      <td>10.000000</td>\n",
       "      <td>4.000000</td>\n",
       "      <td>2.0</td>\n",
       "      <td>0.000000</td>\n",
       "      <td>1.000000</td>\n",
       "      <td>0.000000</td>\n",
       "    </tr>\n",
       "    <tr>\n",
       "      <th>50%</th>\n",
       "      <td>49.000000</td>\n",
       "      <td>18.000000</td>\n",
       "      <td>2.0</td>\n",
       "      <td>1.000000</td>\n",
       "      <td>26.000000</td>\n",
       "      <td>28.000000</td>\n",
       "    </tr>\n",
       "    <tr>\n",
       "      <th>75%</th>\n",
       "      <td>112.000000</td>\n",
       "      <td>27.000000</td>\n",
       "      <td>2.0</td>\n",
       "      <td>1.000000</td>\n",
       "      <td>68.000000</td>\n",
       "      <td>44.000000</td>\n",
       "    </tr>\n",
       "    <tr>\n",
       "      <th>max</th>\n",
       "      <td>530.000000</td>\n",
       "      <td>116.000000</td>\n",
       "      <td>2.0</td>\n",
       "      <td>1.000000</td>\n",
       "      <td>96.000000</td>\n",
       "      <td>230.000000</td>\n",
       "    </tr>\n",
       "  </tbody>\n",
       "</table>\n",
       "</div>"
      ],
      "text/plain": [
       "          partner_id  specialist_id    status         gender    province_id  \\\n",
       "count  136106.000000  136106.000000  136106.0  132851.000000  136106.000000   \n",
       "mean       89.339882      18.960406       2.0       0.523564      31.752399   \n",
       "std       102.395916      14.733063       0.0       0.499446      31.959404   \n",
       "min         0.000000       0.000000       2.0       0.000000      -1.000000   \n",
       "25%        10.000000       4.000000       2.0       0.000000       1.000000   \n",
       "50%        49.000000      18.000000       2.0       1.000000      26.000000   \n",
       "75%       112.000000      27.000000       2.0       1.000000      68.000000   \n",
       "max       530.000000     116.000000       2.0       1.000000      96.000000   \n",
       "\n",
       "                 age  \n",
       "count  136106.000000  \n",
       "mean       27.465262  \n",
       "std        23.090929  \n",
       "min       -70.000000  \n",
       "25%         0.000000  \n",
       "50%        28.000000  \n",
       "75%        44.000000  \n",
       "max       230.000000  "
      ]
     },
     "execution_count": 18,
     "metadata": {},
     "output_type": "execute_result"
    }
   ],
   "source": [
    "features.describe()"
   ]
  },
  {
   "cell_type": "code",
   "execution_count": 19,
   "id": "d39a133e-2aac-4ccf-bfcb-11f308d48052",
   "metadata": {},
   "outputs": [
    {
     "data": {
      "text/plain": [
       "(136106, 7)"
      ]
     },
     "execution_count": 19,
     "metadata": {},
     "output_type": "execute_result"
    }
   ],
   "source": [
    "features.shape"
   ]
  },
  {
   "cell_type": "code",
   "execution_count": 20,
   "id": "62af5ae1-35c8-4325-b183-107780150860",
   "metadata": {},
   "outputs": [],
   "source": [
    "# features = features[features['specialist_id'] != 0]"
   ]
  },
  {
   "cell_type": "code",
   "execution_count": 21,
   "id": "2a47124e-dcc9-420c-84b7-dc969adeb372",
   "metadata": {},
   "outputs": [
    {
     "data": {
      "text/html": [
       "<div>\n",
       "<style scoped>\n",
       "    .dataframe tbody tr th:only-of-type {\n",
       "        vertical-align: middle;\n",
       "    }\n",
       "\n",
       "    .dataframe tbody tr th {\n",
       "        vertical-align: top;\n",
       "    }\n",
       "\n",
       "    .dataframe thead th {\n",
       "        text-align: right;\n",
       "    }\n",
       "</style>\n",
       "<table border=\"1\" class=\"dataframe\">\n",
       "  <thead>\n",
       "    <tr style=\"text-align: right;\">\n",
       "      <th></th>\n",
       "      <th>partner_id</th>\n",
       "      <th>specialist_id</th>\n",
       "      <th>status</th>\n",
       "      <th>gender</th>\n",
       "      <th>province_id</th>\n",
       "      <th>age</th>\n",
       "      <th>reason_combind</th>\n",
       "    </tr>\n",
       "  </thead>\n",
       "  <tbody>\n",
       "    <tr>\n",
       "      <th>0</th>\n",
       "      <td>2</td>\n",
       "      <td>22</td>\n",
       "      <td>2</td>\n",
       "      <td>NaN</td>\n",
       "      <td>1</td>\n",
       "      <td>38</td>\n",
       "      <td>khám tiêu hóa</td>\n",
       "    </tr>\n",
       "    <tr>\n",
       "      <th>1</th>\n",
       "      <td>2</td>\n",
       "      <td>1</td>\n",
       "      <td>2</td>\n",
       "      <td>NaN</td>\n",
       "      <td>1</td>\n",
       "      <td>29</td>\n",
       "      <td>đau lưng nhiều,ngồi lâu cứng lưng</td>\n",
       "    </tr>\n",
       "    <tr>\n",
       "      <th>2</th>\n",
       "      <td>4</td>\n",
       "      <td>3</td>\n",
       "      <td>2</td>\n",
       "      <td>NaN</td>\n",
       "      <td>40</td>\n",
       "      <td>29</td>\n",
       "      <td>hở van tim 3 lá,ngoại tâm thu</td>\n",
       "    </tr>\n",
       "    <tr>\n",
       "      <th>3</th>\n",
       "      <td>17</td>\n",
       "      <td>3</td>\n",
       "      <td>2</td>\n",
       "      <td>NaN</td>\n",
       "      <td>10</td>\n",
       "      <td>40</td>\n",
       "      <td>đau tức ngực bên trái,cảm giác hồi hộp</td>\n",
       "    </tr>\n",
       "    <tr>\n",
       "      <th>4</th>\n",
       "      <td>17</td>\n",
       "      <td>3</td>\n",
       "      <td>2</td>\n",
       "      <td>NaN</td>\n",
       "      <td>-1</td>\n",
       "      <td>70</td>\n",
       "      <td>cao huyết áp</td>\n",
       "    </tr>\n",
       "    <tr>\n",
       "      <th>...</th>\n",
       "      <td>...</td>\n",
       "      <td>...</td>\n",
       "      <td>...</td>\n",
       "      <td>...</td>\n",
       "      <td>...</td>\n",
       "      <td>...</td>\n",
       "      <td>...</td>\n",
       "    </tr>\n",
       "    <tr>\n",
       "      <th>154465</th>\n",
       "      <td>414</td>\n",
       "      <td>1</td>\n",
       "      <td>2</td>\n",
       "      <td>1.0</td>\n",
       "      <td>1</td>\n",
       "      <td>0</td>\n",
       "      <td>trượt chân, ngã ngồi đau khu xương cụt</td>\n",
       "    </tr>\n",
       "    <tr>\n",
       "      <th>154466</th>\n",
       "      <td>32</td>\n",
       "      <td>11</td>\n",
       "      <td>2</td>\n",
       "      <td>0.0</td>\n",
       "      <td>1</td>\n",
       "      <td>0</td>\n",
       "      <td>mụn trứng cá</td>\n",
       "    </tr>\n",
       "    <tr>\n",
       "      <th>154467</th>\n",
       "      <td>10</td>\n",
       "      <td>1</td>\n",
       "      <td>2</td>\n",
       "      <td>0.0</td>\n",
       "      <td>27</td>\n",
       "      <td>0</td>\n",
       "      <td>khám lại khớp gối</td>\n",
       "    </tr>\n",
       "    <tr>\n",
       "      <th>154468</th>\n",
       "      <td>111</td>\n",
       "      <td>17</td>\n",
       "      <td>2</td>\n",
       "      <td>1.0</td>\n",
       "      <td>74</td>\n",
       "      <td>0</td>\n",
       "      <td>0</td>\n",
       "    </tr>\n",
       "    <tr>\n",
       "      <th>154469</th>\n",
       "      <td>8</td>\n",
       "      <td>10</td>\n",
       "      <td>2</td>\n",
       "      <td>1.0</td>\n",
       "      <td>1</td>\n",
       "      <td>0</td>\n",
       "      <td>cấy que tranh thai</td>\n",
       "    </tr>\n",
       "  </tbody>\n",
       "</table>\n",
       "<p>136106 rows × 7 columns</p>\n",
       "</div>"
      ],
      "text/plain": [
       "        partner_id  specialist_id  status  gender  province_id  age  \\\n",
       "0                2             22       2     NaN            1   38   \n",
       "1                2              1       2     NaN            1   29   \n",
       "2                4              3       2     NaN           40   29   \n",
       "3               17              3       2     NaN           10   40   \n",
       "4               17              3       2     NaN           -1   70   \n",
       "...            ...            ...     ...     ...          ...  ...   \n",
       "154465         414              1       2     1.0            1    0   \n",
       "154466          32             11       2     0.0            1    0   \n",
       "154467          10              1       2     0.0           27    0   \n",
       "154468         111             17       2     1.0           74    0   \n",
       "154469           8             10       2     1.0            1    0   \n",
       "\n",
       "                                       reason_combind  \n",
       "0                                     khám tiêu hóa  \n",
       "1                đau lưng nhiều,ngồi lâu cứng lưng  \n",
       "2                    hở van tim 3 lá,ngoại tâm thu  \n",
       "3       đau tức ngực bên trái,cảm giác hồi hộp  \n",
       "4                                      cao huyết áp  \n",
       "...                                               ...  \n",
       "154465         trượt chân, ngã ngồi đau khu xương cụt  \n",
       "154466                                   mụn trứng cá  \n",
       "154467                              khám lại khớp gối  \n",
       "154468                                              0  \n",
       "154469                             cấy que tranh thai  \n",
       "\n",
       "[136106 rows x 7 columns]"
      ]
     },
     "execution_count": 21,
     "metadata": {},
     "output_type": "execute_result"
    }
   ],
   "source": [
    "features"
   ]
  },
  {
   "cell_type": "code",
   "execution_count": 22,
   "id": "bb98f474-4d34-4b6b-9d17-3ea1a5b1a4f0",
   "metadata": {},
   "outputs": [
    {
     "data": {
      "text/plain": [
       "np.int64(5180)"
      ]
     },
     "execution_count": 22,
     "metadata": {},
     "output_type": "execute_result"
    }
   ],
   "source": [
    "count_zero = (features['reason_combind'] == '0').sum()\n",
    "count_zero"
   ]
  },
  {
   "cell_type": "code",
   "execution_count": 23,
   "id": "46ef97e0-475b-479e-89be-838c9dc9fecb",
   "metadata": {},
   "outputs": [],
   "source": [
    "features = features[features['reason_combind'] != '0']"
   ]
  },
  {
   "cell_type": "code",
   "execution_count": 24,
   "id": "7bad9696-7925-4257-adc0-68b147b287d5",
   "metadata": {},
   "outputs": [
    {
     "data": {
      "text/html": [
       "<div>\n",
       "<style scoped>\n",
       "    .dataframe tbody tr th:only-of-type {\n",
       "        vertical-align: middle;\n",
       "    }\n",
       "\n",
       "    .dataframe tbody tr th {\n",
       "        vertical-align: top;\n",
       "    }\n",
       "\n",
       "    .dataframe thead th {\n",
       "        text-align: right;\n",
       "    }\n",
       "</style>\n",
       "<table border=\"1\" class=\"dataframe\">\n",
       "  <thead>\n",
       "    <tr style=\"text-align: right;\">\n",
       "      <th></th>\n",
       "      <th>partner_id</th>\n",
       "      <th>specialist_id</th>\n",
       "      <th>status</th>\n",
       "      <th>gender</th>\n",
       "      <th>province_id</th>\n",
       "      <th>age</th>\n",
       "      <th>reason_combind</th>\n",
       "    </tr>\n",
       "  </thead>\n",
       "  <tbody>\n",
       "    <tr>\n",
       "      <th>0</th>\n",
       "      <td>2</td>\n",
       "      <td>22</td>\n",
       "      <td>2</td>\n",
       "      <td>NaN</td>\n",
       "      <td>1</td>\n",
       "      <td>38</td>\n",
       "      <td>khám tiêu hóa</td>\n",
       "    </tr>\n",
       "    <tr>\n",
       "      <th>1</th>\n",
       "      <td>2</td>\n",
       "      <td>1</td>\n",
       "      <td>2</td>\n",
       "      <td>NaN</td>\n",
       "      <td>1</td>\n",
       "      <td>29</td>\n",
       "      <td>đau lưng nhiều,ngồi lâu cứng lưng</td>\n",
       "    </tr>\n",
       "    <tr>\n",
       "      <th>2</th>\n",
       "      <td>4</td>\n",
       "      <td>3</td>\n",
       "      <td>2</td>\n",
       "      <td>NaN</td>\n",
       "      <td>40</td>\n",
       "      <td>29</td>\n",
       "      <td>hở van tim 3 lá,ngoại tâm thu</td>\n",
       "    </tr>\n",
       "    <tr>\n",
       "      <th>3</th>\n",
       "      <td>17</td>\n",
       "      <td>3</td>\n",
       "      <td>2</td>\n",
       "      <td>NaN</td>\n",
       "      <td>10</td>\n",
       "      <td>40</td>\n",
       "      <td>đau tức ngực bên trái,cảm giác hồi hộp</td>\n",
       "    </tr>\n",
       "    <tr>\n",
       "      <th>4</th>\n",
       "      <td>17</td>\n",
       "      <td>3</td>\n",
       "      <td>2</td>\n",
       "      <td>NaN</td>\n",
       "      <td>-1</td>\n",
       "      <td>70</td>\n",
       "      <td>cao huyết áp</td>\n",
       "    </tr>\n",
       "    <tr>\n",
       "      <th>...</th>\n",
       "      <td>...</td>\n",
       "      <td>...</td>\n",
       "      <td>...</td>\n",
       "      <td>...</td>\n",
       "      <td>...</td>\n",
       "      <td>...</td>\n",
       "      <td>...</td>\n",
       "    </tr>\n",
       "    <tr>\n",
       "      <th>154464</th>\n",
       "      <td>410</td>\n",
       "      <td>26</td>\n",
       "      <td>2</td>\n",
       "      <td>0.0</td>\n",
       "      <td>42</td>\n",
       "      <td>0</td>\n",
       "      <td>rối loạn</td>\n",
       "    </tr>\n",
       "    <tr>\n",
       "      <th>154465</th>\n",
       "      <td>414</td>\n",
       "      <td>1</td>\n",
       "      <td>2</td>\n",
       "      <td>1.0</td>\n",
       "      <td>1</td>\n",
       "      <td>0</td>\n",
       "      <td>trượt chân, ngã ngồi đau khu xương cụt</td>\n",
       "    </tr>\n",
       "    <tr>\n",
       "      <th>154466</th>\n",
       "      <td>32</td>\n",
       "      <td>11</td>\n",
       "      <td>2</td>\n",
       "      <td>0.0</td>\n",
       "      <td>1</td>\n",
       "      <td>0</td>\n",
       "      <td>mụn trứng cá</td>\n",
       "    </tr>\n",
       "    <tr>\n",
       "      <th>154467</th>\n",
       "      <td>10</td>\n",
       "      <td>1</td>\n",
       "      <td>2</td>\n",
       "      <td>0.0</td>\n",
       "      <td>27</td>\n",
       "      <td>0</td>\n",
       "      <td>khám lại khớp gối</td>\n",
       "    </tr>\n",
       "    <tr>\n",
       "      <th>154469</th>\n",
       "      <td>8</td>\n",
       "      <td>10</td>\n",
       "      <td>2</td>\n",
       "      <td>1.0</td>\n",
       "      <td>1</td>\n",
       "      <td>0</td>\n",
       "      <td>cấy que tranh thai</td>\n",
       "    </tr>\n",
       "  </tbody>\n",
       "</table>\n",
       "<p>130926 rows × 7 columns</p>\n",
       "</div>"
      ],
      "text/plain": [
       "        partner_id  specialist_id  status  gender  province_id  age  \\\n",
       "0                2             22       2     NaN            1   38   \n",
       "1                2              1       2     NaN            1   29   \n",
       "2                4              3       2     NaN           40   29   \n",
       "3               17              3       2     NaN           10   40   \n",
       "4               17              3       2     NaN           -1   70   \n",
       "...            ...            ...     ...     ...          ...  ...   \n",
       "154464         410             26       2     0.0           42    0   \n",
       "154465         414              1       2     1.0            1    0   \n",
       "154466          32             11       2     0.0            1    0   \n",
       "154467          10              1       2     0.0           27    0   \n",
       "154469           8             10       2     1.0            1    0   \n",
       "\n",
       "                                       reason_combind  \n",
       "0                                     khám tiêu hóa  \n",
       "1                đau lưng nhiều,ngồi lâu cứng lưng  \n",
       "2                    hở van tim 3 lá,ngoại tâm thu  \n",
       "3       đau tức ngực bên trái,cảm giác hồi hộp  \n",
       "4                                      cao huyết áp  \n",
       "...                                               ...  \n",
       "154464                                       rối loạn  \n",
       "154465         trượt chân, ngã ngồi đau khu xương cụt  \n",
       "154466                                   mụn trứng cá  \n",
       "154467                              khám lại khớp gối  \n",
       "154469                             cấy que tranh thai  \n",
       "\n",
       "[130926 rows x 7 columns]"
      ]
     },
     "execution_count": 24,
     "metadata": {},
     "output_type": "execute_result"
    }
   ],
   "source": [
    "features"
   ]
  },
  {
   "cell_type": "code",
   "execution_count": 25,
   "id": "86e4defc-9732-49a8-8f89-1cd04e221ad9",
   "metadata": {},
   "outputs": [],
   "source": [
    "features.to_csv('../data/features.csv')"
   ]
  },
  {
   "cell_type": "code",
   "execution_count": 26,
   "id": "735f1780-fc58-4a28-9d24-b6100d662ff3",
   "metadata": {},
   "outputs": [
    {
     "name": "stderr",
     "output_type": "stream",
     "text": [
      "/tmp/ipykernel_204100/4174957349.py:2: SettingWithCopyWarning: \n",
      "A value is trying to be set on a copy of a slice from a DataFrame.\n",
      "Try using .loc[row_indexer,col_indexer] = value instead\n",
      "\n",
      "See the caveats in the documentation: https://pandas.pydata.org/pandas-docs/stable/user_guide/indexing.html#returning-a-view-versus-a-copy\n",
      "  features['specialist_id'] = features['specialist_id'].replace(45, 27)\n",
      "/tmp/ipykernel_204100/4174957349.py:3: SettingWithCopyWarning: \n",
      "A value is trying to be set on a copy of a slice from a DataFrame.\n",
      "Try using .loc[row_indexer,col_indexer] = value instead\n",
      "\n",
      "See the caveats in the documentation: https://pandas.pydata.org/pandas-docs/stable/user_guide/indexing.html#returning-a-view-versus-a-copy\n",
      "  features['specialist_id'] = features['specialist_id'].replace(44, 11)\n",
      "/tmp/ipykernel_204100/4174957349.py:4: SettingWithCopyWarning: \n",
      "A value is trying to be set on a copy of a slice from a DataFrame.\n",
      "Try using .loc[row_indexer,col_indexer] = value instead\n",
      "\n",
      "See the caveats in the documentation: https://pandas.pydata.org/pandas-docs/stable/user_guide/indexing.html#returning-a-view-versus-a-copy\n",
      "  features['specialist_id'] = features['specialist_id'].replace(46, 1)\n",
      "/tmp/ipykernel_204100/4174957349.py:5: SettingWithCopyWarning: \n",
      "A value is trying to be set on a copy of a slice from a DataFrame.\n",
      "Try using .loc[row_indexer,col_indexer] = value instead\n",
      "\n",
      "See the caveats in the documentation: https://pandas.pydata.org/pandas-docs/stable/user_guide/indexing.html#returning-a-view-versus-a-copy\n",
      "  features['specialist_id'] = features['specialist_id'].replace(52, 3)\n",
      "/tmp/ipykernel_204100/4174957349.py:6: SettingWithCopyWarning: \n",
      "A value is trying to be set on a copy of a slice from a DataFrame.\n",
      "Try using .loc[row_indexer,col_indexer] = value instead\n",
      "\n",
      "See the caveats in the documentation: https://pandas.pydata.org/pandas-docs/stable/user_guide/indexing.html#returning-a-view-versus-a-copy\n",
      "  features['specialist_id'] = features['specialist_id'].replace(54, 4)\n",
      "/tmp/ipykernel_204100/4174957349.py:7: SettingWithCopyWarning: \n",
      "A value is trying to be set on a copy of a slice from a DataFrame.\n",
      "Try using .loc[row_indexer,col_indexer] = value instead\n",
      "\n",
      "See the caveats in the documentation: https://pandas.pydata.org/pandas-docs/stable/user_guide/indexing.html#returning-a-view-versus-a-copy\n",
      "  features['specialist_id'] = features['specialist_id'].replace(72, 11)\n",
      "/tmp/ipykernel_204100/4174957349.py:8: SettingWithCopyWarning: \n",
      "A value is trying to be set on a copy of a slice from a DataFrame.\n",
      "Try using .loc[row_indexer,col_indexer] = value instead\n",
      "\n",
      "See the caveats in the documentation: https://pandas.pydata.org/pandas-docs/stable/user_guide/indexing.html#returning-a-view-versus-a-copy\n",
      "  features['specialist_id'] = features['specialist_id'].replace(56, 18)\n",
      "/tmp/ipykernel_204100/4174957349.py:9: SettingWithCopyWarning: \n",
      "A value is trying to be set on a copy of a slice from a DataFrame.\n",
      "Try using .loc[row_indexer,col_indexer] = value instead\n",
      "\n",
      "See the caveats in the documentation: https://pandas.pydata.org/pandas-docs/stable/user_guide/indexing.html#returning-a-view-versus-a-copy\n",
      "  features['specialist_id'] = features['specialist_id'].replace(10, 19)\n",
      "/tmp/ipykernel_204100/4174957349.py:10: SettingWithCopyWarning: \n",
      "A value is trying to be set on a copy of a slice from a DataFrame.\n",
      "Try using .loc[row_indexer,col_indexer] = value instead\n",
      "\n",
      "See the caveats in the documentation: https://pandas.pydata.org/pandas-docs/stable/user_guide/indexing.html#returning-a-view-versus-a-copy\n",
      "  features['specialist_id'] = features['specialist_id'].replace(48, 22)\n",
      "/tmp/ipykernel_204100/4174957349.py:11: SettingWithCopyWarning: \n",
      "A value is trying to be set on a copy of a slice from a DataFrame.\n",
      "Try using .loc[row_indexer,col_indexer] = value instead\n",
      "\n",
      "See the caveats in the documentation: https://pandas.pydata.org/pandas-docs/stable/user_guide/indexing.html#returning-a-view-versus-a-copy\n",
      "  features['specialist_id'] = features['specialist_id'].replace(9, 22)\n",
      "/tmp/ipykernel_204100/4174957349.py:12: SettingWithCopyWarning: \n",
      "A value is trying to be set on a copy of a slice from a DataFrame.\n",
      "Try using .loc[row_indexer,col_indexer] = value instead\n",
      "\n",
      "See the caveats in the documentation: https://pandas.pydata.org/pandas-docs/stable/user_guide/indexing.html#returning-a-view-versus-a-copy\n",
      "  features['specialist_id'] = features['specialist_id'].replace(75, 26)\n",
      "/tmp/ipykernel_204100/4174957349.py:13: SettingWithCopyWarning: \n",
      "A value is trying to be set on a copy of a slice from a DataFrame.\n",
      "Try using .loc[row_indexer,col_indexer] = value instead\n",
      "\n",
      "See the caveats in the documentation: https://pandas.pydata.org/pandas-docs/stable/user_guide/indexing.html#returning-a-view-versus-a-copy\n",
      "  features['specialist_id'] = features['specialist_id'].replace(65, 27)\n",
      "/tmp/ipykernel_204100/4174957349.py:14: SettingWithCopyWarning: \n",
      "A value is trying to be set on a copy of a slice from a DataFrame.\n",
      "Try using .loc[row_indexer,col_indexer] = value instead\n",
      "\n",
      "See the caveats in the documentation: https://pandas.pydata.org/pandas-docs/stable/user_guide/indexing.html#returning-a-view-versus-a-copy\n",
      "  features['specialist_id'] = features['specialist_id'].replace(66, 27)\n",
      "/tmp/ipykernel_204100/4174957349.py:15: SettingWithCopyWarning: \n",
      "A value is trying to be set on a copy of a slice from a DataFrame.\n",
      "Try using .loc[row_indexer,col_indexer] = value instead\n",
      "\n",
      "See the caveats in the documentation: https://pandas.pydata.org/pandas-docs/stable/user_guide/indexing.html#returning-a-view-versus-a-copy\n",
      "  features['specialist_id'] = features['specialist_id'].replace(53, 5)\n",
      "/tmp/ipykernel_204100/4174957349.py:16: SettingWithCopyWarning: \n",
      "A value is trying to be set on a copy of a slice from a DataFrame.\n",
      "Try using .loc[row_indexer,col_indexer] = value instead\n",
      "\n",
      "See the caveats in the documentation: https://pandas.pydata.org/pandas-docs/stable/user_guide/indexing.html#returning-a-view-versus-a-copy\n",
      "  features['specialist_id'] = features['specialist_id'].replace(31, 17)\n",
      "/tmp/ipykernel_204100/4174957349.py:17: SettingWithCopyWarning: \n",
      "A value is trying to be set on a copy of a slice from a DataFrame.\n",
      "Try using .loc[row_indexer,col_indexer] = value instead\n",
      "\n",
      "See the caveats in the documentation: https://pandas.pydata.org/pandas-docs/stable/user_guide/indexing.html#returning-a-view-versus-a-copy\n",
      "  features['specialist_id'] = features['specialist_id'].replace(24, 1)\n",
      "/tmp/ipykernel_204100/4174957349.py:18: SettingWithCopyWarning: \n",
      "A value is trying to be set on a copy of a slice from a DataFrame.\n",
      "Try using .loc[row_indexer,col_indexer] = value instead\n",
      "\n",
      "See the caveats in the documentation: https://pandas.pydata.org/pandas-docs/stable/user_guide/indexing.html#returning-a-view-versus-a-copy\n",
      "  features['specialist_id'] = features['specialist_id'].replace(28, 22)\n"
     ]
    }
   ],
   "source": [
    "## combind suc khoe tam than tu xa to suc khoe tam than and bac si da lieu tu xa to da lieu\n",
    "features['specialist_id'] = features['specialist_id'].replace(45, 27)\n",
    "features['specialist_id'] = features['specialist_id'].replace(44, 11)\n",
    "features['specialist_id'] = features['specialist_id'].replace(46, 1)\n",
    "features['specialist_id'] = features['specialist_id'].replace(52, 3)\n",
    "features['specialist_id'] = features['specialist_id'].replace(54, 4)\n",
    "features['specialist_id'] = features['specialist_id'].replace(72, 11)\n",
    "features['specialist_id'] = features['specialist_id'].replace(56, 18)\n",
    "features['specialist_id'] = features['specialist_id'].replace(10, 19)\n",
    "features['specialist_id'] = features['specialist_id'].replace(48, 22)\n",
    "features['specialist_id'] = features['specialist_id'].replace(9, 22)\n",
    "features['specialist_id'] = features['specialist_id'].replace(75, 26)\n",
    "features['specialist_id'] = features['specialist_id'].replace(65, 27)\n",
    "features['specialist_id'] = features['specialist_id'].replace(66, 27)\n",
    "features['specialist_id'] = features['specialist_id'].replace(53, 5)\n",
    "features['specialist_id'] = features['specialist_id'].replace(31, 17)\n",
    "features['specialist_id'] = features['specialist_id'].replace(24, 1)\n",
    "features['specialist_id'] = features['specialist_id'].replace(28, 22)"
   ]
  },
  {
   "cell_type": "code",
   "execution_count": 27,
   "id": "f59732e3-25dd-4c3c-a9f3-bb72810881ca",
   "metadata": {},
   "outputs": [
    {
     "data": {
      "text/plain": [
       "array([ 22,   1,   3,  18,   7,   4,   5,  19,   0,  17,  15,  26,  14,\n",
       "        20,  11,   8,  27,  12,  29,  32,  30,  21,  33,  36,  13,  38,\n",
       "        40,  39,  37,  42,  34,  23,  43,  47,  50,  58,  55,  49,  51,\n",
       "        63,  62,  67,  59,  61,  60,  68,  69,  70,  41,  73,  71,  74,\n",
       "        64,  92,  96,  99, 101, 102,  94,  93, 100,  82,  76,  79,  97,\n",
       "       103,  77, 116, 107,  81, 108])"
      ]
     },
     "execution_count": 27,
     "metadata": {},
     "output_type": "execute_result"
    }
   ],
   "source": [
    "features['specialist_id'].unique()"
   ]
  },
  {
   "cell_type": "markdown",
   "id": "fd77efa6-0a67-4723-a817-10c8d17a54d9",
   "metadata": {},
   "source": [
    "### Deduplicate using semhash"
   ]
  },
  {
   "cell_type": "code",
   "execution_count": 28,
   "id": "64446807-9583-4d1a-a633-ccce709d76e7",
   "metadata": {},
   "outputs": [],
   "source": [
    "from semhash import SemHash\n",
    "from model2vec import StaticModel\n",
    "\n",
    "m2v_model = StaticModel.from_pretrained('BookingCare/gte-multilingual-base-v2.1-m2v')"
   ]
  },
  {
   "cell_type": "code",
   "execution_count": 29,
   "id": "36d1fdf1-b8b1-45ec-91e4-c89b5d3c569f",
   "metadata": {},
   "outputs": [
    {
     "data": {
      "text/plain": [
       "(130926, 7)"
      ]
     },
     "execution_count": 29,
     "metadata": {},
     "output_type": "execute_result"
    }
   ],
   "source": [
    "features.shape"
   ]
  },
  {
   "cell_type": "code",
   "execution_count": 30,
   "id": "ba4c9602-9315-47d1-9a98-8c50a1fd3c67",
   "metadata": {},
   "outputs": [
    {
     "data": {
      "text/html": [
       "<div>\n",
       "<style scoped>\n",
       "    .dataframe tbody tr th:only-of-type {\n",
       "        vertical-align: middle;\n",
       "    }\n",
       "\n",
       "    .dataframe tbody tr th {\n",
       "        vertical-align: top;\n",
       "    }\n",
       "\n",
       "    .dataframe thead th {\n",
       "        text-align: right;\n",
       "    }\n",
       "</style>\n",
       "<table border=\"1\" class=\"dataframe\">\n",
       "  <thead>\n",
       "    <tr style=\"text-align: right;\">\n",
       "      <th></th>\n",
       "      <th>partner_id</th>\n",
       "      <th>specialist_id</th>\n",
       "      <th>status</th>\n",
       "      <th>gender</th>\n",
       "      <th>province_id</th>\n",
       "      <th>age</th>\n",
       "      <th>reason_combind</th>\n",
       "    </tr>\n",
       "  </thead>\n",
       "  <tbody>\n",
       "    <tr>\n",
       "      <th>0</th>\n",
       "      <td>2</td>\n",
       "      <td>22</td>\n",
       "      <td>2</td>\n",
       "      <td>NaN</td>\n",
       "      <td>1</td>\n",
       "      <td>38</td>\n",
       "      <td>khám tiêu hóa</td>\n",
       "    </tr>\n",
       "    <tr>\n",
       "      <th>1</th>\n",
       "      <td>2</td>\n",
       "      <td>1</td>\n",
       "      <td>2</td>\n",
       "      <td>NaN</td>\n",
       "      <td>1</td>\n",
       "      <td>29</td>\n",
       "      <td>đau lưng nhiều,ngồi lâu cứng lưng</td>\n",
       "    </tr>\n",
       "    <tr>\n",
       "      <th>2</th>\n",
       "      <td>4</td>\n",
       "      <td>3</td>\n",
       "      <td>2</td>\n",
       "      <td>NaN</td>\n",
       "      <td>40</td>\n",
       "      <td>29</td>\n",
       "      <td>hở van tim 3 lá,ngoại tâm thu</td>\n",
       "    </tr>\n",
       "    <tr>\n",
       "      <th>3</th>\n",
       "      <td>17</td>\n",
       "      <td>3</td>\n",
       "      <td>2</td>\n",
       "      <td>NaN</td>\n",
       "      <td>10</td>\n",
       "      <td>40</td>\n",
       "      <td>đau tức ngực bên trái,cảm giác hồi hộp</td>\n",
       "    </tr>\n",
       "    <tr>\n",
       "      <th>4</th>\n",
       "      <td>17</td>\n",
       "      <td>3</td>\n",
       "      <td>2</td>\n",
       "      <td>NaN</td>\n",
       "      <td>-1</td>\n",
       "      <td>70</td>\n",
       "      <td>cao huyết áp</td>\n",
       "    </tr>\n",
       "  </tbody>\n",
       "</table>\n",
       "</div>"
      ],
      "text/plain": [
       "   partner_id  specialist_id  status  gender  province_id  age  \\\n",
       "0           2             22       2     NaN            1   38   \n",
       "1           2              1       2     NaN            1   29   \n",
       "2           4              3       2     NaN           40   29   \n",
       "3          17              3       2     NaN           10   40   \n",
       "4          17              3       2     NaN           -1   70   \n",
       "\n",
       "                                  reason_combind  \n",
       "0                                khám tiêu hóa  \n",
       "1           đau lưng nhiều,ngồi lâu cứng lưng  \n",
       "2               hở van tim 3 lá,ngoại tâm thu  \n",
       "3  đau tức ngực bên trái,cảm giác hồi hộp  \n",
       "4                                 cao huyết áp  "
      ]
     },
     "execution_count": 30,
     "metadata": {},
     "output_type": "execute_result"
    }
   ],
   "source": [
    "features.head()"
   ]
  },
  {
   "cell_type": "code",
   "execution_count": 31,
   "id": "b41d44b7-05a5-4e57-8264-2e76e169b91d",
   "metadata": {},
   "outputs": [
    {
     "data": {
      "text/html": [
       "<div>\n",
       "<style scoped>\n",
       "    .dataframe tbody tr th:only-of-type {\n",
       "        vertical-align: middle;\n",
       "    }\n",
       "\n",
       "    .dataframe tbody tr th {\n",
       "        vertical-align: top;\n",
       "    }\n",
       "\n",
       "    .dataframe thead th {\n",
       "        text-align: right;\n",
       "    }\n",
       "</style>\n",
       "<table border=\"1\" class=\"dataframe\">\n",
       "  <thead>\n",
       "    <tr style=\"text-align: right;\">\n",
       "      <th></th>\n",
       "      <th>partner_id</th>\n",
       "      <th>specialist_id</th>\n",
       "      <th>status</th>\n",
       "      <th>gender</th>\n",
       "      <th>province_id</th>\n",
       "      <th>age</th>\n",
       "      <th>reason_combind</th>\n",
       "    </tr>\n",
       "  </thead>\n",
       "  <tbody>\n",
       "    <tr>\n",
       "      <th>0</th>\n",
       "      <td>2</td>\n",
       "      <td>22</td>\n",
       "      <td>2</td>\n",
       "      <td>NaN</td>\n",
       "      <td>1</td>\n",
       "      <td>38</td>\n",
       "      <td>khám tiêu hóa</td>\n",
       "    </tr>\n",
       "    <tr>\n",
       "      <th>1</th>\n",
       "      <td>2</td>\n",
       "      <td>1</td>\n",
       "      <td>2</td>\n",
       "      <td>NaN</td>\n",
       "      <td>1</td>\n",
       "      <td>29</td>\n",
       "      <td>đau lưng nhiều,ngồi lâu cứng lưng</td>\n",
       "    </tr>\n",
       "    <tr>\n",
       "      <th>2</th>\n",
       "      <td>4</td>\n",
       "      <td>3</td>\n",
       "      <td>2</td>\n",
       "      <td>NaN</td>\n",
       "      <td>40</td>\n",
       "      <td>29</td>\n",
       "      <td>hở van tim 3 lá,ngoại tâm thu</td>\n",
       "    </tr>\n",
       "    <tr>\n",
       "      <th>3</th>\n",
       "      <td>17</td>\n",
       "      <td>3</td>\n",
       "      <td>2</td>\n",
       "      <td>NaN</td>\n",
       "      <td>10</td>\n",
       "      <td>40</td>\n",
       "      <td>đau tức ngực bên trái,cảm giác hồi hộp</td>\n",
       "    </tr>\n",
       "    <tr>\n",
       "      <th>4</th>\n",
       "      <td>17</td>\n",
       "      <td>3</td>\n",
       "      <td>2</td>\n",
       "      <td>NaN</td>\n",
       "      <td>-1</td>\n",
       "      <td>70</td>\n",
       "      <td>cao huyết áp</td>\n",
       "    </tr>\n",
       "  </tbody>\n",
       "</table>\n",
       "</div>"
      ],
      "text/plain": [
       "   partner_id  specialist_id  status  gender  province_id  age  \\\n",
       "0           2             22       2     NaN            1   38   \n",
       "1           2              1       2     NaN            1   29   \n",
       "2           4              3       2     NaN           40   29   \n",
       "3          17              3       2     NaN           10   40   \n",
       "4          17              3       2     NaN           -1   70   \n",
       "\n",
       "                                  reason_combind  \n",
       "0                                khám tiêu hóa  \n",
       "1           đau lưng nhiều,ngồi lâu cứng lưng  \n",
       "2               hở van tim 3 lá,ngoại tâm thu  \n",
       "3  đau tức ngực bên trái,cảm giác hồi hộp  \n",
       "4                                 cao huyết áp  "
      ]
     },
     "execution_count": 31,
     "metadata": {},
     "output_type": "execute_result"
    }
   ],
   "source": [
    "selected_ids = [1, 3, 4, 5, 11, 15, 17, 18, 19, 21, 22, 26, 27, 29, 32, 43, 67]\n",
    "features = features[features['specialist_id'].isin(selected_ids)]\n",
    "features.shape\n",
    "features.head()"
   ]
  },
  {
   "cell_type": "markdown",
   "id": "324d4026-8f15-4785-ba17-4e52d41c7b1d",
   "metadata": {},
   "source": [
    "### Explore Data Analysis"
   ]
  },
  {
   "cell_type": "code",
   "execution_count": 32,
   "id": "6d094194-fb7e-48b0-8296-a1332201bdc2",
   "metadata": {},
   "outputs": [],
   "source": [
    "import matplotlib.pyplot as plt\n",
    "import seaborn as sns"
   ]
  },
  {
   "cell_type": "code",
   "execution_count": 33,
   "id": "8eafd5db-0294-4fee-aa83-39528b26f44a",
   "metadata": {},
   "outputs": [
    {
     "data": {
      "text/plain": [
       "<Axes: xlabel='specialist_id', ylabel='count'>"
      ]
     },
     "execution_count": 33,
     "metadata": {},
     "output_type": "execute_result"
    },
    {
     "data": {
      "image/png": "[encoded data removed]",
      "text/plain": [
       "<Figure size 2000x500 with 1 Axes>"
      ]
     },
     "metadata": {},
     "output_type": "display_data"
    }
   ],
   "source": [
    "fig, ax = plt.subplots(figsize=(20, 5))\n",
    "sns.set_theme(style=\"whitegrid\")\n",
    "sns.countplot(x=features['specialist_id'])"
   ]
  },
  {
   "cell_type": "code",
   "execution_count": 34,
   "id": "296c45ea-4fbe-4cf4-a49c-bf562f284b73",
   "metadata": {},
   "outputs": [
    {
     "data": {
      "text/plain": [
       "array([22,  1,  3, 18,  4,  5, 19, 17, 15, 26, 11, 27, 29, 32, 21, 43, 67])"
      ]
     },
     "execution_count": 34,
     "metadata": {},
     "output_type": "execute_result"
    }
   ],
   "source": [
    "features['specialist_id'].unique()"
   ]
  },
  {
   "cell_type": "code",
   "execution_count": 35,
   "id": "0954989d-d696-4997-895e-cda2fc2a3910",
   "metadata": {},
   "outputs": [
    {
     "data": {
      "text/plain": [
       "17"
      ]
     },
     "execution_count": 35,
     "metadata": {},
     "output_type": "execute_result"
    }
   ],
   "source": [
    "len(features['specialist_id'].unique())"
   ]
  },
  {
   "cell_type": "code",
   "execution_count": 36,
   "id": "14ae2e9e-101c-4ecb-a689-c304c756c475",
   "metadata": {},
   "outputs": [
    {
     "name": "stdout",
     "output_type": "stream",
     "text": [
      "number of samples per class: specialist_id\n",
      "1     24453\n",
      "22    13746\n",
      "18    13298\n",
      "11    11419\n",
      "4     11088\n",
      "17    10515\n",
      "27     8132\n",
      "26     6883\n",
      "3      6452\n",
      "19     4535\n",
      "29     3486\n",
      "32     2523\n",
      "15     2463\n",
      "5      2141\n",
      "21     2104\n",
      "43     1138\n",
      "67      701\n",
      "Name: count, dtype: int64\n"
     ]
    }
   ],
   "source": [
    "class_counts = features['specialist_id'].value_counts()\n",
    "print(f'number of samples per class: {class_counts}')"
   ]
  },
  {
   "cell_type": "code",
   "execution_count": 37,
   "id": "e79b41a4-ad18-4af1-8121-91fa933d20bb",
   "metadata": {},
   "outputs": [],
   "source": [
    "top_20_class = class_counts[:20]"
   ]
  },
  {
   "cell_type": "code",
   "execution_count": 38,
   "id": "93b8cc27-dce9-4238-9547-7122c5ab0fa7",
   "metadata": {},
   "outputs": [
    {
     "data": {
      "text/plain": [
       "specialist_id\n",
       "1     24453\n",
       "22    13746\n",
       "18    13298\n",
       "11    11419\n",
       "4     11088\n",
       "17    10515\n",
       "27     8132\n",
       "26     6883\n",
       "3      6452\n",
       "19     4535\n",
       "29     3486\n",
       "32     2523\n",
       "15     2463\n",
       "5      2141\n",
       "21     2104\n",
       "43     1138\n",
       "67      701\n",
       "Name: count, dtype: int64"
      ]
     },
     "execution_count": 38,
     "metadata": {},
     "output_type": "execute_result"
    }
   ],
   "source": [
    "top_20_class"
   ]
  },
  {
   "cell_type": "code",
   "execution_count": 39,
   "id": "f4ef1b82-9840-46fb-b124-9e75fe709e83",
   "metadata": {},
   "outputs": [
    {
     "data": {
      "text/plain": [
       "Index([1, 22, 18, 11, 4, 17, 27, 26, 3, 19, 29, 32, 15, 5, 21, 43, 67], dtype='int64', name='specialist_id')"
      ]
     },
     "execution_count": 39,
     "metadata": {},
     "output_type": "execute_result"
    }
   ],
   "source": [
    "top_20_class.keys()"
   ]
  },
  {
   "cell_type": "code",
   "execution_count": 40,
   "id": "616b0e18-985d-4fad-aec0-b334c7471e56",
   "metadata": {},
   "outputs": [
    {
     "data": {
      "text/plain": [
       "{'1': 'cơ xương khớp',\n",
       " '2': 'tư vấn xét nghiệm',\n",
       " '3': 'tim mạch',\n",
       " '4': 'tai mũi họng',\n",
       " '5': 'nhi khoa',\n",
       " '7': 'chụp cộng hưởng từ',\n",
       " '8': 'chụp cắt lớp vi tính',\n",
       " '9': 'nội soi tiêu hóa',\n",
       " '10': 'siêu âm thai',\n",
       " '11': 'da liễu',\n",
       " '12': 'hiếm muộn',\n",
       " '13': 'ngoại khoa',\n",
       " '14': 'fus-mri',\n",
       " '15': 'ung bướu',\n",
       " '17': 'nội khoa',\n",
       " '18': 'thần kinh',\n",
       " '19': 'sản phụ khoa',\n",
       " '20': 'chụp pet/ct',\n",
       " '21': 'tiểu đường - nội tiết',\n",
       " '22': 'tiêu hoá',\n",
       " '23': 'bác sĩ từ xa qua video',\n",
       " '24': 'cột sống',\n",
       " '25': 'khám chuyên gia',\n",
       " '26': 'nam học',\n",
       " '27': 'sức khỏe tâm thần',\n",
       " '28': 'bệnh viêm gan',\n",
       " '29': 'chuyên khoa mắt',\n",
       " '30': 'phục hồi chức năng',\n",
       " '31': 'khám tổng quát',\n",
       " '32': 'thận - tiết niệu',\n",
       " '33': 'nha khoa',\n",
       " '34': 'hô hấp',\n",
       " '35': 'khoa 1c - bệnh viện việt đức',\n",
       " '36': 'dị ứng miễn dịch',\n",
       " '37': 'bệnh viện da liễu hà nội',\n",
       " '38': 'phẫu thuật hàm mặt - tạo hình thẩm mỹ',\n",
       " '39': 'y học cổ truyền',\n",
       " '40': 'châm cứu',\n",
       " '41': 'bác sĩ gia đình',\n",
       " '42': 'tạo hình hàm mặt',\n",
       " '43': 'hô hấp - phổi',\n",
       " '44': 'bác sĩ da liễu từ xa',\n",
       " '45': 'sức khỏe tâm thần từ xa',\n",
       " '46': 'bác sĩ cơ-xương-khớp từ xa',\n",
       " '47': 'bác sĩ cột sống từ xa',\n",
       " '48': 'bác sĩ tiêu hóa từ xa',\n",
       " '49': 'bác sĩ nội khoa từ xa',\n",
       " '50': 'bác sĩ nam học từ xa',\n",
       " '51': 'bác sĩ sản phụ khoa từ xa',\n",
       " '52': 'bác sĩ tim mạch từ xa',\n",
       " '53': 'bác sĩ nhi từ xa',\n",
       " '54': 'bác sĩ tai-mũi-họng từ xa',\n",
       " '55': 'bác sĩ nội tiết từ xa',\n",
       " '56': 'bác sĩ thần kinh từ xa',\n",
       " '57': 'bác sĩ phục hồi chức năng từ xa',\n",
       " '58': 'bác sĩ thận - tiết niệu từ xa',\n",
       " '59': 'tại nhà',\n",
       " '60': 'tổng quát',\n",
       " '61': 'bác sĩ hô hấp - phổi từ xa',\n",
       " '62': 'bác sĩ mắt từ xa',\n",
       " '63': 'thương về miền trung',\n",
       " '64': 'gen',\n",
       " '65': 'tư vấn, trị liệu tâm lý từ xa',\n",
       " '66': 'tư vấn, trị liệu tâm lý',\n",
       " '67': 'vô sinh - hiếm muộn',\n",
       " '68': 'bác sĩ tư vấn f0',\n",
       " '69': 'covid',\n",
       " '70': 'hậu covid 19',\n",
       " '71': 'ngoại thần kinh',\n",
       " '72': 'da liễu thẩm mỹ',\n",
       " '73': 'chấn thương chỉnh hình',\n",
       " '74': 'truyền nhiễm',\n",
       " '75': 'nam',\n",
       " '76': 'nữ',\n",
       " '77': 'trẻ em',\n",
       " '78': 'người già',\n",
       " '79': 'tiền hôn nhân',\n",
       " '80': 'ung thư vú [thử nghiệm]',\n",
       " '81': 'cơ bản',\n",
       " '82': 'nâng cao',\n",
       " '83': 'tầm soát ung thư',\n",
       " '84': 'tầm soát ung thư vú',\n",
       " '85': 'tầm soát ung thư cổ tử cung',\n",
       " '86': 'tầm soát u buồng trứng',\n",
       " '87': 'tầm soát ung thư gan',\n",
       " '88': 'tầm soát ung thư phổi',\n",
       " '89': 'tầm soát ung thư tiêu hóa',\n",
       " '90': 'tầm soát tiêu hóa',\n",
       " '91': 'bệnh lý chung',\n",
       " '92': 'xét nghiệm y học',\n",
       " '93': 'ung thư',\n",
       " '94': 'nipt',\n",
       " '95': 'dị ứng',\n",
       " '96': 'gan',\n",
       " '97': 'cúm và sốt',\n",
       " '98': 'phẫu thuật thận - tiết niệu',\n",
       " '99': 'phẫu thuật nam học',\n",
       " '100': 'phẫu thuật tai - mũi - họng',\n",
       " '101': 'phẫu thuật hậu môn - trực tràng',\n",
       " '102': 'phẫu thuật mắt',\n",
       " '103': 'gói khám vip',\n",
       " '104': 'gói khám doanh nghiệp',\n",
       " '105': 'niềng răng',\n",
       " '106': 'bọc răng sứ',\n",
       " '107': 'trồng răng implant',\n",
       " '108': 'nhổ răng khôn',\n",
       " '109': 'nha khoa tổng quát',\n",
       " '110': 'nha khoa trẻ em',\n",
       " '112': 'thủ thuật suy giãn tĩnh mạch',\n",
       " '113': 'thử nghiệm',\n",
       " '114': 'dental',\n",
       " '115': 'xét nghiệm tại nhà',\n",
       " '116': 'tuyến giáp',\n",
       " '117': 'sốt xuất huyết',\n",
       " '118': 'chuyên khoa vú',\n",
       " '119': 'ngoại khoa',\n",
       " '120': 'phẫu thuật tuyến giáp'}"
      ]
     },
     "execution_count": 40,
     "metadata": {},
     "output_type": "execute_result"
    }
   ],
   "source": [
    "import json\n",
    "\n",
    "specialist_map = json.load(open('../data/specialist.json', 'r'))\n",
    "specialist_map"
   ]
  },
  {
   "cell_type": "code",
   "execution_count": 41,
   "id": "114220a9-b1a8-4195-b2b8-b7e2e72330fd",
   "metadata": {},
   "outputs": [],
   "source": [
    "top_20_class_df = top_20_class.reset_index()"
   ]
  },
  {
   "cell_type": "code",
   "execution_count": 42,
   "id": "a59e1977-58e9-4128-91af-0660b8a09e4d",
   "metadata": {},
   "outputs": [],
   "source": [
    "top_20_class_df['specialist_name'] = top_20_class_df['specialist_id'].astype(str).map(specialist_map)"
   ]
  },
  {
   "cell_type": "code",
   "execution_count": 43,
   "id": "afc6b7b0-0d48-4228-8e88-8275d2fb6b2c",
   "metadata": {},
   "outputs": [
    {
     "data": {
      "text/html": [
       "<div>\n",
       "<style scoped>\n",
       "    .dataframe tbody tr th:only-of-type {\n",
       "        vertical-align: middle;\n",
       "    }\n",
       "\n",
       "    .dataframe tbody tr th {\n",
       "        vertical-align: top;\n",
       "    }\n",
       "\n",
       "    .dataframe thead th {\n",
       "        text-align: right;\n",
       "    }\n",
       "</style>\n",
       "<table border=\"1\" class=\"dataframe\">\n",
       "  <thead>\n",
       "    <tr style=\"text-align: right;\">\n",
       "      <th></th>\n",
       "      <th>specialist_id</th>\n",
       "      <th>count</th>\n",
       "      <th>specialist_name</th>\n",
       "    </tr>\n",
       "  </thead>\n",
       "  <tbody>\n",
       "    <tr>\n",
       "      <th>0</th>\n",
       "      <td>1</td>\n",
       "      <td>24453</td>\n",
       "      <td>cơ xương khớp</td>\n",
       "    </tr>\n",
       "    <tr>\n",
       "      <th>1</th>\n",
       "      <td>22</td>\n",
       "      <td>13746</td>\n",
       "      <td>tiêu hoá</td>\n",
       "    </tr>\n",
       "    <tr>\n",
       "      <th>2</th>\n",
       "      <td>18</td>\n",
       "      <td>13298</td>\n",
       "      <td>thần kinh</td>\n",
       "    </tr>\n",
       "    <tr>\n",
       "      <th>3</th>\n",
       "      <td>11</td>\n",
       "      <td>11419</td>\n",
       "      <td>da liễu</td>\n",
       "    </tr>\n",
       "    <tr>\n",
       "      <th>4</th>\n",
       "      <td>4</td>\n",
       "      <td>11088</td>\n",
       "      <td>tai mũi họng</td>\n",
       "    </tr>\n",
       "    <tr>\n",
       "      <th>5</th>\n",
       "      <td>17</td>\n",
       "      <td>10515</td>\n",
       "      <td>nội khoa</td>\n",
       "    </tr>\n",
       "    <tr>\n",
       "      <th>6</th>\n",
       "      <td>27</td>\n",
       "      <td>8132</td>\n",
       "      <td>sức khỏe tâm thần</td>\n",
       "    </tr>\n",
       "    <tr>\n",
       "      <th>7</th>\n",
       "      <td>26</td>\n",
       "      <td>6883</td>\n",
       "      <td>nam học</td>\n",
       "    </tr>\n",
       "    <tr>\n",
       "      <th>8</th>\n",
       "      <td>3</td>\n",
       "      <td>6452</td>\n",
       "      <td>tim mạch</td>\n",
       "    </tr>\n",
       "    <tr>\n",
       "      <th>9</th>\n",
       "      <td>19</td>\n",
       "      <td>4535</td>\n",
       "      <td>sản phụ khoa</td>\n",
       "    </tr>\n",
       "    <tr>\n",
       "      <th>10</th>\n",
       "      <td>29</td>\n",
       "      <td>3486</td>\n",
       "      <td>chuyên khoa mắt</td>\n",
       "    </tr>\n",
       "    <tr>\n",
       "      <th>11</th>\n",
       "      <td>32</td>\n",
       "      <td>2523</td>\n",
       "      <td>thận - tiết niệu</td>\n",
       "    </tr>\n",
       "    <tr>\n",
       "      <th>12</th>\n",
       "      <td>15</td>\n",
       "      <td>2463</td>\n",
       "      <td>ung bướu</td>\n",
       "    </tr>\n",
       "    <tr>\n",
       "      <th>13</th>\n",
       "      <td>5</td>\n",
       "      <td>2141</td>\n",
       "      <td>nhi khoa</td>\n",
       "    </tr>\n",
       "    <tr>\n",
       "      <th>14</th>\n",
       "      <td>21</td>\n",
       "      <td>2104</td>\n",
       "      <td>tiểu đường - nội tiết</td>\n",
       "    </tr>\n",
       "    <tr>\n",
       "      <th>15</th>\n",
       "      <td>43</td>\n",
       "      <td>1138</td>\n",
       "      <td>hô hấp - phổi</td>\n",
       "    </tr>\n",
       "    <tr>\n",
       "      <th>16</th>\n",
       "      <td>67</td>\n",
       "      <td>701</td>\n",
       "      <td>vô sinh - hiếm muộn</td>\n",
       "    </tr>\n",
       "  </tbody>\n",
       "</table>\n",
       "</div>"
      ],
      "text/plain": [
       "    specialist_id  count        specialist_name\n",
       "0               1  24453          cơ xương khớp\n",
       "1              22  13746               tiêu hoá\n",
       "2              18  13298              thần kinh\n",
       "3              11  11419                da liễu\n",
       "4               4  11088           tai mũi họng\n",
       "5              17  10515               nội khoa\n",
       "6              27   8132      sức khỏe tâm thần\n",
       "7              26   6883                nam học\n",
       "8               3   6452               tim mạch\n",
       "9              19   4535           sản phụ khoa\n",
       "10             29   3486        chuyên khoa mắt\n",
       "11             32   2523       thận - tiết niệu\n",
       "12             15   2463               ung bướu\n",
       "13              5   2141               nhi khoa\n",
       "14             21   2104  tiểu đường - nội tiết\n",
       "15             43   1138          hô hấp - phổi\n",
       "16             67    701    vô sinh - hiếm muộn"
      ]
     },
     "execution_count": 43,
     "metadata": {},
     "output_type": "execute_result"
    }
   ],
   "source": [
    "top_20_class_df"
   ]
  },
  {
   "cell_type": "code",
   "execution_count": 44,
   "id": "9a63ff1c-3910-46ac-a4ae-5ef9c1ba66b0",
   "metadata": {},
   "outputs": [],
   "source": [
    "id_name = top_20_class_df[['specialist_id', 'specialist_name']].set_index('specialist_name')['specialist_id'].to_dict()"
   ]
  },
  {
   "cell_type": "code",
   "execution_count": 45,
   "id": "32ab7afc-9ce3-40b5-879f-2ffe192fd650",
   "metadata": {},
   "outputs": [
    {
     "data": {
      "text/plain": [
       "{'cơ xương khớp': 1,\n",
       " 'tiêu hoá': 22,\n",
       " 'thần kinh': 18,\n",
       " 'da liễu': 11,\n",
       " 'tai mũi họng': 4,\n",
       " 'nội khoa': 17,\n",
       " 'sức khỏe tâm thần': 27,\n",
       " 'nam học': 26,\n",
       " 'tim mạch': 3,\n",
       " 'sản phụ khoa': 19,\n",
       " 'chuyên khoa mắt': 29,\n",
       " 'thận - tiết niệu': 32,\n",
       " 'ung bướu': 15,\n",
       " 'nhi khoa': 5,\n",
       " 'tiểu đường - nội tiết': 21,\n",
       " 'hô hấp - phổi': 43,\n",
       " 'vô sinh - hiếm muộn': 67}"
      ]
     },
     "execution_count": 45,
     "metadata": {},
     "output_type": "execute_result"
    }
   ],
   "source": [
    "id_name"
   ]
  },
  {
   "cell_type": "code",
   "execution_count": 46,
   "id": "bc02693e-8be8-45c5-8ab6-89c193b6111d",
   "metadata": {},
   "outputs": [
    {
     "data": {
      "text/plain": [
       "17"
      ]
     },
     "execution_count": 46,
     "metadata": {},
     "output_type": "execute_result"
    }
   ],
   "source": [
    "len(id_name)"
   ]
  },
  {
   "cell_type": "code",
   "execution_count": 47,
   "id": "86baa5fe-f529-42fa-b42d-19fa587241c7",
   "metadata": {},
   "outputs": [
    {
     "data": {
      "text/plain": [
       "0             cơ xương khớp\n",
       "1                  tiêu hoá\n",
       "2                 thần kinh\n",
       "3                   da liễu\n",
       "4              tai mũi họng\n",
       "5                  nội khoa\n",
       "6         sức khỏe tâm thần\n",
       "7                   nam học\n",
       "8                  tim mạch\n",
       "9              sản phụ khoa\n",
       "10          chuyên khoa mắt\n",
       "11         thận - tiết niệu\n",
       "12                 ung bướu\n",
       "13                 nhi khoa\n",
       "14    tiểu đường - nội tiết\n",
       "15            hô hấp - phổi\n",
       "16      vô sinh - hiếm muộn\n",
       "Name: specialist_name, dtype: object"
      ]
     },
     "execution_count": 47,
     "metadata": {},
     "output_type": "execute_result"
    }
   ],
   "source": [
    "top_20_class_df.specialist_name"
   ]
  },
  {
   "cell_type": "code",
   "execution_count": 48,
   "id": "38546a8e-5c5b-47a7-af1b-aa41a4aa8904",
   "metadata": {},
   "outputs": [
    {
     "name": "stdout",
     "output_type": "stream",
     "text": [
      "Total schedule over top 10 specialist: 125077\n"
     ]
    }
   ],
   "source": [
    "total_schedule_over_top_20_specialist = top_20_class_df['count'].sum()\n",
    "print(f\"Total schedule over top 10 specialist: {total_schedule_over_top_20_specialist}\")"
   ]
  },
  {
   "cell_type": "code",
   "execution_count": 49,
   "id": "02b6cacc-6889-46e6-ac2a-65c94cf0a2aa",
   "metadata": {},
   "outputs": [
    {
     "data": {
      "image/png": "[encoded data removed]",
      "text/plain": [
       "<Figure size 2000x500 with 1 Axes>"
      ]
     },
     "metadata": {},
     "output_type": "display_data"
    }
   ],
   "source": [
    "fig, ax = plt.subplots(figsize=(20, 5))\n",
    "\n",
    "sns.set_theme(style=\"whitegrid\")\n",
    "sns.barplot(x=\"specialist_name\", y=\"count\", data=top_20_class_df, palette=\"viridis\", hue=\"count\")\n",
    "plt.xticks(rotation=45, ha='right')\n",
    "\n",
    "plt.xlabel('Specialist Name')\n",
    "plt.ylabel('Count')\n",
    "plt.title('Specialist Distribution')\n",
    "\n",
    "plt.show()"
   ]
  },
  {
   "cell_type": "code",
   "execution_count": 50,
   "id": "821584dc-9f12-41b1-8c26-1a8712ae0d22",
   "metadata": {},
   "outputs": [
    {
     "name": "stdout",
     "output_type": "stream",
     "text": [
      "Average schedule over specialist:  6253.85\n"
     ]
    }
   ],
   "source": [
    "average_schedule_over_specialist = total_schedule_over_top_20_specialist / 20\n",
    "\n",
    "print(f\"Average schedule over specialist: {average_schedule_over_specialist: .2f}\")"
   ]
  },
  {
   "cell_type": "code",
   "execution_count": 51,
   "id": "da36a59c-c810-48f0-8de4-02d74890572a",
   "metadata": {},
   "outputs": [
    {
     "data": {
      "image/png": "[encoded data removed]",
      "text/plain": [
       "<Figure size 2000x500 with 1 Axes>"
      ]
     },
     "metadata": {},
     "output_type": "display_data"
    }
   ],
   "source": [
    "fig, ax = plt.subplots(figsize=(20, 5))\n",
    "\n",
    "sns.set_theme(style=\"whitegrid\")\n",
    "sns.barplot(x=\"specialist_name\", y=\"count\", data=top_20_class_df, palette=\"viridis\", hue=\"count\")\n",
    "plt.xticks(rotation=45, ha='right')\n",
    "\n",
    "plt.axhline(average_schedule_over_specialist, color='red', linestyle=\"dashed\", linewidth=2, label=f\"Avg: {average_schedule_over_specialist:.2f}\")\n",
    "\n",
    "plt.xlabel('Specialist Name')\n",
    "plt.ylabel('Count')\n",
    "plt.title('Specialist Distribution')\n",
    "\n",
    "plt.show()"
   ]
  },
  {
   "cell_type": "code",
   "execution_count": 52,
   "id": "7385f508-5380-4edd-98e9-a20e86cbb039",
   "metadata": {},
   "outputs": [],
   "source": [
    "# unwanted_specialists = ['bệnh viêm gan']\n",
    "\n",
    "# specialist_labels = top_20_class_df[~top_20_class_df[\"specialist_name\"].isin(unwanted_specialists)]"
   ]
  },
  {
   "cell_type": "code",
   "execution_count": 53,
   "id": "e1009f1c-ff89-4528-8a81-4f2cd7f2e67c",
   "metadata": {},
   "outputs": [
    {
     "data": {
      "text/html": [
       "<div>\n",
       "<style scoped>\n",
       "    .dataframe tbody tr th:only-of-type {\n",
       "        vertical-align: middle;\n",
       "    }\n",
       "\n",
       "    .dataframe tbody tr th {\n",
       "        vertical-align: top;\n",
       "    }\n",
       "\n",
       "    .dataframe thead th {\n",
       "        text-align: right;\n",
       "    }\n",
       "</style>\n",
       "<table border=\"1\" class=\"dataframe\">\n",
       "  <thead>\n",
       "    <tr style=\"text-align: right;\">\n",
       "      <th></th>\n",
       "      <th>specialist_id</th>\n",
       "      <th>count</th>\n",
       "      <th>specialist_name</th>\n",
       "    </tr>\n",
       "  </thead>\n",
       "  <tbody>\n",
       "    <tr>\n",
       "      <th>0</th>\n",
       "      <td>1</td>\n",
       "      <td>24453</td>\n",
       "      <td>cơ xương khớp</td>\n",
       "    </tr>\n",
       "    <tr>\n",
       "      <th>1</th>\n",
       "      <td>22</td>\n",
       "      <td>13746</td>\n",
       "      <td>tiêu hoá</td>\n",
       "    </tr>\n",
       "    <tr>\n",
       "      <th>2</th>\n",
       "      <td>18</td>\n",
       "      <td>13298</td>\n",
       "      <td>thần kinh</td>\n",
       "    </tr>\n",
       "    <tr>\n",
       "      <th>3</th>\n",
       "      <td>11</td>\n",
       "      <td>11419</td>\n",
       "      <td>da liễu</td>\n",
       "    </tr>\n",
       "    <tr>\n",
       "      <th>4</th>\n",
       "      <td>4</td>\n",
       "      <td>11088</td>\n",
       "      <td>tai mũi họng</td>\n",
       "    </tr>\n",
       "    <tr>\n",
       "      <th>5</th>\n",
       "      <td>17</td>\n",
       "      <td>10515</td>\n",
       "      <td>nội khoa</td>\n",
       "    </tr>\n",
       "    <tr>\n",
       "      <th>6</th>\n",
       "      <td>27</td>\n",
       "      <td>8132</td>\n",
       "      <td>sức khỏe tâm thần</td>\n",
       "    </tr>\n",
       "    <tr>\n",
       "      <th>7</th>\n",
       "      <td>26</td>\n",
       "      <td>6883</td>\n",
       "      <td>nam học</td>\n",
       "    </tr>\n",
       "    <tr>\n",
       "      <th>8</th>\n",
       "      <td>3</td>\n",
       "      <td>6452</td>\n",
       "      <td>tim mạch</td>\n",
       "    </tr>\n",
       "    <tr>\n",
       "      <th>9</th>\n",
       "      <td>19</td>\n",
       "      <td>4535</td>\n",
       "      <td>sản phụ khoa</td>\n",
       "    </tr>\n",
       "    <tr>\n",
       "      <th>10</th>\n",
       "      <td>29</td>\n",
       "      <td>3486</td>\n",
       "      <td>chuyên khoa mắt</td>\n",
       "    </tr>\n",
       "    <tr>\n",
       "      <th>11</th>\n",
       "      <td>32</td>\n",
       "      <td>2523</td>\n",
       "      <td>thận - tiết niệu</td>\n",
       "    </tr>\n",
       "    <tr>\n",
       "      <th>12</th>\n",
       "      <td>15</td>\n",
       "      <td>2463</td>\n",
       "      <td>ung bướu</td>\n",
       "    </tr>\n",
       "    <tr>\n",
       "      <th>13</th>\n",
       "      <td>5</td>\n",
       "      <td>2141</td>\n",
       "      <td>nhi khoa</td>\n",
       "    </tr>\n",
       "    <tr>\n",
       "      <th>14</th>\n",
       "      <td>21</td>\n",
       "      <td>2104</td>\n",
       "      <td>tiểu đường - nội tiết</td>\n",
       "    </tr>\n",
       "    <tr>\n",
       "      <th>15</th>\n",
       "      <td>43</td>\n",
       "      <td>1138</td>\n",
       "      <td>hô hấp - phổi</td>\n",
       "    </tr>\n",
       "    <tr>\n",
       "      <th>16</th>\n",
       "      <td>67</td>\n",
       "      <td>701</td>\n",
       "      <td>vô sinh - hiếm muộn</td>\n",
       "    </tr>\n",
       "  </tbody>\n",
       "</table>\n",
       "</div>"
      ],
      "text/plain": [
       "    specialist_id  count        specialist_name\n",
       "0               1  24453          cơ xương khớp\n",
       "1              22  13746               tiêu hoá\n",
       "2              18  13298              thần kinh\n",
       "3              11  11419                da liễu\n",
       "4               4  11088           tai mũi họng\n",
       "5              17  10515               nội khoa\n",
       "6              27   8132      sức khỏe tâm thần\n",
       "7              26   6883                nam học\n",
       "8               3   6452               tim mạch\n",
       "9              19   4535           sản phụ khoa\n",
       "10             29   3486        chuyên khoa mắt\n",
       "11             32   2523       thận - tiết niệu\n",
       "12             15   2463               ung bướu\n",
       "13              5   2141               nhi khoa\n",
       "14             21   2104  tiểu đường - nội tiết\n",
       "15             43   1138          hô hấp - phổi\n",
       "16             67    701    vô sinh - hiếm muộn"
      ]
     },
     "execution_count": 53,
     "metadata": {},
     "output_type": "execute_result"
    }
   ],
   "source": [
    "specialist_labels = top_20_class_df\n",
    "specialist_labels"
   ]
  },
  {
   "cell_type": "code",
   "execution_count": 54,
   "id": "9c111d3c-4dcc-47cc-b1af-046f846fe72e",
   "metadata": {},
   "outputs": [],
   "source": [
    "specialist_labels.to_csv('../data/specialist_labels.csv')"
   ]
  },
  {
   "cell_type": "code",
   "execution_count": 55,
   "id": "b0d1f22d-56f6-4f6c-8d30-f7af7b6140e0",
   "metadata": {},
   "outputs": [],
   "source": [
    "specialist_id = specialist_labels.specialist_id"
   ]
  },
  {
   "cell_type": "code",
   "execution_count": 56,
   "id": "9a7a8fb5-ad3b-4db7-ab38-81cce97634c9",
   "metadata": {},
   "outputs": [
    {
     "data": {
      "text/plain": [
       "0      1\n",
       "1     22\n",
       "2     18\n",
       "3     11\n",
       "4      4\n",
       "5     17\n",
       "6     27\n",
       "7     26\n",
       "8      3\n",
       "9     19\n",
       "10    29\n",
       "11    32\n",
       "12    15\n",
       "13     5\n",
       "14    21\n",
       "15    43\n",
       "16    67\n",
       "Name: specialist_id, dtype: int64"
      ]
     },
     "execution_count": 56,
     "metadata": {},
     "output_type": "execute_result"
    }
   ],
   "source": [
    "specialist_id"
   ]
  },
  {
   "cell_type": "code",
   "execution_count": 57,
   "id": "5d34ca2b-0fac-4450-b437-2f527c68ccfa",
   "metadata": {},
   "outputs": [
    {
     "data": {
      "text/plain": [
       "array([22,  1,  3, 18,  4,  5, 19, 17, 15, 26, 11, 27, 29, 32, 21, 43, 67])"
      ]
     },
     "execution_count": 57,
     "metadata": {},
     "output_type": "execute_result"
    }
   ],
   "source": [
    "features['specialist_id'].unique()"
   ]
  },
  {
   "cell_type": "code",
   "execution_count": 58,
   "id": "b4267c0a-616e-4b51-904f-019cf2539c4a",
   "metadata": {},
   "outputs": [],
   "source": [
    "features = features[features['specialist_id'].isin(specialist_id)]"
   ]
  },
  {
   "cell_type": "code",
   "execution_count": 59,
   "id": "df4c81e4-8a0b-45ec-ad5f-d42f63441d72",
   "metadata": {},
   "outputs": [
    {
     "data": {
      "text/plain": [
       "(125077, 7)"
      ]
     },
     "execution_count": 59,
     "metadata": {},
     "output_type": "execute_result"
    }
   ],
   "source": [
    "features.shape"
   ]
  },
  {
   "cell_type": "code",
   "execution_count": 60,
   "id": "7cc8e629-79fc-49cb-8e30-517fbc84cd43",
   "metadata": {},
   "outputs": [
    {
     "data": {
      "text/html": [
       "<div>\n",
       "<style scoped>\n",
       "    .dataframe tbody tr th:only-of-type {\n",
       "        vertical-align: middle;\n",
       "    }\n",
       "\n",
       "    .dataframe tbody tr th {\n",
       "        vertical-align: top;\n",
       "    }\n",
       "\n",
       "    .dataframe thead th {\n",
       "        text-align: right;\n",
       "    }\n",
       "</style>\n",
       "<table border=\"1\" class=\"dataframe\">\n",
       "  <thead>\n",
       "    <tr style=\"text-align: right;\">\n",
       "      <th></th>\n",
       "      <th>partner_id</th>\n",
       "      <th>specialist_id</th>\n",
       "      <th>status</th>\n",
       "      <th>gender</th>\n",
       "      <th>province_id</th>\n",
       "      <th>age</th>\n",
       "      <th>reason_combind</th>\n",
       "    </tr>\n",
       "  </thead>\n",
       "  <tbody>\n",
       "    <tr>\n",
       "      <th>0</th>\n",
       "      <td>2</td>\n",
       "      <td>22</td>\n",
       "      <td>2</td>\n",
       "      <td>NaN</td>\n",
       "      <td>1</td>\n",
       "      <td>38</td>\n",
       "      <td>khám tiêu hóa</td>\n",
       "    </tr>\n",
       "    <tr>\n",
       "      <th>1</th>\n",
       "      <td>2</td>\n",
       "      <td>1</td>\n",
       "      <td>2</td>\n",
       "      <td>NaN</td>\n",
       "      <td>1</td>\n",
       "      <td>29</td>\n",
       "      <td>đau lưng nhiều,ngồi lâu cứng lưng</td>\n",
       "    </tr>\n",
       "    <tr>\n",
       "      <th>2</th>\n",
       "      <td>4</td>\n",
       "      <td>3</td>\n",
       "      <td>2</td>\n",
       "      <td>NaN</td>\n",
       "      <td>40</td>\n",
       "      <td>29</td>\n",
       "      <td>hở van tim 3 lá,ngoại tâm thu</td>\n",
       "    </tr>\n",
       "    <tr>\n",
       "      <th>3</th>\n",
       "      <td>17</td>\n",
       "      <td>3</td>\n",
       "      <td>2</td>\n",
       "      <td>NaN</td>\n",
       "      <td>10</td>\n",
       "      <td>40</td>\n",
       "      <td>đau tức ngực bên trái,cảm giác hồi hộp</td>\n",
       "    </tr>\n",
       "    <tr>\n",
       "      <th>4</th>\n",
       "      <td>17</td>\n",
       "      <td>3</td>\n",
       "      <td>2</td>\n",
       "      <td>NaN</td>\n",
       "      <td>-1</td>\n",
       "      <td>70</td>\n",
       "      <td>cao huyết áp</td>\n",
       "    </tr>\n",
       "  </tbody>\n",
       "</table>\n",
       "</div>"
      ],
      "text/plain": [
       "   partner_id  specialist_id  status  gender  province_id  age  \\\n",
       "0           2             22       2     NaN            1   38   \n",
       "1           2              1       2     NaN            1   29   \n",
       "2           4              3       2     NaN           40   29   \n",
       "3          17              3       2     NaN           10   40   \n",
       "4          17              3       2     NaN           -1   70   \n",
       "\n",
       "                                  reason_combind  \n",
       "0                                khám tiêu hóa  \n",
       "1           đau lưng nhiều,ngồi lâu cứng lưng  \n",
       "2               hở van tim 3 lá,ngoại tâm thu  \n",
       "3  đau tức ngực bên trái,cảm giác hồi hộp  \n",
       "4                                 cao huyết áp  "
      ]
     },
     "execution_count": 60,
     "metadata": {},
     "output_type": "execute_result"
    }
   ],
   "source": [
    "features.head()"
   ]
  },
  {
   "cell_type": "code",
   "execution_count": 61,
   "id": "e197a9eb-3570-4315-989e-e8f106fd4cc3",
   "metadata": {},
   "outputs": [],
   "source": [
    "features['specialist_name'] = features['specialist_id'].astype(str).map(specialist_map)"
   ]
  },
  {
   "cell_type": "code",
   "execution_count": 62,
   "id": "d09344ac-e16d-4911-bdac-8bc47a5117ba",
   "metadata": {},
   "outputs": [],
   "source": [
    "features.to_csv('../data/dataset.csv')"
   ]
  },
  {
   "cell_type": "code",
   "execution_count": 63,
   "id": "95fd86a1-6bfb-41a8-b5c8-b67608be4356",
   "metadata": {},
   "outputs": [
    {
     "data": {
      "text/plain": [
       "(125077, 8)"
      ]
     },
     "execution_count": 63,
     "metadata": {},
     "output_type": "execute_result"
    }
   ],
   "source": [
    "features.shape"
   ]
  },
  {
   "cell_type": "markdown",
   "id": "40123564-172b-4472-9c75-fc12bff83dd4",
   "metadata": {},
   "source": [
    "### Analysis of reasons for examination by specialties"
   ]
  },
  {
   "cell_type": "code",
   "execution_count": 63,
   "id": "aa2d4161-fa0b-4383-9d67-e9b7f1dad592",
   "metadata": {},
   "outputs": [
    {
     "name": "stdout",
     "output_type": "stream",
     "text": [
      "Total records for Cơ xương khớp specialty: 24453\n"
     ]
    },
    {
     "name": "stderr",
     "output_type": "stream",
     "text": [
      "/tmp/ipykernel_11140/1710047501.py:8: FutureWarning: \n",
      "\n",
      "Passing `palette` without assigning `hue` is deprecated and will be removed in v0.14.0. Assign the `y` variable to `hue` and set `legend=False` for the same effect.\n",
      "\n",
      "  sns.barplot(x=top_reasons.values, y=top_reasons.index, palette=\"viridis\")\n"
     ]
    },
    {
     "data": {
      "image/png": "[encoded data removed]",
      "text/plain": [
       "<Figure size 1600x800 with 1 Axes>"
      ]
     },
     "metadata": {},
     "output_type": "display_data"
    },
    {
     "name": "stdout",
     "output_type": "stream",
     "text": [
      "\n",
      "Sample reasons for Cơ xương khớp examination:\n",
      "['đau đốt sống cổ, ngực, thắt lưng và khửu tay.' 'đau khuỷu tay'\n",
      " 'đau hông' 'đau chân' 'khớp khối thoái hóa' 'đau chân'\n",
      " 'viêm khớp cùng chậu' 'u xơ mỏ cẳng chân' 'khám gối' 'bị trật chân']\n"
     ]
    }
   ],
   "source": [
    "# Create a dataframe for \"Cơ xương khớp\" specialty (specialist_id = 1)\n",
    "co_xuong_khop_df = features[features['specialist_id'] == 1]\n",
    "print(f\"Total records for Cơ xương khớp specialty: {len(co_xuong_khop_df)}\")\n",
    "\n",
    "# Show the top 20 most common reasons\n",
    "plt.figure(figsize=(16, 8))\n",
    "top_reasons = co_xuong_khop_df['reason_combind'].value_counts().head(20)\n",
    "sns.barplot(x=top_reasons.values, y=top_reasons.index, palette=\"viridis\")\n",
    "plt.title('Top 20 Reasons for Cơ xương khớp (Musculoskeletal) Examination')\n",
    "plt.xlabel('Count')\n",
    "plt.ylabel('Reason')\n",
    "plt.tight_layout()\n",
    "plt.show()\n",
    "\n",
    "# Looking at some sample reasons\n",
    "print(\"\\nSample reasons for Cơ xương khớp examination:\")\n",
    "print(co_xuong_khop_df['reason_combind'].sample(10).values)\n",
    "\n",
    "# Save to CSV for further analysis\n",
    "co_xuong_khop_df.to_csv('../data/co_xuong_khop_data.csv')"
   ]
  },
  {
   "cell_type": "code",
   "execution_count": 64,
   "id": "f8806bf9-a958-4545-9c0b-e7989e7248ae",
   "metadata": {},
   "outputs": [
    {
     "name": "stdout",
     "output_type": "stream",
     "text": [
      "Sum of top 20 most common reasons: 4024\n",
      "Total number of records: 24453\n",
      "Percentage of records covered by top 20 reasons: 16.46%\n"
     ]
    }
   ],
   "source": [
    "# Calculate the sum count of top 20 most common reasons in co_xuong_khop_df\n",
    "top_20_reasons_count = co_xuong_khop_df['reason_combind'].value_counts().head(20).sum()\n",
    "total_reasons_count = len(co_xuong_khop_df)\n",
    "percentage = (top_20_reasons_count / total_reasons_count) * 100\n",
    "\n",
    "print(f\"Sum of top 20 most common reasons: {top_20_reasons_count}\")\n",
    "print(f\"Total number of records: {total_reasons_count}\")\n",
    "print(f\"Percentage of records covered by top 20 reasons: {percentage:.2f}%\")"
   ]
  },
  {
   "cell_type": "code",
   "execution_count": 65,
   "id": "115c823c-78f9-4ad2-9277-6f7e8e5ab182",
   "metadata": {},
   "outputs": [
    {
     "name": "stdout",
     "output_type": "stream",
     "text": [
      "Number of unique reasons in top 1000: 1000\n",
      "Total records covered by top 1000 reasons: 9486\n",
      "Percentage of all records covered: 38.79%\n",
      "\n",
      "Top 10 most common reasons:\n",
      "reason_combind\n",
      "đau lưng            803\n",
      "đau khớp gối        403\n",
      "đau chân            277\n",
      "đau cột sống        276\n",
      "thoát vị đĩa đệm    271\n",
      "đau đầu gối         262\n",
      "khám cột sống       222\n",
      "khám lại            176\n",
      "đau xương khớp      170\n",
      "khám xương khớp     157\n",
      "Name: count, dtype: int64\n"
     ]
    }
   ],
   "source": [
    "# Get the top 1000 reasons for examination in cơ xương khớp specialty\n",
    "top_1000_reasons = co_xuong_khop_df['reason_combind'].value_counts().head(1000)\n",
    "\n",
    "# Calculate statistics about these top 1000 reasons\n",
    "top_1000_count = top_1000_reasons.sum()\n",
    "total_count = len(co_xuong_khop_df)\n",
    "coverage_percentage = (top_1000_count / total_count) * 100\n",
    "\n",
    "print(f\"Number of unique reasons in top 1000: {len(top_1000_reasons)}\")\n",
    "print(f\"Total records covered by top 1000 reasons: {top_1000_count}\")\n",
    "print(f\"Percentage of all records covered: {coverage_percentage:.2f}%\")\n",
    "\n",
    "# Sample view of top reasons\n",
    "print(\"\\nTop 10 most common reasons:\")\n",
    "print(top_1000_reasons.head(10))\n",
    "\n",
    "# Save the top 1000 reasons to CSV for further analysis\n",
    "top_1000_reasons.to_csv('../data/co_xuong_khop_top_1000_reasons.csv')"
   ]
  },
  {
   "cell_type": "code",
   "execution_count": 66,
   "id": "9db14f88-94e8-41a6-b4bf-b33c804a68fd",
   "metadata": {},
   "outputs": [
    {
     "name": "stdout",
     "output_type": "stream",
     "text": [
      "shape of co_xuong_khop_df: (24453, 8)\n"
     ]
    }
   ],
   "source": [
    "print(f\"shape of co_xuong_khop_df: {co_xuong_khop_df.shape}\")"
   ]
  },
  {
   "cell_type": "code",
   "execution_count": 67,
   "id": "2e8c3d72-5f1a-4d99-857f-061b3316f493",
   "metadata": {},
   "outputs": [],
   "source": [
    "# deduplicate using semhash\n",
    "records = co_xuong_khop_df.to_dict(orient=\"records\")\n",
    "semhash = SemHash.from_records(records=records, columns=[\"reason_combind\"], model=m2v_model)\n",
    "\n",
    "depduplicated_records = semhash.self_deduplicate(threshold=0.9).deduplicated\n",
    "\n",
    "co_xuong_khop_df = pd.DataFrame(depduplicated_records)"
   ]
  },
  {
   "cell_type": "code",
   "execution_count": 68,
   "id": "fc4a2dac-496f-46de-a611-24330f5e12b3",
   "metadata": {},
   "outputs": [
    {
     "name": "stdout",
     "output_type": "stream",
     "text": [
      "shape of co_xuong_khop_df after deduplicate: (9164, 8)\n"
     ]
    }
   ],
   "source": [
    "print(f\"shape of co_xuong_khop_df after deduplicate: {co_xuong_khop_df.shape}\")"
   ]
  },
  {
   "cell_type": "code",
   "execution_count": 69,
   "id": "02d947cb-3b5f-4e2d-bca4-849119e97db2",
   "metadata": {},
   "outputs": [],
   "source": [
    "co_xuong_khop_df.to_csv('../data/co_xuong_khop_deduplicate.csv')"
   ]
  },
  {
   "cell_type": "code",
   "execution_count": 70,
   "id": "b45b9403-d04b-44cc-8b50-ba98fe58250d",
   "metadata": {},
   "outputs": [
    {
     "name": "stdout",
     "output_type": "stream",
     "text": [
      "Total records for thần kinh specialty: 13298\n"
     ]
    },
    {
     "name": "stderr",
     "output_type": "stream",
     "text": [
      "/tmp/ipykernel_11140/4147297749.py:7: FutureWarning: \n",
      "\n",
      "Passing `palette` without assigning `hue` is deprecated and will be removed in v0.14.0. Assign the `y` variable to `hue` and set `legend=False` for the same effect.\n",
      "\n",
      "  sns.barplot(x=top_reasons.values, y=top_reasons.index, palette=\"viridis\")\n"
     ]
    },
    {
     "data": {
      "image/png": "[encoded data removed]",
      "text/plain": [
       "<Figure size 1600x800 with 1 Axes>"
      ]
     },
     "metadata": {},
     "output_type": "display_data"
    },
    {
     "name": "stdout",
     "output_type": "stream",
     "text": [
      "\n",
      "Sample reasons for Cơ xương khớp examination:\n",
      "['đau đầu ,chóng mặt ,buồn nôn, đau mỏi tay chân, mất ngủ.' 'parkinson'\n",
      " 'méo miệng' 'đau nửa đầu' 'thường xuyên đau đầu' 'cháu bị méo miệng'\n",
      " 'đau đầu' 'đau đầu, giảm tri nhớ' 'bệnh run chân tay' 'đau đầu dữ dội']\n"
     ]
    }
   ],
   "source": [
    "than_kinh_df = features[features['specialist_id'] == 18]\n",
    "print(f\"Total records for thần kinh specialty: {len(than_kinh_df)}\")\n",
    "\n",
    "# Show the top 20 most common reasons\n",
    "plt.figure(figsize=(16, 8))\n",
    "top_reasons = than_kinh_df['reason_combind'].value_counts().head(20)\n",
    "sns.barplot(x=top_reasons.values, y=top_reasons.index, palette=\"viridis\")\n",
    "plt.title('Top 20 Reasons for Cơ xương khớp (Musculoskeletal) Examination')\n",
    "plt.xlabel('Count')\n",
    "plt.ylabel('Reason')\n",
    "plt.tight_layout()\n",
    "plt.show()\n",
    "\n",
    "# Looking at some sample reasons\n",
    "print(\"\\nSample reasons for Cơ xương khớp examination:\")\n",
    "print(than_kinh_df['reason_combind'].sample(10).values)\n",
    "\n",
    "# Save to CSV for further analysis\n",
    "than_kinh_df.to_csv('../data/than_kinh_data.csv')"
   ]
  },
  {
   "cell_type": "code",
   "execution_count": 71,
   "id": "b4807f38-7906-4207-8b38-9bf6ae5602ea",
   "metadata": {},
   "outputs": [
    {
     "name": "stdout",
     "output_type": "stream",
     "text": [
      "Sum of top 20 most common reasons: 2333\n",
      "Total number of records: 13298\n",
      "Percentage of records covered by top 20 reasons: 17.54%\n"
     ]
    }
   ],
   "source": [
    "# Calculate the sum count of top 20 most common reasons in co_xuong_khop_df\n",
    "top_20_reasons_count = than_kinh_df['reason_combind'].value_counts().head(20).sum()\n",
    "total_reasons_count = len(than_kinh_df)\n",
    "percentage = (top_20_reasons_count / total_reasons_count) * 100\n",
    "\n",
    "print(f\"Sum of top 20 most common reasons: {top_20_reasons_count}\")\n",
    "print(f\"Total number of records: {total_reasons_count}\")\n",
    "print(f\"Percentage of records covered by top 20 reasons: {percentage:.2f}%\")"
   ]
  },
  {
   "cell_type": "code",
   "execution_count": 72,
   "id": "362107f9-13c9-4282-84c4-b18137aa37cf",
   "metadata": {},
   "outputs": [
    {
     "name": "stdout",
     "output_type": "stream",
     "text": [
      "Number of unique reasons in top 1000: 1000\n",
      "Total records covered by top 1000 reasons: 5563\n",
      "Percentage of all records covered: 41.83%\n",
      "\n",
      "Top 10 most common reasons:\n",
      "reason_combind\n",
      "đau đầu                        919\n",
      "khám lại                       167\n",
      "đau nửa đầu                    139\n",
      "khám thần kinh                 124\n",
      "mất ngủ                        108\n",
      "động kinh                      101\n",
      "rối loạn tiền đình              75\n",
      "rối loạn thần kinh thực vật     70\n",
      "đau đầu, chóng mặt              69\n",
      "mất ngủ kéo dài                 64\n",
      "Name: count, dtype: int64\n"
     ]
    }
   ],
   "source": [
    "# Get the top 1000 reasons for examination in cơ xương khớp specialty\n",
    "top_1000_reasons = than_kinh_df['reason_combind'].value_counts().head(1000)\n",
    "\n",
    "# Calculate statistics about these top 1000 reasons\n",
    "top_1000_count = top_1000_reasons.sum()\n",
    "total_count = len(than_kinh_df)\n",
    "coverage_percentage = (top_1000_count / total_count) * 100\n",
    "\n",
    "print(f\"Number of unique reasons in top 1000: {len(top_1000_reasons)}\")\n",
    "print(f\"Total records covered by top 1000 reasons: {top_1000_count}\")\n",
    "print(f\"Percentage of all records covered: {coverage_percentage:.2f}%\")\n",
    "\n",
    "# Sample view of top reasons\n",
    "print(\"\\nTop 10 most common reasons:\")\n",
    "print(top_1000_reasons.head(10))\n",
    "\n",
    "# Save the top 1000 reasons to CSV for further analysis\n",
    "top_1000_reasons.to_csv('../data/than_kinh_top_1000_reasons.csv')"
   ]
  },
  {
   "cell_type": "code",
   "execution_count": 73,
   "id": "63d5dd05-7c92-4777-a79d-24925d8fe446",
   "metadata": {},
   "outputs": [
    {
     "name": "stdout",
     "output_type": "stream",
     "text": [
      "shape of than_kinh_df: (13298, 8)\n"
     ]
    }
   ],
   "source": [
    "print(f\"shape of than_kinh_df: {than_kinh_df.shape}\")"
   ]
  },
  {
   "cell_type": "code",
   "execution_count": 74,
   "id": "a79894d2-3731-4b09-ac02-f8689b2ff334",
   "metadata": {},
   "outputs": [],
   "source": [
    "# deduplicate using semhash\n",
    "records = than_kinh_df.to_dict(orient=\"records\")\n",
    "semhash = SemHash.from_records(records=records, columns=[\"reason_combind\"], model=m2v_model)\n",
    "\n",
    "depduplicated_records = semhash.self_deduplicate(threshold=0.95).deduplicated\n",
    "\n",
    "than_kinh_df = pd.DataFrame(depduplicated_records)"
   ]
  },
  {
   "cell_type": "code",
   "execution_count": 75,
   "id": "0bf70837-9877-4c2b-98be-078baf944854",
   "metadata": {},
   "outputs": [
    {
     "name": "stdout",
     "output_type": "stream",
     "text": [
      "shape of than_kinh_df after deduplicate: (7713, 8)\n"
     ]
    }
   ],
   "source": [
    "print(f\"shape of than_kinh_df after deduplicate: {than_kinh_df.shape}\")"
   ]
  },
  {
   "cell_type": "code",
   "execution_count": 76,
   "id": "6bb4286d-9a97-426b-9b10-1274bee11c26",
   "metadata": {},
   "outputs": [],
   "source": [
    "than_kinh_df.to_csv('../data/than_kinh_deduplicate.csv')"
   ]
  },
  {
   "cell_type": "markdown",
   "id": "d1903235-2d3f-4e66-b14c-cf6003e6a969",
   "metadata": {},
   "source": [
    "#### Faculty of cardiology"
   ]
  },
  {
   "cell_type": "code",
   "execution_count": 77,
   "id": "7afb9e93-7361-4eda-8e56-ccd3e029f449",
   "metadata": {},
   "outputs": [],
   "source": [
    "tim_mach_df = features[features['specialist_id'] == 3]"
   ]
  },
  {
   "cell_type": "code",
   "execution_count": 78,
   "id": "c98ffdcb-ba48-4d4d-b801-bebfe5b303ef",
   "metadata": {},
   "outputs": [
    {
     "data": {
      "text/plain": [
       "(6452, 8)"
      ]
     },
     "execution_count": 78,
     "metadata": {},
     "output_type": "execute_result"
    }
   ],
   "source": [
    "tim_mach_df.shape"
   ]
  },
  {
   "cell_type": "code",
   "execution_count": 79,
   "id": "636d119d-3701-42e1-9067-ac9e4effe1ff",
   "metadata": {},
   "outputs": [
    {
     "name": "stdout",
     "output_type": "stream",
     "text": [
      "Total records for thần kinh specialty: 6452\n"
     ]
    },
    {
     "name": "stderr",
     "output_type": "stream",
     "text": [
      "/tmp/ipykernel_11140/1923172697.py:6: FutureWarning: \n",
      "\n",
      "Passing `palette` without assigning `hue` is deprecated and will be removed in v0.14.0. Assign the `y` variable to `hue` and set `legend=False` for the same effect.\n",
      "\n",
      "  sns.barplot(x=top_reasons.values, y=top_reasons.index, palette=\"viridis\")\n"
     ]
    },
    {
     "data": {
      "image/png": "[encoded data removed]",
      "text/plain": [
       "<Figure size 1600x800 with 1 Axes>"
      ]
     },
     "metadata": {},
     "output_type": "display_data"
    },
    {
     "name": "stdout",
     "output_type": "stream",
     "text": [
      "\n",
      "Sample reasons for Tim mạch examination:\n",
      "['thông liên thất' 'khám tim mạch' 'tái khám hằng tháng'\n",
      " 'nhứt đầu, chóng mặt, sây sẫm' 'kiểm tra tim mạch' 'khám tim và huyết áp'\n",
      " 'bệnh nhân bị hồi hộp, mạch ở cổ to và đập mạnh' 'tái khám định kỳ'\n",
      " 'đau ngực trái, tê tay trái' 'tái khám hở van tim thiếu máu cục bộ mạn']\n"
     ]
    }
   ],
   "source": [
    "print(f\"Total records for thần kinh specialty: {len(tim_mach_df)}\")\n",
    "\n",
    "# Show the top 20 most common reasons\n",
    "plt.figure(figsize=(16, 8))\n",
    "top_reasons = tim_mach_df['reason_combind'].value_counts().head(20)\n",
    "sns.barplot(x=top_reasons.values, y=top_reasons.index, palette=\"viridis\")\n",
    "plt.title('Top 20 Reasons for Tim mạch (Musculoskeletal) Examination')\n",
    "plt.xlabel('Count')\n",
    "plt.ylabel('Reason')\n",
    "plt.tight_layout()\n",
    "plt.show()\n",
    "\n",
    "# Looking at some sample reasons\n",
    "print(\"\\nSample reasons for Tim mạch examination:\")\n",
    "print(tim_mach_df['reason_combind'].sample(10).values)\n",
    "\n",
    "# Save to CSV for further analysis\n",
    "than_kinh_df.to_csv('../data/tim_mach_data.csv')"
   ]
  },
  {
   "cell_type": "code",
   "execution_count": 80,
   "id": "4371d6fd-0332-491c-ac54-33bde8b301c0",
   "metadata": {},
   "outputs": [
    {
     "name": "stdout",
     "output_type": "stream",
     "text": [
      "Sum of top 20 most common reasons: 1383\n",
      "Total number of records: 6452\n",
      "Percentage of records covered by top 20 reasons: 21.44%\n"
     ]
    }
   ],
   "source": [
    "# Calculate the sum count of top 20 most common reasons in tim_mach_df\n",
    "top_20_reasons_count = tim_mach_df['reason_combind'].value_counts().head(20).sum()\n",
    "total_reasons_count = len(tim_mach_df)\n",
    "percentage = (top_20_reasons_count / total_reasons_count) * 100\n",
    "\n",
    "print(f\"Sum of top 20 most common reasons: {top_20_reasons_count}\")\n",
    "print(f\"Total number of records: {total_reasons_count}\")\n",
    "print(f\"Percentage of records covered by top 20 reasons: {percentage:.2f}%\")"
   ]
  },
  {
   "cell_type": "code",
   "execution_count": 81,
   "id": "5f4d07ed-a513-4b33-9ef7-145f4b58dae0",
   "metadata": {},
   "outputs": [
    {
     "name": "stdout",
     "output_type": "stream",
     "text": [
      "shape of tim_mach_df after deduplicate: (3369, 8)\n"
     ]
    }
   ],
   "source": [
    "# deduplicate using semhash\n",
    "records = tim_mach_df.to_dict(orient=\"records\")\n",
    "semhash = SemHash.from_records(records=records, columns=[\"reason_combind\"], model=m2v_model)\n",
    "\n",
    "depduplicated_records = semhash.self_deduplicate(threshold=0.95).deduplicated\n",
    "\n",
    "tim_mach_df = pd.DataFrame(depduplicated_records)\n",
    "print(f\"shape of tim_mach_df after deduplicate: {tim_mach_df.shape}\")\n",
    "tim_mach_df.to_csv('../data/tim_mach_deduplicate.csv')"
   ]
  },
  {
   "cell_type": "code",
   "execution_count": 82,
   "id": "53f351f6-c708-47e7-a5e1-086ff3822965",
   "metadata": {},
   "outputs": [
    {
     "name": "stdout",
     "output_type": "stream",
     "text": [
      "shape of tim_mach_df after deduplicate: (4205, 8)\n"
     ]
    }
   ],
   "source": [
    "tai_mui_hong_df = features[features['specialist_id'] == 4]\n",
    "\n",
    "records = tai_mui_hong_df.to_dict(orient=\"records\")\n",
    "semhash = SemHash.from_records(records=records, columns=[\"reason_combind\"], model=m2v_model)\n",
    "\n",
    "depduplicated_records = semhash.self_deduplicate(threshold=0.9).deduplicated\n",
    "\n",
    "tai_mui_hong_df = pd.DataFrame(depduplicated_records)\n",
    "print(f\"shape of tim_mach_df after deduplicate: {tai_mui_hong_df.shape}\")\n",
    "tai_mui_hong_df.to_csv('../data/tai_mui_hong_deduplicate.csv')"
   ]
  },
  {
   "cell_type": "code",
   "execution_count": 83,
   "id": "39b28fe1-3166-443b-97c6-44080ce8a326",
   "metadata": {},
   "outputs": [
    {
     "name": "stdout",
     "output_type": "stream",
     "text": [
      "shape of tim_mach_df after deduplicate: (5524, 8)\n"
     ]
    }
   ],
   "source": [
    "da_lieu_df = features[features['specialist_id'] == 11]\n",
    "\n",
    "records = da_lieu_df.to_dict(orient=\"records\")\n",
    "semhash = SemHash.from_records(records=records, columns=[\"reason_combind\"], model=m2v_model)\n",
    "\n",
    "depduplicated_records = semhash.self_deduplicate(threshold=0.9).deduplicated\n",
    "\n",
    "da_lieu_df = pd.DataFrame(depduplicated_records)\n",
    "print(f\"shape of tim_mach_df after deduplicate: {da_lieu_df.shape}\")\n",
    "da_lieu_df.to_csv('../data/da_lieu_deduplicate.csv')"
   ]
  },
  {
   "cell_type": "code",
   "execution_count": 84,
   "id": "9b7da0a6-7d24-48c7-999f-c7e93f050e3a",
   "metadata": {},
   "outputs": [
    {
     "name": "stdout",
     "output_type": "stream",
     "text": [
      "shape of suc khoe tam than after deduplicate: (3393, 8)\n"
     ]
    }
   ],
   "source": [
    "suc_khoe_tam_than_df = features[features['specialist_id'] == 27]\n",
    "\n",
    "records = suc_khoe_tam_than_df.to_dict(orient=\"records\")\n",
    "semhash = SemHash.from_records(records=records, columns=[\"reason_combind\"], model=m2v_model)\n",
    "\n",
    "depduplicated_records = semhash.self_deduplicate(threshold=0.9).deduplicated\n",
    "\n",
    "suc_khoe_tam_than_df = pd.DataFrame(depduplicated_records)\n",
    "print(f\"shape of suc khoe tam than after deduplicate: {suc_khoe_tam_than_df.shape}\")\n",
    "suc_khoe_tam_than_df.to_csv('../data/suc_khoe_tam_than_deduplicate.csv')"
   ]
  },
  {
   "cell_type": "code",
   "execution_count": 85,
   "id": "a58bc3d4-d94e-4d1b-9be7-52ed560a7885",
   "metadata": {},
   "outputs": [
    {
     "name": "stdout",
     "output_type": "stream",
     "text": [
      "shape of nam hoc after deduplicate: (2443, 8)\n"
     ]
    }
   ],
   "source": [
    "nam_hoc_df = features[features['specialist_id'] == 26]\n",
    "\n",
    "records = nam_hoc_df.to_dict(orient=\"records\")\n",
    "semhash = SemHash.from_records(records=records, columns=[\"reason_combind\"], model=m2v_model)\n",
    "\n",
    "depduplicated_records = semhash.self_deduplicate(threshold=0.9).deduplicated\n",
    "\n",
    "nam_hoc_df = pd.DataFrame(depduplicated_records)\n",
    "print(f\"shape of nam hoc after deduplicate: {nam_hoc_df.shape}\")\n",
    "nam_hoc_df.to_csv('../data/nam_hoc_deduplicate.csv')"
   ]
  },
  {
   "cell_type": "code",
   "execution_count": 86,
   "id": "66e28140-1022-4c7c-a025-afaad97a4a63",
   "metadata": {},
   "outputs": [
    {
     "name": "stdout",
     "output_type": "stream",
     "text": [
      "shape of chuyen khoa mat after deduplicate: (1655, 8)\n"
     ]
    }
   ],
   "source": [
    "chuyen_khoa_mat_df = features[features['specialist_id'] == 29]\n",
    "\n",
    "records = chuyen_khoa_mat_df.to_dict(orient=\"records\")\n",
    "semhash = SemHash.from_records(records=records, columns=[\"reason_combind\"], model=m2v_model)\n",
    "\n",
    "depduplicated_records = semhash.self_deduplicate(threshold=0.9).deduplicated\n",
    "\n",
    "chuyen_khoa_mat_df = pd.DataFrame(depduplicated_records)\n",
    "print(f\"shape of chuyen khoa mat after deduplicate: {chuyen_khoa_mat_df.shape}\")\n",
    "chuyen_khoa_mat_df.to_csv('../data/chuyen_khoa_mat_deduplicate.csv')"
   ]
  },
  {
   "cell_type": "code",
   "execution_count": 87,
   "id": "102d62e3-2f92-4b41-9cfa-21911d3a3190",
   "metadata": {},
   "outputs": [
    {
     "name": "stdout",
     "output_type": "stream",
     "text": [
      "shape of san phu khoa after deduplicate: (1694, 8)\n"
     ]
    }
   ],
   "source": [
    "san_phu_khoa_df = features[features['specialist_id'] == 19]\n",
    "\n",
    "records = san_phu_khoa_df.to_dict(orient=\"records\")\n",
    "semhash = SemHash.from_records(records=records, columns=[\"reason_combind\"], model=m2v_model)\n",
    "\n",
    "depduplicated_records = semhash.self_deduplicate(threshold=0.9).deduplicated\n",
    "\n",
    "san_phu_khoa_df = pd.DataFrame(depduplicated_records)\n",
    "print(f\"shape of san phu khoa after deduplicate: {san_phu_khoa_df.shape}\")\n",
    "san_phu_khoa_df.to_csv('../data/san_phu_khoa_deduplicate.csv')"
   ]
  },
  {
   "cell_type": "code",
   "execution_count": 88,
   "id": "ba86b81a-e181-4fd8-9766-2afabb6fb840",
   "metadata": {},
   "outputs": [
    {
     "name": "stdout",
     "output_type": "stream",
     "text": [
      "shape of san phu khoa after deduplicate: (270, 8)\n"
     ]
    }
   ],
   "source": [
    "vo_sinh_hiem_muon_df = features[features['specialist_id'] == 67]\n",
    "\n",
    "records = vo_sinh_hiem_muon_df.to_dict(orient=\"records\")\n",
    "semhash = SemHash.from_records(records=records, columns=[\"reason_combind\"], model=m2v_model)\n",
    "\n",
    "depduplicated_records = semhash.self_deduplicate(threshold=0.9).deduplicated\n",
    "\n",
    "vo_sinh_hiem_muon_df = pd.DataFrame(depduplicated_records)\n",
    "print(f\"shape of san phu khoa after deduplicate: {vo_sinh_hiem_muon_df.shape}\")\n",
    "vo_sinh_hiem_muon_df.to_csv('../data/vo_sinh_hiem_muon_deduplicate.csv')"
   ]
  },
  {
   "cell_type": "code",
   "execution_count": 89,
   "id": "085705d3-f304-413e-a884-dad053e5491e",
   "metadata": {},
   "outputs": [
    {
     "name": "stdout",
     "output_type": "stream",
     "text": [
      "shape of san phu khoa after deduplicate: (4621, 8)\n"
     ]
    }
   ],
   "source": [
    "noi_khoa_df = features[features['specialist_id'] == 17]\n",
    "\n",
    "records = noi_khoa_df.to_dict(orient=\"records\")\n",
    "semhash = SemHash.from_records(records=records, columns=[\"reason_combind\"], model=m2v_model)\n",
    "\n",
    "depduplicated_records = semhash.self_deduplicate(threshold=0.9).deduplicated\n",
    "\n",
    "noi_khoa_df = pd.DataFrame(depduplicated_records)\n",
    "print(f\"shape of san phu khoa after deduplicate: {noi_khoa_df.shape}\")\n",
    "noi_khoa_df.to_csv('../data/noi_khoa_deduplicate.csv')"
   ]
  },
  {
   "cell_type": "code",
   "execution_count": 90,
   "id": "71d8a503-7d2f-4877-a5b9-bf3e079f9cff",
   "metadata": {},
   "outputs": [
    {
     "name": "stdout",
     "output_type": "stream",
     "text": [
      "shape of nhi khoa after deduplicate: (1481, 8)\n"
     ]
    }
   ],
   "source": [
    "nhi_khoa_df = features[features['specialist_id'] == 5]\n",
    "\n",
    "records = nhi_khoa_df.to_dict(orient='records')\n",
    "semhash = SemHash.from_records(records=records, columns=['reason_combind'], model=m2v_model)\n",
    "\n",
    "deduplicated_records = semhash.self_deduplicate(threshold=0.9).deduplicated\n",
    "\n",
    "nhi_khoa_df = pd.DataFrame(deduplicated_records)\n",
    "print(f\"shape of nhi khoa after deduplicate: {nhi_khoa_df.shape}\")\n",
    "nhi_khoa_df.to_csv('../data/nhi_khoa_deduplicate.csv')"
   ]
  },
  {
   "cell_type": "code",
   "execution_count": 63,
   "id": "58b16df1-366a-4d21-9ae0-34a60ddad3db",
   "metadata": {},
   "outputs": [],
   "source": [
    "# Apply function to check if predicted specialist matches actual specialist\n",
    "def get_expected_outcome(row):\n",
    "    predicted_specialists = get_specialist_id(row['reason_combind'])  # This returns a list of int\n",
    "    return 1 if row['specialist_id'] in predicted_specialists else 0\n"
   ]
  },
  {
   "cell_type": "code",
   "execution_count": null,
   "id": "c8c0aad5-6646-408f-8669-57b2974d6586",
   "metadata": {},
   "outputs": [],
   "source": [
    "\n",
    "nhi_khoa_df['correct_prediction'] = nhi_khoa_df.apply(get_expected_outcome, axis=1)\n",
    "print(f\"Accuracy for Nhi Khoa: {nhi_khoa_df['correct_prediction'].mean() * 100:.2f}%\")"
   ]
  },
  {
   "cell_type": "code",
   "execution_count": 93,
   "id": "6fd71658-c0ee-4d48-ac7a-7c229d2218b5",
   "metadata": {},
   "outputs": [
    {
     "data": {
      "text/html": [
       "<div>\n",
       "<style scoped>\n",
       "    .dataframe tbody tr th:only-of-type {\n",
       "        vertical-align: middle;\n",
       "    }\n",
       "\n",
       "    .dataframe tbody tr th {\n",
       "        vertical-align: top;\n",
       "    }\n",
       "\n",
       "    .dataframe thead th {\n",
       "        text-align: right;\n",
       "    }\n",
       "</style>\n",
       "<table border=\"1\" class=\"dataframe\">\n",
       "  <thead>\n",
       "    <tr style=\"text-align: right;\">\n",
       "      <th></th>\n",
       "      <th>partner_id</th>\n",
       "      <th>specialist_id</th>\n",
       "      <th>status</th>\n",
       "      <th>gender</th>\n",
       "      <th>province_id</th>\n",
       "      <th>age</th>\n",
       "      <th>reason_combind</th>\n",
       "      <th>specialist_name</th>\n",
       "      <th>correct_prediction</th>\n",
       "    </tr>\n",
       "  </thead>\n",
       "  <tbody>\n",
       "    <tr>\n",
       "      <th>0</th>\n",
       "      <td>9</td>\n",
       "      <td>5</td>\n",
       "      <td>2</td>\n",
       "      <td>NaN</td>\n",
       "      <td>10</td>\n",
       "      <td>8</td>\n",
       "      <td>viêm a mãn tính</td>\n",
       "      <td>nhi khoa</td>\n",
       "      <td>1</td>\n",
       "    </tr>\n",
       "    <tr>\n",
       "      <th>1</th>\n",
       "      <td>5</td>\n",
       "      <td>5</td>\n",
       "      <td>2</td>\n",
       "      <td>NaN</td>\n",
       "      <td>36</td>\n",
       "      <td>3</td>\n",
       "      <td>ho,sốt,viêm a</td>\n",
       "      <td>nhi khoa</td>\n",
       "      <td>0</td>\n",
       "    </tr>\n",
       "    <tr>\n",
       "      <th>2</th>\n",
       "      <td>9</td>\n",
       "      <td>5</td>\n",
       "      <td>2</td>\n",
       "      <td>NaN</td>\n",
       "      <td>-1</td>\n",
       "      <td>6</td>\n",
       "      <td>đi khám kl bị đau dạ dày</td>\n",
       "      <td>nhi khoa</td>\n",
       "      <td>1</td>\n",
       "    </tr>\n",
       "    <tr>\n",
       "      <th>3</th>\n",
       "      <td>9</td>\n",
       "      <td>5</td>\n",
       "      <td>2</td>\n",
       "      <td>NaN</td>\n",
       "      <td>25</td>\n",
       "      <td>0</td>\n",
       "      <td>men gan tăng</td>\n",
       "      <td>nhi khoa</td>\n",
       "      <td>0</td>\n",
       "    </tr>\n",
       "    <tr>\n",
       "      <th>4</th>\n",
       "      <td>9</td>\n",
       "      <td>5</td>\n",
       "      <td>2</td>\n",
       "      <td>NaN</td>\n",
       "      <td>8</td>\n",
       "      <td>0</td>\n",
       "      <td>đi ngoài màu vàng,có ăn sữa ngoài</td>\n",
       "      <td>nhi khoa</td>\n",
       "      <td>1</td>\n",
       "    </tr>\n",
       "  </tbody>\n",
       "</table>\n",
       "</div>"
      ],
      "text/plain": [
       "   partner_id  specialist_id  status  gender  province_id  age  \\\n",
       "0           9              5       2     NaN           10    8   \n",
       "1           5              5       2     NaN           36    3   \n",
       "2           9              5       2     NaN           -1    6   \n",
       "3           9              5       2     NaN           25    0   \n",
       "4           9              5       2     NaN            8    0   \n",
       "\n",
       "                            reason_combind specialist_name  correct_prediction  \n",
       "0                        viêm a mãn tính        nhi khoa                   1  \n",
       "1                           ho,sốt,viêm a        nhi khoa                   0  \n",
       "2             đi khám kl bị đau dạ dày        nhi khoa                   1  \n",
       "3                             men gan tăng        nhi khoa                   0  \n",
       "4  đi ngoài màu vàng,có ăn sữa ngoài        nhi khoa                   1  "
      ]
     },
     "execution_count": 93,
     "metadata": {},
     "output_type": "execute_result"
    }
   ],
   "source": [
    "nhi_khoa_df.head()"
   ]
  },
  {
   "cell_type": "code",
   "execution_count": 94,
   "id": "8d41ffc3-9c91-4b0b-9936-e2b9408f7082",
   "metadata": {},
   "outputs": [
    {
     "name": "stdout",
     "output_type": "stream",
     "text": [
      "Correctly predicted cases (sample):\n",
      "      partner_id  specialist_id  status  gender  province_id  age  \\\n",
      "1480         259              5       2     0.0           56    0   \n",
      "0              9              5       2     NaN           10    8   \n",
      "1478         459              5       2     0.0           79    0   \n",
      "2              9              5       2     NaN           -1    6   \n",
      "1476           8              5       2     0.0            1    0   \n",
      "\n",
      "                                         reason_combind specialist_name  \\\n",
      "1480                            nóng người chảy máu cam        nhi khoa   \n",
      "0                                     viêm a mãn tính        nhi khoa   \n",
      "1478                             đau bụng vào buổi sáng        nhi khoa   \n",
      "2                          đi khám kl bị đau dạ dày        nhi khoa   \n",
      "1476  con bị khó ngủ, chậm tăng cân, đổ nhiều mồ hôi...        nhi khoa   \n",
      "\n",
      "      correct_prediction  \n",
      "1480                   1  \n",
      "0                      1  \n",
      "1478                   1  \n",
      "2                      1  \n",
      "1476                   1  \n",
      "\n",
      "Incorrectly predicted cases (sample):\n",
      "   partner_id  specialist_id  status  gender  province_id  age  \\\n",
      "1           5              5       2     NaN           36    3   \n",
      "5           0              5       2     NaN            1    2   \n",
      "6           0              5       2     NaN            1    4   \n",
      "7           0              5       2     NaN            1    4   \n",
      "8           9              5       2     NaN           40    4   \n",
      "\n",
      "                              reason_combind specialist_name  \\\n",
      "1                             ho,sốt,viêm a        nhi khoa   \n",
      "5    ngủ hay giật mình đã 7 đến 8 ngày        nhi khoa   \n",
      "6                            bị kiễng chân        nhi khoa   \n",
      "7  ngã xe 2 tuần,đã có kết quả x-quang        nhi khoa   \n",
      "8                           u máu bẩm sinh        nhi khoa   \n",
      "\n",
      "   correct_prediction  \n",
      "1                   0  \n",
      "5                   0  \n",
      "6                   0  \n",
      "7                   0  \n",
      "8                   0  \n"
     ]
    }
   ],
   "source": [
    "# Sort the dataframe by the correct_prediction column in descending order\n",
    "nhi_khoa_df = nhi_khoa_df.sort_values(by='correct_prediction', ascending=False)\n",
    "\n",
    "# Display the first few rows to see correctly predicted cases first\n",
    "print(\"Correctly predicted cases (sample):\")\n",
    "print(nhi_khoa_df.head())\n",
    "\n",
    "# Display some incorrectly predicted cases\n",
    "print(\"\\nIncorrectly predicted cases (sample):\")\n",
    "print(nhi_khoa_df[nhi_khoa_df['correct_prediction'] == 0].head())"
   ]
  },
  {
   "cell_type": "code",
   "execution_count": 95,
   "id": "f106569e-efdf-4efd-8d3c-2a3fc9bf3d73",
   "metadata": {},
   "outputs": [
    {
     "data": {
      "text/html": [
       "<div>\n",
       "<style scoped>\n",
       "    .dataframe tbody tr th:only-of-type {\n",
       "        vertical-align: middle;\n",
       "    }\n",
       "\n",
       "    .dataframe tbody tr th {\n",
       "        vertical-align: top;\n",
       "    }\n",
       "\n",
       "    .dataframe thead th {\n",
       "        text-align: right;\n",
       "    }\n",
       "</style>\n",
       "<table border=\"1\" class=\"dataframe\">\n",
       "  <thead>\n",
       "    <tr style=\"text-align: right;\">\n",
       "      <th></th>\n",
       "      <th>partner_id</th>\n",
       "      <th>specialist_id</th>\n",
       "      <th>status</th>\n",
       "      <th>gender</th>\n",
       "      <th>province_id</th>\n",
       "      <th>age</th>\n",
       "      <th>reason_combind</th>\n",
       "      <th>specialist_name</th>\n",
       "      <th>correct_prediction</th>\n",
       "    </tr>\n",
       "  </thead>\n",
       "  <tbody>\n",
       "    <tr>\n",
       "      <th>1480</th>\n",
       "      <td>259</td>\n",
       "      <td>5</td>\n",
       "      <td>2</td>\n",
       "      <td>0.0</td>\n",
       "      <td>56</td>\n",
       "      <td>0</td>\n",
       "      <td>nóng người chảy máu cam</td>\n",
       "      <td>nhi khoa</td>\n",
       "      <td>1</td>\n",
       "    </tr>\n",
       "    <tr>\n",
       "      <th>0</th>\n",
       "      <td>9</td>\n",
       "      <td>5</td>\n",
       "      <td>2</td>\n",
       "      <td>NaN</td>\n",
       "      <td>10</td>\n",
       "      <td>8</td>\n",
       "      <td>viêm a mãn tính</td>\n",
       "      <td>nhi khoa</td>\n",
       "      <td>1</td>\n",
       "    </tr>\n",
       "    <tr>\n",
       "      <th>1478</th>\n",
       "      <td>459</td>\n",
       "      <td>5</td>\n",
       "      <td>2</td>\n",
       "      <td>0.0</td>\n",
       "      <td>79</td>\n",
       "      <td>0</td>\n",
       "      <td>đau bụng vào buổi sáng</td>\n",
       "      <td>nhi khoa</td>\n",
       "      <td>1</td>\n",
       "    </tr>\n",
       "    <tr>\n",
       "      <th>2</th>\n",
       "      <td>9</td>\n",
       "      <td>5</td>\n",
       "      <td>2</td>\n",
       "      <td>NaN</td>\n",
       "      <td>-1</td>\n",
       "      <td>6</td>\n",
       "      <td>đi khám kl bị đau dạ dày</td>\n",
       "      <td>nhi khoa</td>\n",
       "      <td>1</td>\n",
       "    </tr>\n",
       "    <tr>\n",
       "      <th>1476</th>\n",
       "      <td>8</td>\n",
       "      <td>5</td>\n",
       "      <td>2</td>\n",
       "      <td>0.0</td>\n",
       "      <td>1</td>\n",
       "      <td>0</td>\n",
       "      <td>con bị khó ngủ, chậm tăng cân, đổ nhiều mồ hôi...</td>\n",
       "      <td>nhi khoa</td>\n",
       "      <td>1</td>\n",
       "    </tr>\n",
       "  </tbody>\n",
       "</table>\n",
       "</div>"
      ],
      "text/plain": [
       "      partner_id  specialist_id  status  gender  province_id  age  \\\n",
       "1480         259              5       2     0.0           56    0   \n",
       "0              9              5       2     NaN           10    8   \n",
       "1478         459              5       2     0.0           79    0   \n",
       "2              9              5       2     NaN           -1    6   \n",
       "1476           8              5       2     0.0            1    0   \n",
       "\n",
       "                                         reason_combind specialist_name  \\\n",
       "1480                            nóng người chảy máu cam        nhi khoa   \n",
       "0                                     viêm a mãn tính        nhi khoa   \n",
       "1478                             đau bụng vào buổi sáng        nhi khoa   \n",
       "2                          đi khám kl bị đau dạ dày        nhi khoa   \n",
       "1476  con bị khó ngủ, chậm tăng cân, đổ nhiều mồ hôi...        nhi khoa   \n",
       "\n",
       "      correct_prediction  \n",
       "1480                   1  \n",
       "0                      1  \n",
       "1478                   1  \n",
       "2                      1  \n",
       "1476                   1  "
      ]
     },
     "execution_count": 95,
     "metadata": {},
     "output_type": "execute_result"
    }
   ],
   "source": [
    "nhi_khoa_df.head()"
   ]
  },
  {
   "cell_type": "code",
   "execution_count": 96,
   "id": "abdfa2c0-8edd-4cc9-a7ff-598cdaedab29",
   "metadata": {},
   "outputs": [],
   "source": [
    "nhi_khoa_df.to_csv('../data/nhi_khoa_deduplicate.csv')"
   ]
  },
  {
   "cell_type": "code",
   "execution_count": 97,
   "id": "95fa2b26-e6b6-4fee-b6c3-804f4e8ba259",
   "metadata": {},
   "outputs": [
    {
     "name": "stdout",
     "output_type": "stream",
     "text": [
      "shape of ung buou after deduplicate: (1436, 8)\n"
     ]
    }
   ],
   "source": [
    "ung_buou_df = features[features['specialist_id'] == 15]\n",
    "\n",
    "records = ung_buou_df.to_dict(orient='records')\n",
    "semhash = SemHash.from_records(records=records, columns=['reason_combind'], model=m2v_model)\n",
    "\n",
    "deduplicated_records = semhash.self_deduplicate(threshold=0.9).deduplicated\n",
    "\n",
    "ung_buou_df = pd.DataFrame(deduplicated_records)\n",
    "print(f\"shape of ung buou after deduplicate: {ung_buou_df.shape}\")\n",
    "ung_buou_df.to_csv('../data/ung_buou_deduplicate.csv')"
   ]
  },
  {
   "cell_type": "code",
   "execution_count": 99,
   "id": "38d2e5d9-b5b6-460c-bbe3-b7e7b47d525c",
   "metadata": {},
   "outputs": [
    {
     "name": "stdout",
     "output_type": "stream",
     "text": [
      "Accuracy for ung buou: 71.80%\n"
     ]
    }
   ],
   "source": [
    "ung_buou_df['correct_prediction'] = ung_buou_df.apply(get_expected_outcome, axis=1)\n",
    "print(f\"Accuracy for ung buou: {ung_buou_df['correct_prediction'].mean() * 100:.2f}%\")"
   ]
  },
  {
   "cell_type": "code",
   "execution_count": 100,
   "id": "30da6962-9934-48cb-b8da-b0eabdfdab0d",
   "metadata": {},
   "outputs": [],
   "source": [
    "ung_buou_df.to_csv('../data/ung_buou_deduplicate.csv')"
   ]
  },
  {
   "cell_type": "code",
   "execution_count": 64,
   "id": "da1e3868-40ad-4a6a-a0bb-b69b8a33bf73",
   "metadata": {},
   "outputs": [
    {
     "name": "stdout",
     "output_type": "stream",
     "text": [
      "shape of tieu hoa after deduplicate: (5287, 8)\n"
     ]
    }
   ],
   "source": [
    "tieu_hoa_df = features[features['specialist_id'] == 22]\n",
    "\n",
    "records = tieu_hoa_df.to_dict(orient='records')\n",
    "semhash = SemHash.from_records(records=records, columns=['reason_combind'], model=m2v_model)\n",
    "\n",
    "deduplicated_records = semhash.self_deduplicate(threshold=0.9).deduplicated\n",
    "\n",
    "tieu_hoa_df = pd.DataFrame(deduplicated_records)\n",
    "print(f\"shape of tieu hoa after deduplicate: {tieu_hoa_df.shape}\")\n",
    "tieu_hoa_df.to_csv('../data/tieu_hoa_deduplicate.csv')"
   ]
  },
  {
   "cell_type": "code",
   "execution_count": 85,
   "id": "b8802ed9-ea07-42b0-9793-f7d768ad069a",
   "metadata": {},
   "outputs": [],
   "source": [
    "from math import ceil\n",
    "\n",
    "async def apply_specialist_ids_to_df(\n",
    "    df: pd.DataFrame,\n",
    "    column_name: str = \"reason_combind\",\n",
    "    batch_size: int = 32,\n",
    ") -> pd.DataFrame:\n",
    "    all_results = []\n",
    "    n_rows = len(df)\n",
    "    n_batches = ceil(n_rows / batch_size)\n",
    "\n",
    "    for i in tqdm(range(n_batches)):\n",
    "        batch = df.iloc[i * batch_size : (i + 1) * batch_size]\n",
    "        queries = batch[column_name].tolist()\n",
    "        results = await get_specialist_ids(queries, max_retries=5, retry_delay=30)\n",
    "        all_results.extend(results)\n",
    "\n",
    "    results_df = pd.DataFrame(all_results)\n",
    "    df = df.reset_index(drop=True)\n",
    "    df = df.concat([df, results_df], axis=1)\n",
    "    return df"
   ]
  },
  {
   "cell_type": "code",
   "execution_count": 87,
   "id": "a686febd-1b7a-40be-a753-f9e7ccc1c1a8",
   "metadata": {},
   "outputs": [
    {
     "data": {
      "application/vnd.jupyter.widget-view+json": {
       "model_id": "a767b62d72304d3795c8d17d6fc9e193",
       "version_major": 2,
       "version_minor": 0
      },
      "text/plain": [
       "  0%|          | 0/83 [00:00<?, ?it/s]"
      ]
     },
     "metadata": {},
     "output_type": "display_data"
    },
    {
     "ename": "Exception",
     "evalue": "Failed to get specialist IDs after 5 attempts: HTTPConnectionPool(host='localhost', port=8000): Read timed out. (read timeout=10)",
     "output_type": "error",
     "traceback": [
      "\u001b[0;31m---------------------------------------------------------------------------\u001b[0m",
      "\u001b[0;31mTimeoutError\u001b[0m                              Traceback (most recent call last)",
      "File \u001b[0;32m~/projects/specialist-prediction/.venv/lib/python3.10/site-packages/urllib3/connectionpool.py:534\u001b[0m, in \u001b[0;36mHTTPConnectionPool._make_request\u001b[0;34m(self, conn, method, url, body, headers, retries, timeout, chunked, response_conn, preload_content, decode_content, enforce_content_length)\u001b[0m\n\u001b[1;32m    533\u001b[0m \u001b[38;5;28;01mtry\u001b[39;00m:\n\u001b[0;32m--> 534\u001b[0m     response \u001b[38;5;241m=\u001b[39m \u001b[43mconn\u001b[49m\u001b[38;5;241;43m.\u001b[39;49m\u001b[43mgetresponse\u001b[49m\u001b[43m(\u001b[49m\u001b[43m)\u001b[49m\n\u001b[1;32m    535\u001b[0m \u001b[38;5;28;01mexcept\u001b[39;00m (BaseSSLError, \u001b[38;5;167;01mOSError\u001b[39;00m) \u001b[38;5;28;01mas\u001b[39;00m e:\n",
      "File \u001b[0;32m~/projects/specialist-prediction/.venv/lib/python3.10/site-packages/urllib3/connection.py:516\u001b[0m, in \u001b[0;36mHTTPConnection.getresponse\u001b[0;34m(self)\u001b[0m\n\u001b[1;32m    515\u001b[0m \u001b[38;5;66;03m# Get the response from http.client.HTTPConnection\u001b[39;00m\n\u001b[0;32m--> 516\u001b[0m httplib_response \u001b[38;5;241m=\u001b[39m \u001b[38;5;28;43msuper\u001b[39;49m\u001b[43m(\u001b[49m\u001b[43m)\u001b[49m\u001b[38;5;241;43m.\u001b[39;49m\u001b[43mgetresponse\u001b[49m\u001b[43m(\u001b[49m\u001b[43m)\u001b[49m\n\u001b[1;32m    518\u001b[0m \u001b[38;5;28;01mtry\u001b[39;00m:\n",
      "File \u001b[0;32m~/.pyenv/versions/3.10.15/lib/python3.10/http/client.py:1375\u001b[0m, in \u001b[0;36mHTTPConnection.getresponse\u001b[0;34m(self)\u001b[0m\n\u001b[1;32m   1374\u001b[0m \u001b[38;5;28;01mtry\u001b[39;00m:\n\u001b[0;32m-> 1375\u001b[0m     \u001b[43mresponse\u001b[49m\u001b[38;5;241;43m.\u001b[39;49m\u001b[43mbegin\u001b[49m\u001b[43m(\u001b[49m\u001b[43m)\u001b[49m\n\u001b[1;32m   1376\u001b[0m \u001b[38;5;28;01mexcept\u001b[39;00m \u001b[38;5;167;01mConnectionError\u001b[39;00m:\n",
      "File \u001b[0;32m~/.pyenv/versions/3.10.15/lib/python3.10/http/client.py:318\u001b[0m, in \u001b[0;36mHTTPResponse.begin\u001b[0;34m(self)\u001b[0m\n\u001b[1;32m    317\u001b[0m \u001b[38;5;28;01mwhile\u001b[39;00m \u001b[38;5;28;01mTrue\u001b[39;00m:\n\u001b[0;32m--> 318\u001b[0m     version, status, reason \u001b[38;5;241m=\u001b[39m \u001b[38;5;28;43mself\u001b[39;49m\u001b[38;5;241;43m.\u001b[39;49m\u001b[43m_read_status\u001b[49m\u001b[43m(\u001b[49m\u001b[43m)\u001b[49m\n\u001b[1;32m    319\u001b[0m     \u001b[38;5;28;01mif\u001b[39;00m status \u001b[38;5;241m!=\u001b[39m CONTINUE:\n",
      "File \u001b[0;32m~/.pyenv/versions/3.10.15/lib/python3.10/http/client.py:279\u001b[0m, in \u001b[0;36mHTTPResponse._read_status\u001b[0;34m(self)\u001b[0m\n\u001b[1;32m    278\u001b[0m \u001b[38;5;28;01mdef\u001b[39;00m\u001b[38;5;250m \u001b[39m\u001b[38;5;21m_read_status\u001b[39m(\u001b[38;5;28mself\u001b[39m):\n\u001b[0;32m--> 279\u001b[0m     line \u001b[38;5;241m=\u001b[39m \u001b[38;5;28mstr\u001b[39m(\u001b[38;5;28;43mself\u001b[39;49m\u001b[38;5;241;43m.\u001b[39;49m\u001b[43mfp\u001b[49m\u001b[38;5;241;43m.\u001b[39;49m\u001b[43mreadline\u001b[49m\u001b[43m(\u001b[49m\u001b[43m_MAXLINE\u001b[49m\u001b[43m \u001b[49m\u001b[38;5;241;43m+\u001b[39;49m\u001b[43m \u001b[49m\u001b[38;5;241;43m1\u001b[39;49m\u001b[43m)\u001b[49m, \u001b[38;5;124m\"\u001b[39m\u001b[38;5;124miso-8859-1\u001b[39m\u001b[38;5;124m\"\u001b[39m)\n\u001b[1;32m    280\u001b[0m     \u001b[38;5;28;01mif\u001b[39;00m \u001b[38;5;28mlen\u001b[39m(line) \u001b[38;5;241m>\u001b[39m _MAXLINE:\n",
      "File \u001b[0;32m~/.pyenv/versions/3.10.15/lib/python3.10/socket.py:717\u001b[0m, in \u001b[0;36mSocketIO.readinto\u001b[0;34m(self, b)\u001b[0m\n\u001b[1;32m    716\u001b[0m \u001b[38;5;28;01mtry\u001b[39;00m:\n\u001b[0;32m--> 717\u001b[0m     \u001b[38;5;28;01mreturn\u001b[39;00m \u001b[38;5;28;43mself\u001b[39;49m\u001b[38;5;241;43m.\u001b[39;49m\u001b[43m_sock\u001b[49m\u001b[38;5;241;43m.\u001b[39;49m\u001b[43mrecv_into\u001b[49m\u001b[43m(\u001b[49m\u001b[43mb\u001b[49m\u001b[43m)\u001b[49m\n\u001b[1;32m    718\u001b[0m \u001b[38;5;28;01mexcept\u001b[39;00m timeout:\n",
      "\u001b[0;31mTimeoutError\u001b[0m: timed out",
      "\nThe above exception was the direct cause of the following exception:\n",
      "\u001b[0;31mReadTimeoutError\u001b[0m                          Traceback (most recent call last)",
      "File \u001b[0;32m~/projects/specialist-prediction/.venv/lib/python3.10/site-packages/requests/adapters.py:667\u001b[0m, in \u001b[0;36mHTTPAdapter.send\u001b[0;34m(self, request, stream, timeout, verify, cert, proxies)\u001b[0m\n\u001b[1;32m    666\u001b[0m \u001b[38;5;28;01mtry\u001b[39;00m:\n\u001b[0;32m--> 667\u001b[0m     resp \u001b[38;5;241m=\u001b[39m \u001b[43mconn\u001b[49m\u001b[38;5;241;43m.\u001b[39;49m\u001b[43murlopen\u001b[49m\u001b[43m(\u001b[49m\n\u001b[1;32m    668\u001b[0m \u001b[43m        \u001b[49m\u001b[43mmethod\u001b[49m\u001b[38;5;241;43m=\u001b[39;49m\u001b[43mrequest\u001b[49m\u001b[38;5;241;43m.\u001b[39;49m\u001b[43mmethod\u001b[49m\u001b[43m,\u001b[49m\n\u001b[1;32m    669\u001b[0m \u001b[43m        \u001b[49m\u001b[43murl\u001b[49m\u001b[38;5;241;43m=\u001b[39;49m\u001b[43murl\u001b[49m\u001b[43m,\u001b[49m\n\u001b[1;32m    670\u001b[0m \u001b[43m        \u001b[49m\u001b[43mbody\u001b[49m\u001b[38;5;241;43m=\u001b[39;49m\u001b[43mrequest\u001b[49m\u001b[38;5;241;43m.\u001b[39;49m\u001b[43mbody\u001b[49m\u001b[43m,\u001b[49m\n\u001b[1;32m    671\u001b[0m \u001b[43m        \u001b[49m\u001b[43mheaders\u001b[49m\u001b[38;5;241;43m=\u001b[39;49m\u001b[43mrequest\u001b[49m\u001b[38;5;241;43m.\u001b[39;49m\u001b[43mheaders\u001b[49m\u001b[43m,\u001b[49m\n\u001b[1;32m    672\u001b[0m \u001b[43m        \u001b[49m\u001b[43mredirect\u001b[49m\u001b[38;5;241;43m=\u001b[39;49m\u001b[38;5;28;43;01mFalse\u001b[39;49;00m\u001b[43m,\u001b[49m\n\u001b[1;32m    673\u001b[0m \u001b[43m        \u001b[49m\u001b[43massert_same_host\u001b[49m\u001b[38;5;241;43m=\u001b[39;49m\u001b[38;5;28;43;01mFalse\u001b[39;49;00m\u001b[43m,\u001b[49m\n\u001b[1;32m    674\u001b[0m \u001b[43m        \u001b[49m\u001b[43mpreload_content\u001b[49m\u001b[38;5;241;43m=\u001b[39;49m\u001b[38;5;28;43;01mFalse\u001b[39;49;00m\u001b[43m,\u001b[49m\n\u001b[1;32m    675\u001b[0m \u001b[43m        \u001b[49m\u001b[43mdecode_content\u001b[49m\u001b[38;5;241;43m=\u001b[39;49m\u001b[38;5;28;43;01mFalse\u001b[39;49;00m\u001b[43m,\u001b[49m\n\u001b[1;32m    676\u001b[0m \u001b[43m        \u001b[49m\u001b[43mretries\u001b[49m\u001b[38;5;241;43m=\u001b[39;49m\u001b[38;5;28;43mself\u001b[39;49m\u001b[38;5;241;43m.\u001b[39;49m\u001b[43mmax_retries\u001b[49m\u001b[43m,\u001b[49m\n\u001b[1;32m    677\u001b[0m \u001b[43m        \u001b[49m\u001b[43mtimeout\u001b[49m\u001b[38;5;241;43m=\u001b[39;49m\u001b[43mtimeout\u001b[49m\u001b[43m,\u001b[49m\n\u001b[1;32m    678\u001b[0m \u001b[43m        \u001b[49m\u001b[43mchunked\u001b[49m\u001b[38;5;241;43m=\u001b[39;49m\u001b[43mchunked\u001b[49m\u001b[43m,\u001b[49m\n\u001b[1;32m    679\u001b[0m \u001b[43m    \u001b[49m\u001b[43m)\u001b[49m\n\u001b[1;32m    681\u001b[0m \u001b[38;5;28;01mexcept\u001b[39;00m (ProtocolError, \u001b[38;5;167;01mOSError\u001b[39;00m) \u001b[38;5;28;01mas\u001b[39;00m err:\n",
      "File \u001b[0;32m~/projects/specialist-prediction/.venv/lib/python3.10/site-packages/urllib3/connectionpool.py:841\u001b[0m, in \u001b[0;36mHTTPConnectionPool.urlopen\u001b[0;34m(self, method, url, body, headers, retries, redirect, assert_same_host, timeout, pool_timeout, release_conn, chunked, body_pos, preload_content, decode_content, **response_kw)\u001b[0m\n\u001b[1;32m    839\u001b[0m     new_e \u001b[38;5;241m=\u001b[39m ProtocolError(\u001b[38;5;124m\"\u001b[39m\u001b[38;5;124mConnection aborted.\u001b[39m\u001b[38;5;124m\"\u001b[39m, new_e)\n\u001b[0;32m--> 841\u001b[0m retries \u001b[38;5;241m=\u001b[39m \u001b[43mretries\u001b[49m\u001b[38;5;241;43m.\u001b[39;49m\u001b[43mincrement\u001b[49m\u001b[43m(\u001b[49m\n\u001b[1;32m    842\u001b[0m \u001b[43m    \u001b[49m\u001b[43mmethod\u001b[49m\u001b[43m,\u001b[49m\u001b[43m \u001b[49m\u001b[43murl\u001b[49m\u001b[43m,\u001b[49m\u001b[43m \u001b[49m\u001b[43merror\u001b[49m\u001b[38;5;241;43m=\u001b[39;49m\u001b[43mnew_e\u001b[49m\u001b[43m,\u001b[49m\u001b[43m \u001b[49m\u001b[43m_pool\u001b[49m\u001b[38;5;241;43m=\u001b[39;49m\u001b[38;5;28;43mself\u001b[39;49m\u001b[43m,\u001b[49m\u001b[43m \u001b[49m\u001b[43m_stacktrace\u001b[49m\u001b[38;5;241;43m=\u001b[39;49m\u001b[43msys\u001b[49m\u001b[38;5;241;43m.\u001b[39;49m\u001b[43mexc_info\u001b[49m\u001b[43m(\u001b[49m\u001b[43m)\u001b[49m\u001b[43m[\u001b[49m\u001b[38;5;241;43m2\u001b[39;49m\u001b[43m]\u001b[49m\n\u001b[1;32m    843\u001b[0m \u001b[43m\u001b[49m\u001b[43m)\u001b[49m\n\u001b[1;32m    844\u001b[0m retries\u001b[38;5;241m.\u001b[39msleep()\n",
      "File \u001b[0;32m~/projects/specialist-prediction/.venv/lib/python3.10/site-packages/urllib3/util/retry.py:474\u001b[0m, in \u001b[0;36mRetry.increment\u001b[0;34m(self, method, url, response, error, _pool, _stacktrace)\u001b[0m\n\u001b[1;32m    473\u001b[0m \u001b[38;5;28;01mif\u001b[39;00m read \u001b[38;5;129;01mis\u001b[39;00m \u001b[38;5;28;01mFalse\u001b[39;00m \u001b[38;5;129;01mor\u001b[39;00m method \u001b[38;5;129;01mis\u001b[39;00m \u001b[38;5;28;01mNone\u001b[39;00m \u001b[38;5;129;01mor\u001b[39;00m \u001b[38;5;129;01mnot\u001b[39;00m \u001b[38;5;28mself\u001b[39m\u001b[38;5;241m.\u001b[39m_is_method_retryable(method):\n\u001b[0;32m--> 474\u001b[0m     \u001b[38;5;28;01mraise\u001b[39;00m \u001b[43mreraise\u001b[49m\u001b[43m(\u001b[49m\u001b[38;5;28;43mtype\u001b[39;49m\u001b[43m(\u001b[49m\u001b[43merror\u001b[49m\u001b[43m)\u001b[49m\u001b[43m,\u001b[49m\u001b[43m \u001b[49m\u001b[43merror\u001b[49m\u001b[43m,\u001b[49m\u001b[43m \u001b[49m\u001b[43m_stacktrace\u001b[49m\u001b[43m)\u001b[49m\n\u001b[1;32m    475\u001b[0m \u001b[38;5;28;01melif\u001b[39;00m read \u001b[38;5;129;01mis\u001b[39;00m \u001b[38;5;129;01mnot\u001b[39;00m \u001b[38;5;28;01mNone\u001b[39;00m:\n",
      "File \u001b[0;32m~/projects/specialist-prediction/.venv/lib/python3.10/site-packages/urllib3/util/util.py:39\u001b[0m, in \u001b[0;36mreraise\u001b[0;34m(tp, value, tb)\u001b[0m\n\u001b[1;32m     38\u001b[0m         \u001b[38;5;28;01mraise\u001b[39;00m value\u001b[38;5;241m.\u001b[39mwith_traceback(tb)\n\u001b[0;32m---> 39\u001b[0m     \u001b[38;5;28;01mraise\u001b[39;00m value\n\u001b[1;32m     40\u001b[0m \u001b[38;5;28;01mfinally\u001b[39;00m:\n",
      "File \u001b[0;32m~/projects/specialist-prediction/.venv/lib/python3.10/site-packages/urllib3/connectionpool.py:787\u001b[0m, in \u001b[0;36mHTTPConnectionPool.urlopen\u001b[0;34m(self, method, url, body, headers, retries, redirect, assert_same_host, timeout, pool_timeout, release_conn, chunked, body_pos, preload_content, decode_content, **response_kw)\u001b[0m\n\u001b[1;32m    786\u001b[0m \u001b[38;5;66;03m# Make the request on the HTTPConnection object\u001b[39;00m\n\u001b[0;32m--> 787\u001b[0m response \u001b[38;5;241m=\u001b[39m \u001b[38;5;28;43mself\u001b[39;49m\u001b[38;5;241;43m.\u001b[39;49m\u001b[43m_make_request\u001b[49m\u001b[43m(\u001b[49m\n\u001b[1;32m    788\u001b[0m \u001b[43m    \u001b[49m\u001b[43mconn\u001b[49m\u001b[43m,\u001b[49m\n\u001b[1;32m    789\u001b[0m \u001b[43m    \u001b[49m\u001b[43mmethod\u001b[49m\u001b[43m,\u001b[49m\n\u001b[1;32m    790\u001b[0m \u001b[43m    \u001b[49m\u001b[43murl\u001b[49m\u001b[43m,\u001b[49m\n\u001b[1;32m    791\u001b[0m \u001b[43m    \u001b[49m\u001b[43mtimeout\u001b[49m\u001b[38;5;241;43m=\u001b[39;49m\u001b[43mtimeout_obj\u001b[49m\u001b[43m,\u001b[49m\n\u001b[1;32m    792\u001b[0m \u001b[43m    \u001b[49m\u001b[43mbody\u001b[49m\u001b[38;5;241;43m=\u001b[39;49m\u001b[43mbody\u001b[49m\u001b[43m,\u001b[49m\n\u001b[1;32m    793\u001b[0m \u001b[43m    \u001b[49m\u001b[43mheaders\u001b[49m\u001b[38;5;241;43m=\u001b[39;49m\u001b[43mheaders\u001b[49m\u001b[43m,\u001b[49m\n\u001b[1;32m    794\u001b[0m \u001b[43m    \u001b[49m\u001b[43mchunked\u001b[49m\u001b[38;5;241;43m=\u001b[39;49m\u001b[43mchunked\u001b[49m\u001b[43m,\u001b[49m\n\u001b[1;32m    795\u001b[0m \u001b[43m    \u001b[49m\u001b[43mretries\u001b[49m\u001b[38;5;241;43m=\u001b[39;49m\u001b[43mretries\u001b[49m\u001b[43m,\u001b[49m\n\u001b[1;32m    796\u001b[0m \u001b[43m    \u001b[49m\u001b[43mresponse_conn\u001b[49m\u001b[38;5;241;43m=\u001b[39;49m\u001b[43mresponse_conn\u001b[49m\u001b[43m,\u001b[49m\n\u001b[1;32m    797\u001b[0m \u001b[43m    \u001b[49m\u001b[43mpreload_content\u001b[49m\u001b[38;5;241;43m=\u001b[39;49m\u001b[43mpreload_content\u001b[49m\u001b[43m,\u001b[49m\n\u001b[1;32m    798\u001b[0m \u001b[43m    \u001b[49m\u001b[43mdecode_content\u001b[49m\u001b[38;5;241;43m=\u001b[39;49m\u001b[43mdecode_content\u001b[49m\u001b[43m,\u001b[49m\n\u001b[1;32m    799\u001b[0m \u001b[43m    \u001b[49m\u001b[38;5;241;43m*\u001b[39;49m\u001b[38;5;241;43m*\u001b[39;49m\u001b[43mresponse_kw\u001b[49m\u001b[43m,\u001b[49m\n\u001b[1;32m    800\u001b[0m \u001b[43m\u001b[49m\u001b[43m)\u001b[49m\n\u001b[1;32m    802\u001b[0m \u001b[38;5;66;03m# Everything went great!\u001b[39;00m\n",
      "File \u001b[0;32m~/projects/specialist-prediction/.venv/lib/python3.10/site-packages/urllib3/connectionpool.py:536\u001b[0m, in \u001b[0;36mHTTPConnectionPool._make_request\u001b[0;34m(self, conn, method, url, body, headers, retries, timeout, chunked, response_conn, preload_content, decode_content, enforce_content_length)\u001b[0m\n\u001b[1;32m    535\u001b[0m \u001b[38;5;28;01mexcept\u001b[39;00m (BaseSSLError, \u001b[38;5;167;01mOSError\u001b[39;00m) \u001b[38;5;28;01mas\u001b[39;00m e:\n\u001b[0;32m--> 536\u001b[0m     \u001b[38;5;28;43mself\u001b[39;49m\u001b[38;5;241;43m.\u001b[39;49m\u001b[43m_raise_timeout\u001b[49m\u001b[43m(\u001b[49m\u001b[43merr\u001b[49m\u001b[38;5;241;43m=\u001b[39;49m\u001b[43me\u001b[49m\u001b[43m,\u001b[49m\u001b[43m \u001b[49m\u001b[43murl\u001b[49m\u001b[38;5;241;43m=\u001b[39;49m\u001b[43murl\u001b[49m\u001b[43m,\u001b[49m\u001b[43m \u001b[49m\u001b[43mtimeout_value\u001b[49m\u001b[38;5;241;43m=\u001b[39;49m\u001b[43mread_timeout\u001b[49m\u001b[43m)\u001b[49m\n\u001b[1;32m    537\u001b[0m     \u001b[38;5;28;01mraise\u001b[39;00m\n",
      "File \u001b[0;32m~/projects/specialist-prediction/.venv/lib/python3.10/site-packages/urllib3/connectionpool.py:367\u001b[0m, in \u001b[0;36mHTTPConnectionPool._raise_timeout\u001b[0;34m(self, err, url, timeout_value)\u001b[0m\n\u001b[1;32m    366\u001b[0m \u001b[38;5;28;01mif\u001b[39;00m \u001b[38;5;28misinstance\u001b[39m(err, SocketTimeout):\n\u001b[0;32m--> 367\u001b[0m     \u001b[38;5;28;01mraise\u001b[39;00m ReadTimeoutError(\n\u001b[1;32m    368\u001b[0m         \u001b[38;5;28mself\u001b[39m, url, \u001b[38;5;124mf\u001b[39m\u001b[38;5;124m\"\u001b[39m\u001b[38;5;124mRead timed out. (read timeout=\u001b[39m\u001b[38;5;132;01m{\u001b[39;00mtimeout_value\u001b[38;5;132;01m}\u001b[39;00m\u001b[38;5;124m)\u001b[39m\u001b[38;5;124m\"\u001b[39m\n\u001b[1;32m    369\u001b[0m     ) \u001b[38;5;28;01mfrom\u001b[39;00m\u001b[38;5;250m \u001b[39m\u001b[38;5;21;01merr\u001b[39;00m\n\u001b[1;32m    371\u001b[0m \u001b[38;5;66;03m# See the above comment about EAGAIN in Python 3.\u001b[39;00m\n",
      "\u001b[0;31mReadTimeoutError\u001b[0m: HTTPConnectionPool(host='localhost', port=8000): Read timed out. (read timeout=10)",
      "\nDuring handling of the above exception, another exception occurred:\n",
      "\u001b[0;31mReadTimeout\u001b[0m                               Traceback (most recent call last)",
      "File \u001b[0;32m~/projects/specialist-prediction/notebooks/../src/features/embeddings.py:45\u001b[0m, in \u001b[0;36mget_specialist_ids\u001b[0;34m(queries, max_retries, retry_delay)\u001b[0m\n\u001b[1;32m     44\u001b[0m \u001b[38;5;28;01mtry\u001b[39;00m:\n\u001b[0;32m---> 45\u001b[0m     response \u001b[38;5;241m=\u001b[39m \u001b[43mrequests\u001b[49m\u001b[38;5;241;43m.\u001b[39;49m\u001b[43mpost\u001b[49m\u001b[43m(\u001b[49m\u001b[43mbase_url\u001b[49m\u001b[43m,\u001b[49m\u001b[43m \u001b[49m\u001b[43mjson\u001b[49m\u001b[38;5;241;43m=\u001b[39;49m\u001b[43mbody\u001b[49m\u001b[43m,\u001b[49m\u001b[43m \u001b[49m\u001b[43mtimeout\u001b[49m\u001b[38;5;241;43m=\u001b[39;49m\u001b[38;5;241;43m10\u001b[39;49m\u001b[43m)\u001b[49m\n\u001b[1;32m     46\u001b[0m     response\u001b[38;5;241m.\u001b[39mraise_for_status()  \u001b[38;5;66;03m# Raise exception for 4XX/5XX responses\u001b[39;00m\n",
      "File \u001b[0;32m~/projects/specialist-prediction/.venv/lib/python3.10/site-packages/requests/api.py:115\u001b[0m, in \u001b[0;36mpost\u001b[0;34m(url, data, json, **kwargs)\u001b[0m\n\u001b[1;32m    104\u001b[0m \u001b[38;5;250m\u001b[39m\u001b[38;5;124mr\u001b[39m\u001b[38;5;124;03m\"\"\"Sends a POST request.\u001b[39;00m\n\u001b[1;32m    105\u001b[0m \n\u001b[1;32m    106\u001b[0m \u001b[38;5;124;03m:param url: URL for the new :class:`Request` object.\u001b[39;00m\n\u001b[0;32m   (...)\u001b[0m\n\u001b[1;32m    112\u001b[0m \u001b[38;5;124;03m:rtype: requests.Response\u001b[39;00m\n\u001b[1;32m    113\u001b[0m \u001b[38;5;124;03m\"\"\"\u001b[39;00m\n\u001b[0;32m--> 115\u001b[0m \u001b[38;5;28;01mreturn\u001b[39;00m \u001b[43mrequest\u001b[49m\u001b[43m(\u001b[49m\u001b[38;5;124;43m\"\u001b[39;49m\u001b[38;5;124;43mpost\u001b[39;49m\u001b[38;5;124;43m\"\u001b[39;49m\u001b[43m,\u001b[49m\u001b[43m \u001b[49m\u001b[43murl\u001b[49m\u001b[43m,\u001b[49m\u001b[43m \u001b[49m\u001b[43mdata\u001b[49m\u001b[38;5;241;43m=\u001b[39;49m\u001b[43mdata\u001b[49m\u001b[43m,\u001b[49m\u001b[43m \u001b[49m\u001b[43mjson\u001b[49m\u001b[38;5;241;43m=\u001b[39;49m\u001b[43mjson\u001b[49m\u001b[43m,\u001b[49m\u001b[43m \u001b[49m\u001b[38;5;241;43m*\u001b[39;49m\u001b[38;5;241;43m*\u001b[39;49m\u001b[43mkwargs\u001b[49m\u001b[43m)\u001b[49m\n",
      "File \u001b[0;32m~/projects/specialist-prediction/.venv/lib/python3.10/site-packages/requests/api.py:59\u001b[0m, in \u001b[0;36mrequest\u001b[0;34m(method, url, **kwargs)\u001b[0m\n\u001b[1;32m     58\u001b[0m \u001b[38;5;28;01mwith\u001b[39;00m sessions\u001b[38;5;241m.\u001b[39mSession() \u001b[38;5;28;01mas\u001b[39;00m session:\n\u001b[0;32m---> 59\u001b[0m     \u001b[38;5;28;01mreturn\u001b[39;00m \u001b[43msession\u001b[49m\u001b[38;5;241;43m.\u001b[39;49m\u001b[43mrequest\u001b[49m\u001b[43m(\u001b[49m\u001b[43mmethod\u001b[49m\u001b[38;5;241;43m=\u001b[39;49m\u001b[43mmethod\u001b[49m\u001b[43m,\u001b[49m\u001b[43m \u001b[49m\u001b[43murl\u001b[49m\u001b[38;5;241;43m=\u001b[39;49m\u001b[43murl\u001b[49m\u001b[43m,\u001b[49m\u001b[43m \u001b[49m\u001b[38;5;241;43m*\u001b[39;49m\u001b[38;5;241;43m*\u001b[39;49m\u001b[43mkwargs\u001b[49m\u001b[43m)\u001b[49m\n",
      "File \u001b[0;32m~/projects/specialist-prediction/.venv/lib/python3.10/site-packages/requests/sessions.py:589\u001b[0m, in \u001b[0;36mSession.request\u001b[0;34m(self, method, url, params, data, headers, cookies, files, auth, timeout, allow_redirects, proxies, hooks, stream, verify, cert, json)\u001b[0m\n\u001b[1;32m    588\u001b[0m send_kwargs\u001b[38;5;241m.\u001b[39mupdate(settings)\n\u001b[0;32m--> 589\u001b[0m resp \u001b[38;5;241m=\u001b[39m \u001b[38;5;28;43mself\u001b[39;49m\u001b[38;5;241;43m.\u001b[39;49m\u001b[43msend\u001b[49m\u001b[43m(\u001b[49m\u001b[43mprep\u001b[49m\u001b[43m,\u001b[49m\u001b[43m \u001b[49m\u001b[38;5;241;43m*\u001b[39;49m\u001b[38;5;241;43m*\u001b[39;49m\u001b[43msend_kwargs\u001b[49m\u001b[43m)\u001b[49m\n\u001b[1;32m    591\u001b[0m \u001b[38;5;28;01mreturn\u001b[39;00m resp\n",
      "File \u001b[0;32m~/projects/specialist-prediction/.venv/lib/python3.10/site-packages/requests/sessions.py:703\u001b[0m, in \u001b[0;36mSession.send\u001b[0;34m(self, request, **kwargs)\u001b[0m\n\u001b[1;32m    702\u001b[0m \u001b[38;5;66;03m# Send the request\u001b[39;00m\n\u001b[0;32m--> 703\u001b[0m r \u001b[38;5;241m=\u001b[39m \u001b[43madapter\u001b[49m\u001b[38;5;241;43m.\u001b[39;49m\u001b[43msend\u001b[49m\u001b[43m(\u001b[49m\u001b[43mrequest\u001b[49m\u001b[43m,\u001b[49m\u001b[43m \u001b[49m\u001b[38;5;241;43m*\u001b[39;49m\u001b[38;5;241;43m*\u001b[39;49m\u001b[43mkwargs\u001b[49m\u001b[43m)\u001b[49m\n\u001b[1;32m    705\u001b[0m \u001b[38;5;66;03m# Total elapsed time of the request (approximately)\u001b[39;00m\n",
      "File \u001b[0;32m~/projects/specialist-prediction/.venv/lib/python3.10/site-packages/requests/adapters.py:713\u001b[0m, in \u001b[0;36mHTTPAdapter.send\u001b[0;34m(self, request, stream, timeout, verify, cert, proxies)\u001b[0m\n\u001b[1;32m    712\u001b[0m \u001b[38;5;28;01melif\u001b[39;00m \u001b[38;5;28misinstance\u001b[39m(e, ReadTimeoutError):\n\u001b[0;32m--> 713\u001b[0m     \u001b[38;5;28;01mraise\u001b[39;00m ReadTimeout(e, request\u001b[38;5;241m=\u001b[39mrequest)\n\u001b[1;32m    714\u001b[0m \u001b[38;5;28;01melif\u001b[39;00m \u001b[38;5;28misinstance\u001b[39m(e, _InvalidHeader):\n",
      "\u001b[0;31mReadTimeout\u001b[0m: HTTPConnectionPool(host='localhost', port=8000): Read timed out. (read timeout=10)",
      "\nDuring handling of the above exception, another exception occurred:\n",
      "\u001b[0;31mException\u001b[0m                                 Traceback (most recent call last)",
      "Cell \u001b[0;32mIn[87], line 1\u001b[0m\n\u001b[0;32m----> 1\u001b[0m tieu_hoa_df \u001b[38;5;241m=\u001b[39m \u001b[43mapply_specialist_ids_to_df\u001b[49m\u001b[43m(\u001b[49m\n\u001b[1;32m      2\u001b[0m \u001b[43m    \u001b[49m\u001b[43mtieu_hoa_df\u001b[49m\u001b[43m,\u001b[49m\n\u001b[1;32m      3\u001b[0m \u001b[43m    \u001b[49m\u001b[43mbatch_size\u001b[49m\u001b[38;5;241;43m=\u001b[39;49m\u001b[38;5;241;43m64\u001b[39;49m\u001b[43m,\u001b[49m\n\u001b[1;32m      4\u001b[0m \u001b[43m)\u001b[49m\n",
      "Cell \u001b[0;32mIn[85], line 15\u001b[0m, in \u001b[0;36mapply_specialist_ids_to_df\u001b[0;34m(df, column_name, batch_size)\u001b[0m\n\u001b[1;32m     13\u001b[0m     batch \u001b[38;5;241m=\u001b[39m df\u001b[38;5;241m.\u001b[39miloc[i \u001b[38;5;241m*\u001b[39m batch_size : (i \u001b[38;5;241m+\u001b[39m \u001b[38;5;241m1\u001b[39m) \u001b[38;5;241m*\u001b[39m batch_size]\n\u001b[1;32m     14\u001b[0m     queries \u001b[38;5;241m=\u001b[39m batch[column_name]\u001b[38;5;241m.\u001b[39mtolist()\n\u001b[0;32m---> 15\u001b[0m     results \u001b[38;5;241m=\u001b[39m \u001b[43mget_specialist_ids\u001b[49m\u001b[43m(\u001b[49m\u001b[43mqueries\u001b[49m\u001b[43m,\u001b[49m\u001b[43m \u001b[49m\u001b[43mmax_retries\u001b[49m\u001b[38;5;241;43m=\u001b[39;49m\u001b[38;5;241;43m5\u001b[39;49m\u001b[43m,\u001b[49m\u001b[43m \u001b[49m\u001b[43mretry_delay\u001b[49m\u001b[38;5;241;43m=\u001b[39;49m\u001b[38;5;241;43m30\u001b[39;49m\u001b[43m)\u001b[49m\n\u001b[1;32m     16\u001b[0m     all_results\u001b[38;5;241m.\u001b[39mextend(results)\n\u001b[1;32m     18\u001b[0m results_df \u001b[38;5;241m=\u001b[39m pd\u001b[38;5;241m.\u001b[39mDataFrame(all_results)\n",
      "File \u001b[0;32m~/projects/specialist-prediction/notebooks/../src/features/embeddings.py:61\u001b[0m, in \u001b[0;36mget_specialist_ids\u001b[0;34m(queries, max_retries, retry_delay)\u001b[0m\n\u001b[1;32m     59\u001b[0m     time\u001b[38;5;241m.\u001b[39msleep(retry_delay)\n\u001b[1;32m     60\u001b[0m     \u001b[38;5;28;01mcontinue\u001b[39;00m\n\u001b[0;32m---> 61\u001b[0m \u001b[38;5;28;01mraise\u001b[39;00m \u001b[38;5;167;01mException\u001b[39;00m(\u001b[38;5;124mf\u001b[39m\u001b[38;5;124m\"\u001b[39m\u001b[38;5;124mFailed to get specialist IDs after \u001b[39m\u001b[38;5;132;01m{\u001b[39;00mmax_retries\u001b[38;5;132;01m}\u001b[39;00m\u001b[38;5;124m attempts: \u001b[39m\u001b[38;5;132;01m{\u001b[39;00m\u001b[38;5;28mstr\u001b[39m(e)\u001b[38;5;132;01m}\u001b[39;00m\u001b[38;5;124m\"\u001b[39m)\n",
      "\u001b[0;31mException\u001b[0m: Failed to get specialist IDs after 5 attempts: HTTPConnectionPool(host='localhost', port=8000): Read timed out. (read timeout=10)"
     ]
    }
   ],
   "source": [
    "tieu_hoa_df = apply_specialist_ids_to_df(\n",
    "    tieu_hoa_df,\n",
    "    batch_size=64,\n",
    ")"
   ]
  },
  {
   "cell_type": "code",
   "execution_count": null,
   "id": "c4dc2ee9-d6bd-43fc-9b8c-901f8e41863d",
   "metadata": {},
   "outputs": [],
   "source": [
    "tieu_hoa_df.to_csv('../data/tieu_hoa_deduplicate.csv')"
   ]
  },
  {
   "cell_type": "markdown",
   "id": "69773066-0eee-4d97-8294-d0f2a3ad0862",
   "metadata": {},
   "source": [
    "### Balance the data"
   ]
  },
  {
   "cell_type": "code",
   "execution_count": 63,
   "id": "424504bf-3e1a-42fa-ae07-026c662e4055",
   "metadata": {},
   "outputs": [
    {
     "data": {
      "text/html": [
       "<div>\n",
       "<style scoped>\n",
       "    .dataframe tbody tr th:only-of-type {\n",
       "        vertical-align: middle;\n",
       "    }\n",
       "\n",
       "    .dataframe tbody tr th {\n",
       "        vertical-align: top;\n",
       "    }\n",
       "\n",
       "    .dataframe thead th {\n",
       "        text-align: right;\n",
       "    }\n",
       "</style>\n",
       "<table border=\"1\" class=\"dataframe\">\n",
       "  <thead>\n",
       "    <tr style=\"text-align: right;\">\n",
       "      <th></th>\n",
       "      <th>partner_id</th>\n",
       "      <th>specialist_id</th>\n",
       "      <th>status</th>\n",
       "      <th>gender</th>\n",
       "      <th>province_id</th>\n",
       "      <th>age</th>\n",
       "      <th>reason_combind</th>\n",
       "      <th>specialist_name</th>\n",
       "    </tr>\n",
       "  </thead>\n",
       "  <tbody>\n",
       "    <tr>\n",
       "      <th>69524</th>\n",
       "      <td>135</td>\n",
       "      <td>1</td>\n",
       "      <td>2</td>\n",
       "      <td>1.0</td>\n",
       "      <td>36</td>\n",
       "      <td>36</td>\n",
       "      <td>khám chẩn do bị ngã xe.</td>\n",
       "      <td>cơ xương khớp</td>\n",
       "    </tr>\n",
       "    <tr>\n",
       "      <th>147559</th>\n",
       "      <td>299</td>\n",
       "      <td>1</td>\n",
       "      <td>2</td>\n",
       "      <td>1.0</td>\n",
       "      <td>79</td>\n",
       "      <td>0</td>\n",
       "      <td>đau đầu gối</td>\n",
       "      <td>cơ xương khớp</td>\n",
       "    </tr>\n",
       "    <tr>\n",
       "      <th>77536</th>\n",
       "      <td>299</td>\n",
       "      <td>1</td>\n",
       "      <td>2</td>\n",
       "      <td>0.0</td>\n",
       "      <td>95</td>\n",
       "      <td>28</td>\n",
       "      <td>ở xa</td>\n",
       "      <td>cơ xương khớp</td>\n",
       "    </tr>\n",
       "    <tr>\n",
       "      <th>130089</th>\n",
       "      <td>124</td>\n",
       "      <td>1</td>\n",
       "      <td>2</td>\n",
       "      <td>0.0</td>\n",
       "      <td>56</td>\n",
       "      <td>0</td>\n",
       "      <td>đau khớp gối. phía sau gối, sợi gân nó căng, n...</td>\n",
       "      <td>cơ xương khớp</td>\n",
       "    </tr>\n",
       "    <tr>\n",
       "      <th>67621</th>\n",
       "      <td>10</td>\n",
       "      <td>1</td>\n",
       "      <td>2</td>\n",
       "      <td>1.0</td>\n",
       "      <td>1</td>\n",
       "      <td>48</td>\n",
       "      <td>đau thắt lưng</td>\n",
       "      <td>cơ xương khớp</td>\n",
       "    </tr>\n",
       "  </tbody>\n",
       "</table>\n",
       "</div>"
      ],
      "text/plain": [
       "        partner_id  specialist_id  status  gender  province_id  age  \\\n",
       "69524          135              1       2     1.0           36   36   \n",
       "147559         299              1       2     1.0           79    0   \n",
       "77536          299              1       2     0.0           95   28   \n",
       "130089         124              1       2     0.0           56    0   \n",
       "67621           10              1       2     1.0            1   48   \n",
       "\n",
       "                                           reason_combind specialist_name  \n",
       "69524                             khám chẩn do bị ngã xe.   cơ xương khớp  \n",
       "147559                                        đau đầu gối   cơ xương khớp  \n",
       "77536                                                ở xa   cơ xương khớp  \n",
       "130089  đau khớp gối. phía sau gối, sợi gân nó căng, n...   cơ xương khớp  \n",
       "67621                                       đau thắt lưng   cơ xương khớp  "
      ]
     },
     "execution_count": 63,
     "metadata": {},
     "output_type": "execute_result"
    }
   ],
   "source": [
    "# Ensure each specialist has maximum 2372 samples\n",
    "MAX_SAMPLES_PER_SPECIALIST = 6253\n",
    "specialist_counts = features['specialist_id'].value_counts()\n",
    "\n",
    "# Create a balanced dataset by taking up to MAX_SAMPLES_PER_SPECIALIST per specialist\n",
    "balanced_label_features = pd.DataFrame()\n",
    "for specialist_id in specialist_counts.index:\n",
    "    specialist_data = features[features['specialist_id'] == specialist_id]\n",
    "    if len(specialist_data) > MAX_SAMPLES_PER_SPECIALIST:\n",
    "        balanced_data = specialist_data.sample(MAX_SAMPLES_PER_SPECIALIST, random_state=42)\n",
    "    else:\n",
    "        balanced_data = specialist_data\n",
    "    balanced_label_features = pd.concat([balanced_label_features, balanced_data])\n",
    "\n",
    "balanced_label_features.shape\n",
    "balanced_label_features.head()"
   ]
  },
  {
   "cell_type": "code",
   "execution_count": 64,
   "id": "9bacafa0-2355-4e57-bd32-0b0b418658d4",
   "metadata": {},
   "outputs": [
    {
     "data": {
      "text/html": [
       "<div>\n",
       "<style scoped>\n",
       "    .dataframe tbody tr th:only-of-type {\n",
       "        vertical-align: middle;\n",
       "    }\n",
       "\n",
       "    .dataframe tbody tr th {\n",
       "        vertical-align: top;\n",
       "    }\n",
       "\n",
       "    .dataframe thead th {\n",
       "        text-align: right;\n",
       "    }\n",
       "</style>\n",
       "<table border=\"1\" class=\"dataframe\">\n",
       "  <thead>\n",
       "    <tr style=\"text-align: right;\">\n",
       "      <th></th>\n",
       "      <th>partner_id</th>\n",
       "      <th>specialist_id</th>\n",
       "      <th>status</th>\n",
       "      <th>gender</th>\n",
       "      <th>province_id</th>\n",
       "      <th>age</th>\n",
       "      <th>reason_combind</th>\n",
       "      <th>specialist_name</th>\n",
       "    </tr>\n",
       "  </thead>\n",
       "  <tbody>\n",
       "    <tr>\n",
       "      <th>69524</th>\n",
       "      <td>135</td>\n",
       "      <td>1</td>\n",
       "      <td>2</td>\n",
       "      <td>1.0</td>\n",
       "      <td>36</td>\n",
       "      <td>36</td>\n",
       "      <td>khám chẩn do bị ngã xe.</td>\n",
       "      <td>cơ xương khớp</td>\n",
       "    </tr>\n",
       "    <tr>\n",
       "      <th>147559</th>\n",
       "      <td>299</td>\n",
       "      <td>1</td>\n",
       "      <td>2</td>\n",
       "      <td>1.0</td>\n",
       "      <td>79</td>\n",
       "      <td>0</td>\n",
       "      <td>đau đầu gối</td>\n",
       "      <td>cơ xương khớp</td>\n",
       "    </tr>\n",
       "    <tr>\n",
       "      <th>77536</th>\n",
       "      <td>299</td>\n",
       "      <td>1</td>\n",
       "      <td>2</td>\n",
       "      <td>0.0</td>\n",
       "      <td>95</td>\n",
       "      <td>28</td>\n",
       "      <td>ở xa</td>\n",
       "      <td>cơ xương khớp</td>\n",
       "    </tr>\n",
       "    <tr>\n",
       "      <th>130089</th>\n",
       "      <td>124</td>\n",
       "      <td>1</td>\n",
       "      <td>2</td>\n",
       "      <td>0.0</td>\n",
       "      <td>56</td>\n",
       "      <td>0</td>\n",
       "      <td>đau khớp gối. phía sau gối, sợi gân nó căng, n...</td>\n",
       "      <td>cơ xương khớp</td>\n",
       "    </tr>\n",
       "    <tr>\n",
       "      <th>67621</th>\n",
       "      <td>10</td>\n",
       "      <td>1</td>\n",
       "      <td>2</td>\n",
       "      <td>1.0</td>\n",
       "      <td>1</td>\n",
       "      <td>48</td>\n",
       "      <td>đau thắt lưng</td>\n",
       "      <td>cơ xương khớp</td>\n",
       "    </tr>\n",
       "  </tbody>\n",
       "</table>\n",
       "</div>"
      ],
      "text/plain": [
       "        partner_id  specialist_id  status  gender  province_id  age  \\\n",
       "69524          135              1       2     1.0           36   36   \n",
       "147559         299              1       2     1.0           79    0   \n",
       "77536          299              1       2     0.0           95   28   \n",
       "130089         124              1       2     0.0           56    0   \n",
       "67621           10              1       2     1.0            1   48   \n",
       "\n",
       "                                           reason_combind specialist_name  \n",
       "69524                             khám chẩn do bị ngã xe.   cơ xương khớp  \n",
       "147559                                        đau đầu gối   cơ xương khớp  \n",
       "77536                                                ở xa   cơ xương khớp  \n",
       "130089  đau khớp gối. phía sau gối, sợi gân nó căng, n...   cơ xương khớp  \n",
       "67621                                       đau thắt lưng   cơ xương khớp  "
      ]
     },
     "execution_count": 64,
     "metadata": {},
     "output_type": "execute_result"
    }
   ],
   "source": [
    "balanced_label_features.head()"
   ]
  },
  {
   "cell_type": "code",
   "execution_count": 65,
   "id": "bd6e0902-8380-4fa2-9a3f-9ae6f79190e9",
   "metadata": {},
   "outputs": [
    {
     "data": {
      "text/plain": [
       "array([ 1, 22, 18, 11,  4, 17, 27, 26,  3, 19, 29, 32, 15,  5, 21, 43, 67])"
      ]
     },
     "execution_count": 65,
     "metadata": {},
     "output_type": "execute_result"
    }
   ],
   "source": [
    "balanced_label_features['specialist_id'].unique()"
   ]
  },
  {
   "cell_type": "code",
   "execution_count": 66,
   "id": "09268e77-3521-427d-80e9-f0cb1791f329",
   "metadata": {},
   "outputs": [
    {
     "data": {
      "text/plain": [
       "<Axes: xlabel='specialist_id', ylabel='count'>"
      ]
     },
     "execution_count": 66,
     "metadata": {},
     "output_type": "execute_result"
    },
    {
     "data": {
      "image/png": "[encoded data removed]",
      "text/plain": [
       "<Figure size 1800x500 with 1 Axes>"
      ]
     },
     "metadata": {},
     "output_type": "display_data"
    }
   ],
   "source": [
    "fig, ax = plt.subplots(figsize=(18, 5))\n",
    "sns.set_theme(style=\"whitegrid\")\n",
    "sns.countplot(x=balanced_label_features['specialist_id'])"
   ]
  },
  {
   "cell_type": "code",
   "execution_count": 67,
   "id": "910383cd-ee6f-46d9-b28a-d90eb4a31d0d",
   "metadata": {},
   "outputs": [
    {
     "data": {
      "text/plain": [
       "specialist_id\n",
       "1     6253\n",
       "22    6253\n",
       "18    6253\n",
       "11    6253\n",
       "4     6253\n",
       "17    6253\n",
       "27    6253\n",
       "26    6253\n",
       "3     6253\n",
       "19    4535\n",
       "29    3486\n",
       "32    2523\n",
       "15    2463\n",
       "5     2141\n",
       "21    2104\n",
       "43    1138\n",
       "67     701\n",
       "Name: count, dtype: int64"
      ]
     },
     "execution_count": 67,
     "metadata": {},
     "output_type": "execute_result"
    }
   ],
   "source": [
    "balanced_label_features['specialist_id'].value_counts()"
   ]
  },
  {
   "cell_type": "code",
   "execution_count": 68,
   "id": "6d4ae020-3040-4274-826e-3b951e74cdf7",
   "metadata": {},
   "outputs": [],
   "source": [
    "balanced_label_features['specialist_name'] = balanced_label_features['specialist_id'].astype(str).map(specialist_map)"
   ]
  },
  {
   "cell_type": "code",
   "execution_count": 69,
   "id": "1f4e0b10-c3cd-4d0f-aa41-4a538065c4ea",
   "metadata": {},
   "outputs": [],
   "source": [
    "balanced_label_features = balanced_label_features.drop(columns=['status'])"
   ]
  },
  {
   "cell_type": "code",
   "execution_count": 70,
   "id": "a395ac22-a8b4-422f-897e-4e600ad1fbac",
   "metadata": {},
   "outputs": [],
   "source": [
    "balanced_label_features.to_csv('../data/data_label_balanced.csv')"
   ]
  },
  {
   "cell_type": "code",
   "execution_count": 74,
   "id": "8085dc09-df06-4823-b69f-21edb7191c63",
   "metadata": {},
   "outputs": [
    {
     "data": {
      "text/html": [
       "<div>\n",
       "<style scoped>\n",
       "    .dataframe tbody tr th:only-of-type {\n",
       "        vertical-align: middle;\n",
       "    }\n",
       "\n",
       "    .dataframe tbody tr th {\n",
       "        vertical-align: top;\n",
       "    }\n",
       "\n",
       "    .dataframe thead th {\n",
       "        text-align: right;\n",
       "    }\n",
       "</style>\n",
       "<table border=\"1\" class=\"dataframe\">\n",
       "  <thead>\n",
       "    <tr style=\"text-align: right;\">\n",
       "      <th></th>\n",
       "      <th>partner_id</th>\n",
       "      <th>specialist_id</th>\n",
       "      <th>gender</th>\n",
       "      <th>province_id</th>\n",
       "      <th>age</th>\n",
       "      <th>reason_combind</th>\n",
       "      <th>specialist_name</th>\n",
       "    </tr>\n",
       "  </thead>\n",
       "  <tbody>\n",
       "    <tr>\n",
       "      <th>69524</th>\n",
       "      <td>135</td>\n",
       "      <td>1</td>\n",
       "      <td>1.0</td>\n",
       "      <td>36</td>\n",
       "      <td>36</td>\n",
       "      <td>khám chẩn do bị ngã xe.</td>\n",
       "      <td>cơ xương khớp</td>\n",
       "    </tr>\n",
       "    <tr>\n",
       "      <th>147559</th>\n",
       "      <td>299</td>\n",
       "      <td>1</td>\n",
       "      <td>1.0</td>\n",
       "      <td>79</td>\n",
       "      <td>0</td>\n",
       "      <td>đau đầu gối</td>\n",
       "      <td>cơ xương khớp</td>\n",
       "    </tr>\n",
       "    <tr>\n",
       "      <th>77536</th>\n",
       "      <td>299</td>\n",
       "      <td>1</td>\n",
       "      <td>0.0</td>\n",
       "      <td>95</td>\n",
       "      <td>28</td>\n",
       "      <td>ở xa</td>\n",
       "      <td>cơ xương khớp</td>\n",
       "    </tr>\n",
       "    <tr>\n",
       "      <th>130089</th>\n",
       "      <td>124</td>\n",
       "      <td>1</td>\n",
       "      <td>0.0</td>\n",
       "      <td>56</td>\n",
       "      <td>0</td>\n",
       "      <td>đau khớp gối. phía sau gối, sợi gân nó căng, n...</td>\n",
       "      <td>cơ xương khớp</td>\n",
       "    </tr>\n",
       "    <tr>\n",
       "      <th>67621</th>\n",
       "      <td>10</td>\n",
       "      <td>1</td>\n",
       "      <td>1.0</td>\n",
       "      <td>1</td>\n",
       "      <td>48</td>\n",
       "      <td>đau thắt lưng</td>\n",
       "      <td>cơ xương khớp</td>\n",
       "    </tr>\n",
       "    <tr>\n",
       "      <th>...</th>\n",
       "      <td>...</td>\n",
       "      <td>...</td>\n",
       "      <td>...</td>\n",
       "      <td>...</td>\n",
       "      <td>...</td>\n",
       "      <td>...</td>\n",
       "      <td>...</td>\n",
       "    </tr>\n",
       "    <tr>\n",
       "      <th>154161</th>\n",
       "      <td>23</td>\n",
       "      <td>67</td>\n",
       "      <td>1.0</td>\n",
       "      <td>1</td>\n",
       "      <td>0</td>\n",
       "      <td>khám hiếm muộn 2 vợ chồng</td>\n",
       "      <td>vô sinh - hiếm muộn</td>\n",
       "    </tr>\n",
       "    <tr>\n",
       "      <th>154175</th>\n",
       "      <td>23</td>\n",
       "      <td>67</td>\n",
       "      <td>1.0</td>\n",
       "      <td>20</td>\n",
       "      <td>0</td>\n",
       "      <td>đăng ký làm ivf</td>\n",
       "      <td>vô sinh - hiếm muộn</td>\n",
       "    </tr>\n",
       "    <tr>\n",
       "      <th>154338</th>\n",
       "      <td>23</td>\n",
       "      <td>67</td>\n",
       "      <td>1.0</td>\n",
       "      <td>1</td>\n",
       "      <td>0</td>\n",
       "      <td>khám sinh sản</td>\n",
       "      <td>vô sinh - hiếm muộn</td>\n",
       "    </tr>\n",
       "    <tr>\n",
       "      <th>154339</th>\n",
       "      <td>23</td>\n",
       "      <td>67</td>\n",
       "      <td>0.0</td>\n",
       "      <td>1</td>\n",
       "      <td>0</td>\n",
       "      <td>khám nam khoa</td>\n",
       "      <td>vô sinh - hiếm muộn</td>\n",
       "    </tr>\n",
       "    <tr>\n",
       "      <th>154377</th>\n",
       "      <td>23</td>\n",
       "      <td>67</td>\n",
       "      <td>1.0</td>\n",
       "      <td>1</td>\n",
       "      <td>0</td>\n",
       "      <td>hiếm muộn</td>\n",
       "      <td>vô sinh - hiếm muộn</td>\n",
       "    </tr>\n",
       "  </tbody>\n",
       "</table>\n",
       "<p>75368 rows × 7 columns</p>\n",
       "</div>"
      ],
      "text/plain": [
       "        partner_id  specialist_id  gender  province_id  age  \\\n",
       "69524          135              1     1.0           36   36   \n",
       "147559         299              1     1.0           79    0   \n",
       "77536          299              1     0.0           95   28   \n",
       "130089         124              1     0.0           56    0   \n",
       "67621           10              1     1.0            1   48   \n",
       "...            ...            ...     ...          ...  ...   \n",
       "154161          23             67     1.0            1    0   \n",
       "154175          23             67     1.0           20    0   \n",
       "154338          23             67     1.0            1    0   \n",
       "154339          23             67     0.0            1    0   \n",
       "154377          23             67     1.0            1    0   \n",
       "\n",
       "                                           reason_combind      specialist_name  \n",
       "69524                             khám chẩn do bị ngã xe.        cơ xương khớp  \n",
       "147559                                        đau đầu gối        cơ xương khớp  \n",
       "77536                                                ở xa        cơ xương khớp  \n",
       "130089  đau khớp gối. phía sau gối, sợi gân nó căng, n...        cơ xương khớp  \n",
       "67621                                       đau thắt lưng        cơ xương khớp  \n",
       "...                                                   ...                  ...  \n",
       "154161                          khám hiếm muộn 2 vợ chồng  vô sinh - hiếm muộn  \n",
       "154175                                    đăng ký làm ivf  vô sinh - hiếm muộn  \n",
       "154338                                      khám sinh sản  vô sinh - hiếm muộn  \n",
       "154339                                      khám nam khoa  vô sinh - hiếm muộn  \n",
       "154377                                          hiếm muộn  vô sinh - hiếm muộn  \n",
       "\n",
       "[75368 rows x 7 columns]"
      ]
     },
     "execution_count": 74,
     "metadata": {},
     "output_type": "execute_result"
    }
   ],
   "source": [
    "balanced_label_features"
   ]
  },
  {
   "cell_type": "code",
   "execution_count": 75,
   "id": "e22b99a9-bc85-4367-99cb-f17455ebf9a0",
   "metadata": {},
   "outputs": [],
   "source": [
    "balanced_label_features['age'] = balanced_label_features['age'].fillna(-1).astype(int)\n",
    "balanced_label_features['age'] = balanced_label_features['age'].astype(int)"
   ]
  },
  {
   "cell_type": "code",
   "execution_count": 76,
   "id": "2797de42-20d8-47db-9ff6-05ed7bb6a981",
   "metadata": {},
   "outputs": [
    {
     "data": {
      "text/html": [
       "<div>\n",
       "<style scoped>\n",
       "    .dataframe tbody tr th:only-of-type {\n",
       "        vertical-align: middle;\n",
       "    }\n",
       "\n",
       "    .dataframe tbody tr th {\n",
       "        vertical-align: top;\n",
       "    }\n",
       "\n",
       "    .dataframe thead th {\n",
       "        text-align: right;\n",
       "    }\n",
       "</style>\n",
       "<table border=\"1\" class=\"dataframe\">\n",
       "  <thead>\n",
       "    <tr style=\"text-align: right;\">\n",
       "      <th></th>\n",
       "      <th>partner_id</th>\n",
       "      <th>specialist_id</th>\n",
       "      <th>gender</th>\n",
       "      <th>province_id</th>\n",
       "      <th>age</th>\n",
       "      <th>reason_combind</th>\n",
       "      <th>specialist_name</th>\n",
       "    </tr>\n",
       "  </thead>\n",
       "  <tbody>\n",
       "    <tr>\n",
       "      <th>69524</th>\n",
       "      <td>135</td>\n",
       "      <td>1</td>\n",
       "      <td>1.0</td>\n",
       "      <td>36</td>\n",
       "      <td>36</td>\n",
       "      <td>khám chẩn do bị ngã xe.</td>\n",
       "      <td>cơ xương khớp</td>\n",
       "    </tr>\n",
       "    <tr>\n",
       "      <th>147559</th>\n",
       "      <td>299</td>\n",
       "      <td>1</td>\n",
       "      <td>1.0</td>\n",
       "      <td>79</td>\n",
       "      <td>0</td>\n",
       "      <td>đau đầu gối</td>\n",
       "      <td>cơ xương khớp</td>\n",
       "    </tr>\n",
       "    <tr>\n",
       "      <th>77536</th>\n",
       "      <td>299</td>\n",
       "      <td>1</td>\n",
       "      <td>0.0</td>\n",
       "      <td>95</td>\n",
       "      <td>28</td>\n",
       "      <td>ở xa</td>\n",
       "      <td>cơ xương khớp</td>\n",
       "    </tr>\n",
       "    <tr>\n",
       "      <th>130089</th>\n",
       "      <td>124</td>\n",
       "      <td>1</td>\n",
       "      <td>0.0</td>\n",
       "      <td>56</td>\n",
       "      <td>0</td>\n",
       "      <td>đau khớp gối. phía sau gối, sợi gân nó căng, n...</td>\n",
       "      <td>cơ xương khớp</td>\n",
       "    </tr>\n",
       "    <tr>\n",
       "      <th>67621</th>\n",
       "      <td>10</td>\n",
       "      <td>1</td>\n",
       "      <td>1.0</td>\n",
       "      <td>1</td>\n",
       "      <td>48</td>\n",
       "      <td>đau thắt lưng</td>\n",
       "      <td>cơ xương khớp</td>\n",
       "    </tr>\n",
       "  </tbody>\n",
       "</table>\n",
       "</div>"
      ],
      "text/plain": [
       "        partner_id  specialist_id  gender  province_id  age  \\\n",
       "69524          135              1     1.0           36   36   \n",
       "147559         299              1     1.0           79    0   \n",
       "77536          299              1     0.0           95   28   \n",
       "130089         124              1     0.0           56    0   \n",
       "67621           10              1     1.0            1   48   \n",
       "\n",
       "                                           reason_combind specialist_name  \n",
       "69524                             khám chẩn do bị ngã xe.   cơ xương khớp  \n",
       "147559                                        đau đầu gối   cơ xương khớp  \n",
       "77536                                                ở xa   cơ xương khớp  \n",
       "130089  đau khớp gối. phía sau gối, sợi gân nó căng, n...   cơ xương khớp  \n",
       "67621                                       đau thắt lưng   cơ xương khớp  "
      ]
     },
     "execution_count": 76,
     "metadata": {},
     "output_type": "execute_result"
    }
   ],
   "source": [
    "balanced_label_features.head()"
   ]
  },
  {
   "cell_type": "code",
   "execution_count": 79,
   "id": "7df0f982-53f5-400e-87ac-b1a199fe42e0",
   "metadata": {},
   "outputs": [
    {
     "name": "stdout",
     "output_type": "stream",
     "text": [
      "partner_id    category\n",
      "dtype: object\n"
     ]
    }
   ],
   "source": [
    "# Convert partner_id and specialist_id to category\n",
    "balanced_label_features['partner_id'] = balanced_label_features['partner_id'].astype('category')\n",
    "\n",
    "# Display the dtypes to verify the changes\n",
    "print(balanced_label_features[['partner_id']].dtypes)\n"
   ]
  },
  {
   "cell_type": "code",
   "execution_count": 80,
   "id": "ca71bcd2-d411-473c-b176-719f5649a68c",
   "metadata": {},
   "outputs": [
    {
     "data": {
      "image/png": "[encoded data removed]",
      "text/plain": [
       "<Figure size 1000x600 with 2 Axes>"
      ]
     },
     "metadata": {},
     "output_type": "display_data"
    }
   ],
   "source": [
    "corr_matix = balanced_label_features.drop(columns=['reason_combind', 'specialist_name']).corr()\n",
    "\n",
    "plt.figure(figsize=(10, 6))\n",
    "sns.heatmap(corr_matix, annot=True, cmap=\"coolwarm\", fmt=\".2f\", linewidths=0.5)\n",
    "plt.title(\"Correlation Heatmap\")\n",
    "plt.show()"
   ]
  },
  {
   "cell_type": "code",
   "execution_count": 81,
   "id": "96e72c11-087f-42a8-ae80-17251b6480f1",
   "metadata": {},
   "outputs": [
    {
     "data": {
      "text/html": [
       "<div>\n",
       "<style scoped>\n",
       "    .dataframe tbody tr th:only-of-type {\n",
       "        vertical-align: middle;\n",
       "    }\n",
       "\n",
       "    .dataframe tbody tr th {\n",
       "        vertical-align: top;\n",
       "    }\n",
       "\n",
       "    .dataframe thead th {\n",
       "        text-align: right;\n",
       "    }\n",
       "</style>\n",
       "<table border=\"1\" class=\"dataframe\">\n",
       "  <thead>\n",
       "    <tr style=\"text-align: right;\">\n",
       "      <th></th>\n",
       "      <th>partner_id</th>\n",
       "      <th>specialist_id</th>\n",
       "      <th>gender</th>\n",
       "      <th>province_id</th>\n",
       "      <th>age</th>\n",
       "      <th>reason_combind</th>\n",
       "      <th>specialist_name</th>\n",
       "    </tr>\n",
       "  </thead>\n",
       "  <tbody>\n",
       "    <tr>\n",
       "      <th>69524</th>\n",
       "      <td>135</td>\n",
       "      <td>1</td>\n",
       "      <td>1.0</td>\n",
       "      <td>36</td>\n",
       "      <td>36</td>\n",
       "      <td>khám chẩn do bị ngã xe.</td>\n",
       "      <td>cơ xương khớp</td>\n",
       "    </tr>\n",
       "    <tr>\n",
       "      <th>147559</th>\n",
       "      <td>299</td>\n",
       "      <td>1</td>\n",
       "      <td>1.0</td>\n",
       "      <td>79</td>\n",
       "      <td>0</td>\n",
       "      <td>đau đầu gối</td>\n",
       "      <td>cơ xương khớp</td>\n",
       "    </tr>\n",
       "    <tr>\n",
       "      <th>77536</th>\n",
       "      <td>299</td>\n",
       "      <td>1</td>\n",
       "      <td>0.0</td>\n",
       "      <td>95</td>\n",
       "      <td>28</td>\n",
       "      <td>ở xa</td>\n",
       "      <td>cơ xương khớp</td>\n",
       "    </tr>\n",
       "    <tr>\n",
       "      <th>130089</th>\n",
       "      <td>124</td>\n",
       "      <td>1</td>\n",
       "      <td>0.0</td>\n",
       "      <td>56</td>\n",
       "      <td>0</td>\n",
       "      <td>đau khớp gối. phía sau gối, sợi gân nó căng, n...</td>\n",
       "      <td>cơ xương khớp</td>\n",
       "    </tr>\n",
       "    <tr>\n",
       "      <th>67621</th>\n",
       "      <td>10</td>\n",
       "      <td>1</td>\n",
       "      <td>1.0</td>\n",
       "      <td>1</td>\n",
       "      <td>48</td>\n",
       "      <td>đau thắt lưng</td>\n",
       "      <td>cơ xương khớp</td>\n",
       "    </tr>\n",
       "  </tbody>\n",
       "</table>\n",
       "</div>"
      ],
      "text/plain": [
       "       partner_id  specialist_id  gender  province_id  age  \\\n",
       "69524         135              1     1.0           36   36   \n",
       "147559        299              1     1.0           79    0   \n",
       "77536         299              1     0.0           95   28   \n",
       "130089        124              1     0.0           56    0   \n",
       "67621          10              1     1.0            1   48   \n",
       "\n",
       "                                           reason_combind specialist_name  \n",
       "69524                             khám chẩn do bị ngã xe.   cơ xương khớp  \n",
       "147559                                        đau đầu gối   cơ xương khớp  \n",
       "77536                                                ở xa   cơ xương khớp  \n",
       "130089  đau khớp gối. phía sau gối, sợi gân nó căng, n...   cơ xương khớp  \n",
       "67621                                       đau thắt lưng   cơ xương khớp  "
      ]
     },
     "execution_count": 81,
     "metadata": {},
     "output_type": "execute_result"
    }
   ],
   "source": [
    "balanced_label_features.head()"
   ]
  },
  {
   "cell_type": "code",
   "execution_count": 82,
   "id": "32e6b145-4bae-4ab6-8b2f-946cc28c30da",
   "metadata": {},
   "outputs": [],
   "source": [
    "balanced_label_features = balanced_label_features.drop(columns=[\n",
    "    'specialist_id', 'gender', 'province_id', 'age',\n",
    "])"
   ]
  },
  {
   "cell_type": "code",
   "execution_count": 83,
   "id": "030a856b-564b-4fb1-9fac-9a82f9b3e654",
   "metadata": {},
   "outputs": [
    {
     "data": {
      "text/plain": [
       "(75368, 3)"
      ]
     },
     "execution_count": 83,
     "metadata": {},
     "output_type": "execute_result"
    }
   ],
   "source": [
    "balanced_label_features.shape"
   ]
  },
  {
   "cell_type": "code",
   "execution_count": 84,
   "id": "fefda74c-e91b-4d0d-b0e0-37b6acaa5150",
   "metadata": {},
   "outputs": [],
   "source": [
    "balanced_label_features.to_csv('../data/data_label_balanced.csv')"
   ]
  },
  {
   "cell_type": "code",
   "execution_count": 95,
   "id": "2ae225ad-1f34-4e18-9b14-19e77cb07695",
   "metadata": {},
   "outputs": [
    {
     "data": {
      "text/plain": [
       "array(['cơ xương khớp', 'tiêu hoá', 'thần kinh', 'da liễu',\n",
       "       'tai mũi họng', 'nội khoa', 'sức khỏe tâm thần', 'nam học',\n",
       "       'tim mạch', 'sản phụ khoa', 'chuyên khoa mắt', 'thận - tiết niệu',\n",
       "       'ung bướu', 'nhi khoa', 'tiểu đường - nội tiết', 'hô hấp - phổi',\n",
       "       'vô sinh - hiếm muộn'], dtype=object)"
      ]
     },
     "execution_count": 95,
     "metadata": {},
     "output_type": "execute_result"
    }
   ],
   "source": [
    "balanced_label_features.specialist_name.unique()"
   ]
  },
  {
   "cell_type": "code",
   "execution_count": 96,
   "id": "be0204cb-730e-4a10-a5e9-8ff3e827d6e7",
   "metadata": {},
   "outputs": [
    {
     "data": {
      "text/plain": [
       "17"
      ]
     },
     "execution_count": 96,
     "metadata": {},
     "output_type": "execute_result"
    }
   ],
   "source": [
    "len(balanced_label_features.specialist_name.unique())"
   ]
  },
  {
   "cell_type": "code",
   "execution_count": null,
   "id": "d594d9b7-4f43-469e-9a78-c6dab3c68b76",
   "metadata": {},
   "outputs": [],
   "source": []
  },
  {
   "cell_type": "markdown",
   "id": "c54298ef-6f1a-4f81-bf7c-7b19b75b0183",
   "metadata": {},
   "source": [
    "### "
   ]
  },
  {
   "cell_type": "code",
   "execution_count": null,
   "id": "2e3ad284-3380-41c7-9b1e-7ead7afcbd33",
   "metadata": {},
   "outputs": [],
   "source": []
  }
 ],
 "metadata": {
  "kernelspec": {
   "display_name": "Python 3 (ipykernel)",
   "language": "python",
   "name": "python3"
  },
  "language_info": {
   "codemirror_mode": {
    "name": "ipython",
    "version": 3
   },
   "file_extension": ".py",
   "mimetype": "text/x-python",
   "name": "python",
   "nbconvert_exporter": "python",
   "pygments_lexer": "ipython3",
   "version": "3.10.15"
  }
 },
 "nbformat": 4,
 "nbformat_minor": 5
}
