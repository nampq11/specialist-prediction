{
 "cells": [
  {
   "cell_type": "markdown",
   "id": "38f199cc-dbce-497b-87e8-144cc6b4e6f6",
   "metadata": {},
   "source": [
    "## Set up"
   ]
  },
  {
   "cell_type": "code",
   "execution_count": 1,
   "id": "9c147f23-6be6-4ed3-991d-f53b0ca5bc0c",
   "metadata": {},
   "outputs": [],
   "source": [
    "%load_ext autoreload\n",
    "%autoreload 2"
   ]
  },
  {
   "cell_type": "code",
   "execution_count": 2,
   "id": "c677474d-b5d7-4f67-a7b2-14490802e6a8",
   "metadata": {},
   "outputs": [],
   "source": [
    "import requests"
   ]
  },
  {
   "cell_type": "code",
   "execution_count": 3,
   "id": "fe772290-4528-477d-925a-b9e52f56725a",
   "metadata": {},
   "outputs": [],
   "source": [
    "base_url = \"https://nampham1106-search.hf.space/specialist/predict\""
   ]
  },
  {
   "cell_type": "code",
   "execution_count": null,
   "id": "a607abdb-b212-4493-9fa1-b147c6e59e00",
   "metadata": {},
   "outputs": [],
   "source": [
    "def predict(reason: str):\n",
    "    result = requests.post(\n",
    "        url=base_url, \n",
    "        json={\n",
    "            \n",
    "        }\n",
    "    )"
   ]
  }
 ],
 "metadata": {
  "kernelspec": {
   "display_name": "Python 3 (ipykernel)",
   "language": "python",
   "name": "python3"
  },
  "language_info": {
   "codemirror_mode": {
    "name": "ipython",
    "version": 3
   },
   "file_extension": ".py",
   "mimetype": "text/x-python",
   "name": "python",
   "nbconvert_exporter": "python",
   "pygments_lexer": "ipython3",
   "version": "3.10.15"
  }
 },
 "nbformat": 4,
 "nbformat_minor": 5
}
