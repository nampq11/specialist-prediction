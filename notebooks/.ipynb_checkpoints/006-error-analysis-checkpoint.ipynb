{
 "cells": [
  {
   "cell_type": "markdown",
   "id": "38f199cc-dbce-497b-87e8-144cc6b4e6f6",
   "metadata": {},
   "source": [
    "## Set up"
   ]
  },
  {
   "cell_type": "code",
   "execution_count": 1,
   "id": "9c147f23-6be6-4ed3-991d-f53b0ca5bc0c",
   "metadata": {},
   "outputs": [],
   "source": [
    "%load_ext autoreload\n",
    "%autoreload 2"
   ]
  },
  {
   "cell_type": "code",
   "execution_count": 2,
   "id": "27dfff05-fc08-46a8-a9cc-74822771d9fb",
   "metadata": {},
   "outputs": [],
   "source": [
    "import sys\n",
    "\n",
    "sys.path.insert(0, '..')"
   ]
  },
  {
   "cell_type": "code",
   "execution_count": 3,
   "id": "e24ada9c-52b7-4099-85f0-ba8fc5b04e33",
   "metadata": {},
   "outputs": [],
   "source": [
    "import pickle\n",
    "import torch\n",
    "import pandas as pd\n",
    "from transformers import AutoModel, AutoTokenizer\n",
    "from src.model.model import MedicalSpecialistClassifer\n",
    "from src.model.data import MedicalDataFrameDataset\n",
    "from src.model.train import train"
   ]
  },
  {
   "cell_type": "code",
   "execution_count": 4,
   "id": "9d6f482c-febb-427b-b6bc-43b9c9764a03",
   "metadata": {},
   "outputs": [],
   "source": [
    "with open('../models/nampham1106/hybid-model-classification/specialist_encoder.pkl', 'rb') as f:\n",
    "    specialist_encoder = pickle.load(f)\n",
    "\n",
    "with open('../models/nampham1106/hybid-model-classification/age_encoder.pkl', 'rb') as f:\n",
    "    age_encoder = pickle.load(f)\n",
    "\n",
    "with open('../models/nampham1106/hybid-model-classification/gender_encoder.pkl', 'rb') as f:\n",
    "    gender_encoder = pickle.load(f)"
   ]
  },
  {
   "cell_type": "code",
   "execution_count": 5,
   "id": "23cec821-8ea1-4f5b-82ca-bf518b7d9c08",
   "metadata": {},
   "outputs": [],
   "source": [
    "model = MedicalSpecialistClassifer(\n",
    "    num_specialists=len(specialist_encoder.classes_),\n",
    "    user_feature_dim=2,\n",
    "    load_pretrained=False,\n",
    "    trust_remote_code=True\n",
    ")"
   ]
  },
  {
   "cell_type": "code",
   "execution_count": 6,
   "id": "77185b61-3666-4d5f-b71c-3ba5083081e9",
   "metadata": {},
   "outputs": [
    {
     "data": {
      "text/plain": [
       "MedicalSpecialistClassifer(\n",
       "  (reason_encoder): NewModel(\n",
       "    (embeddings): NewEmbeddings(\n",
       "      (word_embeddings): Embedding(250048, 768, padding_idx=1)\n",
       "      (rotary_emb): NTKScalingRotaryEmbedding()\n",
       "      (token_type_embeddings): Embedding(1, 768)\n",
       "      (LayerNorm): LayerNorm((768,), eps=1e-12, elementwise_affine=True)\n",
       "      (dropout): Dropout(p=0.1, inplace=False)\n",
       "    )\n",
       "    (encoder): NewEncoder(\n",
       "      (layer): ModuleList(\n",
       "        (0-11): 12 x NewLayer(\n",
       "          (attention): NewSdpaAttention(\n",
       "            (qkv_proj): Linear(in_features=768, out_features=2304, bias=True)\n",
       "            (dropout): Dropout(p=0.0, inplace=False)\n",
       "            (o_proj): Linear(in_features=768, out_features=768, bias=True)\n",
       "          )\n",
       "          (mlp): NewGatedMLP(\n",
       "            (up_gate_proj): Linear(in_features=768, out_features=6144, bias=False)\n",
       "            (down_proj): Linear(in_features=3072, out_features=768, bias=True)\n",
       "            (act_fn): GELUActivation()\n",
       "            (hidden_dropout): Dropout(p=0.1, inplace=False)\n",
       "          )\n",
       "          (attn_ln): LayerNorm((768,), eps=1e-12, elementwise_affine=True)\n",
       "          (mlp_ln): LayerNorm((768,), eps=1e-12, elementwise_affine=True)\n",
       "          (hidden_dropout): Dropout(p=0.1, inplace=False)\n",
       "        )\n",
       "      )\n",
       "    )\n",
       "  )\n",
       "  (relu): ReLU()\n",
       "  (dropout): Dropout(p=0.2, inplace=False)\n",
       "  (user_encoder): Sequential(\n",
       "    (0): Linear(in_features=2, out_features=128, bias=True)\n",
       "    (1): BatchNorm1d(128, eps=1e-05, momentum=0.1, affine=True, track_running_stats=True)\n",
       "    (2): ReLU()\n",
       "    (3): Dropout(p=0.2, inplace=False)\n",
       "    (4): Linear(in_features=128, out_features=256, bias=True)\n",
       "    (5): ReLU()\n",
       "  )\n",
       "  (hidden_layer1): Sequential(\n",
       "    (0): Linear(in_features=768, out_features=512, bias=True)\n",
       "    (1): BatchNorm1d(512, eps=1e-05, momentum=0.1, affine=True, track_running_stats=True)\n",
       "    (2): ReLU()\n",
       "    (3): Dropout(p=0.2, inplace=False)\n",
       "  )\n",
       "  (level1_output): Linear(in_features=512, out_features=20, bias=True)\n",
       "  (hidden_layer2): Sequential(\n",
       "    (0): Linear(in_features=1536, out_features=768, bias=True)\n",
       "    (1): BatchNorm1d(768, eps=1e-05, momentum=0.1, affine=True, track_running_stats=True)\n",
       "    (2): ReLU()\n",
       "    (3): Dropout(p=0.2, inplace=False)\n",
       "  )\n",
       "  (level2_output): Linear(in_features=768, out_features=20, bias=True)\n",
       ")"
      ]
     },
     "execution_count": 6,
     "metadata": {},
     "output_type": "execute_result"
    }
   ],
   "source": [
    "model"
   ]
  },
  {
   "cell_type": "code",
   "execution_count": 7,
   "id": "fadb0130-c11e-4aba-83f1-69e553630078",
   "metadata": {},
   "outputs": [
    {
     "data": {
      "text/plain": [
       "<All keys matched successfully>"
      ]
     },
     "execution_count": 7,
     "metadata": {},
     "output_type": "execute_result"
    }
   ],
   "source": [
    "model.load_state_dict(\n",
    "    torch.load('../models/nampham1106/hybid-model-classification/best_model.pt')\n",
    ")"
   ]
  },
  {
   "cell_type": "code",
   "execution_count": 8,
   "id": "7d8f968f-6597-480f-88b3-ec17b448bf78",
   "metadata": {},
   "outputs": [],
   "source": [
    "tokenizer = AutoTokenizer.from_pretrained('../models/nampham1106/hybid-model-classification/')"
   ]
  },
  {
   "cell_type": "code",
   "execution_count": 9,
   "id": "bbe04478-3719-460a-a797-a0e68d20e797",
   "metadata": {},
   "outputs": [],
   "source": [
    "model.eval()\n",
    "reason_text = \"mệt mỏi kéo dài\"\n",
    "data = tokenizer(\n",
    "    reason_text,\n",
    "    padding='max_length',\n",
    "    truncation=True,\n",
    "    max_length=128,\n",
    "    return_tensors='pt'\n",
    ")\n",
    "age_category = \"adult\"\n",
    "gender = \"male\""
   ]
  },
  {
   "cell_type": "code",
   "execution_count": 10,
   "id": "e4284dc7-06cf-4198-9cf8-71e438a7df16",
   "metadata": {},
   "outputs": [],
   "source": [
    "# Fix the tensor shape for user_info\n",
    "user_info = torch.tensor([[gender_encoder.transform([gender])[0], age_encoder.transform([age_category])[0]]], dtype=torch.float32)"
   ]
  },
  {
   "cell_type": "code",
   "execution_count": 11,
   "id": "60b13f50-c0f3-4572-892e-f6daf2041766",
   "metadata": {},
   "outputs": [
    {
     "data": {
      "text/plain": [
       "({'input_ids': tensor([[     0, 114132, 138058,  44577,  19018,      2,      1,      1,      1,\n",
       "               1,      1,      1,      1,      1,      1,      1,      1,      1,\n",
       "               1,      1,      1,      1,      1,      1,      1,      1,      1,\n",
       "               1,      1,      1,      1,      1,      1,      1,      1,      1,\n",
       "               1,      1,      1,      1,      1,      1,      1,      1,      1,\n",
       "               1,      1,      1,      1,      1,      1,      1,      1,      1,\n",
       "               1,      1,      1,      1,      1,      1,      1,      1,      1,\n",
       "               1,      1,      1,      1,      1,      1,      1,      1,      1,\n",
       "               1,      1,      1,      1,      1,      1,      1,      1,      1,\n",
       "               1,      1,      1,      1,      1,      1,      1,      1,      1,\n",
       "               1,      1,      1,      1,      1,      1,      1,      1,      1,\n",
       "               1,      1,      1,      1,      1,      1,      1,      1,      1,\n",
       "               1,      1,      1,      1,      1,      1,      1,      1,      1,\n",
       "               1,      1,      1,      1,      1,      1,      1,      1,      1,\n",
       "               1,      1]]), 'attention_mask': tensor([[1, 1, 1, 1, 1, 1, 0, 0, 0, 0, 0, 0, 0, 0, 0, 0, 0, 0, 0, 0, 0, 0, 0, 0,\n",
       "          0, 0, 0, 0, 0, 0, 0, 0, 0, 0, 0, 0, 0, 0, 0, 0, 0, 0, 0, 0, 0, 0, 0, 0,\n",
       "          0, 0, 0, 0, 0, 0, 0, 0, 0, 0, 0, 0, 0, 0, 0, 0, 0, 0, 0, 0, 0, 0, 0, 0,\n",
       "          0, 0, 0, 0, 0, 0, 0, 0, 0, 0, 0, 0, 0, 0, 0, 0, 0, 0, 0, 0, 0, 0, 0, 0,\n",
       "          0, 0, 0, 0, 0, 0, 0, 0, 0, 0, 0, 0, 0, 0, 0, 0, 0, 0, 0, 0, 0, 0, 0, 0,\n",
       "          0, 0, 0, 0, 0, 0, 0, 0]])},\n",
       " tensor([[1., 0.]]))"
      ]
     },
     "execution_count": 11,
     "metadata": {},
     "output_type": "execute_result"
    }
   ],
   "source": [
    "data, user_info"
   ]
  },
  {
   "cell_type": "code",
   "execution_count": 12,
   "id": "fa8eb615-f800-421b-87cb-6fd9538db8c9",
   "metadata": {},
   "outputs": [
    {
     "data": {
      "text/plain": [
       "(tensor([7]), tensor([0.2358]))"
      ]
     },
     "execution_count": 12,
     "metadata": {},
     "output_type": "execute_result"
    }
   ],
   "source": [
    "model.predict(data['input_ids'], data['attention_mask'], user_info=user_info)"
   ]
  },
  {
   "cell_type": "code",
   "execution_count": 13,
   "id": "78c58a2d-647b-4d85-924a-59eeea2fc018",
   "metadata": {},
   "outputs": [
    {
     "name": "stderr",
     "output_type": "stream",
     "text": [
      "/home/ubuntu/specialist-prediction/.venv/lib/python3.10/site-packages/sklearn/preprocessing/_label.py:151: DataConversionWarning: A column-vector y was passed when a 1d array was expected. Please change the shape of y to (n_samples, ), for example using ravel().\n",
      "  y = column_or_1d(y, warn=True)\n"
     ]
    },
    {
     "data": {
      "text/plain": [
       "['nội khoa']"
      ]
     },
     "execution_count": 13,
     "metadata": {},
     "output_type": "execute_result"
    }
   ],
   "source": [
    "res = specialist_encoder.inverse_transform([model.predict(data['input_ids'], data['attention_mask'], user_info=user_info)[0]])\n",
    "res.tolist()"
   ]
  },
  {
   "cell_type": "code",
   "execution_count": 14,
   "id": "c9f9e2df-8382-4f77-8dc9-afe918c63903",
   "metadata": {},
   "outputs": [],
   "source": [
    "df = pd.read_csv('../data/data_version 3 - Sheet1(4).csv')"
   ]
  },
  {
   "cell_type": "code",
   "execution_count": 15,
   "id": "6ea777ed-7e28-4f42-aa48-eb59650e6938",
   "metadata": {},
   "outputs": [
    {
     "data": {
      "text/html": [
       "<div>\n",
       "<style scoped>\n",
       "    .dataframe tbody tr th:only-of-type {\n",
       "        vertical-align: middle;\n",
       "    }\n",
       "\n",
       "    .dataframe tbody tr th {\n",
       "        vertical-align: top;\n",
       "    }\n",
       "\n",
       "    .dataframe thead th {\n",
       "        text-align: right;\n",
       "    }\n",
       "</style>\n",
       "<table border=\"1\" class=\"dataframe\">\n",
       "  <thead>\n",
       "    <tr style=\"text-align: right;\">\n",
       "      <th></th>\n",
       "      <th>partner_id</th>\n",
       "      <th>specialist_id</th>\n",
       "      <th>status</th>\n",
       "      <th>gender</th>\n",
       "      <th>province_id</th>\n",
       "      <th>age</th>\n",
       "      <th>reason_combind</th>\n",
       "      <th>specialist_name</th>\n",
       "    </tr>\n",
       "  </thead>\n",
       "  <tbody>\n",
       "    <tr>\n",
       "      <th>0</th>\n",
       "      <td>50.0</td>\n",
       "      <td>29.0</td>\n",
       "      <td>2.0</td>\n",
       "      <td>1</td>\n",
       "      <td>25.0</td>\n",
       "      <td>30</td>\n",
       "      <td>bệnh thiên đầu thống tái phát</td>\n",
       "      <td>chuyên khoa mắt</td>\n",
       "    </tr>\n",
       "    <tr>\n",
       "      <th>1</th>\n",
       "      <td>50.0</td>\n",
       "      <td>29.0</td>\n",
       "      <td>2.0</td>\n",
       "      <td>0</td>\n",
       "      <td>1.0</td>\n",
       "      <td>11</td>\n",
       "      <td>nghi ngờ glocom góc mở</td>\n",
       "      <td>chuyên khoa mắt</td>\n",
       "    </tr>\n",
       "    <tr>\n",
       "      <th>2</th>\n",
       "      <td>50.0</td>\n",
       "      <td>29.0</td>\n",
       "      <td>2.0</td>\n",
       "      <td>1</td>\n",
       "      <td>1.0</td>\n",
       "      <td>34</td>\n",
       "      <td>khám mắt, viêm kết giác mạc</td>\n",
       "      <td>chuyên khoa mắt</td>\n",
       "    </tr>\n",
       "    <tr>\n",
       "      <th>3</th>\n",
       "      <td>50.0</td>\n",
       "      <td>29.0</td>\n",
       "      <td>2.0</td>\n",
       "      <td>1</td>\n",
       "      <td>1.0</td>\n",
       "      <td>29</td>\n",
       "      <td>khám mắt</td>\n",
       "      <td>chuyên khoa mắt</td>\n",
       "    </tr>\n",
       "    <tr>\n",
       "      <th>4</th>\n",
       "      <td>50.0</td>\n",
       "      <td>29.0</td>\n",
       "      <td>2.0</td>\n",
       "      <td>1</td>\n",
       "      <td>1.0</td>\n",
       "      <td>45</td>\n",
       "      <td>mắt bị nhòe</td>\n",
       "      <td>chuyên khoa mắt</td>\n",
       "    </tr>\n",
       "  </tbody>\n",
       "</table>\n",
       "</div>"
      ],
      "text/plain": [
       "   partner_id  specialist_id  status  gender  province_id  age  \\\n",
       "0        50.0           29.0     2.0       1         25.0   30   \n",
       "1        50.0           29.0     2.0       0          1.0   11   \n",
       "2        50.0           29.0     2.0       1          1.0   34   \n",
       "3        50.0           29.0     2.0       1          1.0   29   \n",
       "4        50.0           29.0     2.0       1          1.0   45   \n",
       "\n",
       "                  reason_combind  specialist_name  \n",
       "0  bệnh thiên đầu thống tái phát  chuyên khoa mắt  \n",
       "1         nghi ngờ glocom góc mở  chuyên khoa mắt  \n",
       "2    khám mắt, viêm kết giác mạc  chuyên khoa mắt  \n",
       "3                       khám mắt  chuyên khoa mắt  \n",
       "4                    mắt bị nhòe  chuyên khoa mắt  "
      ]
     },
     "execution_count": 15,
     "metadata": {},
     "output_type": "execute_result"
    }
   ],
   "source": [
    "df.head()"
   ]
  },
  {
   "cell_type": "code",
   "execution_count": 16,
   "id": "0aef3c37-0572-49c1-af8c-ce23af0609df",
   "metadata": {},
   "outputs": [],
   "source": [
    "df['gender'] = df['gender'].fillna('unknown')\n",
    "df['gender'] = df['gender'].replace({1.0: 'female', 0.0: 'male'})"
   ]
  },
  {
   "cell_type": "code",
   "execution_count": 17,
   "id": "112d1a09-2dfe-47d6-a52b-31b2dca09a58",
   "metadata": {},
   "outputs": [
    {
     "name": "stdout",
     "output_type": "stream",
     "text": [
      "age_category\n",
      "adult    46913\n",
      "child     6479\n",
      "Name: count, dtype: int64\n"
     ]
    }
   ],
   "source": [
    "df['age'] = df['age'].fillna(0)\n",
    "df['age_category'] = df['age'].apply(lambda x: \n",
    "                                                     'unknown' if x == 0 else \n",
    "                                                     'child' if 0 < x <= 15 else \n",
    "                                                     'adult')\n",
    "# Display the results\n",
    "print(df['age_category'].value_counts())"
   ]
  },
  {
   "cell_type": "code",
   "execution_count": 18,
   "id": "4ef4496d-3cb7-4465-bc14-6a959a3fc163",
   "metadata": {},
   "outputs": [
    {
     "data": {
      "text/html": [
       "<div>\n",
       "<style scoped>\n",
       "    .dataframe tbody tr th:only-of-type {\n",
       "        vertical-align: middle;\n",
       "    }\n",
       "\n",
       "    .dataframe tbody tr th {\n",
       "        vertical-align: top;\n",
       "    }\n",
       "\n",
       "    .dataframe thead th {\n",
       "        text-align: right;\n",
       "    }\n",
       "</style>\n",
       "<table border=\"1\" class=\"dataframe\">\n",
       "  <thead>\n",
       "    <tr style=\"text-align: right;\">\n",
       "      <th></th>\n",
       "      <th>partner_id</th>\n",
       "      <th>specialist_id</th>\n",
       "      <th>status</th>\n",
       "      <th>gender</th>\n",
       "      <th>province_id</th>\n",
       "      <th>age</th>\n",
       "      <th>reason_combind</th>\n",
       "      <th>specialist_name</th>\n",
       "      <th>age_category</th>\n",
       "    </tr>\n",
       "  </thead>\n",
       "  <tbody>\n",
       "    <tr>\n",
       "      <th>0</th>\n",
       "      <td>50.0</td>\n",
       "      <td>29.0</td>\n",
       "      <td>2.0</td>\n",
       "      <td>female</td>\n",
       "      <td>25.0</td>\n",
       "      <td>30</td>\n",
       "      <td>bệnh thiên đầu thống tái phát</td>\n",
       "      <td>chuyên khoa mắt</td>\n",
       "      <td>adult</td>\n",
       "    </tr>\n",
       "    <tr>\n",
       "      <th>1</th>\n",
       "      <td>50.0</td>\n",
       "      <td>29.0</td>\n",
       "      <td>2.0</td>\n",
       "      <td>male</td>\n",
       "      <td>1.0</td>\n",
       "      <td>11</td>\n",
       "      <td>nghi ngờ glocom góc mở</td>\n",
       "      <td>chuyên khoa mắt</td>\n",
       "      <td>child</td>\n",
       "    </tr>\n",
       "    <tr>\n",
       "      <th>2</th>\n",
       "      <td>50.0</td>\n",
       "      <td>29.0</td>\n",
       "      <td>2.0</td>\n",
       "      <td>female</td>\n",
       "      <td>1.0</td>\n",
       "      <td>34</td>\n",
       "      <td>khám mắt, viêm kết giác mạc</td>\n",
       "      <td>chuyên khoa mắt</td>\n",
       "      <td>adult</td>\n",
       "    </tr>\n",
       "    <tr>\n",
       "      <th>3</th>\n",
       "      <td>50.0</td>\n",
       "      <td>29.0</td>\n",
       "      <td>2.0</td>\n",
       "      <td>female</td>\n",
       "      <td>1.0</td>\n",
       "      <td>29</td>\n",
       "      <td>khám mắt</td>\n",
       "      <td>chuyên khoa mắt</td>\n",
       "      <td>adult</td>\n",
       "    </tr>\n",
       "    <tr>\n",
       "      <th>4</th>\n",
       "      <td>50.0</td>\n",
       "      <td>29.0</td>\n",
       "      <td>2.0</td>\n",
       "      <td>female</td>\n",
       "      <td>1.0</td>\n",
       "      <td>45</td>\n",
       "      <td>mắt bị nhòe</td>\n",
       "      <td>chuyên khoa mắt</td>\n",
       "      <td>adult</td>\n",
       "    </tr>\n",
       "  </tbody>\n",
       "</table>\n",
       "</div>"
      ],
      "text/plain": [
       "   partner_id  specialist_id  status  gender  province_id  age  \\\n",
       "0        50.0           29.0     2.0  female         25.0   30   \n",
       "1        50.0           29.0     2.0    male          1.0   11   \n",
       "2        50.0           29.0     2.0  female          1.0   34   \n",
       "3        50.0           29.0     2.0  female          1.0   29   \n",
       "4        50.0           29.0     2.0  female          1.0   45   \n",
       "\n",
       "                  reason_combind  specialist_name age_category  \n",
       "0  bệnh thiên đầu thống tái phát  chuyên khoa mắt        adult  \n",
       "1         nghi ngờ glocom góc mở  chuyên khoa mắt        child  \n",
       "2    khám mắt, viêm kết giác mạc  chuyên khoa mắt        adult  \n",
       "3                       khám mắt  chuyên khoa mắt        adult  \n",
       "4                    mắt bị nhòe  chuyên khoa mắt        adult  "
      ]
     },
     "execution_count": 18,
     "metadata": {},
     "output_type": "execute_result"
    }
   ],
   "source": [
    "df.head()"
   ]
  },
  {
   "cell_type": "code",
   "execution_count": 26,
   "id": "23e04898-7046-4067-aa9f-3c01e3800d1c",
   "metadata": {},
   "outputs": [],
   "source": [
    "from tqdm import tqdm\n",
    "from sklearn.exceptions import DataConversionWarning\n",
    "import warnings\n",
    "\n",
    "tqdm.pandas()\n",
    "\n",
    "warnings.filterwarnings(\"ignore\", category=DataConversionWarning)\n",
    "\n",
    "def apply_model_predict(df, model, tokenizer, specialist_encoder, age_encoder, gender_encoder):\n",
    "    def predict_row(row):\n",
    "        reason_text = row['reason_combind']\n",
    "        age_category = row['age_category']\n",
    "        gender = row['gender']\n",
    "        \n",
    "        data = tokenizer(\n",
    "            reason_text,\n",
    "            padding='max_length',\n",
    "            truncation=True,\n",
    "            max_length=128,\n",
    "            return_tensors='pt'\n",
    "        )\n",
    "        user_info = torch.tensor(\n",
    "            [[gender_encoder.transform([gender])[0], age_encoder.transform([age_category])[0]]],\n",
    "            dtype=torch.float32\n",
    "        )\n",
    "        prediction = model.predict(data['input_ids'], data['attention_mask'], user_info=user_info)\n",
    "        return specialist_encoder.inverse_transform([prediction[0]])[0]\n",
    "    \n",
    "    df['predicted_specialist'] = df.progress_apply(predict_row, axis=1)\n",
    "    return df\n"
   ]
  },
  {
   "cell_type": "code",
   "execution_count": null,
   "id": "72eb2dfb-b875-422c-a77f-c2ff3003a332",
   "metadata": {},
   "outputs": [
    {
     "name": "stderr",
     "output_type": "stream",
     "text": [
      " 20%|█████████████████████▏                                                                                    | 20/100 [00:05<00:24,  3.32it/s]"
     ]
    }
   ],
   "source": [
    "df = apply_model_predict(df.head(100), model, tokenizer, specialist_encoder, age_encoder, gender_encoder)"
   ]
  },
  {
   "cell_type": "code",
   "execution_count": 25,
   "id": "646892f0-d0ff-416d-9f1d-1860ad5e9441",
   "metadata": {},
   "outputs": [
    {
     "data": {
      "text/html": [
       "<div>\n",
       "<style scoped>\n",
       "    .dataframe tbody tr th:only-of-type {\n",
       "        vertical-align: middle;\n",
       "    }\n",
       "\n",
       "    .dataframe tbody tr th {\n",
       "        vertical-align: top;\n",
       "    }\n",
       "\n",
       "    .dataframe thead th {\n",
       "        text-align: right;\n",
       "    }\n",
       "</style>\n",
       "<table border=\"1\" class=\"dataframe\">\n",
       "  <thead>\n",
       "    <tr style=\"text-align: right;\">\n",
       "      <th></th>\n",
       "      <th>partner_id</th>\n",
       "      <th>specialist_id</th>\n",
       "      <th>status</th>\n",
       "      <th>gender</th>\n",
       "      <th>province_id</th>\n",
       "      <th>age</th>\n",
       "      <th>reason_combind</th>\n",
       "      <th>specialist_name</th>\n",
       "      <th>age_category</th>\n",
       "      <th>predicted_specialist</th>\n",
       "    </tr>\n",
       "  </thead>\n",
       "  <tbody>\n",
       "    <tr>\n",
       "      <th>0</th>\n",
       "      <td>50.0</td>\n",
       "      <td>29.0</td>\n",
       "      <td>2.0</td>\n",
       "      <td>female</td>\n",
       "      <td>25.0</td>\n",
       "      <td>30</td>\n",
       "      <td>bệnh thiên đầu thống tái phát</td>\n",
       "      <td>chuyên khoa mắt</td>\n",
       "      <td>adult</td>\n",
       "      <td>chuyên khoa mắt</td>\n",
       "    </tr>\n",
       "    <tr>\n",
       "      <th>1</th>\n",
       "      <td>50.0</td>\n",
       "      <td>29.0</td>\n",
       "      <td>2.0</td>\n",
       "      <td>male</td>\n",
       "      <td>1.0</td>\n",
       "      <td>11</td>\n",
       "      <td>nghi ngờ glocom góc mở</td>\n",
       "      <td>chuyên khoa mắt</td>\n",
       "      <td>child</td>\n",
       "      <td>thần kinh</td>\n",
       "    </tr>\n",
       "    <tr>\n",
       "      <th>2</th>\n",
       "      <td>50.0</td>\n",
       "      <td>29.0</td>\n",
       "      <td>2.0</td>\n",
       "      <td>female</td>\n",
       "      <td>1.0</td>\n",
       "      <td>34</td>\n",
       "      <td>khám mắt, viêm kết giác mạc</td>\n",
       "      <td>chuyên khoa mắt</td>\n",
       "      <td>adult</td>\n",
       "      <td>nội khoa</td>\n",
       "    </tr>\n",
       "    <tr>\n",
       "      <th>3</th>\n",
       "      <td>50.0</td>\n",
       "      <td>29.0</td>\n",
       "      <td>2.0</td>\n",
       "      <td>female</td>\n",
       "      <td>1.0</td>\n",
       "      <td>29</td>\n",
       "      <td>khám mắt</td>\n",
       "      <td>chuyên khoa mắt</td>\n",
       "      <td>adult</td>\n",
       "      <td>nội khoa</td>\n",
       "    </tr>\n",
       "    <tr>\n",
       "      <th>4</th>\n",
       "      <td>50.0</td>\n",
       "      <td>29.0</td>\n",
       "      <td>2.0</td>\n",
       "      <td>female</td>\n",
       "      <td>1.0</td>\n",
       "      <td>45</td>\n",
       "      <td>mắt bị nhòe</td>\n",
       "      <td>chuyên khoa mắt</td>\n",
       "      <td>adult</td>\n",
       "      <td>thần kinh</td>\n",
       "    </tr>\n",
       "    <tr>\n",
       "      <th>...</th>\n",
       "      <td>...</td>\n",
       "      <td>...</td>\n",
       "      <td>...</td>\n",
       "      <td>...</td>\n",
       "      <td>...</td>\n",
       "      <td>...</td>\n",
       "      <td>...</td>\n",
       "      <td>...</td>\n",
       "      <td>...</td>\n",
       "      <td>...</td>\n",
       "    </tr>\n",
       "    <tr>\n",
       "      <th>95</th>\n",
       "      <td>50.0</td>\n",
       "      <td>29.0</td>\n",
       "      <td>2.0</td>\n",
       "      <td>female</td>\n",
       "      <td>22.0</td>\n",
       "      <td>43</td>\n",
       "      <td>khô, mỏi mắt.</td>\n",
       "      <td>chuyên khoa mắt</td>\n",
       "      <td>adult</td>\n",
       "      <td>thần kinh</td>\n",
       "    </tr>\n",
       "    <tr>\n",
       "      <th>96</th>\n",
       "      <td>65.0</td>\n",
       "      <td>29.0</td>\n",
       "      <td>2.0</td>\n",
       "      <td>female</td>\n",
       "      <td>1.0</td>\n",
       "      <td>19</td>\n",
       "      <td>mắt có máu bầm bên trong</td>\n",
       "      <td>chuyên khoa mắt</td>\n",
       "      <td>adult</td>\n",
       "      <td>ung bướu</td>\n",
       "    </tr>\n",
       "    <tr>\n",
       "      <th>97</th>\n",
       "      <td>57.0</td>\n",
       "      <td>29.0</td>\n",
       "      <td>2.0</td>\n",
       "      <td>female</td>\n",
       "      <td>1.0</td>\n",
       "      <td>33</td>\n",
       "      <td>mắt nhìn mờ, có dử, ngứa</td>\n",
       "      <td>chuyên khoa mắt</td>\n",
       "      <td>adult</td>\n",
       "      <td>nội khoa</td>\n",
       "    </tr>\n",
       "    <tr>\n",
       "      <th>98</th>\n",
       "      <td>50.0</td>\n",
       "      <td>29.0</td>\n",
       "      <td>2.0</td>\n",
       "      <td>female</td>\n",
       "      <td>38.0</td>\n",
       "      <td>60</td>\n",
       "      <td>bị đau mắt và chữa nhiều nơi không khỏi</td>\n",
       "      <td>chuyên khoa mắt</td>\n",
       "      <td>adult</td>\n",
       "      <td>thần kinh</td>\n",
       "    </tr>\n",
       "    <tr>\n",
       "      <th>99</th>\n",
       "      <td>65.0</td>\n",
       "      <td>29.0</td>\n",
       "      <td>2.0</td>\n",
       "      <td>male</td>\n",
       "      <td>1.0</td>\n",
       "      <td>3</td>\n",
       "      <td>bị lên mụn giống như chắp ơ mắt</td>\n",
       "      <td>chuyên khoa mắt</td>\n",
       "      <td>child</td>\n",
       "      <td>da liễu</td>\n",
       "    </tr>\n",
       "  </tbody>\n",
       "</table>\n",
       "<p>100 rows × 10 columns</p>\n",
       "</div>"
      ],
      "text/plain": [
       "    partner_id  specialist_id  status  gender  province_id  age  \\\n",
       "0         50.0           29.0     2.0  female         25.0   30   \n",
       "1         50.0           29.0     2.0    male          1.0   11   \n",
       "2         50.0           29.0     2.0  female          1.0   34   \n",
       "3         50.0           29.0     2.0  female          1.0   29   \n",
       "4         50.0           29.0     2.0  female          1.0   45   \n",
       "..         ...            ...     ...     ...          ...  ...   \n",
       "95        50.0           29.0     2.0  female         22.0   43   \n",
       "96        65.0           29.0     2.0  female          1.0   19   \n",
       "97        57.0           29.0     2.0  female          1.0   33   \n",
       "98        50.0           29.0     2.0  female         38.0   60   \n",
       "99        65.0           29.0     2.0    male          1.0    3   \n",
       "\n",
       "                             reason_combind  specialist_name age_category  \\\n",
       "0             bệnh thiên đầu thống tái phát  chuyên khoa mắt        adult   \n",
       "1                    nghi ngờ glocom góc mở  chuyên khoa mắt        child   \n",
       "2               khám mắt, viêm kết giác mạc  chuyên khoa mắt        adult   \n",
       "3                                  khám mắt  chuyên khoa mắt        adult   \n",
       "4                               mắt bị nhòe  chuyên khoa mắt        adult   \n",
       "..                                      ...              ...          ...   \n",
       "95                            khô, mỏi mắt.  chuyên khoa mắt        adult   \n",
       "96                 mắt có máu bầm bên trong  chuyên khoa mắt        adult   \n",
       "97                 mắt nhìn mờ, có dử, ngứa  chuyên khoa mắt        adult   \n",
       "98  bị đau mắt và chữa nhiều nơi không khỏi  chuyên khoa mắt        adult   \n",
       "99          bị lên mụn giống như chắp ơ mắt  chuyên khoa mắt        child   \n",
       "\n",
       "   predicted_specialist  \n",
       "0       chuyên khoa mắt  \n",
       "1             thần kinh  \n",
       "2              nội khoa  \n",
       "3              nội khoa  \n",
       "4             thần kinh  \n",
       "..                  ...  \n",
       "95            thần kinh  \n",
       "96             ung bướu  \n",
       "97             nội khoa  \n",
       "98            thần kinh  \n",
       "99              da liễu  \n",
       "\n",
       "[100 rows x 10 columns]"
      ]
     },
     "execution_count": 25,
     "metadata": {},
     "output_type": "execute_result"
    }
   ],
   "source": [
    "df"
   ]
  },
  {
   "cell_type": "code",
   "execution_count": null,
   "id": "bd88330d-1cf6-4254-ad76-280c985f9ec6",
   "metadata": {},
   "outputs": [],
   "source": []
  }
 ],
 "metadata": {
  "kernelspec": {
   "display_name": "Python 3 (ipykernel)",
   "language": "python",
   "name": "python3"
  },
  "language_info": {
   "codemirror_mode": {
    "name": "ipython",
    "version": 3
   },
   "file_extension": ".py",
   "mimetype": "text/x-python",
   "name": "python",
   "nbconvert_exporter": "python",
   "pygments_lexer": "ipython3",
   "version": "3.10.12"
  }
 },
 "nbformat": 4,
 "nbformat_minor": 5
}
