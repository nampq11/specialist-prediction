{
 "cells": [
  {
   "cell_type": "markdown",
   "id": "e031b3a0-ab78-46b5-aa9c-d13941214152",
   "metadata": {},
   "source": [
    "## Set up"
   ]
  },
  {
   "cell_type": "code",
   "execution_count": 1,
   "id": "78631d72-0379-4ccb-b426-f59fd4020f38",
   "metadata": {},
   "outputs": [],
   "source": [
    "%load_ext autoreload\n",
    "%autoreload 2"
   ]
  },
  {
   "cell_type": "code",
   "execution_count": 2,
   "id": "9aa7529d-0dcd-4f94-a4ce-68d53c39e848",
   "metadata": {},
   "outputs": [],
   "source": [
    "import sys\n",
    "\n",
    "sys.path.insert(0, '..')"
   ]
  },
  {
   "cell_type": "code",
   "execution_count": 4,
   "id": "27480ba0-d890-4a38-a402-b9b85d01d815",
   "metadata": {},
   "outputs": [],
   "source": [
    "import torch\n",
    "import pandas as pd\n",
    "import torch.nn as nn\n",
    "import torch.nn.functional as F\n",
    "from transformers import AutoModel, AutoTokenizer, AutoConfig"
   ]
  },
  {
   "cell_type": "code",
   "execution_count": 5,
   "id": "40454d78-ed52-4230-906c-e9f27f8ff0e6",
   "metadata": {},
   "outputs": [
    {
     "data": {
      "text/html": [
       "<div>\n",
       "<style scoped>\n",
       "    .dataframe tbody tr th:only-of-type {\n",
       "        vertical-align: middle;\n",
       "    }\n",
       "\n",
       "    .dataframe tbody tr th {\n",
       "        vertical-align: top;\n",
       "    }\n",
       "\n",
       "    .dataframe thead th {\n",
       "        text-align: right;\n",
       "    }\n",
       "</style>\n",
       "<table border=\"1\" class=\"dataframe\">\n",
       "  <thead>\n",
       "    <tr style=\"text-align: right;\">\n",
       "      <th></th>\n",
       "      <th>partner_id</th>\n",
       "      <th>specialist_id</th>\n",
       "      <th>status</th>\n",
       "      <th>gender</th>\n",
       "      <th>province_id</th>\n",
       "      <th>age</th>\n",
       "      <th>reason_combind</th>\n",
       "      <th>specialist_name</th>\n",
       "    </tr>\n",
       "  </thead>\n",
       "  <tbody>\n",
       "    <tr>\n",
       "      <th>0</th>\n",
       "      <td>50.0</td>\n",
       "      <td>29.0</td>\n",
       "      <td>2.0</td>\n",
       "      <td>1</td>\n",
       "      <td>25.0</td>\n",
       "      <td>30</td>\n",
       "      <td>bệnh thiên đầu thống tái phát</td>\n",
       "      <td>chuyên khoa mắt</td>\n",
       "    </tr>\n",
       "    <tr>\n",
       "      <th>1</th>\n",
       "      <td>50.0</td>\n",
       "      <td>29.0</td>\n",
       "      <td>2.0</td>\n",
       "      <td>0</td>\n",
       "      <td>1.0</td>\n",
       "      <td>11</td>\n",
       "      <td>nghi ngờ glocom góc mở</td>\n",
       "      <td>chuyên khoa mắt</td>\n",
       "    </tr>\n",
       "    <tr>\n",
       "      <th>2</th>\n",
       "      <td>50.0</td>\n",
       "      <td>29.0</td>\n",
       "      <td>2.0</td>\n",
       "      <td>1</td>\n",
       "      <td>1.0</td>\n",
       "      <td>34</td>\n",
       "      <td>khám mắt, viêm kết giác mạc</td>\n",
       "      <td>chuyên khoa mắt</td>\n",
       "    </tr>\n",
       "    <tr>\n",
       "      <th>3</th>\n",
       "      <td>50.0</td>\n",
       "      <td>29.0</td>\n",
       "      <td>2.0</td>\n",
       "      <td>1</td>\n",
       "      <td>1.0</td>\n",
       "      <td>29</td>\n",
       "      <td>khám mắt</td>\n",
       "      <td>chuyên khoa mắt</td>\n",
       "    </tr>\n",
       "    <tr>\n",
       "      <th>4</th>\n",
       "      <td>50.0</td>\n",
       "      <td>29.0</td>\n",
       "      <td>2.0</td>\n",
       "      <td>1</td>\n",
       "      <td>1.0</td>\n",
       "      <td>45</td>\n",
       "      <td>mắt bị nhòe</td>\n",
       "      <td>chuyên khoa mắt</td>\n",
       "    </tr>\n",
       "  </tbody>\n",
       "</table>\n",
       "</div>"
      ],
      "text/plain": [
       "   partner_id  specialist_id  status  gender  province_id  age  \\\n",
       "0        50.0           29.0     2.0       1         25.0   30   \n",
       "1        50.0           29.0     2.0       0          1.0   11   \n",
       "2        50.0           29.0     2.0       1          1.0   34   \n",
       "3        50.0           29.0     2.0       1          1.0   29   \n",
       "4        50.0           29.0     2.0       1          1.0   45   \n",
       "\n",
       "                  reason_combind  specialist_name  \n",
       "0  bệnh thiên đầu thống tái phát  chuyên khoa mắt  \n",
       "1         nghi ngờ glocom góc mở  chuyên khoa mắt  \n",
       "2    khám mắt, viêm kết giác mạc  chuyên khoa mắt  \n",
       "3                       khám mắt  chuyên khoa mắt  \n",
       "4                    mắt bị nhòe  chuyên khoa mắt  "
      ]
     },
     "execution_count": 5,
     "metadata": {},
     "output_type": "execute_result"
    }
   ],
   "source": [
    "df = pd.read_csv('../data/data_version 3 - Sheet1(4).csv')\n",
    "df.head()"
   ]
  },
  {
   "cell_type": "code",
   "execution_count": 6,
   "id": "b9a6808f-6aea-4ef5-b902-9ef7bbb4f60d",
   "metadata": {},
   "outputs": [],
   "source": [
    "df['gender'] = df['gender'].fillna('unknown')\n",
    "df['gender'] = df['gender'].replace({1.0: 'female', 0.0: 'male'})"
   ]
  },
  {
   "cell_type": "code",
   "execution_count": 7,
   "id": "d2011a8f-ed25-467f-8af1-33f3cf5513e4",
   "metadata": {},
   "outputs": [
    {
     "name": "stdout",
     "output_type": "stream",
     "text": [
      "age_category\n",
      "adult    46913\n",
      "child     6479\n",
      "Name: count, dtype: int64\n"
     ]
    }
   ],
   "source": [
    "df['age'] = df['age'].fillna(0)\n",
    "df['age_category'] = df['age'].apply(lambda x: \n",
    "                                                     'unknown' if x == 0 else \n",
    "                                                     'child' if 0 < x <= 15 else \n",
    "                                                     'adult')\n",
    "# Display the results\n",
    "print(df['age_category'].value_counts())"
   ]
  },
  {
   "cell_type": "code",
   "execution_count": 9,
   "id": "70eb4fb4-afa6-469d-9bc1-7fe2ca137ff1",
   "metadata": {},
   "outputs": [
    {
     "data": {
      "text/plain": [
       "(array(['chuyên khoa mắt', 'cơ xương khớp', 'da liễu', 'hô hấp - phổi',\n",
       "        'nam học', 'tai mũi họng', 'thận - tiết niệu', 'ung bướu',\n",
       "        'nha khoa', 'nhi khoa', 'nội khoa', 'tiểu đường - nội tiết',\n",
       "        'tim mạch', 'tiêu hóa', 'sản phụ khoa', 'răng hàm mặt',\n",
       "        'thần kinh', 'sức khỏe tâm thần', 'vô sinh - hiếm muộn'],\n",
       "       dtype=object),\n",
       " 19)"
      ]
     },
     "execution_count": 9,
     "metadata": {},
     "output_type": "execute_result"
    }
   ],
   "source": [
    "df.specialist_name.unique(), len(df.specialist_name.unique())"
   ]
  },
  {
   "cell_type": "code",
   "execution_count": 10,
   "id": "903fd1fc-f412-4761-a911-446bd16eb325",
   "metadata": {},
   "outputs": [
    {
     "data": {
      "text/html": [
       "<div>\n",
       "<style scoped>\n",
       "    .dataframe tbody tr th:only-of-type {\n",
       "        vertical-align: middle;\n",
       "    }\n",
       "\n",
       "    .dataframe tbody tr th {\n",
       "        vertical-align: top;\n",
       "    }\n",
       "\n",
       "    .dataframe thead th {\n",
       "        text-align: right;\n",
       "    }\n",
       "</style>\n",
       "<table border=\"1\" class=\"dataframe\">\n",
       "  <thead>\n",
       "    <tr style=\"text-align: right;\">\n",
       "      <th></th>\n",
       "      <th>partner_id</th>\n",
       "      <th>specialist_id</th>\n",
       "      <th>status</th>\n",
       "      <th>gender</th>\n",
       "      <th>province_id</th>\n",
       "      <th>age</th>\n",
       "      <th>reason_combind</th>\n",
       "      <th>specialist_name</th>\n",
       "      <th>age_category</th>\n",
       "    </tr>\n",
       "  </thead>\n",
       "  <tbody>\n",
       "    <tr>\n",
       "      <th>0</th>\n",
       "      <td>50.0</td>\n",
       "      <td>29.0</td>\n",
       "      <td>2.0</td>\n",
       "      <td>female</td>\n",
       "      <td>25.0</td>\n",
       "      <td>30</td>\n",
       "      <td>bệnh thiên đầu thống tái phát</td>\n",
       "      <td>chuyên khoa mắt</td>\n",
       "      <td>adult</td>\n",
       "    </tr>\n",
       "    <tr>\n",
       "      <th>1</th>\n",
       "      <td>50.0</td>\n",
       "      <td>29.0</td>\n",
       "      <td>2.0</td>\n",
       "      <td>male</td>\n",
       "      <td>1.0</td>\n",
       "      <td>11</td>\n",
       "      <td>nghi ngờ glocom góc mở</td>\n",
       "      <td>chuyên khoa mắt</td>\n",
       "      <td>child</td>\n",
       "    </tr>\n",
       "    <tr>\n",
       "      <th>2</th>\n",
       "      <td>50.0</td>\n",
       "      <td>29.0</td>\n",
       "      <td>2.0</td>\n",
       "      <td>female</td>\n",
       "      <td>1.0</td>\n",
       "      <td>34</td>\n",
       "      <td>khám mắt, viêm kết giác mạc</td>\n",
       "      <td>chuyên khoa mắt</td>\n",
       "      <td>adult</td>\n",
       "    </tr>\n",
       "    <tr>\n",
       "      <th>3</th>\n",
       "      <td>50.0</td>\n",
       "      <td>29.0</td>\n",
       "      <td>2.0</td>\n",
       "      <td>female</td>\n",
       "      <td>1.0</td>\n",
       "      <td>29</td>\n",
       "      <td>khám mắt</td>\n",
       "      <td>chuyên khoa mắt</td>\n",
       "      <td>adult</td>\n",
       "    </tr>\n",
       "    <tr>\n",
       "      <th>4</th>\n",
       "      <td>50.0</td>\n",
       "      <td>29.0</td>\n",
       "      <td>2.0</td>\n",
       "      <td>female</td>\n",
       "      <td>1.0</td>\n",
       "      <td>45</td>\n",
       "      <td>mắt bị nhòe</td>\n",
       "      <td>chuyên khoa mắt</td>\n",
       "      <td>adult</td>\n",
       "    </tr>\n",
       "  </tbody>\n",
       "</table>\n",
       "</div>"
      ],
      "text/plain": [
       "   partner_id  specialist_id  status  gender  province_id  age  \\\n",
       "0        50.0           29.0     2.0  female         25.0   30   \n",
       "1        50.0           29.0     2.0    male          1.0   11   \n",
       "2        50.0           29.0     2.0  female          1.0   34   \n",
       "3        50.0           29.0     2.0  female          1.0   29   \n",
       "4        50.0           29.0     2.0  female          1.0   45   \n",
       "\n",
       "                  reason_combind  specialist_name age_category  \n",
       "0  bệnh thiên đầu thống tái phát  chuyên khoa mắt        adult  \n",
       "1         nghi ngờ glocom góc mở  chuyên khoa mắt        child  \n",
       "2    khám mắt, viêm kết giác mạc  chuyên khoa mắt        adult  \n",
       "3                       khám mắt  chuyên khoa mắt        adult  \n",
       "4                    mắt bị nhòe  chuyên khoa mắt        adult  "
      ]
     },
     "execution_count": 10,
     "metadata": {},
     "output_type": "execute_result"
    }
   ],
   "source": [
    "df.head()"
   ]
  },
  {
   "cell_type": "code",
   "execution_count": 11,
   "id": "0f81de87-564e-44da-af5f-8a400e8a6445",
   "metadata": {},
   "outputs": [
    {
     "name": "stdout",
     "output_type": "stream",
     "text": [
      "number of samples per class: specialist_id\n",
      "1.0     8972\n",
      "18.0    7332\n",
      "11.0    5441\n",
      "22.0    5087\n",
      "17.0    4552\n",
      "4.0     4106\n",
      "27.0    3320\n",
      "3.0     3167\n",
      "26.0    2301\n",
      "19.0    1598\n",
      "29.0    1589\n",
      "5.0     1466\n",
      "15.0    1362\n",
      "32.0    1096\n",
      "21.0     761\n",
      "43.0     650\n",
      "33.0     313\n",
      "67.0     253\n",
      "Name: count, dtype: int64\n"
     ]
    }
   ],
   "source": [
    "class_counts = df['specialist_id'].value_counts()\n",
    "print(f'number of samples per class: {class_counts}')"
   ]
  },
  {
   "cell_type": "code",
   "execution_count": 12,
   "id": "8c5ac32b-ccd7-48a8-a4b7-d1b03d039496",
   "metadata": {},
   "outputs": [],
   "source": [
    "import numpy as np\n",
    "from sklearn.utils.class_weight import compute_class_weight\n",
    "\n",
    "y = df['specialist_name']\n",
    "weight_class = compute_class_weight(class_weight=\"balanced\", classes=np.unique(y), y=y)"
   ]
  },
  {
   "cell_type": "code",
   "execution_count": 13,
   "id": "6893b0a6-22ea-4670-a500-1bb4325563db",
   "metadata": {},
   "outputs": [
    {
     "data": {
      "text/plain": [
       "(array([1.76736180e+00, 3.12511706e-01, 5.16753450e-01, 4.23846948e+00,\n",
       "        1.24011706e+00, 8.94937982e+00, 1.91554551e+00, 6.28377742e-01,\n",
       "        5.62021053e+02, 1.76514150e+00, 8.44636388e-01, 6.83890305e-01,\n",
       "        3.82535429e-01, 2.47586367e+00, 8.87028177e-01, 5.49492621e-01,\n",
       "        3.63532376e+00, 2.05417051e+00, 1.11071354e+01]),\n",
       " 19)"
      ]
     },
     "execution_count": 13,
     "metadata": {},
     "output_type": "execute_result"
    }
   ],
   "source": [
    "weight_class, len(weight_class)"
   ]
  },
  {
   "cell_type": "code",
   "execution_count": 14,
   "id": "040ebe57-174a-4a78-bfcd-9affc9f961f5",
   "metadata": {},
   "outputs": [
    {
     "data": {
      "text/plain": [
       "numpy.float64"
      ]
     },
     "execution_count": 14,
     "metadata": {},
     "output_type": "execute_result"
    }
   ],
   "source": [
    "type(weight_class[0])"
   ]
  },
  {
   "cell_type": "code",
   "execution_count": 15,
   "id": "d8ea308f-0ffd-4817-9f51-692a0d99c7a0",
   "metadata": {},
   "outputs": [
    {
     "data": {
      "text/plain": [
       "(array(['chuyên khoa mắt', 'cơ xương khớp', 'da liễu', 'hô hấp - phổi',\n",
       "        'nam học', 'tai mũi họng', 'thận - tiết niệu', 'ung bướu',\n",
       "        'nha khoa', 'nhi khoa', 'nội khoa', 'tiểu đường - nội tiết',\n",
       "        'tim mạch', 'tiêu hóa', 'sản phụ khoa', 'răng hàm mặt',\n",
       "        'thần kinh', 'sức khỏe tâm thần', 'vô sinh - hiếm muộn'],\n",
       "       dtype=object),\n",
       " 19,\n",
       " (53392, 9))"
      ]
     },
     "execution_count": 15,
     "metadata": {},
     "output_type": "execute_result"
    }
   ],
   "source": [
    "df.specialist_name.unique(), len(df.specialist_name.unique()), df.shape"
   ]
  },
  {
   "cell_type": "code",
   "execution_count": 16,
   "id": "63f9280a-3c45-450f-9f8d-c066e0e29066",
   "metadata": {},
   "outputs": [
    {
     "data": {
      "text/plain": [
       "19"
      ]
     },
     "execution_count": 16,
     "metadata": {},
     "output_type": "execute_result"
    }
   ],
   "source": [
    "len(df.specialist_name.unique())"
   ]
  },
  {
   "cell_type": "code",
   "execution_count": 17,
   "id": "4ef552ab-5a24-4df8-9fe0-b1040681f5d2",
   "metadata": {},
   "outputs": [
    {
     "data": {
      "text/plain": [
       "partner_id         26\n",
       "specialist_id      26\n",
       "status             26\n",
       "gender              0\n",
       "province_id         1\n",
       "age                 0\n",
       "reason_combind      1\n",
       "specialist_name     0\n",
       "age_category        0\n",
       "dtype: int64"
      ]
     },
     "execution_count": 17,
     "metadata": {},
     "output_type": "execute_result"
    }
   ],
   "source": [
    "df.isnull().sum()"
   ]
  },
  {
   "cell_type": "code",
   "execution_count": 18,
   "id": "2a5250e1-5617-4710-bc29-f44b136b7ee4",
   "metadata": {},
   "outputs": [],
   "source": [
    "class MedicalSpecialistClassifer(nn.Module):\n",
    "    def __init__(self, num_specialists: int, model_name: str = \"BookingCare/gte-multilingual-base-v2.1\", user_feature_dim=2, dropout=0.2, load_pretrained=True, trust_remote_code=False):\n",
    "        super(MedicalSpecialistClassifer, self).__init__()\n",
    "\n",
    "        config = AutoConfig.from_pretrained(model_name, trust_remote_code=trust_remote_code)\n",
    "        if load_pretrained:\n",
    "            self.reason_encoder = AutoModel.from_pretrained(model_name, config=config, trust_remote_code=True)\n",
    "        else:\n",
    "            self.reason_encoder = AutoModel.from_config(config, trust_remote_code=True)\n",
    "        \n",
    "        for param in self.reason_encoder.parameters():\n",
    "            param.requires_grad = False\n",
    "        self.reason_encoder_hidden_dim = self.reason_encoder.config.hidden_size\n",
    "        \n",
    "        self.relu = nn.ReLU()\n",
    "        self.dropout = nn.Dropout(p=dropout)\n",
    "        \n",
    "        self.user_encoder = nn.Sequential(\n",
    "            nn.Linear(user_feature_dim, 128),\n",
    "            nn.BatchNorm1d(128),\n",
    "            self.relu,\n",
    "            self.dropout,\n",
    "            nn.Linear(128, 256),\n",
    "            self.relu\n",
    "        )\n",
    "\n",
    "        self.hidden_layer1 = nn.Sequential(\n",
    "            nn.Linear(self.reason_encoder_hidden_dim, 512),\n",
    "            nn.BatchNorm1d(512),\n",
    "            self.relu,\n",
    "            self.dropout,\n",
    "        )\n",
    "\n",
    "        self.level1_output = nn.Linear(512, num_specialists)\n",
    "\n",
    "        self.hidden_layer2 = nn.Sequential(\n",
    "            nn.Linear(self.reason_encoder_hidden_dim + 256 + 512, 768),\n",
    "            nn.BatchNorm1d(768),\n",
    "            self.relu,\n",
    "            self.dropout\n",
    "        )\n",
    "        self.level2_output = nn.Linear(768, num_specialists)\n",
    "\n",
    "    def forward(self, reason_text_ids, reason_text_mask, user_info=None):\n",
    "        reason_outputs = self.reason_encoder(reason_text_ids, attention_mask=reason_text_mask)\n",
    "        reason_embedding = reason_outputs.last_hidden_state[:, 0, :]\n",
    "\n",
    "        hidden1 = self.hidden_layer1(reason_embedding)\n",
    "\n",
    "        level1_logits = self.level1_output(hidden1)\n",
    "\n",
    "        if user_info is None:\n",
    "            return level1_logits, None\n",
    "\n",
    "        user_features = self.user_encoder(user_info)\n",
    "\n",
    "        combined_features = torch.cat((reason_embedding, hidden1, user_features), dim=1)\n",
    "\n",
    "        hidden2 = self.hidden_layer2(combined_features)\n",
    "        level2_logits = self.level2_output(hidden2)\n",
    "\n",
    "        return level1_logits, level2_logits\n",
    "\n",
    "    def predict(self, reason_text_ids, reason_text_mask, user_info=None, threshold=0.7):\n",
    "        self.eval()\n",
    "        with torch.no_grad():\n",
    "            level1_logits, level2_logits = self.forward(reason_text_ids, reason_text_mask, user_info)\n",
    "            level1_probs = F.softmax(level1_logits, dim=1)\n",
    "            max_probs, preds = torch.max(level1_probs, dim=1)\n",
    "            final_preds = preds.clone()\n",
    "\n",
    "            if user_info is not None and level2_logits is not None:\n",
    "                for i, prob in enumerate(max_probs):\n",
    "                    final_preds[i] = torch.argmax(level2_logits[i])\n",
    "\n",
    "            return final_preds"
   ]
  },
  {
   "cell_type": "code",
   "execution_count": 19,
   "id": "32070d38-7bfc-4212-8182-39a86b43dc32",
   "metadata": {},
   "outputs": [],
   "source": [
    "from torch.utils.data import Dataset, DataLoader\n",
    "from sklearn.preprocessing import LabelEncoder\n",
    "\n",
    "class MedicalDataFrameDataset(Dataset):\n",
    "    def __init__(self, df, tokenizer):\n",
    "        self.df = df.reset_index(drop=True)\n",
    "        self.tokenizer = tokenizer\n",
    "        self.max_length = 128\n",
    "        \n",
    "    def __len__(self):\n",
    "        return len(self.df)\n",
    "\n",
    "    def __getitem__(self, idx):\n",
    "        row = self.df.iloc[idx]\n",
    "        reason_text = str(row['reason_combind'])  # Ensure reason_text is a string\n",
    "        # user_info = torch.tensor([row['gender'], row['age_category']], dtype=torch.float32)\n",
    "        user_info = None\n",
    "        label = row['specialist_name']\n",
    "        encoded = self.tokenizer(\n",
    "            [reason_text],  # Wrap reason_text in a list to ensure correct input type\n",
    "            padding='max_length',\n",
    "            truncation=True,\n",
    "            max_length=self.max_length,\n",
    "            return_tensors='pt'\n",
    "        )\n",
    "        return {\n",
    "            \"reason_text_ids\": encoded['input_ids'].squeeze(0),\n",
    "            \"reason_text_mask\": encoded['attention_mask'].squeeze(0),\n",
    "            \"user_info\": user_info,\n",
    "            \"labels\": torch.tensor(label, dtype=torch.long)\n",
    "        }\n"
   ]
  },
  {
   "cell_type": "code",
   "execution_count": 20,
   "id": "c2d3fde2-0712-4eb1-b378-d9476d341ad7",
   "metadata": {},
   "outputs": [],
   "source": [
    "from tqdm.notebook import tqdm\n",
    "\n",
    "def train(model, train_loader, val_loader, optimizer, criterion, device, num_epochs=5, patience=2, save_path=\"best_model.pt\"):\n",
    "    model.to(device)\n",
    "    best_val_loss = float('inf')\n",
    "    patience_counter = 0\n",
    "\n",
    "    for epoch in tqdm(range(num_epochs)):\n",
    "        model.train()\n",
    "        running_loss = 0.0\n",
    "        correct_level1 = 0\n",
    "        correct_combined = 0\n",
    "        total = 0\n",
    "\n",
    "        for batch in tqdm(train_loader, desc=\"Training...\"):\n",
    "            reason_text_ids = batch['reason_text_ids'].to(device)\n",
    "            reason_text_mask = batch['reason_text_mask'].to(device)\n",
    "            user_info = batch.get('user_info', None)\n",
    "\n",
    "            if user_info is not None:\n",
    "                user_info = user_info.to(device)\n",
    "            labels = batch['labels'].to(device)\n",
    "\n",
    "            optimizer.zero_grad()\n",
    "            level1_logits, level2_logits = model(\n",
    "                reason_text_ids,\n",
    "                reason_text_mask,\n",
    "                user_info\n",
    "            )\n",
    "\n",
    "            _, level1_preds = torch.max(level1_logits, dim=1)\n",
    "            correct_mask = (level1_preds == labels)\n",
    "            loss = criterion(level1_logits, labels)\n",
    "\n",
    "            if level2_logits is not None and (~correct_mask).any():\n",
    "                incorrect_indices = (~correct_mask).nonzero(as_tuple=True)[0]\n",
    "                level2_loss = criterion(level2_logits[incorrect_indices], labels[incorrect_indices])\n",
    "                loss += level2_loss\n",
    "\n",
    "            loss.backward()\n",
    "            optimizer.step()\n",
    "\n",
    "            running_loss += loss.item()\n",
    "            correct_level1 += correct_mask.sum().item()\n",
    "\n",
    "            if level2_logits is not None:\n",
    "                _, level2_preds = torch.max(level2_logits, dim=1)\n",
    "                final_preds = torch.where(correct_mask, level1_preds, level2_preds)\n",
    "            else:\n",
    "                final_preds = level1_preds\n",
    "\n",
    "            correct_combined += (final_preds == labels).sum().item()\n",
    "            total += labels.size(0)\n",
    "\n",
    "        print(f\"Epoch {epoch+1}/{num_epochs}:\")\n",
    "        print(f\"Train Loss: {running_loss / len(train_loader): .4f}\")\n",
    "        print(f\"Level 1 Accuracy: {100 * correct_level1 / total:.2f}\")\n",
    "        print(f\"Final Accuracy (with Level 2 fallback): {100 * correct_combined / total: .2f}%\\n\")\n",
    "\n",
    "        # validation\n",
    "        model.eval()\n",
    "        val_loss = 0.0\n",
    "        correct_level1 = 0\n",
    "        correct_combined = 0\n",
    "        total = 0\n",
    "        with torch.no_grad():\n",
    "            for batch in tqdm(val_loader, desc='Validate...'):\n",
    "                reason_text_ids = batch['reason_text_ids'].to(device)\n",
    "                reason_text_mask = batch['reason_text_mask'].to(device)\n",
    "                user_info = batch.get('user_info', None)\n",
    "                if user_info is not None:\n",
    "                    user_info = user_info.to(device)\n",
    "                    \n",
    "                    for p in model.hidden_layer2.parameters():\n",
    "                        p.requires_grad = True\n",
    "                    for p in model.level2_output.parameters():\n",
    "                        p.requires_grad = True\n",
    "                    ## experiment\n",
    "                    for p in model.hidden_layer1.parameters():\n",
    "                        p.requires_grad = False\n",
    "                    for p in model.level1_output.parameters():\n",
    "                        p.requires_grad = False\n",
    "                    \n",
    "                else:\n",
    "                    for p in model.hidden_layer2.parameters():\n",
    "                        p.requires_grad = False\n",
    "                    for p in model.level2_output.parameters():\n",
    "                        p.requires_grad = False\n",
    "                labels = batch['labels'].to(device)\n",
    "\n",
    "                level1_logits, level2_logits = model(\n",
    "                    reason_text_ids,\n",
    "                    reason_text_mask,\n",
    "                    user_info\n",
    "                )\n",
    "\n",
    "                _, level1_preds = torch.max(level1_logits, dim=1)\n",
    "                correct_mask = (level1_preds == labels)\n",
    "                loss = criterion(level1_logits, labels)\n",
    "                if level2_logits is not None and (~correct_mask).any():\n",
    "                    incorrect_indices = (~correct_mask).nonzero(as_tuple=True)[0]\n",
    "                    level2_loss = criterion(level2_logits[incorrect_indices], labels[incorrect_indices])\n",
    "                    loss += level2_loss\n",
    "\n",
    "                val_loss += loss.item()\n",
    "                correct_level1 += correct_mask.sum().item()\n",
    "\n",
    "                if level2_logits is not None:\n",
    "                    _, level2_preds = torch.max(level2_logits, dim=1)\n",
    "                    final_preds = torch.where(correct_mask, level1_preds, level2_preds)\n",
    "                else:\n",
    "                    final_preds = level1_preds\n",
    "\n",
    "                correct_combined += (final_preds == labels).sum().item()\n",
    "                total += labels.size(0)\n",
    "        \n",
    "        avg_val_loss = val_loss / len(val_loader)\n",
    "        print(f\"Validation loss: {avg_val_loss:.4f}\")\n",
    "        print(f\"Validation level 1 Accuracy: {100 * correct_level1 / total:.2f}%\")\n",
    "        print(f\"Validation Final Accuracy (with Level 2 fallback): {100 * correct_combined / total:.2f}%\\n\")\n",
    "\n",
    "        if avg_val_loss < best_val_loss:\n",
    "            best_val_loss = avg_val_loss\n",
    "            patience_counter = 0\n",
    "            torch.save(model.state_dict(), save_path)\n",
    "            print(\"Model saved.\")\n",
    "        else:\n",
    "            patience_counter += 1\n",
    "            if patience_counter >= patience:\n",
    "                print(\"Early stopping triggered.\")\n",
    "                break                "
   ]
  },
  {
   "cell_type": "code",
   "execution_count": 21,
   "id": "a5fbecc8-71a7-45e4-a97e-d7b8b47d89bc",
   "metadata": {},
   "outputs": [],
   "source": [
    "device = torch.device(\"cuda\" if torch.cuda.is_available() else \"cpu\")"
   ]
  },
  {
   "cell_type": "code",
   "execution_count": 22,
   "id": "5eb2f700-b6db-4c24-8cce-f0c4a2ff0930",
   "metadata": {},
   "outputs": [
    {
     "data": {
      "text/plain": [
       "device(type='cuda')"
      ]
     },
     "execution_count": 22,
     "metadata": {},
     "output_type": "execute_result"
    }
   ],
   "source": [
    "device"
   ]
  },
  {
   "cell_type": "code",
   "execution_count": 23,
   "id": "dc394ddc-4192-476c-b176-818e810b4ead",
   "metadata": {},
   "outputs": [],
   "source": [
    "tokenizer = AutoTokenizer.from_pretrained('../models/BookingCare/gte-multilingual-base-v2.1/')"
   ]
  },
  {
   "cell_type": "code",
   "execution_count": 24,
   "id": "442c411c-0c10-4b32-aaf5-88bad7c687dd",
   "metadata": {},
   "outputs": [],
   "source": [
    "specialist_encoder = LabelEncoder()\n",
    "age_encoder = LabelEncoder()\n",
    "gender_encoder = LabelEncoder()\n",
    "df['age_category'] = age_encoder.fit_transform(df['age_category'])\n",
    "df['gender'] = gender_encoder.fit_transform(df['gender'])\n",
    "df['specialist_name'] = specialist_encoder.fit_transform(df['specialist_name'])"
   ]
  },
  {
   "cell_type": "code",
   "execution_count": 25,
   "id": "b18363e1-65f1-495b-a71a-3d00ff5471ba",
   "metadata": {},
   "outputs": [
    {
     "data": {
      "text/html": [
       "<div>\n",
       "<style scoped>\n",
       "    .dataframe tbody tr th:only-of-type {\n",
       "        vertical-align: middle;\n",
       "    }\n",
       "\n",
       "    .dataframe tbody tr th {\n",
       "        vertical-align: top;\n",
       "    }\n",
       "\n",
       "    .dataframe thead th {\n",
       "        text-align: right;\n",
       "    }\n",
       "</style>\n",
       "<table border=\"1\" class=\"dataframe\">\n",
       "  <thead>\n",
       "    <tr style=\"text-align: right;\">\n",
       "      <th></th>\n",
       "      <th>partner_id</th>\n",
       "      <th>specialist_id</th>\n",
       "      <th>status</th>\n",
       "      <th>gender</th>\n",
       "      <th>province_id</th>\n",
       "      <th>age</th>\n",
       "      <th>reason_combind</th>\n",
       "      <th>specialist_name</th>\n",
       "      <th>age_category</th>\n",
       "    </tr>\n",
       "  </thead>\n",
       "  <tbody>\n",
       "    <tr>\n",
       "      <th>0</th>\n",
       "      <td>50.0</td>\n",
       "      <td>29.0</td>\n",
       "      <td>2.0</td>\n",
       "      <td>0</td>\n",
       "      <td>25.0</td>\n",
       "      <td>30</td>\n",
       "      <td>bệnh thiên đầu thống tái phát</td>\n",
       "      <td>0</td>\n",
       "      <td>0</td>\n",
       "    </tr>\n",
       "    <tr>\n",
       "      <th>1</th>\n",
       "      <td>50.0</td>\n",
       "      <td>29.0</td>\n",
       "      <td>2.0</td>\n",
       "      <td>1</td>\n",
       "      <td>1.0</td>\n",
       "      <td>11</td>\n",
       "      <td>nghi ngờ glocom góc mở</td>\n",
       "      <td>0</td>\n",
       "      <td>1</td>\n",
       "    </tr>\n",
       "    <tr>\n",
       "      <th>2</th>\n",
       "      <td>50.0</td>\n",
       "      <td>29.0</td>\n",
       "      <td>2.0</td>\n",
       "      <td>0</td>\n",
       "      <td>1.0</td>\n",
       "      <td>34</td>\n",
       "      <td>khám mắt, viêm kết giác mạc</td>\n",
       "      <td>0</td>\n",
       "      <td>0</td>\n",
       "    </tr>\n",
       "    <tr>\n",
       "      <th>3</th>\n",
       "      <td>50.0</td>\n",
       "      <td>29.0</td>\n",
       "      <td>2.0</td>\n",
       "      <td>0</td>\n",
       "      <td>1.0</td>\n",
       "      <td>29</td>\n",
       "      <td>khám mắt</td>\n",
       "      <td>0</td>\n",
       "      <td>0</td>\n",
       "    </tr>\n",
       "    <tr>\n",
       "      <th>4</th>\n",
       "      <td>50.0</td>\n",
       "      <td>29.0</td>\n",
       "      <td>2.0</td>\n",
       "      <td>0</td>\n",
       "      <td>1.0</td>\n",
       "      <td>45</td>\n",
       "      <td>mắt bị nhòe</td>\n",
       "      <td>0</td>\n",
       "      <td>0</td>\n",
       "    </tr>\n",
       "    <tr>\n",
       "      <th>...</th>\n",
       "      <td>...</td>\n",
       "      <td>...</td>\n",
       "      <td>...</td>\n",
       "      <td>...</td>\n",
       "      <td>...</td>\n",
       "      <td>...</td>\n",
       "      <td>...</td>\n",
       "      <td>...</td>\n",
       "      <td>...</td>\n",
       "    </tr>\n",
       "    <tr>\n",
       "      <th>53387</th>\n",
       "      <td>23.0</td>\n",
       "      <td>67.0</td>\n",
       "      <td>2.0</td>\n",
       "      <td>0</td>\n",
       "      <td>40.0</td>\n",
       "      <td>22</td>\n",
       "      <td>buồng trứng đa nang, khám để làm ivf</td>\n",
       "      <td>18</td>\n",
       "      <td>0</td>\n",
       "    </tr>\n",
       "    <tr>\n",
       "      <th>53388</th>\n",
       "      <td>23.0</td>\n",
       "      <td>67.0</td>\n",
       "      <td>2.0</td>\n",
       "      <td>1</td>\n",
       "      <td>2.0</td>\n",
       "      <td>26</td>\n",
       "      <td>khám khả năng sinh sản để chuyển bị sinh con</td>\n",
       "      <td>18</td>\n",
       "      <td>0</td>\n",
       "    </tr>\n",
       "    <tr>\n",
       "      <th>53389</th>\n",
       "      <td>23.0</td>\n",
       "      <td>67.0</td>\n",
       "      <td>2.0</td>\n",
       "      <td>0</td>\n",
       "      <td>1.0</td>\n",
       "      <td>21</td>\n",
       "      <td>kiểm tra và tư vấn mong con</td>\n",
       "      <td>18</td>\n",
       "      <td>0</td>\n",
       "    </tr>\n",
       "    <tr>\n",
       "      <th>53390</th>\n",
       "      <td>23.0</td>\n",
       "      <td>67.0</td>\n",
       "      <td>2.0</td>\n",
       "      <td>0</td>\n",
       "      <td>24.0</td>\n",
       "      <td>21</td>\n",
       "      <td>khám sinh con chọn giới tính</td>\n",
       "      <td>18</td>\n",
       "      <td>0</td>\n",
       "    </tr>\n",
       "    <tr>\n",
       "      <th>53391</th>\n",
       "      <td>23.0</td>\n",
       "      <td>67.0</td>\n",
       "      <td>2.0</td>\n",
       "      <td>0</td>\n",
       "      <td>20.0</td>\n",
       "      <td>20</td>\n",
       "      <td>đăng ký làm ivf</td>\n",
       "      <td>18</td>\n",
       "      <td>0</td>\n",
       "    </tr>\n",
       "  </tbody>\n",
       "</table>\n",
       "<p>53392 rows × 9 columns</p>\n",
       "</div>"
      ],
      "text/plain": [
       "       partner_id  specialist_id  status  gender  province_id  age  \\\n",
       "0            50.0           29.0     2.0       0         25.0   30   \n",
       "1            50.0           29.0     2.0       1          1.0   11   \n",
       "2            50.0           29.0     2.0       0          1.0   34   \n",
       "3            50.0           29.0     2.0       0          1.0   29   \n",
       "4            50.0           29.0     2.0       0          1.0   45   \n",
       "...           ...            ...     ...     ...          ...  ...   \n",
       "53387        23.0           67.0     2.0       0         40.0   22   \n",
       "53388        23.0           67.0     2.0       1          2.0   26   \n",
       "53389        23.0           67.0     2.0       0          1.0   21   \n",
       "53390        23.0           67.0     2.0       0         24.0   21   \n",
       "53391        23.0           67.0     2.0       0         20.0   20   \n",
       "\n",
       "                                     reason_combind  specialist_name  \\\n",
       "0                     bệnh thiên đầu thống tái phát                0   \n",
       "1                            nghi ngờ glocom góc mở                0   \n",
       "2                       khám mắt, viêm kết giác mạc                0   \n",
       "3                                          khám mắt                0   \n",
       "4                                       mắt bị nhòe                0   \n",
       "...                                             ...              ...   \n",
       "53387          buồng trứng đa nang, khám để làm ivf               18   \n",
       "53388  khám khả năng sinh sản để chuyển bị sinh con               18   \n",
       "53389                   kiểm tra và tư vấn mong con               18   \n",
       "53390                  khám sinh con chọn giới tính               18   \n",
       "53391                               đăng ký làm ivf               18   \n",
       "\n",
       "       age_category  \n",
       "0                 0  \n",
       "1                 1  \n",
       "2                 0  \n",
       "3                 0  \n",
       "4                 0  \n",
       "...             ...  \n",
       "53387             0  \n",
       "53388             0  \n",
       "53389             0  \n",
       "53390             0  \n",
       "53391             0  \n",
       "\n",
       "[53392 rows x 9 columns]"
      ]
     },
     "execution_count": 25,
     "metadata": {},
     "output_type": "execute_result"
    }
   ],
   "source": [
    "df"
   ]
  },
  {
   "cell_type": "code",
   "execution_count": 26,
   "id": "91b48e69-961e-4890-b9a5-83de3f9b8af3",
   "metadata": {},
   "outputs": [],
   "source": [
    "dataset = MedicalDataFrameDataset(df, tokenizer)"
   ]
  },
  {
   "cell_type": "code",
   "execution_count": 27,
   "id": "d7c66db4-edc2-4531-9b09-6162430b02a3",
   "metadata": {},
   "outputs": [
    {
     "data": {
      "text/plain": [
       "{'reason_text_ids': tensor([    0,  7417, 39429,  2494, 10657, 75626,  5152,     2,     1,     1,\n",
       "             1,     1,     1,     1,     1,     1,     1,     1,     1,     1,\n",
       "             1,     1,     1,     1,     1,     1,     1,     1,     1,     1,\n",
       "             1,     1,     1,     1,     1,     1,     1,     1,     1,     1,\n",
       "             1,     1,     1,     1,     1,     1,     1,     1,     1,     1,\n",
       "             1,     1,     1,     1,     1,     1,     1,     1,     1,     1,\n",
       "             1,     1,     1,     1,     1,     1,     1,     1,     1,     1,\n",
       "             1,     1,     1,     1,     1,     1,     1,     1,     1,     1,\n",
       "             1,     1,     1,     1,     1,     1,     1,     1,     1,     1,\n",
       "             1,     1,     1,     1,     1,     1,     1,     1,     1,     1,\n",
       "             1,     1,     1,     1,     1,     1,     1,     1,     1,     1,\n",
       "             1,     1,     1,     1,     1,     1,     1,     1,     1,     1,\n",
       "             1,     1,     1,     1,     1,     1,     1,     1]),\n",
       " 'reason_text_mask': tensor([1, 1, 1, 1, 1, 1, 1, 1, 0, 0, 0, 0, 0, 0, 0, 0, 0, 0, 0, 0, 0, 0, 0, 0,\n",
       "         0, 0, 0, 0, 0, 0, 0, 0, 0, 0, 0, 0, 0, 0, 0, 0, 0, 0, 0, 0, 0, 0, 0, 0,\n",
       "         0, 0, 0, 0, 0, 0, 0, 0, 0, 0, 0, 0, 0, 0, 0, 0, 0, 0, 0, 0, 0, 0, 0, 0,\n",
       "         0, 0, 0, 0, 0, 0, 0, 0, 0, 0, 0, 0, 0, 0, 0, 0, 0, 0, 0, 0, 0, 0, 0, 0,\n",
       "         0, 0, 0, 0, 0, 0, 0, 0, 0, 0, 0, 0, 0, 0, 0, 0, 0, 0, 0, 0, 0, 0, 0, 0,\n",
       "         0, 0, 0, 0, 0, 0, 0, 0]),\n",
       " 'user_info': tensor([0., 0.]),\n",
       " 'labels': tensor(0)}"
      ]
     },
     "execution_count": 27,
     "metadata": {},
     "output_type": "execute_result"
    }
   ],
   "source": [
    "dataset.__getitem__(0)"
   ]
  },
  {
   "cell_type": "code",
   "execution_count": 28,
   "id": "6210f789-54dd-48d2-b091-94a6a7a49848",
   "metadata": {},
   "outputs": [],
   "source": [
    "train_size = int(0.8 * len(dataset))\n",
    "val_size = len(dataset) - train_size\n",
    "\n",
    "train_dataset, val_dataset = torch.utils.data.random_split(dataset, [train_size, val_size])\n",
    "\n",
    "train_loader = DataLoader(dataset, batch_size=32, shuffle=True)\n",
    "val_loader = DataLoader(val_dataset, batch_size=32)"
   ]
  },
  {
   "cell_type": "code",
   "execution_count": 29,
   "id": "e3aa9ff1-15f9-4032-ab65-686d1f8f82b9",
   "metadata": {},
   "outputs": [],
   "source": [
    "model = MedicalSpecialistClassifer(model_name = \"../models/BookingCare/gte-multilingual-base-v2.1/\",num_specialists=len(specialist_encoder.classes_), user_feature_dim=2, load_pretrained=True, trust_remote_code=True)"
   ]
  },
  {
   "cell_type": "code",
   "execution_count": 30,
   "id": "6be37109-96e7-4ca4-9867-67ae290b8569",
   "metadata": {},
   "outputs": [
    {
     "data": {
      "text/plain": [
       "MedicalSpecialistClassifer(\n",
       "  (reason_encoder): NewModel(\n",
       "    (embeddings): NewEmbeddings(\n",
       "      (word_embeddings): Embedding(250048, 768, padding_idx=1)\n",
       "      (rotary_emb): NTKScalingRotaryEmbedding()\n",
       "      (token_type_embeddings): Embedding(1, 768)\n",
       "      (LayerNorm): LayerNorm((768,), eps=1e-12, elementwise_affine=True)\n",
       "      (dropout): Dropout(p=0.1, inplace=False)\n",
       "    )\n",
       "    (encoder): NewEncoder(\n",
       "      (layer): ModuleList(\n",
       "        (0-11): 12 x NewLayer(\n",
       "          (attention): NewSdpaAttention(\n",
       "            (qkv_proj): Linear(in_features=768, out_features=2304, bias=True)\n",
       "            (dropout): Dropout(p=0.0, inplace=False)\n",
       "            (o_proj): Linear(in_features=768, out_features=768, bias=True)\n",
       "          )\n",
       "          (mlp): NewGatedMLP(\n",
       "            (up_gate_proj): Linear(in_features=768, out_features=6144, bias=False)\n",
       "            (down_proj): Linear(in_features=3072, out_features=768, bias=True)\n",
       "            (act_fn): GELUActivation()\n",
       "            (hidden_dropout): Dropout(p=0.1, inplace=False)\n",
       "          )\n",
       "          (attn_ln): LayerNorm((768,), eps=1e-12, elementwise_affine=True)\n",
       "          (mlp_ln): LayerNorm((768,), eps=1e-12, elementwise_affine=True)\n",
       "          (hidden_dropout): Dropout(p=0.1, inplace=False)\n",
       "        )\n",
       "      )\n",
       "    )\n",
       "  )\n",
       "  (relu): ReLU()\n",
       "  (dropout): Dropout(p=0.2, inplace=False)\n",
       "  (user_encoder): Sequential(\n",
       "    (0): Linear(in_features=2, out_features=128, bias=True)\n",
       "    (1): BatchNorm1d(128, eps=1e-05, momentum=0.1, affine=True, track_running_stats=True)\n",
       "    (2): ReLU()\n",
       "    (3): Dropout(p=0.2, inplace=False)\n",
       "    (4): Linear(in_features=128, out_features=256, bias=True)\n",
       "    (5): ReLU()\n",
       "  )\n",
       "  (hidden_layer1): Sequential(\n",
       "    (0): Linear(in_features=768, out_features=512, bias=True)\n",
       "    (1): BatchNorm1d(512, eps=1e-05, momentum=0.1, affine=True, track_running_stats=True)\n",
       "    (2): ReLU()\n",
       "    (3): Dropout(p=0.2, inplace=False)\n",
       "  )\n",
       "  (level1_output): Linear(in_features=512, out_features=19, bias=True)\n",
       "  (hidden_layer2): Sequential(\n",
       "    (0): Linear(in_features=1536, out_features=768, bias=True)\n",
       "    (1): BatchNorm1d(768, eps=1e-05, momentum=0.1, affine=True, track_running_stats=True)\n",
       "    (2): ReLU()\n",
       "    (3): Dropout(p=0.2, inplace=False)\n",
       "  )\n",
       "  (level2_output): Linear(in_features=768, out_features=19, bias=True)\n",
       ")"
      ]
     },
     "execution_count": 30,
     "metadata": {},
     "output_type": "execute_result"
    }
   ],
   "source": [
    "model"
   ]
  },
  {
   "cell_type": "code",
   "execution_count": 31,
   "id": "04c16068-ed27-4fdd-afbc-dba7ba615d9f",
   "metadata": {},
   "outputs": [],
   "source": [
    "optimizer = torch.optim.AdamW(model.parameters(), lr=4e-5)"
   ]
  },
  {
   "cell_type": "code",
   "execution_count": 32,
   "id": "49c413de-c46d-48c3-9e82-6341ed6fd6c4",
   "metadata": {},
   "outputs": [],
   "source": [
    "weight_class = torch.tensor(weight_class, dtype=torch.float).to(device)"
   ]
  },
  {
   "cell_type": "code",
   "execution_count": 33,
   "id": "369618a0-8d9a-4976-8331-82003c9d8796",
   "metadata": {},
   "outputs": [],
   "source": [
    "criterion = nn.CrossEntropyLoss(weight=weight_class)"
   ]
  },
  {
   "cell_type": "code",
   "execution_count": null,
   "id": "3c232a3f-ad44-4c20-8de7-47fe31d456ed",
   "metadata": {},
   "outputs": [
    {
     "data": {
      "application/vnd.jupyter.widget-view+json": {
       "model_id": "4d4def609e634a9c974325dd679b9289",
       "version_major": 2,
       "version_minor": 0
      },
      "text/plain": [
       "  0%|          | 0/100 [00:00<?, ?it/s]"
      ]
     },
     "metadata": {},
     "output_type": "display_data"
    },
    {
     "data": {
      "application/vnd.jupyter.widget-view+json": {
       "model_id": "b64bb2cb5921417bb7e22a6ec2a0f24e",
       "version_major": 2,
       "version_minor": 0
      },
      "text/plain": [
       "Training...:   0%|          | 0/1669 [00:00<?, ?it/s]"
      ]
     },
     "metadata": {},
     "output_type": "display_data"
    },
    {
     "name": "stdout",
     "output_type": "stream",
     "text": [
      "Epoch 1/100:\n",
      "Train Loss:  3.4953\n",
      "Level 1 Accuracy: 61.17\n",
      "Final Accuracy (with Level 2 fallback):  74.95%\n",
      "\n"
     ]
    },
    {
     "data": {
      "application/vnd.jupyter.widget-view+json": {
       "model_id": "0a71ca184abc483e9fa174c9aca22ead",
       "version_major": 2,
       "version_minor": 0
      },
      "text/plain": [
       "Validate...:   0%|          | 0/334 [00:00<?, ?it/s]"
      ]
     },
     "metadata": {},
     "output_type": "display_data"
    },
    {
     "name": "stdout",
     "output_type": "stream",
     "text": [
      "Validation loss: 2.7433\n",
      "Validation level 1 Accuracy: 69.51%\n",
      "Validation Final Accuracy (with Level 2 fallback): 82.01%\n",
      "\n",
      "Model saved.\n"
     ]
    },
    {
     "data": {
      "application/vnd.jupyter.widget-view+json": {
       "model_id": "080e5dcebc60487ab04c2bda61493948",
       "version_major": 2,
       "version_minor": 0
      },
      "text/plain": [
       "Training...:   0%|          | 0/1669 [00:00<?, ?it/s]"
      ]
     },
     "metadata": {},
     "output_type": "display_data"
    },
    {
     "name": "stdout",
     "output_type": "stream",
     "text": [
      "Epoch 2/100:\n",
      "Train Loss:  2.9307\n",
      "Level 1 Accuracy: 68.08\n",
      "Final Accuracy (with Level 2 fallback):  80.20%\n",
      "\n"
     ]
    },
    {
     "data": {
      "application/vnd.jupyter.widget-view+json": {
       "model_id": "064af99c195b4362b7afce337854151f",
       "version_major": 2,
       "version_minor": 0
      },
      "text/plain": [
       "Validate...:   0%|          | 0/334 [00:00<?, ?it/s]"
      ]
     },
     "metadata": {},
     "output_type": "display_data"
    },
    {
     "name": "stdout",
     "output_type": "stream",
     "text": [
      "Validation loss: 2.5384\n",
      "Validation level 1 Accuracy: 71.04%\n",
      "Validation Final Accuracy (with Level 2 fallback): 83.95%\n",
      "\n",
      "Model saved.\n"
     ]
    },
    {
     "data": {
      "application/vnd.jupyter.widget-view+json": {
       "model_id": "fa4f9b1c45f44c3f8e47f006c4a6eee3",
       "version_major": 2,
       "version_minor": 0
      },
      "text/plain": [
       "Training...:   0%|          | 0/1669 [00:00<?, ?it/s]"
      ]
     },
     "metadata": {},
     "output_type": "display_data"
    },
    {
     "name": "stdout",
     "output_type": "stream",
     "text": [
      "Epoch 3/100:\n",
      "Train Loss:  2.7746\n",
      "Level 1 Accuracy: 69.00\n",
      "Final Accuracy (with Level 2 fallback):  81.19%\n",
      "\n"
     ]
    },
    {
     "data": {
      "application/vnd.jupyter.widget-view+json": {
       "model_id": "4e3081257bd245d9a7dd3b437b873b5e",
       "version_major": 2,
       "version_minor": 0
      },
      "text/plain": [
       "Validate...:   0%|          | 0/334 [00:00<?, ?it/s]"
      ]
     },
     "metadata": {},
     "output_type": "display_data"
    },
    {
     "name": "stdout",
     "output_type": "stream",
     "text": [
      "Validation loss: 2.4208\n",
      "Validation level 1 Accuracy: 71.71%\n",
      "Validation Final Accuracy (with Level 2 fallback): 84.64%\n",
      "\n",
      "Model saved.\n"
     ]
    },
    {
     "data": {
      "application/vnd.jupyter.widget-view+json": {
       "model_id": "73c502849cb446a99a7b3c1439b8c3a5",
       "version_major": 2,
       "version_minor": 0
      },
      "text/plain": [
       "Training...:   0%|          | 0/1669 [00:00<?, ?it/s]"
      ]
     },
     "metadata": {},
     "output_type": "display_data"
    },
    {
     "name": "stdout",
     "output_type": "stream",
     "text": [
      "Epoch 4/100:\n",
      "Train Loss:  2.6780\n",
      "Level 1 Accuracy: 69.77\n",
      "Final Accuracy (with Level 2 fallback):  82.13%\n",
      "\n"
     ]
    },
    {
     "data": {
      "application/vnd.jupyter.widget-view+json": {
       "model_id": "246d1502e64b4c0d876e9f54d59dd82a",
       "version_major": 2,
       "version_minor": 0
      },
      "text/plain": [
       "Validate...:   0%|          | 0/334 [00:00<?, ?it/s]"
      ]
     },
     "metadata": {},
     "output_type": "display_data"
    },
    {
     "name": "stdout",
     "output_type": "stream",
     "text": [
      "Validation loss: 2.3227\n",
      "Validation level 1 Accuracy: 72.77%\n",
      "Validation Final Accuracy (with Level 2 fallback): 85.98%\n",
      "\n",
      "Model saved.\n"
     ]
    },
    {
     "data": {
      "application/vnd.jupyter.widget-view+json": {
       "model_id": "10aebbccf9aa447d933e6d31cde153b4",
       "version_major": 2,
       "version_minor": 0
      },
      "text/plain": [
       "Training...:   0%|          | 0/1669 [00:00<?, ?it/s]"
      ]
     },
     "metadata": {},
     "output_type": "display_data"
    },
    {
     "name": "stdout",
     "output_type": "stream",
     "text": [
      "Epoch 5/100:\n",
      "Train Loss:  2.6183\n",
      "Level 1 Accuracy: 70.37\n",
      "Final Accuracy (with Level 2 fallback):  82.79%\n",
      "\n"
     ]
    },
    {
     "data": {
      "application/vnd.jupyter.widget-view+json": {
       "model_id": "d6f379b263f64b71bb61a56e179492f2",
       "version_major": 2,
       "version_minor": 0
      },
      "text/plain": [
       "Validate...:   0%|          | 0/334 [00:00<?, ?it/s]"
      ]
     },
     "metadata": {},
     "output_type": "display_data"
    },
    {
     "name": "stdout",
     "output_type": "stream",
     "text": [
      "Validation loss: 2.2470\n",
      "Validation level 1 Accuracy: 72.46%\n",
      "Validation Final Accuracy (with Level 2 fallback): 86.15%\n",
      "\n",
      "Model saved.\n"
     ]
    },
    {
     "data": {
      "application/vnd.jupyter.widget-view+json": {
       "model_id": "dddb026fae284d1f9898a4c5b842f28a",
       "version_major": 2,
       "version_minor": 0
      },
      "text/plain": [
       "Training...:   0%|          | 0/1669 [00:00<?, ?it/s]"
      ]
     },
     "metadata": {},
     "output_type": "display_data"
    },
    {
     "name": "stdout",
     "output_type": "stream",
     "text": [
      "Epoch 6/100:\n",
      "Train Loss:  2.5422\n",
      "Level 1 Accuracy: 70.58\n",
      "Final Accuracy (with Level 2 fallback):  83.15%\n",
      "\n"
     ]
    },
    {
     "data": {
      "application/vnd.jupyter.widget-view+json": {
       "model_id": "4667c66baf944c68b2bd14f3ac0f4e07",
       "version_major": 2,
       "version_minor": 0
      },
      "text/plain": [
       "Validate...:   0%|          | 0/334 [00:00<?, ?it/s]"
      ]
     },
     "metadata": {},
     "output_type": "display_data"
    },
    {
     "name": "stdout",
     "output_type": "stream",
     "text": [
      "Validation loss: 2.1656\n",
      "Validation level 1 Accuracy: 73.52%\n",
      "Validation Final Accuracy (with Level 2 fallback): 87.17%\n",
      "\n",
      "Model saved.\n"
     ]
    },
    {
     "data": {
      "application/vnd.jupyter.widget-view+json": {
       "model_id": "232064863b994471992deecfcb387f5c",
       "version_major": 2,
       "version_minor": 0
      },
      "text/plain": [
       "Training...:   0%|          | 0/1669 [00:00<?, ?it/s]"
      ]
     },
     "metadata": {},
     "output_type": "display_data"
    },
    {
     "name": "stdout",
     "output_type": "stream",
     "text": [
      "Epoch 7/100:\n",
      "Train Loss:  2.4886\n",
      "Level 1 Accuracy: 71.03\n",
      "Final Accuracy (with Level 2 fallback):  83.80%\n",
      "\n"
     ]
    },
    {
     "data": {
      "application/vnd.jupyter.widget-view+json": {
       "model_id": "7c6d17395d354b5da10d3e8169c6c266",
       "version_major": 2,
       "version_minor": 0
      },
      "text/plain": [
       "Validate...:   0%|          | 0/334 [00:00<?, ?it/s]"
      ]
     },
     "metadata": {},
     "output_type": "display_data"
    },
    {
     "name": "stdout",
     "output_type": "stream",
     "text": [
      "Validation loss: 2.0958\n",
      "Validation level 1 Accuracy: 73.71%\n",
      "Validation Final Accuracy (with Level 2 fallback): 87.89%\n",
      "\n",
      "Model saved.\n"
     ]
    },
    {
     "data": {
      "application/vnd.jupyter.widget-view+json": {
       "model_id": "68b02d07fa164079afc71338c9881cbd",
       "version_major": 2,
       "version_minor": 0
      },
      "text/plain": [
       "Training...:   0%|          | 0/1669 [00:00<?, ?it/s]"
      ]
     },
     "metadata": {},
     "output_type": "display_data"
    },
    {
     "name": "stdout",
     "output_type": "stream",
     "text": [
      "Epoch 8/100:\n",
      "Train Loss:  2.4265\n",
      "Level 1 Accuracy: 71.36\n",
      "Final Accuracy (with Level 2 fallback):  84.25%\n",
      "\n"
     ]
    },
    {
     "data": {
      "application/vnd.jupyter.widget-view+json": {
       "model_id": "37d5fcd8d0dc4b2ca74ff5437b397026",
       "version_major": 2,
       "version_minor": 0
      },
      "text/plain": [
       "Validate...:   0%|          | 0/334 [00:00<?, ?it/s]"
      ]
     },
     "metadata": {},
     "output_type": "display_data"
    },
    {
     "name": "stdout",
     "output_type": "stream",
     "text": [
      "Validation loss: 2.0493\n",
      "Validation level 1 Accuracy: 74.09%\n",
      "Validation Final Accuracy (with Level 2 fallback): 88.70%\n",
      "\n",
      "Model saved.\n"
     ]
    },
    {
     "data": {
      "application/vnd.jupyter.widget-view+json": {
       "model_id": "fb86bb8220ff4c57a020659431342d01",
       "version_major": 2,
       "version_minor": 0
      },
      "text/plain": [
       "Training...:   0%|          | 0/1669 [00:00<?, ?it/s]"
      ]
     },
     "metadata": {},
     "output_type": "display_data"
    },
    {
     "name": "stdout",
     "output_type": "stream",
     "text": [
      "Epoch 9/100:\n",
      "Train Loss:  2.3987\n",
      "Level 1 Accuracy: 71.35\n",
      "Final Accuracy (with Level 2 fallback):  84.31%\n",
      "\n"
     ]
    },
    {
     "data": {
      "application/vnd.jupyter.widget-view+json": {
       "model_id": "4e0db94e8db64669adc8a3e6c764fb50",
       "version_major": 2,
       "version_minor": 0
      },
      "text/plain": [
       "Validate...:   0%|          | 0/334 [00:00<?, ?it/s]"
      ]
     },
     "metadata": {},
     "output_type": "display_data"
    },
    {
     "name": "stdout",
     "output_type": "stream",
     "text": [
      "Validation loss: 1.9888\n",
      "Validation level 1 Accuracy: 74.20%\n",
      "Validation Final Accuracy (with Level 2 fallback): 88.61%\n",
      "\n",
      "Model saved.\n"
     ]
    },
    {
     "data": {
      "application/vnd.jupyter.widget-view+json": {
       "model_id": "cf3fc62212884f85ad501a5820817e8b",
       "version_major": 2,
       "version_minor": 0
      },
      "text/plain": [
       "Training...:   0%|          | 0/1669 [00:00<?, ?it/s]"
      ]
     },
     "metadata": {},
     "output_type": "display_data"
    },
    {
     "name": "stdout",
     "output_type": "stream",
     "text": [
      "Epoch 10/100:\n",
      "Train Loss:  2.3664\n",
      "Level 1 Accuracy: 71.75\n",
      "Final Accuracy (with Level 2 fallback):  84.68%\n",
      "\n"
     ]
    },
    {
     "data": {
      "application/vnd.jupyter.widget-view+json": {
       "model_id": "53d19c5e00444e18951d85740afaffed",
       "version_major": 2,
       "version_minor": 0
      },
      "text/plain": [
       "Validate...:   0%|          | 0/334 [00:00<?, ?it/s]"
      ]
     },
     "metadata": {},
     "output_type": "display_data"
    },
    {
     "name": "stdout",
     "output_type": "stream",
     "text": [
      "Validation loss: 1.9577\n",
      "Validation level 1 Accuracy: 74.25%\n",
      "Validation Final Accuracy (with Level 2 fallback): 88.72%\n",
      "\n",
      "Model saved.\n"
     ]
    },
    {
     "data": {
      "application/vnd.jupyter.widget-view+json": {
       "model_id": "b126dd3d6b9c45eab0ff2bf5bffc8153",
       "version_major": 2,
       "version_minor": 0
      },
      "text/plain": [
       "Training...:   0%|          | 0/1669 [00:00<?, ?it/s]"
      ]
     },
     "metadata": {},
     "output_type": "display_data"
    },
    {
     "name": "stdout",
     "output_type": "stream",
     "text": [
      "Epoch 11/100:\n",
      "Train Loss:  2.3232\n",
      "Level 1 Accuracy: 71.81\n",
      "Final Accuracy (with Level 2 fallback):  84.96%\n",
      "\n"
     ]
    },
    {
     "data": {
      "application/vnd.jupyter.widget-view+json": {
       "model_id": "251e35d7383041a585997750ba7b2d99",
       "version_major": 2,
       "version_minor": 0
      },
      "text/plain": [
       "Validate...:   0%|          | 0/334 [00:00<?, ?it/s]"
      ]
     },
     "metadata": {},
     "output_type": "display_data"
    },
    {
     "name": "stdout",
     "output_type": "stream",
     "text": [
      "Validation loss: 1.9179\n",
      "Validation level 1 Accuracy: 74.58%\n",
      "Validation Final Accuracy (with Level 2 fallback): 88.86%\n",
      "\n",
      "Model saved.\n"
     ]
    },
    {
     "data": {
      "application/vnd.jupyter.widget-view+json": {
       "model_id": "67ac3a13c2e94f1286b58e7e333a0a8c",
       "version_major": 2,
       "version_minor": 0
      },
      "text/plain": [
       "Training...:   0%|          | 0/1669 [00:00<?, ?it/s]"
      ]
     },
     "metadata": {},
     "output_type": "display_data"
    },
    {
     "name": "stdout",
     "output_type": "stream",
     "text": [
      "Epoch 12/100:\n",
      "Train Loss:  2.2954\n",
      "Level 1 Accuracy: 72.18\n",
      "Final Accuracy (with Level 2 fallback):  85.35%\n",
      "\n"
     ]
    },
    {
     "data": {
      "application/vnd.jupyter.widget-view+json": {
       "model_id": "f7b919b452c54968aec934f20435f3c7",
       "version_major": 2,
       "version_minor": 0
      },
      "text/plain": [
       "Validate...:   0%|          | 0/334 [00:00<?, ?it/s]"
      ]
     },
     "metadata": {},
     "output_type": "display_data"
    },
    {
     "name": "stdout",
     "output_type": "stream",
     "text": [
      "Validation loss: 1.8949\n",
      "Validation level 1 Accuracy: 74.61%\n",
      "Validation Final Accuracy (with Level 2 fallback): 89.00%\n",
      "\n",
      "Model saved.\n"
     ]
    },
    {
     "data": {
      "application/vnd.jupyter.widget-view+json": {
       "model_id": "56b4c1cef1ee44abba564a456fa87bcd",
       "version_major": 2,
       "version_minor": 0
      },
      "text/plain": [
       "Training...:   0%|          | 0/1669 [00:00<?, ?it/s]"
      ]
     },
     "metadata": {},
     "output_type": "display_data"
    },
    {
     "name": "stdout",
     "output_type": "stream",
     "text": [
      "Epoch 13/100:\n",
      "Train Loss:  2.2469\n",
      "Level 1 Accuracy: 72.03\n",
      "Final Accuracy (with Level 2 fallback):  85.51%\n",
      "\n"
     ]
    },
    {
     "data": {
      "application/vnd.jupyter.widget-view+json": {
       "model_id": "c8e3613b7a23405080d01b2cb4ecf7ce",
       "version_major": 2,
       "version_minor": 0
      },
      "text/plain": [
       "Validate...:   0%|          | 0/334 [00:00<?, ?it/s]"
      ]
     },
     "metadata": {},
     "output_type": "display_data"
    },
    {
     "name": "stdout",
     "output_type": "stream",
     "text": [
      "Validation loss: 1.8173\n",
      "Validation level 1 Accuracy: 75.21%\n",
      "Validation Final Accuracy (with Level 2 fallback): 89.99%\n",
      "\n",
      "Model saved.\n"
     ]
    },
    {
     "data": {
      "application/vnd.jupyter.widget-view+json": {
       "model_id": "01d845754c004648a01082eabea8b2a7",
       "version_major": 2,
       "version_minor": 0
      },
      "text/plain": [
       "Training...:   0%|          | 0/1669 [00:00<?, ?it/s]"
      ]
     },
     "metadata": {},
     "output_type": "display_data"
    },
    {
     "name": "stdout",
     "output_type": "stream",
     "text": [
      "Epoch 14/100:\n",
      "Train Loss:  2.2354\n",
      "Level 1 Accuracy: 72.29\n",
      "Final Accuracy (with Level 2 fallback):  85.68%\n",
      "\n"
     ]
    },
    {
     "data": {
      "application/vnd.jupyter.widget-view+json": {
       "model_id": "f6bc1fd6678f4cfbbc2d008e034581c4",
       "version_major": 2,
       "version_minor": 0
      },
      "text/plain": [
       "Validate...:   0%|          | 0/334 [00:00<?, ?it/s]"
      ]
     },
     "metadata": {},
     "output_type": "display_data"
    },
    {
     "name": "stdout",
     "output_type": "stream",
     "text": [
      "Validation loss: 1.8037\n",
      "Validation level 1 Accuracy: 74.89%\n",
      "Validation Final Accuracy (with Level 2 fallback): 89.83%\n",
      "\n",
      "Model saved.\n"
     ]
    },
    {
     "data": {
      "application/vnd.jupyter.widget-view+json": {
       "model_id": "7747caea996c44b1a254e3e93106d265",
       "version_major": 2,
       "version_minor": 0
      },
      "text/plain": [
       "Training...:   0%|          | 0/1669 [00:00<?, ?it/s]"
      ]
     },
     "metadata": {},
     "output_type": "display_data"
    },
    {
     "name": "stdout",
     "output_type": "stream",
     "text": [
      "Epoch 15/100:\n",
      "Train Loss:  2.2017\n",
      "Level 1 Accuracy: 72.45\n",
      "Final Accuracy (with Level 2 fallback):  86.02%\n",
      "\n"
     ]
    },
    {
     "data": {
      "application/vnd.jupyter.widget-view+json": {
       "model_id": "ddd1e4cd7ebe4fa1b9b057c3a2e488e0",
       "version_major": 2,
       "version_minor": 0
      },
      "text/plain": [
       "Validate...:   0%|          | 0/334 [00:00<?, ?it/s]"
      ]
     },
     "metadata": {},
     "output_type": "display_data"
    },
    {
     "name": "stdout",
     "output_type": "stream",
     "text": [
      "Validation loss: 1.7724\n",
      "Validation level 1 Accuracy: 75.42%\n",
      "Validation Final Accuracy (with Level 2 fallback): 90.36%\n",
      "\n",
      "Model saved.\n"
     ]
    },
    {
     "data": {
      "application/vnd.jupyter.widget-view+json": {
       "model_id": "7de049d615784125a9473eb4004a59d2",
       "version_major": 2,
       "version_minor": 0
      },
      "text/plain": [
       "Training...:   0%|          | 0/1669 [00:00<?, ?it/s]"
      ]
     },
     "metadata": {},
     "output_type": "display_data"
    },
    {
     "name": "stdout",
     "output_type": "stream",
     "text": [
      "Epoch 16/100:\n",
      "Train Loss:  2.1779\n",
      "Level 1 Accuracy: 72.60\n",
      "Final Accuracy (with Level 2 fallback):  86.19%\n",
      "\n"
     ]
    },
    {
     "data": {
      "application/vnd.jupyter.widget-view+json": {
       "model_id": "b72b14a7438d477484c575e88bf02178",
       "version_major": 2,
       "version_minor": 0
      },
      "text/plain": [
       "Validate...:   0%|          | 0/334 [00:00<?, ?it/s]"
      ]
     },
     "metadata": {},
     "output_type": "display_data"
    },
    {
     "name": "stdout",
     "output_type": "stream",
     "text": [
      "Validation loss: 1.7350\n",
      "Validation level 1 Accuracy: 75.34%\n",
      "Validation Final Accuracy (with Level 2 fallback): 90.66%\n",
      "\n",
      "Model saved.\n"
     ]
    },
    {
     "data": {
      "application/vnd.jupyter.widget-view+json": {
       "model_id": "e282cea16f3e4e87b17b23efa1ab5f2d",
       "version_major": 2,
       "version_minor": 0
      },
      "text/plain": [
       "Training...:   0%|          | 0/1669 [00:00<?, ?it/s]"
      ]
     },
     "metadata": {},
     "output_type": "display_data"
    },
    {
     "name": "stdout",
     "output_type": "stream",
     "text": [
      "Epoch 17/100:\n",
      "Train Loss:  2.1666\n",
      "Level 1 Accuracy: 72.57\n",
      "Final Accuracy (with Level 2 fallback):  86.42%\n",
      "\n"
     ]
    },
    {
     "data": {
      "application/vnd.jupyter.widget-view+json": {
       "model_id": "254078c5e2164fa9908adcadc725c631",
       "version_major": 2,
       "version_minor": 0
      },
      "text/plain": [
       "Validate...:   0%|          | 0/334 [00:00<?, ?it/s]"
      ]
     },
     "metadata": {},
     "output_type": "display_data"
    },
    {
     "name": "stdout",
     "output_type": "stream",
     "text": [
      "Validation loss: 1.7053\n",
      "Validation level 1 Accuracy: 75.43%\n",
      "Validation Final Accuracy (with Level 2 fallback): 90.89%\n",
      "\n",
      "Model saved.\n"
     ]
    },
    {
     "data": {
      "application/vnd.jupyter.widget-view+json": {
       "model_id": "dc66faf50e73406ea7973fd71599ff10",
       "version_major": 2,
       "version_minor": 0
      },
      "text/plain": [
       "Training...:   0%|          | 0/1669 [00:00<?, ?it/s]"
      ]
     },
     "metadata": {},
     "output_type": "display_data"
    },
    {
     "name": "stdout",
     "output_type": "stream",
     "text": [
      "Epoch 18/100:\n",
      "Train Loss:  2.1442\n",
      "Level 1 Accuracy: 72.77\n",
      "Final Accuracy (with Level 2 fallback):  86.47%\n",
      "\n"
     ]
    },
    {
     "data": {
      "application/vnd.jupyter.widget-view+json": {
       "model_id": "2ea14e4a13bf4cb18a920f5057233c7e",
       "version_major": 2,
       "version_minor": 0
      },
      "text/plain": [
       "Validate...:   0%|          | 0/334 [00:00<?, ?it/s]"
      ]
     },
     "metadata": {},
     "output_type": "display_data"
    },
    {
     "name": "stdout",
     "output_type": "stream",
     "text": [
      "Validation loss: 1.6853\n",
      "Validation level 1 Accuracy: 75.72%\n",
      "Validation Final Accuracy (with Level 2 fallback): 90.86%\n",
      "\n",
      "Model saved.\n"
     ]
    },
    {
     "data": {
      "application/vnd.jupyter.widget-view+json": {
       "model_id": "1375e51a869146018da5626a7c8a0956",
       "version_major": 2,
       "version_minor": 0
      },
      "text/plain": [
       "Training...:   0%|          | 0/1669 [00:00<?, ?it/s]"
      ]
     },
     "metadata": {},
     "output_type": "display_data"
    },
    {
     "name": "stdout",
     "output_type": "stream",
     "text": [
      "Epoch 19/100:\n",
      "Train Loss:  2.1219\n",
      "Level 1 Accuracy: 72.90\n",
      "Final Accuracy (with Level 2 fallback):  86.82%\n",
      "\n"
     ]
    },
    {
     "data": {
      "application/vnd.jupyter.widget-view+json": {
       "model_id": "92a1f4efde304777ae8e1dfa5792d77a",
       "version_major": 2,
       "version_minor": 0
      },
      "text/plain": [
       "Validate...:   0%|          | 0/334 [00:00<?, ?it/s]"
      ]
     },
     "metadata": {},
     "output_type": "display_data"
    },
    {
     "name": "stdout",
     "output_type": "stream",
     "text": [
      "Validation loss: 1.6556\n",
      "Validation level 1 Accuracy: 75.67%\n",
      "Validation Final Accuracy (with Level 2 fallback): 90.93%\n",
      "\n",
      "Model saved.\n"
     ]
    },
    {
     "data": {
      "application/vnd.jupyter.widget-view+json": {
       "model_id": "5096350553334917a08e64e2a08a9a04",
       "version_major": 2,
       "version_minor": 0
      },
      "text/plain": [
       "Training...:   0%|          | 0/1669 [00:00<?, ?it/s]"
      ]
     },
     "metadata": {},
     "output_type": "display_data"
    },
    {
     "name": "stdout",
     "output_type": "stream",
     "text": [
      "Epoch 20/100:\n",
      "Train Loss:  2.1003\n",
      "Level 1 Accuracy: 73.13\n",
      "Final Accuracy (with Level 2 fallback):  87.07%\n",
      "\n"
     ]
    },
    {
     "data": {
      "application/vnd.jupyter.widget-view+json": {
       "model_id": "4cbb49356c6448a9b852315206261c41",
       "version_major": 2,
       "version_minor": 0
      },
      "text/plain": [
       "Validate...:   0%|          | 0/334 [00:00<?, ?it/s]"
      ]
     },
     "metadata": {},
     "output_type": "display_data"
    },
    {
     "name": "stdout",
     "output_type": "stream",
     "text": [
      "Validation loss: 1.6247\n",
      "Validation level 1 Accuracy: 75.71%\n",
      "Validation Final Accuracy (with Level 2 fallback): 91.40%\n",
      "\n",
      "Model saved.\n"
     ]
    },
    {
     "data": {
      "application/vnd.jupyter.widget-view+json": {
       "model_id": "16fc68ebc3c64f32b9bc8cf167e424c6",
       "version_major": 2,
       "version_minor": 0
      },
      "text/plain": [
       "Training...:   0%|          | 0/1669 [00:00<?, ?it/s]"
      ]
     },
     "metadata": {},
     "output_type": "display_data"
    },
    {
     "name": "stdout",
     "output_type": "stream",
     "text": [
      "Epoch 21/100:\n",
      "Train Loss:  2.0714\n",
      "Level 1 Accuracy: 73.01\n",
      "Final Accuracy (with Level 2 fallback):  87.18%\n",
      "\n"
     ]
    },
    {
     "data": {
      "application/vnd.jupyter.widget-view+json": {
       "model_id": "934ef54708b04000b3f0148a7ad16cba",
       "version_major": 2,
       "version_minor": 0
      },
      "text/plain": [
       "Validate...:   0%|          | 0/334 [00:00<?, ?it/s]"
      ]
     },
     "metadata": {},
     "output_type": "display_data"
    },
    {
     "name": "stdout",
     "output_type": "stream",
     "text": [
      "Validation loss: 1.6125\n",
      "Validation level 1 Accuracy: 75.73%\n",
      "Validation Final Accuracy (with Level 2 fallback): 91.45%\n",
      "\n",
      "Model saved.\n"
     ]
    },
    {
     "data": {
      "application/vnd.jupyter.widget-view+json": {
       "model_id": "8cd15ffd59754e6b98d2dd0645eba9c0",
       "version_major": 2,
       "version_minor": 0
      },
      "text/plain": [
       "Training...:   0%|          | 0/1669 [00:00<?, ?it/s]"
      ]
     },
     "metadata": {},
     "output_type": "display_data"
    },
    {
     "name": "stdout",
     "output_type": "stream",
     "text": [
      "Epoch 22/100:\n",
      "Train Loss:  2.0466\n",
      "Level 1 Accuracy: 73.28\n",
      "Final Accuracy (with Level 2 fallback):  87.34%\n",
      "\n"
     ]
    },
    {
     "data": {
      "application/vnd.jupyter.widget-view+json": {
       "model_id": "b8c082ecedf74e3186624f3db7ea75ac",
       "version_major": 2,
       "version_minor": 0
      },
      "text/plain": [
       "Validate...:   0%|          | 0/334 [00:00<?, ?it/s]"
      ]
     },
     "metadata": {},
     "output_type": "display_data"
    },
    {
     "name": "stdout",
     "output_type": "stream",
     "text": [
      "Validation loss: 1.5608\n",
      "Validation level 1 Accuracy: 76.22%\n",
      "Validation Final Accuracy (with Level 2 fallback): 91.83%\n",
      "\n",
      "Model saved.\n"
     ]
    },
    {
     "data": {
      "application/vnd.jupyter.widget-view+json": {
       "model_id": "ad1f6a7bcf494c9d9f05f8085654c43b",
       "version_major": 2,
       "version_minor": 0
      },
      "text/plain": [
       "Training...:   0%|          | 0/1669 [00:00<?, ?it/s]"
      ]
     },
     "metadata": {},
     "output_type": "display_data"
    },
    {
     "name": "stdout",
     "output_type": "stream",
     "text": [
      "Epoch 23/100:\n",
      "Train Loss:  2.0382\n",
      "Level 1 Accuracy: 73.17\n",
      "Final Accuracy (with Level 2 fallback):  87.38%\n",
      "\n"
     ]
    },
    {
     "data": {
      "application/vnd.jupyter.widget-view+json": {
       "model_id": "85940f4841da45c493356839c7253b27",
       "version_major": 2,
       "version_minor": 0
      },
      "text/plain": [
       "Validate...:   0%|          | 0/334 [00:00<?, ?it/s]"
      ]
     },
     "metadata": {},
     "output_type": "display_data"
    },
    {
     "name": "stdout",
     "output_type": "stream",
     "text": [
      "Validation loss: 1.5711\n",
      "Validation level 1 Accuracy: 76.25%\n",
      "Validation Final Accuracy (with Level 2 fallback): 92.20%\n",
      "\n"
     ]
    },
    {
     "data": {
      "application/vnd.jupyter.widget-view+json": {
       "model_id": "94e9fa06f5c141ca9574fa616cc875fc",
       "version_major": 2,
       "version_minor": 0
      },
      "text/plain": [
       "Training...:   0%|          | 0/1669 [00:00<?, ?it/s]"
      ]
     },
     "metadata": {},
     "output_type": "display_data"
    },
    {
     "name": "stdout",
     "output_type": "stream",
     "text": [
      "Epoch 24/100:\n",
      "Train Loss:  2.0025\n",
      "Level 1 Accuracy: 73.49\n",
      "Final Accuracy (with Level 2 fallback):  87.65%\n",
      "\n"
     ]
    },
    {
     "data": {
      "application/vnd.jupyter.widget-view+json": {
       "model_id": "bc3d9b9b8b6d499b9a5556bd8db48de7",
       "version_major": 2,
       "version_minor": 0
      },
      "text/plain": [
       "Validate...:   0%|          | 0/334 [00:00<?, ?it/s]"
      ]
     },
     "metadata": {},
     "output_type": "display_data"
    },
    {
     "name": "stdout",
     "output_type": "stream",
     "text": [
      "Validation loss: 1.5263\n",
      "Validation level 1 Accuracy: 76.46%\n",
      "Validation Final Accuracy (with Level 2 fallback): 91.98%\n",
      "\n",
      "Model saved.\n"
     ]
    },
    {
     "data": {
      "application/vnd.jupyter.widget-view+json": {
       "model_id": "9db326d71efc4a75b10424c438aefbe3",
       "version_major": 2,
       "version_minor": 0
      },
      "text/plain": [
       "Training...:   0%|          | 0/1669 [00:00<?, ?it/s]"
      ]
     },
     "metadata": {},
     "output_type": "display_data"
    },
    {
     "name": "stdout",
     "output_type": "stream",
     "text": [
      "Epoch 25/100:\n",
      "Train Loss:  2.0159\n",
      "Level 1 Accuracy: 73.47\n",
      "Final Accuracy (with Level 2 fallback):  87.66%\n",
      "\n"
     ]
    },
    {
     "data": {
      "application/vnd.jupyter.widget-view+json": {
       "model_id": "17c31be40c134d49ac45d3071d18a9cf",
       "version_major": 2,
       "version_minor": 0
      },
      "text/plain": [
       "Validate...:   0%|          | 0/334 [00:00<?, ?it/s]"
      ]
     },
     "metadata": {},
     "output_type": "display_data"
    },
    {
     "name": "stdout",
     "output_type": "stream",
     "text": [
      "Validation loss: 1.5142\n",
      "Validation level 1 Accuracy: 76.66%\n",
      "Validation Final Accuracy (with Level 2 fallback): 92.03%\n",
      "\n",
      "Model saved.\n"
     ]
    },
    {
     "data": {
      "application/vnd.jupyter.widget-view+json": {
       "model_id": "409f55d1d58148be8ba09c0738bf4ad1",
       "version_major": 2,
       "version_minor": 0
      },
      "text/plain": [
       "Training...:   0%|          | 0/1669 [00:00<?, ?it/s]"
      ]
     },
     "metadata": {},
     "output_type": "display_data"
    }
   ],
   "source": [
    "train(model, train_loader, val_loader, optimizer, criterion, device, num_epochs=100, patience=3)"
   ]
  },
  {
   "cell_type": "code",
   "execution_count": 35,
   "id": "3543f0bc-d6da-4698-8185-722e51e8505d",
   "metadata": {},
   "outputs": [],
   "source": [
    "new_model = MedicalSpecialistClassifer(num_specialists=len(specialist_encoder.classes_), user_feature_dim=2, load_pretrained=False, trust_remote_code=True)"
   ]
  },
  {
   "cell_type": "code",
   "execution_count": 36,
   "id": "45653a7f-fdd2-4779-80ba-b0301d7aee18",
   "metadata": {},
   "outputs": [],
   "source": [
    "import pickle\n",
    "\n",
    "# Save encoders to pickle files\n",
    "with open(\"specialist_encoder.pkl\", \"wb\") as f:\n",
    "    pickle.dump(specialist_encoder, f)\n",
    "    \n",
    "with open(\"age_encoder.pkl\", \"wb\") as f:\n",
    "    pickle.dump(age_encoder, f)\n",
    "    \n",
    "with open(\"gender_encoder.pkl\", \"wb\") as f:\n",
    "    pickle.dump(gender_encoder, f)\n"
   ]
  },
  {
   "cell_type": "code",
   "execution_count": 37,
   "id": "40a2b1ff-8995-4aaa-8774-6027e3b27ddc",
   "metadata": {},
   "outputs": [
    {
     "data": {
      "text/plain": [
       "(19,\n",
       " array(['chuyên khoa mắt', 'cơ xương khớp', 'da liễu', 'hô hấp - phổi',\n",
       "        'nam học', 'nha khoa', 'nhi khoa', 'nội khoa', 'răng hàm mặt',\n",
       "        'sản phụ khoa', 'sức khỏe tâm thần', 'tai mũi họng', 'thần kinh',\n",
       "        'thận - tiết niệu', 'tim mạch', 'tiêu hóa',\n",
       "        'tiểu đường - nội tiết', 'ung bướu', 'vô sinh - hiếm muộn'],\n",
       "       dtype=object))"
      ]
     },
     "execution_count": 37,
     "metadata": {},
     "output_type": "execute_result"
    }
   ],
   "source": [
    "len(specialist_encoder.classes_), specialist_encoder.classes_"
   ]
  },
  {
   "cell_type": "code",
   "execution_count": 38,
   "id": "1141db4f-c451-413d-a3ab-1cc3ac89deb4",
   "metadata": {},
   "outputs": [
    {
     "data": {
      "text/plain": [
       "MedicalSpecialistClassifer(\n",
       "  (reason_encoder): NewModel(\n",
       "    (embeddings): NewEmbeddings(\n",
       "      (word_embeddings): Embedding(250048, 768, padding_idx=1)\n",
       "      (rotary_emb): NTKScalingRotaryEmbedding()\n",
       "      (token_type_embeddings): Embedding(1, 768)\n",
       "      (LayerNorm): LayerNorm((768,), eps=1e-12, elementwise_affine=True)\n",
       "      (dropout): Dropout(p=0.1, inplace=False)\n",
       "    )\n",
       "    (encoder): NewEncoder(\n",
       "      (layer): ModuleList(\n",
       "        (0-11): 12 x NewLayer(\n",
       "          (attention): NewSdpaAttention(\n",
       "            (qkv_proj): Linear(in_features=768, out_features=2304, bias=True)\n",
       "            (dropout): Dropout(p=0.0, inplace=False)\n",
       "            (o_proj): Linear(in_features=768, out_features=768, bias=True)\n",
       "          )\n",
       "          (mlp): NewGatedMLP(\n",
       "            (up_gate_proj): Linear(in_features=768, out_features=6144, bias=False)\n",
       "            (down_proj): Linear(in_features=3072, out_features=768, bias=True)\n",
       "            (act_fn): GELUActivation()\n",
       "            (hidden_dropout): Dropout(p=0.1, inplace=False)\n",
       "          )\n",
       "          (attn_ln): LayerNorm((768,), eps=1e-12, elementwise_affine=True)\n",
       "          (mlp_ln): LayerNorm((768,), eps=1e-12, elementwise_affine=True)\n",
       "          (hidden_dropout): Dropout(p=0.1, inplace=False)\n",
       "        )\n",
       "      )\n",
       "    )\n",
       "  )\n",
       "  (relu): ReLU()\n",
       "  (dropout): Dropout(p=0.2, inplace=False)\n",
       "  (user_encoder): Sequential(\n",
       "    (0): Linear(in_features=2, out_features=128, bias=True)\n",
       "    (1): BatchNorm1d(128, eps=1e-05, momentum=0.1, affine=True, track_running_stats=True)\n",
       "    (2): ReLU()\n",
       "    (3): Dropout(p=0.2, inplace=False)\n",
       "    (4): Linear(in_features=128, out_features=256, bias=True)\n",
       "    (5): ReLU()\n",
       "  )\n",
       "  (hidden_layer1): Sequential(\n",
       "    (0): Linear(in_features=768, out_features=512, bias=True)\n",
       "    (1): BatchNorm1d(512, eps=1e-05, momentum=0.1, affine=True, track_running_stats=True)\n",
       "    (2): ReLU()\n",
       "    (3): Dropout(p=0.2, inplace=False)\n",
       "  )\n",
       "  (level1_output): Linear(in_features=512, out_features=19, bias=True)\n",
       "  (hidden_layer2): Sequential(\n",
       "    (0): Linear(in_features=1536, out_features=768, bias=True)\n",
       "    (1): BatchNorm1d(768, eps=1e-05, momentum=0.1, affine=True, track_running_stats=True)\n",
       "    (2): ReLU()\n",
       "    (3): Dropout(p=0.2, inplace=False)\n",
       "  )\n",
       "  (level2_output): Linear(in_features=768, out_features=19, bias=True)\n",
       ")"
      ]
     },
     "execution_count": 38,
     "metadata": {},
     "output_type": "execute_result"
    }
   ],
   "source": [
    "new_model"
   ]
  },
  {
   "cell_type": "code",
   "execution_count": 39,
   "id": "3fe3645f-10bc-413c-b47e-88f856cf6e63",
   "metadata": {},
   "outputs": [
    {
     "data": {
      "text/plain": [
       "<All keys matched successfully>"
      ]
     },
     "execution_count": 39,
     "metadata": {},
     "output_type": "execute_result"
    }
   ],
   "source": [
    "new_model.load_state_dict(torch.load(\"../notebooks/best_model.pt\"))"
   ]
  },
  {
   "cell_type": "code",
   "execution_count": 58,
   "id": "7869ff3a-606d-452d-ac97-cefa2f314c0a",
   "metadata": {},
   "outputs": [],
   "source": [
    "new_model.eval()\n",
    "reason_text = \"đau bụng dữ dội\"\n",
    "data = tokenizer(\n",
    "    reason_text,\n",
    "    padding='max_length',\n",
    "    truncation=True,\n",
    "    max_length=128,\n",
    "    return_tensors='pt'\n",
    ")\n",
    "age_category = \"child\"\n",
    "gender = \"male\""
   ]
  },
  {
   "cell_type": "code",
   "execution_count": 59,
   "id": "72d81fea-5ad6-482d-a991-9fca0b50392f",
   "metadata": {},
   "outputs": [],
   "source": [
    "# Fix the tensor shape for user_info\n",
    "user_info = torch.tensor([[gender_encoder.transform([gender])[0], age_encoder.transform([age_category])[0]]], dtype=torch.float32)"
   ]
  },
  {
   "cell_type": "code",
   "execution_count": 60,
   "id": "6567deb4-a2d3-410f-a1cf-942be03f1631",
   "metadata": {},
   "outputs": [
    {
     "data": {
      "text/plain": [
       "({'input_ids': tensor([[    0, 24859, 92070, 67885,   104, 65166,     2,     1,     1,     1,\n",
       "              1,     1,     1,     1,     1,     1,     1,     1,     1,     1,\n",
       "              1,     1,     1,     1,     1,     1,     1,     1,     1,     1,\n",
       "              1,     1,     1,     1,     1,     1,     1,     1,     1,     1,\n",
       "              1,     1,     1,     1,     1,     1,     1,     1,     1,     1,\n",
       "              1,     1,     1,     1,     1,     1,     1,     1,     1,     1,\n",
       "              1,     1,     1,     1,     1,     1,     1,     1,     1,     1,\n",
       "              1,     1,     1,     1,     1,     1,     1,     1,     1,     1,\n",
       "              1,     1,     1,     1,     1,     1,     1,     1,     1,     1,\n",
       "              1,     1,     1,     1,     1,     1,     1,     1,     1,     1,\n",
       "              1,     1,     1,     1,     1,     1,     1,     1,     1,     1,\n",
       "              1,     1,     1,     1,     1,     1,     1,     1,     1,     1,\n",
       "              1,     1,     1,     1,     1,     1,     1,     1]]), 'attention_mask': tensor([[1, 1, 1, 1, 1, 1, 1, 0, 0, 0, 0, 0, 0, 0, 0, 0, 0, 0, 0, 0, 0, 0, 0, 0,\n",
       "          0, 0, 0, 0, 0, 0, 0, 0, 0, 0, 0, 0, 0, 0, 0, 0, 0, 0, 0, 0, 0, 0, 0, 0,\n",
       "          0, 0, 0, 0, 0, 0, 0, 0, 0, 0, 0, 0, 0, 0, 0, 0, 0, 0, 0, 0, 0, 0, 0, 0,\n",
       "          0, 0, 0, 0, 0, 0, 0, 0, 0, 0, 0, 0, 0, 0, 0, 0, 0, 0, 0, 0, 0, 0, 0, 0,\n",
       "          0, 0, 0, 0, 0, 0, 0, 0, 0, 0, 0, 0, 0, 0, 0, 0, 0, 0, 0, 0, 0, 0, 0, 0,\n",
       "          0, 0, 0, 0, 0, 0, 0, 0]])},\n",
       " tensor([[1., 1.]]))"
      ]
     },
     "execution_count": 60,
     "metadata": {},
     "output_type": "execute_result"
    }
   ],
   "source": [
    "data, user_info"
   ]
  },
  {
   "cell_type": "code",
   "execution_count": 61,
   "id": "f29a64d8-4fe7-48f5-b560-e95d9cd5609b",
   "metadata": {},
   "outputs": [
    {
     "name": "stderr",
     "output_type": "stream",
     "text": [
      "/home/ubuntu/specialist-prediction/.venv/lib/python3.10/site-packages/sklearn/preprocessing/_label.py:151: DataConversionWarning: A column-vector y was passed when a 1d array was expected. Please change the shape of y to (n_samples, ), for example using ravel().\n",
      "  y = column_or_1d(y, warn=True)\n"
     ]
    },
    {
     "data": {
      "text/plain": [
       "['tiêu hóa']"
      ]
     },
     "execution_count": 61,
     "metadata": {},
     "output_type": "execute_result"
    }
   ],
   "source": [
    "res = specialist_encoder.inverse_transform([new_model.predict(data['input_ids'], data['attention_mask'], user_info=None)])\n",
    "res.tolist()"
   ]
  },
  {
   "cell_type": "code",
   "execution_count": 62,
   "id": "5ccd8608-947c-444c-92e5-35df4b6ed6bb",
   "metadata": {},
   "outputs": [
    {
     "name": "stderr",
     "output_type": "stream",
     "text": [
      "/home/ubuntu/specialist-prediction/.venv/lib/python3.10/site-packages/sklearn/preprocessing/_label.py:151: DataConversionWarning: A column-vector y was passed when a 1d array was expected. Please change the shape of y to (n_samples, ), for example using ravel().\n",
      "  y = column_or_1d(y, warn=True)\n"
     ]
    }
   ],
   "source": [
    "res = specialist_encoder.inverse_transform([new_model.predict(data['input_ids'], data['attention_mask'], user_info=user_info)])"
   ]
  },
  {
   "cell_type": "code",
   "execution_count": 63,
   "id": "0eb242a2-f7b6-4fde-b1f9-c05f5eefc668",
   "metadata": {},
   "outputs": [
    {
     "data": {
      "text/plain": [
       "['nhi khoa']"
      ]
     },
     "execution_count": 63,
     "metadata": {},
     "output_type": "execute_result"
    }
   ],
   "source": [
    "res.tolist()"
   ]
  },
  {
   "cell_type": "code",
   "execution_count": null,
   "id": "cc71e0f4-0afc-4d3d-b31f-ae1007db841b",
   "metadata": {},
   "outputs": [],
   "source": []
  }
 ],
 "metadata": {
  "kernelspec": {
   "display_name": "Python 3 (ipykernel)",
   "language": "python",
   "name": "python3"
  },
  "language_info": {
   "codemirror_mode": {
    "name": "ipython",
    "version": 3
   },
   "file_extension": ".py",
   "mimetype": "text/x-python",
   "name": "python",
   "nbconvert_exporter": "python",
   "pygments_lexer": "ipython3",
   "version": "3.10.12"
  }
 },
 "nbformat": 4,
 "nbformat_minor": 5
}
